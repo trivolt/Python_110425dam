{
 "cells": [
  {
   "cell_type": "markdown",
   "id": "4d4133fa-d6b3-4c0d-8869-6c527c357965",
   "metadata": {},
   "source": [
    "# Практика 4\n",
    "Лекция 8 - Знакомство со строками\n",
    "\r\n",
    "Лекция 9 - Цикл for\r\n"
   ]
  },
  {
   "cell_type": "markdown",
   "id": "df394ad6-6e86-4092-a4f5-6ac841a848b5",
   "metadata": {},
   "source": [
    "1. ***Перевёрнутая лестница***\n",
    "\n",
    "Напишите программу, которая рисует перевёрнутую лестницу из звёздочек заданной высоты.\n",
    "\n",
    "    Пример вывода:\n",
    "    Введите высоту лестницы: 5  \n",
    "\n",
    "    *****\n",
    "    ****    \n",
    "    *** \n",
    "    **  \n",
    "    *\n"
   ]
  },
  {
   "cell_type": "code",
   "execution_count": 7,
   "id": "e06dfe4b-da1f-40c3-a4f4-21a969fd583f",
   "metadata": {},
   "outputs": [
    {
     "name": "stdin",
     "output_type": "stream",
     "text": [
      " 5\n"
     ]
    },
    {
     "name": "stdout",
     "output_type": "stream",
     "text": [
      "*****\n",
      "****\n",
      "***\n",
      "**\n",
      "*\n"
     ]
    }
   ],
   "source": [
    "n = int(input())\n",
    "\n",
    "for i in range(n,0,-1):\n",
    "    print('*'*i)"
   ]
  },
  {
   "cell_type": "markdown",
   "id": "ccf5ff9d-f24d-416b-bfc8-d4ae768ce927",
   "metadata": {},
   "source": [
    "2. ***Проверка текста на ASCII***\n",
    "    \n",
    "Напишите программу, которая принимает строку от пользователя и проверяет, являются ли все символы строки ASCII-символами (диапазон кодов от 0 до 127 включительно).\n",
    "\n",
    "    Пример вывода:\n",
    "    Введите текст: Python\n",
    "    Все символы ASCII: True\n",
    "    Введите текст: Привет\n",
    "    Все символы ASCII: False\n"
   ]
  },
  {
   "cell_type": "code",
   "execution_count": 9,
   "id": "2f6bb5d3-3c1a-453b-a137-317a9f78b246",
   "metadata": {},
   "outputs": [
    {
     "name": "stdin",
     "output_type": "stream",
     "text": [
      " Python\n"
     ]
    },
    {
     "name": "stdout",
     "output_type": "stream",
     "text": [
      "Все символы ASCII: True\n"
     ]
    }
   ],
   "source": [
    "text = input()\n",
    "\n",
    "flag = True\n",
    "for char in text:\n",
    "    if ord(char) > 127: \n",
    "        flag = False\n",
    "\n",
    "if flag == True: # if flag:\n",
    "    print('Все символы ASCII:',True)\n",
    "else:\n",
    "    print('Все символы ASCII:',False)\n",
    "    "
   ]
  },
  {
   "cell_type": "code",
   "execution_count": 8,
   "id": "d59bb234-9455-4918-9f05-1140d6035409",
   "metadata": {},
   "outputs": [
    {
     "data": {
      "text/plain": [
       "80"
      ]
     },
     "execution_count": 8,
     "metadata": {},
     "output_type": "execute_result"
    }
   ],
   "source": [
    "ord('P')"
   ]
  },
  {
   "cell_type": "markdown",
   "id": "4eddeb39-638c-4b58-a847-6c00cd633a20",
   "metadata": {},
   "source": [
    "3. ***Вывод строки с интервалами***\n",
    "\n",
    "Напишите программу, которая принимает строку от пользователя и выводит её символы через подчеркивание “_” на одной строке. Обратите внимание, что в конце и в начале не должно быть лишних подчеркиваний.\n",
    "\n",
    "    Пример вывода:\n",
    "    Введите строку: Python  \n",
    "    P_y_t_h_o_n\n"
   ]
  },
  {
   "cell_type": "code",
   "execution_count": 17,
   "id": "58234900-20f4-4368-af5e-84801e90cb05",
   "metadata": {},
   "outputs": [
    {
     "name": "stdin",
     "output_type": "stream",
     "text": [
      " Python\n"
     ]
    },
    {
     "name": "stdout",
     "output_type": "stream",
     "text": [
      "P_y_t_h_o_n\n"
     ]
    }
   ],
   "source": [
    "text = input() #Python\n",
    "l = len(text)\n",
    "\n",
    "for i in range(0,l):\n",
    "    if i<l-1:\n",
    "        print(text[i], end='_')\n",
    "    else:\n",
    "        print(text[i])"
   ]
  },
  {
   "cell_type": "markdown",
   "id": "78a31c33-6009-477f-a7a1-91acc1067e93",
   "metadata": {},
   "source": [
    "4. ***Проверка скобок***\n",
    "\n",
    "Задание: Напишите программу, которая проверяет правильность расстановки круглых скобок в строке.\n",
    "\n",
    "    Пример вывода:\n",
    "    Введите строку: (a+b)*(c-d)\n",
    "    Скобки расставлены правильно? True\n",
    "\n",
    "\n",
    "    Введите строку: (a+b)(*((c-d)                        \n",
    "    Скобки расставлены правильно? False"
   ]
  },
  {
   "cell_type": "code",
   "execution_count": 21,
   "id": "1e6d0cf4-8d97-416d-9712-8b771b8262de",
   "metadata": {},
   "outputs": [
    {
     "name": "stdin",
     "output_type": "stream",
     "text": [
      " )()(\n"
     ]
    },
    {
     "name": "stdout",
     "output_type": "stream",
     "text": [
      "Скобки расставлены правильно? False\n"
     ]
    }
   ],
   "source": [
    "text = input() #(a+b)*(c-d)\n",
    "\n",
    "balance = 0\n",
    "\n",
    "for char in text:\n",
    "    if char == '(':\n",
    "        balance += 1\n",
    "    elif char == ')':\n",
    "        balance -= 1\n",
    "    if balance < 0:\n",
    "        break\n",
    "\n",
    "print('Скобки расставлены правильно?', balance == 0)\n",
    "    "
   ]
  },
  {
   "cell_type": "markdown",
   "id": "bac38bb4-6005-4ec2-afef-1307cb550234",
   "metadata": {},
   "source": [
    "5. ***Поиск минимального символа***\n",
    "    \n",
    "Напишите программу, которая принимает строку от пользователя и выводит символ с минимальным кодом. Не используйте функцию min().\n",
    "\n",
    "    Пример вывода:\n",
    "    Введите строку: Hello!\n",
    "    Минимальный символ: !\n"
   ]
  },
  {
   "cell_type": "code",
   "execution_count": 23,
   "id": "da580cae-054d-4138-8476-1f1b240eae38",
   "metadata": {},
   "outputs": [
    {
     "name": "stdin",
     "output_type": "stream",
     "text": [
      " Hello!\n"
     ]
    },
    {
     "name": "stdout",
     "output_type": "stream",
     "text": [
      "Минимальный символ: !  ASCII:  33\n"
     ]
    }
   ],
   "source": [
    "text = input('Введите не пустую строку:') #Hello!\n",
    "\n",
    "mn_code = ord(text[0])\n",
    "for char in text:\n",
    "    if ord(char) < mn_code:\n",
    "        mn_code = ord(char)\n",
    "\n",
    "print('Минимальный символ:',chr(mn_code), ' ASCII: ', mn_code)"
   ]
  },
  {
   "cell_type": "markdown",
   "id": "0ba52620-05b7-4a71-8f5e-5da6d86af6d2",
   "metadata": {},
   "source": [
    "6. ***Четные и нечетные цифры***\n",
    "    \n",
    "Напишите программу, которая принимает одно число и формирует из его цифр два новых числа: одно из четных цифр, другое из нечетных. Если в числе нет четных или нечетных цифр, программа должна выводить 0 вместо числа.\n",
    "\n",
    "    Пример вывода:\n",
    "    Введите число: 238947203429\n",
    "    Число из четных цифр: 2842042\n",
    "    Число из нечетных цифр: 39739\n",
    "    Введите число: 482262\n",
    "    Число из четных цифр: 482262\n",
    "    Число из нечетных цифр: 0\n"
   ]
  },
  {
   "cell_type": "code",
   "execution_count": 26,
   "id": "a10fcb25-4ae8-42c1-bb67-882e96473000",
   "metadata": {},
   "outputs": [
    {
     "name": "stdin",
     "output_type": "stream",
     "text": [
      " 482262\n"
     ]
    },
    {
     "name": "stdout",
     "output_type": "stream",
     "text": [
      "Число из четных цифр: 482262\n",
      "Число из нечетных цифр: 0\n"
     ]
    }
   ],
   "source": [
    "number = input() #238947203429\n",
    "\n",
    "odd = ''\n",
    "even = ''\n",
    "\n",
    "for dig in number:\n",
    "    if int(dig) % 2 == 0:\n",
    "        even += dig\n",
    "    else:\n",
    "        odd += dig\n",
    "\n",
    "if len(even)>0:\n",
    "    print('Число из четных цифр:',even)\n",
    "else:\n",
    "    print('Число из четных цифр:',0)\n",
    "if len(odd)>0:    \n",
    "    print('Число из нечетных цифр:',odd)\n",
    "else:\n",
    "    print('Число из нечетных цифр:',0)"
   ]
  },
  {
   "cell_type": "markdown",
   "id": "ceafd47c-1c22-4aa0-822b-1e2e2559c0fc",
   "metadata": {},
   "source": [
    "7. ***Строка из диапазона Unicode***\n",
    "   \n",
    "Напишите программу, которая принимает два числа (начало и конец диапазона Unicode) и выводит строку, состоящую из всех символов этого диапазона.\n",
    "\n",
    "    Пример вывода:   \n",
    "    Введите начальный код: 65   \n",
    "    Введите конечный код: 70    \n",
    "    Символы: ABCDEF\n"
   ]
  },
  {
   "cell_type": "code",
   "execution_count": 30,
   "id": "3be0bbfd-3a96-4e32-9978-fab2af3c8baa",
   "metadata": {},
   "outputs": [
    {
     "name": "stdin",
     "output_type": "stream",
     "text": [
      "Введите начальный код: 70\n",
      "Введите конечный код: 60\n"
     ]
    },
    {
     "name": "stdout",
     "output_type": "stream",
     "text": [
      "FEDCBA@?>\n"
     ]
    }
   ],
   "source": [
    "start = int(input('Введите начальный код:'))\n",
    "end = int(input('Введите конечный код:'))\n",
    "result = ''\n",
    "\n",
    "if start < end:\n",
    "\n",
    "    for code in range(start,end+1):\n",
    "        result += chr(code)\n",
    "else:\n",
    "    for code in range(start,end+1,-1):\n",
    "        result += chr(code)\n",
    "\n",
    "print(result)"
   ]
  },
  {
   "cell_type": "markdown",
   "id": "958e545e-e3d8-45e8-9c15-b037c7126248",
   "metadata": {},
   "source": [
    "8. ***Одинаковая сумма кодов***\n",
    "    \n",
    "Напишите программу, которая проверяет, имеют ли две строки одинаковые суммы кодов символов. Например буквы в 'XYZ' имеют коды 88, 89, 90, в 'BACE' коды 66, 65, 67,69, но сумма у них одинаковая – 267.\n",
    "\n",
    "    Пример вывода:\n",
    "    Введите первую строку: acc\n",
    "    Введите вторую строку: egg \n",
    "    Одинаковая сумма? False\n"
   ]
  },
  {
   "cell_type": "code",
   "execution_count": 34,
   "id": "e2daa0d8-33b5-4e78-89fa-0946529fcf8a",
   "metadata": {},
   "outputs": [
    {
     "name": "stdin",
     "output_type": "stream",
     "text": [
      "Введите первую строку: 1\n",
      "Введите вторую строку: 2\n"
     ]
    },
    {
     "name": "stdout",
     "output_type": "stream",
     "text": [
      "Одинаковая сумма? False\n"
     ]
    }
   ],
   "source": [
    "str1 = input('Введите первую строку:')\n",
    "str2 = input('Введите вторую строку:')\n",
    "\n",
    "sum1=0\n",
    "sum2=0\n",
    "for char in str1:\n",
    "    sum1+=ord(char)\n",
    "\n",
    "for char in str2:\n",
    "    sum2+=ord(char)\n",
    "\n",
    "print('Одинаковая сумма?', sum1==sum2)"
   ]
  },
  {
   "cell_type": "markdown",
   "id": "15f29867-1405-44d6-a41c-8e63c0394bdd",
   "metadata": {},
   "source": [
    "9. ***Длина слов***\n",
    "\n",
    "Напишите программу, которая принимает строку, разделяет её на слова по пробелам и выводит каждое слово с его длиной.\n",
    "    \n",
    "    Пример вывода:\n",
    "    Введите строку: Программирование это весело\n",
    "    Слово: Программирование, Длина: 16\n",
    "    Слово: это, Длина: 3\n",
    "    Слово: весело, Длина: 6\n"
   ]
  },
  {
   "cell_type": "code",
   "execution_count": 35,
   "id": "49955687-5211-4496-8914-e51e4acbaba7",
   "metadata": {},
   "outputs": [
    {
     "name": "stdin",
     "output_type": "stream",
     "text": [
      "Введите строку: Программирование это весело\n"
     ]
    },
    {
     "name": "stdout",
     "output_type": "stream",
     "text": [
      "Слово:  Программирование , Длина:  16\n",
      "Слово:  это , Длина:  3\n",
      "Слово:  весело , Длина:  6\n"
     ]
    }
   ],
   "source": [
    "text = input('Введите строку:')\n",
    "\n",
    "word = ''\n",
    "\n",
    "for char in text:\n",
    "    if char != ' ':\n",
    "        word += char\n",
    "    else:\n",
    "        if word:\n",
    "            print('Слово: ',word,', Длина: ',len(word))\n",
    "            word = ''\n",
    "if word:\n",
    "    print('Слово: ',word,', Длина: ',len(word))"
   ]
  },
  {
   "cell_type": "code",
   "execution_count": 42,
   "id": "b6e59485-5b29-43db-9683-4a90b2a39d3a",
   "metadata": {},
   "outputs": [
    {
     "name": "stdin",
     "output_type": "stream",
     "text": [
      " 0\n"
     ]
    },
    {
     "name": "stdout",
     "output_type": "stream",
     "text": [
      "-\n"
     ]
    }
   ],
   "source": []
  },
  {
   "cell_type": "code",
   "execution_count": null,
   "id": "bc022246-7c71-4ac7-ade7-0154f6a87e0d",
   "metadata": {},
   "outputs": [],
   "source": []
  },
  {
   "cell_type": "markdown",
   "id": "d65dcf79-8f2b-4cfb-b30a-890e52e0d181",
   "metadata": {},
   "source": [
    "10. ***Текст палиндром***\n",
    "    \n",
    "Напишите программу, которая принимает строку и проверяет, является ли она палиндромом, игнорируя всё кроме букв русского и английского алфавита.\n",
    "    \n",
    "    Пример вывода:\n",
    "    Введите строку: А роза упала на лапу Азора\n",
    "    Палиндром? True\n"
   ]
  },
  {
   "cell_type": "code",
   "execution_count": null,
   "id": "1cf7ff8e-fe85-49e5-b97d-69e7351a8df1",
   "metadata": {},
   "outputs": [],
   "source": [
    "text = input('Введите строку:')\n",
    "\n",
    "fiter = ''\n",
    "\n",
    "for char in text:\n",
    "    if ('A' <= char <= 'Z') or ('a' <= char <= 'z') or ('А' <= char <= 'Я') or ('а' <= char <= 'я'):\n",
    "        if 'A' <= char <= 'Z':\n",
    "            char = chr(ord(char)+32)\n",
    "            "
   ]
  },
  {
   "cell_type": "markdown",
   "id": "486edc46-21e0-4f0e-b5f4-d0993411d7c1",
   "metadata": {},
   "source": [
    "11. ***Все буквы алфавита***\n",
    "    \n",
    "Напишите программу, которая проверяет, содержит ли введённая строка все буквы английского алфавита (без учёта регистра).\n",
    "\n",
    "    Пример вывода:\n",
    "    Введите строку: The quick brown fox jumps over the lazy dog\n",
    "    Содержит все буквы алфавита? True\n"
   ]
  },
  {
   "cell_type": "code",
   "execution_count": null,
   "id": "7075a5f2-d7fe-45cf-b04d-fc7b08fc0502",
   "metadata": {},
   "outputs": [],
   "source": []
  },
  {
   "cell_type": "markdown",
   "id": "0c5e20e2-210d-4ec5-b4a6-3eccc6f4971d",
   "metadata": {},
   "source": [
    "12. ***Сравнение строк на уникальность***\n",
    "    \n",
    "Напишите программу, которая принимает две строки и сравнивает в какой из них больше уникальных символов.\n",
    "\n",
    "    Пример вывода:\n",
    "    Введите первую строку: Python  \n",
    "    Введите вторую строку: JavaJava  \n",
    "    Больше уникальных символов в строке: Python\n"
   ]
  },
  {
   "cell_type": "code",
   "execution_count": null,
   "id": "0a1fafa4-2a84-421c-8ae2-e5c9e8b6b226",
   "metadata": {},
   "outputs": [],
   "source": []
  },
  {
   "cell_type": "markdown",
   "id": "b7f21b3b-bff5-48af-9d83-2bbdba4759f9",
   "metadata": {},
   "source": [
    "13. ***Счётчик символов***\n",
    "\n",
    "Напишите программу, которая принимает строку и подсчитывает количество английских букв, цифр и остальных символов в строке.\n",
    "\n",
    "    Пример вывода:\n",
    "    Введите строку: Python 3.12!\n",
    "    Букв: 6  \n",
    "    Цифр: 3  \n",
    "    Остальных символов: 3\n"
   ]
  },
  {
   "cell_type": "code",
   "execution_count": null,
   "id": "8bfdd4ff-1313-4f71-8685-abf3d283331a",
   "metadata": {},
   "outputs": [],
   "source": []
  }
 ],
 "metadata": {
  "kernelspec": {
   "display_name": "Python 3 (ipykernel)",
   "language": "python",
   "name": "python3"
  },
  "language_info": {
   "codemirror_mode": {
    "name": "ipython",
    "version": 3
   },
   "file_extension": ".py",
   "mimetype": "text/x-python",
   "name": "python",
   "nbconvert_exporter": "python",
   "pygments_lexer": "ipython3",
   "version": "3.12.4"
  }
 },
 "nbformat": 4,
 "nbformat_minor": 5
}
