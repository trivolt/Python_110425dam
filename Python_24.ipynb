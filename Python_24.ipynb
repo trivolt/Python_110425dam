{
 "cells": [
  {
   "cell_type": "markdown",
   "id": "facb680c-9613-44b9-bbe3-c9de047984a7",
   "metadata": {},
   "source": [
    "# Лекция 24 - Рекурсия"
   ]
  },
  {
   "cell_type": "markdown",
   "id": "223dd6de-5c2f-48a8-8728-15853892cbca",
   "metadata": {},
   "source": [
    "## Стек вызовов\n",
    "Стек вызовов (call stack) – это структура данных, которая используется для управления порядком выполнения функций в программе. Когда функция вызывается, её данные помещаются в стек, а после завершения работы – удаляются из него.\n",
    "### Основные принципы работы стека вызовов:\n",
    "1. LIFO (Last In, First Out) – последняя вызванная функция выполняется первой.\n",
    "2. Каждый вызов функции добавляет новый фрейм в стек вызовов.\n",
    "3. Когда функция завершается (return), её фрейм удаляется из стека.\n"
   ]
  },
  {
   "cell_type": "markdown",
   "id": "4f6c7a0a-50a4-421c-a6ef-ef9875530ec6",
   "metadata": {},
   "source": [
    "### Как работает стек вызовов?\n",
    "Рассмотрим пример вложенных вызовов функций:\n"
   ]
  },
  {
   "cell_type": "code",
   "execution_count": null,
   "id": "6b7f98b8-f31c-43cf-b439-3046f49d42c3",
   "metadata": {},
   "outputs": [],
   "source": [
    "def function_a():\n",
    "    print(\"Начало A\")\n",
    "    function_b()\n",
    "    print(\"Конец A\")\n",
    "\n",
    "\n",
    "def function_b():\n",
    "    print(\"Начало B\")\n",
    "    function_c()\n",
    "    print(\"Конец B\")\n",
    "\n",
    "\n",
    "def function_c():\n",
    "    print(\"Начало C\")\n",
    "    print(\"Конец C\")\n",
    "\n",
    "\n",
    "function_a()\n"
   ]
  },
  {
   "cell_type": "markdown",
   "id": "8e3cd2d9-b7ea-4dad-a5dc-efb8c0989464",
   "metadata": {},
   "source": [
    "https://pythontutor.com/render.html#mode=display"
   ]
  },
  {
   "cell_type": "markdown",
   "id": "9fb83818-7c00-49da-aea2-7ef47a5bb72a",
   "metadata": {},
   "source": [
    "#### Разбор работы стека вызовов:\n",
    "* `function_a()` вызывается → добавляется в стек.\n",
    "* `function_a()` вызывает function_b() → function_b() добавляется в стек → function_a() остается на \"паузе\".\n",
    "* `function_b()` вызывает function_c() → function_c() добавляется в стек → function_b() остается на \"паузе\".\n",
    "* `function_c()` выполняется → удаляется из стека → выполнение продолжается там, где был вызов function_c()\n",
    "* `function_b()` завершает выполнение → удаляется из стека → выполнение продолжается там, где был вызов function_b()\n",
    "* `function_a()` завершает выполнение → удаляется из стека.\n"
   ]
  },
  {
   "cell_type": "markdown",
   "id": "d0f192fa-3bcb-4529-a3fc-91f63e8e7e85",
   "metadata": {},
   "source": [
    "## Рекурсия\n",
    "Рекурсия — это подход в программировании, при котором функция вызывает саму себя. Такой подход позволяет разбить сложную задачу на меньшие подзадачи, которые решаются тем же алгоритмом.\n",
    "### Принцип работы рекурсивной функции\n",
    "Любая рекурсивная функция должна содержать два основных компонента:\n",
    "1. Базовый случай (base case) – это условие, при котором рекурсия останавливается.\n",
    "2. Рекурсивный случай (recursive case) – это вызов функции самой себя с изменёнными аргументами, приближающими задачу к базовому случаю.\n"
   ]
  },
  {
   "cell_type": "code",
   "execution_count": null,
   "id": "0f1723c5-b9bb-4483-a56d-9ee1ecc63f6d",
   "metadata": {},
   "outputs": [],
   "source": [
    "#Пример 1: Простейшая рекурсивная функция (вывод чисел от n до 1)\n",
    "def countdown(n: int) -> None:\n",
    "    if n <= 0:  # Базовый случай\n",
    "        print(\"Конец!\")\n",
    "        return\n",
    "    print(n)\n",
    "    countdown(n - 1)  # Рекурсивный случай\n",
    "\n",
    "\n",
    "countdown(5)\n"
   ]
  },
  {
   "cell_type": "code",
   "execution_count": null,
   "id": "bb840d4c-44bc-4cbc-abd3-12c0719b7102",
   "metadata": {},
   "outputs": [],
   "source": [
    "#Часто тот же процесс можно реализовать с помощью цикла:\n",
    "def countdown_iterative(n: int) -> None:\n",
    "    while n > 0:\n",
    "        print(n)\n",
    "        n -= 1\n",
    "    print(\"Конец!\")\n",
    "\n",
    "\n",
    "countdown_iterative(5)\n"
   ]
  },
  {
   "cell_type": "markdown",
   "id": "f5aa476e-569a-497c-aeab-f76706b891a0",
   "metadata": {},
   "source": [
    "### RecursionError\n",
    "Когда функция вызывает саму себя (рекурсия), каждый новый вызов создаёт новый фрейм в стеке, что может привести к переполнению стека (RecursionError).\n"
   ]
  },
  {
   "cell_type": "code",
   "execution_count": null,
   "id": "96827134-9186-4315-a4c9-7a4dc9f51344",
   "metadata": {},
   "outputs": [],
   "source": [
    "#Пример бесконечной рекурсии (не делать так!):\n",
    "def infinite_recursion():\n",
    "    infinite_recursion()\n",
    "\n",
    "\n",
    "infinite_recursion()\n",
    "#Этот код вызовет ошибку RecursionError: maximum recursion depth exceeded, так как стек вызовов заполнится и программа завершится сбоем.\n"
   ]
  },
  {
   "cell_type": "markdown",
   "id": "593b84cd-a34b-4ead-8543-2b87be9f2cb2",
   "metadata": {},
   "source": [
    "### Примеры рекурсивных функций\n",
    "***1. Факториал числа***   \n",
    "Факториал числа n! – это произведение всех чисел от 1 до n.  \n",
    "Рекурсивная реализация:\n"
   ]
  },
  {
   "cell_type": "code",
   "execution_count": null,
   "id": "765dd350-e289-4b65-937b-e6b21f282947",
   "metadata": {},
   "outputs": [],
   "source": [
    "def factorial(n: int) -> int:\n",
    "    if n == 0 or n == 1:  # Базовый случай\n",
    "        return 1\n",
    "    return n * factorial(n - 1)  # Рекурсивный случай\n",
    "\n",
    "\n",
    "print(factorial(5))"
   ]
  },
  {
   "cell_type": "markdown",
   "id": "874f1521-b233-4618-85b5-a6782ffaf5e6",
   "metadata": {},
   "source": [
    "***2. Бинарный поиск (поиск в отсортированном списке)***  \n",
    "Бинарный поиск – это эффективный алгоритм поиска элемента в отсортированном списке.  \n",
    "Рекурсивная реализация:\n"
   ]
  },
  {
   "cell_type": "code",
   "execution_count": null,
   "id": "31e84f21-089e-4561-872a-79856b01ea75",
   "metadata": {},
   "outputs": [],
   "source": [
    "def binary_search(arr: list[int], target: int, left: int, right: int) -> int:\n",
    "    if left > right:  # Базовый случай: элемент не найден\n",
    "        return -1\n",
    "    mid = (left + right) // 2\n",
    "    if arr[mid] == target:\n",
    "        return mid\n",
    "    elif arr[mid] < target:\n",
    "        return binary_search(arr, target, mid + 1, right)  # Поиск в правой части\n",
    "    else:\n",
    "        return binary_search(arr, target, left, mid - 1)  # Поиск в левой части\n",
    "\n",
    "\n",
    "array = [1, 3, 5, 7, 9, 11, 13]\n",
    "print(binary_search(array, 5, 0, len(array) - 1)) \n",
    "print(binary_search(array, 13, 0, len(array) - 1))  \n",
    "print(binary_search(array, 8, 0, len(array) - 1))  \n"
   ]
  },
  {
   "cell_type": "markdown",
   "id": "a2e5c34f-1108-433e-945b-1a008b50aadb",
   "metadata": {},
   "source": [
    "### Хвостовая рекурсия  \n",
    "Хвостовая рекурсия – это особый вид рекурсии, в котором рекурсивный вызов является последней операцией функции перед возвратом результата.  \n",
    "***Разница между обычной и хвостовой рекурсией*** \n"
   ]
  },
  {
   "cell_type": "code",
   "execution_count": null,
   "id": "7e28bac1-a2ed-4d61-8cde-4c8053152289",
   "metadata": {},
   "outputs": [],
   "source": [
    "#Обычная рекурсия\n",
    "def factorial(n: int) -> int:\n",
    "    if n == 0 or n == 1:\n",
    "        return 1\n",
    "    return n * factorial(n - 1)  # После вызова factorial(n-1) нужно ещё умножить на n\n",
    "\n",
    "\n",
    "print(factorial(3)) \n"
   ]
  },
  {
   "cell_type": "code",
   "execution_count": null,
   "id": "6df80a89-ec0b-4904-a3f7-82ce3e75e48a",
   "metadata": {},
   "outputs": [],
   "source": [
    "В обычной рекурсии после рекурсивного вызова функция ещё выполняет вычисления!!!!"
   ]
  },
  {
   "cell_type": "markdown",
   "id": "54b32599-0b6e-4cf0-8c89-baa7d84f63dd",
   "metadata": {},
   "source": [
    "*Как работает factorial(3)?*\n",
    "\n",
    "1. `3 * factorial(2)`\n",
    "\n",
    "2. `3 * (2 * factorial(1))`\n",
    "\n",
    "3. `3 * (2 * (1 * factorial(0)))`\n",
    "\n",
    "4. `3 * (2 * (1 * 1))) → 6`\n",
    "\n",
    "Проблема: Каждый вызов сохраняется в стеке, и если рекурсия глубокая – может быть переполнение стека."
   ]
  },
  {
   "cell_type": "code",
   "execution_count": null,
   "id": "fc159c5b-ad4a-4197-935b-c0a532ee9522",
   "metadata": {},
   "outputs": [],
   "source": [
    "В хвостовой рекурсии вызов функции – это последнее действие, и никаких вычислений после него не требуется."
   ]
  },
  {
   "cell_type": "code",
   "execution_count": null,
   "id": "35176bfa-b7ff-45b9-b8ca-ebc05f0b532c",
   "metadata": {},
   "outputs": [],
   "source": [
    "#Хвостовая рекурсия\n",
    "def factorial_tail(n: int, accumulator: int = 1) -> int:\n",
    "    if n == 0 or n == 1:\n",
    "        return accumulator\n",
    "    return factorial_tail(n - 1, n * accumulator) # Всё посчитано, просто передаём дальше\n",
    "\n",
    "\n",
    "print(factorial_tail(5))\n"
   ]
  },
  {
   "cell_type": "markdown",
   "id": "ea05156a-2dd9-4f37-936d-b92ee606eb6b",
   "metadata": {},
   "source": [
    "*Как работает factorial_tail(3)?*\n",
    "\n",
    "1. `factorial_tail(3, 1)`\n",
    "\n",
    "2. `factorial_tail(2, 3)`\n",
    "\n",
    "3. `factorial_tail(1, 6)`\n",
    "\n",
    "4. `factorial_tail(0, 6) → 6`"
   ]
  },
  {
   "cell_type": "markdown",
   "id": "c19dfd12-9d70-425a-8a1b-92e8e18d407c",
   "metadata": {},
   "source": [
    "***Почему это лучше?***\n",
    "\n",
    "* Компиляторы/интерпретаторы могут оптимизировать хвостовую рекурсию (TCO – Tail Call Optimization), превращая её в цикл и экономя память.\n",
    "\n",
    "* Не растёт стек вызовов."
   ]
  },
  {
   "cell_type": "markdown",
   "id": "1b505ea4-32b5-480a-96cf-151b3278763b",
   "metadata": {},
   "source": [
    "***Но ...***"
   ]
  },
  {
   "cell_type": "markdown",
   "id": "c66a32b4-c347-4535-bf8b-7a00372376fe",
   "metadata": {},
   "source": [
    "* В Python нет встроенной оптимизации хвостовой рекурсии, которая заменяет хвостовой рекурсивный вызов на повторное использование текущего кадра стека, что позволяет избежать переполнения стека.\n",
    "* Поэтому рекомендуется заменять хвостовую рекурсию на итерацию, чтобы избежать переполнения стека при большом количестве рекурсивных вызовов."
   ]
  },
  {
   "cell_type": "code",
   "execution_count": null,
   "id": "a8591520-7fde-4b62-82ed-f8f6e22110d6",
   "metadata": {},
   "outputs": [],
   "source": [
    "#Итеративный вариант факториала\n",
    "def factorial_iterative(n: int) -> int:\n",
    "    accumulator = 1\n",
    "    while n > 1:\n",
    "        accumulator *= n\n",
    "        n -= 1\n",
    "    return accumulator\n",
    "\n",
    "\n",
    "print(factorial_iterative(5))\n"
   ]
  },
  {
   "cell_type": "code",
   "execution_count": null,
   "id": "73be2116-02be-4aaf-9ff5-d19361297aa2",
   "metadata": {},
   "outputs": [],
   "source": [
    "#Что произойдёт при выполнении следующего кода?\n",
    "def infinite():\n",
    "    return infinite()\n",
    "\n",
    "\n",
    "infinite()\n"
   ]
  },
  {
   "cell_type": "code",
   "execution_count": null,
   "id": "5c87334d-27f0-4156-b896-3df6f2ed4cee",
   "metadata": {},
   "outputs": [],
   "source": [
    "#У вас есть две функции. Чем они отличаются и что будет выведено в результате выполнения?\n",
    "def print_numbers(n):\n",
    "    if n == 0:\n",
    "        return\n",
    "    print(n)\n",
    "    print_numbers(n - 1)\n",
    "\n",
    "\n",
    "def print_nums(n):\n",
    "    if n == 0:\n",
    "        return\n",
    "    print_nums(n - 1)\n",
    "    print(n)\n"
   ]
  },
  {
   "cell_type": "code",
   "execution_count": null,
   "id": "cd885fb8-e54f-46ce-8d81-590caaf2bdfc",
   "metadata": {},
   "outputs": [],
   "source": [
    "print_numbers(5)"
   ]
  },
  {
   "cell_type": "code",
   "execution_count": null,
   "id": "581549ed-e0bd-406a-87b4-d022c5f277e5",
   "metadata": {},
   "outputs": [],
   "source": [
    "print_nums(5)"
   ]
  },
  {
   "cell_type": "markdown",
   "id": "fdb59a3b-f078-4947-bc27-f2b9e0c812ff",
   "metadata": {},
   "source": [
    "# Рекурсия или итерация?\n",
    "Рекурсия и итерация – два подхода к решению задач, которые могут быть взаимозаменяемыми в некоторых задачах. Однако выбор между ними зависит от производительности, читабельности кода и ограничений памяти.\n",
    "### Преимущества и недостатки рекурсии  \n",
    "***Плюсы:***  \n",
    "* Позволяет разделить сложную задачу на подзадачи.\n",
    "* Упрощает чтение кода (например, обход деревьев и графов).\n",
    "* Некоторые алгоритмы легче выразить рекурсивно (например, поиск пути в лабиринте).\n",
    " \n",
    "***Минусы:***  \n",
    "* Может привести к переполнению стека (RecursionError).\n",
    "* Медленнее итеративных решений из-за затрат на вызовы функций.\n",
    "* Использует дополнительную память (каждый вызов создаёт новый стековый фрейм).\n",
    "  \n",
    "***Когда использовать рекурсию?***  \n",
    "* Когда задача делится на подзадачи (разбиение на более мелкие части).\n",
    "* Для работы с деревьями, графами и вложенными структурами.\n",
    "* Когда важна выразительность кода (код читается легче, чем итеративная версия).\n",
    "\n",
    "***Когда использовать итерацию?***  \n",
    "* Когда рекурсия создаёт избыточную нагрузку на стек вызовов.\n",
    "* Когда можно решить задачу без хранения промежуточных вызовов.\n",
    "* Когда важна эффективность по памяти и скорости.\n",
    "### Задачи, решаемые рекурсией  \n",
    "Некоторые задачи сложно или невозможно эффективно решить без использования рекурсии. Это связано с необходимостью разбиения задачи на более мелкие подзадачи, а также с работой со сложными вложенными структурами.\n",
    "1. Обход дерева (DFS - поиск в глубину)  \n",
    "Дерево – это иерархическая структура данных, где каждый узел может иметь несколько дочерних узлов. Рекурсивный подход позволяет обойти все узлы, последовательно углубляясь в каждый из них.\n",
    "2. Обход графа (DFS, рекурсивный поиск путей)  \n",
    "Граф – это структура, состоящая из узлов и рёбер, соединяющих их. Использование рекурсии в глубинном поиске позволяет эффективно находить пути между вершинами.\n",
    "3. Разбор выражений и синтаксический анализ  \n",
    "При обработке вложенных математических выражений или языковых конструкций удобно использовать рекурсию, так как каждое подвыражение может рассматриваться как самостоятельная подзадача.\n",
    "4. Ханойские башни  \n",
    "Задача, требующая последовательного перемещения дисков между тремя стержнями с сохранением их порядка. Разбивается на две меньшие аналогичные задачи, что делает рекурсию естественным решением.\n",
    "5. Разбиение на подмножества и комбинаторика  \n",
    "Задачи, связанные с генерацией всех возможных комбинаций, перестановок и подмножеств множества, решаются с разбиением на подзадачи: выбор одного элемента и рекурсивное построение оставшейся структуры.\n"
   ]
  },
  {
   "cell_type": "markdown",
   "id": "25826fb5-084e-48e3-b9b9-30b9c6d174c7",
   "metadata": {},
   "source": [
    "### Практические задания 24\n",
    "***Обратный вывод строки***  \n",
    "Напишите рекурсивную функцию, которая выводит строку в обратном порядке.  \n",
    "Данные:  \n",
    "`text = \"hello\"`  \n",
    "Пример вывода:  \n",
    "`olleh`\n"
   ]
  },
  {
   "cell_type": "code",
   "execution_count": null,
   "id": "a1212904-0f9c-4d3c-af83-3a093fb5cc02",
   "metadata": {},
   "outputs": [],
   "source": [
    "def reverse_string(s):\n",
    "    if not s:\n",
    "        return \"\"\n",
    "    return s[-1] + reverse_string(s[:-1])\n",
    "\n",
    "\n",
    "\n",
    "\n",
    "text = \"hello\"\n",
    "print(reverse_string(text))\n"
   ]
  },
  {
   "cell_type": "code",
   "execution_count": null,
   "id": "e67cedd5-880f-4db0-bdc8-51e43d84e025",
   "metadata": {},
   "outputs": [],
   "source": []
  }
 ],
 "metadata": {
  "kernelspec": {
   "display_name": "Python 3 (ipykernel)",
   "language": "python",
   "name": "python3"
  },
  "language_info": {
   "codemirror_mode": {
    "name": "ipython",
    "version": 3
   },
   "file_extension": ".py",
   "mimetype": "text/x-python",
   "name": "python",
   "nbconvert_exporter": "python",
   "pygments_lexer": "ipython3",
   "version": "3.12.4"
  }
 },
 "nbformat": 4,
 "nbformat_minor": 5
}
