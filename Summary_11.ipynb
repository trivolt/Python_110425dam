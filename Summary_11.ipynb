{
 "cells": [
  {
   "cell_type": "markdown",
   "id": "ccb5d029-2924-495a-9042-f410a43ca200",
   "metadata": {},
   "source": [
    "# Summary 11"
   ]
  },
  {
   "cell_type": "code",
   "execution_count": null,
   "id": "b2701d53-d72f-411c-9945-6c629f4d345f",
   "metadata": {},
   "outputs": [],
   "source": []
  },
  {
   "cell_type": "code",
   "execution_count": null,
   "id": "52a4d4b6-91f6-4d30-a231-da4f116f9098",
   "metadata": {},
   "outputs": [],
   "source": []
  },
  {
   "cell_type": "markdown",
   "id": "9cb80be7-0bd5-42e6-a924-1aca9ec80bd1",
   "metadata": {},
   "source": [
    "Ввод данных списка с клавиатуры"
   ]
  },
  {
   "cell_type": "code",
   "execution_count": 20,
   "id": "533b7436-ed55-4844-824a-a659a9c5e837",
   "metadata": {},
   "outputs": [
    {
     "name": "stdin",
     "output_type": "stream",
     "text": [
      " 1 2 3 4 5\n"
     ]
    },
    {
     "data": {
      "text/plain": [
       "[1, 2, 3, 4, 5]"
      ]
     },
     "execution_count": 20,
     "metadata": {},
     "output_type": "execute_result"
    }
   ],
   "source": [
    "list(map(int, input().split()))\n"
   ]
  },
  {
   "cell_type": "markdown",
   "id": "b5bc7ecf-c6de-4ded-a06d-b270cbdfbe1d",
   "metadata": {},
   "source": [
    "Преобразование списка в названия чисел (odd, even) с использованием функционального подхода.\n",
    "numbers = [1, 2, 3, 4, 5, 12, 4, 78]"
   ]
  },
  {
   "cell_type": "code",
   "execution_count": 22,
   "id": "5fae6da6-e010-4ee7-9759-d7d7d30112d5",
   "metadata": {},
   "outputs": [
    {
     "name": "stdout",
     "output_type": "stream",
     "text": [
      "['odd', 'even', 'odd', 'even', 'odd', 'even', 'even', 'even']\n"
     ]
    }
   ],
   "source": [
    "numbers = [1, 2, 3, 4, 5, 12, 4, 78]\n",
    "\n",
    "print(list(map(lambda x: 'even' if x%2 == 0 else 'odd', numbers)))"
   ]
  },
  {
   "cell_type": "markdown",
   "id": "f960581f-010f-4415-ab11-fd1c764695c4",
   "metadata": {},
   "source": [
    "Напишите программу, которая принимает список чисел от пользователя и использует функцию map, чтобы преобразовать каждый элемент списка в его квадрат. Затем программа должна использовать функцию filter, чтобы отфильтровать только те элементы, которые являются четными числами. В результате программа должна вывести новый список, содержащий квадраты только четных чисел."
   ]
  },
  {
   "cell_type": "code",
   "execution_count": 23,
   "id": "ca3944d8-b60e-4393-bbf6-ad8bfa7d3a85",
   "metadata": {},
   "outputs": [],
   "source": [
    "def foo(x):\n",
    "    if x%3 == 0 and x%2 == 0:\n",
    "        return True\n",
    "    return False"
   ]
  },
  {
   "cell_type": "code",
   "execution_count": 25,
   "id": "0a79c5d2-4ecc-4ac7-a05a-f881e101be52",
   "metadata": {},
   "outputs": [
    {
     "data": {
      "text/plain": [
       "[12, 78]"
      ]
     },
     "execution_count": 25,
     "metadata": {},
     "output_type": "execute_result"
    }
   ],
   "source": [
    "list(filter(foo, numbers))"
   ]
  },
  {
   "cell_type": "code",
   "execution_count": 26,
   "id": "b4a84d64-5662-481b-8075-ed5ce0a09fd3",
   "metadata": {},
   "outputs": [
    {
     "data": {
      "text/plain": [
       "[12, 78]"
      ]
     },
     "execution_count": 26,
     "metadata": {},
     "output_type": "execute_result"
    }
   ],
   "source": [
    "list(filter(lambda x: True if x%3 == 0 and x%2 == 0 else False, numbers))"
   ]
  },
  {
   "cell_type": "markdown",
   "id": "69e9303c-7089-4231-be10-0b92bc3b19dc",
   "metadata": {},
   "source": [
    "### ДЗ 21"
   ]
  },
  {
   "cell_type": "markdown",
   "id": "4db49a59-692a-4b5c-9ee4-a57aa8692420",
   "metadata": {},
   "source": [
    "#### 1. Повторения букв  \n",
    "Реализуйте функцию, которая принимает текст и возвращает словарь с подсчётом количества каждой буквы, игнорируя регистр.  \n",
    "Данные:  \n",
    "`text = \"Programming is fun!\"`\n",
    "\n",
    "Пример вывода:  \n",
    "`{'p': 1, 'r': 2, 'o': 1, 'g': 2, 'a': 1, 'm': 2, 'i': 2, 'n': 2, 's': 1, 'f': 1, 'u': 1}`\n"
   ]
  },
  {
   "cell_type": "code",
   "execution_count": 13,
   "id": "d7fbae50-1118-4201-9526-ecb7e9c7ce09",
   "metadata": {},
   "outputs": [
    {
     "name": "stdout",
     "output_type": "stream",
     "text": [
      "Counter({'Programming': 1, 'is': 1, 'fun!': 1})\n"
     ]
    }
   ],
   "source": [
    "from collections import Counter\n",
    "\n",
    "text = \"Programming is fun!\"\n",
    "print(Counter(text.split()))"
   ]
  },
  {
   "cell_type": "code",
   "execution_count": null,
   "id": "89deb8ea-5d92-4ea6-9cdc-f4fb8a8df06f",
   "metadata": {},
   "outputs": [],
   "source": []
  },
  {
   "cell_type": "code",
   "execution_count": null,
   "id": "32545538-ffd5-4f3c-a18d-610b060a7a32",
   "metadata": {},
   "outputs": [],
   "source": []
  },
  {
   "cell_type": "code",
   "execution_count": 14,
   "id": "c29a4f21-16c4-4a4c-855b-3a433b93028c",
   "metadata": {},
   "outputs": [],
   "source": [
    "from collections import Counter\n",
    "\n",
    "def count_letters(text):\n",
    "    text = text.lower()\n",
    "    return dict(Counter([char for char in text if char.isalpha()]))"
   ]
  },
  {
   "cell_type": "code",
   "execution_count": 15,
   "id": "97a28bb0-37bd-48da-82b5-7a4c2e85cf78",
   "metadata": {},
   "outputs": [
    {
     "name": "stdout",
     "output_type": "stream",
     "text": [
      "{'p': 1, 'r': 2, 'o': 1, 'g': 2, 'a': 1, 'm': 2, 'i': 2, 'n': 2, 's': 1, 'f': 1, 'u': 1}\n"
     ]
    }
   ],
   "source": [
    "text = \"Programming is fun!\"\n",
    "result = count_letters(text)\n",
    "print(result)\n"
   ]
  },
  {
   "cell_type": "markdown",
   "id": "2021d8a0-a3e8-4d1f-ac0c-d364a77b922f",
   "metadata": {},
   "source": [
    "#### 2. Группировка студентов по классам  \n",
    "Создайте структуру для группировки студентов по классам.  \n",
    "Добавьте студентов в соответствующие группы.  \n",
    "Данные:  \n",
    "`students = [(\"class1\", \"Alice\"), (\"class2\", \"Bob\"), (\"class1\", \"Charlie\"), (\"class3\", \"Daisy\")]`  \n",
    "\n",
    "Пример вывода:  \n",
    "`{'class1': ['Alice', 'Charlie'], 'class2': ['Bob'], 'class3': ['Daisy']}`\n"
   ]
  },
  {
   "cell_type": "code",
   "execution_count": 16,
   "id": "afe9ef74-9151-4904-9cfc-059dbd368017",
   "metadata": {},
   "outputs": [
    {
     "name": "stdout",
     "output_type": "stream",
     "text": [
      "{'class1': ['Alice', 'Charlie'], 'class2': ['Bob'], 'class3': ['Daisy']}\n"
     ]
    }
   ],
   "source": [
    "from collections import defaultdict\n",
    "\n",
    "students = [(\"class1\", \"Alice\"), (\"class2\", \"Bob\"), (\"class1\", \"Charlie\"), (\"class3\", \"Daisy\")]\n",
    "\n",
    "# Группируем студентов по классам\n",
    "class_groups = defaultdict(list)\n",
    "for class_name, student in students:\n",
    "    class_groups[class_name].append(student)\n",
    "\n",
    "print(dict(class_groups))\n"
   ]
  },
  {
   "cell_type": "code",
   "execution_count": null,
   "id": "e6650e87-db34-4e9d-ae1f-3d5f81b1dde7",
   "metadata": {},
   "outputs": [],
   "source": []
  },
  {
   "cell_type": "markdown",
   "id": "0acb3247-b306-43c7-99ec-a394382c3825",
   "metadata": {},
   "source": [
    "### ДЗ 22"
   ]
  },
  {
   "cell_type": "markdown",
   "id": "95e52a68-d05f-4e2d-8d79-f561d7c24c27",
   "metadata": {},
   "source": [
    "#### 1. Выбор заказов\n",
    "У вас есть список заказов. Каждый заказ содержит название продукта и его цену.  \n",
    "Напишите функцию, которая:  \n",
    "Отбирает заказы дороже 500.  \n",
    "Создаёт список названий отобранных продуктов в алфавитном порядке.  \n",
    "Возвращает итоговый список названий.  \n",
    "Данные:  \n",
    "```\n",
    "orders = [\n",
    "    {\"product\": \"Laptop\", \"price\": 1200},\n",
    "    {\"product\": \"Mouse\", \"price\": 50},\n",
    "    {\"product\": \"Keyboard\", \"price\": 100},\n",
    "    {\"product\": \"Monitor\", \"price\": 300},\n",
    "    {\"product\": \"Chair\", \"price\": 800},\n",
    "    {\"product\": \"Desk\", \"price\": 400}\n",
    "]\n",
    "```\n",
    "Пример вывода:\n",
    "`['Chair', 'Laptop']`\n"
   ]
  },
  {
   "cell_type": "code",
   "execution_count": 27,
   "id": "5f0e6342-6a05-4167-a284-b0490816add7",
   "metadata": {},
   "outputs": [],
   "source": [
    "def filter_and_sort_orders(orders):\n",
    "    return list(filter(lambda x: True if x['price'] > 500 else False, orders))\n",
    "    "
   ]
  },
  {
   "cell_type": "code",
   "execution_count": 28,
   "id": "0f13c50c-96a5-4eeb-a0b4-5c6b166f82d6",
   "metadata": {},
   "outputs": [
    {
     "name": "stdout",
     "output_type": "stream",
     "text": [
      "[{'product': 'Laptop', 'price': 1200}, {'product': 'Chair', 'price': 800}]\n"
     ]
    }
   ],
   "source": [
    "orders = [\n",
    "    {\"product\": \"Laptop\", \"price\": 1200},\n",
    "    {\"product\": \"Mouse\", \"price\": 50},\n",
    "    {\"product\": \"Keyboard\", \"price\": 100},\n",
    "    {\"product\": \"Monitor\", \"price\": 300},\n",
    "    {\"product\": \"Chair\", \"price\": 800},\n",
    "    {\"product\": \"Desk\", \"price\": 400}\n",
    "]\n",
    "\n",
    "result = filter_and_sort_orders(orders)\n",
    "\n"
   ]
  },
  {
   "cell_type": "markdown",
   "id": "228fb062-647a-4b26-96a1-301e3fe0cbca",
   "metadata": {},
   "source": [
    "#### 2. Статистика продаж  \n",
    "Дан список продаж в виде кортежей (товар, количество, цена).  \n",
    "Напишите программу, которая:   \n",
    "Вычисляет общую выручку для каждого товара.  \n",
    "Возвращает словарь с товарами `{товар: выручка}`, отсортированный по убыванию выручки.  \n",
    "Данные:  \n",
    "```\n",
    "sales = [\n",
    "    (\"Laptop\", 5, 1200),\n",
    "    (\"Mouse\", 50, 20),\n",
    "    (\"Keyboard\", 30, 50),\n",
    "    (\"Monitor\", 10, 300),\n",
    "    (\"Chair\", 20, 800)\n",
    "]\n",
    "```\n",
    "Пример вывода:  \n",
    "`{'Chair': 16000, 'Laptop': 6000, 'Monitor': 3000, 'Keyboard': 1500, 'Mouse': 1000}`\n"
   ]
  },
  {
   "cell_type": "code",
   "execution_count": null,
   "id": "42601d89-6f02-40e3-b019-cbf08d232882",
   "metadata": {},
   "outputs": [],
   "source": []
  },
  {
   "cell_type": "code",
   "execution_count": null,
   "id": "cdca1f19-dda8-428b-9459-d005d284a249",
   "metadata": {},
   "outputs": [],
   "source": [
    "sales = [\n",
    "    (\"Laptop\", 5, 1200),\n",
    "    (\"Mouse\", 50, 20),\n",
    "    (\"Keyboard\", 30, 50),\n",
    "    (\"Monitor\", 10, 300),\n",
    "    (\"Chair\", 20, 800)\n",
    "]\n",
    "\n",
    "result = calculate_revenue(sales)\n",
    "print(result)\n"
   ]
  }
 ],
 "metadata": {
  "kernelspec": {
   "display_name": "Python 3 (ipykernel)",
   "language": "python",
   "name": "python3"
  },
  "language_info": {
   "codemirror_mode": {
    "name": "ipython",
    "version": 3
   },
   "file_extension": ".py",
   "mimetype": "text/x-python",
   "name": "python",
   "nbconvert_exporter": "python",
   "pygments_lexer": "ipython3",
   "version": "3.12.4"
  }
 },
 "nbformat": 4,
 "nbformat_minor": 5
}
