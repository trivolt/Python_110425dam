{
 "cells": [
  {
   "cell_type": "markdown",
   "id": "33de858c-ed51-49e5-9279-7991a5d53b7f",
   "metadata": {},
   "source": [
    "# Summary5"
   ]
  },
  {
   "cell_type": "code",
   "execution_count": 9,
   "id": "819ce348-07fa-4550-93e8-6f70c2900687",
   "metadata": {},
   "outputs": [
    {
     "name": "stdout",
     "output_type": "stream",
     "text": [
      "['g', 'f', 'e', 'd', 'c', 'b', 'a']\n"
     ]
    }
   ],
   "source": [
    "lst = ['a','b','c','d','e','f','g']\n",
    "#       0   1   2   3   4   5   6\n",
    "\n",
    "print(lst[::-1])"
   ]
  },
  {
   "cell_type": "code",
   "execution_count": 10,
   "id": "689ef1a8-8875-4228-84c7-75339278f958",
   "metadata": {},
   "outputs": [
    {
     "name": "stdout",
     "output_type": "stream",
     "text": [
      "['e', 'd', 'c', 'b', 'a']\n"
     ]
    }
   ],
   "source": [
    "print(lst[4::-1])"
   ]
  },
  {
   "cell_type": "code",
   "execution_count": 11,
   "id": "8d5aed6f-268c-41f1-88d4-166c805335b0",
   "metadata": {},
   "outputs": [
    {
     "name": "stdout",
     "output_type": "stream",
     "text": [
      "['e', 'd', 'c', 'b']\n"
     ]
    }
   ],
   "source": [
    "print(lst[4:0:-1])"
   ]
  },
  {
   "cell_type": "code",
   "execution_count": 12,
   "id": "086cdae4-8632-4616-8fdc-37b18189a96e",
   "metadata": {},
   "outputs": [
    {
     "name": "stdout",
     "output_type": "stream",
     "text": [
      "['a', 'b', 'c', 'd', 'e', 'f', 'g']\n"
     ]
    }
   ],
   "source": [
    "print(lst[::])"
   ]
  },
  {
   "cell_type": "code",
   "execution_count": 13,
   "id": "64ade3d7-4ea5-4d29-8c17-633b5696b53e",
   "metadata": {},
   "outputs": [
    {
     "name": "stdout",
     "output_type": "stream",
     "text": [
      "['a', 'b', 'c', 'd', 'e', 'f', 'g']\n"
     ]
    }
   ],
   "source": [
    "print(lst[:])"
   ]
  },
  {
   "cell_type": "code",
   "execution_count": null,
   "id": "8f2a98fc-49bb-4d2b-910d-bca44a377826",
   "metadata": {},
   "outputs": [],
   "source": []
  },
  {
   "cell_type": "code",
   "execution_count": null,
   "id": "2941eee2-17b4-421e-9013-fc8b1c790782",
   "metadata": {},
   "outputs": [],
   "source": []
  },
  {
   "cell_type": "code",
   "execution_count": null,
   "id": "4f546fa9-8d5b-4d29-bbb1-e3ee3817d8b6",
   "metadata": {},
   "outputs": [],
   "source": []
  },
  {
   "cell_type": "code",
   "execution_count": null,
   "id": "120d130d-23a0-4112-a742-76e2d654062a",
   "metadata": {},
   "outputs": [],
   "source": []
  },
  {
   "cell_type": "code",
   "execution_count": null,
   "id": "c44cb65c-bd08-446f-b0cf-b8de2d5506c3",
   "metadata": {},
   "outputs": [],
   "source": []
  },
  {
   "cell_type": "markdown",
   "id": "5a62ec87-5901-492f-8774-2cae72127d23",
   "metadata": {},
   "source": [
    "## Разбор ДЗ"
   ]
  },
  {
   "cell_type": "markdown",
   "id": "c8f8e262-75c7-41ff-bfa4-5b7c9ee0fcb4",
   "metadata": {},
   "source": [
    "### ДЗ (Знакомство со строками)"
   ]
  },
  {
   "cell_type": "markdown",
   "id": "b4004960-97f8-4ca0-83c8-1f179a197862",
   "metadata": {},
   "source": [
    "1. Проверка кодировки\n",
    "   \n",
    "Напишите программу, которая принимает от пользователя один символ и выводит его код в таблице Unicode и его принадлежность к диапазону ASCII (True/False).\n"
   ]
  },
  {
   "cell_type": "code",
   "execution_count": null,
   "id": "8423d523-df5c-4abe-84c6-450f3c5387c2",
   "metadata": {},
   "outputs": [],
   "source": []
  },
  {
   "cell_type": "code",
   "execution_count": 14,
   "id": "118a2770-bf05-4b79-ba65-ac2e0ef76a8b",
   "metadata": {},
   "outputs": [
    {
     "name": "stdin",
     "output_type": "stream",
     "text": [
      "Введите символ:  F\n"
     ]
    },
    {
     "name": "stdout",
     "output_type": "stream",
     "text": [
      "Код Unicode: 70\n",
      "ASCII символ: True\n"
     ]
    }
   ],
   "source": [
    "char = input(\"Введите символ: \")\n",
    "unicode_code = ord(char)\n",
    "is_ascii = 0 <= unicode_code <= 127\n",
    "\n",
    "print(\"Код Unicode:\", unicode_code)\n",
    "print(\"ASCII символ:\", is_ascii)\n"
   ]
  },
  {
   "cell_type": "markdown",
   "id": "7d1e28b1-eb83-4182-b7d9-97381d45636c",
   "metadata": {},
   "source": [
    "2. Подстрока с заполнением\n",
    "\n",
    "Напишите программу, которая принимает строку и индексы начала и конца. Программа должна вывести подстроку на указанных позициях. Также если конечный индекс выходит за пределы строки, программа заполняет недостающие символы символами _.\n"
   ]
  },
  {
   "cell_type": "code",
   "execution_count": 15,
   "id": "78ae623c-3500-4943-b0ce-bd280078b08f",
   "metadata": {},
   "outputs": [
    {
     "name": "stdin",
     "output_type": "stream",
     "text": [
      "Введите строку:  hello\n",
      "Введите начальный индекс:  1\n",
      "Введите конечный индекс:  10\n"
     ]
    },
    {
     "name": "stdout",
     "output_type": "stream",
     "text": [
      "Подстрока: ello_____\n"
     ]
    }
   ],
   "source": [
    "text = input(\"Введите строку: \")\n",
    "start = int(input(\"Введите начальный индекс: \"))\n",
    "end = int(input(\"Введите конечный индекс: \"))\n",
    "\n",
    "if end > len(text):\n",
    "    substring = text[start:] + \"_\" * (end - len(text))\n",
    "else:\n",
    "    substring = text[start:end]\n",
    "\n",
    "print(\"Подстрока:\", substring)\n"
   ]
  },
  {
   "cell_type": "markdown",
   "id": "96bc3d4a-625b-400e-9e54-b7e95518d8d8",
   "metadata": {},
   "source": [
    "3. Подсчёт символа\n",
    "\n",
    "Напишите программу, которая принимает строку и символ, а затем подсчитывает, сколько раз символ встречается в строке.\n"
   ]
  },
  {
   "cell_type": "code",
   "execution_count": 16,
   "id": "648f5674-8905-4ce4-8879-2c1e71dfa451",
   "metadata": {},
   "outputs": [
    {
     "name": "stdin",
     "output_type": "stream",
     "text": [
      "Введите строку:  hello\n",
      "Введите символ:  l\n"
     ]
    },
    {
     "name": "stdout",
     "output_type": "stream",
     "text": [
      "Символ l встречается 2 раз(а).\n"
     ]
    }
   ],
   "source": [
    "text = input(\"Введите строку: \")\n",
    "symbol = input(\"Введите символ: \")\n",
    "count = 0\n",
    "index = 0\n",
    "while index < len(text):\n",
    "    if text[index] == symbol:\n",
    "        count += 1\n",
    "    index += 1\n",
    "print(\"Символ\", symbol, \"встречается\", count, \"раз(а).\")"
   ]
  },
  {
   "cell_type": "markdown",
   "id": "567bcbff-7f54-4cc7-bf47-827f2760e8e6",
   "metadata": {},
   "source": [
    "4. Инвертирование строки без цифр\n",
    "\n",
    "Напишите программу, которая принимает строку и выводит её в обратном порядке, пропуская все цифры.\n"
   ]
  },
  {
   "cell_type": "code",
   "execution_count": 17,
   "id": "05009b78-3ccd-41e1-9b80-b70f11534870",
   "metadata": {},
   "outputs": [
    {
     "name": "stdout",
     "output_type": "stream",
     "text": [
      "olleh\n"
     ]
    }
   ],
   "source": [
    "# str = 'hello'\n",
    "\n",
    "# print(str[::-1])"
   ]
  },
  {
   "cell_type": "code",
   "execution_count": null,
   "id": "9ddb14ee-00cd-4171-a8f6-4ca12ad679b2",
   "metadata": {},
   "outputs": [],
   "source": [
    "# str = 'abcdefABCD'\n",
    "# if char in str:"
   ]
  },
  {
   "cell_type": "code",
   "execution_count": null,
   "id": "d7957a73-3356-43af-b501-2454804ba403",
   "metadata": {},
   "outputs": [],
   "source": []
  },
  {
   "cell_type": "code",
   "execution_count": null,
   "id": "8e11a40b-a03e-4470-bbc9-66361df88635",
   "metadata": {},
   "outputs": [],
   "source": [
    "text = input(\"Введите строку: \")\n",
    "reversed_text = \"\"\n",
    "index = len(text) - 1\n",
    "\n",
    "while index >= 0:\n",
    "    char = text[index]\n",
    "    if not ('0' <= char <= '9'):  # Проверка, что символ не цифра\n",
    "        reversed_text += char\n",
    "    index -= 1\n",
    "\n",
    "print(\"Результат:\", reversed_text)\n"
   ]
  },
  {
   "cell_type": "markdown",
   "id": "1c0721f5-c353-4ac7-bb38-d2b8dfcc4e33",
   "metadata": {},
   "source": [
    "### ДЗ (Циклы for)"
   ]
  },
  {
   "cell_type": "markdown",
   "id": "f54d406b-6ce9-4c8d-9a03-84d566c4f4dc",
   "metadata": {},
   "source": [
    "1. Таблица умножения\n",
    "\n",
    "Напишите программу, которая выводит таблицу умножения для чисел от 1 до n. Где n это число, которое введет пользователь. Оформите вывод так, чтобы столбцы были ровные (число ровно под числом)\n"
   ]
  },
  {
   "cell_type": "code",
   "execution_count": 6,
   "id": "61114597-69f2-4a61-a40b-d153c8a50f32",
   "metadata": {},
   "outputs": [
    {
     "name": "stdin",
     "output_type": "stream",
     "text": [
      "Введите число:  6\n"
     ]
    },
    {
     "name": "stdout",
     "output_type": "stream",
     "text": [
      "1\t2\t3\t4\t5\t6\t\n",
      "2\t4\t6\t8\t10\t12\t\n",
      "3\t6\t9\t12\t15\t18\t\n",
      "4\t8\t12\t16\t20\t24\t\n",
      "5\t10\t15\t20\t25\t30\t\n",
      "6\t12\t18\t24\t30\t36\t\n"
     ]
    }
   ],
   "source": [
    "n = int(input(\"Введите число: \"))\n",
    "\n",
    "for i in range(1, n + 1):\n",
    "    for j in range(1, n + 1):\n",
    "        print(i * j, end='\\t')\n",
    "    print() \n"
   ]
  },
  {
   "cell_type": "code",
   "execution_count": 21,
   "id": "342520f7-33e3-4828-9806-867184e7dc85",
   "metadata": {},
   "outputs": [
    {
     "name": "stdin",
     "output_type": "stream",
     "text": [
      "Введите число:  6\n"
     ]
    },
    {
     "name": "stdout",
     "output_type": "stream",
     "text": [
      " 1  2  3  4  5  6 \n",
      " 2  4  6  8 10 12 \n",
      " 3  6  9 12 15 18 \n",
      " 4  8 12 16 20 24 \n",
      " 5 10 15 20 25 30 \n",
      " 6 12 18 24 30 36 \n"
     ]
    }
   ],
   "source": [
    "# Решение Ларисы\n",
    "n=int(input(\"Введите число: \")) #6\n",
    "for i in range(1,n+1):\n",
    "    for j in range(1,n+1):\n",
    "        if (i*j)<10:\n",
    "            print(\"\",i*j, end=\" \")\n",
    "        else:\n",
    "            print(i*j,end=\" \")\n",
    "    print()"
   ]
  },
  {
   "cell_type": "code",
   "execution_count": null,
   "id": "19c408c0-2ab3-4193-bf32-97b3061cf82c",
   "metadata": {},
   "outputs": [],
   "source": []
  },
  {
   "cell_type": "code",
   "execution_count": null,
   "id": "576327ec-2ffa-4446-b778-f4e0e7195ac0",
   "metadata": {},
   "outputs": [],
   "source": []
  },
  {
   "cell_type": "markdown",
   "id": "90d18893-f8ab-4d3a-a311-87a85db3bf56",
   "metadata": {},
   "source": [
    "2. Лестница чисел\n",
    "   \n",
    "Напишите программу, которая принимает число n и выводит \"лестницу\" из чисел. Каждая строка лестницы содержит числа от 1 до номера строки.\n"
   ]
  },
  {
   "cell_type": "code",
   "execution_count": 7,
   "id": "2c5e0602-d099-4967-ab7a-0fe40f963196",
   "metadata": {},
   "outputs": [
    {
     "name": "stdin",
     "output_type": "stream",
     "text": [
      "Введите число:  7\n"
     ]
    },
    {
     "name": "stdout",
     "output_type": "stream",
     "text": [
      "1 \n",
      "1 2 \n",
      "1 2 3 \n",
      "1 2 3 4 \n",
      "1 2 3 4 5 \n",
      "1 2 3 4 5 6 \n",
      "1 2 3 4 5 6 7 \n"
     ]
    }
   ],
   "source": [
    "n = int(input(\"Введите число: \")) #6\n",
    "\n",
    "for row in range(1, n + 1): #1,..6\n",
    "    for col in range(1, row + 1):\n",
    "        print(col, end=\" \")\n",
    "    print()\n"
   ]
  },
  {
   "cell_type": "code",
   "execution_count": null,
   "id": "f9169ebc-154b-4fde-b484-381003b6c228",
   "metadata": {},
   "outputs": [],
   "source": []
  },
  {
   "cell_type": "markdown",
   "id": "09c50439-97b8-4aba-bab0-9016e9e0a14d",
   "metadata": {},
   "source": [
    "3. Удаление всех повторяющихся символов\n",
    "\n",
    "Напишите программу, которая принимает строку и удаляет из неё все повторяющиеся символы, сохраняя только первые их вхождения.\n"
   ]
  },
  {
   "cell_type": "code",
   "execution_count": 8,
   "id": "a6f99b5a-5c16-49b9-b5f3-e5a360e55be1",
   "metadata": {},
   "outputs": [
    {
     "name": "stdin",
     "output_type": "stream",
     "text": [
      "Введите строку:  прт\n"
     ]
    },
    {
     "name": "stdout",
     "output_type": "stream",
     "text": [
      "Результат: прт\n"
     ]
    }
   ],
   "source": [
    "text = input(\"Введите строку: \")\n",
    "result = \"\"\n",
    "\n",
    "for char in text:\n",
    "    if char not in result:\n",
    "        result += char\n",
    "\n",
    "print(\"Результат:\", result)"
   ]
  },
  {
   "cell_type": "markdown",
   "id": "b6f8afe5-4214-4695-b92f-ec980a31da12",
   "metadata": {},
   "source": [
    "### ДЗ"
   ]
  },
  {
   "cell_type": "markdown",
   "id": "7261fba1-7e85-46a2-933e-4699043bc95e",
   "metadata": {},
   "source": [
    "1. ***Торговый автомат***\n",
    "\n",
    "Напишите программу, которая моделирует работу торгового автомата. Автомат принимает только монеты номиналом 1, 2, 5, 10 и 50. Программа должна запрашивать у пользователя общую стоимость покупки, а затем отображать сколько монет каждого типа нужно потратить, чтобы использовать минимальное количество монет для оплаты товара.\n",
    "\n",
    "3. ***Квадрат нечетных чисел***\n",
    "\n",
    "Напишите программу, которая изменяет изначальный список и возводит в квадрат только нечётные числа.\n",
    "numbers = [4, 9, 1, 7, 2, 5, 0, 3, 7, 1, 3]\n"
   ]
  },
  {
   "cell_type": "code",
   "execution_count": 23,
   "id": "7f597026-fd17-44b9-962c-2ee5d368a0ce",
   "metadata": {},
   "outputs": [
    {
     "name": "stdin",
     "output_type": "stream",
     "text": [
      "Введите текст:  hello world\n"
     ]
    },
    {
     "name": "stdout",
     "output_type": "stream",
     "text": [
      "helo wrd\n"
     ]
    }
   ],
   "source": []
  },
  {
   "cell_type": "code",
   "execution_count": null,
   "id": "7995f1ef-dfb6-47a8-aa2e-a7da2b673429",
   "metadata": {},
   "outputs": [],
   "source": []
  }
 ],
 "metadata": {
  "kernelspec": {
   "display_name": "Python 3 (ipykernel)",
   "language": "python",
   "name": "python3"
  },
  "language_info": {
   "codemirror_mode": {
    "name": "ipython",
    "version": 3
   },
   "file_extension": ".py",
   "mimetype": "text/x-python",
   "name": "python",
   "nbconvert_exporter": "python",
   "pygments_lexer": "ipython3",
   "version": "3.12.4"
  }
 },
 "nbformat": 4,
 "nbformat_minor": 5
}
