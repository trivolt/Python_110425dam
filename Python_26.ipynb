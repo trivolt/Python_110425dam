{
 "cells": [
  {
   "cell_type": "markdown",
   "id": "bdb05872-37b0-4f5d-8d48-31abe2a5ac26",
   "metadata": {},
   "source": [
    "# Работа с файловой системой"
   ]
  },
  {
   "cell_type": "code",
   "execution_count": null,
   "id": "8e261774-830b-40f0-a7e5-0ebb3b287c45",
   "metadata": {},
   "outputs": [],
   "source": [
    "path_abs = 'C:\\\\Users\\\\dplog\\\\PycharmProjects\\\\Lessons_ICH\\\\110425_dam\\\\lesson_26\\\\sample.py' #укажите свой существующий путь\n",
    "# c:/Users/dplog/python/1/python_26.ipynb\n",
    "path_ot = '..\\sample.py'"
   ]
  },
  {
   "cell_type": "markdown",
   "id": "e17c0f06-8199-4dff-b3db-59d98d4c246b",
   "metadata": {},
   "source": [
    "## Введение в файловую систему\n",
    "Файловая система – это способ хранения и организации данных на диске компьютера. Она представляет собой структуру, состоящую из файлов и папок (директорий), которые можно читать, изменять, удалять или перемещать.\n"
   ]
  },
  {
   "cell_type": "markdown",
   "id": "ed092390-5cb0-46fd-a214-1209da72c2ca",
   "metadata": {},
   "source": [
    "### Пример структуры файловой системы\n"
   ]
  },
  {
   "cell_type": "markdown",
   "id": "4abf4e01-c428-4ee8-b71b-8b637aadf09a",
   "metadata": {},
   "source": [
    "```\n",
    "/home/user/\n",
    "├── PycharmProjects/\n",
    "│   ├── project1/\n",
    "│   │   ├── data\n",
    "│   │   │   └── file.txt\n",
    "│   │   └── main.py\n",
    "│   └── project2/\n",
    "│       └── main.py\n",
    "├── documents/\n",
    "└── downloads/\n",
    "```"
   ]
  },
  {
   "cell_type": "markdown",
   "id": "ecbdb3ea-a511-481a-9b76-0231c1944bec",
   "metadata": {},
   "source": [
    "### Абсолютные и относительные пути\n",
    "***Абсолютный путь*** – это полный путь от корневой директории до файла или папки. Он указывает точное местоположение объекта в файловой системе.\n",
    "Linux/macOS: Абсолютный путь начинается с / (корень файловой системы).  \n",
    "Пример: `/home/user/documents/file.txt`  \n",
    "Windows: Абсолютный путь начинается с буквы диска (например, C:\\\\).  \n",
    "Пример: `C:\\\\Users\\\\User\\\\Documents\\\\file.txt`\n"
   ]
  },
  {
   "cell_type": "code",
   "execution_count": null,
   "id": "fe093189-e73f-4cfe-8cac-6f1b8b85fcec",
   "metadata": {},
   "outputs": [],
   "source": [
    "# Абсолютный путь (Linux/macOS)\n",
    "absolute_path = \"/home/user/documents/file.txt\"\n",
    "\n",
    "\n",
    "# Абсолютный путь (Windows)\n",
    "absolute_path = \"C:\\\\Users\\\\User\\\\Documents\\\\file.txt\"\n"
   ]
  },
  {
   "cell_type": "markdown",
   "id": "dd6ef393-1098-4081-8148-167251dc6702",
   "metadata": {},
   "source": [
    "***Относительный путь*** – это путь к файлу или папке относительно текущей рабочей директории. Он не содержит полного пути до корневой директории.  \n",
    "* Для текущей директории используется . (точка).  \n",
    "* Для родительской директории используется .. (две точки).\n"
   ]
  },
  {
   "cell_type": "markdown",
   "id": "366cb514-9b19-4fac-b403-06cf314c4a62",
   "metadata": {},
   "source": [
    "Если текущая директория `/home/user/PycharmProjects/project1/data`:  \n",
    "* `./file.txt` указывает на файл `/home/user/PycharmProjects/project1/data/file.txt`.  \n",
    "* `../file.txt` указывает на файл `/home/user/PycharmProjects/project1/file.txt`."
   ]
  },
  {
   "cell_type": "markdown",
   "id": "ba4a33a3-0c03-4426-b906-445af2ae8074",
   "metadata": {},
   "source": [
    "### Когда использовать:\n",
    "1. ***Абсолютный путь:***\n",
    "   * Когда нужно работать с файлами независимо от текущей директории.\n",
    "   * Когда путь к файлу фиксирован (например, конфигурационные файлы).\n",
    "2. ***Относительный путь:***\n",
    "   * Когда работа с файлами локализована в пределах текущей директории.\n",
    "   * Удобен для перемещаемых скриптов.\n"
   ]
  },
  {
   "cell_type": "markdown",
   "id": "b8b6fb60-7372-4861-a296-f85813e1de44",
   "metadata": {},
   "source": [
    "### Специальные обозначения для пути\n",
    "При работе с файловой системой в относительных путях используются специальные обозначения, упрощающие навигацию.\n"
   ]
  },
  {
   "cell_type": "markdown",
   "id": "6453bad7-f55b-4c8e-bc93-17c6a56ce061",
   "metadata": {},
   "source": [
    "### Основные обозначения:\n",
    "1. ***. (текущая директория)***  \n",
    "  * Указывает на текущую директорию, где находится программа во время выполнения.  \n",
    "  * Используется для построения относительных путей.  \n",
    "    *Пример:*   \n",
    "    * `./file.txt` – файл file.txt в текущей директории.  \n",
    "2. ***.. (родительская директория)***  \n",
    "* Указывает на директорию на уровень выше (родительскую).  \n",
    "  *Пример:*  \n",
    "   * `../file.txt` – файл file.txt в родительской директории.  \n",
    "   * `../../file.txt` – файл в директории на два уровня выше.  \n",
    "3. ***/ (разделитель в пути)***  \n",
    "  * В Linux и macOS используется для указания вложенных директорий.  \n",
    "   *Пример:*  \n",
    "   * `/home/user/file.txt` – абсолютный путь.\n",
    "4. ***\\\\ (обратный слэш)***  \n",
    "  * В Windows используется как разделитель директорий.  \n",
    "    *Пример:*\n",
    "    * `C:\\\\Users\\\\User\\\\Documents\\\\file.txt`.  \n",
    "5. ***~ (домашняя директория)***  \n",
    "  * Указывает на домашнюю директорию пользователя (Linux и macOS).  \n",
    "    *Пример:*  \n",
    "    * `~/documents/file.txt` – путь к файлу в директории documents домашней папки.  \n"
   ]
  },
  {
   "cell_type": "markdown",
   "id": "5a71a636-5b75-4d3d-80c3-8a257007ebc9",
   "metadata": {},
   "source": [
    "## Модуль os \n",
    "Модуль os предоставляет инструменты для работы с операционной системой, включая файловую систему.  \n",
    "Для работы с функциями модуля os необходимо его импортировать:  \n",
    "*Синтаксис:*  \n",
    "`import os`\n"
   ]
  },
  {
   "cell_type": "markdown",
   "id": "b3a1c8b9-5e89-4a8e-b39e-00fd627b1c19",
   "metadata": {},
   "source": [
    "### Получение текущей директории\n",
    "Для определения текущей рабочей директории используется функция `os.getcwd()`.\n"
   ]
  },
  {
   "cell_type": "code",
   "execution_count": 1,
   "id": "f901730a-b4b5-4ef5-b497-cad2686d9977",
   "metadata": {},
   "outputs": [
    {
     "name": "stdout",
     "output_type": "stream",
     "text": [
      "Текущая директория: C:\\Users\\dplog\\Python\\1\n"
     ]
    }
   ],
   "source": [
    "import os\n",
    "\n",
    "\n",
    "# Получаем текущую рабочую директорию\n",
    "print(f\"Текущая директория: {os.getcwd()}\")\n"
   ]
  },
  {
   "cell_type": "markdown",
   "id": "18332cff-894d-4c33-a197-e8a8da6ce548",
   "metadata": {},
   "source": [
    "### Изменение текущей директории  \n",
    "Для перехода в другую директорию используется функция `os.chdir(path)`.\n"
   ]
  },
  {
   "cell_type": "code",
   "execution_count": 3,
   "id": "65c06ebf-0c7a-4a26-aa3c-9a4fb629dda2",
   "metadata": {},
   "outputs": [
    {
     "name": "stdout",
     "output_type": "stream",
     "text": [
      "Текущая директория: C:\\Users\n"
     ]
    }
   ],
   "source": [
    "# Переход в директорию с использованием относительного пути\n",
    "os.chdir(\"../..\")  # Ошибка, если директории нет!\n",
    "print(f\"Текущая директория: {os.getcwd()}\")"
   ]
  },
  {
   "cell_type": "code",
   "execution_count": null,
   "id": "bf817ba0-e36f-4c72-ad59-7405fcb107b5",
   "metadata": {},
   "outputs": [],
   "source": [
    "\n",
    "# Переход в родительскую директорию\n",
    "os.chdir(\"..\")\n",
    "print(f\"Текущая директория после перехода: {os.getcwd()}\")"
   ]
  },
  {
   "cell_type": "code",
   "execution_count": null,
   "id": "097eecab-f94d-494e-9a93-e94cf048162e",
   "metadata": {},
   "outputs": [],
   "source": [
    "# Переход в директорию с использованием абсолютного пути\n",
    "os.chdir(\"C:\\\\Users\\\\dplog\\\\Python\\\\1\\\\subdirectory\")  # Замените путь на существующий\n",
    "print(f\"Текущая директория: {os.getcwd()}\")"
   ]
  },
  {
   "cell_type": "markdown",
   "id": "7a0feed1-7373-476e-9d44-3027712783c5",
   "metadata": {},
   "source": [
    "## Работа с файлами и директориями\n",
    "### Проверка существования\n",
    "Для проверки существования файла или директории используется функция `os.path.exists(path)`.\n"
   ]
  },
  {
   "cell_type": "code",
   "execution_count": 2,
   "id": "0e5e0ba7-bf07-4c51-99a7-ce38a27a33a3",
   "metadata": {},
   "outputs": [
    {
     "name": "stdout",
     "output_type": "stream",
     "text": [
      "Файл 'example.txt' существует.\n"
     ]
    }
   ],
   "source": [
    "import os\n",
    "\n",
    "# Проверка существования файла\n",
    "file_path = \"example.txt\"\n",
    "# или\n",
    "# file_path = \"example_folder/example.txt\"\n",
    "if os.path.exists(file_path):\n",
    "    print(f\"Файл '{file_path}' существует.\")\n",
    "else:\n",
    "    print(f\"Файл '{file_path}' не найден.\")"
   ]
  },
  {
   "cell_type": "code",
   "execution_count": 3,
   "id": "c8012fa1-ab69-4660-bcb8-4f427d950e9a",
   "metadata": {},
   "outputs": [
    {
     "data": {
      "text/plain": [
       "True"
      ]
     },
     "execution_count": 3,
     "metadata": {},
     "output_type": "execute_result"
    }
   ],
   "source": [
    "os.path.exists(file_path)"
   ]
  },
  {
   "cell_type": "code",
   "execution_count": 4,
   "id": "6a674e02-9a21-4ba0-aa8d-170a9e7b604b",
   "metadata": {},
   "outputs": [
    {
     "name": "stdout",
     "output_type": "stream",
     "text": [
      "Директория 'example_folder' не найдена.\n"
     ]
    }
   ],
   "source": [
    "\n",
    "# Проверка существования директории\n",
    "directory_path = \"example_folder\"\n",
    "# или\n",
    "# directory_path = \"parent_folder/child_folder\"\n",
    "if os.path.exists(directory_path):\n",
    "    print(f\"Директория '{directory_path}' существует.\")\n",
    "else:\n",
    "    print(f\"Директория '{directory_path}' не найдена.\")\n"
   ]
  },
  {
   "cell_type": "markdown",
   "id": "a4f09001-1a54-4a1b-a8b0-eb5efa590bec",
   "metadata": {},
   "source": [
    "### Получение списка файлов и папок в директории\n",
    "Функция `os.listdir(path)` возвращает список файлов и папок в указанной директории.\n"
   ]
  },
  {
   "cell_type": "code",
   "execution_count": 7,
   "id": "7fdc5fb9-ba89-4371-948b-cac32a081743",
   "metadata": {},
   "outputs": [
    {
     "name": "stdout",
     "output_type": "stream",
     "text": [
      "Содержимое текущей директории: ['.ipynb_checkpoints', 'app.log', 'example.txt', 'Python_10.ipynb', 'Python_11.ipynb', 'Python_12.ipynb', 'Python_13.ipynb', 'Python_14.ipynb', 'Python_15.ipynb', 'Python_16.ipynb', 'Python_17.ipynb', 'Python_18.ipynb', 'Python_19.ipynb', 'Python_20.ipynb', 'Python_21.ipynb', 'Python_22.ipynb', 'Python_23.ipynb', 'Python_24.ipynb', 'Python_25.ipynb', 'Python_26.ipynb', 'Python_8.ipynb', 'Python_9.ipynb', 'Python_additional_1.ipynb', 'Python_Pr10.ipynb', 'Python_Pr11.ipynb', 'Python_Pr12.ipynb', 'Python_Pr3.ipynb', 'Python_Pr4.ipynb', 'Python_Pr5.ipynb', 'Python_Pr6.ipynb', 'Python_Pr7.ipynb', 'Python_Pr8.ipynb', 'Python_Pr9.ipynb', 'Summary4.ipynb', 'Summary5.ipynb', 'Summary_10.ipynb', 'Summary_11.ipynb', 'Summary_12.ipynb', 'Summary_13.ipynb', 'Summary_6.ipynb', 'Summary_7.ipynb', 'Summary_8.ipynb', 'Summary_9.ipynb', 'Untitled.ipynb']\n"
     ]
    }
   ],
   "source": [
    "# Список содержимого текущей директории\n",
    "contents = os.listdir(\".\")\n",
    "print(\"Содержимое текущей директории:\", contents)\n"
   ]
  },
  {
   "cell_type": "code",
   "execution_count": null,
   "id": "53230955-c3d4-4d0a-980f-e06e4a8171a0",
   "metadata": {},
   "outputs": [],
   "source": [
    "\n",
    "# Список содержимого указанной директории\n",
    "specific_dir = \"parent_folder\"\n",
    "if os.path.exists(specific_dir):\n",
    "    print(f\"Содержимое директории '{specific_dir}':\", os.listdir(specific_dir))\n"
   ]
  },
  {
   "cell_type": "code",
   "execution_count": null,
   "id": "4e17f8ff-8ba7-44e4-85d2-ecad38fc2fde",
   "metadata": {},
   "outputs": [],
   "source": [
    "\n",
    "# Список содержимого указанной директории\n",
    "specific_dir = \"parent_folder1\"\n",
    "if os.path.exists(specific_dir):\n",
    "    print(f\"Содержимое директории '{specific_dir}':\", os.listdir(specific_dir))\n",
    "else:\n",
    "    print('no')"
   ]
  },
  {
   "cell_type": "markdown",
   "id": "3448df0b-f78e-4665-95c7-7a1c68bd2227",
   "metadata": {},
   "source": [
    "### Создание новой директории\n",
    "1. `os.mkdir(path)`:\n",
    "   * Создаёт одну директорию.\n",
    "   * Вызывает ошибку, если директория уже существует.\n",
    "2. `os.makedirs(path)`:\n",
    "   * Создаёт директорию вместе с родительскими, если их ещё нет.\n",
    "   * Вызывает ошибку, если директория уже существует, но с exist_ok=True ошибка не возникает.\n"
   ]
  },
  {
   "cell_type": "code",
   "execution_count": null,
   "id": "ef07c611-1a4d-4df4-b702-e4976892f6a6",
   "metadata": {},
   "outputs": [],
   "source": [
    "os.mkdir(\"example_folder\")"
   ]
  },
  {
   "cell_type": "code",
   "execution_count": null,
   "id": "192bcb9e-2228-4152-bb35-446d4c97982a",
   "metadata": {},
   "outputs": [],
   "source": [
    "dir_path = \"example_folder\"\n",
    "if not os.path.exists(dir_path):\n",
    "    # Создание одной директории\n",
    "    os.mkdir(\"example_folder\")\n",
    "    print(f\"Директория '{dir_path}' создана.\")\n",
    "else:\n",
    "    print(f\"Директория '{dir_path}' существует.\")"
   ]
  },
  {
   "cell_type": "code",
   "execution_count": null,
   "id": "a5fb1e77-5a7b-4c47-98ca-afa143ad9fd8",
   "metadata": {},
   "outputs": [],
   "source": [
    "# Создание вложенных директорий\n",
    "os.makedirs(\"parent_folder/child_folder\", exist_ok=True)\n",
    "print(\"Вложенные директории 'parent_folder/child_folder' созданы.\")\n"
   ]
  },
  {
   "cell_type": "markdown",
   "id": "a3d9a674-42fc-4eee-92ea-7dae96c7db49",
   "metadata": {},
   "source": [
    "### Создание файла\n",
    "Создание файла осуществляется с использованием функции `open(path, mode)`, которая не является частью модуля os. Подробности работы с файлами будут рассмотрены позже."
   ]
  },
  {
   "cell_type": "code",
   "execution_count": 9,
   "id": "1736e3e8-f75a-4a07-b89a-c126b7cb2da7",
   "metadata": {},
   "outputs": [
    {
     "name": "stdout",
     "output_type": "stream",
     "text": [
      "Файл 'C:\\Users\\dplog\\Project-2\\example.txt' создан или перезаписан.\n"
     ]
    }
   ],
   "source": [
    "# Создание нового пустого файла\n",
    "#file_name = \"C:\\\\Users\\\\dplog\\\\Project-2\\\\example.txt\"\n",
    "open(\"C:\\\\Users\\\\dplog\\\\Project-2\\\\example2.txt\", \"w\").close()\n",
    "print(f\"Файл '{file_name}' создан или перезаписан.\")\n"
   ]
  },
  {
   "cell_type": "markdown",
   "id": "ba0b245e-8e07-4024-a339-9bfe32bc1d17",
   "metadata": {},
   "source": [
    "### Проверка является ли файлом\n",
    "Функция `os.path.isfile(path)` используется для проверки, является ли указанный путь файлом.\n"
   ]
  },
  {
   "cell_type": "code",
   "execution_count": null,
   "id": "c70766d1-ea13-4984-a52d-aea243231512",
   "metadata": {},
   "outputs": [],
   "source": [
    "file_path = \"example.txt\"\n",
    "# Проверяем, существует ли объект\n",
    "if os.path.exists(file_path):\n",
    "    # Проверяем, является ли файлом\n",
    "    if os.path.isfile(file_path):\n",
    "        print(f\"'{file_path}' существует и это файл.\")\n",
    "    else:\n",
    "        print(f\"'{file_path}' существует, но это не файл.\")\n",
    "else:\n",
    "    print(f\"'{file_path}' не существует.\")\n"
   ]
  },
  {
   "cell_type": "markdown",
   "id": "22bc71c4-4f6a-46be-845f-c246d881c2b4",
   "metadata": {},
   "source": [
    "### Проверка типа объекта\n",
    "Для проверки, является ли путь файлом или директорией, можно использовать функции `os.path.isfile` и `os.path.isdir`.\n"
   ]
  },
  {
   "cell_type": "code",
   "execution_count": 10,
   "id": "8c6931be-2e78-42cd-90c2-ec3dfd6d39d2",
   "metadata": {},
   "outputs": [
    {
     "data": {
      "text/plain": [
       "'C:\\\\Users\\\\dplog\\\\Python\\\\1'"
      ]
     },
     "execution_count": 10,
     "metadata": {},
     "output_type": "execute_result"
    }
   ],
   "source": [
    "os.getcwd()"
   ]
  },
  {
   "cell_type": "code",
   "execution_count": 13,
   "id": "b838816b-8691-425f-9785-ec4f9a567eaa",
   "metadata": {},
   "outputs": [
    {
     "name": "stdout",
     "output_type": "stream",
     "text": [
      "'C:\\Users\\dplog\\Python\\1\\example3' существует и это директория.\n"
     ]
    }
   ],
   "source": [
    "path = \"C:\\\\Users\\\\dplog\\\\Python\\\\1\\\\example3\"\n",
    "# path = \"parent_folder\"\n",
    "\n",
    "\n",
    "# Проверяем, является ли файлом\n",
    "if os.path.isfile(path):\n",
    "    print(f\"'{path}' существует и это файл.\")\n",
    "# Проверяем, является ли директорией\n",
    "elif os.path.isdir(path):\n",
    "    print(f\"'{path}' существует и это директория.\")\n"
   ]
  },
  {
   "cell_type": "markdown",
   "id": "ccd481a7-db2c-4172-a7bf-107505be507b",
   "metadata": {},
   "source": [
    "### Переименование\n",
    "Для переименования файлов или директорий используется функция `os.rename(src, dst)`.\n"
   ]
  },
  {
   "cell_type": "code",
   "execution_count": 16,
   "id": "72baf0e6-39e0-4fd7-9b3b-c5db852ab586",
   "metadata": {},
   "outputs": [
    {
     "name": "stdout",
     "output_type": "stream",
     "text": [
      "Файл переименован в 'renamed.log'.\n"
     ]
    }
   ],
   "source": [
    "# Переименование файла\n",
    "old_file_name = \"renamed.txt\"\n",
    "new_file_name = \"renamed.log\"\n",
    "if os.path.exists(old_file_name):\n",
    "    os.rename(old_file_name, new_file_name)\n",
    "    print(f\"Файл переименован в '{new_file_name}'.\")\n",
    "else:\n",
    "    print(f\"Файл '{old_file_name}' не найден.\")"
   ]
  },
  {
   "cell_type": "code",
   "execution_count": null,
   "id": "545098ad-d103-47ef-8bb6-b7750fa9d7c0",
   "metadata": {},
   "outputs": [],
   "source": [
    "\n",
    "# Переименование директории\n",
    "old_dir_name = \"example_folder\"\n",
    "new_dir_name = \"renamed_folder\"\n",
    "if os.path.exists(old_dir_name):\n",
    "    os.rename(old_dir_name, new_dir_name)\n",
    "    print(f\"Директория переименована в '{new_dir_name}'.\")\n",
    "else:\n",
    "    print(f\"Директория '{old_dir_name}' не найдена.\")\n"
   ]
  },
  {
   "cell_type": "markdown",
   "id": "aa7b287f-ce67-403e-9362-1e7154bea4d1",
   "metadata": {},
   "source": [
    "### Удаление\n",
    "Для удаления файлов используется функция `os.remove(path)`, а для удаления пустых директорий – `os.rmdir(path)`.\n"
   ]
  },
  {
   "cell_type": "code",
   "execution_count": 17,
   "id": "2ae85c98-3bfa-4051-a12d-852fcb9c3c0d",
   "metadata": {},
   "outputs": [
    {
     "name": "stdout",
     "output_type": "stream",
     "text": [
      "Файл 'renamed.txt' удалён.\n"
     ]
    }
   ],
   "source": [
    "# Удаление файла\n",
    "file_to_delete = \"renamed.txt\"\n",
    "if os.path.exists(file_to_delete):\n",
    "    os.remove(file_to_delete)\n",
    "    print(f\"Файл '{file_to_delete}' удалён.\")\n",
    "else:\n",
    "    print(f\"Файл '{file_to_delete}' не найден, удаление невозможно.\")"
   ]
  },
  {
   "cell_type": "code",
   "execution_count": null,
   "id": "9f95df2a-c027-482c-9bf8-6df6f2b04669",
   "metadata": {},
   "outputs": [],
   "source": [
    "os.remove('./file.txt')\n",
    "os.remove('file.txt')#аналогично"
   ]
  },
  {
   "cell_type": "code",
   "execution_count": 18,
   "id": "df2478fb-83cd-4689-bc20-345d8e109d80",
   "metadata": {},
   "outputs": [
    {
     "ename": "FileNotFoundError",
     "evalue": "[WinError 2] Не удается найти указанный файл: '23'",
     "output_type": "error",
     "traceback": [
      "\u001b[1;31m---------------------------------------------------------------------------\u001b[0m",
      "\u001b[1;31mFileNotFoundError\u001b[0m                         Traceback (most recent call last)",
      "Cell \u001b[1;32mIn[18], line 1\u001b[0m\n\u001b[1;32m----> 1\u001b[0m os\u001b[38;5;241m.\u001b[39mrmdir(\u001b[38;5;124m'\u001b[39m\u001b[38;5;124m23\u001b[39m\u001b[38;5;124m'\u001b[39m)\n",
      "\u001b[1;31mFileNotFoundError\u001b[0m: [WinError 2] Не удается найти указанный файл: '23'"
     ]
    }
   ],
   "source": [
    "os.rmdir('23')"
   ]
  },
  {
   "cell_type": "code",
   "execution_count": null,
   "id": "be35cc9f-ec75-4ec9-b54c-6a7553be68fb",
   "metadata": {},
   "outputs": [],
   "source": [
    "\n",
    "\n",
    "# Удаление пустой директории\n",
    "empty_dir_to_delete = \"renamed_folder\"\n",
    "if os.path.exists(empty_dir_to_delete):\n",
    "    os.rmdir(empty_dir_to_delete)\n",
    "    print(f\"Пустая директория '{empty_dir_to_delete}' удалена.\")\n",
    "else:\n",
    "    print(f\"Директория '{empty_dir_to_delete}' не найдена или не пуста.\")\n"
   ]
  },
  {
   "cell_type": "markdown",
   "id": "54399d71-d38c-4920-8164-af54a75cc53e",
   "metadata": {},
   "source": [
    "## Работа с путями\n",
    "### Разделение пути на компоненты\n",
    "1. `os.path.split(path)`: разделяет путь на две части: директорию и имя файла.\n",
    "2. `os.path.basename(path)`: возвращает только имя файла или папки.\n",
    "3. `os.path.dirname(path)`: возвращает только директорию без имени файла.\n"
   ]
  },
  {
   "cell_type": "code",
   "execution_count": 20,
   "id": "3d8bdbba-eb23-41ea-98e4-75af9a5d1cdb",
   "metadata": {},
   "outputs": [
    {
     "name": "stdout",
     "output_type": "stream",
     "text": [
      "Директория: C:\\Users\\dplog\\Python\\1, Файл: app.txt\n"
     ]
    }
   ],
   "source": [
    "path = \"C:\\\\Users\\\\dplog\\\\Python\\\\1\\\\app.txt\"\n",
    "\n",
    "\n",
    "# Разделение пути на директорию и файл\n",
    "directory, file = os.path.split(path)\n",
    "print(f\"Директория: {directory}, Файл: {file}\")"
   ]
  },
  {
   "cell_type": "code",
   "execution_count": 21,
   "id": "5960e770-e9a3-4327-a74d-049768f18984",
   "metadata": {},
   "outputs": [
    {
     "name": "stdout",
     "output_type": "stream",
     "text": [
      "Имя файла: app.txt\n",
      "Директория: C:\\Users\\dplog\\Python\\1\n"
     ]
    }
   ],
   "source": [
    "# Получение только имени файла\n",
    "print(f\"Имя файла: {os.path.basename(path)}\")\n",
    "\n",
    "\n",
    "# Получение только директории\n",
    "print(f\"Директория: {os.path.dirname(path)}\")\n"
   ]
  },
  {
   "cell_type": "markdown",
   "id": "e0ac30a3-75c0-41e4-9b2b-80dae4f317d9",
   "metadata": {},
   "source": [
    "### Получение абсолютного пути\n",
    "`os.path.abspath(path)` преобразует относительный путь в абсолютный.\n"
   ]
  },
  {
   "cell_type": "code",
   "execution_count": 22,
   "id": "2037c5d5-a125-47a7-adfa-b2f3c8eb7ef9",
   "metadata": {},
   "outputs": [
    {
     "name": "stdout",
     "output_type": "stream",
     "text": [
      "Абсолютный путь: C:\\Users\\dplog\\Python\\1\\example.txt\n"
     ]
    }
   ],
   "source": [
    "\n",
    "\n",
    "# Относительный путь\n",
    "relative_path = \"example.txt\"\n",
    "\n",
    "\n",
    "# Преобразование в абсолютный путь\n",
    "absolute_path = os.path.abspath(relative_path)\n",
    "print(f\"Абсолютный путь: {absolute_path}\")"
   ]
  },
  {
   "cell_type": "markdown",
   "id": "e8f463a4-2866-477c-a6b7-52652b14bf8c",
   "metadata": {},
   "source": [
    "### Соединение путей\n",
    "Для объединения нескольких компонентов пути к файлам и директориям используется `os.path.join()`.\n"
   ]
  },
  {
   "cell_type": "code",
   "execution_count": 23,
   "id": "9aa4664a-8d9b-4565-8ccd-88ae5d5b435c",
   "metadata": {},
   "outputs": [
    {
     "name": "stdout",
     "output_type": "stream",
     "text": [
      "Путь: C:\\Users\\dplog\\Python\\1\\docs\\data.txt\n"
     ]
    }
   ],
   "source": [
    "\n",
    "\n",
    "# Объединение нескольких компонентов\n",
    "current_dir = os.getcwd()\n",
    "sub_dir = \"docs\"\n",
    "file_name = \"data.txt\"\n",
    "full_path = os.path.join(current_dir, sub_dir, file_name)\n",
    "print(f\"Путь: {full_path}\")\n"
   ]
  },
  {
   "cell_type": "markdown",
   "id": "e9874d46-ae33-4886-a7bb-e1dae79a5bc3",
   "metadata": {},
   "source": [
    "## Обход директории и её содержимого\n",
    "Функция `os.walk` позволяет рекурсивно обойти директорию и её содержимое, включая файлы и поддиректории. Это удобный инструмент для работы со сложными структурами файловой системы.\n"
   ]
  },
  {
   "cell_type": "code",
   "execution_count": null,
   "id": "0441bfc1-de9d-4d9e-a5c2-03d7edb8c86f",
   "metadata": {},
   "outputs": [],
   "source": [
    "# Рекурсивный обход директории\n",
    "for root, dirs, files in os.walk(\".\"):\n",
    "    print(f\"Текущая директория: {root}\")\n",
    "    print(f\"Поддиректории: {dirs}\")\n",
    "    print(f\"Файлы: {files}\")\n",
    "    print(\"-\" * 50)\n",
    "\n"
   ]
  },
  {
   "cell_type": "markdown",
   "id": "aad66c57-cbee-448d-917b-21bbfaf01bb2",
   "metadata": {},
   "source": [
    "Пример использования: Поиск файлов с определённым расширением\n"
   ]
  },
  {
   "cell_type": "code",
   "execution_count": null,
   "id": "1ab7368a-c051-4870-b103-7d3d3f8aa1e7",
   "metadata": {},
   "outputs": [],
   "source": [
    "# Поиск всех .txt файлов\n",
    "for root, dirs, files in os.walk(\".\"):\n",
    "    for file in files:\n",
    "        if file.endswith(\".txt\"):\n",
    "            print(f\"Найден файл: {os.path.join(root, file)}\")"
   ]
  },
  {
   "cell_type": "markdown",
   "id": "dbe289aa-e32d-419c-ad29-7daf0f01398e",
   "metadata": {},
   "source": [
    "os.walk() работает рекурсивно, но на каждой итерации он выдает:\n",
    "\n",
    "* root — текущую директорию,\n",
    "\n",
    "* dirs — список поддиректорий внутри этой директории,\n",
    "\n",
    "* files — список файлов только в этой директории."
   ]
  },
  {
   "cell_type": "markdown",
   "id": "775147cb-ad59-4d75-89f9-ddbcbec5fa03",
   "metadata": {},
   "source": [
    "Допустим, у нас такая структура папок:\n",
    "```\n",
    "my_folder/\n",
    "├── file1.txt\n",
    "├── subdir1/\n",
    "│   ├── file2.txt\n",
    "│   └── subsubdir/\n",
    "│       └── file3.txt\n",
    "└── subdir2/\n",
    "    └── file4.txt\n",
    "```    \n",
    "При обходе с os.walk('my_folder') генератор вернет последовательно:\n",
    "\n",
    "* Первая итерация (my_folder):\n",
    "\n",
    "   root = \"my_folder\"\n",
    "\n",
    "   dirs = [\"subdir1\", \"subdir2\"]\n",
    "\n",
    "   files = [\"file1.txt\"]\n",
    "\n",
    "* Вторая итерация (my_folder/subdir1):\n",
    "\n",
    "   root = \"my_folder/subdir1\"\n",
    "\n",
    "   dirs = [\"subsubdir\"]\n",
    "\n",
    "   files = [\"file2.txt\"]\n",
    "\n",
    "* Третья итерация (my_folder/subdir1/subsubdir):\n",
    "\n",
    "   root = \"my_folder/subdir1/subsubdir\"\n",
    "\n",
    "   dirs = []\n",
    "\n",
    "   files = [\"file3.txt\"]\n",
    "\n",
    "* Четвертая итерация (my_folder/subdir2):\n",
    "\n",
    "   root = \"my_folder/subdir2\"\n",
    "\n",
    "   dirs = []\n",
    "\n",
    "   files = [\"file4.txt\"]"
   ]
  },
  {
   "cell_type": "markdown",
   "id": "a9fb0b01-2bf4-4242-bb13-e300fe767c74",
   "metadata": {},
   "source": [
    "### Как получить все файлы из всех поддиректорий?  \n",
    "Нужно собрать их вручную, объединяя root с именами файлов:"
   ]
  },
  {
   "cell_type": "code",
   "execution_count": null,
   "id": "27a67ac4-0538-4573-a6e6-a15897715dbc",
   "metadata": {},
   "outputs": [],
   "source": [
    "import os\n",
    "\n",
    "all_files = []\n",
    "for root, dirs, files in os.walk('my_folder'):\n",
    "    for file in files:\n",
    "        full_path = os.path.join(root, file)\n",
    "        all_files.append(full_path)\n",
    "\n",
    "print(\"Все файлы:\")\n",
    "print(*all_files, sep='\\n')"
   ]
  },
  {
   "cell_type": "code",
   "execution_count": null,
   "id": "a96d374d-fd44-4645-881e-f2c08f34a440",
   "metadata": {},
   "outputs": [],
   "source": []
  },
  {
   "cell_type": "code",
   "execution_count": null,
   "id": "8d65ba13-2a64-42bd-9603-e92832a9a182",
   "metadata": {},
   "outputs": [],
   "source": []
  },
  {
   "cell_type": "code",
   "execution_count": null,
   "id": "101b96f5-0bf9-4381-879d-a19235532c10",
   "metadata": {},
   "outputs": [],
   "source": [
    "#Какой результат будет выведен при выполнении следующего кода?\n",
    "import os\n",
    "\n",
    "\n",
    "path = \"/home/user/docs/file.txt\"\n",
    "print(os.path.dirname(path))\n"
   ]
  },
  {
   "cell_type": "markdown",
   "id": "e302cd90-d489-41ec-a350-c204ce7527b3",
   "metadata": {},
   "source": [
    "# Модуль sys\n",
    "Модуль sys предоставляет доступ к функциям и переменным, которые используются и поддерживаются интерпретатором Python. Этот модуль позволяет взаимодействовать с окружением Python, управлять аргументами командной строки, путями поиска модулей, стандартным вводом и выводом.\n",
    "Для работы с функциями модуля sys необходимо его импортировать:  \n",
    "*Синтаксис:*  \n",
    "`import sys` \n"
   ]
  },
  {
   "cell_type": "markdown",
   "id": "c10a3b9f-a638-4ff1-bfab-8afb644d0e9e",
   "metadata": {},
   "source": [
    "***Работаем в PyCharm***"
   ]
  },
  {
   "cell_type": "markdown",
   "id": "08d36439-d0e5-4688-94b9-c753607499e3",
   "metadata": {},
   "source": [
    "### Аргументы командной строки\n",
    "`sys.argv` — это список, который содержит аргументы, переданные скрипту при его запуске из командной строки.\n",
    "* Первый элемент списка (`sys.argv[0]`) — это имя скрипта.\n",
    "* Остальные элементы — это аргументы, переданные после имени скрипта.\n"
   ]
  },
  {
   "cell_type": "code",
   "execution_count": null,
   "id": "0a012730-6b8e-40ae-b4d9-d12e03ea4ee0",
   "metadata": {},
   "outputs": [],
   "source": [
    "import sys\n",
    "\n",
    "\n",
    "# Вывод всех аргументов командной строки\n",
    "print(\"Все аргументы:\", sys.argv)\n",
    "\n",
    "\n",
    "# Работа с первым аргументом (если он передан)\n",
    "if len(sys.argv) > 1:\n",
    "    print(f\"Переданный аргумент: {sys.argv[1]}\")\n",
    "else:\n",
    "    print(\"Аргументы не переданы.\")\n"
   ]
  },
  {
   "cell_type": "code",
   "execution_count": null,
   "id": "99a28deb-e002-4196-a108-eb73dc41a53f",
   "metadata": {},
   "outputs": [],
   "source": []
  },
  {
   "cell_type": "markdown",
   "id": "e79ae8e9-50de-4cd0-939b-99f17f99f34d",
   "metadata": {},
   "source": [
    "#Запуск python файла через терминал:\r\n",
    "# Замените script.py на название вашего файла\r\n",
    "python script.py argument1\r\n"
   ]
  },
  {
   "cell_type": "code",
   "execution_count": null,
   "id": "d957e4ab-c236-43d9-a422-0f4ae8ac758c",
   "metadata": {},
   "outputs": [],
   "source": [
    "#Пример: Обработка нескольких аргументов\n",
    "import sys\n",
    "\n",
    "\n",
    "if len(sys.argv) > 1:\n",
    "    for i, arg in enumerate(sys.argv[1:], start=1):\n",
    "        print(f\"Аргумент {i}: {arg}\")\n",
    "else:\n",
    "    print(\"Аргументы не переданы.\")\n"
   ]
  },
  {
   "cell_type": "code",
   "execution_count": null,
   "id": "f1f7ad70-d372-4900-9d2e-b68c4fd6d88d",
   "metadata": {},
   "outputs": [],
   "source": [
    "#Запуск python файла через терминал:\n",
    "python script.py arg1 arg2 arg3\n"
   ]
  },
  {
   "cell_type": "markdown",
   "id": "80285c6f-e1b6-44f2-beaa-2a40e01609e7",
   "metadata": {},
   "source": [
    "### Практическое применение sys.argv\n",
    "Аргументы командной строки часто используются для передачи данных в скрипт, делая программу более гибкой.\n"
   ]
  },
  {
   "cell_type": "markdown",
   "id": "35f7f580-ab4c-4e83-8a7d-b12e6ec318c8",
   "metadata": {},
   "source": [
    "Пример: Вывод содержимого директории\n",
    "Скрипт принимает директорию как аргумент и выводит её содержимое.\n"
   ]
  },
  {
   "cell_type": "code",
   "execution_count": null,
   "id": "4baf38cf-6d10-42a6-be58-4db8a44e67cd",
   "metadata": {},
   "outputs": [],
   "source": [
    "import sys\n",
    "import os\n",
    "\n",
    "\n",
    "# Проверяем, передан ли аргумент\n",
    "if len(sys.argv) != 2:\n",
    "    print(\"Использование: python script.py <директория>\")\n",
    "    sys.exit()\n",
    "\n",
    "\n",
    "directory = sys.argv[1]\n",
    "\n",
    "\n",
    "# Проверяем существование директории\n",
    "if not os.path.isdir(directory):\n",
    "    print(f\"Директория '{directory}' не существует.\")\n",
    "    sys.exit()\n",
    "\n",
    "\n",
    "# Выводим содержимое директории\n",
    "print(f\"Содержимое директории '{directory}':\")\n",
    "for item in os.listdir(directory):\n",
    "    print(f\"- {item}\")\n"
   ]
  },
  {
   "cell_type": "code",
   "execution_count": null,
   "id": "39fa9da2-6fc2-4f56-9c7e-9e76ef11442a",
   "metadata": {},
   "outputs": [],
   "source": [
    "#Запуск:\n",
    "python script.py /home/user/documents\n"
   ]
  },
  {
   "cell_type": "markdown",
   "id": "e5b15646-58e3-4b7f-8883-f7ddc2b26cf9",
   "metadata": {},
   "source": [
    "### sys.exit()\n",
    "Функция exit() модуля sys - это быстрый способ выйти из программы при возникновении ошибки. Она вызывает исключение SystemExit, которое можно перехватить или проигнорировать. Однако если это исключение не обрабатывается, Python завершает выполнение программы.\n"
   ]
  },
  {
   "cell_type": "code",
   "execution_count": null,
   "id": "84e0ce0a-1776-429f-aed2-9fc3b8fd902c",
   "metadata": {},
   "outputs": [],
   "source": []
  }
 ],
 "metadata": {
  "kernelspec": {
   "display_name": "Python 3 (ipykernel)",
   "language": "python",
   "name": "python3"
  },
  "language_info": {
   "codemirror_mode": {
    "name": "ipython",
    "version": 3
   },
   "file_extension": ".py",
   "mimetype": "text/x-python",
   "name": "python",
   "nbconvert_exporter": "python",
   "pygments_lexer": "ipython3",
   "version": "3.12.4"
  }
 },
 "nbformat": 4,
 "nbformat_minor": 5
}
