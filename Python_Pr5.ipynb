{
 "cells": [
  {
   "cell_type": "markdown",
   "id": "a6c5ea96-a8ed-4eb6-9dde-f5a1755da9ff",
   "metadata": {},
   "source": [
    "# Практические задания 5  \n",
    "**Лекция 10** - Знакомство с коллекциями: списки  \n",
    "**Лекция 11** - Методы строк\n"
   ]
  },
  {
   "cell_type": "markdown",
   "id": "1cf6b643-1068-46f2-a798-3a49f9312179",
   "metadata": {},
   "source": [
    "1.***Сложение чисел***  \n",
    "Напишите программу, которая принимает строку с числами через пробел и выводит сумму всех чисел.  \n",
    "*Пример вывода:*\n",
    "    Введите список чисел через пробел: 1 2 3 4 5    \n",
    "    Сумма чисел: 15\n"
   ]
  },
  {
   "cell_type": "code",
   "execution_count": 11,
   "id": "11d762f2-c6cd-48d4-b8c2-b2e3c31c8d64",
   "metadata": {},
   "outputs": [
    {
     "name": "stdout",
     "output_type": "stream",
     "text": [
      "21\n"
     ]
    }
   ],
   "source": [
    "text = '1 2 3 4 5 6'\n",
    "#text = input()\n",
    "\n",
    "s=0\n",
    "lst_num = text.split()\n",
    "for item in lst_num:\n",
    "    s+=int(item)\n",
    "\n",
    "print(s)"
   ]
  },
  {
   "cell_type": "markdown",
   "id": "f19e63cd-46cb-414b-92f9-87b9628a2b7f",
   "metadata": {},
   "source": [
    "2. ***Обратный список***  \n",
    "Напишите программу, которая принимает строку с числами через пробел и выводит его в обратном порядке. Обратите внимание, что в списке должны быть именно числа, а не строки.\n",
    "Пример вывода:  \n",
    "Введите список чисел через пробел: 1 2 3 4 5    \n",
    "Обратный список: [5, 4, 3, 2, 1]\n"
   ]
  },
  {
   "cell_type": "code",
   "execution_count": 12,
   "id": "55ef74e0-ce87-4e88-b465-69f8f4a127e0",
   "metadata": {},
   "outputs": [
    {
     "name": "stdout",
     "output_type": "stream",
     "text": [
      "[5, 4, 3, 2, 1]\n"
     ]
    }
   ],
   "source": [
    "lst_num = [1, 2, 3, 4, 5]\n",
    "for item in lst_num[::-1]:\n",
    "    int(item)"
   ]
  },
  {
   "cell_type": "code",
   "execution_count": 17,
   "id": "5beccedc-4f97-430c-9fb9-89e474a1ff81",
   "metadata": {},
   "outputs": [
    {
     "name": "stdin",
     "output_type": "stream",
     "text": [
      "Введите список чисел через пробел: 1 2 3\n"
     ]
    },
    {
     "name": "stdout",
     "output_type": "stream",
     "text": [
      "[3, 2, 1]\n"
     ]
    }
   ],
   "source": [
    "numbers = input('Введите список чисел через пробел:').split() #['1','2','3']\n",
    "i = 0\n",
    "reverse = numbers[::-1]\n",
    "for item in reverse: #['3','2','1']\n",
    "    numbers[i] = int(item)\n",
    "    i+=1\n",
    "print(numbers)"
   ]
  },
  {
   "cell_type": "code",
   "execution_count": 18,
   "id": "c62018ed-bb36-4a6f-8937-43b4c21d22eb",
   "metadata": {},
   "outputs": [
    {
     "name": "stdin",
     "output_type": "stream",
     "text": [
      "Введите список чисел через пробел: 1 2 3\n"
     ]
    },
    {
     "name": "stdout",
     "output_type": "stream",
     "text": [
      "[3, 2, 1]\n"
     ]
    }
   ],
   "source": [
    "numbers = input('Введите список чисел через пробел:').split() #['1','2','3']\n",
    "i = 0\n",
    "reverse = numbers[::-1]\n",
    "for item in reverse: #['3','2','1']\n",
    "    reverse[i] = int(item)\n",
    "    i+=1\n",
    "print(reverse)"
   ]
  },
  {
   "cell_type": "markdown",
   "id": "be60aff7-3346-4ae6-b726-c3baf98b473e",
   "metadata": {},
   "source": [
    "3. ***Сумма чётных и нечётных чисел***  \n",
    "Напишите программу, которая подсчитывает сумму чётных и нечётных чисел в списке по отдельности.  \n",
    "numbers = [-1, 8, 2, 0, -3, -9, -1, 10, 7, -4]  \n",
    "Пример вывода:  \n",
    "Изначальный список: [-1, 8, 2, 0, -3, -9, -1, 10, 7, -4]  \n",
    "Сумма чётных: 16  \n",
    "Сумма нечётных: -7\n"
   ]
  },
  {
   "cell_type": "code",
   "execution_count": 19,
   "id": "c9bf19a9-0e8b-4d31-8902-b733f52bd450",
   "metadata": {},
   "outputs": [
    {
     "name": "stdout",
     "output_type": "stream",
     "text": [
      "нечетные: -7\n",
      "четные: 16\n"
     ]
    }
   ],
   "source": [
    "numbers = [-1, 8, 2, 0, -3, -9, -1, 10, 7, -4]\n",
    "\n",
    "odd = 0\n",
    "even = 0\n",
    "for item in numbers:\n",
    "    if item%2 == 1:\n",
    "        odd+=item\n",
    "    else:\n",
    "        even+=item\n",
    "print('нечетные:', odd)\n",
    "print('четные:', even)"
   ]
  },
  {
   "cell_type": "markdown",
   "id": "8a17ce06-288f-4b55-bfb3-eff99a8c897b",
   "metadata": {},
   "source": [
    "4. ***Максимальное число***  \n",
    "Напишите программу, которая выводит наибольшее число в списке, не используя встроенную функцию max(), а также его индекс в списке.  \n",
    "numbers = [3, 12, 8, 22, 9, 25, 6, 23, 8, 7]  \n",
    "Пример вывода:  \n",
    "Список чисел: [3, 12, 8, 22, 9, 25, 6, 23, 8, 7]  \n",
    "Наибольшее число: 25  \n",
    "Индекс числа: 5\n"
   ]
  },
  {
   "cell_type": "code",
   "execution_count": 24,
   "id": "02475d56-7504-4ac0-bfb3-4778d7c71e09",
   "metadata": {},
   "outputs": [
    {
     "name": "stdout",
     "output_type": "stream",
     "text": [
      "max= 25  i= 5\n"
     ]
    }
   ],
   "source": [
    "numbers = [3, 12, 8, 22, 9, 25, 6, 23, 8, 7]\n",
    "\n",
    "max = numbers[0]\n",
    "max_i = 0\n",
    "i = 0\n",
    "for num in numbers:\n",
    "    if num > max:\n",
    "        max = num\n",
    "        max_i = i\n",
    "    i += 1\n",
    "print('max=',max,' i=',max_i)\n"
   ]
  },
  {
   "cell_type": "markdown",
   "id": "d8753894-1f6f-47d5-8fb0-0cf730793009",
   "metadata": {},
   "source": [
    "5. ***Перестановка соседних элементов***  \n",
    "Напишите программу, которая меняет местами соседние элементы списка. Пример списка: umbers = [1, 2, 3, 4, 5]  \n",
    "Пример вывода:  \n",
    "Изначальный список: [1, 2, 3, 4, 5]  \n",
    "Список после перестановки: [2, 1, 4, 3, 5]\n"
   ]
  },
  {
   "cell_type": "code",
   "execution_count": 31,
   "id": "fd871bdd-bcc3-4990-b4b0-8e77331deb4b",
   "metadata": {},
   "outputs": [
    {
     "name": "stdout",
     "output_type": "stream",
     "text": [
      "[2, 1, 4, 3, 5]\n"
     ]
    }
   ],
   "source": [
    "numbers = [1, 2, 3, 4, 5]\n",
    "\n",
    "for i in range(0,len(numbers)-1,2): # 0,2\n",
    "    numbers[i], numbers[i+1] = numbers[i+1], numbers[i]\n",
    "    \n",
    "print(numbers)"
   ]
  },
  {
   "cell_type": "markdown",
   "id": "1b52cf9e-0290-48be-8c4b-82e94a3ee53b",
   "metadata": {},
   "source": [
    "6. ***Числа и слова***  \n",
    "Напишите программу, которая обрабатывает строку, содержащую слова и целые числа, разделённые пробелами. Программа должна преобразовать строку в   список, где числа преобразуются в тип int, а остальные элементы остаются строками и начинаются с заглавной буквы.\n",
    "text = \"apple 42 banana 3 100 orange\"  \n",
    "Пример вывода:  \n",
    "Изначальная строка: apple 42 banana 3 100 orange  \n",
    "Результат: ['Apple', 42, 'Banana', 3, 100, 'Orange']\n"
   ]
  },
  {
   "cell_type": "code",
   "execution_count": 35,
   "id": "96134573-8083-488b-85b4-df5ae577cb54",
   "metadata": {},
   "outputs": [
    {
     "name": "stdin",
     "output_type": "stream",
     "text": [
      " apple 42 banana 3 100 orange\n"
     ]
    },
    {
     "name": "stdout",
     "output_type": "stream",
     "text": [
      "['Apple', 42, 'Banana', 3, 100, 'Orange']\n"
     ]
    }
   ],
   "source": [
    "text = input().split()\n",
    "\n",
    "i=0\n",
    "for item in text:\n",
    "    if item.isalpha():\n",
    "        text[i] = item.capitalize()\n",
    "    if item.isdigit():\n",
    "        text[i]=int(item)\n",
    "    i+=1\n",
    "\n",
    "print(text)\n",
    "        "
   ]
  },
  {
   "cell_type": "markdown",
   "id": "81ef1b03-6a4f-498f-91c3-4c7047acadeb",
   "metadata": {},
   "source": [
    "7. ***Проверка формата email***  \n",
    "Напишите программу, которая проверяет, начинается ли строка с буквы, содержит ли в себе символ @, и заканчивается ли на .com или .de.  \n",
    "Пример вывода:  \n",
    "Введите email: user@example.com  \n",
    "Корректный формат? True\n"
   ]
  },
  {
   "cell_type": "code",
   "execution_count": 42,
   "id": "c0bf5778-b774-46f5-b8a5-bd6c11722dbd",
   "metadata": {},
   "outputs": [
    {
     "name": "stdin",
     "output_type": "stream",
     "text": [
      " user@example.us\n"
     ]
    },
    {
     "name": "stdout",
     "output_type": "stream",
     "text": [
      "Корректный формат? False\n"
     ]
    }
   ],
   "source": [
    "email = input()\n",
    "\n",
    "pos = email.find('@')\n",
    "print('Корректный формат?',email[0].isalpha() and pos!=-1 and (email.endswith('.de') or email.endswith('.com')))"
   ]
  },
  {
   "cell_type": "markdown",
   "id": "1fd0b0e0-6e49-45e8-97e6-9aa18c866232",
   "metadata": {},
   "source": [
    "8. ***Развернуть слова***  \n",
    "Напишите программу, которая разворачивает каждое слово в строке, сохраняя их порядок.  \n",
    "Пример вывода:  \n",
    "Введите строку: Python is fun    \n",
    "Результат: nohtyP si nuf\n"
   ]
  },
  {
   "cell_type": "code",
   "execution_count": 43,
   "id": "b6552908-ad53-410e-922c-7b802c15e733",
   "metadata": {},
   "outputs": [
    {
     "name": "stdin",
     "output_type": "stream",
     "text": [
      " Python is fun\n"
     ]
    },
    {
     "name": "stdout",
     "output_type": "stream",
     "text": [
      "nohtyP si nuf "
     ]
    }
   ],
   "source": [
    "words = input().split()\n",
    "\n",
    "for word in words:\n",
    "    print(word[::-1],end=' ')"
   ]
  },
  {
   "cell_type": "markdown",
   "id": "565f93e5-5433-4bdf-bb2b-fe17663f5a71",
   "metadata": {},
   "source": [
    "9. ***Количество символов***  \n",
    "Напишите программу, которая подсчитывает количество букв, цифр и пробелов в строке. Также выведите количество остальных символов.  \n",
    "Пример вывода:  \n",
    "Введите строку: Python 3.12 is awesome!    \n",
    "Буквы: 15  \n",
    "Цифры: 3  \n",
    "Пробелы: 3  \n",
    "Остальные символы: 2\n"
   ]
  },
  {
   "cell_type": "code",
   "execution_count": 46,
   "id": "7f8e3333-1ac2-4e10-bd9c-e98b1cb43482",
   "metadata": {},
   "outputs": [
    {
     "name": "stdin",
     "output_type": "stream",
     "text": [
      " Python 3.12 is awesome!\n"
     ]
    },
    {
     "name": "stdout",
     "output_type": "stream",
     "text": [
      " Буквы: 15 \n",
      " Цифры: 3 \n",
      " Пробелы: 3 \n",
      " Остальные символы: 2\n"
     ]
    }
   ],
   "source": [
    "text = input()\n",
    "\n",
    "alp = 0\n",
    "dig = 0\n",
    "space = 0\n",
    "other = 0\n",
    "\n",
    "for ch in text:\n",
    "    if ch.isalpha():\n",
    "        alp+=1\n",
    "    elif ch.isdigit():\n",
    "        dig+=1\n",
    "    elif ch==' ':\n",
    "        space+=1\n",
    "    else:\n",
    "        other+=1\n",
    "\n",
    "print(' Буквы:',alp ,'\\n','Цифры:', dig, '\\n', 'Пробелы:', space, '\\n', 'Остальные символы:', other)"
   ]
  },
  {
   "cell_type": "markdown",
   "id": "b08e54a7-11f4-4032-a73b-99171a4653dd",
   "metadata": {},
   "source": [
    "10. ***По одному пробелу***  \n",
    "Напишите программу, которая удаляет в строке лишние пробелы, оставляя только по одному пробелу между словами.  \n",
    "text = \" Hello, World! How are you? \"  \n",
    "Пример вывода:  \n",
    "Строка: '    Hello,     World!  How  are   you?    '  \n",
    "Результат: 'Hello, World! How are you?'  \n"
   ]
  },
  {
   "cell_type": "code",
   "execution_count": 48,
   "id": "f44e8f70-d5f4-4ef0-92e5-51c8606af41f",
   "metadata": {},
   "outputs": [
    {
     "name": "stdout",
     "output_type": "stream",
     "text": [
      "Hello, World! How are you?\n"
     ]
    }
   ],
   "source": [
    "text = ' Hello,  World! How are   you? '\n",
    "\n",
    "lst = text.split()\n",
    "print(' '.join(lst))"
   ]
  },
  {
   "cell_type": "markdown",
   "id": "2e386c7b-a15b-4dd0-b4dd-4fdc11401f1c",
   "metadata": {},
   "source": [
    "11. ***Все позиции подстроки***  \n",
    "Напишите программу, которая ищет подстроку в строке и выводит все индексы начала вхождения подстроки.  \n",
    "Пример вывода:  \n",
    "Строка: Banana bAnana baNAna  \n",
    "Подстрока: ban  \n",
    "Позиция: 0  \n",
    "Позиция: 7  \n",
    "Позиция: 14\n"
   ]
  },
  {
   "cell_type": "code",
   "execution_count": 52,
   "id": "2f52c424-8124-46b5-822f-e5c8053a1701",
   "metadata": {},
   "outputs": [
    {
     "name": "stdout",
     "output_type": "stream",
     "text": [
      "7\n"
     ]
    }
   ],
   "source": [
    "text = 'Banana bAnana baNAna'.lower()\n",
    "print(text.find('ban',3))"
   ]
  },
  {
   "cell_type": "code",
   "execution_count": null,
   "id": "9f1c3784-7502-4152-b0da-cbea174d4de8",
   "metadata": {},
   "outputs": [],
   "source": []
  },
  {
   "cell_type": "code",
   "execution_count": null,
   "id": "1dbfcb74-4dba-487e-93dd-76b655f3b6a6",
   "metadata": {},
   "outputs": [],
   "source": []
  },
  {
   "cell_type": "code",
   "execution_count": 53,
   "id": "c5dea2e4-a2c8-453f-a333-a49e46c4533f",
   "metadata": {},
   "outputs": [
    {
     "name": "stdin",
     "output_type": "stream",
     "text": [
      " Banana bAnana baNAna\n",
      " ban\n"
     ]
    },
    {
     "name": "stdout",
     "output_type": "stream",
     "text": [
      "0\n",
      "7\n",
      "14\n"
     ]
    }
   ],
   "source": [
    "text = input() #Banana bAnana baNAna\n",
    "\n",
    "substr = input() #ban\n",
    "\n",
    "text = text.lower()\n",
    "\n",
    "index = text.find(substr) #0\n",
    "while index!=-1:\n",
    "    print(index)\n",
    "    index = text.find(substr,index+1)"
   ]
  },
  {
   "cell_type": "markdown",
   "id": "d49fd8fa-1dc7-431b-8d7c-7b0e7a0217fb",
   "metadata": {},
   "source": [
    "12. ***Кодирование строки***  \n",
    "Напишите программу, которая принимает строку и кодирует её с помощью следующего правила: каждая последовательность одинаковых символов заменяется на символ и количество его повторений. Например, строка aaaabbc превращается в a4b2c1.  \n",
    "Пример вывода:  \n",
    "Введите строку: aaaabbc    \n",
    "Закодированная строка: a4b2c1  \n"
   ]
  },
  {
   "cell_type": "code",
   "execution_count": null,
   "id": "1de93be8-3637-4002-a2f0-28d556818d17",
   "metadata": {},
   "outputs": [],
   "source": []
  },
  {
   "cell_type": "code",
   "execution_count": null,
   "id": "7f249b4e-310f-44b2-b9a5-6b47f945e4ae",
   "metadata": {},
   "outputs": [],
   "source": []
  }
 ],
 "metadata": {
  "kernelspec": {
   "display_name": "Python 3 (ipykernel)",
   "language": "python",
   "name": "python3"
  },
  "language_info": {
   "codemirror_mode": {
    "name": "ipython",
    "version": 3
   },
   "file_extension": ".py",
   "mimetype": "text/x-python",
   "name": "python",
   "nbconvert_exporter": "python",
   "pygments_lexer": "ipython3",
   "version": "3.12.4"
  }
 },
 "nbformat": 4,
 "nbformat_minor": 5
}
