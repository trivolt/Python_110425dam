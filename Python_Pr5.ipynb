{
 "cells": [
  {
   "cell_type": "markdown",
   "id": "a6c5ea96-a8ed-4eb6-9dde-f5a1755da9ff",
   "metadata": {},
   "source": [
    "# Практические задания 5  \n",
    "**Лекция 10** - Знакомство с коллекциями: списки  \n",
    "**Лекция 11** - Методы строк\n"
   ]
  },
  {
   "cell_type": "markdown",
   "id": "1cf6b643-1068-46f2-a798-3a49f9312179",
   "metadata": {},
   "source": [
    "1.***Сложение чисел***  \n",
    "Напишите программу, которая принимает строку с числами через пробел и выводит сумму всех чисел.  \n",
    "*Пример вывода:*\n",
    "    Введите список чисел через пробел: 1 2 3 4 5    \n",
    "    Сумма чисел: 15\n"
   ]
  },
  {
   "cell_type": "code",
   "execution_count": null,
   "id": "11d762f2-c6cd-48d4-b8c2-b2e3c31c8d64",
   "metadata": {},
   "outputs": [],
   "source": []
  },
  {
   "cell_type": "markdown",
   "id": "f19e63cd-46cb-414b-92f9-87b9628a2b7f",
   "metadata": {},
   "source": [
    "2. ***Обратный список***  \n",
    "Напишите программу, которая принимает строку с числами через пробел и выводит его в обратном порядке. Обратите внимание, что в списке должны быть именно числа, а не строки.\n",
    "Пример вывода:  \n",
    "Введите список чисел через пробел: 1 2 3 4 5    \n",
    "Обратный список: [5, 4, 3, 2, 1]\n"
   ]
  },
  {
   "cell_type": "code",
   "execution_count": null,
   "id": "55ef74e0-ce87-4e88-b465-69f8f4a127e0",
   "metadata": {},
   "outputs": [],
   "source": []
  },
  {
   "cell_type": "markdown",
   "id": "be60aff7-3346-4ae6-b726-c3baf98b473e",
   "metadata": {},
   "source": [
    "3. ***Сумма чётных и нечётных чисел***  \n",
    "Напишите программу, которая подсчитывает сумму чётных и нечётных чисел в списке по отдельности.  \n",
    "numbers = [-1, 8, 2, 0, -3, -9, -1, 10, 7, -4]  \n",
    "Пример вывода:  \n",
    "Изначальный список: [-1, 8, 2, 0, -3, -9, -1, 10, 7, -4]  \n",
    "Сумма чётных: 16  \n",
    "Сумма нечётных: -7\n"
   ]
  },
  {
   "cell_type": "code",
   "execution_count": null,
   "id": "c9bf19a9-0e8b-4d31-8902-b733f52bd450",
   "metadata": {},
   "outputs": [],
   "source": []
  },
  {
   "cell_type": "markdown",
   "id": "8a17ce06-288f-4b55-bfb3-eff99a8c897b",
   "metadata": {},
   "source": [
    "4. ***Максимальное число***  \n",
    "Напишите программу, которая выводит наибольшее число в списке, не используя встроенную функцию max(), а также его индекс в списке.  \n",
    "numbers = [3, 12, 8, 22, 9, 25, 6, 23, 8, 7]  \n",
    "Пример вывода:  \n",
    "Список чисел: [3, 12, 8, 22, 9, 25, 6, 23, 8, 7]  \n",
    "Наибольшее число: 25  \n",
    "Индекс числа: 5\n"
   ]
  },
  {
   "cell_type": "code",
   "execution_count": null,
   "id": "02475d56-7504-4ac0-bfb3-4778d7c71e09",
   "metadata": {},
   "outputs": [],
   "source": []
  },
  {
   "cell_type": "markdown",
   "id": "d8753894-1f6f-47d5-8fb0-0cf730793009",
   "metadata": {},
   "source": [
    "5. ***Перестановка соседних элементов***  \n",
    "Напишите программу, которая меняет местами соседние элементы списка. Пример списка: umbers = [1, 2, 3, 4, 5]  \n",
    "Пример вывода:  \n",
    "Изначальный список: [1, 2, 3, 4, 5]  \n",
    "Список после перестановки: [2, 1, 4, 3, 5]\n"
   ]
  },
  {
   "cell_type": "code",
   "execution_count": null,
   "id": "fd871bdd-bcc3-4990-b4b0-8e77331deb4b",
   "metadata": {},
   "outputs": [],
   "source": []
  },
  {
   "cell_type": "markdown",
   "id": "1b52cf9e-0290-48be-8c4b-82e94a3ee53b",
   "metadata": {},
   "source": [
    "6. ***Числа и слова***  \n",
    "Напишите программу, которая обрабатывает строку, содержащую слова и целые числа, разделённые пробелами. Программа должна преобразовать строку в   список, где числа преобразуются в тип int, а остальные элементы остаются строками и начинаются с заглавной буквы.\n",
    "text = \"apple 42 banana 3 100 orange\"  \n",
    "Пример вывода:  \n",
    "Изначальная строка: apple 42 banana 3 100 orange  \n",
    "Результат: ['Apple', 42, 'Banana', 3, 100, 'Orange']\n"
   ]
  },
  {
   "cell_type": "code",
   "execution_count": null,
   "id": "96134573-8083-488b-85b4-df5ae577cb54",
   "metadata": {},
   "outputs": [],
   "source": []
  },
  {
   "cell_type": "markdown",
   "id": "81ef1b03-6a4f-498f-91c3-4c7047acadeb",
   "metadata": {},
   "source": [
    "7. ***Проверка формата email***  \n",
    "Напишите программу, которая проверяет, начинается ли строка с буквы, содержит ли в себе символ @, и заканчивается ли на .com или .de.  \n",
    "Пример вывода:  \n",
    "Введите email: user@example.com  \n",
    "Корректный формат? True\n"
   ]
  },
  {
   "cell_type": "code",
   "execution_count": null,
   "id": "c0bf5778-b774-46f5-b8a5-bd6c11722dbd",
   "metadata": {},
   "outputs": [],
   "source": []
  },
  {
   "cell_type": "markdown",
   "id": "1fd0b0e0-6e49-45e8-97e6-9aa18c866232",
   "metadata": {},
   "source": [
    "8. ***Развернуть слова***  \n",
    "Напишите программу, которая разворачивает каждое слово в строке, сохраняя их порядок.  \n",
    "Пример вывода:  \n",
    "Введите строку: Python is fun    \n",
    "Результат: nohtyP si nuf\n"
   ]
  },
  {
   "cell_type": "code",
   "execution_count": null,
   "id": "b6552908-ad53-410e-922c-7b802c15e733",
   "metadata": {},
   "outputs": [],
   "source": []
  },
  {
   "cell_type": "markdown",
   "id": "565f93e5-5433-4bdf-bb2b-fe17663f5a71",
   "metadata": {},
   "source": [
    "9. ***Количество символов***  \n",
    "Напишите программу, которая подсчитывает количество букв, цифр и пробелов в строке. Также выведите количество остальных символов.  \n",
    "Пример вывода:  \n",
    "Введите строку: Python 3.12 is awesome!    \n",
    "Буквы: 15  \n",
    "Цифры: 3  \n",
    "Пробелы: 3  \n",
    "Остальные символы: 2\n"
   ]
  },
  {
   "cell_type": "code",
   "execution_count": null,
   "id": "7f8e3333-1ac2-4e10-bd9c-e98b1cb43482",
   "metadata": {},
   "outputs": [],
   "source": []
  },
  {
   "cell_type": "markdown",
   "id": "b08e54a7-11f4-4032-a73b-99171a4653dd",
   "metadata": {},
   "source": [
    "10. ***По одному пробелу***  \n",
    "Напишите программу, которая удаляет в строке лишние пробелы, оставляя только по одному пробелу между словами.  \n",
    "text = \" Hello, World! How are you? \"  \n",
    "Пример вывода:  \n",
    "Строка: '    Hello,     World!  How  are   you?    '  \n",
    "Результат: 'Hello, World! How are you?'  \n"
   ]
  },
  {
   "cell_type": "code",
   "execution_count": null,
   "id": "f44e8f70-d5f4-4ef0-92e5-51c8606af41f",
   "metadata": {},
   "outputs": [],
   "source": []
  },
  {
   "cell_type": "markdown",
   "id": "2e386c7b-a15b-4dd0-b4dd-4fdc11401f1c",
   "metadata": {},
   "source": [
    "11. ***Все позиции подстроки***  \n",
    "Напишите программу, которая ищет подстроку в строке и выводит все индексы начала вхождения подстроки.  \n",
    "Пример вывода:  \n",
    "Строка: Banana bAnana baNAna  \n",
    "Подстрока: ban  \n",
    "Позиция: 0  \n",
    "Позиция: 7  \n",
    "Позиция: 14\n"
   ]
  },
  {
   "cell_type": "code",
   "execution_count": null,
   "id": "c5dea2e4-a2c8-453f-a333-a49e46c4533f",
   "metadata": {},
   "outputs": [],
   "source": []
  },
  {
   "cell_type": "markdown",
   "id": "d49fd8fa-1dc7-431b-8d7c-7b0e7a0217fb",
   "metadata": {},
   "source": [
    "12. ***Кодирование строки***  \n",
    "Напишите программу, которая принимает строку и кодирует её с помощью следующего правила: каждая последовательность одинаковых символов заменяется на символ и количество его повторений. Например, строка aaaabbc превращается в a4b2c1.  \n",
    "Пример вывода:  \n",
    "Введите строку: aaaabbc    \n",
    "Закодированная строка: a4b2c1  \n"
   ]
  },
  {
   "cell_type": "code",
   "execution_count": null,
   "id": "1de93be8-3637-4002-a2f0-28d556818d17",
   "metadata": {},
   "outputs": [],
   "source": []
  },
  {
   "cell_type": "code",
   "execution_count": null,
   "id": "7f249b4e-310f-44b2-b9a5-6b47f945e4ae",
   "metadata": {},
   "outputs": [],
   "source": []
  }
 ],
 "metadata": {
  "kernelspec": {
   "display_name": "Python 3 (ipykernel)",
   "language": "python",
   "name": "python3"
  },
  "language_info": {
   "codemirror_mode": {
    "name": "ipython",
    "version": 3
   },
   "file_extension": ".py",
   "mimetype": "text/x-python",
   "name": "python",
   "nbconvert_exporter": "python",
   "pygments_lexer": "ipython3",
   "version": "3.12.4"
  }
 },
 "nbformat": 4,
 "nbformat_minor": 5
}
