{
 "cells": [
  {
   "cell_type": "markdown",
   "id": "4e72a7b3-ff7a-4993-ad75-e4c4e382d026",
   "metadata": {},
   "source": [
    "# Summary 6"
   ]
  },
  {
   "cell_type": "code",
   "execution_count": 2,
   "id": "a51ba0a9-4a20-4df0-ac4d-4867f95fbf8c",
   "metadata": {},
   "outputs": [],
   "source": [
    "str = 'oauibvuhabdgh ijfndb'"
   ]
  },
  {
   "cell_type": "code",
   "execution_count": null,
   "id": "ff6df593-3307-41a5-b79c-c8231a5439ce",
   "metadata": {},
   "outputs": [],
   "source": [
    "str.isdigit() # Активно используем подсказки Tab (после '.' и строки) Shift+Tab (после указания скобок в методе)"
   ]
  },
  {
   "cell_type": "code",
   "execution_count": 3,
   "id": "31d48a7e-9225-4da1-9f24-90807e6be9c2",
   "metadata": {},
   "outputs": [
    {
     "data": {
      "text/plain": [
       "False"
      ]
     },
     "execution_count": 3,
     "metadata": {},
     "output_type": "execute_result"
    }
   ],
   "source": [
    "str='123.6'\n",
    "str.isdigit()"
   ]
  },
  {
   "cell_type": "code",
   "execution_count": 6,
   "id": "56335171-c761-4358-87f4-d5fd3c3e0293",
   "metadata": {},
   "outputs": [
    {
     "data": {
      "text/plain": [
       "-1"
      ]
     },
     "execution_count": 6,
     "metadata": {},
     "output_type": "execute_result"
    }
   ],
   "source": [
    "str.find('a')"
   ]
  },
  {
   "cell_type": "code",
   "execution_count": 7,
   "id": "1940cee5-2326-4e4b-a34d-e9614a270298",
   "metadata": {},
   "outputs": [
    {
     "ename": "ValueError",
     "evalue": "substring not found",
     "output_type": "error",
     "traceback": [
      "\u001b[1;31m---------------------------------------------------------------------------\u001b[0m",
      "\u001b[1;31mValueError\u001b[0m                                Traceback (most recent call last)",
      "Cell \u001b[1;32mIn[7], line 1\u001b[0m\n\u001b[1;32m----> 1\u001b[0m \u001b[38;5;28mstr\u001b[39m\u001b[38;5;241m.\u001b[39mindex(\u001b[38;5;124m'\u001b[39m\u001b[38;5;124ma\u001b[39m\u001b[38;5;124m'\u001b[39m)\n",
      "\u001b[1;31mValueError\u001b[0m: substring not found"
     ]
    }
   ],
   "source": [
    "str.index('a')"
   ]
  },
  {
   "cell_type": "code",
   "execution_count": 8,
   "id": "c00d8990-3f98-443d-b6eb-6ea8cda71daa",
   "metadata": {},
   "outputs": [
    {
     "data": {
      "text/plain": [
       "1"
      ]
     },
     "execution_count": 8,
     "metadata": {},
     "output_type": "execute_result"
    }
   ],
   "source": [
    "str.count('.')"
   ]
  },
  {
   "cell_type": "code",
   "execution_count": 9,
   "id": "0425d2f2-7dd2-4fab-8bee-8bc4a258ba27",
   "metadata": {},
   "outputs": [
    {
     "name": "stdout",
     "output_type": "stream",
     "text": [
      "STUDENT\n"
     ]
    }
   ],
   "source": [
    "str = 'student'\n",
    "\n",
    "print(str.upper())"
   ]
  },
  {
   "cell_type": "code",
   "execution_count": 11,
   "id": "b10f3f00-c335-40c2-89ce-f42646709214",
   "metadata": {},
   "outputs": [
    {
     "name": "stdout",
     "output_type": "stream",
     "text": [
      "STUDENT\n"
     ]
    }
   ],
   "source": [
    "str = str.upper()\n",
    "print(str)"
   ]
  },
  {
   "cell_type": "code",
   "execution_count": 13,
   "id": "56b70ab7-1450-4bc6-beea-68bc0f4fb880",
   "metadata": {},
   "outputs": [
    {
     "name": "stdout",
     "output_type": "stream",
     "text": [
      "Hello world\n"
     ]
    }
   ],
   "source": [
    "# Пример удаления подстрок или символов из исходной строки через replace\n",
    "\n",
    "text = 'Hello world!'\n",
    "print(text.replace('!',''))\n"
   ]
  },
  {
   "cell_type": "code",
   "execution_count": 14,
   "id": "8f4c865a-e2ff-4e39-afb8-c7f4d1fd3b0d",
   "metadata": {},
   "outputs": [
    {
     "name": "stdout",
     "output_type": "stream",
     "text": [
      "Goodby world!\n"
     ]
    }
   ],
   "source": [
    "text = 'Hello world!'\n",
    "print(text.replace('Hello','Goodby'))"
   ]
  },
  {
   "cell_type": "code",
   "execution_count": null,
   "id": "d32ed0c6-60ef-450f-a017-b9c36d0139a9",
   "metadata": {},
   "outputs": [],
   "source": [
    "#split() для input()"
   ]
  },
  {
   "cell_type": "code",
   "execution_count": 16,
   "id": "bfb33b1f-9b30-405d-9e90-c64483d45d1b",
   "metadata": {},
   "outputs": [
    {
     "name": "stdin",
     "output_type": "stream",
     "text": [
      " 1 2 3 4 10 -5 102\n"
     ]
    },
    {
     "name": "stdout",
     "output_type": "stream",
     "text": [
      "2\n",
      "4\n",
      "10\n",
      "102\n"
     ]
    }
   ],
   "source": [
    "text = input() # 1 2 3 4 10 -5 102\n",
    "lst = text.split()\n",
    "\n",
    "for item in lst:\n",
    "    if int(item)%2==0:\n",
    "        print(item)"
   ]
  },
  {
   "cell_type": "code",
   "execution_count": 18,
   "id": "9844eee1-bb3a-4fba-a474-2b38a210db96",
   "metadata": {},
   "outputs": [
    {
     "name": "stdout",
     "output_type": "stream",
     "text": [
      "Алла*****Дмитрий*****Татьяна\n"
     ]
    }
   ],
   "source": [
    "lst = ['Алла', 'Дмитрий', 'Татьяна']\n",
    "print('*****'.join(lst))"
   ]
  },
  {
   "cell_type": "code",
   "execution_count": null,
   "id": "b5328106-d934-46e3-ad4f-b76b1ab10353",
   "metadata": {},
   "outputs": [],
   "source": [
    "# strip Очистка слов"
   ]
  },
  {
   "cell_type": "code",
   "execution_count": 24,
   "id": "18aa0c5e-e0ca-4fc9-9f48-0c6e2a739912",
   "metadata": {},
   "outputs": [
    {
     "name": "stdin",
     "output_type": "stream",
     "text": [
      "Введите имя:   .ота; \n"
     ]
    },
    {
     "name": "stdout",
     "output_type": "stream",
     "text": [
      "ота\n"
     ]
    }
   ],
   "source": [
    "name = input('Введите имя: ')\n",
    "\n",
    "print(name.strip(',.:;*\\' '))\n",
    "\n"
   ]
  },
  {
   "cell_type": "code",
   "execution_count": 25,
   "id": "d2545305-c10a-4c88-ac23-219bcc9d7875",
   "metadata": {},
   "outputs": [
    {
     "name": "stdin",
     "output_type": "stream",
     "text": [
      " 30\n"
     ]
    },
    {
     "name": "stdout",
     "output_type": "stream",
     "text": [
      "Тебе ********30\n"
     ]
    }
   ],
   "source": [
    "age = int(input())\n",
    "\n",
    "print(f'Тебе {age:*>10}')"
   ]
  },
  {
   "cell_type": "code",
   "execution_count": null,
   "id": "e481593e-a77b-4e00-9f11-d4ae8bc22101",
   "metadata": {},
   "outputs": [],
   "source": []
  },
  {
   "cell_type": "code",
   "execution_count": null,
   "id": "0729822a-3d09-4dfb-bfac-f27e6c4b0d05",
   "metadata": {},
   "outputs": [],
   "source": []
  },
  {
   "cell_type": "markdown",
   "id": "34d55f60-51eb-4a96-88ef-f58fccc4a495",
   "metadata": {},
   "source": [
    "### Разбор ДЗ"
   ]
  },
  {
   "cell_type": "markdown",
   "id": "f8e073ec-c9cf-4168-bdd0-81b3bb7a545f",
   "metadata": {},
   "source": [
    "***Звёздочки вместо чисел***  \n",
    "Напишите программу, которая заменяет все цифры в строке на звёздочки *.  \n",
    "text = \"My number is 123-456-789\"  \n",
    "Пример вывода:  \n",
    "Строка: My number is 123-456-789  \n",
    "Результат: My number is `***-***-***`\n"
   ]
  },
  {
   "cell_type": "code",
   "execution_count": null,
   "id": "c3cd033e-deb1-4b10-8eeb-951e63b34875",
   "metadata": {},
   "outputs": [],
   "source": []
  },
  {
   "cell_type": "code",
   "execution_count": 1,
   "id": "950de325-f2b2-40ec-8ddb-42de3e50a08d",
   "metadata": {},
   "outputs": [
    {
     "name": "stdout",
     "output_type": "stream",
     "text": [
      "Строка: My number is 123-456-789\n",
      "Результат: My number is ***-***-***\n"
     ]
    }
   ],
   "source": [
    "text = \"My number is 123-456-789\"\n",
    "print(\"Строка:\", text)\n",
    "result = text\n",
    "for char in text:\n",
    "    if char.isdigit():\n",
    "        result = result.replace(char, \"*\")\n",
    "print(\"Результат:\", result)\n"
   ]
  },
  {
   "cell_type": "markdown",
   "id": "f956c5e1-fd20-41b5-bd41-2a1072e00df1",
   "metadata": {},
   "source": [
    "***Увеличение чисел***  \n",
    "Напишите программу, которая делает все целые числа в строке в 10 раз больше.  \n",
    "text = \"I have 5 apples and 10 oranges, price is 0.5 each. Card number is ....3672.\"  \n",
    "\n",
    "Пример вывода:  \n",
    "I have 50 apples and 100 oranges, price is 5.0 each. Card number is ....3672.\n"
   ]
  },
  {
   "cell_type": "code",
   "execution_count": 8,
   "id": "a1c8ef9e-9464-4bd4-865c-edccc3807b78",
   "metadata": {},
   "outputs": [
    {
     "ename": "ValueError",
     "evalue": "could not convert string to float: '0,5'",
     "output_type": "error",
     "traceback": [
      "\u001b[1;31m---------------------------------------------------------------------------\u001b[0m",
      "\u001b[1;31mValueError\u001b[0m                                Traceback (most recent call last)",
      "Cell \u001b[1;32mIn[8], line 1\u001b[0m\n\u001b[1;32m----> 1\u001b[0m \u001b[38;5;28mfloat\u001b[39m(\u001b[38;5;124m'\u001b[39m\u001b[38;5;124m0,5\u001b[39m\u001b[38;5;124m'\u001b[39m)\n",
      "\u001b[1;31mValueError\u001b[0m: could not convert string to float: '0,5'"
     ]
    }
   ],
   "source": []
  },
  {
   "cell_type": "code",
   "execution_count": null,
   "id": "f081c170-000d-4d2c-ad07-17ec04b08be3",
   "metadata": {},
   "outputs": [],
   "source": [
    "# вводится вещественное число, как строка и мы должны умножить на 10"
   ]
  },
  {
   "cell_type": "code",
   "execution_count": 12,
   "id": "1710691c-5504-4be8-a523-2df5704a1c61",
   "metadata": {},
   "outputs": [
    {
     "name": "stdin",
     "output_type": "stream",
     "text": [
      " 0.5\n"
     ]
    },
    {
     "name": "stdout",
     "output_type": "stream",
     "text": [
      "это число\n"
     ]
    }
   ],
   "source": [
    "word = input() #12,4\n",
    "\n",
    "l = len(word)\n",
    "cnt=0\n",
    "for ch in word:\n",
    "    if ch.isdigit():\n",
    "        cnt+=1\n",
    "    elif ch == '.':\n",
    "        cnt+=1\n",
    "        \n",
    "if l == cnt:\n",
    "    \n",
    "    \n",
    "else:\n",
    "\n",
    "    "
   ]
  },
  {
   "cell_type": "code",
   "execution_count": 30,
   "id": "47a15a39-3ade-4b82-90c9-6d95bbb315ab",
   "metadata": {},
   "outputs": [
    {
     "name": "stdout",
     "output_type": "stream",
     "text": [
      "False\n"
     ]
    }
   ],
   "source": [
    "words = ['0.5','hello','23','.4.5.']\n",
    "flag = False\n",
    "l = len(words[3])\n",
    "cnt=0\n",
    "if words[3][0]!='.' or words[3][-1]!='.':\n",
    "    for ch in words[3]:\n",
    "        if ch.isdigit():\n",
    "            cnt+=1\n",
    "        elif ch == '.':\n",
    "            cnt+=1\n",
    "    if l==cnt:\n",
    "        flag = True\n",
    "print(flag)"
   ]
  },
  {
   "cell_type": "code",
   "execution_count": 31,
   "id": "06411755-bf82-44d0-b1b8-39a2f07d8ce2",
   "metadata": {},
   "outputs": [
    {
     "name": "stdout",
     "output_type": "stream",
     "text": [
      "I have 50 apples and 100 oranges, price is 5.0 each. Card number is ....3672.\n"
     ]
    }
   ],
   "source": [
    "text = \"I have 5 apples and 10 oranges, price is 0.5 each. Card number is ....3672.\"\n",
    "words = text.split()\n",
    "\n",
    "for i in range(len(words)):\n",
    "    flag = False\n",
    "    l = len(words[i])\n",
    "    cnt=0\n",
    "    if words[i][0]!='.' or words[i][-1]!='.':\n",
    "        for ch in words[i]:\n",
    "            if ch.isdigit():\n",
    "                cnt+=1\n",
    "            elif ch == '.':\n",
    "                cnt+=1\n",
    "        if l==cnt:\n",
    "            flag = True\n",
    "\n",
    "\n",
    "    \n",
    "    if words[i].isdigit():\n",
    "        words[i] = str(int(words[i]) * 10)\n",
    "    elif flag:\n",
    "        words[i] = str(float(words[i]) * 10)\n",
    "    \n",
    "\n",
    "new_text = \" \".join(words)\n",
    "print(new_text)\n"
   ]
  },
  {
   "cell_type": "markdown",
   "id": "6ee4e88a-ffb4-4fc9-953d-759a462cb794",
   "metadata": {},
   "source": [
    "***Сумма положительных чисел***  \n",
    "Напишите программу, которая обрабатывает список float чисел, вычисляет сумму положительных чисел.  \n",
    "Результат необходимо вывести в формате денежной суммы (до 2 символов после запятой), добавляя символ валюты \"$\" вначале и разделяя тысячи запятой.  \n",
    "\n",
    "Пример вывода:  \n",
    "numbers = [1245.4435, -302.1403, 87459.99, -520.8265, 1450.001]  \n",
    "Пример вывода:  \n",
    "Сумма положительных чисел: $90,155.43"
   ]
  },
  {
   "cell_type": "code",
   "execution_count": null,
   "id": "d7c5de9e-3485-4e49-bfd3-478da1686dd7",
   "metadata": {},
   "outputs": [],
   "source": []
  },
  {
   "cell_type": "code",
   "execution_count": 20,
   "id": "789216c3-af8d-43fe-b182-85e0aa2cb8a9",
   "metadata": {},
   "outputs": [
    {
     "name": "stdout",
     "output_type": "stream",
     "text": [
      "Сумма положительных чисел: $90,155.43\n"
     ]
    }
   ],
   "source": [
    "numbers = [1245.4435, -302.1403, 87459.99, -520.8265, 1450.001]\n",
    "\n",
    "# Инициализируем переменную для хранения суммы положительных чисел\n",
    "positive_sum = 0\n",
    "\n",
    "# Фильтруем положительные числа и суммируем их\n",
    "for num in numbers:\n",
    "    if num > 0:\n",
    "        positive_sum += num\n",
    "        \n",
    "# Форматируем результат в денежном формате\n",
    "formatted_sum = \"${:,.2f}\".format(positive_sum)\n",
    "\n",
    "print(f\"Сумма положительных чисел: {formatted_sum}\")\n"
   ]
  },
  {
   "cell_type": "code",
   "execution_count": 21,
   "id": "ee2278b5-bfea-4351-84a7-5d66545b7d51",
   "metadata": {},
   "outputs": [
    {
     "name": "stdout",
     "output_type": "stream",
     "text": [
      "Сумма положительных чисел: $90,155.43\n"
     ]
    }
   ],
   "source": [
    "print(f\"Сумма положительных чисел: ${positive_sum:,.2f}\")"
   ]
  },
  {
   "cell_type": "markdown",
   "id": "a98c08aa-5331-4381-b26a-9d031b9dbfe7",
   "metadata": {},
   "source": [
    "***Сумма положительных чисел***  \n",
    "Напишите программу, которая принимает список строк в формате \"name age balance\" и выводит информацию о каждом человеке с отформатированными данными: имя — 10 символов, возраст — 3 символа, баланс — 10 символов с двумя знаками после запятой. Используйте заранее подготовленный список строк.  "
   ]
  },
  {
   "cell_type": "code",
   "execution_count": 6,
   "id": "1bee6f41-81d0-452e-bbd9-492890468429",
   "metadata": {},
   "outputs": [],
   "source": [
    "# Данные:\n",
    "# data_list = [\n",
    "#     \"John 23 12345.678\",\n",
    "#     \"Alice 30 200.50\",\n",
    "#     \"Bob 35 15000.3\",\n",
    "#     \"Charlie 40 500.75\"\n",
    "# ]\n",
    "\n",
    "# Пример вывода:\n",
    "# Имя: John       | Возраст:  23 | Баланс:  12345.68  \n",
    "# Имя: Alice      | Возраст:  30 | Баланс:    200.50  \n",
    "# Имя: Bob        | Возраст:  35 | Баланс:  15000.30  \n",
    "# Имя: Charlie    | Возраст:  40 | Баланс:    500.75\n"
   ]
  },
  {
   "cell_type": "code",
   "execution_count": 7,
   "id": "40d2e5ab-39b8-4ebc-a976-4511ad3588fc",
   "metadata": {},
   "outputs": [
    {
     "name": "stdout",
     "output_type": "stream",
     "text": [
      "Имя: John       | Возраст:  23 | Баланс:   12345.68\n",
      "Имя: Alice      | Возраст:  30 | Баланс:     200.50\n",
      "Имя: Bob        | Возраст:  35 | Баланс:   15000.30\n",
      "Имя: Charlie    | Возраст:  40 | Баланс:     500.75\n"
     ]
    }
   ],
   "source": [
    "data_list = [\n",
    "    \"John 23 12345.678\",\n",
    "    \"Alice 30 200.50\",\n",
    "    \"Bob 35 15000.3\",\n",
    "    \"Charlie 40 500.75\"\n",
    "]\n",
    "\n",
    "for person in data_list:\n",
    "    name, age, balance = person.split()\n",
    "    age = int(age)\n",
    "    balance = float(balance)\n",
    "    print(\"Имя: {:<10} | Возраст: {:>3} | Баланс: {:>10.2f}\".format(name, age, balance))\n"
   ]
  },
  {
   "cell_type": "markdown",
   "id": "5857d93c-ae8a-49b1-bb6e-5117cbecbf9e",
   "metadata": {},
   "source": [
    "***Звёздочки вместо чисел***  \n",
    "Напишите программу, которая принимает список строк в формате \"name age balance\" и выводит информацию о каждом человеке с отформатированными данными: имя — 10 символов, возраст — 3 символа, баланс — 10 символов с двумя знаками после запятой. Используйте заранее подготовленный список строк.\n",
    "Пример вывода:  \n",
    "data_list = [  \n",
    "    \"John 23 12345.678\",  \n",
    "    \"Alice 30 200.50\",  \n",
    "    \"Bob 35 15000.3\",  \n",
    "    \"Charlie 40 500.75\"  \n",
    "]\n"
   ]
  },
  {
   "cell_type": "code",
   "execution_count": 8,
   "id": "7ba55e44-5e7d-4b2c-abc5-1c6bcd2057aa",
   "metadata": {},
   "outputs": [],
   "source": [
    "# Пример вывода:\n",
    "# Имя: John       | Возраст:  23 | Баланс:  12345.68  \n",
    "# Имя: Alice      | Возраст:  30 | Баланс:    200.50  \n",
    "# Имя: Bob        | Возраст:  35 | Баланс:  15000.30  \n",
    "# Имя: Charlie    | Возраст:  40 | Баланс:    500.75\n"
   ]
  },
  {
   "cell_type": "code",
   "execution_count": 9,
   "id": "01db603a-0ad0-4449-a877-a281f57633b5",
   "metadata": {},
   "outputs": [
    {
     "name": "stdout",
     "output_type": "stream",
     "text": [
      "Имя: John       | Возраст:  23 | Баланс:   12345.68\n",
      "Имя: Alice      | Возраст:  30 | Баланс:     200.50\n",
      "Имя: Bob        | Возраст:  35 | Баланс:   15000.30\n",
      "Имя: Charlie    | Возраст:  40 | Баланс:     500.75\n"
     ]
    }
   ],
   "source": [
    "data_list = [\n",
    "    \"John 23 12345.678\",\n",
    "    \"Alice 30 200.50\",\n",
    "    \"Bob 35 15000.3\",\n",
    "    \"Charlie 40 500.75\"\n",
    "]\n",
    "\n",
    "for person in data_list:\n",
    "    name, age, balance = person.split()\n",
    "    age = int(age)\n",
    "    balance = float(balance)\n",
    "    print(\"Имя: {:<10} | Возраст: {:>3} | Баланс: {:>10.2f}\".format(name, age, balance))\n"
   ]
  },
  {
   "cell_type": "code",
   "execution_count": null,
   "id": "f0a26beb-a554-4d8d-8c66-3f12b4710460",
   "metadata": {},
   "outputs": [],
   "source": []
  }
 ],
 "metadata": {
  "kernelspec": {
   "display_name": "Python 3 (ipykernel)",
   "language": "python",
   "name": "python3"
  },
  "language_info": {
   "codemirror_mode": {
    "name": "ipython",
    "version": 3
   },
   "file_extension": ".py",
   "mimetype": "text/x-python",
   "name": "python",
   "nbconvert_exporter": "python",
   "pygments_lexer": "ipython3",
   "version": "3.12.4"
  }
 },
 "nbformat": 4,
 "nbformat_minor": 5
}
