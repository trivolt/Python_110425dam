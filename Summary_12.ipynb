{
 "cells": [
  {
   "cell_type": "markdown",
   "id": "75d14498-0569-4e82-bd0e-57637774515c",
   "metadata": {},
   "source": [
    "# Summary 12"
   ]
  },
  {
   "cell_type": "code",
   "execution_count": null,
   "id": "ff5a9e07-ea6a-4688-9aaf-bbaf8f218aaf",
   "metadata": {},
   "outputs": [],
   "source": [
    "Напишите рекурсивную функцию fib(n), которая возвращает n-е число Фибоначчи."
   ]
  },
  {
   "cell_type": "code",
   "execution_count": null,
   "id": "8a0ef6a5-7c96-4cb8-a04f-286e9379690d",
   "metadata": {},
   "outputs": [],
   "source": []
  },
  {
   "cell_type": "code",
   "execution_count": null,
   "id": "c7073e1b-f2c2-4ceb-b120-b1a0c991f91b",
   "metadata": {},
   "outputs": [],
   "source": [
    "Напишите сумму чисел от 1 до n рекурсивно"
   ]
  },
  {
   "cell_type": "code",
   "execution_count": null,
   "id": "e97e39f3-1fb4-4923-9a3a-e1c037252e5f",
   "metadata": {},
   "outputs": [],
   "source": []
  },
  {
   "cell_type": "code",
   "execution_count": null,
   "id": "ec30877d-f283-4b2b-b4e3-f682a9439c31",
   "metadata": {},
   "outputs": [],
   "source": [
    "Напишите рекурсивную функцию is_palindrome(s), которая проверяет, является ли строка s палиндромом (читается одинаково слева направо и справа налево)."
   ]
  },
  {
   "cell_type": "code",
   "execution_count": null,
   "id": "1ac3ec93-9762-4f86-b29e-e0f9a4bafa8f",
   "metadata": {},
   "outputs": [],
   "source": []
  },
  {
   "cell_type": "code",
   "execution_count": null,
   "id": "fdc65869-b64e-4052-817d-58f8b58b20c3",
   "metadata": {},
   "outputs": [],
   "source": [
    "Генерация всех подмножеств print(subsets([1, 2]))  # [[], [2], [1], [1, 2]]"
   ]
  },
  {
   "cell_type": "code",
   "execution_count": null,
   "id": "d9f3f303-64e7-4829-8afe-1b36012ec58b",
   "metadata": {},
   "outputs": [],
   "source": []
  },
  {
   "cell_type": "markdown",
   "id": "d7cc3151-7d66-4ca7-bc06-402e4f9687eb",
   "metadata": {},
   "source": [
    "## Домашнее задание 23\n",
    "***1. Объединение данных в строку***  \n",
    "Напишите функцию, которая принимает список любых данных (строки, числа, списки, словари) и возвращает их строковое представление, объединённое через \" | \". Добавьте документацию и аннотации типов для всех параметров и возвращаемого значения.\n",
    "Данные:  \n",
    "`data = [42, \"hello\", [1, 2, 3], {\"a\": 1, \"b\": 2}]`  \n",
    "\n",
    "Пример вывода:  \n",
    "`42 | hello | [1, 2, 3] | {'a': 1, 'b': 2}`\n"
   ]
  },
  {
   "cell_type": "code",
   "execution_count": 1,
   "id": "0d99d9e4-557a-41ad-9024-e1913294f676",
   "metadata": {},
   "outputs": [
    {
     "name": "stdout",
     "output_type": "stream",
     "text": [
      "42 | hello | [1, 2, 3] | {'a': 1, 'b': 2}\n"
     ]
    }
   ],
   "source": [
    "def combine_data(data: list) -> str:\n",
    "    \"\"\"\n",
    "    Объединяет данные в строковое представление через разделитель ' | '.\n",
    "\n",
    "    :param data: Список данных любого типа.\n",
    "    :return: Строка с объединёнными данными.\n",
    "    \"\"\"\n",
    "    return \" | \".join(map(str, data))\n",
    "\n",
    "data = [42, \"hello\", [1, 2, 3], {\"a\": 1, \"b\": 2}]\n",
    "print(combine_data(data))\n"
   ]
  },
  {
   "cell_type": "markdown",
   "id": "10794d98-6ec7-4476-b01a-873bbf2b2f23",
   "metadata": {},
   "source": [
    "***2. Сумма вложенных чисел***  \n",
    "Напишите функцию, которая принимает список словарей, где каждый словарь содержит имя пользователя и список баллов. Функция должна вернуть сумму всех чисел. Добавьте документацию и аннотации типов для всех параметров и возвращаемого значения.\n",
    "Данные:  \n",
    "```\n",
    "data = [\n",
    "    {\"name\": \"Alice\", \"scores\": [10, 20, 30]},\n",
    "    {\"name\": \"Bob\", \"scores\": [5, 15, 25]},\n",
    "    {\"name\": \"Charlie\", \"scores\": [7, 17, 27]}\n",
    "]\n",
    "```\n",
    "Пример вывода:  \n",
    "Итоговый балл: 156\n"
   ]
  },
  {
   "cell_type": "code",
   "execution_count": 3,
   "id": "37a0040b-1dd6-4727-a3af-7df3c707d5bd",
   "metadata": {},
   "outputs": [
    {
     "name": "stdout",
     "output_type": "stream",
     "text": [
      "156\n"
     ]
    }
   ],
   "source": [
    "def sum_scores(data: list[dict[str, list[int]]]) -> int:\n",
    "    \"\"\"\n",
    "    Вычисляет сумму всех чисел в списках внутри словарей.\n",
    "\n",
    "    :param data: Список словарей, где каждый словарь содержит имя и список чисел.\n",
    "    :return: Сумма всех чисел.\n",
    "    \"\"\"\n",
    "    return sum(sum(item[\"scores\"]) for item in data)\n",
    "\n",
    "data = [\n",
    "    {\"name\": \"Alice\", \"scores\": [10, 20, 30]},\n",
    "    {\"name\": \"Bob\", \"scores\": [5, 15, 25]},\n",
    "    {\"name\": \"Charlie\", \"scores\": [7, 17, 27]}\n",
    "]\n",
    "print(sum_scores(data))\n"
   ]
  },
  {
   "cell_type": "markdown",
   "id": "4fc9b58b-4dbb-4866-9e79-f3cccab03dd9",
   "metadata": {},
   "source": [
    "## Домашнее задание 24\n",
    "***1. Сумма цифр числа***  \n",
    "Напишите рекурсивную функцию, которая находит сумму всех цифр числа.  \n",
    "Данные:  \n",
    "num = 43197  \n",
    "Пример вывода:  \n",
    "24\n"
   ]
  },
  {
   "cell_type": "code",
   "execution_count": 4,
   "id": "dd15a20b-4e14-4ccf-a8b5-eafc3947bfbf",
   "metadata": {},
   "outputs": [
    {
     "name": "stdout",
     "output_type": "stream",
     "text": [
      "24\n"
     ]
    }
   ],
   "source": [
    "def digit_sum(n):\n",
    "    if n == 0:\n",
    "        return 0\n",
    "    return n % 10 + digit_sum(n // 10)\n",
    "\n",
    "\n",
    "num = 43197\n",
    "print(digit_sum(num))\n"
   ]
  },
  {
   "cell_type": "markdown",
   "id": "3474f7ad-f7e0-40b7-8040-80994656112d",
   "metadata": {},
   "source": [
    "***2. Сумма вложенных чисел***  \n",
    "Напишите рекурсивную функцию, которая суммирует все числа во вложенных списках.  \n",
    "Данные:  \n",
    "`nested_numbers = [1, [2, 3], [4, [5, 6]], 7]`  \n",
    "Пример вывода:  \n",
    "28\n"
   ]
  },
  {
   "cell_type": "code",
   "execution_count": 5,
   "id": "6a6b08e0-d6cb-4a86-8333-52f996e60c35",
   "metadata": {},
   "outputs": [
    {
     "name": "stdout",
     "output_type": "stream",
     "text": [
      "28\n"
     ]
    }
   ],
   "source": [
    "def deep_sum(nested_list):\n",
    "    total = 0\n",
    "    for item in nested_list:\n",
    "        if isinstance(item, list):\n",
    "            total += deep_sum(item)\n",
    "        else:\n",
    "            total += item\n",
    "    return total\n",
    "\n",
    "\n",
    "nested_numbers = [1, [2, 3], [4, [5, 6]], 7]\n",
    "print(deep_sum(nested_numbers))\n"
   ]
  },
  {
   "cell_type": "code",
   "execution_count": null,
   "id": "f39a3589-f70e-4465-8e81-be58e2931aad",
   "metadata": {},
   "outputs": [],
   "source": []
  }
 ],
 "metadata": {
  "kernelspec": {
   "display_name": "Python 3 (ipykernel)",
   "language": "python",
   "name": "python3"
  },
  "language_info": {
   "codemirror_mode": {
    "name": "ipython",
    "version": 3
   },
   "file_extension": ".py",
   "mimetype": "text/x-python",
   "name": "python",
   "nbconvert_exporter": "python",
   "pygments_lexer": "ipython3",
   "version": "3.12.4"
  }
 },
 "nbformat": 4,
 "nbformat_minor": 5
}
