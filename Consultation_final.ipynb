{
 "cells": [
  {
   "cell_type": "code",
   "execution_count": 1,
   "id": "5878a680-8241-40c0-b5f2-e573f63016b4",
   "metadata": {},
   "outputs": [],
   "source": [
    "from pymongo import MongoClient\n",
    "from datetime import datetime\n",
    "\n",
    "MONGO_CONFIG = {\n",
    "    'uri': \"mongodb://ich_editor:verystrongpassword\"\n",
    "          \"@mongo.itcareerhub.de/?readPreference=primary\"\n",
    "          \"&ssl=false&authMechanism=DEFAULT&authSource=ich_edit\",\n",
    "    'database': 'ich_edit',\n",
    "    'collection': 'project_110425_Noname'\n",
    "}\n",
    "\n",
    "def log_search_query(search_type, params, results_count):\n",
    "    # Настройка подключения к MongoDB\n",
    "    try:\n",
    "        mongo_client = MongoClient(MONGO_CONFIG['uri'])\n",
    "        # mongo_client.admin.command('ping')\n",
    "        # print('Успешно')\n",
    "        search_collection = mongo_client[MONGO_CONFIG['database']][MONGO_CONFIG['collection']]\n",
    "        log_entry = {\n",
    "            \"timestamp\": datetime.now(),\n",
    "            \"search_type\": search_type,\n",
    "            \"params\": params,\n",
    "            \"results_count\": results_count\n",
    "        }\n",
    "        search_collection.insert_one(log_entry)\n",
    "        \n",
    "    except ConnectionFailure as e:\n",
    "        print(f\"Ошибка записи лога: {e}\")\n",
    "    finally:\n",
    "        mongo_client.close()"
   ]
  },
  {
   "cell_type": "code",
   "execution_count": 2,
   "id": "e39f8d1c-7d0d-4032-ae12-240ef15aa3fb",
   "metadata": {},
   "outputs": [
    {
     "name": "stdout",
     "output_type": "stream",
     "text": [
      "Успешно\n"
     ]
    }
   ],
   "source": [
    "log_search_query('keywords', {\"keyword\": \"matrix\"}, 3)"
   ]
  },
  {
   "cell_type": "code",
   "execution_count": null,
   "id": "88a66df5-b5d1-4d35-884e-e76a8be7409d",
   "metadata": {},
   "outputs": [],
   "source": [
    "Исходные данные\n",
    "|\n",
    "Группировка\n",
    "    |\n",
    "Сортировка\n",
    "    |\n",
    "Ограничение\n",
    "    |\n",
    "Результат"
   ]
  },
  {
   "cell_type": "code",
   "execution_count": 11,
   "id": "c0ba0279-4739-408a-a2de-3804a0e488f1",
   "metadata": {},
   "outputs": [],
   "source": [
    "def get_most_popular_queries(limit=5):\n",
    "    mongo_client = MongoClient(MONGO_CONFIG['uri'])\n",
    "    collection = mongo_client[MONGO_CONFIG['database']][MONGO_CONFIG['collection']]\n",
    "    # Анализ популярности по типу запросов\n",
    "    pipeline_type = [\n",
    "        {\"$group\": {\"_id\":\"$search_type\", \"count\": {\"$sum\":1}}},\n",
    "        {\"$sort\":  {\"count\":-1}},\n",
    "        {\"$limit\": limit}\n",
    "    ]\n",
    "    \n",
    "    popular_types = list(collection.aggregate(pipeline_type))\n",
    "    \n",
    "    # Анализ популярности по ключевым словам (по параметрам)\n",
    "    pipeline_keywords = [\n",
    "        {\"$match\": {\"search_type\": \"keyword\"}},\n",
    "        {\"$group\": {\"_id\":\"$params.keyword\", \"count\": {\"$sum\":1}}},\n",
    "        {\"$sort\":  {\"count\":-1}},\n",
    "        {\"$limit\": limit}\n",
    "    ]    \n",
    "    popular_keywords = list(collection.aggregate(pipeline_keywords))\n",
    "\n",
    "    # Анализ популярности по жанрам (по параметрам)\n",
    "    pipeline_genres = [\n",
    "        {\"$match\": {\"search_type\": \"genre_year\"}},\n",
    "        {\"$group\": {\"_id\":\"$params.genre_name\", \"count\": {\"$sum\":1}}},\n",
    "        {\"$sort\":  {\"count\":-1}},\n",
    "        {\"$limit\": limit}\n",
    "    ]    \n",
    "    popular_genres = list(collection.aggregate(pipeline_genres))\n",
    "    \n",
    "    return {\n",
    "        \"popular_search_types\": popular_types,\n",
    "        \"popular_params_keywords\": popular_keywords,\n",
    "        \"popular_params_genres\": popular_genres\n",
    "    }"
   ]
  },
  {
   "cell_type": "markdown",
   "id": "ac2ba526-ec0b-405f-8dc0-058b232720c1",
   "metadata": {},
   "source": [
    ">Два запроса считаются одинаковыми, если у них совпадают И тип И параметры\n",
    "\n",
    ">Например: `{search_type: \"keyword\", params: {keyword: \"matrix\"}}`"
   ]
  },
  {
   "cell_type": "markdown",
   "id": "1f451448-1c4c-4ae5-a59f-013fb3bee842",
   "metadata": {},
   "source": [
    "Шаг 1. Первоначальная сортировка.\n",
    "\n",
    "Сортируем все документы в коллекции по убыванию времени.\n"
   ]
  },
  {
   "cell_type": "markdown",
   "id": "5a94aff5-9154-495e-8522-bb91b0212a36",
   "metadata": {},
   "source": [
    "Шаг 2. Группировка для нахождения уникальных запросов.\n",
    "\n",
    "Группируем документы по унивальности комбинации search_type + params"
   ]
  },
  {
   "cell_type": "code",
   "execution_count": null,
   "id": "8ff3955d-5e4d-42be-a67b-6ae12170b6a3",
   "metadata": {},
   "outputs": [],
   "source": [
    "#до\n",
    "{_id: 2, 15:30, \"keyword\", {keyword: \"matrix\"}}\n",
    "{_id: 1, 15:00, \"keyword\", {keyword: \"matrix\"}}\n",
    "{_id: 3, 14:45, \"genre_year\", {genre: \"Action\"}}"
   ]
  },
  {
   "cell_type": "code",
   "execution_count": null,
   "id": "a9dd2b5b-e470-47bb-873b-0b5427da31f6",
   "metadata": {},
   "outputs": [],
   "source": [
    "#после\n",
    "{\n",
    "  _id: {search_type: \"keyword\", params: {keyword: \"matrix\"}},\n",
    "  latest_timestamp: 15:30,    ← из документа _id: 2\n",
    "  results_count: 3,           ← из документа _id: 2  \n",
    "  document_id: 2              ← из документа _id: 2\n",
    "}\n",
    "{\n",
    "  _id: {search_type: \"genre_year\", params: {genre: \"Action\"}},\n",
    "  latest_timestamp: 14:45,    ← из документа _id: 3\n",
    "  results_count: 5,           ← из документа _id: 3\n",
    "  document_id: 3              ← из документа _id: 3\n",
    "}"
   ]
  },
  {
   "cell_type": "markdown",
   "id": "33bd1aa1-8459-461b-a8e3-75658575f052",
   "metadata": {},
   "source": [
    "Шаг 3. Сортировка уникальных запросов"
   ]
  },
  {
   "cell_type": "code",
   "execution_count": null,
   "id": "2c2265d8-88e3-4e9d-86c5-7fc2b13a309d",
   "metadata": {},
   "outputs": [],
   "source": []
  },
  {
   "cell_type": "code",
   "execution_count": 15,
   "id": "6e75699d-9f7f-4b32-8852-b4eac26e8d23",
   "metadata": {},
   "outputs": [
    {
     "data": {
      "text/plain": [
       "{'popular_search_types': [{'_id': 'keyword', 'count': 2},\n",
       "  {'_id': 'genre_year', 'count': 2},\n",
       "  {'_id': 'keywords', 'count': 1}],\n",
       " 'popular_params_keywords': [{'_id': 'matrix', 'count': 1},\n",
       "  {'_id': 'love and sport', 'count': 1}],\n",
       " 'popular_params_genres': [{'_id': 'Action', 'count': 2}]}"
      ]
     },
     "execution_count": 15,
     "metadata": {},
     "output_type": "execute_result"
    }
   ],
   "source": [
    "get_most_popular_queries()"
   ]
  },
  {
   "cell_type": "code",
   "execution_count": 16,
   "id": "19eb2b37-f9ad-4088-8011-681bf5b90792",
   "metadata": {},
   "outputs": [],
   "source": [
    "def get_unique_queries(limit=5):\n",
    "    mongo_client = MongoClient(MONGO_CONFIG['uri'])\n",
    "    collection = mongo_client[MONGO_CONFIG['database']][MONGO_CONFIG['collection']]  \n",
    "\n",
    "    pipeline = [\n",
    "        {\"$sort\": {\"timestamp\": -1}},\n",
    "        {\"$group\":{\"_id\":{\"search_type\": \"$search_type\", \"params\": \"$params\"},\n",
    "                  \"latest_timestamp\":{\"$first\": \"$timestamp\"},\n",
    "                   \"results_count\": {\"$first\": \"$results_count\"},\n",
    "                   \"document_id\": {\"$first\": \"_id\"}\n",
    "                  }},\n",
    "        {\"$sort\": {\"latest_timestamp\":-1}},\n",
    "        {\"$limit\": limit}\n",
    "    ]\n",
    "    unique_queries = list(collection.aggregate(pipeline))\n",
    "    mongo_client.close()\n",
    "\n",
    "    return unique_queries"
   ]
  },
  {
   "cell_type": "code",
   "execution_count": 17,
   "id": "a1fa5656-7d25-4146-82d9-6d2141e81cc7",
   "metadata": {},
   "outputs": [
    {
     "data": {
      "text/plain": [
       "[{'_id': {'search_type': 'keywords', 'params': {'keyword': 'matrix'}},\n",
       "  'latest_timestamp': datetime.datetime(2025, 9, 30, 10, 39, 33, 953000),\n",
       "  'results_count': 3,\n",
       "  'document_id': '_id'},\n",
       " {'_id': {'search_type': 'genre_year',\n",
       "   'params': {'genre_id': 1,\n",
       "    'genre_name': 'Action',\n",
       "    'start_year': 2015,\n",
       "    'end_year': 2015}},\n",
       "  'latest_timestamp': datetime.datetime(2025, 9, 30, 10, 27, 47, 159000),\n",
       "  'results_count': 3,\n",
       "  'document_id': '_id'},\n",
       " {'_id': {'search_type': 'genre_year',\n",
       "   'params': {'genre_id': 1,\n",
       "    'genre_name': 'Action',\n",
       "    'start_year': 2005,\n",
       "    'end_year': 2015}},\n",
       "  'latest_timestamp': datetime.datetime(2025, 9, 30, 10, 27, 46, 668000),\n",
       "  'results_count': 3,\n",
       "  'document_id': '_id'},\n",
       " {'_id': {'search_type': 'keyword', 'params': {'keyword': 'love and sport'}},\n",
       "  'latest_timestamp': datetime.datetime(2025, 9, 30, 10, 27, 46, 141000),\n",
       "  'results_count': 13,\n",
       "  'document_id': '_id'},\n",
       " {'_id': {'search_type': 'keyword', 'params': {'keyword': 'matrix'}},\n",
       "  'latest_timestamp': datetime.datetime(2025, 9, 30, 10, 27, 45, 488000),\n",
       "  'results_count': 3,\n",
       "  'document_id': '_id'}]"
      ]
     },
     "execution_count": 17,
     "metadata": {},
     "output_type": "execute_result"
    }
   ],
   "source": [
    "get_unique_queries()"
   ]
  },
  {
   "cell_type": "code",
   "execution_count": null,
   "id": "4a99c691-ae96-49d2-8581-b16d864c2ba1",
   "metadata": {},
   "outputs": [],
   "source": []
  },
  {
   "cell_type": "code",
   "execution_count": 8,
   "id": "3030cc4e-4f75-4839-b16b-679962d58efb",
   "metadata": {},
   "outputs": [
    {
     "name": "stdout",
     "output_type": "stream",
     "text": [
      "{'_id': ObjectId('68db86710f706f00cae17611'), 'timestamp': datetime.datetime(2025, 9, 30, 10, 27, 45, 488000), 'search_type': 'keyword', 'params': {'keyword': 'matrix'}, 'results_count': 3}\n",
      "{'_id': ObjectId('68db86720f706f00cae17613'), 'timestamp': datetime.datetime(2025, 9, 30, 10, 27, 46, 141000), 'search_type': 'keyword', 'params': {'keyword': 'love and sport'}, 'results_count': 13}\n",
      "{'_id': ObjectId('68db86720f706f00cae17615'), 'timestamp': datetime.datetime(2025, 9, 30, 10, 27, 46, 668000), 'search_type': 'genre_year', 'params': {'genre_id': 1, 'genre_name': 'Action', 'start_year': 2005, 'end_year': 2015}, 'results_count': 3}\n",
      "{'_id': ObjectId('68db86730f706f00cae17617'), 'timestamp': datetime.datetime(2025, 9, 30, 10, 27, 47, 159000), 'search_type': 'genre_year', 'params': {'genre_id': 1, 'genre_name': 'Action', 'start_year': 2015, 'end_year': 2015}, 'results_count': 3}\n",
      "{'_id': ObjectId('68db89356ddd7199ee5d2dc5'), 'timestamp': datetime.datetime(2025, 9, 30, 10, 39, 33, 953000), 'search_type': 'keywords', 'params': {'keyword': 'matrix'}, 'results_count': 3}\n"
     ]
    }
   ],
   "source": [
    "# \n",
    "mongo_client = MongoClient(MONGO_CONFIG['uri'])\n",
    "search_collection = mongo_client[MONGO_CONFIG['database']][MONGO_CONFIG['collection']]\n",
    "\n",
    "docs = search_collection.find()\n",
    "for doc in docs:\n",
    "    print(doc)"
   ]
  },
  {
   "cell_type": "code",
   "execution_count": null,
   "id": "584452ba-d2f6-4ed1-a42b-b6d53b5822f2",
   "metadata": {},
   "outputs": [],
   "source": []
  },
  {
   "cell_type": "markdown",
   "id": "83460614-525f-4678-baa2-2b4c689989e9",
   "metadata": {},
   "source": [
    "```\n",
    "[{'_id': {'search_type': 'keywords', 'params': {'keyword': 'matrix'}},\n",
    "  'latest_timestamp': datetime.datetime(2025, 9, 30, 10, 39, 33, 953000),\n",
    "  'results_count': 3,\n",
    "  'document_id': '_id'},\n",
    " {'_id': {'search_type': 'genre_year',\n",
    "   'params': {'genre_id': 1,\n",
    "    'genre_name': 'Action',\n",
    "    'start_year': 2015,\n",
    "    'end_year': 2015}},\n",
    "  'latest_timestamp': datetime.datetime(2025, 9, 30, 10, 27, 47, 159000),\n",
    "  'results_count': 3,\n",
    "  'document_id': '_id'},\n",
    " {'_id': {'search_type': 'genre_year',\n",
    "   'params': {'genre_id': 1,\n",
    "    'genre_name': 'Action',\n",
    "    'start_year': 2005,\n",
    "    'end_year': 2015}},\n",
    "  'latest_timestamp': datetime.datetime(2025, 9, 30, 10, 27, 46, 668000),\n",
    "  'results_count': 3,\n",
    "  'document_id': '_id'},\n",
    " {'_id': {'search_type': 'keyword', 'params': {'keyword': 'love and sport'}},\n",
    "  'latest_timestamp': datetime.datetime(2025, 9, 30, 10, 27, 46, 141000),\n",
    "  'results_count': 13,\n",
    "  'document_id': '_id'},\n",
    " {'_id': {'search_type': 'keyword', 'params': {'keyword': 'matrix'}},\n",
    "  'latest_timestamp': datetime.datetime(2025, 9, 30, 10, 27, 45, 488000),\n",
    "  'results_count': 3,\n",
    "  'document_id': '_id'}]\n",
    "```"
   ]
  },
  {
   "cell_type": "code",
   "execution_count": null,
   "id": "f609f9a4-fb24-4193-96b8-f9322b65d8dd",
   "metadata": {},
   "outputs": [],
   "source": []
  },
  {
   "cell_type": "code",
   "execution_count": null,
   "id": "4625dcc6-32c2-4951-be29-17e057802701",
   "metadata": {},
   "outputs": [],
   "source": []
  },
  {
   "cell_type": "markdown",
   "id": "ba384316-94bd-4165-8492-9b78d8c31ac8",
   "metadata": {},
   "source": [
    "##### Интерфейс"
   ]
  },
  {
   "cell_type": "code",
   "execution_count": 27,
   "id": "d426a15b-267a-4065-a7e3-59af96d45ba8",
   "metadata": {},
   "outputs": [
    {
     "name": "stdin",
     "output_type": "stream",
     "text": [
      "Введите нужное действие: 1 -, 2 -, 0 - выход 2\n"
     ]
    },
    {
     "name": "stdout",
     "output_type": "stream",
     "text": [
      "Последние уникальные запросы\n",
      "keywords - 2025-09-30 10:39:33.953000\n",
      "Параметры: {'keyword': 'matrix'}\n",
      "Найдено результатов: 3\n",
      "genre_year - 2025-09-30 10:27:47.159000\n",
      "Параметры: {'genre_id': 1, 'genre_name': 'Action', 'start_year': 2015, 'end_year': 2015}\n",
      "Найдено результатов: 3\n",
      "genre_year - 2025-09-30 10:27:46.668000\n",
      "Параметры: {'genre_id': 1, 'genre_name': 'Action', 'start_year': 2005, 'end_year': 2015}\n",
      "Найдено результатов: 3\n",
      "keyword - 2025-09-30 10:27:46.141000\n",
      "Параметры: {'keyword': 'love and sport'}\n",
      "Найдено результатов: 13\n",
      "keyword - 2025-09-30 10:27:45.488000\n",
      "Параметры: {'keyword': 'matrix'}\n",
      "Найдено результатов: 3\n"
     ]
    }
   ],
   "source": [
    "# Популярные запросы\n",
    "choise = input('Введите нужное действие: 1 -, 2 -, 0 - выход')\n",
    "if choise == '1':\n",
    "    #print('Популярные запросы:')\n",
    "    print('Популярные типы запросов:')\n",
    "    popular = get_most_popular_queries()\n",
    "    for item in popular['popular_search_types']:\n",
    "        print(f'{item['_id']}: {item['count']} запросов')\n",
    "    \n",
    "    print('-'*60)\n",
    "    print('Популярные запросы по параметрам:')\n",
    "    \n",
    "    for item in popular['popular_params_keywords']:\n",
    "        print(f'Ключевое слово: {item['_id']} в кол-ве: {item['count']} запросов')\n",
    "    \n",
    "    print('-'*60)\n",
    "    print('Популярные запросы по жанрам:')\n",
    "    for item in popular['popular_params_genres']:\n",
    "        print(f'Жанр: {item['_id']} в кол-ве: {item['count']} запросов')\n",
    "elif choise == '2':\n",
    "    popular_unique = get_unique_queries()\n",
    "    print('Последние уникальные запросы')\n",
    "    for item in popular_unique:\n",
    "        print(f'{item['_id']['search_type']} - {item['latest_timestamp']}')\n",
    "        print(f'Параметры: {item['_id']['params']}')\n",
    "        print(f'Найдено результатов: {item['results_count']}')\n",
    "else:\n",
    "    pass\n",
    "    # вызов функции главного меню \n",
    "    \n"
   ]
  },
  {
   "cell_type": "code",
   "execution_count": null,
   "id": "99565d62-fdac-4adb-90e1-03959eb174ec",
   "metadata": {},
   "outputs": [],
   "source": []
  }
 ],
 "metadata": {
  "kernelspec": {
   "display_name": "Python 3 (ipykernel)",
   "language": "python",
   "name": "python3"
  },
  "language_info": {
   "codemirror_mode": {
    "name": "ipython",
    "version": 3
   },
   "file_extension": ".py",
   "mimetype": "text/x-python",
   "name": "python",
   "nbconvert_exporter": "python",
   "pygments_lexer": "ipython3",
   "version": "3.12.4"
  }
 },
 "nbformat": 4,
 "nbformat_minor": 5
}
