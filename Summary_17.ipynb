{
 "cells": [
  {
   "cell_type": "markdown",
   "id": "81ac5f08-ca53-4df8-8b8c-5b488192c43f",
   "metadata": {},
   "source": [
    "# Summary 17"
   ]
  },
  {
   "cell_type": "code",
   "execution_count": null,
   "id": "97075be0-a612-4163-b9fd-77cf41d97b60",
   "metadata": {},
   "outputs": [],
   "source": []
  },
  {
   "cell_type": "markdown",
   "id": "d286f78b-03f1-4a7c-b213-086370fed3cc",
   "metadata": {},
   "source": [
    "### Декораторы"
   ]
  },
  {
   "cell_type": "code",
   "execution_count": null,
   "id": "a1e63d86-6567-4f2f-b1f3-25fb642a91f0",
   "metadata": {},
   "outputs": [],
   "source": [
    "def simple_decorator(func):    # Функция-декоратор, принимает другую функцию\n",
    "    def wrapper():  # Вложенная функция-обертка, добавляющая дополнительное поведение\n",
    "        print(\"Перед вызовом функции\")\n",
    "        func()  # Вызываем переданную функцию\n",
    "        print(\"После вызова функции\")\n",
    "    return wrapper  # Возвращаем изменённую функцию\n",
    "\n",
    "def say_hello():\n",
    "    print(\"Привет!\")\n",
    "\n",
    "say_hello = simple_decorator(say_hello)  # Вызываем декоратор, теперь decorated = wrapper\n",
    "print(say_hello)\n",
    "say_hello()  # Теперь вызов say_hello() происходит через wrapper\n"
   ]
  },
  {
   "cell_type": "code",
   "execution_count": null,
   "id": "105ea032-bdac-41d3-9d46-d1a58976ef95",
   "metadata": {},
   "outputs": [],
   "source": [
    "def simple_decorator(func):    # Функция-декоратор, принимает другую функцию\n",
    "    def wrapper():  # Вложенная функция, добавляющая дополнительное поведение\n",
    "        print(\"Перед вызовом функции\")\n",
    "        func()  # Вызываем переданную функцию\n",
    "        print(\"После вызова функции\")\n",
    "    return wrapper  # Возвращаем изменённую функцию\n",
    "\n",
    "@simple_decorator  # Эквивалентно say_hello = simple_decorator(say_hello)\n",
    "def say_hello():\n",
    "    print(\"Привет!\")\n",
    "\n",
    "say_hello()"
   ]
  },
  {
   "cell_type": "markdown",
   "id": "13dc3e25-bd9d-404e-a307-1247ddd3c7be",
   "metadata": {},
   "source": [
    "### Декораторы для функций с аргументами"
   ]
  },
  {
   "cell_type": "code",
   "execution_count": null,
   "id": "6bdba62a-a729-48e9-9574-59331d62ecce",
   "metadata": {},
   "outputs": [],
   "source": [
    "def my_function(between):\n",
    "    a, b=input(\"Введите два слова: \").split()\n",
    "    return a+between+b\n",
    "    \n",
    "my_function('-----')"
   ]
  },
  {
   "cell_type": "code",
   "execution_count": null,
   "id": "b9b25de5-5bff-4642-b06c-679f9e1275ee",
   "metadata": {},
   "outputs": [],
   "source": [
    "def decorator(func):\n",
    "    def wrapper(*args, **kwargs):\n",
    "        print(\"Сейчас выполним функцию\")\n",
    "        result=func(*args, **kwargs)\n",
    "        print(\"Функция выполнена, получено: \",result)\n",
    "        return result.upper()\n",
    "    return wrapper\n",
    "\n",
    "@decorator\n",
    "def my_function(between):\n",
    "    a, b=input(\"Введите два слова: \").split()\n",
    "    return a+between+b\n",
    "\n",
    "print(\"Результат работы декоратора: \",my_function(\" and \"))"
   ]
  },
  {
   "cell_type": "markdown",
   "id": "40a64c70-bd20-4f9a-8788-3d9427eb651a",
   "metadata": {},
   "source": [
    "#### Практические примеры применения декораторов"
   ]
  },
  {
   "cell_type": "markdown",
   "id": "f10af842-d873-4556-a1ef-fa2c1b410f47",
   "metadata": {},
   "source": [
    "##### Кэширование результатов (мемоизация)"
   ]
  },
  {
   "cell_type": "code",
   "execution_count": null,
   "id": "d481003e-7579-42ee-a228-9e01c5e8cccd",
   "metadata": {},
   "outputs": [],
   "source": [
    "from functools import lru_cache\n",
    "\n",
    "@lru_cache(maxsize=128)\n",
    "def fibonacci(n):\n",
    "    if n < 2:\n",
    "        return n\n",
    "    return fibonacci(n-1) + fibonacci(n-2)\n",
    "\n",
    "# Без кэширования вычисление заняло бы гораздо больше времени\n",
    "print(fibonacci(100))"
   ]
  },
  {
   "cell_type": "code",
   "execution_count": null,
   "id": "56d1f85f-f85b-47d6-ae5e-1f6d0bf373e8",
   "metadata": {},
   "outputs": [],
   "source": []
  },
  {
   "cell_type": "markdown",
   "id": "721f97e4-610b-4087-984c-2073cd2d7b9f",
   "metadata": {},
   "source": [
    "### Практическая задача на использование ООП"
   ]
  },
  {
   "cell_type": "markdown",
   "id": "804d4782-022e-4fea-9ee9-eecc01400ede",
   "metadata": {},
   "source": [
    "1. Создать класс Car (машина) со следующими полями: model, year, color. "
   ]
  },
  {
   "cell_type": "code",
   "execution_count": null,
   "id": "2b4a5a14-d5d2-4c07-87e6-ec8c3f1afe54",
   "metadata": {},
   "outputs": [],
   "source": [
    "class Car():\n",
    "    def __init__(self, model, year, color):\n",
    "        self.model = model\n",
    "        self.year = year\n",
    "        self.color = color"
   ]
  },
  {
   "cell_type": "markdown",
   "id": "11c9944e-bd3b-4297-8fb5-0123353370ff",
   "metadata": {},
   "source": [
    "Написать функцию, которая принимает список объектов класса Car и цвет и возвращает список машин этого цвета. Напечатать этот список, выводя название модели, год и цвет. Использовать filter и lambda функции. "
   ]
  },
  {
   "cell_type": "code",
   "execution_count": null,
   "id": "ca400258-4075-410f-b2ac-ce1b309bb97c",
   "metadata": {},
   "outputs": [],
   "source": []
  },
  {
   "cell_type": "code",
   "execution_count": null,
   "id": "a217172c-2485-4c5b-9131-17f92f634ce5",
   "metadata": {},
   "outputs": [],
   "source": [
    "cars = [Car('Mercedes', 2020, 'red'), \n",
    "      Car('Audi', 2020, 'black'), \n",
    "      Car('Audi', 2020, 'blue'), \n",
    "      Car('BMW', 2022, 'red'), \n",
    "      Car('Audi', 2020, 'red'), \n",
    "      Car('Kia', 2020, 'red'), \n",
    "      Car('Audi', 2020, 'red'),\n",
    "      Car('Audi', 2019, 'red'), \n",
    "      Car('Suzuki', 2020, 'red'), \n",
    "      Car('Suzuki', 2018, 'blue')]"
   ]
  },
  {
   "cell_type": "code",
   "execution_count": null,
   "id": "ed076ce8-ce3f-4623-91c3-e5a4143d3f2a",
   "metadata": {},
   "outputs": [],
   "source": []
  },
  {
   "cell_type": "markdown",
   "id": "6faa6a6a-c8a7-4566-9bc0-7b2eb104add9",
   "metadata": {},
   "source": [
    "## Классовые методы"
   ]
  },
  {
   "cell_type": "markdown",
   "id": "f353ebd9",
   "metadata": {},
   "source": [
    "Методы бывают статическими, классовыми и уровня экземпляра класса (будем их называть обычными методами).\n",
    "* Статический метод создается с декоратором `@staticmethod`,\n",
    "* классовый – с декоратором `@classmethod`, первым аргументом в него передается `cls` (ссылка на вызываемый класс),\n",
    "* обычный метод создается без специального декоратора, ему первым аргументом передается `self`."
   ]
  },
  {
   "cell_type": "code",
   "execution_count": null,
   "id": "ad2eb421",
   "metadata": {},
   "outputs": [],
   "source": [
    "class Car:\n",
    "    \n",
    "    @staticmethod\n",
    "    def ex_static_method():\n",
    "        print(\"static method\")\n",
    "        \n",
    "    @classmethod\n",
    "    def ex_class_method(cls):\n",
    "        print(\"class method\")\n",
    "        \n",
    "    def ex_method(self):\n",
    "        print(\"method\")"
   ]
  },
  {
   "cell_type": "markdown",
   "id": "0121fb80",
   "metadata": {},
   "source": [
    "Статический и классовый метод можно вызвать, не создавая экземпляр класса, для вызова ex_method() нужен объект:"
   ]
  },
  {
   "cell_type": "code",
   "execution_count": null,
   "id": "dd3b8916-cd1e-4249-87fa-c6a028821715",
   "metadata": {},
   "outputs": [],
   "source": [
    "Car.ex_static_method() # Работает на классе"
   ]
  },
  {
   "cell_type": "code",
   "execution_count": null,
   "id": "41053d42-cc19-4c41-a87e-f9806d6acdc4",
   "metadata": {},
   "outputs": [],
   "source": [
    "Car.ex_class_method() # Работает на классе"
   ]
  },
  {
   "cell_type": "code",
   "execution_count": null,
   "id": "aed02c07",
   "metadata": {},
   "outputs": [],
   "source": [
    "Car.ex_method() # Работает на экземпляре класса"
   ]
  },
  {
   "cell_type": "code",
   "execution_count": null,
   "id": "5159b3c1",
   "metadata": {},
   "outputs": [],
   "source": [
    "m = Car() # Экземпляр класса\n",
    "m.ex_method()"
   ]
  },
  {
   "cell_type": "markdown",
   "id": "7d03dd08",
   "metadata": {},
   "source": [
    "**Классовые методы** принимают класс в качестве параметра, который принято обозначать как `cls`. В данном случае он указывает на класс `Car`, а не на объект этого класса, `self`.\n",
    "\n",
    "Методы класса привязаны к самому классу, а не его экземпляру. Они могут менять состояние класса, что отразится на всех объектах этого класса, но не могут менять конкретный объект."
   ]
  },
  {
   "cell_type": "code",
   "execution_count": null,
   "id": "70251607-88bd-4fd7-8ce7-5684d1c45d7f",
   "metadata": {},
   "outputs": [],
   "source": [
    "class MyClass:\n",
    "    class_attr = \"Class attribute\"\n",
    "\n",
    "    @classmethod\n",
    "    def class_method(cls):\n",
    "        print(cls.class_attr)\n",
    "\n",
    "MyClass.class_method()  # Class attribute\n"
   ]
  },
  {
   "cell_type": "markdown",
   "id": "d212350b",
   "metadata": {},
   "source": [
    "**Статическим методам** не нужен определённый первый аргумент (ни self, ни cls). Их можно воспринимать как методы, которые `не знают, к какому классу относятся`.\n",
    "\n",
    "Таким образом, статические методы прикреплены к классу лишь для удобства и не могут менять состояние ни класса, ни его экземпляра. То есть статические методы не могут получить доступ к параметрам класса или объекта. Они работают только с теми данными, которые им передаются в качестве аргументов."
   ]
  },
  {
   "cell_type": "code",
   "execution_count": null,
   "id": "82b98293-6773-4989-b8bb-800fba9bce63",
   "metadata": {},
   "outputs": [],
   "source": [
    "class MathHelper:\n",
    "    # Статический метод (не зависит от класса или экземпляра)\n",
    "    @staticmethod\n",
    "    def add(a, b):\n",
    "        return a + b\n",
    "\n",
    "# Вызываем без создания объекта\n",
    "result = MathHelper.add(5, 3)\n",
    "print(result)  # Вывод: 8"
   ]
  },
  {
   "cell_type": "markdown",
   "id": "c1d7341c",
   "metadata": {},
   "source": [
    "**Метод экземпляра класса** это наиболее часто используемый вид методов. Методы экземпляра класса принимают объект класса как первый аргумент, который принято называть `self` и который указывает на сам экземпляр. Количество параметров метода не ограничено.\n",
    "\n",
    "Используя параметр `self`, мы можем менять состояние объекта и обращаться к другим его методам и параметрам. К тому же, используя атрибут `self.__class__`, мы получаем доступ к атрибутам класса и возможности менять состояние самого класса. То есть методы экземпляров класса позволяют менять как состояние определённого объекта, так и класса."
   ]
  },
  {
   "cell_type": "markdown",
   "id": "e4f5b957-fd71-4261-9e5f-31d5d47bc969",
   "metadata": {},
   "source": [
    "### Когда что использовать:\n",
    "* Обычные методы — когда нужен доступ к данным конкретного объекта.\n",
    "\n",
    "* Классовые методы — когда нужно работать с классом (например, создать экземпляр с особыми параметрами).\n",
    "\n",
    "* Статические методы — когда функция логически относится к классу, но не требует доступа к его данным."
   ]
  },
  {
   "cell_type": "markdown",
   "id": "fb24cf7c",
   "metadata": {},
   "source": [
    "\n",
    "Давайте рассмотрим более естественный пример и выясним в чем разница между методами."
   ]
  },
  {
   "cell_type": "code",
   "execution_count": null,
   "id": "42494f24",
   "metadata": {},
   "outputs": [],
   "source": [
    "from datetime import date\n",
    "\n",
    "class Car:\n",
    "    def __init__(self, brand, age):\n",
    "        self.brand = brand\n",
    "        self.age = age\n",
    "    \n",
    "    @staticmethod\n",
    "    def is_warranty_active(age):\n",
    "        return age < 3\n",
    "    \n",
    "    @classmethod\n",
    "    def from_production_year(cls, brand, prod_year):\n",
    "        return cls(brand, date.today().year - prod_year)\n",
    "      \n",
    "    def info(self):\n",
    "        print(\"Car: \" + self.brand)\n",
    "        print(\"Age: \" + str(self.age))\n",
    "        if self.is_warranty_active(self.age):\n",
    "            print(\"Warranty is ACTIVE\")\n",
    "        else:\n",
    "            print(\"Warranty is NOT active\")\n",
    "    \n",
    "car1 = Car('Subaru', 5)\n"
   ]
  },
  {
   "cell_type": "code",
   "execution_count": null,
   "id": "278811f0",
   "metadata": {},
   "outputs": [],
   "source": [
    "car1.brand, car1.age"
   ]
  },
  {
   "cell_type": "code",
   "execution_count": null,
   "id": "7eff1057-8238-4145-ac3c-73166d50048e",
   "metadata": {},
   "outputs": [],
   "source": [
    "car2 = Car.from_production_year('Skoda', 2020) # Создаем экземпляр класса Car"
   ]
  },
  {
   "cell_type": "code",
   "execution_count": null,
   "id": "d5f0fc64",
   "metadata": {},
   "outputs": [],
   "source": [
    "car2.brand, car2.age"
   ]
  },
  {
   "cell_type": "code",
   "execution_count": null,
   "id": "ca508c85",
   "metadata": {},
   "outputs": [],
   "source": [
    "Car.is_warranty_active(25)"
   ]
  },
  {
   "cell_type": "code",
   "execution_count": null,
   "id": "12fd57bf",
   "metadata": {},
   "outputs": [],
   "source": [
    "car1.info()"
   ]
  },
  {
   "cell_type": "code",
   "execution_count": null,
   "id": "dea18524",
   "metadata": {},
   "outputs": [],
   "source": [
    "car2.info()"
   ]
  },
  {
   "cell_type": "markdown",
   "id": "107fa125",
   "metadata": {},
   "source": [
    "Метод класса - `from_production_year` возвращает нам СОЗДАННЫЙ внутри функции экземпляр класса `Car` с вычисленным возрастом. Т.к. мы не можем внутри класса `Car` вызвать класс `Car`, мы и используем `cls`.\n",
    "\n",
    "Статический метод - `is_warranty_active` выясняет действительна ли еще гарантия. Как вы видете, он не обращается к возрасту машины в классе, а принимает ее в качестве аргумента - `age`.\n",
    "\n",
    "Метод экземпляра класса - `info`, через `self` обращается к своим атрибутам, вызывает статическую функцию, передавая туда возраст машины.\n",
    "\n",
    "Выбор того, какой из методов использовать, может показаться достаточно сложным. Тем не менее с опытом этот выбор делать гораздо проще. Чаще всего **метод класса** используется тогда, когда нужен генерирующий метод, возвращающий объект класса. Как видим, метод класса `from_production_year` используется для создания объекта класса `Car` по году производства машины, а не по указанному возрасту. \n",
    "\n",
    "Статические методы в основном используются как вспомогательные функции и работают с данными, которые им передаются.\n",
    "\n",
    "Итак:\n",
    "- Методы экземпляра класса получают доступ к объекту класса через параметр `self` и к классу через `self.__class__`.\n",
    "- Методы класса не могут получить доступ к определённому объекту класса, но имеют доступ к самому классу через `cls`.\n",
    "- Статические методы работают как обычные функции, но принадлежат области имён класса. Они не имеют доступа ни к самому классу, ни к его экземплярам."
   ]
  },
  {
   "cell_type": "markdown",
   "id": "fe63aa50-9300-4a9a-b235-23a8871524e7",
   "metadata": {},
   "source": [
    "# Домашнее задание 33\n",
    "1. **Класс Person**   \n",
    "Создайте класс Person, представляющий человека.\n",
    "* Каждый человек должен иметь имя.\n",
    "* Добавьте метод introduce(), который выводит приветствие с именем.\n",
    "\n",
    "*Пример вывода:*   \n",
    "`Hello, my name is Alice.`\n"
   ]
  },
  {
   "cell_type": "code",
   "execution_count": null,
   "id": "1a2d9f06-83c5-4220-85d6-61622258e680",
   "metadata": {},
   "outputs": [],
   "source": [
    "class Person:\n",
    "    def __init__(self, name):\n",
    "        self.name = name\n",
    "\n",
    "    def introduce(self):\n",
    "        print(f\"Hello, my name is {self.name}.\")\n",
    "\n",
    "person = Person(\"Alice\")\n",
    "person.introduce()\n"
   ]
  },
  {
   "cell_type": "markdown",
   "id": "985be0e3-fa49-48b2-9589-eeb1507ec135",
   "metadata": {},
   "source": [
    "2. **Класс Student**  \n",
    "На основе класса Person создайте класс Student.\n",
    "* Студент должен иметь имя и номер курса.\n",
    "* Метод `introduce()` должен сначала выводить базовое приветствие, а затем строку: I'm on course <номер_курса>.\n",
    "*Пример вывода:*   \n",
    "Hello, my name is Alice.  \n",
    "I'm on course 2.\n"
   ]
  },
  {
   "cell_type": "code",
   "execution_count": null,
   "id": "885269ae-1c59-43d8-bac4-258ce1e4f272",
   "metadata": {},
   "outputs": [],
   "source": [
    "class Student(Person):\n",
    "    def __init__(self, name, course):\n",
    "        super().__init__(name)\n",
    "        self.course = course\n",
    "\n",
    "    def introduce(self):\n",
    "        super().introduce()\n",
    "        print(f\"I'm on course {self.course}.\")\n",
    "\n",
    "student = Student(\"Alice\", 2)\n",
    "student.introduce()\n"
   ]
  },
  {
   "cell_type": "markdown",
   "id": "62ce4a5c-5168-48d0-bb89-97c0b7ce0304",
   "metadata": {},
   "source": [
    "3. **Класс Teacher и список людей**  \n",
    "На основе класса Person создайте класс Teacher.  \n",
    "* У преподавателя есть имя и предмет.  \n",
    "* Метод `introduce()` должен выводить строку: Hello, I am professor <имя>. My subject is <предмет>.  \n",
    "* Создайте список, в котором будут Student и Teacher, и вызовите у всех метод introduce().  \n",
    "\n",
    "*Пример вывода:*   \n",
    "Hello, my name is Alice.  \n",
    "I'm on course 2.  \n",
    "Hello, I am professor Bob.   \n",
    "My subject is Mathematics\n"
   ]
  },
  {
   "cell_type": "code",
   "execution_count": null,
   "id": "2091ef6f-08c0-4d1b-ae18-6cd6b4babe41",
   "metadata": {},
   "outputs": [],
   "source": [
    "class Teacher(Person):\n",
    "    def __init__(self, name, subject):\n",
    "        super().__init__(name)\n",
    "        self.subject = subject\n",
    "\n",
    "    def introduce(self):\n",
    "        print(f\"Hello, I am professor {self.name}. \\nMy subject is {self.subject}\")\n",
    "\n",
    "student = Student(\"Alice\", 2)\n",
    "teacher = Teacher(\"Bob\", \"Mathematics\")\n",
    "\n",
    "people = [student, teacher]\n",
    "for p in people:\n",
    "    p.introduce()\n"
   ]
  },
  {
   "cell_type": "markdown",
   "id": "18952de1-c967-42d8-8cfe-4eff896e9172",
   "metadata": {},
   "source": [
    "# Домашнее задание 34\n",
    "1. **Счётчик экземпляров**  \n",
    "Создайте класс User, представляющий пользователя.\n",
    "* При создании должны указываться логин (username) и пароль (password).\n",
    "* У класса должно быть поле total_users, хранящее общее количество созданных пользователей.\n",
    "* При каждом создании нового объекта User, счётчик должен увеличиваться.\n",
    "* Добавьте метод get_total(), возвращающий количество пользователей.\n",
    "* Проверьте, что счётчик работает.\n",
    "  \n",
    "**Пример вывода:**   \n",
    "Total users: 2\n"
   ]
  },
  {
   "cell_type": "code",
   "execution_count": null,
   "id": "815671c2-3e36-4f5d-9fa3-c1ed64a90f42",
   "metadata": {},
   "outputs": [],
   "source": [
    "class User:\n",
    "    total_users = 0\n",
    "\n",
    "    def __init__(self, username, password):\n",
    "        self.username = username\n",
    "        self.password = password\n",
    "        User.total_users += 1\n",
    "\n",
    "    @classmethod\n",
    "    def get_total(cls):\n",
    "        return cls.total_users\n",
    "\n",
    "u1 = User(\"alice\", \"secret\")\n",
    "u2 = User(\"bob\", \"qwe\")\n",
    "\n",
    "print(f\"Total users: {User.get_total()}\")\n"
   ]
  },
  {
   "cell_type": "markdown",
   "id": "994d95f6-5f36-4b4d-aa27-44b9af4b363e",
   "metadata": {},
   "source": [
    "2. **Проверка данных пользователя**  \n",
    "* Доработайте класс User.  \n",
    "* Добавьте валидации полей при создании.\n",
    "* Имя должно быть непустой строкой.\n",
    "* Пароль должен быть строкой длиной не менее 5 символов.\n",
    "* Если данные некорректны — выбрасывайте ValueError.\n",
    "* Добавьте строковое представление объекта.\n",
    "* Проверьте работу класса с разными значениями.\n",
    "\n",
    "**Пример вызова:**\n",
    "```\n",
    "user1 = User(\"alice\", \"secret\")\n",
    "user2 = User(\"bob\", \"qwe\")\n",
    "```\n",
    "**Пример вывода:** \n",
    "```\n",
    "User: alice  \n",
    "  ...  \n",
    "ValueError: Invalid password: 'qwe'.  \n",
    "```"
   ]
  },
  {
   "cell_type": "code",
   "execution_count": null,
   "id": "ba98ef95-a940-4a16-adf4-89d2d718693c",
   "metadata": {},
   "outputs": [],
   "source": [
    "class User:\n",
    "    total_users = 0\n",
    "\n",
    "    def __init__(self, username, password):\n",
    "        if not self.is_valid_username(username):\n",
    "            raise ValueError(f\"Invalid username: '{username}'.\")\n",
    "        if not self.is_valid_password(password):\n",
    "            raise ValueError(f\"Invalid password: '{password}'.\")\n",
    "        self.username = username\n",
    "        self.password = password\n",
    "        User.total_users += 1\n",
    "\n",
    "    @classmethod\n",
    "    def get_total(cls):\n",
    "        return cls.total_users\n",
    "\n",
    "    @staticmethod\n",
    "    def is_valid_username(value):\n",
    "        return isinstance(value, str) and len(value.strip()) > 0\n",
    "\n",
    "    @staticmethod\n",
    "    def is_valid_password(value):\n",
    "        return isinstance(value, str) and len(value) >= 5\n",
    "\n",
    "    def __str__(self):\n",
    "        return f\"User: {self.username}\"\n",
    "\n",
    "user1 = User(\"alice\", \"secret\")\n",
    "print(user1)\n",
    "# user2 = User(\"bob\", \"qwe\")  # вызовет ошибку\n"
   ]
  },
  {
   "cell_type": "code",
   "execution_count": null,
   "id": "0af4ef01-6044-4e9f-8357-437c3aed049d",
   "metadata": {},
   "outputs": [],
   "source": []
  }
 ],
 "metadata": {
  "kernelspec": {
   "display_name": "Python 3 (ipykernel)",
   "language": "python",
   "name": "python3"
  },
  "language_info": {
   "codemirror_mode": {
    "name": "ipython",
    "version": 3
   },
   "file_extension": ".py",
   "mimetype": "text/x-python",
   "name": "python",
   "nbconvert_exporter": "python",
   "pygments_lexer": "ipython3",
   "version": "3.12.4"
  }
 },
 "nbformat": 4,
 "nbformat_minor": 5
}
