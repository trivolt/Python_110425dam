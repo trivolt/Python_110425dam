{
 "cells": [
  {
   "cell_type": "markdown",
   "id": "f9c24431-409e-4f62-8356-e5d7ad11f384",
   "metadata": {},
   "source": [
    "# Summary 16"
   ]
  },
  {
   "cell_type": "code",
   "execution_count": null,
   "id": "b2ac66ff-751f-4273-a7a2-051e5f4536ed",
   "metadata": {},
   "outputs": [],
   "source": []
  },
  {
   "cell_type": "code",
   "execution_count": null,
   "id": "5387cd63-fb05-4dce-b562-72f1902ee6ff",
   "metadata": {},
   "outputs": [],
   "source": []
  },
  {
   "cell_type": "markdown",
   "id": "7d525ca7-556c-40e9-a18f-d5c287ccc936",
   "metadata": {},
   "source": [
    "## Домашнее задание 31\n",
    "1.***Извлечение дат***  \n",
    "Реализуйте программу, которая должна:  \n",
    "Найти в тексте все даты в форматах DD/MM/YYYY, DD-MM-YYYY и DD.MM.YYYY.  \n",
    "Данные:  \n",
    "`text = \"The events N 123456 happened on 15/03/2025, 01.12.2024 and 09-09-2023. Deadline: 28/02/2022.\"`  \n",
    "Пример вывода:  \n",
    "15/03/2025  \n",
    "01.12.2024  \n",
    "09-09-2023  \n",
    "28/02/2022  \n"
   ]
  },
  {
   "cell_type": "code",
   "execution_count": 6,
   "id": "50ba9be9-c1f3-4365-81df-f4fad90e2709",
   "metadata": {},
   "outputs": [
    {
     "name": "stdout",
     "output_type": "stream",
     "text": [
      "15/03/2025\n",
      "01.12.2024\n",
      "28/02/2022\n"
     ]
    }
   ],
   "source": [
    "import re\n",
    "\n",
    "text = \"The events N 01,02,1000 happened on 15/03/2025, 01.12.2024 and 09-09-2023. Deadline: 28/02/2022.\"\n",
    "\n",
    "# Ищем даты в форматах DD/MM/YYYY, DD.MM.YYYY, DD-MM-YYYY\n",
    "pattern = r\"\\b\\d{2}[.-\\/]\\d{2}[.-\\/]\\d{4}\\b\"\n",
    "\n",
    "dates = re.findall(pattern, text)\n",
    "\n",
    "for d in dates:\n",
    "    print(d)\n"
   ]
  },
  {
   "cell_type": "markdown",
   "id": "281a0dbf-c36a-4894-9948-68360d3663df",
   "metadata": {},
   "source": [
    "2. ***Разделение списка тегов***  \n",
    "Реализуйте программу, которая должна:  \n",
    "Прочитать строку с тегами, введёнными пользователем.  \n",
    "Разделить её на отдельные теги, независимо от того, чем они были разделены (запятые, точки с запятой, слэши или пробелы).  \n",
    "Удалить лишние пробелы и пустые значения.  \n",
    "Данные:  \n",
    "`tag_input = \"python, data-science / machine-learning; AI  neural-networks\"`  \n",
    "Пример вывода:  \n",
    "`['python', 'data-science', 'machine-learning', 'AI', 'neural-networks']`\n"
   ]
  },
  {
   "cell_type": "code",
   "execution_count": 10,
   "id": "92d9827e-02be-4cf3-939a-2b409b9cb599",
   "metadata": {},
   "outputs": [
    {
     "name": "stdout",
     "output_type": "stream",
     "text": [
      "['python', 'data-science', 'machine-learning', 'AI', 'neural-networks']\n",
      "['python', 'data-science', 'machine-learning', 'AI', 'neural-networks', '']\n"
     ]
    }
   ],
   "source": [
    "import re\n",
    "\n",
    "tag_input = \"python, data-science / machine-learning; AI  neural-networks;\"\n",
    "\n",
    "# Разделение по , ; / и пробелам (один или несколько подряд)\n",
    "raw_tags = re.split(r\"[,\\s;/]+\", tag_input)\n",
    "\n",
    "# Удаляем пустые элементы и лишние пробелы\n",
    "tags = [tag for tag in raw_tags if tag.strip()]\n",
    "\n",
    "print(tags)\n",
    "\n",
    "print(raw_tags)\n"
   ]
  },
  {
   "cell_type": "markdown",
   "id": "3631b84e-d1d5-422a-9e89-b6e501b65a47",
   "metadata": {},
   "source": [
    "## Домашнее задание 32\n",
    "1. ***Класс Rectangle***  \n",
    "Создайте класс Rectangle, который описывает прямоугольник.  \n",
    "У каждого объекта должны быть два поля: width и height.  \n",
    "Добавьте метод get_area(), который возвращает площадь прямоугольника.  \n",
    "Создайте объект прямоугольника с произвольными значениями.  \n",
    "Выведите его площадь.  \n",
    "Измените ширину и высоту.  \n",
    "Выведите новую площадь.  \n",
    "**Пример вывода:**   \n",
    "Площадь: 20  \n",
    "Новая площадь: 35  \n"
   ]
  },
  {
   "cell_type": "code",
   "execution_count": null,
   "id": "d6dbc111-bd09-4a7b-916b-65ca6c396aa8",
   "metadata": {},
   "outputs": [],
   "source": [
    "class Rectangle:\n",
    "    def __init__(self, width, height):\n",
    "        self.width = width\n",
    "        self.height = height\n",
    "\n",
    "    def get_area(self):\n",
    "        return self.width * self.height\n",
    "\n",
    "r = Rectangle(4, 5)\n",
    "print(\"Площадь:\", r.get_area())\n",
    "\n",
    "r.width = 5\n",
    "r.height = 7\n",
    "print(\"Новая площадь:\", r.get_area())\n"
   ]
  },
  {
   "cell_type": "markdown",
   "id": "40af410d-a9d6-4afc-8eb9-36cb9dfcb105",
   "metadata": {},
   "source": [
    "2. ***Класс Counter***  \n",
    "Реализуйте класс Counter, который представляет собой простой счётчик.  \n",
    "Счётчик должен начинаться с нуля.  \n",
    "Предусмотрите методы для увеличения и уменьшения значения на единицу, при этом при каждой операции должно отображаться новое значение счётчика.  \n",
    "Добавьте метод, возвращающий текущий результат.  \n",
    "Проверьте работу счётчика, выполнив несколько операций.  \n",
    "**Пример вывода:**   \n",
    "Значение увеличено, текущее: 1  \n",
    "Значение увеличено, текущее: 2  \n",
    "Значение увеличено, текущее: 3  \n",
    "Значение уменьшено, текущее: 2  \n",
    "Текущее значение: 2  \n"
   ]
  },
  {
   "cell_type": "code",
   "execution_count": null,
   "id": "9f704e6d-5be8-4249-a341-693dba1dd5d8",
   "metadata": {},
   "outputs": [],
   "source": [
    "class Counter:\n",
    "    def __init__(self):\n",
    "        self.value = 0\n",
    "\n",
    "    def increment(self):\n",
    "        self.value += 1\n",
    "        print(f\"Значение увеличено, текущее: {self.value}\")\n",
    "\n",
    "    def decrement(self):\n",
    "        self.value -= 1\n",
    "        print(f\"Значение уменьшено, текущее: {self.value}\")\n",
    "\n",
    "    def get(self):\n",
    "        return self.value\n",
    "\n",
    "c = Counter()\n",
    "c.increment()\n",
    "c.increment()\n",
    "c.increment()\n",
    "c.decrement()\n",
    "print(f\"Текущее значение: {c.get()}\")\n"
   ]
  },
  {
   "cell_type": "code",
   "execution_count": null,
   "id": "0610bdda-354b-4c91-a837-e4037ef07f3d",
   "metadata": {},
   "outputs": [],
   "source": []
  }
 ],
 "metadata": {
  "kernelspec": {
   "display_name": "Python 3 (ipykernel)",
   "language": "python",
   "name": "python3"
  },
  "language_info": {
   "codemirror_mode": {
    "name": "ipython",
    "version": 3
   },
   "file_extension": ".py",
   "mimetype": "text/x-python",
   "name": "python",
   "nbconvert_exporter": "python",
   "pygments_lexer": "ipython3",
   "version": "3.12.4"
  }
 },
 "nbformat": 4,
 "nbformat_minor": 5
}
