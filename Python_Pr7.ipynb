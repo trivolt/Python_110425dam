{
 "cells": [
  {
   "cell_type": "markdown",
   "id": "6ad3cf2d-7292-41ac-a37e-a483ecb7726e",
   "metadata": {},
   "source": [
    "# Практика 7\n",
    "* Лекция 14 - Методы списков\r",
    "* \n",
    "Лекция 15 - Списки. Работа с памятью\r\n"
   ]
  },
  {
   "cell_type": "markdown",
   "id": "67485b4f-8159-4fa5-95ca-64bcbc783eb1",
   "metadata": {},
   "source": [
    "1. ***Номер покупки***  \n",
    "Задача:  \n",
    "Дан список покупок. Найдите какой по счету (начиная с единицы) товар с названием \"Milk\". Если товара нет, выведите сообщение об отсутствии.  \n",
    "Данные:  \n",
    "`products = [\"Bread\", \"Butter\", \"Cheese\", \"Milk\", \"Eggs\"]`  \n",
    "\n",
    "Пример вывода:  \n",
    "Товар \"Milk\" в списке покупок: 4\n"
   ]
  },
  {
   "cell_type": "code",
   "execution_count": 7,
   "id": "97625870-57f9-472e-a30a-77aec530214c",
   "metadata": {},
   "outputs": [
    {
     "data": {
      "text/plain": [
       "3"
      ]
     },
     "execution_count": 7,
     "metadata": {},
     "output_type": "execute_result"
    }
   ],
   "source": [
    "products.index('Milk')"
   ]
  },
  {
   "cell_type": "code",
   "execution_count": 6,
   "id": "b43e1442-2a40-44c2-8ef9-09c235b10950",
   "metadata": {},
   "outputs": [
    {
     "name": "stdout",
     "output_type": "stream",
     "text": [
      "Позиция: 4\n"
     ]
    }
   ],
   "source": [
    "products = [\"Bread\", \"Butter\", \"Cheese\", \"Milk\", \"Eggs\"]\n",
    "\n",
    "if 'Milk' in products:\n",
    "    index = products.index('Milk')\n",
    "    print(f'Позиция: {index+1}')\n",
    "else:\n",
    "    print('товар не найден')\n",
    "\n",
    "\n"
   ]
  },
  {
   "cell_type": "markdown",
   "id": "a406d299-94e6-4415-b387-0067bcee1d89",
   "metadata": {},
   "source": [
    "2. ***Список уникальных слов***  \n",
    "Задача:  \n",
    "Дан текст. Программа должна:  \n",
    "Разбить текст на слова.  \n",
    "Создать список уникальных слов в алфавитном порядке (не учитывая регистр).  \n",
    "Вывести количество уникальных слов.  \n",
    "Данные:  \n",
    "`text = \"Python is a great programming language. Python is popular and powerful.\"`  \n",
    "\n",
    "Пример вывода:  \n",
    "Количество уникальных слов: 9  \n",
    "Уникальные слова: `['a', 'and', 'great', 'is', 'language', 'popular', 'powerful', 'programming', 'python']`\n"
   ]
  },
  {
   "cell_type": "code",
   "execution_count": 12,
   "id": "4885a0e7-d6c2-4255-947b-d398e0c2d4f0",
   "metadata": {},
   "outputs": [
    {
     "data": {
      "text/plain": [
       "['P',\n",
       " 'y',\n",
       " 't',\n",
       " 'h',\n",
       " 'o',\n",
       " 'n',\n",
       " ' ',\n",
       " 'i',\n",
       " 's',\n",
       " ' ',\n",
       " 'a',\n",
       " ' ',\n",
       " 'g',\n",
       " 'r',\n",
       " 'e',\n",
       " 'a',\n",
       " 't',\n",
       " ' ',\n",
       " 'p',\n",
       " 'r',\n",
       " 'o',\n",
       " 'g',\n",
       " 'r',\n",
       " 'a',\n",
       " 'm',\n",
       " 'm',\n",
       " 'i',\n",
       " 'n',\n",
       " 'g',\n",
       " ' ',\n",
       " 'l',\n",
       " 'a',\n",
       " 'n',\n",
       " 'g',\n",
       " 'u',\n",
       " 'a',\n",
       " 'g',\n",
       " 'e',\n",
       " '.',\n",
       " ' ',\n",
       " 'P',\n",
       " 'y',\n",
       " 't',\n",
       " 'h',\n",
       " 'o',\n",
       " 'n',\n",
       " ' ',\n",
       " 'i',\n",
       " 's',\n",
       " ' ',\n",
       " 'p',\n",
       " 'o',\n",
       " 'p',\n",
       " 'u',\n",
       " 'l',\n",
       " 'a',\n",
       " 'r',\n",
       " ' ',\n",
       " 'a',\n",
       " 'n',\n",
       " 'd',\n",
       " ' ',\n",
       " 'p',\n",
       " 'o',\n",
       " 'w',\n",
       " 'e',\n",
       " 'r',\n",
       " 'f',\n",
       " 'u',\n",
       " 'l',\n",
       " '.']"
      ]
     },
     "execution_count": 12,
     "metadata": {},
     "output_type": "execute_result"
    }
   ],
   "source": [
    "list(\"Python is a great programming language. Python is popular and powerful.\")"
   ]
  },
  {
   "cell_type": "code",
   "execution_count": 14,
   "id": "ea90ce4a-97bc-42a6-b02a-2d8abcccff3b",
   "metadata": {},
   "outputs": [
    {
     "name": "stdout",
     "output_type": "stream",
     "text": [
      "Python is a great programming language. Python, is popular and powerful.\n"
     ]
    }
   ],
   "source": [
    "text = \"Python is a great programming language. Python, is popular and powerful.\"\n",
    "\n",
    "print(text.replace('.',''))\n"
   ]
  },
  {
   "cell_type": "code",
   "execution_count": 23,
   "id": "69a94c45-b114-4b54-bf33-1fc63ae5902a",
   "metadata": {},
   "outputs": [
    {
     "name": "stdout",
     "output_type": "stream",
     "text": [
      "['a', 'and', 'great', 'is', 'language.', 'popular', 'powerful.', 'programming', 'python', 'python,']\n",
      "10\n"
     ]
    }
   ],
   "source": [
    "text = \"Python is a great programming language. Python, is popular and powerful.\"\n",
    "\n",
    "str = ',.:;-!?'\n",
    "\n",
    "for ch in str:\n",
    "    text = text.replace(ch,'')\n",
    "\n",
    "unic_word = []\n",
    "\n",
    "for word in text.lower().split():\n",
    "    if word not in unic_word:\n",
    "        unic_word.append(word)\n",
    "\n",
    "unic_word.sort()\n",
    "print(unic_word)\n",
    "print(len(unic_word))"
   ]
  },
  {
   "cell_type": "markdown",
   "id": "70458673-b93e-4ad1-884e-f03cf77bc12f",
   "metadata": {},
   "source": [
    "3. ***Самое длинное слово***  \n",
    "Дано предложение. Найдите самое длинное слово и выведите это слово с его длиной.  \n",
    "Данные:   \n",
    "`sentence = \"Programming in Python is both fun and educational\"`  \n",
    "\n",
    "Пример вывода:  \n",
    "Самое длинное слово: Programming  \n",
    "Длина слова: 11\n"
   ]
  },
  {
   "cell_type": "code",
   "execution_count": 24,
   "id": "c26fe4b5-8eb2-48e4-af59-5a55cdecf815",
   "metadata": {},
   "outputs": [
    {
     "name": "stdout",
     "output_type": "stream",
     "text": [
      "Самое длинное слово: Programming\n",
      "Длина слова: 11\n"
     ]
    }
   ],
   "source": [
    "sentence = \"Programming in Python is both fun and educational\"\n",
    "\n",
    "words = sentence.split()\n",
    "longest_word = max(words, key=len)\n",
    "\n",
    "print(\"Самое длинное слово:\", longest_word)\n",
    "print(\"Длина слова:\", len(longest_word))"
   ]
  },
  {
   "cell_type": "code",
   "execution_count": 25,
   "id": "96a18851-391b-442a-9890-7cb986487f2e",
   "metadata": {},
   "outputs": [
    {
     "name": "stdout",
     "output_type": "stream",
     "text": [
      "Самое длинное слово: Programming\n",
      "Длина слова: 11\n"
     ]
    }
   ],
   "source": [
    "sentence = \"Programming in Python is both fun and educational\"\n",
    "words = sentence.split()\n",
    "\n",
    "max_len_word = words[0]\n",
    "for word in words:\n",
    "    if len(word) > len(max_len_word):\n",
    "        max_len_word = word\n",
    "        \n",
    "print(\"Самое длинное слово:\", max_len_word)   \n",
    "print(\"Длина слова:\", len(max_len_word))"
   ]
  },
  {
   "cell_type": "markdown",
   "id": "a991b19e-02d8-4f0f-92d0-6f9bf0c1f5b8",
   "metadata": {},
   "source": [
    "4. ***Перемещение в конец***  \n",
    "Напишите программу, которая перемещает все элементы списка, меньше 5, в конец списка, сохраняя порядок остальных элементов.  \n",
    "Данные:  \n",
    "`numbers = [4, 7, 1, 6, 3, 8, 2]`  \n",
    "\n",
    "Пример вывода:  \n",
    "Перемещённые элементы: [7, 6, 8, 4, 1, 3, 2]\n"
   ]
  },
  {
   "cell_type": "code",
   "execution_count": null,
   "id": "8fba6da6-9749-4c0f-8dbf-d94eff0f62b4",
   "metadata": {},
   "outputs": [],
   "source": [
    "numbers = [4, 7, 1, 6, 3, 8, 2]\n",
    "b5=[]\n",
    "m5=[]\n",
    "for n in numbers:\n",
    "    if n>=5:\n",
    "        b5.append(n)\n",
    "    else: \n",
    "        m5.append(n)\n",
    "print(b5+m5)"
   ]
  },
  {
   "cell_type": "markdown",
   "id": "a8feae74-35ac-4b7d-8fe1-dd1dbda0a35e",
   "metadata": {},
   "source": [
    "5. ***Суммы пар***  \n",
    "Напишите программу, которая обрабатывает список чисел и возвращает новый список, содержащий все возможные суммы пар разных элементов без дубликатов значений. Результат должен быть отсортирован по убыванию.\n",
    "Данные:  \n",
    "`numbers = [3, 5, 9]`  \n",
    "\n",
    "Пример вывода:  \n",
    "Суммы пар чисел по убыванию: `[14, 12, 8]`\n"
   ]
  },
  {
   "cell_type": "code",
   "execution_count": 26,
   "id": "12c6d9b7-5bd4-4c5a-8742-a6922114fb81",
   "metadata": {},
   "outputs": [
    {
     "name": "stdout",
     "output_type": "stream",
     "text": [
      "A B\n",
      "A C\n",
      "A D\n",
      "B C\n",
      "B D\n",
      "C D\n"
     ]
    }
   ],
   "source": [
    "names = ['A', 'B', 'C', 'D']\n",
    "\n",
    "for i in range(len(names)):\n",
    "    for j in range(i+1,len(names)):\n",
    "        print(names[i],names[j])\n",
    "        "
   ]
  },
  {
   "cell_type": "code",
   "execution_count": 27,
   "id": "2d574146-13ee-4e5c-ba0e-91944ab65c14",
   "metadata": {},
   "outputs": [
    {
     "name": "stdout",
     "output_type": "stream",
     "text": [
      "[14, 12, 8]\n"
     ]
    }
   ],
   "source": [
    "numbers = [3, 5, 9]\n",
    "sums = []\n",
    "for i in range(len(numbers)):\n",
    "    for j in range(i+1,len(numbers)):\n",
    "        s = numbers[i] + numbers[j] \n",
    "        sums.append(s)\n",
    "sums.sort(reverse =True)\n",
    "        \n",
    "print(sums)"
   ]
  },
  {
   "cell_type": "code",
   "execution_count": null,
   "id": "e04341c0-cc43-42ee-a82f-56701276dff5",
   "metadata": {},
   "outputs": [],
   "source": []
  },
  {
   "cell_type": "markdown",
   "id": "2f38099b-3225-4524-a962-98d907376969",
   "metadata": {},
   "source": [
    "6. ***Покупки с лимитом бюджета***  \n",
    "Дан список покупок, где каждый элемент — это кортеж с названием товара и его ценой. Покупки распределены по приоритетности. Пользователь вводит бюджет. Программа должна вывести:\n",
    "список покупок, которые он может себе позволить;  \n",
    "итоговую стоимость этих товаров.  \n",
    "Данные:  \n",
    "`shopping_list = [\n",
    "    (\"Bread\", 1.20), \n",
    "    (\"Milk\", 0.99), \n",
    "    (\"Eggs\", 2.50), \n",
    "    (\"Butter\", 3.75), \n",
    "    (\"Cheese\", 4.10), \n",
    "    (\"Apple\", 0.50)\n",
    "]`\n",
    "\n",
    "Пример вывода:  \n",
    "Введите ваш бюджет: 7  \n",
    "\n",
    "Покупки в рамках бюджета:  \n",
    "`Bread: $1.20`  \n",
    "`Milk: $0.99`   \n",
    "`Eggs: $2.50`  \n",
    "`Apple: $0.50`  \n",
    "\n",
    "Итоговая стоимость: `$5.19`  \n"
   ]
  },
  {
   "cell_type": "code",
   "execution_count": 28,
   "id": "3825d6c3-d163-4517-a64d-fae2ef49257e",
   "metadata": {},
   "outputs": [
    {
     "name": "stdin",
     "output_type": "stream",
     "text": [
      " 7\n"
     ]
    },
    {
     "name": "stdout",
     "output_type": "stream",
     "text": [
      "Покупки в рамках бюджета:\n",
      "Bread: $1.20\n",
      "Milk: $0.99\n",
      "Eggs: $2.50\n",
      "Apple: $0.50\n",
      "Итоговая стоимость: $5.19\n"
     ]
    }
   ],
   "source": [
    "shopping_list = [  (\"Bread\", 1.20),   (\"Milk\", 0.99),   (\"Eggs\", 2.50),   (\"Butter\", 3.75),   (\"Cheese\", 4.10),   (\"Apple\", 0.50) ]\n",
    "\n",
    "budget = int(input())\n",
    "total_cost = 0\n",
    "\n",
    "print('Покупки в рамках бюджета:')\n",
    "for item, price in shopping_list:\n",
    "    if total_cost + price <= budget:\n",
    "        print(f'{item}: ${price:.2f}')\n",
    "        total_cost += price\n",
    "print(f'Итоговая стоимость: ${total_cost:.2f}')"
   ]
  },
  {
   "cell_type": "code",
   "execution_count": null,
   "id": "7a6ee588-939e-4ded-ac59-38fe2da84d02",
   "metadata": {},
   "outputs": [],
   "source": []
  },
  {
   "cell_type": "markdown",
   "id": "9798a04e-955c-474d-bef3-9766bf11adb2",
   "metadata": {},
   "source": [
    "7. ***Оценки студентов***  \n",
    "Дан список студентов, где каждый элемент — это кортеж с именем студента и его оценками. Программа должна вывести их имена и средний балл в виде таблицы. Используйте форматирование для выравнивания колонок.  \n",
    "Данные:  \n",
    "`students = [  \n",
    "    (\"Alice\", [85, 90, 78]),  \n",
    "    (\"Bob\", [88, 76, 92]),  \n",
    "    (\"Charlie\", [90, 87, 85]),  \n",
    "    (\"Diana\", [72, 80, 65])  \n",
    "]`\n",
    "\n",
    "Пример вывода:  \n",
    "`Имя       Средний балл`  \n",
    "`Alice            84.33`  \n",
    "`Bob              85.33`  \n",
    "`Charlie          87.33`  \n",
    "`Diana            72.33`  \n"
   ]
  },
  {
   "cell_type": "code",
   "execution_count": 29,
   "id": "58517efe-8d7a-4a2c-b6a0-8faffa155454",
   "metadata": {},
   "outputs": [
    {
     "name": "stdout",
     "output_type": "stream",
     "text": [
      "Имя       Средний балл\n",
      "Alice            84.33\n",
      "Bob              85.33\n",
      "Charlie          87.33\n",
      "Diana            72.33\n"
     ]
    }
   ],
   "source": [
    "students = [    (\"Alice\", [85, 90, 78]),    (\"Bob\", [88, 76, 92]),    (\"Charlie\", [90, 87, 85]),    (\"Diana\", [72, 80, 65])   ]\n",
    "print('Имя       Средний балл')\n",
    "\n",
    "for name, grads in students:\n",
    "    print(f'{name:10}{sum(grads)/len(grads):12.2f}')"
   ]
  },
  {
   "cell_type": "code",
   "execution_count": null,
   "id": "b4e972d3-5102-41ec-8f01-d0759d9d572e",
   "metadata": {},
   "outputs": [],
   "source": []
  },
  {
   "cell_type": "markdown",
   "id": "edde12e6-d9e1-4eed-a43b-61010e2a48c7",
   "metadata": {},
   "source": [
    "8. ***Новая задача***  \n",
    "Дан список сотрудников, где каждый элемент — это кортеж с именем и списком задач.  \n",
    "Добавьте новую задачу \"Prepare presentation\" к сотруднику с именем \"Alice\" и отобразите её текущие задачи.  \n",
    "Данные:  \n",
    "`employees = [\n",
    "    (\"Alice\", [\"Review documents\", \"Call clients\"]),\n",
    "    (\"Bob\", [\"Check emails\"]),\n",
    "    (\"Charlie\", [\"Organize meeting\"])\n",
    "]`  \n",
    "\n",
    "Пример вывода:  \n",
    "Список задач Alice: ['Review documents', 'Call clients', 'Prepare presentation']\n"
   ]
  },
  {
   "cell_type": "code",
   "execution_count": 31,
   "id": "502bf5a0-525f-4559-b8b5-de3b9aaba17c",
   "metadata": {},
   "outputs": [
    {
     "name": "stdout",
     "output_type": "stream",
     "text": [
      "[('Alice', ['Review documents', 'Call clients', 'Prepare presentation'])]\n"
     ]
    }
   ],
   "source": [
    "employees = [  (\"Alice\", [\"Review documents\", \"Call clients\"]),  (\"Bob\", [\"Check emails\"]),  (\"Charlie\", [\"Organize meeting\"]) ]\n",
    "alise = []\n",
    "\n",
    "for name, tasks in employees:\n",
    "    if name == \"Alice\":\n",
    "        tasks.append(\"Prepare presentation\")\n",
    "        alise.append((name,tasks))\n",
    "print(alise)"
   ]
  },
  {
   "cell_type": "markdown",
   "id": "82dd6e5b-48c5-4e60-a5fa-58a8b343e592",
   "metadata": {},
   "source": [
    "9. ***Перестановка элементов***  \n",
    "Дан список проектов, где каждый элемент — это кортеж с названием проекта и списком сотрудников.  \n",
    "Поменяйте местами сотрудников \"Alice\" и \"Bob\" в проекте \"Project A\" и отобразите их список.  \n",
    "Данные:  \n",
    "`projects = [\n",
    "    (\"Project A\", [\"Alice\", \"Bob\", \"Charlie\"]),\n",
    "    (\"Project B\", [\"Diana\", \"Eve\"])\n",
    "]`  \n",
    "\n",
    "Пример вывода:  \n",
    "Список сотрудников Project A после изменения: `['Bob', 'Alice', 'Charlie']`\n"
   ]
  },
  {
   "cell_type": "code",
   "execution_count": 34,
   "id": "04d6d94c-90b1-4ba2-98aa-593cd84df7c6",
   "metadata": {},
   "outputs": [
    {
     "name": "stdout",
     "output_type": "stream",
     "text": [
      "['B', 'A', 'C']\n"
     ]
    }
   ],
   "source": [
    "lst = ['A','B','C']\n",
    "ind_A = lst.index('A')\n",
    "ind_B = lst.index('B')\n",
    "\n",
    "lst[ind_A], lst[ind_B] = lst[ind_B], lst[ind_A]\n",
    "\n",
    "print(lst)"
   ]
  },
  {
   "cell_type": "code",
   "execution_count": null,
   "id": "cab716b0-46bf-490d-a53b-10ae769e8d5d",
   "metadata": {},
   "outputs": [],
   "source": []
  },
  {
   "cell_type": "code",
   "execution_count": 36,
   "id": "286778d6-909a-4fbb-9090-523113caab40",
   "metadata": {},
   "outputs": [
    {
     "name": "stdout",
     "output_type": "stream",
     "text": [
      "Список сотрудников Project A после изменения: ['Bob', 'Alice', 'Charlie']\n"
     ]
    }
   ],
   "source": [
    "projects = [\n",
    "    (\"Project A\", [\"Alice\", \"Bob\", \"Charlie\"]),\n",
    "    (\"Project B\", [\"Diana\", \"Eve\"])\n",
    "]\n",
    "\n",
    "for name_pr, names in  projects:\n",
    "    if name_pr == \"Project A\":\n",
    "        ind_A = names.index('Alice')\n",
    "        ind_B = names.index('Bob')\n",
    "\n",
    "        names[ind_A], names[ind_B] = names[ind_B], names[ind_A]\n",
    "        print(f'Список сотрудников {name_pr} после изменения: {names}')\n",
    "        break\n",
    "\n",
    "        \n",
    "    \n",
    "\n"
   ]
  },
  {
   "cell_type": "markdown",
   "id": "20d017db-3f5a-4dee-87c4-de6815191431",
   "metadata": {},
   "source": [
    "10. ***Приходы и расходы***  \n",
    "В списке кортежей, где каждый кортеж символизирует запись о приходах и расходах, необходимо оставить только те записи, в которых общий баланс не уходит в минус (сумма элементов кортежа должна быть больше или равна нулю). Необходимо изменить исходный список, а не создать новый.  \n",
    "Данные:  \n",
    "`transactions = [(100, -50, -30), (-200, 100, 50), (300, -100, -50), (-50, -50), (200, -300, 150)]`  \n",
    "\n",
    "Пример вывода:  \n",
    "Обновлённый список: `[(100, -50, -30), (300, -100, -50), (200, -300, 150)]`\n"
   ]
  },
  {
   "cell_type": "code",
   "execution_count": null,
   "id": "78b8969b-12c9-404b-ac63-a773ac8325ae",
   "metadata": {},
   "outputs": [],
   "source": []
  },
  {
   "cell_type": "markdown",
   "id": "22603d79-3398-4533-8ac9-298c069e82fb",
   "metadata": {},
   "source": [
    "11. ***Последовательность цифр***  \n",
    "Напишите программу, которая проверяет, находятся ли цифры, введённые пользователем, в заданном списке строк в указанном порядке.  \n",
    "Данные:  \n",
    "`my_list = [\"3\", \"6\", \"3\", \"2\", \"9\", \"3\", \"9\", \"4\", \"3\", \"9\", \"0\"]`  \n",
    "\n",
    "Пример вывода:  \n",
    "Введите последовательность цифр для проверки: 943  \n",
    "Результат: True\n"
   ]
  },
  {
   "cell_type": "code",
   "execution_count": null,
   "id": "1fce2323-5f56-4238-9c3e-34c81432fc8d",
   "metadata": {},
   "outputs": [],
   "source": []
  },
  {
   "cell_type": "markdown",
   "id": "13fffea8-53fa-42ea-82cf-9a57812bcbe0",
   "metadata": {},
   "source": [
    "12. ***Зашифрованное послание***  \n",
    "Есть строка с зашифрованным посланием. Всё, что было приложено к этой строке - это небольшой набор слов: \"ave-dyh\"  \n",
    "Кажется нам было отправлено сообщение по шифру Цезаря. Его принцип - сдвиг каждой буквы вправо по алфавиту на одинаковое количество символов. Нужно расшифровать послание и вывести найденный сдвиг и послание на экран.  \n",
    "Данные:  \n",
    "`message = \"92 114 120 35 102 100 113 35 103 114 35 108 119 36 35 92 114 120 35 100 117 104 35 106 117 104 100 119 35 100 113 103 35 76 35 101 104 111 108 104 121 104 35 108 113 35 124 114 120 36\"`  \n",
    "\n",
    "Пример вывода:  \n",
    "Сдвиг: 3  \n",
    "Послание: You can do it! You are great and I believe in you!\n",
    "\n"
   ]
  },
  {
   "cell_type": "code",
   "execution_count": null,
   "id": "0986f402-74ac-49fe-a966-eba66de9711f",
   "metadata": {},
   "outputs": [],
   "source": []
  }
 ],
 "metadata": {
  "kernelspec": {
   "display_name": "Python 3 (ipykernel)",
   "language": "python",
   "name": "python3"
  },
  "language_info": {
   "codemirror_mode": {
    "name": "ipython",
    "version": 3
   },
   "file_extension": ".py",
   "mimetype": "text/x-python",
   "name": "python",
   "nbconvert_exporter": "python",
   "pygments_lexer": "ipython3",
   "version": "3.12.4"
  }
 },
 "nbformat": 4,
 "nbformat_minor": 5
}
