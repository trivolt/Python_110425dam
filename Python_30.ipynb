{
 "cells": [
  {
   "cell_type": "markdown",
   "id": "4dc80e7e-2cb4-4408-ba60-26ebb1b2ec19",
   "metadata": {},
   "source": [
    "# Итераторы, генераторы и генераторные выражения"
   ]
  },
  {
   "cell_type": "markdown",
   "id": "1da045c9-a436-4451-9ad1-d717060c03b9",
   "metadata": {},
   "source": [
    "## Итератор\n",
    "***Итерируемый объект*** — это объект, который может состоять из множества элементов и предоставляет их по одному, когда это необходимо.  \n",
    "***Итератор*** – это объект, который позволяет поочерёдно получать элементы коллекции без необходимости загружать их все в память сразу.    \n",
    "Итератор содержит:  \n",
    "* Ссылку на итерируемый объект – из которого он извлекает данные.\n",
    "* Текущую позицию – он запоминает, где остановился при последнем вызове.\n",
    "* Логику получения следующего элемента – сообщает как извлечь следующий элемент из итерируемого объекта.  \n",
    "\n",
    "Итератор **не изменяет** коллекцию, на которую ссылается, а просто управляет процессом последовательного извлечения данных.  \n",
    "Итераторы используются при работе с циклами for, ленивыми вычислениями, чтением файлов построчно и в других ситуациях, когда обработка данных должна выполняться эффективно и без лишнего расхода памяти.\n"
   ]
  },
  {
   "cell_type": "markdown",
   "id": "19fa9ef6-c63c-45ab-b0f6-47f9cc838d09",
   "metadata": {},
   "source": [
    "### Методы iter и next\n",
    "Для работы с итерацией используются два метода:\n",
    "Итерация в Python основана на магических методах (или dunder-методах - сокращение от double underscore) – это специальные методы, которые вызываются автоматически при использовании встроенных механизмов языка, например цикла for.\n",
    "Их названия начинаются и заканчиваются двойным подчёркиванием.\n",
    "\n",
    "Для работы с итерацией используются два магических метода:\n",
    "* `__iter__()` – создаёт объект итератора из итерируемого объекта.\n",
    "* `__next__()` – выдаёт следующий элемент итерируемого объекта.\n"
   ]
  },
  {
   "cell_type": "markdown",
   "id": "3846bd0a-0ac9-4b39-a296-d5ce65003c8b",
   "metadata": {},
   "source": [
    "##### Пример: Создание объекта итератор\n"
   ]
  },
  {
   "cell_type": "code",
   "execution_count": null,
   "id": "5b45d158-3532-4ce8-b726-58a5302360be",
   "metadata": {},
   "outputs": [],
   "source": []
  },
  {
   "cell_type": "code",
   "execution_count": 11,
   "id": "4dbce3b3-4997-46ac-862c-95a6210bb7b8",
   "metadata": {},
   "outputs": [
    {
     "name": "stdout",
     "output_type": "stream",
     "text": [
      "[]\n"
     ]
    }
   ],
   "source": [
    "# numbers = [10, 20, 30]  # Обычный список\n",
    "# iterator = numbers.__iter__()  # Получаем итератор\n",
    "\n",
    "# print(iterator)  # Итератор для списка\n",
    "# print(list(iterator))  # Преобразование в список\n",
    "\n",
    "print(list(iterator))  # Второй раз список будет пустой"
   ]
  },
  {
   "cell_type": "markdown",
   "id": "cf8d25b1-c05a-4f18-92e4-c165d003f7fb",
   "metadata": {},
   "source": [
    "##### Особенности:\n",
    "* `numbers.__iter__()` создаёт итератор, связанный со списком.\n",
    "* Второй раз список будет пустой, так как итератор \"потрачен\"\n"
   ]
  },
  {
   "cell_type": "markdown",
   "id": "c5b7a72f-1de5-4da3-8049-ba6743b63e3b",
   "metadata": {},
   "source": [
    "##### Пример: Последовательное получение элементов "
   ]
  },
  {
   "cell_type": "code",
   "execution_count": 12,
   "id": "840c82ba-8df2-4fd7-9055-e57898e85ee2",
   "metadata": {},
   "outputs": [
    {
     "name": "stdout",
     "output_type": "stream",
     "text": [
      "10\n",
      "20\n",
      "------------------------------\n",
      "30\n"
     ]
    }
   ],
   "source": [
    "numbers = [10, 20, 30]\n",
    "iterator = numbers.__iter__()  # Создаём итератор\n",
    "\n",
    "print(iterator.__next__())  # Получаем нулевой элемент\n",
    "print(iterator.__next__())  # Получаем первый элемент\n",
    "print(\"-\" * 30)  # Можно прерваться на другие действия\n",
    "print(iterator.__next__())  # Получаем второй элемент\n"
   ]
  },
  {
   "cell_type": "markdown",
   "id": "e679ddfc-a98b-4e95-9610-7bff3beee61d",
   "metadata": {},
   "source": [
    "##### Особенности:\n",
    "* `iterator.__next__()` возвращает следующий элемент.\n",
    "* При каждом вызове итератор запоминает текущую позицию.\n"
   ]
  },
  {
   "cell_type": "markdown",
   "id": "809fbb1a-a9a5-42ef-a3a6-19f8f1bfe245",
   "metadata": {},
   "source": [
    "### Аналоги магических методов\n",
    "Python предоставляет одноименные встроенные функции, которые вызывают магические методы \"под капотом\":\n",
    "* `iter(obj)` – вызывает `obj.__iter__()`, создавая итератор из итерируемого объекта.\n",
    "* `next(iterator)` – вызывает `iterator.__next__()`, возвращая следующий элемент.\n"
   ]
  },
  {
   "cell_type": "markdown",
   "id": "072ea9a3-4365-4a7c-8a67-d6d801c9dbc8",
   "metadata": {},
   "source": [
    "##### Пример использования встроенных функций: \n"
   ]
  },
  {
   "cell_type": "code",
   "execution_count": 13,
   "id": "6a82084a-746f-4d93-bc0e-9ced7e656873",
   "metadata": {},
   "outputs": [
    {
     "name": "stdout",
     "output_type": "stream",
     "text": [
      "1\n",
      "2\n",
      "3\n"
     ]
    }
   ],
   "source": [
    "numbers = [1, 2, 3]  # Итерируемый объект\n",
    "iterator = iter(numbers)  # Вызывает numbers.__iter__()\n",
    "\n",
    "print(next(iterator))  # Вызывает iterator.__next__()\n",
    "print(next(iterator))  # Вызывает iterator.__next__()\n",
    "print(next(iterator))  # Вызывает iterator.__next__()"
   ]
  },
  {
   "cell_type": "markdown",
   "id": "26268b13-771a-4cd5-9a88-621a3b35aab5",
   "metadata": {},
   "source": [
    "### Оценка потребления памяти\n",
    "Функция `sys.getsizeof()` позволяет измерять, сколько памяти занимает объект в байтах. Это полезно для сравнения объектов.\n"
   ]
  },
  {
   "cell_type": "markdown",
   "id": "55904be3-eee6-46b4-a388-fa41dbfbd282",
   "metadata": {},
   "source": [
    "##### Пример: сравнение списка и итератора\n"
   ]
  },
  {
   "cell_type": "code",
   "execution_count": 14,
   "id": "354b28f7-a1fe-494c-af8a-d44062e6b242",
   "metadata": {},
   "outputs": [
    {
     "name": "stdout",
     "output_type": "stream",
     "text": [
      "Размер списка: 8448728 байт\n",
      "Размер итератора: 48 байт\n"
     ]
    }
   ],
   "source": [
    "import sys\n",
    "\n",
    "# Список из 1 000 000 чисел\n",
    "numbers_list = [x for x in range(1_000_000)]\n",
    "print(\"Размер списка:\", sys.getsizeof(numbers_list), \"байт\")\n",
    "\n",
    "# Итератор, из списка\n",
    "numbers_iterator = numbers_list.__iter__()\n",
    "print(\"Размер итератора:\", sys.getsizeof(numbers_iterator), \"байт\")\n"
   ]
  },
  {
   "cell_type": "markdown",
   "id": "2c49ed65-25db-46fe-b58b-c6e2f1bb8e40",
   "metadata": {},
   "source": [
    "### Ошибка StopIteration\n",
    "Когда итератор исчерпал все доступные элементы, и метод `__next__()` не может вернуть следующий, возникает ошибка StopIteration.\n",
    "\n"
   ]
  },
  {
   "cell_type": "code",
   "execution_count": 15,
   "id": "07c15a8a-e6c2-485c-abf9-0ec099885f60",
   "metadata": {},
   "outputs": [
    {
     "name": "stdout",
     "output_type": "stream",
     "text": [
      "1\n",
      "2\n",
      "3\n"
     ]
    },
    {
     "ename": "StopIteration",
     "evalue": "",
     "output_type": "error",
     "traceback": [
      "\u001b[1;31m---------------------------------------------------------------------------\u001b[0m",
      "\u001b[1;31mStopIteration\u001b[0m                             Traceback (most recent call last)",
      "Cell \u001b[1;32mIn[15], line 7\u001b[0m\n\u001b[0;32m      5\u001b[0m \u001b[38;5;28mprint\u001b[39m(\u001b[38;5;28mnext\u001b[39m(iterator))\n\u001b[0;32m      6\u001b[0m \u001b[38;5;28mprint\u001b[39m(\u001b[38;5;28mnext\u001b[39m(iterator))  \u001b[38;5;66;03m# Последний элемент\u001b[39;00m\n\u001b[1;32m----> 7\u001b[0m \u001b[38;5;28mprint\u001b[39m(\u001b[38;5;28mnext\u001b[39m(iterator))\n",
      "\u001b[1;31mStopIteration\u001b[0m: "
     ]
    }
   ],
   "source": [
    "numbers = [1, 2, 3]\n",
    "iterator = iter(numbers)  # Создаём итератор\n",
    "\n",
    "print(next(iterator))\n",
    "print(next(iterator))\n",
    "print(next(iterator))  # Последний элемент\n",
    "print(next(iterator))  # Ошибка StopIteration\n"
   ]
  },
  {
   "cell_type": "markdown",
   "id": "ccdbbb8e-9759-4c1a-bac0-98f0258b397f",
   "metadata": {},
   "source": [
    "#### Как избежать StopIteration?\n",
    "Функция `next()` поддерживает второй аргумент, который возвращается вместо ошибки StopIteration, если элементы в итераторе закончились.\n"
   ]
  },
  {
   "cell_type": "code",
   "execution_count": 16,
   "id": "4c49c187-25b5-4a3a-a19d-dddb8b8088de",
   "metadata": {},
   "outputs": [
    {
     "name": "stdout",
     "output_type": "stream",
     "text": [
      "1\n",
      "2\n",
      "3\n",
      "None\n",
      "0\n"
     ]
    }
   ],
   "source": [
    "numbers = [1, 2, 3]\n",
    "iterator = iter(numbers)\n",
    "\n",
    "print(next(iterator))\n",
    "print(next(iterator))\n",
    "print(next(iterator))\n",
    "print(next(iterator, None))  # None вместо StopIteration\n",
    "print(next(iterator, 0))  # 0 вместо StopIteration\n"
   ]
  },
  {
   "cell_type": "markdown",
   "id": "1b3680ee-1459-4fa1-aac6-4a8eb2048f19",
   "metadata": {},
   "source": [
    "## Как работает цикл for\n",
    "Цикл for в Python используется для перебора итерируемых объектов (списки, строки, итераторы и т.д.).\n",
    "Внутри себя for автоматически использует итератор, вызывая методы `__iter__()` и `__next__()`.\n",
    "\n",
    "***Как for обрабатывает итерацию шаг за шагом***\n",
    "\n",
    "При выполнении цикла for element in iterable: Python выполняет следующие действия:\n",
    "1. Вызывает iter(iterable), чтобы получить итератор.\n",
    "2. Вызывает next(iterator), чтобы получить следующий элемент.\n",
    "3. Передаёт полученное значение в переменную цикла (element).\n",
    "4. Повторяет шаги 2–3, пока next() не вызовет StopIteration.\n",
    "5. Когда StopIteration возникает, цикл автоматически завершает работу без ошибки.\n"
   ]
  },
  {
   "cell_type": "markdown",
   "id": "f0cf5cf4-85d8-4b90-a9e2-66ee943d0353",
   "metadata": {},
   "source": [
    "##### Пример работы цикла for: \n"
   ]
  },
  {
   "cell_type": "code",
   "execution_count": 17,
   "id": "7d9ed011-793f-4635-9bdb-bc3129b8558a",
   "metadata": {},
   "outputs": [
    {
     "name": "stdout",
     "output_type": "stream",
     "text": [
      "10\n",
      "20\n",
      "30\n",
      "\n",
      "10\n",
      "20\n",
      "30\n"
     ]
    }
   ],
   "source": [
    "numbers = [10, 20, 30]  # Итерируемый объект\n",
    "\n",
    "# Цикл for по итерируемому объекту\n",
    "for num in numbers:\n",
    "    print(num)\n",
    "\n",
    "print()\n",
    "    \n",
    "iterator = iter(numbers)  # Итератор\n",
    "# Цикл for по итератору\n",
    "for num in iterator:\n",
    "    print(num)\n"
   ]
  },
  {
   "cell_type": "markdown",
   "id": "3b75feb7-b82d-4bdc-9160-0fbfb96c53f7",
   "metadata": {},
   "source": [
    "##### Как Python выполняет этот цикл внутри: \n"
   ]
  },
  {
   "cell_type": "code",
   "execution_count": null,
   "id": "fc4ab6ee-8327-4a84-a604-50397d1afa6a",
   "metadata": {},
   "outputs": [],
   "source": [
    "numbers = [10, 20, 30]  # Итерируемый объект\n",
    "iterator = iter(numbers)  # Создание итератора\n",
    "\n",
    "while True:\n",
    "    try:\n",
    "        num = next(iterator)  # Получаем следующий элемент\n",
    "        print(num)\n",
    "    except StopIteration:\n",
    "        break  # Завершаем цикл при окончании элементов\n"
   ]
  },
  {
   "cell_type": "markdown",
   "id": "78fc9ed3-c8ad-430b-a704-f1f113613bc7",
   "metadata": {},
   "source": [
    "#### Особенности итераторов\n",
    "1. Экономия памяти\n",
    "   * Итератор не хранит всю коллекцию в памяти, а запоминает ссылку на источник данных и текущую позицию. Это позволяет работать с большими данными без перегрузки памяти.\n",
    "2. Последовательный доступ\n",
    "   * Доступ к элементам происходит по порядку, перескочить к произвольному элементу нельзя.\n",
    "3. Неизменяемость\n",
    "   * Итератор не поддерживает изменение данных, он просто возвращает элементы.\n",
    "4. Однократное использование\n",
    "   * Итератор можно использовать только один раз – после полного прохода по элементам он становится \"пустым\", и для нового перебора нужно создать новый итератор.\n",
    "\n",
    "\n"
   ]
  },
  {
   "cell_type": "markdown",
   "id": "44a43e98-8c59-416a-aa87-0ea10ef60a2d",
   "metadata": {},
   "source": [
    "## Модуль itertools\n",
    "Модуль itertools предоставляет набор инструментов для работы с итераторами, позволяя создавать эффективные итерируемые последовательности, объединять, фильтровать и изменять потоки данных без лишнего расхода памяти.\n"
   ]
  },
  {
   "cell_type": "markdown",
   "id": "793f69de-a047-4854-9ab6-66a238694ce6",
   "metadata": {},
   "source": [
    "#### Примеры использования itertools\n"
   ]
  },
  {
   "cell_type": "markdown",
   "id": "0c4090bb-e40c-4eda-b286-97624eb852e8",
   "metadata": {},
   "source": [
    "##### 1. Бесконечная последовательность чисел (count()) "
   ]
  },
  {
   "cell_type": "code",
   "execution_count": null,
   "id": "31437483-511d-463e-a9c4-abdcb306cbcc",
   "metadata": {},
   "outputs": [],
   "source": [
    "import itertools\n",
    "\n",
    "counter = itertools.count(start=1, step=10)\n",
    "\n",
    "print(next(counter))\n",
    "print(next(counter))\n",
    "print(next(counter))\n",
    "print(next(counter))\n",
    "print(next(counter))"
   ]
  },
  {
   "cell_type": "markdown",
   "id": "6ca674fa-69df-43ed-adcc-26de7410354e",
   "metadata": {},
   "source": [
    "##### 2. Бесконечное повторение элементов (cycle()) "
   ]
  },
  {
   "cell_type": "code",
   "execution_count": null,
   "id": "0441101d-20a2-46f0-a2c7-192d9ffa70c3",
   "metadata": {},
   "outputs": [],
   "source": [
    "cycler = itertools.cycle([\"A\", \"B\", \"C\"])\n",
    "\n",
    "print(next(cycler)) \n",
    "print(next(cycler)) \n",
    "print(next(cycler))\n",
    "print(next(cycler))  # A (повторяется)\n",
    "print(next(cycler))  # B (повторяется)"
   ]
  },
  {
   "cell_type": "markdown",
   "id": "c7da6590-b071-4889-bb7d-cc02cdfb05d4",
   "metadata": {},
   "source": [
    "##### 3. Объединение итерируемых объектов (chain()) "
   ]
  },
  {
   "cell_type": "code",
   "execution_count": null,
   "id": "3c4beb38-aafb-4bf3-9a39-900ac08a1214",
   "metadata": {},
   "outputs": [],
   "source": [
    "merged = itertools.chain([1, 2, 3], [100, 200, 300])\n",
    "\n",
    "print(list(merged))"
   ]
  },
  {
   "cell_type": "markdown",
   "id": "77115cf3-9623-41e2-a659-326ccbded248",
   "metadata": {},
   "source": [
    "##### 4. Декартово произведение (product()) "
   ]
  },
  {
   "cell_type": "code",
   "execution_count": 21,
   "id": "1105dd7f-b314-4e6a-b6f0-4f8ff25c9ae7",
   "metadata": {},
   "outputs": [
    {
     "name": "stdout",
     "output_type": "stream",
     "text": [
      "<itertools.product object at 0x000001F419F91140>\n",
      "[(1, 'A'), (1, 'B'), (1, 'C'), (2, 'A'), (2, 'B'), (2, 'C'), (3, 'A'), (3, 'B'), (3, 'C')]\n"
     ]
    }
   ],
   "source": [
    "import itertools\n",
    "\n",
    "pairs = itertools.product([1, 2, 3], [\"A\", \"B\", \"C\"])\n",
    "print(pairs)\n",
    "print(list(pairs))"
   ]
  },
  {
   "cell_type": "code",
   "execution_count": 22,
   "id": "d44f8c49-f40e-4128-9ed3-1d08309eb0c4",
   "metadata": {},
   "outputs": [
    {
     "name": "stdout",
     "output_type": "stream",
     "text": [
      "(1, 'A')\n"
     ]
    }
   ],
   "source": [
    "import itertools\n",
    "\n",
    "pairs = itertools.product([1, 2, 3], [\"A\", \"B\", \"C\"])\n",
    "print(next(pairs))"
   ]
  },
  {
   "cell_type": "code",
   "execution_count": 23,
   "id": "d72234be-7165-4ccf-a0e3-7af15fac854e",
   "metadata": {},
   "outputs": [
    {
     "name": "stdout",
     "output_type": "stream",
     "text": [
      "(1, 'B')\n"
     ]
    }
   ],
   "source": [
    "print(next(pairs))"
   ]
  },
  {
   "cell_type": "markdown",
   "id": "64a15391-c97c-474b-b28d-a7c2fab196c9",
   "metadata": {},
   "source": [
    "##### 5. Перестановки элементов (permutations())"
   ]
  },
  {
   "cell_type": "markdown",
   "id": "27a20ca6-aaaf-4f3e-a708-a8f95805a4f1",
   "metadata": {},
   "source": [
    "Функция `itertools.permutations()` создаёт все возможные упорядоченные перестановки элементов.\n",
    "Можно указать длину перестановки (r), или использовать всю последовательность по умолчанию. "
   ]
  },
  {
   "cell_type": "code",
   "execution_count": 25,
   "id": "41aa1257-d38a-48b0-bdcf-7d79d067c184",
   "metadata": {},
   "outputs": [
    {
     "name": "stdout",
     "output_type": "stream",
     "text": [
      "[('A', 'B', 'C'), ('A', 'C', 'B'), ('B', 'A', 'C'), ('B', 'C', 'A'), ('C', 'A', 'B'), ('C', 'B', 'A')]\n",
      "[('A', 'B'), ('A', 'C'), ('B', 'A'), ('B', 'C'), ('C', 'A'), ('C', 'B')]\n"
     ]
    }
   ],
   "source": [
    "letters = [\"A\", \"B\", \"C\"]\n",
    "\n",
    "# Все возможные перестановки\n",
    "perms = itertools.permutations(letters)\n",
    "print(list(perms))\n",
    "\n",
    "# Все возможные перестановки длины 2\n",
    "perms = itertools.permutations(letters, 2)\n",
    "print(list(perms))\n"
   ]
  },
  {
   "cell_type": "markdown",
   "id": "1fbea317-64a7-4101-bf33-dec2e16de922",
   "metadata": {},
   "source": [
    "## Генератор\n",
    "***Генератор*** – это специальный вид итератора, который создаёт элементы по запросу, вместо того чтобы загружать всю последовательность в память.\n",
    "Все генераторы являются итераторами, но **не все итераторы являются генераторами**.  \n",
    "Генераторы создаются с помощью:\n",
    "* Генераторных функций – функций, использующих ключевое слово yield.\n",
    "* Генераторных выражений – компактного способа создания генераторов в круглых скобках ( ... ).\n",
    "  \n",
    "Основные особенности генераторов:\n",
    "* Ленивые вычисления – создают элементы только при запросе.\n",
    "* Не занимают много памяти – не хранят всю последовательность в памяти.\n",
    "* Сохраняют состояние – продолжают выполнение с того места, где остановились.\n",
    "  \n",
    "Используют yield вместо return – это делает их похожими на обычные функции, но с возможностью приостановки выполнения.\n",
    "Генераторы удобны для обработки больших файлов, создания бесконечных последовательностей и работы с потоками данных."
   ]
  },
  {
   "cell_type": "markdown",
   "id": "f97cb740-b470-4327-9750-0a98848114b1",
   "metadata": {},
   "source": [
    "### Функция с yield\n",
    "Функция с `yield` — это функция, которая возвращает объект генератора. yield – это ключевое слово, которое используется для приостановки выполнения функции и возврата значения без завершения её работы (в отличие от `return`).  \n",
    "При вызове `next()` у такого генератора выполнение функции приостанавливается на `yield`, сохраняя текущее состояние.  \n",
    "При следующем вызове выполнение продолжается с того же места, а не начинается заново, как в обычных функциях.\n"
   ]
  },
  {
   "cell_type": "markdown",
   "id": "c6793106-c97c-44f5-b6f9-9d6b2a6c4b19",
   "metadata": {},
   "source": [
    "#### Как работает yield?\n",
    "* При первом вызове next() выполнение функции начинается с самого начала и продолжается до первого yield. Значение после yield возвращается.\n",
    "* При следующем вызове next() выполнение продолжается с того места, где оно было остановлено (а не начинается заново).\n",
    "* Функция работает, пока не завершит выполнение, после чего генератор вызывает StopIteration.\n"
   ]
  },
  {
   "cell_type": "code",
   "execution_count": null,
   "id": "a5e843ca-78ee-4a63-97cd-28f3cec3352a",
   "metadata": {},
   "outputs": [],
   "source": [
    "def generator():\n",
    "    yield value"
   ]
  },
  {
   "cell_type": "markdown",
   "id": "a7ce8b4c-096c-4ec7-80a8-2c3a6523a594",
   "metadata": {},
   "source": [
    "* def generator(): – объявление функции, которая вернет генератор.\n",
    "* yield – ключевое слово, приостанавливающее выполнение функции и возвращающее значение.\n",
    "* value – результат, который будет передан при вызове next()."
   ]
  },
  {
   "cell_type": "code",
   "execution_count": 27,
   "id": "3200b0a4-72d9-48e3-81ce-838547a51568",
   "metadata": {},
   "outputs": [
    {
     "name": "stdout",
     "output_type": "stream",
     "text": [
      "1\n"
     ]
    }
   ],
   "source": [
    "def generate_values():\n",
    "    yield 1  # Приостанавливаем выполнение и возвращаем 1\n",
    "    yield 3  # Приостанавливаем выполнение и возвращаем 2\n",
    "    yield 5\n",
    "\n",
    "gen = generate_values() \n",
    "\n",
    "print(next(gen))"
   ]
  },
  {
   "cell_type": "code",
   "execution_count": 28,
   "id": "3db106d2-4748-4976-af19-a0cad4c5cdfb",
   "metadata": {},
   "outputs": [
    {
     "name": "stdout",
     "output_type": "stream",
     "text": [
      "3\n"
     ]
    }
   ],
   "source": [
    "print(next(gen))"
   ]
  },
  {
   "cell_type": "code",
   "execution_count": 29,
   "id": "ba35d639-fad9-4ae4-9a31-c6f7f0fb5701",
   "metadata": {},
   "outputs": [
    {
     "name": "stdout",
     "output_type": "stream",
     "text": [
      "5\n"
     ]
    }
   ],
   "source": [
    "print(next(gen))"
   ]
  },
  {
   "cell_type": "code",
   "execution_count": 30,
   "id": "2b68dbe4-83c2-4736-9a61-0b8d4a08debc",
   "metadata": {},
   "outputs": [
    {
     "ename": "StopIteration",
     "evalue": "",
     "output_type": "error",
     "traceback": [
      "\u001b[1;31m---------------------------------------------------------------------------\u001b[0m",
      "\u001b[1;31mStopIteration\u001b[0m                             Traceback (most recent call last)",
      "Cell \u001b[1;32mIn[30], line 1\u001b[0m\n\u001b[1;32m----> 1\u001b[0m \u001b[38;5;28mprint\u001b[39m(\u001b[38;5;28mnext\u001b[39m(gen))\n",
      "\u001b[1;31mStopIteration\u001b[0m: "
     ]
    }
   ],
   "source": [
    "print(next(gen))"
   ]
  },
  {
   "cell_type": "markdown",
   "id": "819c2489-042e-4fd2-8e08-f47c259f7361",
   "metadata": {},
   "source": [
    "##### Пример генератора с yield \n"
   ]
  },
  {
   "cell_type": "code",
   "execution_count": 26,
   "id": "7076899d-f331-44cb-baee-ce60cae4b8e1",
   "metadata": {},
   "outputs": [
    {
     "name": "stdout",
     "output_type": "stream",
     "text": [
      "Начало работы\n",
      "1\n",
      "Продолжение работы\n",
      "2\n",
      "Завершение работы\n"
     ]
    },
    {
     "ename": "StopIteration",
     "evalue": "",
     "output_type": "error",
     "traceback": [
      "\u001b[1;31m---------------------------------------------------------------------------\u001b[0m",
      "\u001b[1;31mStopIteration\u001b[0m                             Traceback (most recent call last)",
      "Cell \u001b[1;32mIn[26], line 12\u001b[0m\n\u001b[0;32m     10\u001b[0m \u001b[38;5;28mprint\u001b[39m(\u001b[38;5;28mnext\u001b[39m(gen))  \u001b[38;5;66;03m# Начало работы → 1\u001b[39;00m\n\u001b[0;32m     11\u001b[0m \u001b[38;5;28mprint\u001b[39m(\u001b[38;5;28mnext\u001b[39m(gen))  \u001b[38;5;66;03m# Продолжение работы → 2\u001b[39;00m\n\u001b[1;32m---> 12\u001b[0m \u001b[38;5;28mprint\u001b[39m(\u001b[38;5;28mnext\u001b[39m(gen))\n",
      "\u001b[1;31mStopIteration\u001b[0m: "
     ]
    }
   ],
   "source": [
    "def generate_values():\n",
    "    print(\"Начало работы\")\n",
    "    yield 1  # Приостанавливаем выполнение и возвращаем 1\n",
    "    print(\"Продолжение работы\")\n",
    "    yield 2  # Приостанавливаем выполнение и возвращаем 2\n",
    "    print(\"Завершение работы\")\n",
    "\n",
    "gen = generate_values()  # Создаём генератор, но код внутри функции пока не выполняется\n",
    "\n",
    "print(next(gen))  # Начало работы → 1\n",
    "print(next(gen))  # Продолжение работы → 2\n",
    "print(next(gen))  # Завершение работы → StopIteration, так как нет третьего yield"
   ]
  },
  {
   "cell_type": "markdown",
   "id": "05a413c3-0363-4b80-af6e-e3770264b2dd",
   "metadata": {},
   "source": [
    "#### Генераторные функции с параметрами\n",
    "Функция-генератор может принимать аргументы, которые передаются однократно при создании генератора и используются для генерации значений.\n"
   ]
  },
  {
   "cell_type": "code",
   "execution_count": null,
   "id": "95bef721-9bf7-4d15-b526-911cced53190",
   "metadata": {},
   "outputs": [],
   "source": [
    "def generator(param1, param2):\n",
    "    yield value"
   ]
  },
  {
   "cell_type": "markdown",
   "id": "b130f22e-5ee1-4ab5-86ca-a90f3fa1e7e8",
   "metadata": {},
   "source": [
    "* param1, param2 – аргументы, передаваемые при создании генератора."
   ]
  },
  {
   "cell_type": "markdown",
   "id": "bcee62e7-7e04-47f8-b9db-29d2526991c5",
   "metadata": {},
   "source": [
    "##### Пример: Генератор чисел \"n\" раз "
   ]
  },
  {
   "cell_type": "code",
   "execution_count": 32,
   "id": "dd0f6326-1b96-4f58-8067-6bb1838cf53f",
   "metadata": {},
   "outputs": [
    {
     "name": "stdout",
     "output_type": "stream",
     "text": [
      "1\n",
      "2\n",
      "3\n",
      "4\n",
      "5\n"
     ]
    },
    {
     "ename": "StopIteration",
     "evalue": "",
     "output_type": "error",
     "traceback": [
      "\u001b[1;31m---------------------------------------------------------------------------\u001b[0m",
      "\u001b[1;31mStopIteration\u001b[0m                             Traceback (most recent call last)",
      "Cell \u001b[1;32mIn[32], line 14\u001b[0m\n\u001b[0;32m     12\u001b[0m \u001b[38;5;28mprint\u001b[39m(\u001b[38;5;28mnext\u001b[39m(gen))\n\u001b[0;32m     13\u001b[0m \u001b[38;5;28mprint\u001b[39m(\u001b[38;5;28mnext\u001b[39m(gen))\n\u001b[1;32m---> 14\u001b[0m \u001b[38;5;28mprint\u001b[39m(\u001b[38;5;28mnext\u001b[39m(gen))\n",
      "\u001b[1;31mStopIteration\u001b[0m: "
     ]
    }
   ],
   "source": [
    "def count_up_to(n):\n",
    "    count = 1\n",
    "    while count <= n:\n",
    "        yield count  # Возвращаем текущее значение и \"замораживаем\" выполнение\n",
    "        count += 1   # После следующего вызова next() продолжится отсюда\n",
    "\n",
    "gen = count_up_to(5)\n",
    "\n",
    "print(next(gen))\n",
    "print(next(gen))\n",
    "print(next(gen))\n",
    "print(next(gen))\n",
    "print(next(gen))\n",
    "print(next(gen))  # StopIteration"
   ]
  },
  {
   "cell_type": "markdown",
   "id": "56aa1c0c-3195-47c1-a040-83c5daade411",
   "metadata": {},
   "source": [
    "#### Использование генератора в for\n",
    "Генератор можно перебирать в цикле for, как и любой итератор.\n",
    "В этом случае for автоматически вызывает next(), пока генератор не исчерпает все значения."
   ]
  },
  {
   "cell_type": "markdown",
   "id": "d508af2b-90ab-4ebb-b021-0f7dd3a8d10a",
   "metadata": {},
   "source": [
    "##### Пример: Генератор и for "
   ]
  },
  {
   "cell_type": "code",
   "execution_count": 33,
   "id": "78e1b5a2-43e6-4f6b-802d-5711fab5048c",
   "metadata": {},
   "outputs": [
    {
     "name": "stdout",
     "output_type": "stream",
     "text": [
      "1\n",
      "2\n",
      "3\n",
      "4\n",
      "5\n"
     ]
    }
   ],
   "source": [
    "def count_up_to(n):\n",
    "    count = 1\n",
    "    while count <= n:\n",
    "        yield count\n",
    "        count += 1\n",
    "\n",
    "gen = count_up_to(5)\n",
    "\n",
    "for number in gen:\n",
    "    print(number)"
   ]
  },
  {
   "cell_type": "code",
   "execution_count": null,
   "id": "31987065-439f-486a-8925-4987caba1cef",
   "metadata": {},
   "outputs": [],
   "source": [
    "#Какой результат выдаст следующий код? \n",
    "def countdown(n):\n",
    "    while n > 0:\n",
    "        yield n\n",
    "        n -= 1\n",
    "\n",
    "gen = countdown(3)\n",
    "\n",
    "print(next(gen))\n",
    "print(next(gen))\n",
    "print(next(gen))\n",
    "print(next(gen))\n"
   ]
  },
  {
   "cell_type": "markdown",
   "id": "8c3230e8-6e80-4018-bed4-dc7fff379bb4",
   "metadata": {},
   "source": [
    "## Генераторное выражение\n",
    "***Генераторное выражение*** – это способ создания последовательности значений без предварительного вычисления всех элементов. Вместо хранения данных в памяти оно вычисляет каждый следующий элемент только при необходимости.  \n",
    "Генераторное выражение возвращает объект генератора, который является итератором и поддерживает метод `__next__()`, позволяя получать элементы по одному.\n",
    "Оно похоже на списковое включение, но использует круглые скобки ( ... ) вместо квадратных [ ... ].\n"
   ]
  },
  {
   "cell_type": "markdown",
   "id": "77174da4-30fc-4235-a476-e62a82cc4631",
   "metadata": {},
   "source": [
    "Генераторное выражение и списковое включение"
   ]
  },
  {
   "attachments": {
    "905e4a17-c4c5-4b73-8fd0-95505b2caf42.png": {
     "image/png": "[encoded data removed]"
    }
   },
   "cell_type": "markdown",
   "id": "8737cac3-1a2e-476c-a755-3b63f6294c3e",
   "metadata": {},
   "source": [
    "![image.png](attachment:905e4a17-c4c5-4b73-8fd0-95505b2caf42.png)"
   ]
  },
  {
   "cell_type": "markdown",
   "id": "b304c8d2-9b13-46e4-9c62-8e857405b51e",
   "metadata": {},
   "source": [
    "`generator = (expression for item in iterable)`\n"
   ]
  },
  {
   "cell_type": "markdown",
   "id": "423b25de-532c-4d4e-a280-99bea795fdae",
   "metadata": {},
   "source": [
    "##### Пример 1: Создание генераторного выражения \n"
   ]
  },
  {
   "cell_type": "code",
   "execution_count": 1,
   "id": "1e30609a-8642-48d8-b654-f03c712583d1",
   "metadata": {},
   "outputs": [
    {
     "name": "stdout",
     "output_type": "stream",
     "text": [
      "<generator object <genexpr> at 0x0000023384877C60>\n"
     ]
    }
   ],
   "source": [
    "# Генерирует квадраты чисел от 0 до 4\n",
    "squares = (x ** 2 for x in range(5))\n",
    "\n",
    "print(squares)  # Объект генератора\n",
    "\n"
   ]
  },
  {
   "cell_type": "code",
   "execution_count": 2,
   "id": "94f9ea27-4423-4be0-9a26-2ac5e7d2fe31",
   "metadata": {},
   "outputs": [
    {
     "name": "stdout",
     "output_type": "stream",
     "text": [
      "0\n",
      "1\n",
      "4\n",
      "9\n",
      "16\n"
     ]
    }
   ],
   "source": [
    "print(next(squares))\n",
    "print(next(squares))\n",
    "print(next(squares))\n",
    "print(next(squares))\n",
    "print(next(squares))"
   ]
  },
  {
   "cell_type": "code",
   "execution_count": 3,
   "id": "c357f4e2-8e4e-42ae-a86b-af60a8013a2c",
   "metadata": {},
   "outputs": [
    {
     "ename": "StopIteration",
     "evalue": "",
     "output_type": "error",
     "traceback": [
      "\u001b[1;31m---------------------------------------------------------------------------\u001b[0m",
      "\u001b[1;31mStopIteration\u001b[0m                             Traceback (most recent call last)",
      "Cell \u001b[1;32mIn[3], line 1\u001b[0m\n\u001b[1;32m----> 1\u001b[0m \u001b[38;5;28mprint\u001b[39m(\u001b[38;5;28mnext\u001b[39m(squares))\n",
      "\u001b[1;31mStopIteration\u001b[0m: "
     ]
    }
   ],
   "source": [
    "print(next(squares))"
   ]
  },
  {
   "cell_type": "code",
   "execution_count": 5,
   "id": "25b4ae48-7706-4f76-b985-4366ae647ebc",
   "metadata": {},
   "outputs": [
    {
     "name": "stdout",
     "output_type": "stream",
     "text": [
      "0 1 4 9 16\n"
     ]
    }
   ],
   "source": [
    "squares_lst = [x ** 2 for x in range(5)]\n",
    "print(*squares_lst)"
   ]
  },
  {
   "cell_type": "markdown",
   "id": "14e89716-3738-4eca-8d4a-f4ec4ad22aa9",
   "metadata": {},
   "source": [
    "Особенности:\n",
    "* Возвращает генератор, а не сразу список значений.\n",
    "* `next()` вычисляет следующий элемент только при запросе.\n"
   ]
  },
  {
   "cell_type": "markdown",
   "id": "85ac79ec-b2ce-484f-8479-28e4a7817770",
   "metadata": {},
   "source": [
    "##### Пример 2: Генераторное выражение в for \n"
   ]
  },
  {
   "cell_type": "code",
   "execution_count": 6,
   "id": "5b5b1675-aa3f-4bc2-ba51-4e10b2338e0a",
   "metadata": {},
   "outputs": [
    {
     "name": "stdout",
     "output_type": "stream",
     "text": [
      "0\n",
      "1\n",
      "4\n",
      "9\n",
      "16\n"
     ]
    }
   ],
   "source": [
    "squares = (x ** 2 for x in range(5))\n",
    "\n",
    "for num in squares:\n",
    "    print(num)"
   ]
  },
  {
   "cell_type": "markdown",
   "id": "57b99852-9765-454a-a088-9d4283ee33cb",
   "metadata": {},
   "source": [
    "##### Особенности:\n",
    "* Генератор автоматически перебирается в for, без явного вызова next().\n",
    "* После прохода по всем элементам он исчерпывается и повторно использовать его нельзя."
   ]
  },
  {
   "cell_type": "markdown",
   "id": "44152fdb-53ad-478a-a404-01352ed56f15",
   "metadata": {},
   "source": [
    "##### Пример 3: Потребление памяти "
   ]
  },
  {
   "cell_type": "code",
   "execution_count": 7,
   "id": "161cad8e-48e1-4bcb-a9e1-26c13da0c5a6",
   "metadata": {},
   "outputs": [
    {
     "name": "stdout",
     "output_type": "stream",
     "text": [
      "Размер списка: 8448728 байт\n",
      "Размер генератора: 200 байт\n"
     ]
    }
   ],
   "source": [
    "import sys\n",
    "\n",
    "list_comp = [x**2 for x in range(10**6)]  # Списковое включение\n",
    "gen_expr = (x**2 for x in range(10**6))  # Генераторное выражение\n",
    "\n",
    "print(\"Размер списка:\", sys.getsizeof(list_comp), \"байт\")\n",
    "print(\"Размер генератора:\", sys.getsizeof(gen_expr), \"байт\")\n"
   ]
  },
  {
   "cell_type": "markdown",
   "id": "c8c858d4-c969-4a9e-9ff0-c74161bbe43f",
   "metadata": {},
   "source": [
    "##### Особенности:\n",
    "* Список занимает много памяти, так как хранит все элементы сразу.\n",
    "* Генератор почти не занимает памяти, так как создаёт элементы по мере запроса.\n"
   ]
  },
  {
   "cell_type": "markdown",
   "id": "ef7a5b38-82a7-46cd-8f8a-eacaf4b0a2ee",
   "metadata": {},
   "source": [
    "#### Использование генераторных выражений\n",
    "Генераторные выражения можно передавать в аргументы функций, где ожидается итерируемый объект.\n",
    "\n",
    "|Это особенно полезно при обработке больших последовательностей.\n"
   ]
  },
  {
   "cell_type": "markdown",
   "id": "5fa91dc1-a90b-4e20-96dc-accb90dfca9b",
   "metadata": {},
   "source": [
    "##### Пример: Генераторное выражение в any() и all() "
   ]
  },
  {
   "cell_type": "code",
   "execution_count": 8,
   "id": "1b5d8ebd-e95b-4b7b-a954-2ecc96ce2ad4",
   "metadata": {},
   "outputs": [
    {
     "name": "stdout",
     "output_type": "stream",
     "text": [
      "True\n",
      "True\n"
     ]
    }
   ],
   "source": [
    "words = [\"apple\", \"Banana\", \"cherry\", \"Apricot\"]\n",
    "\n",
    "print(any(word[0].isupper() for word in words))  # Есть слово с заглавной буквы\n",
    "print(all(len(word) > 3 for word in words))  # Все слова длиннее 3 букв"
   ]
  },
  {
   "cell_type": "code",
   "execution_count": null,
   "id": "6308c602-f50a-4089-a57c-74eccda71e7b",
   "metadata": {},
   "outputs": [],
   "source": []
  },
  {
   "cell_type": "code",
   "execution_count": 9,
   "id": "9b6ca61a-49b7-4877-b947-121b6d402a8c",
   "metadata": {},
   "outputs": [
    {
     "name": "stdout",
     "output_type": "stream",
     "text": [
      "465\n"
     ]
    }
   ],
   "source": [
    "numbers = [12, 15, 33, 40, 55, 62, 75, 83, 90]\n",
    "\n",
    "print(sum(n for n in numbers))"
   ]
  },
  {
   "cell_type": "code",
   "execution_count": 10,
   "id": "be4523df-f060-41cd-b403-6b9c23d1b801",
   "metadata": {},
   "outputs": [
    {
     "name": "stdout",
     "output_type": "stream",
     "text": [
      "465\n"
     ]
    }
   ],
   "source": [
    "numbers = [12, 15, 33, 40, 55, 62, 75, 83, 90]\n",
    "\n",
    "print(sum([n for n in numbers]))"
   ]
  },
  {
   "cell_type": "markdown",
   "id": "21571476-6fbf-4bbd-95a6-591f22962a96",
   "metadata": {},
   "source": [
    "# Практические задания\n",
    "1. ***Фильтр чисел***\n",
    "Создайте генератор, который принимает список чисел и выдаёт только числа, кратные 5.  \n",
    "Данные:   \n",
    "`numbers = [12, 15, 33, 40, 55, 62, 75, 83, 90]`\n",
    "\n",
    "Пример вывода:   \n",
    "15  \n",
    "40  \n",
    "55  \n",
    "75  \n",
    "90\n"
   ]
  },
  {
   "cell_type": "code",
   "execution_count": 11,
   "id": "f8f60350-e2b9-47ec-abfc-a6f694a79ca0",
   "metadata": {},
   "outputs": [
    {
     "name": "stdout",
     "output_type": "stream",
     "text": [
      "15\n",
      "40\n",
      "55\n",
      "75\n",
      "90\n"
     ]
    }
   ],
   "source": [
    "def filter_by_five(numbers):\n",
    "    for num in numbers:\n",
    "        if num % 5 == 0:\n",
    "            yield num\n",
    "\n",
    "numbers = [12, 15, 33, 40, 55, 62, 75, 83, 90]\n",
    "gen = filter_by_five(numbers)\n",
    "\n",
    "for num in gen:\n",
    "    print(num)"
   ]
  },
  {
   "cell_type": "markdown",
   "id": "0b680705-c30b-48ff-bf37-13068a7da62c",
   "metadata": {},
   "source": [
    "2. ***Генерация безопасных паролей***  \n",
    "Программа должна сгенерировать все возможные пароли длиной 4 символа, соблюдая следующие условия:  \n",
    "* Пароль должен содержать хотя бы одну заглавную букву, одну строчную букву и одну цифру.\n",
    "* Символы не должны повторяться.\n",
    "  \n",
    "Соседние символы не могут быть расположены подряд в таблице символов.  \n",
    "Все подходящие пароли записываются в файл valid_passwords.txt.  \n",
    "*Данные:*   \n",
    "`from string import ascii_lowercase, ascii_uppercase, digits`\n",
    "\n",
    "Пример данных в файле:   \n",
    "acA0  \n",
    "acA1  \n",
    "acA2  \n",
    "acA3  \n",
    "acA4  \n",
    "acA5  \n",
    "acA6  \n",
    "acA7  \n",
    "acA8  \n",
    "...  \n"
   ]
  },
  {
   "cell_type": "code",
   "execution_count": 1,
   "id": "f0c6c124-5331-4a33-a3ad-0f2ccc4ffefe",
   "metadata": {},
   "outputs": [],
   "source": [
    "from itertools import permutations\n",
    "from string import ascii_lowercase, ascii_uppercase, digits\n",
    "\n",
    "all_chars = list(ascii_lowercase + ascii_uppercase + digits)\n",
    "\n",
    "\n",
    "# Фильтр для проверки условий пароля\n",
    "def is_valid(password):\n",
    "    has_lower = any(c in ascii_lowercase for c in password)\n",
    "    has_upper = any(c in ascii_uppercase for c in password)\n",
    "    has_digit = any(c in digits for c in password)\n",
    "\n",
    "    if not (has_lower and has_upper and has_digit):\n",
    "        return False\n",
    "\n",
    "    for i in range(len(password) - 1):\n",
    "        if abs(ord(password[i]) - ord(password[i + 1])) == 1:\n",
    "            return False\n",
    "\n",
    "    return True\n",
    "\n",
    "\n",
    "# Генерация всех перестановок\n",
    "all_variants = permutations(all_chars, 4)\n",
    "\n",
    "\n",
    "valid_passwords = (\"\".join(p) for p in all_variants if is_valid(p))\n",
    "\n",
    "with open(\"valid_passwords.txt\", \"w\") as file:\n",
    "    file.write(\"\\n\".join(valid_passwords))"
   ]
  },
  {
   "cell_type": "code",
   "execution_count": null,
   "id": "f39d6f53-8f99-49bb-8b9e-7505f5d1188f",
   "metadata": {},
   "outputs": [],
   "source": []
  }
 ],
 "metadata": {
  "kernelspec": {
   "display_name": "Python 3 (ipykernel)",
   "language": "python",
   "name": "python3"
  },
  "language_info": {
   "codemirror_mode": {
    "name": "ipython",
    "version": 3
   },
   "file_extension": ".py",
   "mimetype": "text/x-python",
   "name": "python",
   "nbconvert_exporter": "python",
   "pygments_lexer": "ipython3",
   "version": "3.12.4"
  }
 },
 "nbformat": 4,
 "nbformat_minor": 5
}
