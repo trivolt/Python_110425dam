{
 "cells": [
  {
   "cell_type": "markdown",
   "id": "62e0e26e-8991-43f7-967d-1c0493afdb5d",
   "metadata": {},
   "source": [
    "# Практикум 8"
   ]
  },
  {
   "cell_type": "markdown",
   "id": "5658d264-bcd2-4539-9c94-269b59d5be76",
   "metadata": {},
   "source": [
    "* Лекция 16 - List comprehension. Стек и очередь\n",
    "* Лекция 17 - Множества\n"
   ]
  },
  {
   "cell_type": "markdown",
   "id": "bc90c654-e287-4917-8752-85d277cd0cdf",
   "metadata": {},
   "source": [
    "1. #### Список квадратов\n",
    "Создайте список, содержащий квадраты всех чётных чисел из диапазона от 1 до заданного пользователем числа включительно и отобразите его.  \n",
    "##### Пример вывода:  \n",
    "Введите конец диапазона: 20  \n",
    "`[4, 16, 36, 64, 100, 144, 196, 256, 324, 400]`\n"
   ]
  },
  {
   "cell_type": "code",
   "execution_count": 3,
   "id": "2387df61-54d6-477c-93fe-3b6f3eaf059b",
   "metadata": {},
   "outputs": [
    {
     "name": "stdin",
     "output_type": "stream",
     "text": [
      " 20\n"
     ]
    },
    {
     "name": "stdout",
     "output_type": "stream",
     "text": [
      "[4, 16, 36, 64, 100, 144, 196, 256, 324, 400]\n"
     ]
    }
   ],
   "source": [
    "print([n**2 for n in range(1, int(input())+1) if n%2 == 0])"
   ]
  },
  {
   "cell_type": "markdown",
   "id": "0d44624f-d232-4217-a5c2-dfede65f82c4",
   "metadata": {},
   "source": [
    "2. #### Оценки текстом\n",
    "Напишите программу, которая преобразует список оценок по системе от 1 до 5 в текстовое представление. Нужно сохранить в списках числовой результат и текстовое представление. Где, 5 — \"отлично\", 3-4 — \"хорошо\", а 2 и ниже — \"неудовлетворительно\".  \n",
    "Данные:  \n",
    "`grades = [5, 3, 4, 2, 1, 5, 3]`  \n",
    "\n",
    "##### Пример вывода:  \n",
    "`[[5, 'отлично'], [3, 'хорошо'], [4, 'хорошо'], [2, 'неудовлетворительно'], [1, 'неудовлетворительно'], [5, 'отлично'], [3, 'хорошо']]`\n"
   ]
  },
  {
   "cell_type": "code",
   "execution_count": 4,
   "id": "a54b8fca-95ae-4783-8c2f-1c91e5958f5e",
   "metadata": {},
   "outputs": [
    {
     "name": "stdout",
     "output_type": "stream",
     "text": [
      "[[5, 'отлично'], [3, 'хорошо'], [4, 'хорошо'], [2, 'неудовлетворительно'], [1, 'неудовлетворительно'], [5, 'отлично'], [3, 'хорошо']]\n"
     ]
    }
   ],
   "source": [
    "grades = [5, 3, 4, 2, 1, 5, 3]\n",
    "result = [[grade,'отлично' if grade == 5 else 'хорошо' if grade in [3,4] else 'неудовлетворительно']  for grade in grades]\n",
    "print(result)"
   ]
  },
  {
   "cell_type": "code",
   "execution_count": 6,
   "id": "59577a61-a97b-484b-a01b-42ba3f59800d",
   "metadata": {},
   "outputs": [
    {
     "name": "stdout",
     "output_type": "stream",
     "text": [
      "[[5, 'отлично'], [3, 'хорошо'], [4, 'хорошо'], [2, 'неудовл'], [1, 'неудовл'], [5, 'отлично'], [3, 'хорошо']]\n"
     ]
    }
   ],
   "source": [
    "grades = [5, 3, 4, 2, 1, 5, 3]\n",
    "result = []\n",
    "for grade in grades:\n",
    "    if grade == 5:\n",
    "        result.append([grade, 'отлично'])\n",
    "    elif grade >= 3:\n",
    "        result.append([grade, 'хорошо'])\n",
    "    else:\n",
    "        result.append([grade, 'неудовл'])        \n",
    "print(result)"
   ]
  },
  {
   "cell_type": "markdown",
   "id": "11002646-5e24-4bd8-9720-9ea316143795",
   "metadata": {},
   "source": [
    "3. #### База данных обитателей джунглей  \n",
    "В джунглях живут разные животные. Вам дали два списка:  \n",
    "Названия животных: `[\"тигр\", \"слон\", \"обезьяна\", \"змея\"]`.   \n",
    "Их средний вес в килограммах: `[250, 4000, 15, 5]`.    \n",
    "Необходимо:  \n",
    "Создать список с информацией о каждом животном в формате: <Животное> весит <вес> кг  \n",
    "Найти самое лёгкое животное.  \n",
    "Вывести итоговый список и самое лёгкое животное.  \n",
    "##### Пример вывода:  \n",
    "`['Тигр весит 250 кг', 'Слон весит 4000 кг', 'Обезьяна весит 15 кг', 'Змея весит 5 кг']`  \n",
    "Самое лёгкое животное: змея\n"
   ]
  },
  {
   "cell_type": "code",
   "execution_count": 11,
   "id": "735d7b83-7081-47b0-bffc-d22da44b0763",
   "metadata": {},
   "outputs": [
    {
     "name": "stdout",
     "output_type": "stream",
     "text": [
      "['тигр весит 250 кг', 'слон весит 4000 кг', 'обезьяна весит 15 кг', 'змея весит 5 кг']\n",
      "Самое лёгкое животное: змея\n"
     ]
    }
   ],
   "source": [
    "animals = [\"тигр\", \"слон\", \"обезьяна\", \"змея\"]\n",
    "weights = [250, 4000, 15, 5]\n",
    "\n",
    "results = [f'{animal} весит {weight} кг'  for animal, weight in zip(animals,weights)]\n",
    "print(results)\n",
    "print(f'Самое лёгкое животное: {animals[weights.index(min(weights))]}')"
   ]
  },
  {
   "cell_type": "markdown",
   "id": "f46ce522-e1bf-435c-a912-ef28e7cc6513",
   "metadata": {},
   "source": [
    "4. #### Координатная сетка  \n",
    "Создайте список всех возможных координат на квадратной сетке размером n x n, где каждая координата записана в виде кортежа (x, y). Значение 'n' вводит пользователь.\n",
    "##### Пример вывода:  \n",
    "Введите размер координатной сетки: 3  \n",
    "Координаты: `[(0, 0), (0, 1), (0, 2), (1, 0), (1, 1), (1, 2), (2, 0), (2, 1), (2, 2)]`  \n"
   ]
  },
  {
   "cell_type": "code",
   "execution_count": 13,
   "id": "d4351e99-f28e-4d07-aa74-d867500b9e17",
   "metadata": {},
   "outputs": [
    {
     "name": "stdin",
     "output_type": "stream",
     "text": [
      " 3\n"
     ]
    },
    {
     "name": "stdout",
     "output_type": "stream",
     "text": [
      "[(0, 0), (0, 1), (0, 2), (0, 3), (1, 0), (1, 1), (1, 2), (1, 3), (2, 0), (2, 1), (2, 2), (2, 3), (3, 0), (3, 1), (3, 2), (3, 3)]\n"
     ]
    }
   ],
   "source": [
    "n = int(input())\n",
    "results = []\n",
    "for x in range(0,n+1):\n",
    "    for y in range(0,n+1):\n",
    "        results.append((x,y))\n",
    "print(results)"
   ]
  },
  {
   "cell_type": "code",
   "execution_count": 16,
   "id": "0c48bcc0-18e6-491a-b09e-4894db5fee49",
   "metadata": {},
   "outputs": [
    {
     "name": "stdin",
     "output_type": "stream",
     "text": [
      " 3\n"
     ]
    },
    {
     "name": "stdout",
     "output_type": "stream",
     "text": [
      "[(0, 0), (0, 1), (0, 2), (1, 0), (1, 1), (1, 2), (2, 0), (2, 1), (2, 2)]\n"
     ]
    }
   ],
   "source": [
    "n = int(input())\n",
    "results = [(x,y) for x in range(n) for y in range(n)]\n",
    "print(results)"
   ]
  },
  {
   "cell_type": "markdown",
   "id": "f3f4d83f-602e-435a-961a-f285aecf0769",
   "metadata": {},
   "source": [
    "5. #### Сравнение матриц  \n",
    "Напишите программу, которая обрабатывает две квадратные матрицы одинакового размера и проверяет, совпадают ли их диагональные элементы.  \n",
    "Данные:  \n",
    "`matrix1 = [\n",
    "    [1, 2, 3],\n",
    "    [4, 5, 6],\n",
    "    [7, 8, 9]\n",
    "]`  \n",
    "`matrix2 = [\n",
    "    [1, 0, 3],\n",
    "    [0, 5, 0],\n",
    "    [7, 0, 9]\n",
    "]`  \n",
    "\n",
    "##### Пример вывода:  \n",
    "Совпадают ли главные диагонали: True  \n",
    "Совпадают ли побочные диагонали: True\n"
   ]
  },
  {
   "cell_type": "code",
   "execution_count": 17,
   "id": "b4caf338-87d6-4cc0-b376-aa390c5e451f",
   "metadata": {},
   "outputs": [],
   "source": [
    "matrix1 = [\n",
    "    [1, 2, 3],\n",
    "    [4, 5, 6],\n",
    "    [7, 8, 9]\n",
    "]\n",
    "matrix2 = [\n",
    "    [1, 0, 3],\n",
    "    [0, 5, 0],\n",
    "    [7, 0, 9]\n",
    "]\n"
   ]
  },
  {
   "cell_type": "code",
   "execution_count": 23,
   "id": "cd222321-07e8-46bf-b4bb-c18ad812cc53",
   "metadata": {},
   "outputs": [
    {
     "name": "stdout",
     "output_type": "stream",
     "text": [
      "Совпадают ли главные диагонали: True\n",
      "Совпадают ли побочные диагонали: True\n"
     ]
    }
   ],
   "source": [
    "rows_l = len(matrix1)\n",
    "col_l = rows_l\n",
    "flag1 = True\n",
    "flag2 = True\n",
    "for row in range(rows_l):\n",
    "    for col in range(col_l):\n",
    "        if row == col:\n",
    "            if matrix1[row][col] != matrix2[row][col]:\n",
    "                flag1 = False\n",
    "                break\n",
    "        if row + col == rows_l-1:\n",
    "            if matrix1[row][col] != matrix2[row][col]:\n",
    "                flag2 = False\n",
    "                break            \n",
    "print(f'Совпадают ли главные диагонали: {flag1}')\n",
    "print(f'Совпадают ли побочные диагонали: {flag2}')\n",
    "        "
   ]
  },
  {
   "cell_type": "code",
   "execution_count": null,
   "id": "b49b2dbd-b4e7-41d6-8f8b-f6603ce26a2d",
   "metadata": {},
   "outputs": [],
   "source": []
  },
  {
   "cell_type": "markdown",
   "id": "430e0ee6-02af-4748-9cf9-186cc77c441e",
   "metadata": {},
   "source": [
    "6. #### Подсчёт уникальных слов  \n",
    "Напишите программу, которая принимает строку текста, разделённого пробелами, и определяет количество уникальных слов.  \n",
    "Слова могут быть в разном регистре, но считаются одинаковыми, если их содержимое совпадает (например, \"Apple\" и \"apple\").  \n",
    "Данные:  \n",
    "`text = \"Apple orange apple banana Orange\"`  \n",
    "\n",
    "##### Пример вывода:  \n",
    "Количество уникальных: 3\n"
   ]
  },
  {
   "cell_type": "code",
   "execution_count": 28,
   "id": "265c3133-5aec-4c23-8c98-4a175c805a62",
   "metadata": {},
   "outputs": [
    {
     "name": "stdout",
     "output_type": "stream",
     "text": [
      "Количество уникальных: 3\n"
     ]
    }
   ],
   "source": [
    "text = \"Apple orange apple banana Orange\"\n",
    "print(f'Количество уникальных: {len(set([word.lower() for word in text.split()]))}')"
   ]
  },
  {
   "cell_type": "markdown",
   "id": "f51b1fd2-2694-4828-bb05-5d187ab0bc2c",
   "metadata": {},
   "source": [
    "7. #### Одинаковые значения  \n",
    "Напишите программу, которая принимает два списка чисел с возможными дубликатами и проверяет, состоят ли оба списка из одинаковых цифр (независимо от порядка).  \n",
    "Данные:  \n",
    "`list1 = [1, 2, 3, 4, 4]`  \n",
    "`list2 = [4, 3, 2, 1, 1]`  \n",
    "\n",
    "##### Пример вывода:  \n",
    "True\n"
   ]
  },
  {
   "cell_type": "code",
   "execution_count": 35,
   "id": "f7e5ea24-6f16-4b43-bbc2-4218fe3be885",
   "metadata": {},
   "outputs": [
    {
     "name": "stdout",
     "output_type": "stream",
     "text": [
      "True\n"
     ]
    }
   ],
   "source": [
    "list1 = [1, 2, 3, 4, 4]\n",
    "list2 = [4, 3, 2, 1, 1]\n",
    "\n",
    "set1 = set(list1)\n",
    "set2 = set(list2)\n",
    "\n",
    "print(set1 == set2)"
   ]
  },
  {
   "cell_type": "markdown",
   "id": "bbcae6e0-a4ee-4dee-8f70-0a89ffe17ddd",
   "metadata": {},
   "source": [
    "8. #### Охота за сокровищами  \n",
    "В древнем храме вы нашли два сундука с сокровищами. Первый сундук содержит: [золото, серебро, рубины, алмазы]. Второй сундук содержит: [серебро, рубины, изумруды, сапфиры]. Вам нужно:  \n",
    "Узнать, что есть только в первом сундуке.  \n",
    "Узнать, что общее для обоих сундуков.  \n",
    "Узнать все уникальные драгоценности.  \n",
    "Данные:  \n",
    "`chest1 = {\"золото\", \"серебро\", \"рубины\", \"алмазы\"}`  \n",
    "`chest2 = {\"серебро\", \"рубины\", \"изумруды\", \"сапфиры\"}`  \n",
    "\n",
    "##### Пример вывода:  \n",
    "Только в первом сундуке: `{'золото', 'алмазы'}`  \n",
    "Общее в обоих сундуках: `{'серебро', 'рубины'}`  \n",
    "Все уникальные драгоценности: `{'золото', 'серебро', 'рубины', 'алмазы', 'изумруды', 'сапфиры'}`\n"
   ]
  },
  {
   "cell_type": "code",
   "execution_count": 39,
   "id": "5df0ee57-4209-4c40-98bd-84b195b3af8d",
   "metadata": {},
   "outputs": [
    {
     "name": "stdout",
     "output_type": "stream",
     "text": [
      "Только в первом сундуке: {'золото', 'алмазы'}\n",
      "Общее в обоих сундуках: {'рубины', 'серебро'}\n",
      "Все уникальные драгоценности: {'рубины', 'сапфиры', 'золото', 'алмазы', 'серебро', 'изумруды'}\n"
     ]
    }
   ],
   "source": [
    "chest1 = {\"золото\", \"серебро\", \"рубины\", \"алмазы\"}\n",
    "chest2 = {\"серебро\", \"рубины\", \"изумруды\", \"сапфиры\"}\n",
    "\n",
    "print(f'Только в первом сундуке: {chest1 - chest2}')\n",
    "print(f'Общее в обоих сундуках: {chest1 & chest2}' )\n",
    "print(f'Все уникальные драгоценности: {chest1 | chest2}' )"
   ]
  },
  {
   "cell_type": "markdown",
   "id": "637060c8-838e-448c-bb26-4f9360e4a57e",
   "metadata": {},
   "source": [
    "9. #### Уникальные в множестве  \n",
    "Напишите программу, которая принимает два множества и создаёт список с элементами, которые есть только в одном из множеств. Решить без использования метода `symmetric_difference` и оператора `^`.  \n",
    "Данные:  \n",
    "`set1 = {1, 2, 3}`  \n",
    "`set2 = {3, 4, 5}`  \n",
    "\n",
    "Пример вывода:  \n",
    "`[1, 2, 4, 5]`\n"
   ]
  },
  {
   "cell_type": "code",
   "execution_count": 42,
   "id": "86272842-33a9-4092-9b5a-7a9f89c7a2ce",
   "metadata": {},
   "outputs": [
    {
     "name": "stdout",
     "output_type": "stream",
     "text": [
      "{1, 2, 4, 5}\n",
      "{1, 2, 4, 5}\n",
      "[1, 2, 4, 5]\n"
     ]
    }
   ],
   "source": [
    "set1 = {1, 2, 3} \n",
    "set2 = {3, 4, 5}\n",
    "\n",
    "print(set1 ^ set2)\n",
    "print((set1 - set2) | (set2 - set1))\n",
    "print(list((set1 | set2) - (set1 & set2)))"
   ]
  },
  {
   "cell_type": "code",
   "execution_count": 43,
   "id": "fcbb4c3b-4cf0-4a3e-a731-8977153e92bd",
   "metadata": {},
   "outputs": [
    {
     "name": "stdout",
     "output_type": "stream",
     "text": [
      "[1, 2, 4, 5]\n"
     ]
    }
   ],
   "source": [
    "# Альтернатива\n",
    "\n",
    "set1 = {1, 2, 3} \n",
    "set2 = {3, 4, 5}\n",
    "\n",
    "uniq = []\n",
    "\n",
    "for elem in set1:\n",
    "    if elem not in set2:\n",
    "        uniq.append(elem)\n",
    "\n",
    "for elem in set2:\n",
    "    if elem not in set1:\n",
    "        uniq.append(elem)\n",
    "\n",
    "print(uniq)"
   ]
  },
  {
   "cell_type": "markdown",
   "id": "1158b9e6-3051-4dd8-9bd5-23f17a179df5",
   "metadata": {},
   "source": [
    "10. #### Уникальные по порядку  \n",
    "Напишите программу, которая принимает список чисел и возвращает список только уникальных чисел в порядке их появления.  \n",
    "Данные:  \n",
    "`numbers = [4, 1, 7, 6, 2, 6, 8, 1, 5, 4]`  \n",
    "\n",
    "Пример вывода:  \n",
    "Уникальные: `[4, 1, 7, 6, 2, 8, 5]`\n"
   ]
  },
  {
   "cell_type": "code",
   "execution_count": 44,
   "id": "39c46d03-af78-4704-a7d6-a0944abcf353",
   "metadata": {},
   "outputs": [
    {
     "name": "stdout",
     "output_type": "stream",
     "text": [
      "[4, 1, 7, 6, 2, 8, 5]\n"
     ]
    }
   ],
   "source": [
    "numbers = [4, 1, 7, 6, 2, 6, 8, 1, 5, 4]\n",
    "\n",
    "uniq = []\n",
    "\n",
    "for num in numbers:\n",
    "    if num not in uniq:\n",
    "        uniq.append(num)\n",
    "        \n",
    "print(uniq)"
   ]
  },
  {
   "cell_type": "markdown",
   "id": "d69ed4c6-0cd5-4621-9b50-f75d2a1e6525",
   "metadata": {},
   "source": [
    "11. #### Очередь заказов  \n",
    "Реализуйте очередь для обработки заказов, пока пользователь не введет \"exit\". Далее отобразите самый ранний заказ, а также оставшиеся заказы и их количество.  \n",
    "Пример вывода:  \n",
    "Введите заказ или \"exit\" для завершения: Pizza  \n",
    "Введите заказ или \"exit\" для завершения: Burger  \n",
    "Введите заказ или \"exit\" для завершения: Pasta  \n",
    "Введите заказ или \"exit\" для завершения: exit  \n",
    "Первый заказ: Pizza  \n",
    "Осталось 2 заказов:  \n",
    "\t- Burger  \n",
    "\t- Pasta \n"
   ]
  },
  {
   "cell_type": "code",
   "execution_count": 47,
   "id": "af9b6f1a-11f0-4eae-a5f2-b64cb2e8c46e",
   "metadata": {},
   "outputs": [
    {
     "name": "stdin",
     "output_type": "stream",
     "text": [
      "Введите заказ или \"exit\" для завершения: a\n",
      "Введите заказ или \"exit\" для завершения: b\n",
      "Введите заказ или \"exit\" для завершения: exit\n"
     ]
    },
    {
     "name": "stdout",
     "output_type": "stream",
     "text": [
      "Первый заказ: a\n",
      "Осталось 1 заказа:\n",
      "-b\n"
     ]
    }
   ],
   "source": [
    "from collections import deque\n",
    "\n",
    "queue = deque()\n",
    "\n",
    "while True:\n",
    "    order = input('Введите заказ или \"exit\" для завершения:')\n",
    "    if order == 'exit':\n",
    "        break\n",
    "    queue.append(order)\n",
    "\n",
    "print(f'Первый заказ: {queue.popleft()}')\n",
    "print(f'Осталось {len(queue)} заказа:',*queue, sep = '\\n- ')"
   ]
  },
  {
   "cell_type": "code",
   "execution_count": null,
   "id": "db90440e-4733-49f9-925b-1dd323a33f4a",
   "metadata": {},
   "outputs": [],
   "source": []
  },
  {
   "cell_type": "code",
   "execution_count": null,
   "id": "f4f36073-bae6-4382-98a7-661ba1841bfe",
   "metadata": {},
   "outputs": [],
   "source": []
  },
  {
   "cell_type": "code",
   "execution_count": null,
   "id": "067004fc-952b-4a06-a768-0671c370e44e",
   "metadata": {},
   "outputs": [],
   "source": []
  },
  {
   "cell_type": "markdown",
   "id": "aeabfc1c-55ef-4575-8bc3-47eebbdbb1c9",
   "metadata": {},
   "source": [
    "12. #### Группы слов\n",
    "Напишите программу, которая принимает список строк и группирует их по общей длине. Группы должны быть отсортированы по убыванию длины строки, а внутри каждой группы строки должны быть отсортированы в алфавитном порядке.  \n",
    "Данные:  \n",
    "`words = [\"apple\", \"banana\", \"kiwi\", \"cherry\", \"pear\", \"grape\", \"melon\"]`  \n",
    "\n",
    "Пример вывода:  \n",
    "Группы слов: `[['banana', 'cherry'], ['apple', 'grape', 'melon'], ['kiwi', 'pear']]`\n"
   ]
  },
  {
   "cell_type": "code",
   "execution_count": 51,
   "id": "5793cde4-4470-422c-9b55-a77696c0128a",
   "metadata": {},
   "outputs": [
    {
     "name": "stdout",
     "output_type": "stream",
     "text": [
      "['banana', 'cherry', 'apple', 'grape', 'melon', 'kiwi', 'pear']\n"
     ]
    }
   ],
   "source": [
    "words = [\"apple\", \"banana\", \"kiwi\", \"cherry\", \"pear\", \"grape\", \"melon\"]\n",
    "words.sort()\n",
    "words.sort(key=len, reverse=True)\n",
    "print(words)"
   ]
  },
  {
   "cell_type": "code",
   "execution_count": 32,
   "id": "8a7da1e8-5c0f-4709-b8d3-90cf02da8e8c",
   "metadata": {},
   "outputs": [
    {
     "name": "stdout",
     "output_type": "stream",
     "text": [
      "Группы слов: [['banana', 'cherry'], ['apple', 'grape', 'melon'], ['kiwi', 'pear']]\n"
     ]
    }
   ],
   "source": [
    "words = [\"apple\", \"banana\", \"kiwi\", \"cherry\", \"pear\", \"grape\", \"melon\"]\n",
    "words.sort()  # Сначала по алфавиту\n",
    "words.sort(key=len, reverse=True)  # Затем по убыванию длины\n",
    "\n",
    "grouped_by_length = []\n",
    "current_length = None\n",
    "\n",
    "for word in words:\n",
    "    if len(word) != current_length:\n",
    "        grouped_by_length.append([])\n",
    "        current_length = len(word)\n",
    "    grouped_by_length[-1].append(word)\n",
    "\n",
    "print(\"Группы слов:\", grouped_by_length)"
   ]
  },
  {
   "cell_type": "code",
   "execution_count": 53,
   "id": "7256b7cf-db6d-475e-84b0-fd6a394571b9",
   "metadata": {},
   "outputs": [
    {
     "data": {
      "text/plain": [
       "[[], []]"
      ]
     },
     "execution_count": 53,
     "metadata": {},
     "output_type": "execute_result"
    }
   ],
   "source": [
    "grouped_by_length = []\n",
    "grouped_by_length.append([])\n",
    "grouped_by_length.append([])\n",
    "grouped_by_length"
   ]
  },
  {
   "cell_type": "code",
   "execution_count": 54,
   "id": "fa757274-9b96-4bef-9b7b-ef1eda6e610f",
   "metadata": {},
   "outputs": [],
   "source": [
    "grouped_by_length = [['banana', 'cherry'], ['apple', 'grape', 'melon'], ['kiwi', 'pear']]"
   ]
  },
  {
   "cell_type": "code",
   "execution_count": 55,
   "id": "bc04a172-aefb-4f02-aa08-423bbc59f5a3",
   "metadata": {},
   "outputs": [
    {
     "data": {
      "text/plain": [
       "['kiwi', 'pear']"
      ]
     },
     "execution_count": 55,
     "metadata": {},
     "output_type": "execute_result"
    }
   ],
   "source": [
    "grouped_by_length[-1]"
   ]
  },
  {
   "cell_type": "code",
   "execution_count": 56,
   "id": "55ca0347-37e8-4682-9993-5a804dcd8389",
   "metadata": {},
   "outputs": [
    {
     "data": {
      "text/plain": [
       "[['banana', 'cherry'], ['apple', 'grape', 'melon'], ['kiwi', 'pear', 'tea']]"
      ]
     },
     "execution_count": 56,
     "metadata": {},
     "output_type": "execute_result"
    }
   ],
   "source": [
    "word = 'tea'\n",
    "grouped_by_length[-1].append(word)\n",
    "grouped_by_length"
   ]
  },
  {
   "cell_type": "code",
   "execution_count": null,
   "id": "786e426a-e138-4acf-aec3-16e1754f9793",
   "metadata": {},
   "outputs": [],
   "source": []
  },
  {
   "cell_type": "markdown",
   "id": "1bca7c48-a5fb-462a-8294-8a0d49bd75e0",
   "metadata": {},
   "source": [
    "### Задача на правильную скобочную последовательность"
   ]
  },
  {
   "cell_type": "code",
   "execution_count": null,
   "id": "ba8976d8-6e29-4885-8b77-64a5fd06bd30",
   "metadata": {},
   "outputs": [],
   "source": [
    "string = \"({[}])\"\n",
    "\n",
    "stack = []  # Используем список как стек\n",
    "brackets = \"(){}[]\"  # Сопоставление скобок\n",
    "is_valid = True # флаг для \n",
    "\n",
    "for bracket in string:\n",
    "    if bracket in brackets[::2]:  # Если открывающая скобка (то без условий добавляется в стек)\n",
    "        stack.append(bracket)\n",
    "    elif bracket in brackets[1::2]:  # Если закрывающая скобка\n",
    "        if stack != [] and stack[-1] == brackets[brackets.find(bracket) - 1]: #если есть пара у скобки\n",
    "            stack.pop()  # Удаляем последнюю открывающую скобку\n",
    "        else:\n",
    "            is_valid = False # получаем один из следующих случаев (},(],[} и.т.д, но они не приведут к пустому стеку ... поэтому нет смысла продолжать\n",
    "            break\n",
    "print(f\"Скобки: {string}\")\n",
    "print(f\"Валидны: {is_valid}\")"
   ]
  }
 ],
 "metadata": {
  "kernelspec": {
   "display_name": "Python 3 (ipykernel)",
   "language": "python",
   "name": "python3"
  },
  "language_info": {
   "codemirror_mode": {
    "name": "ipython",
    "version": 3
   },
   "file_extension": ".py",
   "mimetype": "text/x-python",
   "name": "python",
   "nbconvert_exporter": "python",
   "pygments_lexer": "ipython3",
   "version": "3.12.4"
  }
 },
 "nbformat": 4,
 "nbformat_minor": 5
}
