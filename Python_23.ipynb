{
 "cells": [
  {
   "cell_type": "markdown",
   "id": "8b292ba4-b35a-4e1b-a892-f1edb4fa8b9e",
   "metadata": {},
   "source": [
    "# Документация. Аннотации типов"
   ]
  },
  {
   "cell_type": "markdown",
   "id": "802c98c9-a8fb-4beb-8270-82297090b124",
   "metadata": {},
   "source": [
    "### Документация\n",
    "Документация — это описание кода, которое помогает разработчикам понимать, как работают функции и другие компоненты программы. Она делает код более понятным, облегчает его поддержку и расширение.  \n",
    "**Docstrings**  \n",
    "Docstrings (Документирующие строки) — это строки документации, заключённые в тройные кавычки (\"\"\" или '''), которые используются для описания функций и других компонентов. В отличие от комментариев, docstrings являются частью функции и могут быть получены через help().\n",
    "*Синтаксис:*  \n",
    "```\n",
    "def function_name(param1, param2):\n",
    "    \"\"\"\n",
    "    Описание функции.\n",
    "\n",
    "\n",
    "    :param param1: Описание первого параметра.\n",
    "    :param param2: Описание второго параметра.\n",
    "    :return: Описание возвращаемого значения.\n",
    "    \"\"\"\n",
    "    pass\n",
    "```"
   ]
  },
  {
   "cell_type": "code",
   "execution_count": 34,
   "id": "3f633450-b27b-4a71-b403-dce7132cb32c",
   "metadata": {},
   "outputs": [],
   "source": [
    "def greet(name):\n",
    "    '''\n",
    "    Функция принимает имя и возвращает строку приветствия.\n",
    "    \n",
    "    :param name: Имя пользователя.\n",
    "    :return: Приветственное сообщение.\n",
    "    '''\n",
    "    return f\"Hello, {name}!\""
   ]
  },
  {
   "cell_type": "code",
   "execution_count": null,
   "id": "9c5979ba-c54f-44fe-be4a-e1bd4faf0120",
   "metadata": {},
   "outputs": [],
   "source": [
    "greet()"
   ]
  },
  {
   "cell_type": "code",
   "execution_count": 36,
   "id": "3384ab91-94cc-438e-8d6b-8aaab0fccb5e",
   "metadata": {},
   "outputs": [
    {
     "data": {
      "text/plain": [
       "\u001b[1;31mSignature:\u001b[0m \u001b[0mprint\u001b[0m\u001b[1;33m(\u001b[0m\u001b[1;33m*\u001b[0m\u001b[0margs\u001b[0m\u001b[1;33m,\u001b[0m \u001b[0msep\u001b[0m\u001b[1;33m=\u001b[0m\u001b[1;34m' '\u001b[0m\u001b[1;33m,\u001b[0m \u001b[0mend\u001b[0m\u001b[1;33m=\u001b[0m\u001b[1;34m'\\n'\u001b[0m\u001b[1;33m,\u001b[0m \u001b[0mfile\u001b[0m\u001b[1;33m=\u001b[0m\u001b[1;32mNone\u001b[0m\u001b[1;33m,\u001b[0m \u001b[0mflush\u001b[0m\u001b[1;33m=\u001b[0m\u001b[1;32mFalse\u001b[0m\u001b[1;33m)\u001b[0m\u001b[1;33m\u001b[0m\u001b[1;33m\u001b[0m\u001b[0m\n",
       "\u001b[1;31mDocstring:\u001b[0m\n",
       "Prints the values to a stream, or to sys.stdout by default.\n",
       "\n",
       "sep\n",
       "  string inserted between values, default a space.\n",
       "end\n",
       "  string appended after the last value, default a newline.\n",
       "file\n",
       "  a file-like object (stream); defaults to the current sys.stdout.\n",
       "flush\n",
       "  whether to forcibly flush the stream.\n",
       "\u001b[1;31mType:\u001b[0m      builtin_function_or_method"
      ]
     },
     "metadata": {},
     "output_type": "display_data"
    }
   ],
   "source": [
    "?print"
   ]
  },
  {
   "cell_type": "markdown",
   "id": "01e54a43-d646-453d-b6ee-700bdd21f74c",
   "metadata": {},
   "source": [
    "### Функция help\n",
    "Функция help() используется для просмотра встроенной и пользовательской документации объектов, например функций. Она выводит docstrings объекта, если они определены.  \n",
    "*Синтаксис:*  \n",
    "help(object)  \n",
    "\n",
    "\n",
    "* object — любой объект Python, для которого нужно получить справку.\n",
    "* Если объект не указан, откроется интерактивный справочный режим.\n"
   ]
  },
  {
   "cell_type": "code",
   "execution_count": 37,
   "id": "1de905a1-191e-4ec6-ace7-eccea05faa2f",
   "metadata": {},
   "outputs": [
    {
     "name": "stdout",
     "output_type": "stream",
     "text": [
      "Help on built-in function sum in module builtins:\n",
      "\n",
      "sum(iterable, /, start=0)\n",
      "    Return the sum of a 'start' value (default: 0) plus an iterable of numbers\n",
      "\n",
      "    When the iterable is empty, return the start value.\n",
      "    This function is intended specifically for use with numeric values and may\n",
      "    reject non-numeric types.\n",
      "\n"
     ]
    }
   ],
   "source": [
    "#1. Получение справки по пользовательской функции\n",
    "help(sum)"
   ]
  },
  {
   "cell_type": "code",
   "execution_count": 38,
   "id": "b4fe6f48-6293-463e-9312-327dfb66ed7b",
   "metadata": {},
   "outputs": [
    {
     "name": "stdout",
     "output_type": "stream",
     "text": [
      "Help on function greet in module __main__:\n",
      "\n",
      "greet(name)\n",
      "    Функция принимает имя и возвращает строку приветствия.\n",
      "\n",
      "    :param name: Имя пользователя.\n",
      "    :return: Приветственное сообщение.\n",
      "\n"
     ]
    }
   ],
   "source": [
    "#2. Просмотр документации пользовательской функции\n",
    "help(greet)"
   ]
  },
  {
   "cell_type": "code",
   "execution_count": 39,
   "id": "b0307a31-8eaf-41e7-8fa7-eb0e21560f18",
   "metadata": {},
   "outputs": [
    {
     "name": "stdout",
     "output_type": "stream",
     "text": [
      "Help on class str in module builtins:\n",
      "\n",
      "class str(object)\n",
      " |  str(object='') -> str\n",
      " |  str(bytes_or_buffer[, encoding[, errors]]) -> str\n",
      " |\n",
      " |  Create a new string object from the given object. If encoding or\n",
      " |  errors is specified, then the object must expose a data buffer\n",
      " |  that will be decoded using the given encoding and error handler.\n",
      " |  Otherwise, returns the result of object.__str__() (if defined)\n",
      " |  or repr(object).\n",
      " |  encoding defaults to sys.getdefaultencoding().\n",
      " |  errors defaults to 'strict'.\n",
      " |\n",
      " |  Methods defined here:\n",
      " |\n",
      " |  __add__(self, value, /)\n",
      " |      Return self+value.\n",
      " |\n",
      " |  __contains__(self, key, /)\n",
      " |      Return bool(key in self).\n",
      " |\n",
      " |  __eq__(self, value, /)\n",
      " |      Return self==value.\n",
      " |\n",
      " |  __format__(self, format_spec, /)\n",
      " |      Return a formatted version of the string as described by format_spec.\n",
      " |\n",
      " |  __ge__(self, value, /)\n",
      " |      Return self>=value.\n",
      " |\n",
      " |  __getattribute__(self, name, /)\n",
      " |      Return getattr(self, name).\n",
      " |\n",
      " |  __getitem__(self, key, /)\n",
      " |      Return self[key].\n",
      " |\n",
      " |  __getnewargs__(...)\n",
      " |\n",
      " |  __gt__(self, value, /)\n",
      " |      Return self>value.\n",
      " |\n",
      " |  __hash__(self, /)\n",
      " |      Return hash(self).\n",
      " |\n",
      " |  __iter__(self, /)\n",
      " |      Implement iter(self).\n",
      " |\n",
      " |  __le__(self, value, /)\n",
      " |      Return self<=value.\n",
      " |\n",
      " |  __len__(self, /)\n",
      " |      Return len(self).\n",
      " |\n",
      " |  __lt__(self, value, /)\n",
      " |      Return self<value.\n",
      " |\n",
      " |  __mod__(self, value, /)\n",
      " |      Return self%value.\n",
      " |\n",
      " |  __mul__(self, value, /)\n",
      " |      Return self*value.\n",
      " |\n",
      " |  __ne__(self, value, /)\n",
      " |      Return self!=value.\n",
      " |\n",
      " |  __repr__(self, /)\n",
      " |      Return repr(self).\n",
      " |\n",
      " |  __rmod__(self, value, /)\n",
      " |      Return value%self.\n",
      " |\n",
      " |  __rmul__(self, value, /)\n",
      " |      Return value*self.\n",
      " |\n",
      " |  __sizeof__(self, /)\n",
      " |      Return the size of the string in memory, in bytes.\n",
      " |\n",
      " |  __str__(self, /)\n",
      " |      Return str(self).\n",
      " |\n",
      " |  capitalize(self, /)\n",
      " |      Return a capitalized version of the string.\n",
      " |\n",
      " |      More specifically, make the first character have upper case and the rest lower\n",
      " |      case.\n",
      " |\n",
      " |  casefold(self, /)\n",
      " |      Return a version of the string suitable for caseless comparisons.\n",
      " |\n",
      " |  center(self, width, fillchar=' ', /)\n",
      " |      Return a centered string of length width.\n",
      " |\n",
      " |      Padding is done using the specified fill character (default is a space).\n",
      " |\n",
      " |  count(...)\n",
      " |      S.count(sub[, start[, end]]) -> int\n",
      " |\n",
      " |      Return the number of non-overlapping occurrences of substring sub in\n",
      " |      string S[start:end].  Optional arguments start and end are\n",
      " |      interpreted as in slice notation.\n",
      " |\n",
      " |  encode(self, /, encoding='utf-8', errors='strict')\n",
      " |      Encode the string using the codec registered for encoding.\n",
      " |\n",
      " |      encoding\n",
      " |        The encoding in which to encode the string.\n",
      " |      errors\n",
      " |        The error handling scheme to use for encoding errors.\n",
      " |        The default is 'strict' meaning that encoding errors raise a\n",
      " |        UnicodeEncodeError.  Other possible values are 'ignore', 'replace' and\n",
      " |        'xmlcharrefreplace' as well as any other name registered with\n",
      " |        codecs.register_error that can handle UnicodeEncodeErrors.\n",
      " |\n",
      " |  endswith(...)\n",
      " |      S.endswith(suffix[, start[, end]]) -> bool\n",
      " |\n",
      " |      Return True if S ends with the specified suffix, False otherwise.\n",
      " |      With optional start, test S beginning at that position.\n",
      " |      With optional end, stop comparing S at that position.\n",
      " |      suffix can also be a tuple of strings to try.\n",
      " |\n",
      " |  expandtabs(self, /, tabsize=8)\n",
      " |      Return a copy where all tab characters are expanded using spaces.\n",
      " |\n",
      " |      If tabsize is not given, a tab size of 8 characters is assumed.\n",
      " |\n",
      " |  find(...)\n",
      " |      S.find(sub[, start[, end]]) -> int\n",
      " |\n",
      " |      Return the lowest index in S where substring sub is found,\n",
      " |      such that sub is contained within S[start:end].  Optional\n",
      " |      arguments start and end are interpreted as in slice notation.\n",
      " |\n",
      " |      Return -1 on failure.\n",
      " |\n",
      " |  format(...)\n",
      " |      S.format(*args, **kwargs) -> str\n",
      " |\n",
      " |      Return a formatted version of S, using substitutions from args and kwargs.\n",
      " |      The substitutions are identified by braces ('{' and '}').\n",
      " |\n",
      " |  format_map(...)\n",
      " |      S.format_map(mapping) -> str\n",
      " |\n",
      " |      Return a formatted version of S, using substitutions from mapping.\n",
      " |      The substitutions are identified by braces ('{' and '}').\n",
      " |\n",
      " |  index(...)\n",
      " |      S.index(sub[, start[, end]]) -> int\n",
      " |\n",
      " |      Return the lowest index in S where substring sub is found,\n",
      " |      such that sub is contained within S[start:end].  Optional\n",
      " |      arguments start and end are interpreted as in slice notation.\n",
      " |\n",
      " |      Raises ValueError when the substring is not found.\n",
      " |\n",
      " |  isalnum(self, /)\n",
      " |      Return True if the string is an alpha-numeric string, False otherwise.\n",
      " |\n",
      " |      A string is alpha-numeric if all characters in the string are alpha-numeric and\n",
      " |      there is at least one character in the string.\n",
      " |\n",
      " |  isalpha(self, /)\n",
      " |      Return True if the string is an alphabetic string, False otherwise.\n",
      " |\n",
      " |      A string is alphabetic if all characters in the string are alphabetic and there\n",
      " |      is at least one character in the string.\n",
      " |\n",
      " |  isascii(self, /)\n",
      " |      Return True if all characters in the string are ASCII, False otherwise.\n",
      " |\n",
      " |      ASCII characters have code points in the range U+0000-U+007F.\n",
      " |      Empty string is ASCII too.\n",
      " |\n",
      " |  isdecimal(self, /)\n",
      " |      Return True if the string is a decimal string, False otherwise.\n",
      " |\n",
      " |      A string is a decimal string if all characters in the string are decimal and\n",
      " |      there is at least one character in the string.\n",
      " |\n",
      " |  isdigit(self, /)\n",
      " |      Return True if the string is a digit string, False otherwise.\n",
      " |\n",
      " |      A string is a digit string if all characters in the string are digits and there\n",
      " |      is at least one character in the string.\n",
      " |\n",
      " |  isidentifier(self, /)\n",
      " |      Return True if the string is a valid Python identifier, False otherwise.\n",
      " |\n",
      " |      Call keyword.iskeyword(s) to test whether string s is a reserved identifier,\n",
      " |      such as \"def\" or \"class\".\n",
      " |\n",
      " |  islower(self, /)\n",
      " |      Return True if the string is a lowercase string, False otherwise.\n",
      " |\n",
      " |      A string is lowercase if all cased characters in the string are lowercase and\n",
      " |      there is at least one cased character in the string.\n",
      " |\n",
      " |  isnumeric(self, /)\n",
      " |      Return True if the string is a numeric string, False otherwise.\n",
      " |\n",
      " |      A string is numeric if all characters in the string are numeric and there is at\n",
      " |      least one character in the string.\n",
      " |\n",
      " |  isprintable(self, /)\n",
      " |      Return True if the string is printable, False otherwise.\n",
      " |\n",
      " |      A string is printable if all of its characters are considered printable in\n",
      " |      repr() or if it is empty.\n",
      " |\n",
      " |  isspace(self, /)\n",
      " |      Return True if the string is a whitespace string, False otherwise.\n",
      " |\n",
      " |      A string is whitespace if all characters in the string are whitespace and there\n",
      " |      is at least one character in the string.\n",
      " |\n",
      " |  istitle(self, /)\n",
      " |      Return True if the string is a title-cased string, False otherwise.\n",
      " |\n",
      " |      In a title-cased string, upper- and title-case characters may only\n",
      " |      follow uncased characters and lowercase characters only cased ones.\n",
      " |\n",
      " |  isupper(self, /)\n",
      " |      Return True if the string is an uppercase string, False otherwise.\n",
      " |\n",
      " |      A string is uppercase if all cased characters in the string are uppercase and\n",
      " |      there is at least one cased character in the string.\n",
      " |\n",
      " |  join(self, iterable, /)\n",
      " |      Concatenate any number of strings.\n",
      " |\n",
      " |      The string whose method is called is inserted in between each given string.\n",
      " |      The result is returned as a new string.\n",
      " |\n",
      " |      Example: '.'.join(['ab', 'pq', 'rs']) -> 'ab.pq.rs'\n",
      " |\n",
      " |  ljust(self, width, fillchar=' ', /)\n",
      " |      Return a left-justified string of length width.\n",
      " |\n",
      " |      Padding is done using the specified fill character (default is a space).\n",
      " |\n",
      " |  lower(self, /)\n",
      " |      Return a copy of the string converted to lowercase.\n",
      " |\n",
      " |  lstrip(self, chars=None, /)\n",
      " |      Return a copy of the string with leading whitespace removed.\n",
      " |\n",
      " |      If chars is given and not None, remove characters in chars instead.\n",
      " |\n",
      " |  partition(self, sep, /)\n",
      " |      Partition the string into three parts using the given separator.\n",
      " |\n",
      " |      This will search for the separator in the string.  If the separator is found,\n",
      " |      returns a 3-tuple containing the part before the separator, the separator\n",
      " |      itself, and the part after it.\n",
      " |\n",
      " |      If the separator is not found, returns a 3-tuple containing the original string\n",
      " |      and two empty strings.\n",
      " |\n",
      " |  removeprefix(self, prefix, /)\n",
      " |      Return a str with the given prefix string removed if present.\n",
      " |\n",
      " |      If the string starts with the prefix string, return string[len(prefix):].\n",
      " |      Otherwise, return a copy of the original string.\n",
      " |\n",
      " |  removesuffix(self, suffix, /)\n",
      " |      Return a str with the given suffix string removed if present.\n",
      " |\n",
      " |      If the string ends with the suffix string and that suffix is not empty,\n",
      " |      return string[:-len(suffix)]. Otherwise, return a copy of the original\n",
      " |      string.\n",
      " |\n",
      " |  replace(self, old, new, count=-1, /)\n",
      " |      Return a copy with all occurrences of substring old replaced by new.\n",
      " |\n",
      " |        count\n",
      " |          Maximum number of occurrences to replace.\n",
      " |          -1 (the default value) means replace all occurrences.\n",
      " |\n",
      " |      If the optional argument count is given, only the first count occurrences are\n",
      " |      replaced.\n",
      " |\n",
      " |  rfind(...)\n",
      " |      S.rfind(sub[, start[, end]]) -> int\n",
      " |\n",
      " |      Return the highest index in S where substring sub is found,\n",
      " |      such that sub is contained within S[start:end].  Optional\n",
      " |      arguments start and end are interpreted as in slice notation.\n",
      " |\n",
      " |      Return -1 on failure.\n",
      " |\n",
      " |  rindex(...)\n",
      " |      S.rindex(sub[, start[, end]]) -> int\n",
      " |\n",
      " |      Return the highest index in S where substring sub is found,\n",
      " |      such that sub is contained within S[start:end].  Optional\n",
      " |      arguments start and end are interpreted as in slice notation.\n",
      " |\n",
      " |      Raises ValueError when the substring is not found.\n",
      " |\n",
      " |  rjust(self, width, fillchar=' ', /)\n",
      " |      Return a right-justified string of length width.\n",
      " |\n",
      " |      Padding is done using the specified fill character (default is a space).\n",
      " |\n",
      " |  rpartition(self, sep, /)\n",
      " |      Partition the string into three parts using the given separator.\n",
      " |\n",
      " |      This will search for the separator in the string, starting at the end. If\n",
      " |      the separator is found, returns a 3-tuple containing the part before the\n",
      " |      separator, the separator itself, and the part after it.\n",
      " |\n",
      " |      If the separator is not found, returns a 3-tuple containing two empty strings\n",
      " |      and the original string.\n",
      " |\n",
      " |  rsplit(self, /, sep=None, maxsplit=-1)\n",
      " |      Return a list of the substrings in the string, using sep as the separator string.\n",
      " |\n",
      " |        sep\n",
      " |          The separator used to split the string.\n",
      " |\n",
      " |          When set to None (the default value), will split on any whitespace\n",
      " |          character (including \\n \\r \\t \\f and spaces) and will discard\n",
      " |          empty strings from the result.\n",
      " |        maxsplit\n",
      " |          Maximum number of splits.\n",
      " |          -1 (the default value) means no limit.\n",
      " |\n",
      " |      Splitting starts at the end of the string and works to the front.\n",
      " |\n",
      " |  rstrip(self, chars=None, /)\n",
      " |      Return a copy of the string with trailing whitespace removed.\n",
      " |\n",
      " |      If chars is given and not None, remove characters in chars instead.\n",
      " |\n",
      " |  split(self, /, sep=None, maxsplit=-1)\n",
      " |      Return a list of the substrings in the string, using sep as the separator string.\n",
      " |\n",
      " |        sep\n",
      " |          The separator used to split the string.\n",
      " |\n",
      " |          When set to None (the default value), will split on any whitespace\n",
      " |          character (including \\n \\r \\t \\f and spaces) and will discard\n",
      " |          empty strings from the result.\n",
      " |        maxsplit\n",
      " |          Maximum number of splits.\n",
      " |          -1 (the default value) means no limit.\n",
      " |\n",
      " |      Splitting starts at the front of the string and works to the end.\n",
      " |\n",
      " |      Note, str.split() is mainly useful for data that has been intentionally\n",
      " |      delimited.  With natural text that includes punctuation, consider using\n",
      " |      the regular expression module.\n",
      " |\n",
      " |  splitlines(self, /, keepends=False)\n",
      " |      Return a list of the lines in the string, breaking at line boundaries.\n",
      " |\n",
      " |      Line breaks are not included in the resulting list unless keepends is given and\n",
      " |      true.\n",
      " |\n",
      " |  startswith(...)\n",
      " |      S.startswith(prefix[, start[, end]]) -> bool\n",
      " |\n",
      " |      Return True if S starts with the specified prefix, False otherwise.\n",
      " |      With optional start, test S beginning at that position.\n",
      " |      With optional end, stop comparing S at that position.\n",
      " |      prefix can also be a tuple of strings to try.\n",
      " |\n",
      " |  strip(self, chars=None, /)\n",
      " |      Return a copy of the string with leading and trailing whitespace removed.\n",
      " |\n",
      " |      If chars is given and not None, remove characters in chars instead.\n",
      " |\n",
      " |  swapcase(self, /)\n",
      " |      Convert uppercase characters to lowercase and lowercase characters to uppercase.\n",
      " |\n",
      " |  title(self, /)\n",
      " |      Return a version of the string where each word is titlecased.\n",
      " |\n",
      " |      More specifically, words start with uppercased characters and all remaining\n",
      " |      cased characters have lower case.\n",
      " |\n",
      " |  translate(self, table, /)\n",
      " |      Replace each character in the string using the given translation table.\n",
      " |\n",
      " |        table\n",
      " |          Translation table, which must be a mapping of Unicode ordinals to\n",
      " |          Unicode ordinals, strings, or None.\n",
      " |\n",
      " |      The table must implement lookup/indexing via __getitem__, for instance a\n",
      " |      dictionary or list.  If this operation raises LookupError, the character is\n",
      " |      left untouched.  Characters mapped to None are deleted.\n",
      " |\n",
      " |  upper(self, /)\n",
      " |      Return a copy of the string converted to uppercase.\n",
      " |\n",
      " |  zfill(self, width, /)\n",
      " |      Pad a numeric string with zeros on the left, to fill a field of the given width.\n",
      " |\n",
      " |      The string is never truncated.\n",
      " |\n",
      " |  ----------------------------------------------------------------------\n",
      " |  Static methods defined here:\n",
      " |\n",
      " |  __new__(*args, **kwargs)\n",
      " |      Create and return a new object.  See help(type) for accurate signature.\n",
      " |\n",
      " |  maketrans(...)\n",
      " |      Return a translation table usable for str.translate().\n",
      " |\n",
      " |      If there is only one argument, it must be a dictionary mapping Unicode\n",
      " |      ordinals (integers) or characters to Unicode ordinals, strings or None.\n",
      " |      Character keys will be then converted to ordinals.\n",
      " |      If there are two arguments, they must be strings of equal length, and\n",
      " |      in the resulting dictionary, each character in x will be mapped to the\n",
      " |      character at the same position in y. If there is a third argument, it\n",
      " |      must be a string, whose characters will be mapped to None in the result.\n",
      "\n"
     ]
    }
   ],
   "source": [
    "#3. Получение списка методов объекта\n",
    "help(str)"
   ]
  },
  {
   "cell_type": "code",
   "execution_count": null,
   "id": "1e69a2c6-75aa-4960-a49b-4f71e5db9c9a",
   "metadata": {},
   "outputs": [],
   "source": [
    "#4. Вызов справки без аргументов\n",
    "# Если вызвать help() без аргумента, откроется интерактивный режим справки:\n",
    "# help()\n",
    "# После этого можно вводить имена объектов для получения информации.\n",
    "help()"
   ]
  },
  {
   "cell_type": "markdown",
   "id": "d2af28ef-9591-444b-916b-a73ea2bcbbfa",
   "metadata": {},
   "source": [
    "## Аннотации типов\n",
    "Аннотации типов — это механизм, позволяющий указывать ожидаемые типы аргументов и возвращаемого значения функции, а также типы переменных. Они помогают сделать код понятнее, повысить читаемость и упростить отладку, но не накладывают жёстких ограничений на типы данных.\n",
    "Python остаётся динамически типизированным языком, и аннотации типов не заставляют интерпретатор проверять соответствие типов во время выполнения.  \n",
    "### Зачем нужны аннотации типов?  \n",
    "* Упрощение понимания кода — легче понять, какие данные ожидаются на входе и выходе.  \n",
    "* Помощь в отладке — статический анализ (проверка кода без выполнения) может обнаружить потенциальные ошибки.  \n",
    "* Автодокументирование — IDE могут использовать аннотации для подсказок.\n",
    "  \n",
    "*Синтаксис:*  \n",
    "```\n",
    "def function_name(param1: type1, param2: type2, ...) -> return_type:\n",
    "    # тело функции\n",
    "    return value\n",
    "\n",
    "```\n",
    "`variable: type = value`\n",
    "\n",
    "\n",
    "* param1, param2 — имена параметров функции.\n",
    "* type1, type2, type — ожидаемые типы данных для соответствующих параметров или переменных.\n",
    "* -> return_type — аннотация типа возвращаемого значения.\n"
   ]
  },
  {
   "cell_type": "code",
   "execution_count": null,
   "id": "f311f57b-f5cd-469f-ae2a-cf6d68049ca1",
   "metadata": {},
   "outputs": [],
   "source": [
    "# без аннотации\n",
    "\n",
    "def add(a, b):\n",
    "    return a + b\n",
    "\n",
    "\n",
    "num = 10"
   ]
  },
  {
   "cell_type": "code",
   "execution_count": 40,
   "id": "f702c069-ed09-4202-bfd6-0bb90c55287b",
   "metadata": {},
   "outputs": [],
   "source": [
    "def add(a: int, b: int) -> int:\n",
    "    return a + b\n",
    "\n",
    "\n",
    "num: int = 10"
   ]
  },
  {
   "cell_type": "markdown",
   "id": "5e68bb00-9c5b-4e54-aad8-fd8f9bcb18e6",
   "metadata": {},
   "source": [
    "* a: int — аргумент a должен быть целым числом.\n",
    "* b: int — аргумент b должен быть целым числом.\n",
    "* -> int — функция должна возвращать целое число.\n",
    "* num: int — в переменной можно хранить только целое число."
   ]
  },
  {
   "cell_type": "code",
   "execution_count": 42,
   "id": "29391923-b90e-4a04-a6f0-1354ce4658d1",
   "metadata": {},
   "outputs": [
    {
     "name": "stdout",
     "output_type": "stream",
     "text": [
      "8\n",
      "35\n"
     ]
    }
   ],
   "source": [
    "#Аннотации не влияют на выполнение кода:\n",
    "def add(a: int, b: int) -> int:\n",
    "    return a + b\n",
    "\n",
    "\n",
    "print(add(3, 5))\n",
    "# не приведёт к ошибке, хотя переданы строки\n",
    "print(add(\"3\", \"5\"))\n"
   ]
  },
  {
   "cell_type": "markdown",
   "id": "5319103a-1b5c-4476-b49a-33392bbdf877",
   "metadata": {},
   "source": [
    "### Аннотации для базовых типов\n",
    "В большинстве случаев название аннотации совпадает с названием типа данных, который она обозначает. Это делает код интуитивно понятным и легко читаемым.\n"
   ]
  },
  {
   "cell_type": "code",
   "execution_count": 43,
   "id": "5fbabe9b-dc1f-4485-a150-71dc5e64c1d0",
   "metadata": {},
   "outputs": [],
   "source": [
    "#1. Аннотация целых чисел (int)\n",
    "def factorial(n: int) -> int:\n",
    "    \"\"\"Возвращает факториал числа.\"\"\"\n",
    "    result = 1\n",
    "    for i in range(1, n + 1):\n",
    "        result *= i\n",
    "    return result"
   ]
  },
  {
   "cell_type": "code",
   "execution_count": 44,
   "id": "c5a323a5-e5b7-4510-a423-74225b1d0942",
   "metadata": {},
   "outputs": [
    {
     "data": {
      "text/plain": [
       "6"
      ]
     },
     "execution_count": 44,
     "metadata": {},
     "output_type": "execute_result"
    }
   ],
   "source": [
    "factorial(3)"
   ]
  },
  {
   "cell_type": "code",
   "execution_count": 45,
   "id": "0786c8f3-0d21-4b37-82d7-092cdda74e38",
   "metadata": {},
   "outputs": [],
   "source": [
    "#2. Аннотация чисел с плавающей точкой (float)\n",
    "def convert_to_celsius(fahrenheit: float) -> float:\n",
    "    \"\"\"Конвертирует температуру из градусов Фаренгейта в Цельсий.\"\"\"\n",
    "    return (fahrenheit - 32) * 5 / 9\n"
   ]
  },
  {
   "cell_type": "code",
   "execution_count": null,
   "id": "b7c92566-c670-4200-846f-d6584307740f",
   "metadata": {},
   "outputs": [],
   "source": [
    "#3. Аннотация строк (str)\n",
    "def greet(name: str) -> str:\n",
    "    \"\"\"Возвращает приветственное сообщение.\"\"\"\n",
    "    return f\"Hello, {name}!\"\n"
   ]
  },
  {
   "cell_type": "code",
   "execution_count": null,
   "id": "82e93e58-56d7-415f-ba41-79db7cabf9ba",
   "metadata": {},
   "outputs": [],
   "source": [
    "#4. Аннотация логических значений (bool)\n",
    "def is_even(number: int) -> bool:\n",
    "    \"\"\"Определяет, является ли число чётным.\"\"\"\n",
    "    return number % 2 == 0"
   ]
  },
  {
   "cell_type": "code",
   "execution_count": null,
   "id": "83dc3a93-11da-4b32-83af-6e8363cd6f46",
   "metadata": {},
   "outputs": [],
   "source": [
    "#5. Аннотация None (функция без возврата)\n",
    "def log_message(message: str) -> None:\n",
    "    \"\"\"Выводит сообщение в консоль, но не возвращает значения.\"\"\"\n",
    "    print(f\"LOG: {message}\")"
   ]
  },
  {
   "cell_type": "markdown",
   "id": "a48e9624-f3cd-4643-ac08-e0c40e315d56",
   "metadata": {},
   "source": [
    "## Аннотации для структур данных\n",
    "В Python 3.9+ можно аннотировать списки, кортежи, множества и словари просто указывая встроенные типы. Однако важно понимать, как именно указывать тип содержимого и какие особенности у разных структур.\n"
   ]
  },
  {
   "cell_type": "markdown",
   "id": "2afcedbd-0012-4e67-b171-89fc01638f25",
   "metadata": {},
   "source": [
    "### 1. Списки (list)  \n",
    "Синтаксис: `list[element_type]`\n",
    "* В скобках указывается тип элементов внутри списка.\n",
    "* Рекомендуется указывать тип содержимого.\n"
   ]
  },
  {
   "cell_type": "code",
   "execution_count": null,
   "id": "b64e79b2-bbfb-4c76-bda8-478ea556ea88",
   "metadata": {},
   "outputs": [],
   "source": [
    "def process_numbers(numbers: list[int]) -> list[int]:\n",
    "   # Список чисел\n",
    "   return [n ** 2 for n in numbers]\n"
   ]
  },
  {
   "cell_type": "markdown",
   "id": "4e13597e-8d17-43c8-bf92-7d00641ed16b",
   "metadata": {},
   "source": [
    "### 2. Кортежи (tuple)\n",
    "Синтаксис:  \n",
    "* Если кортеж содержит фиксированное число элементов: `tuple[type1, type2]`\n",
    "* Если длина кортежа не фиксирована: `tuple[element_type, ...]`\n"
   ]
  },
  {
   "cell_type": "code",
   "execution_count": null,
   "id": "9dd09d67-f5ac-410c-bf04-0272795a06aa",
   "metadata": {},
   "outputs": [],
   "source": [
    "def get_info() -> tuple[str, float]:\n",
    "   # Первый элемент str, второй элемент float\n",
    "    return \"Bob\", 4.91\n",
    "\n",
    "\n",
    "def variable_tuple() -> tuple[int, ...]:\n",
    "   # Кортеж произвольной длины, но только целые числа\n",
    "    return 5, 8, 2"
   ]
  },
  {
   "cell_type": "markdown",
   "id": "ddb8c22a-df39-466e-9bc5-46fd69a376ee",
   "metadata": {},
   "source": [
    "### 3. Множества (set)\n",
    "Синтаксис: `set[element_type]`\n",
    "* В скобках указывается тип всех элементов множества.\n",
    "* Рекомендуется указывать тип содержимого.\n"
   ]
  },
  {
   "cell_type": "code",
   "execution_count": null,
   "id": "4bd4d4f6-6911-4b9c-b9d3-5032e77ac723",
   "metadata": {},
   "outputs": [],
   "source": [
    "def unique_chars(text: str) -> set[str]:\n",
    "   # Множество уникальных символов\n",
    "    return set(text)"
   ]
  },
  {
   "cell_type": "markdown",
   "id": "105df5ed-4b25-4187-a480-8caebf2501d8",
   "metadata": {},
   "source": [
    "### 4. Замороженные множества (frozenset)\n",
    "Синтаксис: `frozenset[element_type]`  \n",
    "* Работает аналогично set, но создаёт неизменяемое множество.\n",
    "* Рекомендуется указывать тип содержимого.\n"
   ]
  },
  {
   "cell_type": "code",
   "execution_count": null,
   "id": "bde064cf-970b-479b-9ee6-caa5be77de1f",
   "metadata": {},
   "outputs": [],
   "source": [
    "def frozen_example() -> frozenset[int]:\n",
    "   # Множество уникальных чисел\n",
    "    return frozenset([1, 2, 3])"
   ]
  },
  {
   "cell_type": "markdown",
   "id": "8fcf8eed-c637-48c3-a3c8-51b26d14d659",
   "metadata": {},
   "source": [
    "### 5. Словари (dict)\n",
    "Синтаксис: `dict[key_type, value_type]`  \n",
    "* В скобках указываются типы ключей и значений.\n",
    "* Рекомендуется указывать типы содержимого.\n"
   ]
  },
  {
   "cell_type": "code",
   "execution_count": null,
   "id": "c1d77221-dcb8-49b4-95fa-aa23624b7e3e",
   "metadata": {},
   "outputs": [],
   "source": [
    "def count_words(text: str) -> dict[str, int]:\n",
    "    \"\"\"Принимает строку и возвращает словарь с подсчётом каждого слова.\"\"\"\n",
    "    words = text.split()\n",
    "   # Словарь, где ключи — строки, значения — целые числа\n",
    "    return {word: words.count(word) for word in words}"
   ]
  },
  {
   "cell_type": "markdown",
   "id": "619aba62-11d9-401a-a937-7ff9b80c0d42",
   "metadata": {},
   "source": [
    "### Коллекции без указания типов\n",
    "Если тип элементов в коллекции не важен или вы хотите создать коллекцию с элементами разных типов, типы можно не указывать.\n"
   ]
  },
  {
   "cell_type": "code",
   "execution_count": null,
   "id": "3cd9ad3e-3cab-4e2f-92d4-0cbb5441e43d",
   "metadata": {},
   "outputs": [],
   "source": [
    "# Тип элементов не указан\n",
    "def process_data(data: list) -> list:  \n",
    "    return [d for d in data if d]\n",
    "\n",
    "\n",
    "# Элементы должны быть числами\n",
    "def process_numbers(numbers: list[int]) -> list[int]:  \n",
    "    return [n ** 2 for n in numbers]\n"
   ]
  },
  {
   "cell_type": "markdown",
   "id": "090b8fa7-48db-4358-8c23-e2ae3703ec01",
   "metadata": {},
   "source": [
    "### Аннотация в старых версиях\n",
    "В версиях Python до 3.9 для аннотации структур данных использовались специальные классы из модуля typing:\n",
    "* List вместо list\n",
    "* Tuple вместо tuple\n",
    "* Set вместо set\n",
    "* FrozenSet вместо frozenset\n",
    "* Dict вместо dict\n"
   ]
  },
  {
   "cell_type": "code",
   "execution_count": null,
   "id": "180f3797-b1d7-456b-b392-8178db640564",
   "metadata": {},
   "outputs": [],
   "source": [
    "# Пример различий в аннотациях:\n",
    "# В Python 3.9+ (рекомендуется)\n",
    "def process_numbers(numbers: list[int]) -> list[int]:\n",
    "    return [n ** 2 for n in numbers]\n",
    "\n",
    "\n",
    "# В Python <3.9 (старый стиль)\n",
    "from typing import List\n",
    "\n",
    "\n",
    "def process_numbers_old(numbers: List[int]) -> List[int]:\n",
    "    return [n ** 2 for n in numbers]"
   ]
  },
  {
   "cell_type": "code",
   "execution_count": null,
   "id": "71dd034d-6899-4585-b8b2-60dcc6c0cecf",
   "metadata": {},
   "outputs": [],
   "source": [
    "# Найдите ошибку в коде и исправьте её\n",
    "def greet(name: str) -> str:\n",
    "    print(f\"Hello, {name}!\")\n",
    "\n",
    "\n",
    "result = greet(\"Alice\")\n",
    "print(result.upper())\n"
   ]
  },
  {
   "cell_type": "markdown",
   "id": "a482ca49-18ce-4a93-b91b-383f9372b563",
   "metadata": {},
   "source": [
    "## Аннотации Any, Union и Optional\n",
    "При аннотировании функций и переменных в Python бывают случаи, когда необходимо указывать разные возможные типы. Для этого используются Any, Union и Optional из модуля typing.  \n",
    "### Any — любой тип\n",
    "Any означает, что переменная или аргумент могут быть любого типа.\n"
   ]
  },
  {
   "cell_type": "code",
   "execution_count": 46,
   "id": "841795aa-742b-47da-ab47-54d7a01d9949",
   "metadata": {},
   "outputs": [
    {
     "name": "stdout",
     "output_type": "stream",
     "text": [
      "Данные: 42\n",
      "Данные: Hello\n",
      "Данные: [1, 2, 3]\n"
     ]
    }
   ],
   "source": [
    "from typing import Any\n",
    "\n",
    "\n",
    "def process_data(data: Any) -> str:\n",
    "    \"\"\"Принимает данные любого типа и возвращает строку с их представлением.\"\"\"\n",
    "    return f\"Данные: {data}\"\n",
    "\n",
    "\n",
    "print(process_data(42)) \n",
    "print(process_data(\"Hello\")) \n",
    "print(process_data([1, 2, 3])) \n"
   ]
  },
  {
   "cell_type": "markdown",
   "id": "004b5b74-1ea7-43fe-ac81-6ef9fe394f27",
   "metadata": {},
   "source": [
    "### Union — несколько возможных типов\n",
    "Union позволяет указать, что переменная может содержать один из нескольких типов.\n"
   ]
  },
  {
   "cell_type": "code",
   "execution_count": null,
   "id": "b0e7eb01-d646-4f33-af3c-194360b43f96",
   "metadata": {},
   "outputs": [],
   "source": [
    "def gr(a: int) -> Optional[str]:\n",
    "    \n",
    "    "
   ]
  },
  {
   "cell_type": "code",
   "execution_count": 47,
   "id": "b1cfecb9-f173-483f-b167-c2d47e6f8fc7",
   "metadata": {},
   "outputs": [
    {
     "name": "stdout",
     "output_type": "stream",
     "text": [
      "25\n",
      "6.25\n"
     ]
    }
   ],
   "source": [
    "from typing import Union\n",
    "\n",
    "\n",
    "def calculate(value: Union[int, float]) -> float:\n",
    "    \"\"\"Принимает число (целое или дробное) и возвращает его квадрат.\"\"\"\n",
    "    return value ** 2\n",
    "print(calculate(5))\n",
    "print(calculate(2.5)) "
   ]
  },
  {
   "cell_type": "markdown",
   "id": "f806814b-1ce3-45b8-a8bd-9f1447ea51d1",
   "metadata": {},
   "source": [
    "### Optional — значение может быть None\n",
    "Optional[T] — сокращённая запись для Union[T, None], означающая, что значение может быть None.\n"
   ]
  },
  {
   "cell_type": "code",
   "execution_count": null,
   "id": "c2016ff0-5bee-480f-a440-9a5fed62afae",
   "metadata": {},
   "outputs": [],
   "source": [
    "from typing import Optional\n",
    "\n",
    "\n",
    "def get_user_name(user_id: int) -> Optional[str]:\n",
    "    \"\"\"Возвращает имя пользователя или None, если пользователь не найден.\"\"\"\n",
    "    users = {1: \"Alice\", 2: \"Bob\"}\n",
    "    return users.get(user_id)  # Может вернуть None\n",
    "\n",
    "\n",
    "print(get_user_name(1)) \n",
    "print(get_user_name(3)) \n"
   ]
  },
  {
   "cell_type": "markdown",
   "id": "fd821a73-10df-459d-8f82-decf7ff978bf",
   "metadata": {},
   "source": [
    "### Когда использовать Optional?\n",
    "* Если функция может не возвращать значение.\n",
    "* Если переменная может содержать объект или None.\n",
    "* Когда значение может отсутствовать (например, поиск в базе данных).\n"
   ]
  },
  {
   "cell_type": "markdown",
   "id": "25ac4a47-43d6-4b84-b3fa-641a5fcab3f7",
   "metadata": {},
   "source": [
    "### Union с оператором |\n",
    "В Python 3.10 появился более краткий синтаксис для аннотаций типов — вместо Union можно использовать оператор |.\n"
   ]
  },
  {
   "cell_type": "code",
   "execution_count": null,
   "id": "30118174-678d-49c3-ab25-7239a9b3e96e",
   "metadata": {},
   "outputs": [],
   "source": [
    "def calculate(value: int | float) -> float:\n",
    "    \"\"\"Принимает число (целое или дробное) и возвращает его квадрат.\"\"\"\n",
    "    return value ** 2\n",
    "\n",
    "\n",
    "print(calculate(5))\n",
    "print(calculate(2.5))\n"
   ]
  },
  {
   "cell_type": "markdown",
   "id": "ab9db40c-4908-426e-afaf-8fdae9d3d47a",
   "metadata": {},
   "source": [
    "### Аннотация Callable\n",
    "Callable используется для аннотирования аргументов или возвращаемого значения, если параметр должен быть функцией.\n"
   ]
  },
  {
   "cell_type": "code",
   "execution_count": null,
   "id": "52c89999-ea76-4a2c-b4cc-22ee43c3f059",
   "metadata": {},
   "outputs": [],
   "source": [
    "from typing import Callable\n",
    "\n",
    "\n",
    "def square(x: float) -> float:\n",
    "    return x * x\n",
    "\n",
    "\n",
    "def cube(x: float) -> float:\n",
    "    return x * x * x\n",
    "\n",
    "\n",
    "def apply_function(func: Callable, value: float) -> float:\n",
    "    return func(value)\n",
    "\n",
    "\n",
    "print(apply_function(square, 5))  \n",
    "print(apply_function(cube, 5)) "
   ]
  },
  {
   "cell_type": "markdown",
   "id": "e151e3b3-c3b7-4c70-82bf-5fde8c8154c9",
   "metadata": {},
   "source": [
    "## Передача неизменяемых и изменяемых объектов\n",
    "При передаче аргументов в функцию важно учитывать, являются ли они изменяемыми или неизменяемыми. Это влияет на то, будут ли изменения, внесённые в аргументы внутри функции, затрагивать оригинальные объекты.\n",
    "\n",
    "### Передача по значению и передача по ссылке\n",
    "В Python объекты передаются в функции по ссылке, но важно понимать, как это работает с изменяемыми и неизменяемыми типами.\n",
    "1. ***Передача по значению (копия)*** – это передача ссылки на объект, который нельзя изменить. Если объект изменяется внутри функции, создаётся новый объект, а оригинал остаётся неизменным.\n",
    "   * Применяется к неизменяемым (int, float, bool, str, tuple, frozenset).\n",
    "2. ***Передача по ссылке (оригинал изменяется)*** – это передача ссылки на объект, который можно изменить. Изменение внутри функции затрагивает сам объект.\n",
    "   * Применяется к изменяемым (list, dict, set).\n"
   ]
  },
  {
   "cell_type": "code",
   "execution_count": null,
   "id": "5bcb8a5d-bd1d-4942-8d30-91f59f084a48",
   "metadata": {},
   "outputs": [],
   "source": [
    "#Пример передачи по значению (копия, неизменяемый объект):\n",
    "def modify_value(n: int) -> None:\n",
    "    \"\"\"Изменяет значение переменной внутри функции (не влияет на оригинал).\"\"\"\n",
    "    print(f\"До изменения в функции: {n}, id: {id(n)}\")\n",
    "    n += 1  # Создаётся новый объект \n",
    "    print(f\"После изменения в функции: {n}, id: {id(n)}\")\n",
    "\n",
    "\n",
    "num = 10\n",
    "modify_value(num)\n",
    "print(f\"Вне функции: {num}, id: {id(num)}\")\n"
   ]
  },
  {
   "cell_type": "code",
   "execution_count": null,
   "id": "2716dc07-11ae-42b4-96ae-fccfafe5d23f",
   "metadata": {},
   "outputs": [],
   "source": [
    "#Пример передачи по ссылке (оригинал изменяется, изменяемый объект):\n",
    "def modify_list(lst: list) -> None:\n",
    "    \"\"\"Добавляет элемент в список (изменяет оригинальный объект).\"\"\"\n",
    "    print(f\"До изменения в функции: {lst}, id: {id(lst)}\")\n",
    "    lst.append(99)  # Изменение оригинального списка\n",
    "    print(f\"После изменения в функции: {lst}, id: {id(lst)}\")\n",
    "\n",
    "\n",
    "my_list = [1, 2, 3]\n",
    "modify_list(my_list)\n",
    "print(f\"Вне функции: {my_list}, id: {id(my_list)}\")\n"
   ]
  },
  {
   "cell_type": "markdown",
   "id": "afafc1a2-821a-4351-9280-9cc2579d211e",
   "metadata": {},
   "source": [
    "### Как избежать нежелательных изменений?\n",
    "Если необходимо передавать изменяемый объект, но не изменять его внутри функции, можно использовать:\n",
    "* Создание копии (copy()) для поверхностного копирования.\n",
    "* Использование deepcopy() для полного копирования вложенных структур.\n"
   ]
  },
  {
   "cell_type": "code",
   "execution_count": null,
   "id": "826878e5-5c32-4841-b1a4-7bd0c734e752",
   "metadata": {},
   "outputs": [],
   "source": [
    "def safe_modify_list(lst: list) -> list:\n",
    "    \"\"\"Работает с копией списка, оставляя оригинальный неизменным.\"\"\"\n",
    "    copy_lst = lst.copy()\n",
    "    copy_lst.append(99)\n",
    "    return copy_lst\n",
    "\n",
    "\n",
    "original_list = [1, 2, 3]\n",
    "new_list = safe_modify_list(original_list)\n",
    "print(f\"Оригинал: {original_list}\")\n",
    "print(f\"Копия: {new_list}\")\n"
   ]
  },
  {
   "cell_type": "code",
   "execution_count": null,
   "id": "89acb404-b8d2-4eb2-b61f-c61ed851f8d9",
   "metadata": {},
   "outputs": [],
   "source": [
    "#Какой результат будет выведен при выполнении следующего кода?\n",
    "def modify_string(text: str) -> str:\n",
    "    text += \"!\"\n",
    "    return text\n",
    "\n",
    "\n",
    "original = \"Hello\"\n",
    "modify_string(original)\n",
    "print(original)\n"
   ]
  },
  {
   "cell_type": "markdown",
   "id": "108a81e8-51b7-49b8-ac89-3c1eb7f2d610",
   "metadata": {},
   "source": [
    "# Практические задания  \n",
    "1. Обработка элементов списка функцией\n",
    "Напишите функцию, которая принимает другую функцию и список произвольных элементов. Примените переданную функцию ко всем элементам списка и верните новый список. Добавьте документацию и аннотации типов для всех параметров и возвращаемого значения.\n",
    "Данные:  \n",
    "`numbers = [1, 2, 3, 4, 5]`\n",
    "\n",
    "Пример вывода:  \n",
    "`[2, 4, 6, 8, 10]`\n"
   ]
  },
  {
   "cell_type": "code",
   "execution_count": null,
   "id": "28000343-e786-4095-93b3-89af4b14b4fd",
   "metadata": {},
   "outputs": [],
   "source": [
    "def apply_to_all(func: Callable, elements: list) -> list:\n",
    "    \"\"\"\n",
    "    Применяет переданную функцию ко всем элементам списка.\n",
    "\n",
    "\n",
    "    :param func: Функция, принимающая элемент списка и возвращающая обработанное значение.\n",
    "    :param elements: Список произвольных элементов.\n",
    "    :return: Новый список с результатами применения функции.\n",
    "    \"\"\"\n",
    "    return [func(num) for num in elements]\n",
    "\n",
    "\n",
    "\n",
    "\n",
    "numbers = [1, 2, 3, 4, 5]\n",
    "result = apply_to_all(lambda x: x * 2, numbers)\n",
    "print(result)\n"
   ]
  },
  {
   "cell_type": "code",
   "execution_count": null,
   "id": "65721ca1-3096-434d-997f-1f2429b844c4",
   "metadata": {},
   "outputs": [],
   "source": []
  }
 ],
 "metadata": {
  "kernelspec": {
   "display_name": "Python 3 (ipykernel)",
   "language": "python",
   "name": "python3"
  },
  "language_info": {
   "codemirror_mode": {
    "name": "ipython",
    "version": 3
   },
   "file_extension": ".py",
   "mimetype": "text/x-python",
   "name": "python",
   "nbconvert_exporter": "python",
   "pygments_lexer": "ipython3",
   "version": "3.12.4"
  }
 },
 "nbformat": 4,
 "nbformat_minor": 5
}
