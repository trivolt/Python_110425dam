{
 "cells": [
  {
   "cell_type": "markdown",
   "id": "8b292ba4-b35a-4e1b-a892-f1edb4fa8b9e",
   "metadata": {},
   "source": [
    "# Документация. Аннотации типов"
   ]
  },
  {
   "cell_type": "markdown",
   "id": "802c98c9-a8fb-4beb-8270-82297090b124",
   "metadata": {},
   "source": [
    "### Документация\n",
    "Документация — это описание кода, которое помогает разработчикам понимать, как работают функции и другие компоненты программы. Она делает код более понятным, облегчает его поддержку и расширение.  \n",
    "**Docstrings**  \n",
    "Docstrings (Документирующие строки) — это строки документации, заключённые в тройные кавычки (\"\"\" или '''), которые используются для описания функций и других компонентов. В отличие от комментариев, docstrings являются частью функции и могут быть получены через help().\n",
    "*Синтаксис:*  \n",
    "```\n",
    "def function_name(param1, param2):\n",
    "    \"\"\"\n",
    "    Описание функции.\n",
    "\n",
    "\n",
    "    :param param1: Описание первого параметра.\n",
    "    :param param2: Описание второго параметра.\n",
    "    :return: Описание возвращаемого значения.\n",
    "    \"\"\"\n",
    "    pass\n",
    "```"
   ]
  },
  {
   "cell_type": "code",
   "execution_count": null,
   "id": "3f633450-b27b-4a71-b403-dce7132cb32c",
   "metadata": {},
   "outputs": [],
   "source": [
    "def greet(name):\n",
    "    \"\"\"\n",
    "    Функция принимает имя и возвращает строку приветствия.\n",
    "    \n",
    "    :param name: Имя пользователя.\n",
    "    :return: Приветственное сообщение.\n",
    "    \"\"\"\n",
    "    return f\"Hello, {name}!\""
   ]
  },
  {
   "cell_type": "code",
   "execution_count": null,
   "id": "3384ab91-94cc-438e-8d6b-8aaab0fccb5e",
   "metadata": {},
   "outputs": [],
   "source": [
    "?greet"
   ]
  },
  {
   "cell_type": "markdown",
   "id": "01e54a43-d646-453d-b6ee-700bdd21f74c",
   "metadata": {},
   "source": [
    "### Функция help\n",
    "Функция help() используется для просмотра встроенной и пользовательской документации объектов, например функций. Она выводит docstrings объекта, если они определены.  \n",
    "*Синтаксис:*  \n",
    "help(object)  \n",
    "\n",
    "\n",
    "* object — любой объект Python, для которого нужно получить справку.\n",
    "* Если объект не указан, откроется интерактивный справочный режим.\n"
   ]
  },
  {
   "cell_type": "code",
   "execution_count": null,
   "id": "1de905a1-191e-4ec6-ace7-eccea05faa2f",
   "metadata": {},
   "outputs": [],
   "source": [
    "#1. Получение справки по пользовательской функции\n",
    "help(sum)"
   ]
  },
  {
   "cell_type": "code",
   "execution_count": null,
   "id": "b4fe6f48-6293-463e-9312-327dfb66ed7b",
   "metadata": {},
   "outputs": [],
   "source": [
    "#2. Просмотр документации пользовательской функции\n",
    "help(greet)"
   ]
  },
  {
   "cell_type": "code",
   "execution_count": null,
   "id": "b0307a31-8eaf-41e7-8fa7-eb0e21560f18",
   "metadata": {},
   "outputs": [],
   "source": [
    "#3. Получение списка методов объекта\n",
    "help(str)"
   ]
  },
  {
   "cell_type": "code",
   "execution_count": null,
   "id": "1e69a2c6-75aa-4960-a49b-4f71e5db9c9a",
   "metadata": {},
   "outputs": [],
   "source": [
    "#4. Вызов справки без аргументов\n",
    "# Если вызвать help() без аргумента, откроется интерактивный режим справки:\n",
    "# help()\n",
    "# После этого можно вводить имена объектов для получения информации.\n",
    "help()"
   ]
  },
  {
   "cell_type": "markdown",
   "id": "d2af28ef-9591-444b-916b-a73ea2bcbbfa",
   "metadata": {},
   "source": [
    "## Аннотации типов\n",
    "Аннотации типов — это механизм, позволяющий указывать ожидаемые типы аргументов и возвращаемого значения функции, а также типы переменных. Они помогают сделать код понятнее, повысить читаемость и упростить отладку, но не накладывают жёстких ограничений на типы данных.\n",
    "Python остаётся динамически типизированным языком, и аннотации типов не заставляют интерпретатор проверять соответствие типов во время выполнения.  \n",
    "### Зачем нужны аннотации типов?  \n",
    "* Упрощение понимания кода — легче понять, какие данные ожидаются на входе и выходе.  \n",
    "* Помощь в отладке — статический анализ (проверка кода без выполнения) может обнаружить потенциальные ошибки.  \n",
    "* Автодокументирование — IDE могут использовать аннотации для подсказок.\n",
    "  \n",
    "*Синтаксис:*  \n",
    "```\n",
    "def function_name(param1: type1, param2: type2, ...) -> return_type:\n",
    "    # тело функции\n",
    "    return value\n",
    "\n",
    "```\n",
    "`variable: type = value`\n",
    "\n",
    "\n",
    "* param1, param2 — имена параметров функции.\n",
    "* type1, type2, type — ожидаемые типы данных для соответствующих параметров или переменных.\n",
    "* -> return_type — аннотация типа возвращаемого значения.\n"
   ]
  },
  {
   "cell_type": "code",
   "execution_count": null,
   "id": "f702c069-ed09-4202-bfd6-0bb90c55287b",
   "metadata": {},
   "outputs": [],
   "source": [
    "def add(a: int, b: int) -> int:\n",
    "    return a + b\n",
    "\n",
    "\n",
    "num: int = 10"
   ]
  },
  {
   "cell_type": "markdown",
   "id": "5e68bb00-9c5b-4e54-aad8-fd8f9bcb18e6",
   "metadata": {},
   "source": [
    "* a: int — аргумент a должен быть целым числом.\n",
    "* b: int — аргумент b должен быть целым числом.\n",
    "* -> int — функция должна возвращать целое число.\n",
    "* num: int — в переменной можно хранить только целое число."
   ]
  },
  {
   "cell_type": "code",
   "execution_count": null,
   "id": "29391923-b90e-4a04-a6f0-1354ce4658d1",
   "metadata": {},
   "outputs": [],
   "source": [
    "#Аннотации не влияют на выполнение кода:\n",
    "def add(a: int, b: int) -> int:\n",
    "    return a + b\n",
    "\n",
    "\n",
    "print(add(3, 5))\n",
    "# не приведёт к ошибке, хотя переданы строки\n",
    "print(add(\"3\", \"5\"))\n"
   ]
  },
  {
   "cell_type": "markdown",
   "id": "5319103a-1b5c-4476-b49a-33392bbdf877",
   "metadata": {},
   "source": [
    "### Аннотации для базовых типов\n",
    "В большинстве случаев название аннотации совпадает с названием типа данных, который она обозначает. Это делает код интуитивно понятным и легко читаемым.\n"
   ]
  },
  {
   "cell_type": "code",
   "execution_count": null,
   "id": "5fbabe9b-dc1f-4485-a150-71dc5e64c1d0",
   "metadata": {},
   "outputs": [],
   "source": [
    "#1. Аннотация целых чисел (int)\n",
    "def factorial(n: int) -> int:\n",
    "    \"\"\"Возвращает факториал числа.\"\"\"\n",
    "    result = 1\n",
    "    for i in range(1, n + 1):\n",
    "        result *= i\n",
    "    return result"
   ]
  },
  {
   "cell_type": "code",
   "execution_count": null,
   "id": "0786c8f3-0d21-4b37-82d7-092cdda74e38",
   "metadata": {},
   "outputs": [],
   "source": [
    "#2. Аннотация чисел с плавающей точкой (float)\n",
    "def convert_to_celsius(fahrenheit: float) -> float:\n",
    "    \"\"\"Конвертирует температуру из градусов Фаренгейта в Цельсий.\"\"\"\n",
    "    return (fahrenheit - 32) * 5 / 9\n"
   ]
  },
  {
   "cell_type": "code",
   "execution_count": null,
   "id": "b7c92566-c670-4200-846f-d6584307740f",
   "metadata": {},
   "outputs": [],
   "source": [
    "#3. Аннотация строк (str)\n",
    "def greet(name: str) -> str:\n",
    "    \"\"\"Возвращает приветственное сообщение.\"\"\"\n",
    "    return f\"Hello, {name}!\"\n"
   ]
  },
  {
   "cell_type": "code",
   "execution_count": null,
   "id": "82e93e58-56d7-415f-ba41-79db7cabf9ba",
   "metadata": {},
   "outputs": [],
   "source": [
    "#4. Аннотация логических значений (bool)\n",
    "def is_even(number: int) -> bool:\n",
    "    \"\"\"Определяет, является ли число чётным.\"\"\"\n",
    "    return number % 2 == 0"
   ]
  },
  {
   "cell_type": "code",
   "execution_count": null,
   "id": "83dc3a93-11da-4b32-83af-6e8363cd6f46",
   "metadata": {},
   "outputs": [],
   "source": [
    "#5. Аннотация None (функция без возврата)\n",
    "def log_message(message: str) -> None:\n",
    "    \"\"\"Выводит сообщение в консоль, но не возвращает значения.\"\"\"\n",
    "    print(f\"LOG: {message}\")"
   ]
  },
  {
   "cell_type": "markdown",
   "id": "a48e9624-f3cd-4643-ac08-e0c40e315d56",
   "metadata": {},
   "source": [
    "## Аннотации для структур данных\n",
    "В Python 3.9+ можно аннотировать списки, кортежи, множества и словари просто указывая встроенные типы. Однако важно понимать, как именно указывать тип содержимого и какие особенности у разных структур.\n"
   ]
  },
  {
   "cell_type": "markdown",
   "id": "2afcedbd-0012-4e67-b171-89fc01638f25",
   "metadata": {},
   "source": [
    "### 1. Списки (list)  \n",
    "Синтаксис: `list[element_type]`\n",
    "* В скобках указывается тип элементов внутри списка.\n",
    "* Рекомендуется указывать тип содержимого.\n"
   ]
  },
  {
   "cell_type": "code",
   "execution_count": null,
   "id": "b64e79b2-bbfb-4c76-bda8-478ea556ea88",
   "metadata": {},
   "outputs": [],
   "source": [
    "def process_numbers(numbers: list[int]) -> list[int]:\n",
    "   # Список чисел\n",
    "   return [n ** 2 for n in numbers]\n"
   ]
  },
  {
   "cell_type": "markdown",
   "id": "4e13597e-8d17-43c8-bf92-7d00641ed16b",
   "metadata": {},
   "source": [
    "### 2. Кортежи (tuple)\n",
    "Синтаксис:  \n",
    "* Если кортеж содержит фиксированное число элементов: `tuple[type1, type2]`\n",
    "* Если длина кортежа не фиксирована: `tuple[element_type, ...]`\n"
   ]
  },
  {
   "cell_type": "code",
   "execution_count": null,
   "id": "9dd09d67-f5ac-410c-bf04-0272795a06aa",
   "metadata": {},
   "outputs": [],
   "source": [
    "def get_info() -> tuple[str, float]:\n",
    "   # Первый элемент str, второй элемент float\n",
    "    return \"Bob\", 4.91\n",
    "\n",
    "\n",
    "def variable_tuple() -> tuple[int, ...]:\n",
    "   # Кортеж произвольной длины, но только целые числа\n",
    "    return 5, 8, 2"
   ]
  },
  {
   "cell_type": "markdown",
   "id": "ddb8c22a-df39-466e-9bc5-46fd69a376ee",
   "metadata": {},
   "source": [
    "### 3. Множества (set)\n",
    "Синтаксис: `set[element_type]`\n",
    "* В скобках указывается тип всех элементов множества.\n",
    "* Рекомендуется указывать тип содержимого.\n"
   ]
  },
  {
   "cell_type": "code",
   "execution_count": null,
   "id": "4bd4d4f6-6911-4b9c-b9d3-5032e77ac723",
   "metadata": {},
   "outputs": [],
   "source": [
    "def unique_chars(text: str) -> set[str]:\n",
    "   # Множество уникальных символов\n",
    "    return set(text)"
   ]
  },
  {
   "cell_type": "markdown",
   "id": "105df5ed-4b25-4187-a480-8caebf2501d8",
   "metadata": {},
   "source": [
    "### 4. Замороженные множества (frozenset)\n",
    "Синтаксис: `frozenset[element_type]`  \n",
    "* Работает аналогично set, но создаёт неизменяемое множество.\n",
    "* Рекомендуется указывать тип содержимого.\n"
   ]
  },
  {
   "cell_type": "code",
   "execution_count": null,
   "id": "bde064cf-970b-479b-9ee6-caa5be77de1f",
   "metadata": {},
   "outputs": [],
   "source": [
    "def frozen_example() -> frozenset[int]:\n",
    "   # Множество уникальных чисел\n",
    "    return frozenset([1, 2, 3])"
   ]
  },
  {
   "cell_type": "markdown",
   "id": "8fcf8eed-c637-48c3-a3c8-51b26d14d659",
   "metadata": {},
   "source": [
    "### 5. Словари (dict)\n",
    "Синтаксис: `dict[key_type, value_type]`  \n",
    "* В скобках указываются типы ключей и значений.\n",
    "* Рекомендуется указывать типы содержимого.\n"
   ]
  },
  {
   "cell_type": "code",
   "execution_count": null,
   "id": "c1d77221-dcb8-49b4-95fa-aa23624b7e3e",
   "metadata": {},
   "outputs": [],
   "source": [
    "def count_words(text: str) -> dict[str, int]:\n",
    "    \"\"\"Принимает строку и возвращает словарь с подсчётом каждого слова.\"\"\"\n",
    "    words = text.split()\n",
    "   # Словарь, где ключи — строки, значения — целые числа\n",
    "    return {word: words.count(word) for word in words}"
   ]
  },
  {
   "cell_type": "markdown",
   "id": "619aba62-11d9-401a-a937-7ff9b80c0d42",
   "metadata": {},
   "source": [
    "### Коллекции без указания типов\n",
    "Если тип элементов в коллекции не важен или вы хотите создать коллекцию с элементами разных типов, типы можно не указывать.\n"
   ]
  },
  {
   "cell_type": "code",
   "execution_count": null,
   "id": "3cd9ad3e-3cab-4e2f-92d4-0cbb5441e43d",
   "metadata": {},
   "outputs": [],
   "source": [
    "# Тип элементов не указан\n",
    "def process_data(data: list) -> list:  \n",
    "    return [d for d in data if d]\n",
    "\n",
    "\n",
    "# Элементы должны быть числами\n",
    "def process_numbers(numbers: list[int]) -> list[int]:  \n",
    "    return [n ** 2 for n in numbers]\n"
   ]
  },
  {
   "cell_type": "markdown",
   "id": "090b8fa7-48db-4358-8c23-e2ae3703ec01",
   "metadata": {},
   "source": [
    "### Аннотация в старых версиях\n",
    "В версиях Python до 3.9 для аннотации структур данных использовались специальные классы из модуля typing:\n",
    "* List вместо list\n",
    "* Tuple вместо tuple\n",
    "* Set вместо set\n",
    "* FrozenSet вместо frozenset\n",
    "* Dict вместо dict\n"
   ]
  },
  {
   "cell_type": "code",
   "execution_count": null,
   "id": "180f3797-b1d7-456b-b392-8178db640564",
   "metadata": {},
   "outputs": [],
   "source": [
    "# Пример различий в аннотациях:\n",
    "# В Python 3.9+ (рекомендуется)\n",
    "def process_numbers(numbers: list[int]) -> list[int]:\n",
    "    return [n ** 2 for n in numbers]\n",
    "\n",
    "\n",
    "# В Python <3.9 (старый стиль)\n",
    "from typing import List\n",
    "\n",
    "\n",
    "def process_numbers_old(numbers: List[int]) -> List[int]:\n",
    "    return [n ** 2 for n in numbers]"
   ]
  },
  {
   "cell_type": "code",
   "execution_count": null,
   "id": "71dd034d-6899-4585-b8b2-60dcc6c0cecf",
   "metadata": {},
   "outputs": [],
   "source": [
    "# Найдите ошибку в коде и исправьте её\n",
    "def greet(name: str) -> str:\n",
    "    print(f\"Hello, {name}!\")\n",
    "\n",
    "\n",
    "result = greet(\"Alice\")\n",
    "print(result.upper())\n"
   ]
  },
  {
   "cell_type": "markdown",
   "id": "a482ca49-18ce-4a93-b91b-383f9372b563",
   "metadata": {},
   "source": [
    "## Аннотации Any, Union и Optional\n",
    "При аннотировании функций и переменных в Python бывают случаи, когда необходимо указывать разные возможные типы. Для этого используются Any, Union и Optional из модуля typing.  \n",
    "### Any — любой тип\n",
    "Any означает, что переменная или аргумент могут быть любого типа.\n"
   ]
  },
  {
   "cell_type": "code",
   "execution_count": null,
   "id": "841795aa-742b-47da-ab47-54d7a01d9949",
   "metadata": {},
   "outputs": [],
   "source": [
    "from typing import Any\n",
    "\n",
    "\n",
    "def process_data(data: Any) -> str:\n",
    "    \"\"\"Принимает данные любого типа и возвращает строку с их представлением.\"\"\"\n",
    "    return f\"Данные: {data}\"\n",
    "\n",
    "\n",
    "print(process_data(42)) \n",
    "print(process_data(\"Hello\")) \n",
    "print(process_data([1, 2, 3])) \n"
   ]
  },
  {
   "cell_type": "markdown",
   "id": "004b5b74-1ea7-43fe-ac81-6ef9fe394f27",
   "metadata": {},
   "source": [
    "### Union — несколько возможных типов\n",
    "Union позволяет указать, что переменная может содержать один из нескольких типов.\n"
   ]
  },
  {
   "cell_type": "code",
   "execution_count": null,
   "id": "b1cfecb9-f173-483f-b167-c2d47e6f8fc7",
   "metadata": {},
   "outputs": [],
   "source": [
    "from typing import Union\n",
    "\n",
    "\n",
    "def calculate(value: Union[int, float]) -> float:\n",
    "    \"\"\"Принимает число (целое или дробное) и возвращает его квадрат.\"\"\"\n",
    "    return value ** 2\n",
    "print(calculate(5))\n",
    "print(calculate(2.5)) "
   ]
  },
  {
   "cell_type": "markdown",
   "id": "f806814b-1ce3-45b8-a8bd-9f1447ea51d1",
   "metadata": {},
   "source": [
    "### Optional — значение может быть None\n",
    "Optional[T] — сокращённая запись для Union[T, None], означающая, что значение может быть None.\n"
   ]
  },
  {
   "cell_type": "code",
   "execution_count": null,
   "id": "c2016ff0-5bee-480f-a440-9a5fed62afae",
   "metadata": {},
   "outputs": [],
   "source": [
    "from typing import Optional\n",
    "\n",
    "\n",
    "def get_user_name(user_id: int) -> Optional[str]:\n",
    "    \"\"\"Возвращает имя пользователя или None, если пользователь не найден.\"\"\"\n",
    "    users = {1: \"Alice\", 2: \"Bob\"}\n",
    "    return users.get(user_id)  # Может вернуть None\n",
    "\n",
    "\n",
    "print(get_user_name(1)) \n",
    "print(get_user_name(3)) \n"
   ]
  },
  {
   "cell_type": "markdown",
   "id": "fd821a73-10df-459d-8f82-decf7ff978bf",
   "metadata": {},
   "source": [
    "### Когда использовать Optional?\n",
    "* Если функция может не возвращать значение.\n",
    "* Если переменная может содержать объект или None.\n",
    "* Когда значение может отсутствовать (например, поиск в базе данных).\n"
   ]
  },
  {
   "cell_type": "markdown",
   "id": "25ac4a47-43d6-4b84-b3fa-641a5fcab3f7",
   "metadata": {},
   "source": [
    "### Union с оператором |\n",
    "В Python 3.10 появился более краткий синтаксис для аннотаций типов — вместо Union можно использовать оператор |.\n"
   ]
  },
  {
   "cell_type": "code",
   "execution_count": null,
   "id": "30118174-678d-49c3-ab25-7239a9b3e96e",
   "metadata": {},
   "outputs": [],
   "source": [
    "def calculate(value: int | float) -> float:\n",
    "    \"\"\"Принимает число (целое или дробное) и возвращает его квадрат.\"\"\"\n",
    "    return value ** 2\n",
    "\n",
    "\n",
    "print(calculate(5))\n",
    "print(calculate(2.5))\n"
   ]
  },
  {
   "cell_type": "markdown",
   "id": "ab9db40c-4908-426e-afaf-8fdae9d3d47a",
   "metadata": {},
   "source": [
    "### Аннотация Callable\n",
    "Callable используется для аннотирования аргументов или возвращаемого значения, если параметр должен быть функцией.\n"
   ]
  },
  {
   "cell_type": "code",
   "execution_count": null,
   "id": "52c89999-ea76-4a2c-b4cc-22ee43c3f059",
   "metadata": {},
   "outputs": [],
   "source": [
    "from typing import Callable\n",
    "\n",
    "\n",
    "def square(x: float) -> float:\n",
    "    return x * x\n",
    "\n",
    "\n",
    "def cube(x: float) -> float:\n",
    "    return x * x * x\n",
    "\n",
    "\n",
    "def apply_function(func: Callable, value: float) -> float:\n",
    "    return func(value)\n",
    "\n",
    "\n",
    "print(apply_function(square, 5))  \n",
    "print(apply_function(cube, 5)) "
   ]
  },
  {
   "cell_type": "markdown",
   "id": "e151e3b3-c3b7-4c70-82bf-5fde8c8154c9",
   "metadata": {},
   "source": [
    "## Передача неизменяемых и изменяемых объектов\n",
    "При передаче аргументов в функцию важно учитывать, являются ли они изменяемыми или неизменяемыми. Это влияет на то, будут ли изменения, внесённые в аргументы внутри функции, затрагивать оригинальные объекты.\n",
    "\n",
    "### Передача по значению и передача по ссылке\n",
    "В Python объекты передаются в функции по ссылке, но важно понимать, как это работает с изменяемыми и неизменяемыми типами.\n",
    "1. ***Передача по значению (копия)*** – это передача ссылки на объект, который нельзя изменить. Если объект изменяется внутри функции, создаётся новый объект, а оригинал остаётся неизменным.\n",
    "   * Применяется к неизменяемым (int, float, bool, str, tuple, frozenset).\n",
    "2. ***Передача по ссылке (оригинал изменяется)*** – это передача ссылки на объект, который можно изменить. Изменение внутри функции затрагивает сам объект.\n",
    "   * Применяется к изменяемым (list, dict, set).\n"
   ]
  },
  {
   "cell_type": "code",
   "execution_count": null,
   "id": "5bcb8a5d-bd1d-4942-8d30-91f59f084a48",
   "metadata": {},
   "outputs": [],
   "source": [
    "#Пример передачи по значению (копия, неизменяемый объект):\n",
    "def modify_value(n: int) -> None:\n",
    "    \"\"\"Изменяет значение переменной внутри функции (не влияет на оригинал).\"\"\"\n",
    "    print(f\"До изменения в функции: {n}, id: {id(n)}\")\n",
    "    n += 1  # Создаётся новый объект \n",
    "    print(f\"После изменения в функции: {n}, id: {id(n)}\")\n",
    "\n",
    "\n",
    "num = 10\n",
    "modify_value(num)\n",
    "print(f\"Вне функции: {num}, id: {id(num)}\")\n"
   ]
  },
  {
   "cell_type": "code",
   "execution_count": null,
   "id": "2716dc07-11ae-42b4-96ae-fccfafe5d23f",
   "metadata": {},
   "outputs": [],
   "source": [
    "#Пример передачи по ссылке (оригинал изменяется, изменяемый объект):\n",
    "def modify_list(lst: list) -> None:\n",
    "    \"\"\"Добавляет элемент в список (изменяет оригинальный объект).\"\"\"\n",
    "    print(f\"До изменения в функции: {lst}, id: {id(lst)}\")\n",
    "    lst.append(99)  # Изменение оригинального списка\n",
    "    print(f\"После изменения в функции: {lst}, id: {id(lst)}\")\n",
    "\n",
    "\n",
    "my_list = [1, 2, 3]\n",
    "modify_list(my_list)\n",
    "print(f\"Вне функции: {my_list}, id: {id(my_list)}\")\n"
   ]
  },
  {
   "cell_type": "markdown",
   "id": "afafc1a2-821a-4351-9280-9cc2579d211e",
   "metadata": {},
   "source": [
    "### Как избежать нежелательных изменений?\n",
    "Если необходимо передавать изменяемый объект, но не изменять его внутри функции, можно использовать:\n",
    "* Создание копии (copy()) для поверхностного копирования.\n",
    "* Использование deepcopy() для полного копирования вложенных структур.\n"
   ]
  },
  {
   "cell_type": "code",
   "execution_count": null,
   "id": "826878e5-5c32-4841-b1a4-7bd0c734e752",
   "metadata": {},
   "outputs": [],
   "source": [
    "def safe_modify_list(lst: list) -> list:\n",
    "    \"\"\"Работает с копией списка, оставляя оригинальный неизменным.\"\"\"\n",
    "    copy_lst = lst.copy()\n",
    "    copy_lst.append(99)\n",
    "    return copy_lst\n",
    "\n",
    "\n",
    "original_list = [1, 2, 3]\n",
    "new_list = safe_modify_list(original_list)\n",
    "print(f\"Оригинал: {original_list}\")\n",
    "print(f\"Копия: {new_list}\")\n"
   ]
  },
  {
   "cell_type": "code",
   "execution_count": null,
   "id": "89acb404-b8d2-4eb2-b61f-c61ed851f8d9",
   "metadata": {},
   "outputs": [],
   "source": [
    "#Какой результат будет выведен при выполнении следующего кода?\n",
    "def modify_string(text: str) -> str:\n",
    "    text += \"!\"\n",
    "    return text\n",
    "\n",
    "\n",
    "original = \"Hello\"\n",
    "modify_string(original)\n",
    "print(original)\n"
   ]
  },
  {
   "cell_type": "markdown",
   "id": "108a81e8-51b7-49b8-ac89-3c1eb7f2d610",
   "metadata": {},
   "source": [
    "# Практические задания  \n",
    "1. Обработка элементов списка функцией\n",
    "Напишите функцию, которая принимает другую функцию и список произвольных элементов. Примените переданную функцию ко всем элементам списка и верните новый список. Добавьте документацию и аннотации типов для всех параметров и возвращаемого значения.\n",
    "Данные:  \n",
    "`numbers = [1, 2, 3, 4, 5]`\n",
    "\n",
    "Пример вывода:  \n",
    "`[2, 4, 6, 8, 10]`\n"
   ]
  },
  {
   "cell_type": "code",
   "execution_count": null,
   "id": "28000343-e786-4095-93b3-89af4b14b4fd",
   "metadata": {},
   "outputs": [],
   "source": [
    "def apply_to_all(func: Callable, elements: list) -> list:\n",
    "    \"\"\"\n",
    "    Применяет переданную функцию ко всем элементам списка.\n",
    "\n",
    "\n",
    "    :param func: Функция, принимающая элемент списка и возвращающая обработанное значение.\n",
    "    :param elements: Список произвольных элементов.\n",
    "    :return: Новый список с результатами применения функции.\n",
    "    \"\"\"\n",
    "    return [func(num) for num in elements]\n",
    "\n",
    "\n",
    "\n",
    "\n",
    "numbers = [1, 2, 3, 4, 5]\n",
    "result = apply_to_all(lambda x: x * 2, numbers)\n",
    "print(result)\n"
   ]
  },
  {
   "cell_type": "code",
   "execution_count": null,
   "id": "65721ca1-3096-434d-997f-1f2429b844c4",
   "metadata": {},
   "outputs": [],
   "source": []
  }
 ],
 "metadata": {
  "kernelspec": {
   "display_name": "Python 3 (ipykernel)",
   "language": "python",
   "name": "python3"
  },
  "language_info": {
   "codemirror_mode": {
    "name": "ipython",
    "version": 3
   },
   "file_extension": ".py",
   "mimetype": "text/x-python",
   "name": "python",
   "nbconvert_exporter": "python",
   "pygments_lexer": "ipython3",
   "version": "3.12.4"
  }
 },
 "nbformat": 4,
 "nbformat_minor": 5
}
