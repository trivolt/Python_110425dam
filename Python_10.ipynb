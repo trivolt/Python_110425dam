{
 "cells": [
  {
   "cell_type": "markdown",
   "id": "bc1cab9b-4d78-4060-bf60-76d7fa9ea74c",
   "metadata": {},
   "source": [
    "# Знакомство с коллекциями: списки"
   ]
  },
  {
   "cell_type": "markdown",
   "id": "9e8063d5-1f96-460b-8a91-8db5396617de",
   "metadata": {},
   "source": [
    "### Коллекции\n",
    "Коллекции — это структуры данных, которые позволяют хранить и организовывать множество элементов. В Python существует несколько встроенных типов коллекций, каждая из которых имеет свои особенности и подходит для различных задач.\n",
    "\n",
    "Напомним, что изменяемые типы данных — это такие структуры данных, которые позволяют изменять своё содержимое после создания объекта. Это означает, что можно добавлять, удалять или изменять элементы в существующем объекте, не создавая при этом новый объект. До сих пор мы встречались только с неизменяемыми объектами – числами и строками. Некоторые из коллекций в Python являются изменяемыми.\n",
    "\n"
   ]
  },
  {
   "cell_type": "markdown",
   "id": "78f0befd-5e27-4dfd-9d19-dd34cbda41ec",
   "metadata": {},
   "source": [
    "### Список (list)\n",
    "Список (list) — это упорядоченная изменяемая (mutable) коллекция, которая может содержать элементы любых типов. \n",
    "Список позволяет добавлять, удалять и изменять элементы, а также хранить их в определённом порядке. Это одна из самых универсальных и часто используемых структур данных в Python"
   ]
  },
  {
   "cell_type": "markdown",
   "id": "bd9ba8a0-fe09-43b5-ab15-7d61925a3a26",
   "metadata": {},
   "source": [
    "***Основные характеристики списка:***\n",
    "* Изменяемость: Элементы списка можно изменять после его создания.\n",
    "* Упорядоченность: Элементы списка хранятся в том порядке, в котором они были добавлены.\n",
    "* Поддержка дубликатов: Список может содержать повторяющиеся элементы.\n",
    "* Поддержка различных типов данных: Список может содержать элементы разных типов.\n",
    "* Индексация: К элементам списка можно обращаться по индексу."
   ]
  },
  {
   "cell_type": "code",
   "execution_count": null,
   "id": "2d6a77c8-2db0-4595-b807-4969cb5210b1",
   "metadata": {},
   "outputs": [],
   "source": [
    "fruits = [\"apple\", \"banana\", \"cherry\"]  # Список со строками\n",
    "print(fruits)  \n",
    "numbers = [1, 2, 3]  # Список с числами\n",
    "print(numbers)  \n"
   ]
  },
  {
   "cell_type": "markdown",
   "id": "9e12f5f9-abc0-4b8d-b8df-3374f9c57a47",
   "metadata": {},
   "source": [
    "### Хранение разных типов элементов в списке\n",
    "Список (list) является универсальной структурой данных, которая может хранить элементы разных типов данных. Это одно из главных преимуществ списков в Python: в одном списке могут находиться строки, числа, логические значения, другие списки и даже функции.\n"
   ]
  },
  {
   "cell_type": "code",
   "execution_count": null,
   "id": "ebc2f74c-5561-46b0-91e1-0c5e6f17f4cc",
   "metadata": {},
   "outputs": [],
   "source": [
    "mixed_list = [42, \"Python\", 3.14, True, [1, 2, 3]]\n",
    "print(mixed_list)\n"
   ]
  },
  {
   "cell_type": "markdown",
   "id": "f361e6a3-c3a7-48b1-826c-8142e4e5a89f",
   "metadata": {},
   "source": [
    "## Создание списков"
   ]
  },
  {
   "cell_type": "markdown",
   "id": "f64d8f75-a9f5-4383-8455-fe98455bd0e0",
   "metadata": {},
   "source": [
    "1. ***Создание списка с элементами***\n",
    "\n",
    "Список создаётся с использованием квадратных скобок [], а элементы внутри разделяются запятыми."
   ]
  },
  {
   "cell_type": "code",
   "execution_count": null,
   "id": "459ef50c-bd38-489e-9fca-0e25a590ee69",
   "metadata": {},
   "outputs": [],
   "source": [
    "my_list = [1, 2, 3, 4]\n",
    "print(my_list)\n"
   ]
  },
  {
   "cell_type": "markdown",
   "id": "40e987c3-b9bd-4673-9683-21c3d24118c0",
   "metadata": {},
   "source": [
    "2. ***Создание пустого списка***\n",
    " \n",
    "Для создания пустого списка используются квадратные скобки без элементов.\n"
   ]
  },
  {
   "cell_type": "code",
   "execution_count": null,
   "id": "4563a947-32e7-4181-83d0-e4402f1ed26d",
   "metadata": {},
   "outputs": [],
   "source": [
    "empty_list = []\n",
    "print(empty_list)\n"
   ]
  },
  {
   "cell_type": "code",
   "execution_count": null,
   "id": "8bdde20a-b128-46fe-98c8-3e6cfea5555f",
   "metadata": {},
   "outputs": [],
   "source": [
    "my_list = list()\n",
    "print(my_list)\n"
   ]
  },
  {
   "cell_type": "code",
   "execution_count": null,
   "id": "8ddb2b60-84fb-4347-866b-72dee36e850a",
   "metadata": {},
   "outputs": [],
   "source": [
    "#Какой результат будет выведен при выполнении следующего кода?\n",
    "my_list = list()\n",
    "print(my_list)\n"
   ]
  },
  {
   "cell_type": "markdown",
   "id": "6ad4991e-ad48-40da-9cd7-cb390b12b420",
   "metadata": {},
   "source": [
    "## Индексация списков\n",
    "Индексация — это процесс доступа к элементам списка по их позиции (индексу) внутри списка. Индексация, как и в строках, начинается с нуля для первого элемента и идёт последовательно для следующих элементов. Используя индексы, можно не только получить доступ к отдельным элементам, но изменить их или удалить.\n"
   ]
  },
  {
   "cell_type": "code",
   "execution_count": null,
   "id": "b663cb98-eadb-4065-b84a-919ac5acd992",
   "metadata": {},
   "outputs": [],
   "source": [
    "my_list = [\"apple\", \"banana\", \"cherry\", \"date\"]"
   ]
  },
  {
   "cell_type": "code",
   "execution_count": null,
   "id": "0f720e94-2d3f-4626-b817-85d63d1d3947",
   "metadata": {},
   "outputs": [],
   "source": [
    "print(my_list[0])"
   ]
  },
  {
   "cell_type": "code",
   "execution_count": null,
   "id": "fd85fadf-edd9-441d-864e-2b3db089b2e1",
   "metadata": {},
   "outputs": [],
   "source": [
    "print(my_list[3])"
   ]
  },
  {
   "cell_type": "code",
   "execution_count": null,
   "id": "c9ac3e16-3b9c-40c8-aca2-fa7e2ec87710",
   "metadata": {},
   "outputs": [],
   "source": [
    "print(my_list[-1])"
   ]
  },
  {
   "cell_type": "code",
   "execution_count": null,
   "id": "29535e3b-2352-49c6-b527-e6a184bfa2a2",
   "metadata": {},
   "outputs": [],
   "source": [
    "print(my_list[-4])"
   ]
  },
  {
   "cell_type": "markdown",
   "id": "7a03058a-031c-4fe4-a3da-665ce27e655a",
   "metadata": {},
   "source": [
    "## Срезы списков\n",
    "Срезы (slices) — это способ получения части списка (подсписка), без изменения исходного списка. Срезы позволяют выбрать элементы по индексу с указанием начала, конца и шага.\n"
   ]
  },
  {
   "cell_type": "markdown",
   "id": "d3f5c031-73f2-498e-a648-2a8eaf8ca994",
   "metadata": {},
   "source": [
    "***Основной синтаксис срезов:***\n",
    "`list[start:stop:step]`\n",
    "\n",
    "* start (необязательно) — индекс начала среза (включительно). По умолчанию — 0.\n",
    "* stop (обязательно) — индекс конца среза (не включительно).\n",
    "* step (необязательно) — шаг, с которым нужно выбирать элементы. По умолчанию — 1."
   ]
  },
  {
   "cell_type": "code",
   "execution_count": null,
   "id": "597e010a-1ba8-4759-8457-409eb4a788ce",
   "metadata": {},
   "outputs": [],
   "source": [
    "my_list = [0, 1, 2, 3, 4, 5, 6]\n"
   ]
  },
  {
   "cell_type": "code",
   "execution_count": null,
   "id": "693009e9-8708-4df5-a242-4abd6c8903c9",
   "metadata": {},
   "outputs": [],
   "source": [
    "# Срез с 1-го по 4-й элемент (не включительно)\n",
    "print(my_list[1:4])\n",
    "\n",
    "\n",
    "# Срез каждого второго элемента\n",
    "print(my_list[::2])\n",
    "\n",
    "\n",
    "# Срез каждого второго элемента в обратном порядке\n",
    "print(my_list[::-2])\n",
    "\n",
    "\n",
    "# Срез от 4-го элемента до начала\n",
    "print(my_list[4::-1])\n",
    "\n",
    "\n",
    "# Срез с 3-го элемента до конца\n",
    "print(my_list[3:])\n",
    "\n",
    "\n",
    "# Копия списка с помощью среза\n",
    "print(my_list[:])\n"
   ]
  },
  {
   "cell_type": "code",
   "execution_count": null,
   "id": "7c96fca2-cb1d-45d1-b9bf-713c3b6422a0",
   "metadata": {},
   "outputs": [],
   "source": [
    "my_list = [0, 1, 2, 3, 4, 5, 6]\n",
    "\n",
    "\n",
    "# Срез от -4-го до -1-го элемента\n",
    "print(my_list[-4:-1])\n",
    "\n",
    "\n",
    "# Срез от -2-го до -5-го элемента\n",
    "print(my_list[-2:-5:-1])\n",
    "\n",
    "\n",
    "# Срез списка в обратном порядке\n",
    "print(my_list[::-1])\n"
   ]
  },
  {
   "cell_type": "markdown",
   "id": "1bdae0b8-51dd-4f7e-938b-09d1d483b61e",
   "metadata": {},
   "source": [
    "## Изменение элементов списка\n",
    "### Изменение по индексу\n",
    "В Python элементы списка можно изменять напрямую, используя индексацию. Это одна из ключевых особенностей списков — они являются изменяемыми (mutable), что позволяет легко модифицировать содержимое списка, обращаясь к конкретным элементам по их индексу.\n"
   ]
  },
  {
   "cell_type": "code",
   "execution_count": null,
   "id": "3d7bd3b0-6a3a-4256-8b7b-2a550042bbf7",
   "metadata": {},
   "outputs": [],
   "source": [
    "my_list = [\"apple\", \"banana\", \"cherry\"]"
   ]
  },
  {
   "cell_type": "code",
   "execution_count": null,
   "id": "b20b9491-f3ba-4ca8-b237-e1b1153b3538",
   "metadata": {},
   "outputs": [],
   "source": [
    "# Изменим второй элемент (с индексом 1)\n",
    "my_list[1] = \"blueberry\"\n",
    "print(my_list) \n"
   ]
  },
  {
   "cell_type": "markdown",
   "id": "d5f7111d-47dd-4eb4-93ce-797b6a6e50a0",
   "metadata": {},
   "source": [
    "### Изменение по срезу\n",
    "Можно изменить сразу несколько элементов списка, используя индексацию срезов.\n"
   ]
  },
  {
   "cell_type": "code",
   "execution_count": null,
   "id": "9a99991f-171f-41d5-a47d-cc6e59eb8474",
   "metadata": {},
   "outputs": [],
   "source": [
    "my_list = [10, 20, 30, 40, 50]\n",
    "\n",
    "\n",
    "# Заменим второй и третий элементы\n",
    "my_list[1:3] = [200, 300]\n",
    "print(my_list) \n"
   ]
  },
  {
   "cell_type": "markdown",
   "id": "f9baabf3-b9f0-4873-b50c-4b5668857471",
   "metadata": {},
   "source": [
    "### Использование отрицательных индексов для изменения\n",
    "Отрицательные индексы можно использовать для изменения элементов списка с конца.\n"
   ]
  },
  {
   "cell_type": "code",
   "execution_count": null,
   "id": "4ea7b29c-efba-42ea-b705-a0c0a4a33c20",
   "metadata": {},
   "outputs": [],
   "source": [
    "my_list = [100, 200, 300, 400]\n",
    "\n",
    "\n",
    "# Заменим последний элемент\n",
    "my_list[-1] = 500\n",
    "print(my_list)\n"
   ]
  },
  {
   "cell_type": "code",
   "execution_count": null,
   "id": "904a10d8-50fe-42dc-be23-69cc4b233e56",
   "metadata": {},
   "outputs": [],
   "source": [
    "# 1. Какой результат будет выведен при выполнении следующего кода?\n",
    "my_list = [1, 2, 3, 4]\n",
    "print(my_list[2])\n"
   ]
  },
  {
   "cell_type": "code",
   "execution_count": null,
   "id": "34f90362-84e5-4813-a4f2-cec0fdba38ad",
   "metadata": {},
   "outputs": [],
   "source": [
    "#2. Какой результат будет выведен при выполнении следующего кода?\n",
    "my_list = [0, 1, 2, 3, 4, 5]\n",
    "print(my_list[::-1])"
   ]
  },
  {
   "cell_type": "code",
   "execution_count": null,
   "id": "5a4ceb71-a694-446b-9cb5-5cb8e6915723",
   "metadata": {},
   "outputs": [],
   "source": [
    "#3. Какое значение будет в списке my_list после выполнения следующего кода?\n",
    "my_list = [\"a\", \"b\", \"c\", \"d\"]\n",
    "my_list[1] = 0\n",
    "print(my_list)\n"
   ]
  },
  {
   "cell_type": "markdown",
   "id": "6531624b-5f60-4893-a7ed-089acb8bc6d4",
   "metadata": {},
   "source": [
    "## Операции со списками\n",
    "Списки в Python поддерживают множество операций, позволяющих изменять, объединять или проверять списки. Ниже приведены основные операции со списками.\n"
   ]
  },
  {
   "cell_type": "markdown",
   "id": "aae72a87-23b6-4e70-a6b9-8700332ebe4d",
   "metadata": {},
   "source": [
    "#### 1. Конкатенация списков (объединение)\n",
    "Списки можно объединять с помощью оператора +. Эта операция создаёт новый список, объединяя два или более списков.\n"
   ]
  },
  {
   "cell_type": "code",
   "execution_count": null,
   "id": "76da48fe-472e-44e4-acd6-b93e6bce2a65",
   "metadata": {},
   "outputs": [],
   "source": [
    "list1 = [1, 2, 3]\n",
    "list2 = [4, 5, 6]\n",
    "combined_list = list1 + list2\n",
    "print(combined_list) \n"
   ]
  },
  {
   "cell_type": "markdown",
   "id": "187c1985-26c3-44e7-836c-5a87e1da311d",
   "metadata": {},
   "source": [
    "#### 2. Повторение списка\n",
    "Список можно повторить несколько раз с помощью оператора *. Эта операция создаёт новый список, состоящий из повторённых элементов исходного списка."
   ]
  },
  {
   "cell_type": "code",
   "execution_count": null,
   "id": "2b3236dc-4548-42b3-a87a-440d13848b0e",
   "metadata": {},
   "outputs": [],
   "source": [
    "repeated_list = [0] * 5\n",
    "print(repeated_list)\n",
    "my_list = [1, 2, 3]\n",
    "repeated_list = my_list * 3\n",
    "print(repeated_list) \n"
   ]
  },
  {
   "cell_type": "markdown",
   "id": "027b0d63-e098-4aef-a392-cb9c319500bf",
   "metadata": {},
   "source": [
    "#### 3. Проверка на наличие элемента в списке\n",
    "С помощью оператора in можно проверить, содержится ли определённый элемент в списке."
   ]
  },
  {
   "cell_type": "code",
   "execution_count": null,
   "id": "ea2af105-7c85-4019-98cf-832d99d64e09",
   "metadata": {},
   "outputs": [],
   "source": [
    "my_list = [1, 2, 3, 4, 5]\n",
    "print(3 in my_list)\n",
    "print(6 in my_list)\n",
    "my_list = [\"apple\", \"banana\", \"cherry\"]\n",
    "print(\"apple\" in my_list)\n",
    "print(\"app\" in my_list)  # Ищет полное совпадение элемента"
   ]
  },
  {
   "cell_type": "markdown",
   "id": "70301437-5091-44a9-a99d-683b29021f39",
   "metadata": {},
   "source": [
    "#### 4. Длина списка\n",
    "Функция len() возвращает количество элементов в списке."
   ]
  },
  {
   "cell_type": "code",
   "execution_count": null,
   "id": "3d80c6d7-abe3-4dce-ab4b-f583344b01c8",
   "metadata": {},
   "outputs": [],
   "source": [
    "my_list = [1, 2, 3, 4, 5]\n",
    "print(len(my_list))\n"
   ]
  },
  {
   "cell_type": "markdown",
   "id": "e3f3c437-f12a-47d5-8d8d-c617caaeec41",
   "metadata": {},
   "source": [
    "## Преобразование в список\n",
    "Можно преобразовать строку или другую коллекцию в список с помощью функции list().\n"
   ]
  },
  {
   "cell_type": "code",
   "execution_count": null,
   "id": "b10b5464-5c3d-49bd-8f56-9956ccaebee6",
   "metadata": {},
   "outputs": [],
   "source": [
    "# Преобразование из строки:\n",
    "word = \"python\"\n",
    "my_list = list(word)  # Строка \"разбивается\" на отдельные символы\n",
    "print(my_list)\n",
    "print(type(my_list))\n"
   ]
  },
  {
   "cell_type": "code",
   "execution_count": null,
   "id": "602c18e9-b857-4300-8236-cb9f4a900927",
   "metadata": {},
   "outputs": [],
   "source": [
    "# Преобразование из объекта range:\n",
    "my_range = range(1, 11, 2)\n",
    "print(my_range)\n",
    "print(type(my_range))\n",
    "my_list = list(my_range)\n",
    "print(my_list)\n"
   ]
  },
  {
   "cell_type": "markdown",
   "id": "9d835b1e-9bd2-4f61-a3a3-f1dc0fa2bfaa",
   "metadata": {},
   "source": [
    "## Сравнение списков\n",
    "Списки можно сравнивать друг с другом с помощью операторов сравнения. Сравнение списков выполняется поэлементно, начиная с первого элемента, и продолжается до тех пор, пока не будет найдено различие или пока все элементы не будут проверены.\n"
   ]
  },
  {
   "cell_type": "code",
   "execution_count": null,
   "id": "1072af9c-7ee0-48d9-bb1e-3c0f224f86ff",
   "metadata": {},
   "outputs": [],
   "source": [
    "list1 = [1, 2, 3]\n",
    "list2 = [1, 2, 3]\n",
    "list3 = [1, 3, 0]\n",
    "\n",
    "\n",
    "# Сравнение на равенство\n",
    "print(list1 == list2)\n",
    "print(list1 == list3)\n",
    "\n",
    "\n",
    "# Сравнение на неравенство\n",
    "print(list1 != list2)\n",
    "print(list1 != list3)\n",
    "\n",
    "\n",
    "### Сравнение на больше/меньше, больше или равно/меньше или равно\n",
    "print(list1 < list2)\n",
    "print(list3 > list1)\n",
    "print(list1 <= list2)\n",
    "print(list1 >= list3)\n"
   ]
  },
  {
   "cell_type": "markdown",
   "id": "f93239d4-9cc1-4ae1-8a1d-9c871f8cd5b2",
   "metadata": {},
   "source": [
    "## Поддержка операции сравнения между типами\n",
    "Для корректного сравнения списков, элементы должны быть одного типа или поддерживать операцию сравнения между собой. Например, числа можно сравнивать с числами, строки — со строками. Если в списках присутствуют несравнимые типы данных (например, число и строка), это приведёт к ошибке TypeError.\n"
   ]
  },
  {
   "cell_type": "code",
   "execution_count": null,
   "id": "17acbe9e-a4e7-418b-ab57-0dc8c4dcd7c7",
   "metadata": {},
   "outputs": [],
   "source": [
    "#Пример корректного сравнения:\n",
    "list1 = [1, 2.6, 2]\n",
    "list2 = [1, 2, 3]\n",
    "\n",
    "\n",
    "# int и float можно сравнивать между собой\n",
    "print(list1 < list2)\n"
   ]
  },
  {
   "cell_type": "code",
   "execution_count": null,
   "id": "0b623d0b-4034-4f2f-8716-be9570b01537",
   "metadata": {},
   "outputs": [],
   "source": [
    "#Пример ошибки типов:\n",
    "list1 = [1, 2, \"apple\"]\n",
    "list2 = [1, 2, 3]\n",
    "\n",
    "\n",
    "# Попытка сравнить числовое значение с строкой вызовет ошибку TypeError\n",
    "print(list1 < list2)\n"
   ]
  },
  {
   "cell_type": "markdown",
   "id": "a20329be-0d68-47f7-a47c-e7f24f3a001c",
   "metadata": {},
   "source": [
    "#### Особенности поэлементного сравнения\n",
    "Важно учитывать, что при первом нахождении отличающихся элементов интерпретатор остановит сравнение. Поэтому если после них будут находиться несравнимые типы это не приведет к ошибке.\n"
   ]
  },
  {
   "cell_type": "code",
   "execution_count": null,
   "id": "8e841b6b-cbb2-45b0-9d6c-2fcca8383598",
   "metadata": {},
   "outputs": [],
   "source": [
    "list1 = [1, 2, \"apple\"]\n",
    "list2 = [1, 3, 10]\n",
    "\n",
    "\n",
    "print(list1 < list2)  # Вернёт True, так как 2 < 3, сравнение остановится до строки \"apple\"\n",
    "\n",
    "\n"
   ]
  },
  {
   "cell_type": "code",
   "execution_count": null,
   "id": "4daa72c0-b160-4606-a37e-6dc6426ba064",
   "metadata": {},
   "outputs": [],
   "source": [
    "# 1. Какой результат будет выведен при выполнении следующего кода?\n",
    "list1 = [1, 2, 3]\n",
    "list2 = [4, 5, 6]\n",
    "combined_list = list2 + list1\n",
    "print(combined_list)\n"
   ]
  },
  {
   "cell_type": "code",
   "execution_count": null,
   "id": "a51b7590-098c-4fed-a4cd-91d47f4ae4ad",
   "metadata": {},
   "outputs": [],
   "source": [
    "# 2. Какой результат будет выведен при выполнении следующего кода?\n",
    "my_list = [0] * 4\n",
    "print(my_list)\n"
   ]
  },
  {
   "cell_type": "code",
   "execution_count": null,
   "id": "3206559c-305b-4160-a891-eb1cf5cd439b",
   "metadata": {},
   "outputs": [],
   "source": [
    "# 3. Какой результат будет выведен при выполнении следующего кода?\n",
    "my_list = [1, 2, 3, 4, 5]\n",
    "print(6 in my_list)\n"
   ]
  },
  {
   "cell_type": "markdown",
   "id": "ba4798a2-b493-44ab-b066-81a8a5285260",
   "metadata": {},
   "source": [
    "## Цикл for со списками\n",
    "С помощью цикла for можно последовательно проходить через элементы коллекций. Python автоматически перебирает элементы коллекции по порядку, упрощая обработку данных.\n"
   ]
  },
  {
   "cell_type": "code",
   "execution_count": null,
   "id": "2d91b705-3750-4006-aee6-4a60eac39d89",
   "metadata": {},
   "outputs": [],
   "source": [
    "my_list = [1, 2, 3, 4, 5]\n",
    "\n",
    "\n",
    "for item in my_list:\n",
    "    print(item)\n"
   ]
  },
  {
   "cell_type": "markdown",
   "id": "ee9f7955-a911-495d-91f5-efc0e9d7f058",
   "metadata": {},
   "source": [
    "### Вложенный цикл for со списками\n",
    "Вложенные циклы for позволяют перебирать элементы списка, где каждый элемент сам по себе является итерируемым объектом, например, строкой. Внутренний цикл проходит по символам каждой строки.\n"
   ]
  },
  {
   "cell_type": "code",
   "execution_count": null,
   "id": "0e2f0025-602e-49e3-a4ba-af8f6c6911d4",
   "metadata": {},
   "outputs": [],
   "source": [
    "my_strings = [\"apple\", \"banana\", \"cherry\"]\n",
    "\n",
    "\n",
    "for word in my_strings:\n",
    "    for letter in word:\n",
    "        print(\"letter:\", letter)\n",
    "    print()\n"
   ]
  },
  {
   "cell_type": "code",
   "execution_count": null,
   "id": "6a9d8dea-af9b-435c-99b0-09f4e95d4196",
   "metadata": {},
   "outputs": [],
   "source": [
    "# 1. Какой результат будет выведен при выполнении следующего кода?\n",
    "my_strings = [\"cat\", \"dog\"]\n",
    "for word in my_strings:\n",
    "    for letter in word:\n",
    "        print(letter, end=\"\")\n",
    "    print(end=\" \")\n"
   ]
  },
  {
   "cell_type": "markdown",
   "id": "4465f91f-a238-4680-8e53-989e677a1029",
   "metadata": {},
   "source": [
    "# Практические задания\n",
    "1. Напишите программу, которая выводит список всех чисел от 0 до n (введённого пользователем) с шагом 3.\n"
   ]
  },
  {
   "cell_type": "markdown",
   "id": "fe418fee-bcea-4329-8cce-e47892a5eddd",
   "metadata": {},
   "source": [
    "Пример вывода:\n",
    "\n",
    "Введите число: 15\n",
    "\n",
    "[0, 3, 6, 9, 12, 15]"
   ]
  },
  {
   "cell_type": "code",
   "execution_count": null,
   "id": "fd2fbb03-4c73-4b3e-8b10-e91132c1df35",
   "metadata": {},
   "outputs": [],
   "source": [
    "n = int(input(\"Введите число: \"))\n",
    "numbers = list(range(0, n + 1, 3))\n",
    "print(numbers)\n"
   ]
  },
  {
   "cell_type": "markdown",
   "id": "a191a63b-b327-4af2-971c-0710ef9e0cf0",
   "metadata": {},
   "source": [
    "2. Напишите программу, которая обрабатывает список строк, состоящий из имён. Нужно вывести только те имена, длина которых больше средней длины имен в списке.\n",
    "Пример данных для обработки: names = [\"John\", \"Bob\", \"Alice\", \"Ann\", \"Mark\"]\n",
    "\n",
    "Пример вывода:\n",
    "\n",
    "Список имён: ['John', 'Bob', 'Alice', 'Anna', 'Mark']\n",
    "\n",
    "Имена длиннее средней длины: Alice\n"
   ]
  },
  {
   "cell_type": "code",
   "execution_count": null,
   "id": "0be68320-551a-4b69-8a23-a21a4a14e6ec",
   "metadata": {},
   "outputs": [],
   "source": [
    "names = [\"John\", \"Bob\", \"Alice\", \"Ann\", \"Mark\"]\n",
    "\n",
    "\n",
    "# Рассчитаем среднюю длину имён\n",
    "total_length = 0\n",
    "for name in names:\n",
    "    total_length += len(name)\n",
    "average_length = total_length / len(names)\n",
    "\n",
    "\n",
    "\n",
    "\n",
    "# Выводим имена, длина которых больше средней\n",
    "print(\"Список имён:\", names)\n",
    "print(\"Имена длиннее средней длины:\")\n",
    "for name in names:\n",
    "    if len(name) > average_length:\n",
    "        print(name)\n"
   ]
  },
  {
   "cell_type": "code",
   "execution_count": null,
   "id": "4fb4a49d-a365-42e9-bfe6-716aa1db8388",
   "metadata": {},
   "outputs": [],
   "source": []
  }
 ],
 "metadata": {
  "kernelspec": {
   "display_name": "Python 3 (ipykernel)",
   "language": "python",
   "name": "python3"
  },
  "language_info": {
   "codemirror_mode": {
    "name": "ipython",
    "version": 3
   },
   "file_extension": ".py",
   "mimetype": "text/x-python",
   "name": "python",
   "nbconvert_exporter": "python",
   "pygments_lexer": "ipython3",
   "version": "3.12.4"
  }
 },
 "nbformat": 4,
 "nbformat_minor": 5
}
