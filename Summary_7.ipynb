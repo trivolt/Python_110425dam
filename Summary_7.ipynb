{
 "cells": [
  {
   "cell_type": "markdown",
   "id": "4f4c9533-a0d5-474e-9f19-ce7fdcd18b22",
   "metadata": {},
   "source": [
    "# Summary 7"
   ]
  },
  {
   "cell_type": "code",
   "execution_count": 5,
   "id": "47ee77b5-2a86-466b-a073-c478683292e0",
   "metadata": {},
   "outputs": [
    {
     "name": "stdout",
     "output_type": "stream",
     "text": [
      "['hello', 'world', 2]\n"
     ]
    }
   ],
   "source": [
    "tpl = 'hello','world',2\n",
    "print(tpl)\n"
   ]
  },
  {
   "cell_type": "code",
   "execution_count": 6,
   "id": "fa4f555e-169c-48b2-9999-efcd9ef42b3c",
   "metadata": {},
   "outputs": [
    {
     "name": "stdout",
     "output_type": "stream",
     "text": [
      "1 Иван Иванов\n",
      "78 Федор Федоров\n"
     ]
    }
   ],
   "source": [
    "table = [(1,'Иван','Иванов'),(78,'Федор',\"Федоров\")]\n",
    "\n",
    "for id, name, surname in table:\n",
    "    print(id, name,surname)"
   ]
  },
  {
   "cell_type": "code",
   "execution_count": 8,
   "id": "3fd371d9-7c2a-465d-b62b-897868e35311",
   "metadata": {},
   "outputs": [
    {
     "name": "stdout",
     "output_type": "stream",
     "text": [
      "1 Иван Иванов\n",
      "78 Федор Федоров\n"
     ]
    }
   ],
   "source": [
    "table = [(1,'Иван','Иванов'),(78,'Федор',\"Федоров\")]\n",
    "\n",
    "for item in table:\n",
    "    print(item[0],item[1],item[2])"
   ]
  },
  {
   "cell_type": "code",
   "execution_count": 10,
   "id": "bc9351fd-825e-44a2-90c1-bb1799347564",
   "metadata": {},
   "outputs": [
    {
     "name": "stdout",
     "output_type": "stream",
     "text": [
      "1\n",
      "['Иван', 'Иванов']\n"
     ]
    }
   ],
   "source": [
    "id, *fio = (1,'Иван','Иванов')\n",
    "\n",
    "print(id)\n",
    "print(fio)"
   ]
  },
  {
   "cell_type": "code",
   "execution_count": 13,
   "id": "754425dd-e106-46cf-bcac-afb5809289ae",
   "metadata": {},
   "outputs": [
    {
     "name": "stdout",
     "output_type": "stream",
     "text": [
      "10\n",
      "[1, 2, 3, 4]\n",
      "None\n"
     ]
    }
   ],
   "source": [
    "lst = [1,2,3,4]\n",
    "\n",
    "s = sum(lst)\n",
    "print(s)\n",
    "\n",
    "print(lst)\n",
    "\n",
    "g = lst.reverse()\n",
    "print(g)"
   ]
  },
  {
   "cell_type": "markdown",
   "id": "bb84edcc-b88f-4cb4-8460-659b1f61f7a8",
   "metadata": {},
   "source": [
    "## Домашнее задание 13\n",
    "1.***Прогрессия увеличения***   \n",
    "Напишите программу, которая создаёт новый кортеж, состоящий из элементов изначального в том же порядке. Добавить в него только элементы, которые больше всех предыдущих значений в исходном кортеже.  \n",
    "*Данные:*  \n",
    "`numbers = (3, 7, 2, 8, 5, 10, 1)`  \n",
    "\n",
    "*Пример вывода:*  \n",
    "Кортеж по возрастанию: (3, 7, 8, 10) \n"
   ]
  },
  {
   "cell_type": "code",
   "execution_count": null,
   "id": "6815ccc8-2d90-481b-ac3a-84d37030b36f",
   "metadata": {},
   "outputs": [],
   "source": [
    "numbers = (3, 7, 2, 8, 5, 10, 1)\n",
    "result = numbers[:1]\n",
    "\n",
    "for num in numbers[1:]:\n",
    "    if num > result[-1]:\n",
    "        result += (num,)\n",
    "        \n",
    "print(\"Кортеж по возрастанию:\", result)"
   ]
  },
  {
   "cell_type": "markdown",
   "id": "dbd7e4f1-1713-4eb1-9504-fab6ca69ac59",
   "metadata": {},
   "source": [
    "2. ***Длины слов в предложении***  \n",
    "Напишите программу, которая принимает строку от пользователя и разбивает ее на отдельные слова. Затем программа должна создать новый кортеж, содержащий длину каждого слова в исходной строке. Используйте методы строк и кортежей для обработки данных.  \n",
    "\n",
    "*Пример вывода:*  \n",
    "\n",
    "Введите предложение: Программирование это интересно и полезно  \n",
    "Длины слов в предложении: (15, 3, 8, 2, 6)   \n"
   ]
  },
  {
   "cell_type": "code",
   "execution_count": 15,
   "id": "9a19c697-3c95-46ce-b52d-9772fbd4ba00",
   "metadata": {},
   "outputs": [
    {
     "name": "stdout",
     "output_type": "stream",
     "text": [
      "[16, 3, 9, 1, 7]\n"
     ]
    }
   ],
   "source": [
    "str = 'Программирование это интересно и полезно'\n",
    "\n",
    "res = []\n",
    "lst = str.split()\n",
    "for word in lst:\n",
    "    res.append(len(word))\n",
    "\n",
    "print(res)"
   ]
  },
  {
   "cell_type": "markdown",
   "id": "7c632591-1f6f-476f-8a87-d9c99732a7fd",
   "metadata": {},
   "source": [
    "## Домашнее задание 14  \n",
    "1.***Буква в начале, цифра в конце***  \n",
    "Напишите программу, которая создает новый список. В него необходимо добавить только те строки из исходного списка, которые начинаются с буквы, а заканчиваются цифрой.  \n",
    "*Данные:*  \n",
    "`strings = [\"apple23\", \"ban1ana45\", \"12cherry\", \"grape3\", \"blue23berry\"]`  \n",
    "*Пример вывода:*  \n",
    "Строки с буквами в начале, цифрами в конце: `['apple23', 'ban1ana45', 'grape3']`\n"
   ]
  },
  {
   "cell_type": "code",
   "execution_count": 16,
   "id": "bd0a3d2e-ed49-49bf-9800-5ca3b158a545",
   "metadata": {},
   "outputs": [
    {
     "name": "stdout",
     "output_type": "stream",
     "text": [
      "['apple23', 'ban1ana45', 'grape3']\n"
     ]
    }
   ],
   "source": [
    "strings = [\"apple23\", \"ban1ana45\", \"12cherry\", \"grape3\", \"blue23berry\"]\n",
    "res = []\n",
    "\n",
    "for string in strings:\n",
    "    if string[0].isalpha() and string[-1].isdigit():\n",
    "        res.append(string)\n",
    "\n",
    "print(res)\n",
    "        "
   ]
  },
  {
   "cell_type": "markdown",
   "id": "6cc623e1-cc9c-4e31-8de6-705b98888ae2",
   "metadata": {},
   "source": [
    "2.***Удаление кратных***  \n",
    "Напишите программу, которая удаляет из списка все значения, кратные числу, которое вводится пользователем.  \n",
    "*Данные:*  \n",
    "`numbers = [1, 3, 6, 9, 10, 12, 15, 19, 20]`  \n",
    "*Пример вывода:*  \n",
    "Введите число для удаления кратных ему элементов: 3  \n",
    "Список без кратных значений: `[1, 10, 19, 20]`\n"
   ]
  },
  {
   "cell_type": "code",
   "execution_count": 17,
   "id": "90278bb9-b131-4f4e-aafc-5a3008a69beb",
   "metadata": {},
   "outputs": [
    {
     "name": "stdout",
     "output_type": "stream",
     "text": [
      "[1, 10, 19, 20]\n"
     ]
    }
   ],
   "source": [
    "numbers = [1, 3, 6, 9, 10, 12, 15, 19, 20]\n",
    "k=3\n",
    "res = []\n",
    "\n",
    "for num in numbers:\n",
    "    if num % k != 0:\n",
    "        res.append(num)\n",
    "\n",
    "numbers = res\n",
    "\n",
    "print(numbers)\n",
    "    "
   ]
  },
  {
   "cell_type": "markdown",
   "id": "564dbbe8-bbf7-4cbb-bbce-cc6c6ebcd8af",
   "metadata": {},
   "source": [
    "## ПОЛЕЗНО!!!"
   ]
  },
  {
   "cell_type": "markdown",
   "id": "dbc479a4-f70f-4c78-ba91-0d3f6702393f",
   "metadata": {},
   "source": [
    "Имеется структура данных cook_book, в которой хранится информация об ингредиентах блюд и их количестве в расчете на одну порцию и переменная, в которой хранится количество людей, на которых необходимо приготовить данные блюда:"
   ]
  },
  {
   "cell_type": "code",
   "execution_count": null,
   "id": "102ff9df-d425-4d7a-b626-cc8b0ae6e3cd",
   "metadata": {},
   "outputs": [],
   "source": [
    "cook_book = [\n",
    "  ['салат',\n",
    "      [\n",
    "        ['картофель', 100, 'гр.'],\n",
    "        ['морковь', 50, 'гр.'],\n",
    "        ['огурцы', 50, 'гр.'],\n",
    "        ['горошек', 30, 'гр.'],\n",
    "        ['майонез', 70, 'мл.'],\n",
    "      ]\n",
    "  ],\n",
    "  ['пицца',  \n",
    "      [\n",
    "        ['сыр', 50, 'гр.'],\n",
    "        ['томаты', 50, 'гр.'],\n",
    "        ['тесто', 100, 'гр.'],\n",
    "        ['бекон', 30, 'гр.'],\n",
    "        ['колбаса', 30, 'гр.'],\n",
    "        ['грибы', 20, 'гр.'],\n",
    "      ],\n",
    "  ],\n",
    "  ['фруктовый десерт',\n",
    "      [\n",
    "        ['хурма', 60, 'гр.'],\n",
    "        ['киви', 60, 'гр.'],\n",
    "        ['творог', 60, 'гр.'],\n",
    "        ['сахар', 10, 'гр.'],\n",
    "        ['мед', 50, 'мл.'],  \n",
    "      ]\n",
    "  ]\n",
    "]\n"
   ]
  },
  {
   "cell_type": "code",
   "execution_count": null,
   "id": "397b4c2b-160b-4dca-b00c-960035efdf03",
   "metadata": {},
   "outputs": [],
   "source": [
    "person = int(input())"
   ]
  },
  {
   "cell_type": "markdown",
   "id": "dbcacffb-4998-4b38-9518-3a65149afa8f",
   "metadata": {},
   "source": [
    "Необходимо вывести пользователю список покупок необходимого количества ингредиентов для приготовления блюд на определенное число персон в следующем виде:\n",
    "\n",
    "Салат:  \n",
    "картофель, 500гр.    \n",
    "морковь, 250гр.  \n",
    "огурцы, 250гр.  \n",
    "горошек, 150гр.  \n",
    "майонез, 350мл.  \n",
    "\n",
    "Пицца:  \n",
    "сыр, 250гр.  \n",
    "томаты, 250гр.  \n",
    "тесто, 500гр.  \n",
    "бекон, 150гр.  \n",
    "колбаса, 150гр.  \n",
    "грибы, 100гр.  \n",
    "\n",
    "Фруктовый десерт:  \n",
    "хурма, 300гр.  \n",
    "киви, 300гр.  \n",
    "творог, 300гр.  \n",
    "сахар, 50гр.  \n",
    "мед, 250мл.  "
   ]
  },
  {
   "cell_type": "code",
   "execution_count": null,
   "id": "a78d8c87-9599-47e8-b2ff-7beaa6dabeb5",
   "metadata": {},
   "outputs": [],
   "source": []
  }
 ],
 "metadata": {
  "kernelspec": {
   "display_name": "Python 3 (ipykernel)",
   "language": "python",
   "name": "python3"
  },
  "language_info": {
   "codemirror_mode": {
    "name": "ipython",
    "version": 3
   },
   "file_extension": ".py",
   "mimetype": "text/x-python",
   "name": "python",
   "nbconvert_exporter": "python",
   "pygments_lexer": "ipython3",
   "version": "3.12.4"
  }
 },
 "nbformat": 4,
 "nbformat_minor": 5
}
