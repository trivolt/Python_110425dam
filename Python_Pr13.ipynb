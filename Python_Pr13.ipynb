{
 "cells": [
  {
   "cell_type": "markdown",
   "id": "e61d2240-15fc-4548-88f7-4178952999bd",
   "metadata": {},
   "source": [
    "# Практические задания 13\n",
    "* Лекция 26 - Работа с файловой системой\n",
    "* Лекция 27 - Основы работы с файлами\n"
   ]
  },
  {
   "cell_type": "markdown",
   "id": "3be7dd98-ce98-4bbb-b94a-be41e95c69df",
   "metadata": {},
   "source": [
    "### Анализ продаж по категориям и датам\n",
    "Напишите программу, которая обрабатывает текстовый файл с данными о продажах.  \n",
    "Используйте файл sales_data.txt.  \n",
    "**Программа должна:**  \n",
    "1. ***Принимать аргументы командной строки:***  \n",
    "`python sales_report.py <input_file> <output_directory>`\n",
    "Где:  \n",
    "   * <input_file> — путь к входному файлу с продажами.  \n",
    "   * <output_directory> — папка, куда будут сохранены отчёты.  \n",
    "2. ***Считать данные из текстового файла, в котором каждая строка содержит информацию в следующем формате:***  \n",
    "`имя,дата,сумма,категория,город`  \n",
    "Пример входных данных:\n",
    "```\n",
    "Olivia Suarez,2024-08-02,4565,Electronics,Dallas\n",
    "Jennifer Jacobs,2023-08-19,4963,Automotive,London\n",
    "Erin Johnson,2024-08-29,1796,Clothing,Miami\n",
    "```\n",
    "3. ***Сгруппировать данные по годам и месяцам, создавая для каждого года и месяца отдельную папку в указанной директории.\n",
    "Создать общий отчёт по каждому месяцу (monthly_report.txt), в котором указана суммарная выручка по каждой категории и общая сумма:***\n",
    "```\n",
    "Automotive,109539\n",
    "Books,133160\n",
    "Clothing,102001\n",
    "Electronics,79403\n",
    "Groceries,104387\n",
    "Home Appliances,99911\n",
    "Sports,78782\n",
    "Full,707183\n",
    "```\n",
    "4. ***Создать файлы для каждой категории товаров, в которых должны быть указаны все продажи по данной категории в формате:***  \n",
    "`дата,имя продавца,сумма`  \n",
    "Пример файла Electronics.txt:\n",
    "```\n",
    "2025-02-01,Cynthia Maddox,538\n",
    "2025-02-01,Kendra Martinez,3799\n",
    "2025-02-02,Rachel Miller,1097\n",
    "```\n",
    "5. ***Все записи в файле должны быть отсортированы по дате.***  \n",
    "Пример запуска программы  \n",
    "`python sales_report.py data/sales_data.txt reports`  \n",
    "Пример созданной структуры\n",
    "```\n",
    "reports/\n",
    "├── 2024/\n",
    "│   ├── 12/\n",
    "│   │   ├── monthly_report.txt\n",
    "│   │   ├── Automotive.txt\n",
    "├── 2025/\n",
    "│   ├── 01/\n",
    "│   │   ├── monthly_report.txt\n",
    "│   │   ├── Clothing.txt\n",
    "│   │   ├── Electronics.txt\n",
    "│   ├── 02/\n",
    "│   │   ├── monthly_report.txt\n",
    "│   │   ├── Groceries.txt\n",
    "│   │   ├── Sports.txt\n",
    "```"
   ]
  },
  {
   "cell_type": "code",
   "execution_count": null,
   "id": "16386da5-1fa7-4047-8389-be0b9e00be76",
   "metadata": {},
   "outputs": [],
   "source": []
  },
  {
   "cell_type": "code",
   "execution_count": null,
   "id": "8833f69d-6363-4116-8564-53f963089202",
   "metadata": {},
   "outputs": [],
   "source": []
  }
 ],
 "metadata": {
  "kernelspec": {
   "display_name": "Python 3 (ipykernel)",
   "language": "python",
   "name": "python3"
  },
  "language_info": {
   "codemirror_mode": {
    "name": "ipython",
    "version": 3
   },
   "file_extension": ".py",
   "mimetype": "text/x-python",
   "name": "python",
   "nbconvert_exporter": "python",
   "pygments_lexer": "ipython3",
   "version": "3.12.4"
  }
 },
 "nbformat": 4,
 "nbformat_minor": 5
}
