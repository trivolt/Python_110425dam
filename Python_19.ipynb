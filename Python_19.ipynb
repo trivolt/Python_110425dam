{
 "cells": [
  {
   "cell_type": "markdown",
   "id": "1ed349ef-e68f-4226-93ab-0b153dfe7f36",
   "metadata": {},
   "source": [
    "# Словари: продолжение"
   ]
  },
  {
   "cell_type": "code",
   "execution_count": 39,
   "id": "86d3f74b-b5d6-4bf2-b6ae-4cc357979413",
   "metadata": {},
   "outputs": [
    {
     "name": "stdout",
     "output_type": "stream",
     "text": [
      "name Alice\n",
      "age 30\n",
      "city New York\n"
     ]
    }
   ],
   "source": [
    "dct = {'name': 'Alice', 'age': 30, 'city': 'New York'}\n",
    "\n",
    "for key in dct:\n",
    "    print(key, dct[key])"
   ]
  },
  {
   "cell_type": "code",
   "execution_count": 40,
   "id": "0c556322-023b-400e-8bdc-cd09c78cdddd",
   "metadata": {},
   "outputs": [
    {
     "name": "stdout",
     "output_type": "stream",
     "text": [
      "{'name': 'Bob', 'age': 30, 'city': 'New York'}\n"
     ]
    }
   ],
   "source": [
    "dct['name'] = 'Bob'\n",
    "print(dct)"
   ]
  },
  {
   "cell_type": "code",
   "execution_count": 41,
   "id": "50c969eb-fa3f-4f8c-9efc-c92977575e60",
   "metadata": {},
   "outputs": [
    {
     "ename": "KeyError",
     "evalue": "'lastname'",
     "output_type": "error",
     "traceback": [
      "\u001b[1;31m---------------------------------------------------------------------------\u001b[0m",
      "\u001b[1;31mKeyError\u001b[0m                                  Traceback (most recent call last)",
      "Cell \u001b[1;32mIn[41], line 1\u001b[0m\n\u001b[1;32m----> 1\u001b[0m \u001b[38;5;28mprint\u001b[39m(dct[\u001b[38;5;124m'\u001b[39m\u001b[38;5;124mlastname\u001b[39m\u001b[38;5;124m'\u001b[39m])\n",
      "\u001b[1;31mKeyError\u001b[0m: 'lastname'"
     ]
    }
   ],
   "source": [
    "print(dct['lastname'])"
   ]
  },
  {
   "cell_type": "code",
   "execution_count": 42,
   "id": "ed47213d-fe60-41e5-93b0-94c909f148fc",
   "metadata": {},
   "outputs": [
    {
     "name": "stdout",
     "output_type": "stream",
     "text": [
      "{'name': 'Bob', 'age': 30, 'city': 'New York', 'lastname': 'Fam'}\n"
     ]
    }
   ],
   "source": [
    "dct['lastname'] = 'Fam'\n",
    "print(dct)"
   ]
  },
  {
   "cell_type": "code",
   "execution_count": 43,
   "id": "a069a2c3-0b6e-4c3a-99fd-50cead75d8f5",
   "metadata": {},
   "outputs": [
    {
     "name": "stdout",
     "output_type": "stream",
     "text": [
      "{'name': 'Bob', 'age': 30, 'city': 'New York'}\n"
     ]
    }
   ],
   "source": [
    "del dct['lastname']\n",
    "print(dct)"
   ]
  },
  {
   "cell_type": "code",
   "execution_count": null,
   "id": "afe885c0-deb3-4a2b-9257-4db05409b872",
   "metadata": {},
   "outputs": [],
   "source": []
  },
  {
   "cell_type": "markdown",
   "id": "6626dde3-60b5-488d-9670-e3feb8907e58",
   "metadata": {},
   "source": [
    "## Методы словарей: fromkeys, get, setdefault  \n",
    "### Метод fromkeys  \n",
    "Метод fromkeys() позволяет создавать словарь, где указанным ключам присваивается одинаковое значение.  \n",
    "***Синтаксис:***  \n",
    "`dict.fromkeys(iterable, value)`  \n",
    "\n",
    "\n",
    "* dict — встроенный тип данных, представляющий собой словарь.  \n",
    "* iterable — коллекция ключей, которые будут использованы для создания словаря.  \n",
    "* value — значение, которое будет присвоено каждому ключу. Если значение не указано, по умолчанию используется None.\n"
   ]
  },
  {
   "cell_type": "markdown",
   "id": "d8cf14e6-f1b3-4fad-b6e1-24ee9a9ca4c5",
   "metadata": {},
   "source": [
    "#### 1. Создание словаря с неизменяемыми значениями:"
   ]
  },
  {
   "cell_type": "code",
   "execution_count": 44,
   "id": "5b4fb943-37ba-4fe5-831b-ef4b7df3def3",
   "metadata": {},
   "outputs": [
    {
     "name": "stdout",
     "output_type": "stream",
     "text": [
      "{'x': None, 'y': None, 'z': None}\n"
     ]
    }
   ],
   "source": [
    "# Создание словаря без указания значения\n",
    "keys = [\"x\", \"y\", \"z\"]\n",
    "my_dict = dict.fromkeys(keys)  # Каждому ключу присваивается значение `None`\n",
    "print(my_dict)\n"
   ]
  },
  {
   "cell_type": "code",
   "execution_count": 46,
   "id": "5dd5ee87-df77-47b9-a43f-08869563bd25",
   "metadata": {},
   "outputs": [
    {
     "name": "stdout",
     "output_type": "stream",
     "text": [
      "{1: 'default', 2: 'default', 3: 'default'}\n"
     ]
    }
   ],
   "source": [
    "# Создание словаря с переданным значением\n",
    "keys = [1, 2, 3]\n",
    "my_dict = dict.fromkeys(keys, \"default\")  # Каждому ключу присваивается переданное значение\n",
    "print(my_dict)\n"
   ]
  },
  {
   "cell_type": "markdown",
   "id": "8775b914-6e0e-4b0a-a9e6-6c070855ed25",
   "metadata": {},
   "source": [
    "#### 2. Создание словаря с изменяемыми значениями:\n",
    "При создании словаря с использованием изменяемого значения (например, списка) следует быть осторожным, так как все ключи будут ссылаться на один и тот же объект.\n"
   ]
  },
  {
   "cell_type": "code",
   "execution_count": 47,
   "id": "b740bb70-5392-4aa8-a24a-9db5c39dc5f5",
   "metadata": {},
   "outputs": [
    {
     "name": "stdout",
     "output_type": "stream",
     "text": [
      "{'a': [1], 'b': [1], 'c': [1]}\n"
     ]
    }
   ],
   "source": [
    "keys = [\"a\", \"b\", \"c\"]\n",
    "shared_list = []\n",
    "my_dict = dict.fromkeys(keys, shared_list) # {'a':[], 'b':[] , ...}\n",
    "my_dict[\"a\"].append(1)  # Изменит общий для всех словарь\n",
    "print(my_dict)"
   ]
  },
  {
   "cell_type": "markdown",
   "id": "b26c755e-4cb5-4b4a-81ea-27707646791a",
   "metadata": {},
   "source": [
    "## Метод get\n",
    "Метод get() используется для безопасного доступа к значению по указанному ключу. В отличие от стандартного обращения через квадратные скобки (dictionary[key]), метод get() не вызывает ошибку KeyError, если ключ отсутствует, а вместо этого возвращает значение по умолчанию.   \n",
    "***Синтаксис:***   \n",
    "`value = dictionary.get(key, default_value)`  \n",
    "\n",
    "\n",
    "* dictionary — словарь, из которого нужно получить значение.   \n",
    "* key — ключ, по которому производится поиск значения.  \n",
    "* default_value (необязательный параметр) — значение, которое будет возвращено, если ключ отсутствует. Если не указано, возвращается None.\n"
   ]
  },
  {
   "cell_type": "markdown",
   "id": "3d499605-59fd-4d51-bc34-f401f89610c1",
   "metadata": {},
   "source": [
    "#### 1. Получение значения по ключу:\n"
   ]
  },
  {
   "cell_type": "code",
   "execution_count": 48,
   "id": "aa52dee5-9615-4cbb-bf8d-927f8e4279ca",
   "metadata": {},
   "outputs": [
    {
     "name": "stdout",
     "output_type": "stream",
     "text": [
      "Alice\n",
      "Alice\n"
     ]
    }
   ],
   "source": [
    "# Получение значения по существующему ключу\n",
    "my_dict = {\"name\": \"Alice\", \"age\": 30}\n",
    "print(my_dict.get(\"name\")) \n",
    "print(my_dict.get(\"name\", \"Anonim\")) \n"
   ]
  },
  {
   "cell_type": "code",
   "execution_count": 49,
   "id": "2517227f-bbc4-420d-81f6-82e4543c03b7",
   "metadata": {},
   "outputs": [
    {
     "name": "stdout",
     "output_type": "stream",
     "text": [
      "None\n"
     ]
    }
   ],
   "source": [
    "# Базовое значение по умолчанию\n",
    "print(my_dict.get(\"city\")) \n"
   ]
  },
  {
   "cell_type": "code",
   "execution_count": 50,
   "id": "f274e87e-d491-4620-b851-d79ae93380f7",
   "metadata": {},
   "outputs": [
    {
     "name": "stdout",
     "output_type": "stream",
     "text": [
      "Unknown\n"
     ]
    }
   ],
   "source": [
    "# Переданное значение по умолчанию\n",
    "print(my_dict.get(\"city\", \"Unknown\"))\n"
   ]
  },
  {
   "cell_type": "markdown",
   "id": "3cf4aeb4-336f-439e-b555-c3981988d13f",
   "metadata": {},
   "source": [
    "## Метод setdefault\n",
    "Метод setdefault() тоже используется для получения значения по указанному ключу. Но если ключ отсутствует в словаре, метод добавляет его с указанным значением по умолчанию и возвращает это значение. Если ключ уже существует, setdefault() просто возвращает его текущее значение без изменений.   \n",
    "***Синтаксис:***  \n",
    "`value = dictionary.setdefault(key, default_value)`   \n",
    "\n",
    "\n",
    "* dictionary — объект словаря, из которого вы хотите получить значение.   \n",
    "* key — ключ, который нужно найти или добавить.  \n",
    "* default_value (необязательный параметр) — значение, которое будет добавлено, если ключ отсутствует. Если не указано, используется None.\n"
   ]
  },
  {
   "cell_type": "code",
   "execution_count": 51,
   "id": "35573e48-84ed-48a9-b0d6-ebbda75b3257",
   "metadata": {},
   "outputs": [
    {
     "name": "stdout",
     "output_type": "stream",
     "text": [
      "30\n",
      "{'name': 'Alice', 'age': 30}\n"
     ]
    }
   ],
   "source": [
    "# Получение значения существующего ключа\n",
    "my_dict = {\"name\": \"Alice\", \"age\": 30}\n",
    "age = my_dict.setdefault(\"age\")\n",
    "print(age)\n",
    "print(my_dict)\n"
   ]
  },
  {
   "cell_type": "code",
   "execution_count": 52,
   "id": "8e266c6e-1a04-4ee9-8f7e-c7a2f9b15236",
   "metadata": {},
   "outputs": [
    {
     "name": "stdout",
     "output_type": "stream",
     "text": [
      "None\n",
      "{'name': 'Alice', 'age': 30, 'country': None}\n"
     ]
    }
   ],
   "source": [
    "# Добавление нового ключа без указания значения по умолчанию\n",
    "country = my_dict.setdefault(\"country\")\n",
    "print(country)\n",
    "print(my_dict)\n"
   ]
  },
  {
   "cell_type": "code",
   "execution_count": 53,
   "id": "71eb74e3-6c47-4114-9e25-5e8e8dec594f",
   "metadata": {},
   "outputs": [
    {
     "name": "stdout",
     "output_type": "stream",
     "text": [
      "Unknown\n",
      "{'name': 'Alice', 'age': 30, 'country': None, 'city': 'Unknown'}\n"
     ]
    }
   ],
   "source": [
    "# Добавление нового ключа с переданным значением\n",
    "city = my_dict.setdefault(\"city\", \"Unknown\")\n",
    "print(city)\n",
    "print(my_dict)\n"
   ]
  },
  {
   "cell_type": "code",
   "execution_count": null,
   "id": "f63d5586-0c83-4c8e-9351-278582dfd761",
   "metadata": {},
   "outputs": [],
   "source": []
  },
  {
   "cell_type": "code",
   "execution_count": 56,
   "id": "b6b1d26f-0588-4c5f-92b0-73053ce8b916",
   "metadata": {},
   "outputs": [
    {
     "name": "stdout",
     "output_type": "stream",
     "text": [
      "Ключа нет\n"
     ]
    }
   ],
   "source": [
    "dct = {'name': 'Alice', 'age': 30, 'country': None, 'city': 'Unknown'}\n",
    "\n",
    "print(dct.get('grade','Ключа нет')) #dct['grade']"
   ]
  },
  {
   "cell_type": "code",
   "execution_count": 58,
   "id": "534418fe-36ce-48c6-8e4f-8395224e024e",
   "metadata": {},
   "outputs": [
    {
     "name": "stdout",
     "output_type": "stream",
     "text": [
      "{'name': 'Alice', 'age': 30, 'country': None, 'city': 'Unknown', 'grade': 20}\n"
     ]
    }
   ],
   "source": [
    "dct.setdefault('grade', 20)\n",
    "print(dct)"
   ]
  },
  {
   "cell_type": "markdown",
   "id": "1072924b-ffca-46a0-a38e-bf0272225e90",
   "metadata": {},
   "source": [
    "#### Преимущества:   \n",
    "* Удобен для работы со словарями, когда необходимо обеспечить наличие ключа с определённым значением.  \n",
    "* Позволяет избежать дополнительных проверок наличия ключа в словаре перед его добавлением.\n"
   ]
  },
  {
   "cell_type": "code",
   "execution_count": null,
   "id": "086247fd-6774-46d9-bee7-a3910df2d1cc",
   "metadata": {},
   "outputs": [],
   "source": [
    "#1. Что произойдёт, если вызвать метод get() для отсутствующего ключа без указания значения по умолчанию?\n",
    "my_dict = {\"name\": \"Alice\", \"age\": 30}\n",
    "value = my_dict.get(\"city\")\n",
    "print(value)\n"
   ]
  },
  {
   "cell_type": "code",
   "execution_count": 59,
   "id": "38cb616d-1fdb-46f1-af26-6b8f01b1eca1",
   "metadata": {},
   "outputs": [
    {
     "name": "stdout",
     "output_type": "stream",
     "text": [
      "30\n",
      "{'name': 'Alice', 'age': 30}\n"
     ]
    }
   ],
   "source": [
    "#2. Что произойдёт, если ключ уже существует при использовании метода setdefault()?\n",
    "my_dict = {\"name\": \"Alice\", \"age\": 30}\n",
    "result = my_dict.setdefault(\"age\", 25)\n",
    "print(result)\n",
    "print(my_dict)\n"
   ]
  },
  {
   "cell_type": "code",
   "execution_count": 60,
   "id": "aec34d5d-1cad-4047-adc3-3e03e6419f65",
   "metadata": {},
   "outputs": [
    {
     "name": "stdout",
     "output_type": "stream",
     "text": [
      "True\n"
     ]
    }
   ],
   "source": [
    "#ручная реализация setdefault\n",
    "\n",
    "my_dict = {\"name\": \"Alice\", \"age\": 30}\n",
    "\n",
    "if 'name' in my_dict:\n",
    "    print(my_dict)\n",
    "else:\n",
    "    my_dict['name'] = None"
   ]
  },
  {
   "cell_type": "code",
   "execution_count": null,
   "id": "813bcf17-bff9-4d5c-a03e-646b440b8bb8",
   "metadata": {},
   "outputs": [],
   "source": []
  },
  {
   "cell_type": "code",
   "execution_count": null,
   "id": "5da9f6d1-e23d-4ad0-992f-d69a45803cf6",
   "metadata": {},
   "outputs": [],
   "source": []
  },
  {
   "cell_type": "markdown",
   "id": "c646313c-8246-42d0-a3a4-b42b8110ce03",
   "metadata": {},
   "source": [
    "# Методы словарей: keys, values, items   \n",
    "Словари в Python обладают тремя полезными методами для работы с ключами, значениями и парами \"ключ-значение\". Эти методы возвращают динамические представления (view objects), которые ссылаются на словарь и автоматически отражают изменения в его содержимом.\n",
    "## Метод keys  \n",
    "* Возвращает представление всех ключей в словаре.  \n",
    "* Представление обновляется автоматически при изменении словаря.\n",
    "* Можно преобразовать результат в список или другую коллекцию для получения копии элементов.\n"
   ]
  },
  {
   "cell_type": "code",
   "execution_count": 61,
   "id": "8219cf44-e168-4646-80e7-88e4d678e177",
   "metadata": {},
   "outputs": [
    {
     "name": "stdout",
     "output_type": "stream",
     "text": [
      "<class 'dict_keys'>\n",
      "dict_keys(['name', 'age'])\n"
     ]
    }
   ],
   "source": [
    "my_dict = {\"name\": \"Alice\", \"age\": 30}\n",
    "keys = my_dict.keys()\n",
    "print(type(keys))\n",
    "print(keys)\n"
   ]
  },
  {
   "cell_type": "code",
   "execution_count": 62,
   "id": "1791b7ce-35a9-4432-82a2-a3e20fe2a93c",
   "metadata": {},
   "outputs": [
    {
     "name": "stdout",
     "output_type": "stream",
     "text": [
      "dict_keys(['name', 'age', 'city'])\n"
     ]
    }
   ],
   "source": [
    "# Изменение словаря\n",
    "my_dict[\"city\"] = \"New York\"\n",
    "# Значения в keys обновлены, т.к. объект класса dict_keys ссылается на словарь\n",
    "print(keys)\n"
   ]
  },
  {
   "cell_type": "code",
   "execution_count": 63,
   "id": "d273aaae-373f-46da-981e-659a9311f6fe",
   "metadata": {},
   "outputs": [
    {
     "name": "stdout",
     "output_type": "stream",
     "text": [
      "['name', 'age', 'city']\n"
     ]
    }
   ],
   "source": [
    "# Преобразование представления в список\n",
    "keys_list = list(keys)\n",
    "my_dict[\"country\"] = \"USA\"\n",
    "# На списке изменения не отображаются, т.к. он не ссылается на словарь,\n",
    "# а содержит копии элементов\n",
    "print(keys_list)\n"
   ]
  },
  {
   "cell_type": "code",
   "execution_count": 64,
   "id": "1f0606e0-1635-4110-b8dd-25e25f872c61",
   "metadata": {},
   "outputs": [
    {
     "name": "stdout",
     "output_type": "stream",
     "text": [
      "dict_keys(['name', 'age', 'city', 'country'])\n"
     ]
    }
   ],
   "source": [
    "print(keys)"
   ]
  },
  {
   "cell_type": "markdown",
   "id": "57b0c582-d137-4282-8c8c-c419a36a8849",
   "metadata": {},
   "source": [
    "## Метод values\n",
    "* Возвращает представление всех значений в словаре.\n",
    "* Представление автоматически обновляется при изменении словаря.\n",
    "* Можно преобразовать результат в список или другую коллекцию для получения копии элементов.\n"
   ]
  },
  {
   "cell_type": "code",
   "execution_count": 65,
   "id": "c29ab99e-6071-44ee-bf5c-1583a0472ef4",
   "metadata": {},
   "outputs": [
    {
     "name": "stdout",
     "output_type": "stream",
     "text": [
      "<class 'dict_values'>\n",
      "dict_values(['Alice', 30])\n"
     ]
    }
   ],
   "source": [
    "my_dict = {\"name\": \"Alice\", \"age\": 30}\n",
    "values = my_dict.values()\n",
    "print(type(values))\n",
    "print(values)\n"
   ]
  },
  {
   "cell_type": "code",
   "execution_count": 66,
   "id": "5a7bf005-7a5c-4397-8011-bbb90640287f",
   "metadata": {},
   "outputs": [
    {
     "name": "stdout",
     "output_type": "stream",
     "text": [
      "dict_values(['Alice', 31])\n"
     ]
    }
   ],
   "source": [
    "# Изменение словаря\n",
    "my_dict[\"age\"] = 31\n",
    "# Значение в values обновлено, т.к. объект класса dict_values ссылается на словарь\n",
    "print(values)\n"
   ]
  },
  {
   "cell_type": "code",
   "execution_count": 67,
   "id": "140e89d1-366c-40dc-a8db-8db5a92e3d4c",
   "metadata": {},
   "outputs": [
    {
     "name": "stdout",
     "output_type": "stream",
     "text": [
      "['Alice', 31]\n"
     ]
    }
   ],
   "source": [
    "# Преобразование представления в список\n",
    "values_list = list(values)\n",
    "# Изменение словаря\n",
    "my_dict[\"age\"] = 32\n",
    "# На списке изменения не отображаются, т.к. он не ссылается на словарь,\n",
    "# а содержит копии элементов\n",
    "print(values_list)\n"
   ]
  },
  {
   "cell_type": "markdown",
   "id": "76b1cf19-aa12-4f54-87ec-98e4c8a99b9c",
   "metadata": {},
   "source": [
    "## Метод items\n",
    "* Возвращает представление всех пар \"ключ-значение\" в словаре в виде кортежей (ключ, значение).\n",
    "* Представление автоматически обновляется при изменении словаря.\n",
    "* Можно преобразовать результат в список (с кортежами) или другую коллекцию для получения копии элементов.\n"
   ]
  },
  {
   "cell_type": "code",
   "execution_count": 68,
   "id": "08b03255-c527-4afd-8eb5-d3873be68343",
   "metadata": {},
   "outputs": [
    {
     "name": "stdout",
     "output_type": "stream",
     "text": [
      "<class 'dict_items'>\n",
      "dict_items([('name', 'Alice'), ('age', 30)])\n"
     ]
    }
   ],
   "source": [
    "my_dict = {\"name\": \"Alice\", \"age\": 30}\n",
    "items = my_dict.items()\n",
    "print(type(items))\n",
    "print(items)\n"
   ]
  },
  {
   "cell_type": "code",
   "execution_count": 69,
   "id": "fc0aac1e-96b5-407f-a306-858be662bed6",
   "metadata": {},
   "outputs": [
    {
     "name": "stdout",
     "output_type": "stream",
     "text": [
      "dict_items([('name', 'Alice')])\n"
     ]
    }
   ],
   "source": [
    "# Изменение словаря\n",
    "del my_dict[\"age\"]\n",
    "# Пары в items обновлены, т.к. объект класса dict_items ссылается на словарь\n",
    "print(items)\n"
   ]
  },
  {
   "cell_type": "code",
   "execution_count": 70,
   "id": "95356468-0ec1-4d3f-8539-c80219a03bfd",
   "metadata": {},
   "outputs": [
    {
     "name": "stdout",
     "output_type": "stream",
     "text": [
      "[('name', 'Alice')]\n"
     ]
    }
   ],
   "source": [
    "# Преобразование представления в список\n",
    "items_list = list(items)\n",
    "# Изменение словаря\n",
    "del my_dict[\"name\"]\n",
    "# На списке изменения не отображаются, т.к. он не ссылается на словарь,\n",
    "# а содержит копии элементов\n",
    "print(items_list)\n"
   ]
  },
  {
   "cell_type": "code",
   "execution_count": 71,
   "id": "806d91df-9bd2-412a-9d25-03f6438a0275",
   "metadata": {},
   "outputs": [
    {
     "name": "stdout",
     "output_type": "stream",
     "text": [
      "{}\n"
     ]
    }
   ],
   "source": [
    "print(my_dict)"
   ]
  },
  {
   "cell_type": "markdown",
   "id": "424f5dd4-2281-43cc-ba6e-ebf5559c570a",
   "metadata": {},
   "source": [
    "## Цикл по словарю\n",
    "Словари позволяют итерироваться по своим ключам, значениям или парам \"ключ-значение\" с помощью цикла for.\n"
   ]
  },
  {
   "cell_type": "markdown",
   "id": "a826a90b-73bf-4352-8e63-588bbcd6916a",
   "metadata": {},
   "source": [
    "#### 1. Итерация по ключам\n",
    "* По умолчанию цикл for перебирает ключи словаря."
   ]
  },
  {
   "cell_type": "code",
   "execution_count": 75,
   "id": "5ee4dc7d-5a75-4067-b986-81a51802a448",
   "metadata": {},
   "outputs": [
    {
     "name": "stdout",
     "output_type": "stream",
     "text": [
      "name\n",
      "age\n",
      "city\n"
     ]
    }
   ],
   "source": [
    "my_dict = {\"name\": \"Alice\", \"age\": 30, \"city\": \"New York\"}\n",
    "for key in my_dict:\n",
    "    print(key)\n"
   ]
  },
  {
   "cell_type": "code",
   "execution_count": 73,
   "id": "5c3f108c-4b2f-421c-81fd-9bc67d289807",
   "metadata": {},
   "outputs": [
    {
     "name": "stdout",
     "output_type": "stream",
     "text": [
      "name\n",
      "age\n",
      "city\n"
     ]
    }
   ],
   "source": [
    "# Аналогично циклу по my_dict\n",
    "for key in my_dict.keys():\n",
    "    print(key)\n"
   ]
  },
  {
   "cell_type": "markdown",
   "id": "a8bf6d20-b28a-4c68-97a2-3f93a7370881",
   "metadata": {},
   "source": [
    "#### 2. Итерация по значениям\n",
    "* Для перебора значений используется метод values()."
   ]
  },
  {
   "cell_type": "code",
   "execution_count": 74,
   "id": "bfdef578-a8f1-4e13-a4ad-7f937036a037",
   "metadata": {},
   "outputs": [
    {
     "name": "stdout",
     "output_type": "stream",
     "text": [
      "Alice\n",
      "30\n",
      "New York\n"
     ]
    }
   ],
   "source": [
    "my_dict = {\"name\": \"Alice\", \"age\": 30, \"city\": \"New York\"}\n",
    "for value in my_dict.values():\n",
    "    print(value)\n"
   ]
  },
  {
   "cell_type": "markdown",
   "id": "9c478536-b523-48a5-8628-e104dd313197",
   "metadata": {},
   "source": [
    "#### 3. Итерация по парам \"ключ-значение\"\n",
    "* Для перебора пар \"ключ-значение\" используется метод items()."
   ]
  },
  {
   "cell_type": "code",
   "execution_count": 76,
   "id": "0f1448a5-e24e-4d4c-a6bb-5fcb680c6693",
   "metadata": {},
   "outputs": [
    {
     "name": "stdout",
     "output_type": "stream",
     "text": [
      "name: Alice\n",
      "age: 30\n",
      "city: New York\n"
     ]
    }
   ],
   "source": [
    "my_dict = {\"name\": \"Alice\", \"age\": 30, \"city\": \"New York\"}\n",
    "for key, value in my_dict.items():\n",
    "    print(f\"{key}: {value}\")"
   ]
  },
  {
   "cell_type": "code",
   "execution_count": 77,
   "id": "3ae2646d-9863-4aca-9c30-ebe0c5606e04",
   "metadata": {},
   "outputs": [
    {
     "name": "stdout",
     "output_type": "stream",
     "text": [
      "<class 'dict_items'>\n"
     ]
    }
   ],
   "source": [
    "#1. Какой тип данных возвращает метод items()?\n",
    "my_dict = {\"x\": 10, \"y\": 20}\n",
    "items = my_dict.items()\n",
    "print(type(items))\n"
   ]
  },
  {
   "cell_type": "markdown",
   "id": "214839df-f3ea-4379-9456-77993d4f1ddf",
   "metadata": {},
   "source": [
    "# Словари со вложенными структурами\n",
    "Словари могут содержать вложенные структуры данных, такие как списки, кортежи, множества и другие словари в качестве значений.\n"
   ]
  },
  {
   "cell_type": "markdown",
   "id": "fc560cd7-9dc6-4323-a4e3-251c0edc53c0",
   "metadata": {},
   "source": [
    "### Примеры словарей со вложенными структурами:\n"
   ]
  },
  {
   "cell_type": "code",
   "execution_count": 78,
   "id": "09b1506a-c838-4352-848b-a6ee9e2a1f33",
   "metadata": {},
   "outputs": [],
   "source": [
    "# Списки позволяют хранить несколько элементов для одного ключа.\n",
    "student_scores = {\n",
    "    \"Alice\": [90, 85, 88],\n",
    "    \"Bob\": [72, 75, 80],\n",
    "    \"Charlie\": [95, 100, 98]\n",
    "}\n"
   ]
  },
  {
   "cell_type": "code",
   "execution_count": 79,
   "id": "fa01db1a-2bc7-42eb-90fb-ae3443fa62a7",
   "metadata": {},
   "outputs": [],
   "source": [
    "# Словарь может иметь сложную структуру из разных коллекций.\n",
    "school = {\n",
    "    \"class1\": {\n",
    "        \"students\": [\"Alice\", \"Bob\", \"Charlie\"],\n",
    "        \"teacher\": \"Mrs. Smith\"\n",
    "    },\n",
    "    \"class2\": {\n",
    "        \"students\": [\"David\", \"Eva\"],\n",
    "        \"teacher\": \"Mr. Johnson\"\n",
    "    }\n",
    "}\n"
   ]
  },
  {
   "cell_type": "markdown",
   "id": "3b027dc1-b21e-492b-9f19-0d38eb62aaa0",
   "metadata": {},
   "source": [
    "### Доступ к элементам в словаре со вложенными структурами\n",
    "* Для доступа к элементам необходимо указывать ключи и индексы в зависимости от типа вложенной структуры.\n"
   ]
  },
  {
   "cell_type": "code",
   "execution_count": 80,
   "id": "bcf02982-03cd-4914-931d-7445af887e20",
   "metadata": {},
   "outputs": [
    {
     "name": "stdout",
     "output_type": "stream",
     "text": [
      "85\n"
     ]
    }
   ],
   "source": [
    "student_scores = {\n",
    "    \"Alice\": [90, 85, 88],\n",
    "    \"Bob\": [72, 75, 80],\n",
    "    \"Charlie\": [95, 100, 98]\n",
    "}\n",
    "\n",
    "\n",
    "# Доступ к элементу списка внутри словаря\n",
    "print(student_scores[\"Alice\"][1])\n"
   ]
  },
  {
   "cell_type": "code",
   "execution_count": 81,
   "id": "8ac5a2d8-fd0c-421a-a039-d83df53030c4",
   "metadata": {},
   "outputs": [
    {
     "name": "stdout",
     "output_type": "stream",
     "text": [
      "Mr. Johnson\n",
      "Alice\n"
     ]
    }
   ],
   "source": [
    "\n",
    "\n",
    "school = {\n",
    "    \"class1\": {\n",
    "        \"students\": [\"Alice\", \"Bob\", \"Charlie\"],\n",
    "        \"teacher\": \"Mrs. Smith\"\n",
    "    },\n",
    "    \"class2\": {\n",
    "        \"students\": [\"David\", \"Eva\"],\n",
    "        \"teacher\": \"Mr. Johnson\"\n",
    "    }\n",
    "}\n",
    "\n",
    "\n",
    "# Доступ к элементу вложенного словаря\n",
    "print(school[\"class2\"][\"teacher\"])\n",
    "\n",
    "\n",
    "# Доступ к элементу списка, полученного из вложенного словаря\n",
    "print(school[\"class1\"][\"students\"][0])\n"
   ]
  },
  {
   "cell_type": "markdown",
   "id": "b2687a25-3300-4d7c-b39a-85532c322126",
   "metadata": {},
   "source": [
    "### Итерация по словарю со вложенными структурами\n",
    "* В зависимости от типа вложенной структуры может потребоваться использовать вложенные циклы для перебора элементов.\n"
   ]
  },
  {
   "cell_type": "code",
   "execution_count": 82,
   "id": "61f0af7e-2446-4aef-8d61-e7c08d80d712",
   "metadata": {},
   "outputs": [],
   "source": [
    "school = {\n",
    "    \"class1\": {\n",
    "        \"students\": [\"Alice\", \"Bob\", \"Charlie\"],\n",
    "        \"teacher\": \"Mrs. Smith\"\n",
    "    },\n",
    "    \"class2\": {\n",
    "        \"students\": [\"David\", \"Eva\"],\n",
    "        \"teacher\": \"Mr. Johnson\"\n",
    "    }\n",
    "}"
   ]
  },
  {
   "cell_type": "code",
   "execution_count": 83,
   "id": "3ffdacef-acc7-40be-8957-efaee81c3afe",
   "metadata": {},
   "outputs": [
    {
     "name": "stdout",
     "output_type": "stream",
     "text": [
      "Class: class1\n",
      "\tstudents: ['Alice', 'Bob', 'Charlie']\n",
      "\tteacher: Mrs. Smith\n",
      "Class: class2\n",
      "\tstudents: ['David', 'Eva']\n",
      "\tteacher: Mr. Johnson\n"
     ]
    }
   ],
   "source": [
    "for class_name, details in school.items():\n",
    "    print(f\"Class: {class_name}\")\n",
    "    for key, value in details.items():\n",
    "        print(f\"\\t{key}: {value}\")"
   ]
  },
  {
   "cell_type": "code",
   "execution_count": 85,
   "id": "0e0cd9d7-bc54-4c84-9626-034145338ea9",
   "metadata": {},
   "outputs": [],
   "source": [
    "school = {\n",
    "    \"class1\": {\n",
    "        \"students\": {\"Alice\":[90, 80], \"Bob\":[70,60], \"Charlie\":[30,100]},\n",
    "        \"teacher\": \"Mrs. Smith\"\n",
    "    },\n",
    "    \"class2\": {\n",
    "        \"students\": [\"David\", \"Eva\"],\n",
    "        \"teacher\": \"Mr. Johnson\"\n",
    "    }\n",
    "}"
   ]
  },
  {
   "cell_type": "code",
   "execution_count": 86,
   "id": "bc5b3d49-6c09-47a3-b1d9-03a6cf5a63e7",
   "metadata": {},
   "outputs": [
    {
     "name": "stdout",
     "output_type": "stream",
     "text": [
      "Студент: Alice \t средний балл: 85.0\n",
      "Студент: Bob \t средний балл: 65.0\n",
      "Студент: Charlie \t средний балл: 65.0\n"
     ]
    }
   ],
   "source": [
    "for name, grades in school[\"class1\"][\"students\"].items():\n",
    "    print(f'Студент: {name} \\t средний балл: {sum(grades)/len(grades)}')"
   ]
  },
  {
   "cell_type": "markdown",
   "id": "50ad7c66-63dd-4007-a73a-89f9a27460e0",
   "metadata": {},
   "source": [
    "### Обновление элементов\n",
    "* Можно добавлять, изменять или удалять данные во вложенных структурах, используя доступ по ключам и индексам.\n"
   ]
  },
  {
   "cell_type": "code",
   "execution_count": 88,
   "id": "0fca2257-2178-4fac-a22d-5f2c77600e51",
   "metadata": {},
   "outputs": [],
   "source": [
    "school = {\n",
    "    \"class1\": {\n",
    "        \"students\": [\"Alice\", \"Bob\", \"Charlie\"],\n",
    "        \"teacher\": \"Mrs. Smith\"\n",
    "    },\n",
    "    \"class2\": {\n",
    "        \"students\": [\"David\", \"Eva\"],\n",
    "        \"teacher\": \"Mr. Johnson\"\n",
    "    }\n",
    "}"
   ]
  },
  {
   "cell_type": "code",
   "execution_count": 89,
   "id": "7156aaac-b9bf-44c8-9b94-5281c3024554",
   "metadata": {},
   "outputs": [
    {
     "name": "stdout",
     "output_type": "stream",
     "text": [
      "['Alice', 'Bob', 'Charlie', 'Daisy']\n",
      "{'students': ['David', 'Eva']}\n"
     ]
    }
   ],
   "source": [
    "# Добавление ученика в список\n",
    "school[\"class1\"][\"students\"].append(\"Daisy\")\n",
    "print(school[\"class1\"][\"students\"])\n",
    "\n",
    "\n",
    "# Удаление ключа из вложенного словаря\n",
    "del school[\"class2\"][\"teacher\"]  \n",
    "print(school[\"class2\"])\n"
   ]
  },
  {
   "cell_type": "markdown",
   "id": "903f2491-b496-45d0-8c9a-457660bfd53a",
   "metadata": {},
   "source": [
    "## Практическое применение\n",
    "* Словари со вложенными структурами удобны для работы с данными, имеющими сложную иерархию, например, JSON-файлы, результаты сложных вычислений, конфигурации приложений.\n",
    "* Такая структура данных позволяет эффективно организовывать и обрабатывать сложные отношения между элементами.\n"
   ]
  },
  {
   "cell_type": "markdown",
   "id": "6a2a704b-d2db-43e3-ac4d-e5614bca3bd5",
   "metadata": {},
   "source": [
    "# Копирование словарей\n"
   ]
  },
  {
   "cell_type": "markdown",
   "id": "a8b72865-f803-434d-8af7-3c036780cc24",
   "metadata": {},
   "source": [
    "#### Поверхностное копирование с помощью метода copy()\n",
    "* Создаёт новый словарь с копией всех ключей и значений из исходного словаря.\n",
    "* Ключи и значения копируются \"по ссылке\", что означает, что изменения в вложенных объектах (например, списках) будут отражаться и в оригинале.\n"
   ]
  },
  {
   "cell_type": "code",
   "execution_count": 90,
   "id": "5c377f84-0877-4faf-9af2-65e72326f7fe",
   "metadata": {},
   "outputs": [
    {
     "name": "stdout",
     "output_type": "stream",
     "text": [
      "{'name': 'Alice', 'age': 30, 'scores': [90, 85, 88]}\n"
     ]
    }
   ],
   "source": [
    "original_dict = {\"name\": \"Alice\", \"age\": 30, \"scores\": [90, 85, 88]}\n",
    "copied_dict = original_dict.copy()\n",
    "print(copied_dict)\n"
   ]
  },
  {
   "cell_type": "code",
   "execution_count": 91,
   "id": "4e6c9f11-72df-45d5-9f28-00f25b3933ff",
   "metadata": {},
   "outputs": [
    {
     "name": "stdout",
     "output_type": "stream",
     "text": [
      "{'name': 'Alice', 'age': 31, 'scores': [90, 85, 88, 80]}\n",
      "{'name': 'Alice', 'age': 30, 'scores': [90, 85, 88, 80]}\n"
     ]
    }
   ],
   "source": [
    "# Изменение не затронет копию для неизменяемых элементов\n",
    "original_dict[\"age\"] = 31\n",
    "# Изменение затронет копию для изменяемых элементов\n",
    "original_dict[\"scores\"].append(80)\n",
    "print(original_dict)\n",
    "print(copied_dict)\n"
   ]
  },
  {
   "cell_type": "markdown",
   "id": "99ef81e9-5faf-47d9-9ae7-afe10a8d4066",
   "metadata": {},
   "source": [
    "#### Глубокое копирование с помощью модуля copy\n",
    "* Глубокое копирование создаёт полностью независимую копию словаря, включая все вложенные объекты.\n",
    "* Изменения во вложенных объектах копии не будут затрагивать оригинал и наоборот.\n"
   ]
  },
  {
   "cell_type": "code",
   "execution_count": 92,
   "id": "1e6d34dc-50be-4e51-9a38-6d7a6faf6853",
   "metadata": {},
   "outputs": [
    {
     "name": "stdout",
     "output_type": "stream",
     "text": [
      "{'name': 'Alice', 'age': 30, 'scores': [90, 85, 88]}\n"
     ]
    }
   ],
   "source": [
    "import copy\n",
    "\n",
    "\n",
    "original_dict = {\"name\": \"Alice\", \"age\": 30, \"scores\": [90, 85, 88]}\n",
    "deep_copied_dict = copy.deepcopy(original_dict)\n",
    "print(deep_copied_dict)\n"
   ]
  },
  {
   "cell_type": "code",
   "execution_count": 93,
   "id": "56fcf61d-fd76-4306-bcb7-a4938b9784f6",
   "metadata": {},
   "outputs": [
    {
     "name": "stdout",
     "output_type": "stream",
     "text": [
      "{'name': 'Alice', 'age': 31, 'scores': [90, 85, 88, 80]}\n",
      "{'name': 'Alice', 'age': 30, 'scores': [90, 85, 88]}\n"
     ]
    }
   ],
   "source": [
    "# Любые изменения во вложенном объекте не затронут копию\n",
    "original_dict[\"age\"] = 31\n",
    "original_dict[\"scores\"].append(80)\n",
    "print(original_dict)\n",
    "print(deep_copied_dict)\n"
   ]
  },
  {
   "cell_type": "markdown",
   "id": "54168d7b-74ad-4998-b9df-6d68916392aa",
   "metadata": {},
   "source": [
    "## Dict comprehension\n",
    "Dict comprehension позволяет создавать словари с использованием краткой и удобной конструкции, подобно генераторам списков. Это делает код более лаконичным и читаемым, особенно при создании или преобразовании словарей из других итерируемых объектов.\n",
    "\n",
    "***Синтаксис:***  \n",
    "`new_dict = {key_expr: value_expr for item in iterable}`  \n",
    "\n",
    "* key_expr — выражение для формирования ключа.   \n",
    "* value_expr — выражение для формирования значения.   \n",
    "* iterable — любой итерируемый объект (список, диапазон и т. д.)."
   ]
  },
  {
   "cell_type": "code",
   "execution_count": null,
   "id": "07d72fdc-19a9-4a60-97f4-bcc3b2db7ada",
   "metadata": {},
   "outputs": [],
   "source": [
    "# Создание словаря с квадратами чисел из списка\n",
    "numbers = [1, 2, 3, 4]\n",
    "squared_dict = {num: num ** 2 for num in numbers}\n",
    "print(squared_dict)\n"
   ]
  },
  {
   "cell_type": "code",
   "execution_count": null,
   "id": "25c3c859-bdb0-43c5-932a-8d01dbfd2263",
   "metadata": {},
   "outputs": [],
   "source": [
    "# Фильтрация элементов\n",
    "# Dict comprehension также поддерживает добавление условий\n",
    "original_dict = {\"a\": 5, \"b\": 2, \"c\": 0, \"d\": 3, \"e\": 0, \"f\": 3}\n",
    "filtered_dict = {key: value for key, value in original_dict.items() if value > 0}\n",
    "print(filtered_dict)\n"
   ]
  },
  {
   "cell_type": "code",
   "execution_count": null,
   "id": "f9676753-ff22-4925-8494-b394bbc93c94",
   "metadata": {},
   "outputs": [],
   "source": [
    "# Анализ данных и сохранение результатов\n",
    "words = [\"apple\", \"banana\", \"cherry\"]\n",
    "length_dict = {word: len(word) for word in words}\n",
    "print(length_dict) \n"
   ]
  },
  {
   "cell_type": "markdown",
   "id": "06d74b1e-fa93-472d-ad2e-fda062480787",
   "metadata": {},
   "source": [
    "## Сравнение словарей\n",
    "В Python можно сравнивать словари по их содержимому, используя стандартные операторы сравнения. Сравнение словарей происходит на основании ключей и их соответствующих значений.\n",
    "### Способы сравнения словарей:\n",
    "#### Сравнение на равенство (==):\n",
    "* Два словаря считаются равными, если они содержат одинаковые пары \"ключ-значение\", независимо от порядка их добавления.\n",
    "* Пример:\n"
   ]
  },
  {
   "cell_type": "code",
   "execution_count": null,
   "id": "c0d28282-4279-45e5-b1f7-036aee03baa4",
   "metadata": {},
   "outputs": [],
   "source": [
    "dict1 = {\"a\": 1, \"b\": 2}\n",
    "dict2 = {\"b\": 2, \"a\": 1}\n",
    "print(dict1 == dict2)\n"
   ]
  },
  {
   "cell_type": "markdown",
   "id": "e6d0ca8e-0c6d-4819-a5f2-5eb37fd2341b",
   "metadata": {},
   "source": [
    "* Если хотя бы одна пара \"ключ-значение\" отличается, словари считаются неравными."
   ]
  },
  {
   "cell_type": "code",
   "execution_count": null,
   "id": "8ba02cc6-fb58-4d1d-9948-f2acfd1a33f4",
   "metadata": {},
   "outputs": [],
   "source": [
    "dict1 = {\"a\": 1, \"b\": 2}\n",
    "dict2 = {\"a\": 1, \"b\": 2, \"c\": 3}\n",
    "print(dict1 == dict2)\n"
   ]
  },
  {
   "cell_type": "markdown",
   "id": "b46647ee-700b-44b2-838f-2de64c654b13",
   "metadata": {},
   "source": [
    "#### Сравнение на неравенство (!=):\n",
    "* Если словари имеют разные пары \"ключ-значение\", они считаются неравными.\n",
    "* Пример:\n"
   ]
  },
  {
   "cell_type": "code",
   "execution_count": null,
   "id": "1e512656-1859-4284-9a12-1c1ee89b2b97",
   "metadata": {},
   "outputs": [],
   "source": [
    "dict1 = {\"a\": 1, \"c\": 1, \"b\": [2, 1, 5]}\n",
    "dict2 = {\"b\": [2, 1, 5], \"a\": 1, \"c\": 1}\n",
    "print(dict1 != dict2)\n"
   ]
  },
  {
   "cell_type": "markdown",
   "id": "770f2946-a067-42d6-9056-279195ea07ea",
   "metadata": {},
   "source": [
    "#### Особенности сравнения словарей:\n",
    "* Порядок элементов не влияет на результат сравнения.\n",
    "* Изменяемость значений: Если словари содержат изменяемые объекты (например, списки), то при сравнении учитываются их значения, а не ссылки на объекты.\n",
    "* Операции сравнения: доступны только операции сравнения на равенство и неравенство (!=)."
   ]
  },
  {
   "cell_type": "code",
   "execution_count": null,
   "id": "0d46b4fb-9db7-4ec3-8a00-7cc84a42da27",
   "metadata": {},
   "outputs": [],
   "source": [
    "#1. Какой результат будет выведен при выполнении следующего кода?\n",
    "company = {\n",
    "    \"department1\": {\n",
    "        \"employees\": [\"John\", \"Doe\"],\n",
    "        \"manager\": \"Mr. Anderson\"\n",
    "    },\n",
    "    \"department2\": {\n",
    "        \"employees\": [\"Jane\", \"Smith\"],\n",
    "        \"manager\": \"Mrs. Carter\"\n",
    "    }\n",
    "}\n",
    "\n",
    "\n",
    "company[\"department2\"][\"employees\"].append(\"Miller\")\n",
    "print(company[\"department2\"][\"employees\"])\n"
   ]
  },
  {
   "cell_type": "markdown",
   "id": "669c0442-c696-44ad-86e3-4662cefaa223",
   "metadata": {},
   "source": [
    "# Практические задания\n",
    "***Переводчик***  \n",
    "Напишите программу, которая позволяет пользователю переводить слова между английским и русским языками. Пользователь вводит слово, программа ищет его перевод в словаре. Если слово отсутствует, программа выводит сообщение об отсутствии перевода.  \n",
    "Данные:\n",
    "```\n",
    "dictionary = {\n",
    "    \"Butterfly\": \"Бабочка\",\n",
    "    \"Training\": \"Обучение\",\n",
    "    \"Restaurant\": \"Ресторан\",\n",
    "    \"Programming\": \"Программирование\",\n",
    "}\n",
    "```\n",
    "\n",
    "\n",
    "***Пример вывода:***  \n",
    "Введите слово для перевода (или 'exit' для выхода): Бабочка  \n",
    "Перевод: Butterfly  \n",
    "Введите слово для перевода (или 'exit' для выхода): Butterfly  \n",
    "Перевод: Бабочка  \n",
    "Введите слово для перевода (или 'exit' для выхода): Travel  \n",
    "Перевод отсутствует.  \n",
    "Введите слово для перевода (или 'exit' для выхода): exit  \n",
    "Программа завершена.\n"
   ]
  },
  {
   "cell_type": "code",
   "execution_count": null,
   "id": "7c8bccab-6ab8-4857-9f53-eebf8252067a",
   "metadata": {},
   "outputs": [],
   "source": [
    "dictionary = {\n",
    "    \"Butterfly\": \"Бабочка\",\n",
    "    \"Training\": \"Обучение\",\n",
    "    \"Restaurant\": \"Ресторан\",\n",
    "    \"Programming\": \"Программирование\",\n",
    "}\n",
    "\n",
    "\n",
    "while True:\n",
    "    # Ввод слова\n",
    "    word = input(\"Введите слово для перевода (или 'exit' для выхода): \").capitalize()\n",
    "    \n",
    "    if word == \"Exit\":\n",
    "        print(\"Программа завершена.\")\n",
    "        break\n",
    "    \n",
    "    # Поиск перевода в прямом и обратном словарях\n",
    "    if word in dictionary:\n",
    "        print(f\"Перевод: {dictionary[word]}\")\n",
    "    elif word in dictionary.values():\n",
    "        for key, value in dictionary.items():\n",
    "            if value == word:\n",
    "                print(f\"Перевод: {key}\")\n",
    "                break\n",
    "    else:\n",
    "        print(\"Перевод отсутствует.\")\n"
   ]
  },
  {
   "cell_type": "markdown",
   "id": "c393331c-3b96-4240-b213-d4a8ed3a28d7",
   "metadata": {},
   "source": [
    "### ДЗ (идеи)"
   ]
  },
  {
   "cell_type": "markdown",
   "id": "02e718f2-c692-4b2e-8a52-1727ed016356",
   "metadata": {},
   "source": [
    "***Распределение студентов по группам***  \n",
    "У вас есть словарь, где ключи — имена студентов, а значения — их баллы за экзамен.  \n",
    "Необходимо распределить студентов по группам:   \n",
    "\"Отличники\": баллы >= 85  \n",
    "\"Хорошисты\": баллы от 70 до 84  \n",
    "\"Троечники\": баллы от 50 до 69  \n",
    "\"Не сдали\": баллы < 50  \n",
    "Создайте словарь с ключами-группами и словарями со студентами в качестве значений.  \n",
    "***Данные***  \n",
    "`students = {\"Аня\": 92, \"Боря\": 76, \"Ваня\": 65, \"Галя\": 48, \"Дима\": 88, \"Ева\": 54}`  \n",
    "`groups = [\"Отличники\", \"Хорошисты\", \"Троечники\", \"Не сдали\"]`"
   ]
  },
  {
   "cell_type": "code",
   "execution_count": null,
   "id": "3f8628fb-1289-4996-a1eb-310792de82dc",
   "metadata": {},
   "outputs": [],
   "source": [
    "students = {\"Аня\": 92, \"Боря\": 76, \"Ваня\": 65, \"Галя\": 48, \"Дима\": 88, \"Ева\": 54}\n",
    "groups = [\"Отличники\", \"Хорошисты\", \"Троечники\", \"Не сдали\"]"
   ]
  },
  {
   "cell_type": "code",
   "execution_count": null,
   "id": "faa1cc4a-5d62-4c6e-86fb-8bf9782cebda",
   "metadata": {},
   "outputs": [],
   "source": []
  },
  {
   "cell_type": "markdown",
   "id": "c1640559-6264-48c1-8e7d-eab29673d0a7",
   "metadata": {},
   "source": [
    "***Реверс словаря***  \n",
    "Напишите программу, которая меняет местами ключи и значения в словаре. Если значения повторяются, добавьте их в список.  \n",
    "Данные  \n",
    "`data = {\"a\": 1, \"b\": 2, \"c\": 1, \"d\": 3}`  \n",
    "\n",
    "Пример вывода  \n",
    "Перевернутый словарь: `{1: ['a', 'c'], 2: ['b'], 3: ['d']}`m\n"
   ]
  },
  {
   "cell_type": "code",
   "execution_count": 37,
   "id": "036812c8-31ff-4502-963a-963e91d12a3f",
   "metadata": {},
   "outputs": [],
   "source": [
    "data = {\"a\": 1, \"b\": 2, \"c\": 1, \"d\": 3}"
   ]
  },
  {
   "cell_type": "code",
   "execution_count": null,
   "id": "7feccb85-f196-42c8-8309-89f8294a9978",
   "metadata": {},
   "outputs": [],
   "source": []
  }
 ],
 "metadata": {
  "kernelspec": {
   "display_name": "Python 3 (ipykernel)",
   "language": "python",
   "name": "python3"
  },
  "language_info": {
   "codemirror_mode": {
    "name": "ipython",
    "version": 3
   },
   "file_extension": ".py",
   "mimetype": "text/x-python",
   "name": "python",
   "nbconvert_exporter": "python",
   "pygments_lexer": "ipython3",
   "version": "3.12.4"
  }
 },
 "nbformat": 4,
 "nbformat_minor": 5
}
