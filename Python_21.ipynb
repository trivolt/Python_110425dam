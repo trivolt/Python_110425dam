{
 "cells": [
  {
   "cell_type": "markdown",
   "id": "420f8fcb-885b-49d3-bcc8-4d73f3b1bdad",
   "metadata": {},
   "source": [
    "# Модуль collections"
   ]
  },
  {
   "cell_type": "markdown",
   "id": "10836d46-63d8-4211-905d-e28c42e696a2",
   "metadata": {},
   "source": [
    "## Модуль time\n",
    "Модуль time предоставляет функции для работы с временем, включая получение текущего времени, измерение интервалов и управление задержками выполнения кода.\n"
   ]
  },
  {
   "cell_type": "markdown",
   "id": "725a476a-72dc-4d48-a7a7-9bf506dcf963",
   "metadata": {},
   "source": [
    "### Основные функции модуля time  \n",
    "1. `time()`  \n",
    "Возвращает текущее время в секундах, прошедшее с 1 января 1970 года.m\n"
   ]
  },
  {
   "cell_type": "code",
   "execution_count": null,
   "id": "514088e0-683d-456a-8223-16956da7c7b2",
   "metadata": {},
   "outputs": [],
   "source": [
    "import time\n",
    "\n",
    "\n",
    "current_time = time.time()\n",
    "print(current_time)\n"
   ]
  },
  {
   "cell_type": "markdown",
   "id": "9fc708a8-414d-4036-a13b-68a092ad09b5",
   "metadata": {},
   "source": [
    "2. `sleep(seconds)`  \n",
    "Приостанавливает выполнение программы на указанное количество секунд.\n"
   ]
  },
  {
   "cell_type": "code",
   "execution_count": null,
   "id": "1ff63c2e-1028-4482-bcc3-940f15aa5fcd",
   "metadata": {},
   "outputs": [],
   "source": [
    "import time\n",
    "\n",
    "\n",
    "print(\"Программа запущена\")\n",
    "time.sleep(2)  # Задержка на 2 секунды\n",
    "print(\"2 секунды спустя...\")\n"
   ]
  },
  {
   "cell_type": "markdown",
   "id": "3a97db23-dea4-40a3-ac31-39a11e256e50",
   "metadata": {},
   "source": [
    "### Пример: Измерение времени выполнения программы\n"
   ]
  },
  {
   "cell_type": "code",
   "execution_count": null,
   "id": "293623b1-b461-4409-9651-0165601ccdcf",
   "metadata": {},
   "outputs": [],
   "source": [
    "import time\n",
    "\n",
    "\n",
    "start_time = time.time()\n",
    "\n",
    "\n",
    "# Создание объекта range\n",
    "range_million = range(1000000)\n",
    "end_time = time.time()\n",
    "print(f\"Время создания range: {end_time - start_time:.10f} секунд\")\n",
    "\n",
    "\n",
    "start_time = time.time()\n",
    "lst = [x for x in range(1000000)]\n",
    "end_time = time.time()\n",
    "\n",
    "\n",
    "print(f\"Время создания list: {end_time - start_time:.10f} секунд\")\n"
   ]
  },
  {
   "cell_type": "markdown",
   "id": "c7b6fdf7-324e-4856-8d51-9d246c539cb8",
   "metadata": {},
   "source": [
    "## Модуль collections\n",
    "Модуль collections предоставляет дополнительные структуры данных, которые дополняют стандартные типы Python. Эти структуры данных оптимизированы для выполнения различных задач и могут быть более эффективными по сравнению с обычными списками и словарями.\n"
   ]
  },
  {
   "cell_type": "markdown",
   "id": "2f23ded3-a8e1-4399-b4f6-8b5a58b2c92e",
   "metadata": {},
   "source": [
    "### Класс OrderedDict\n",
    "OrderedDict — это класс из модуля collections, который представляет собой словарь, сохраняющий порядок добавления элементов. В отличие от стандартных словарей в старых версиях Python (до 3.7), где порядок ключей не гарантировался, OrderedDict всегда сохраняет порядок добавления.  \n",
    "Синтаксис:  \n",
    "```\n",
    "from collections import OrderedDict\n",
    "\n",
    "\n",
    "ordered_dict = OrderedDict(iterable)\n",
    "\n",
    "```\n",
    "* `iterable` — любой итерируемый объект, который предоставляет пары ключ: значение (например, список кортежей, словарь, генераторы и т.д.). Если объект не указан, создаётся пустой OrderedDict.\n"
   ]
  },
  {
   "cell_type": "code",
   "execution_count": null,
   "id": "69680738-c5a6-4f10-a72f-ea13bb7304ec",
   "metadata": {},
   "outputs": [],
   "source": [
    "# Импорт класса их модуля collections\n",
    "from collections import OrderedDict\n",
    "\n",
    "\n",
    "# Создание пустого OrderedDict\n",
    "od = OrderedDict()\n",
    "\n",
    "\n",
    "# Добавление элементов аналогично работе со словарем\n",
    "od[\"a\"] = 1\n",
    "od[\"b\"] = 2\n",
    "od[\"c\"] = 3\n",
    "\n",
    "\n",
    "print(od)\n"
   ]
  },
  {
   "cell_type": "markdown",
   "id": "81138d93-0dde-4489-932c-200230fcaddf",
   "metadata": {},
   "source": [
    "### Реализация OrderedDict на основе словаря\n",
    "Класс OrderedDict реализован на основе встроенного словаря Python. Это означает, что он использует все преимущества стандартного словаря, такие как быстрое хешированное обращение к элементам, но добавляет дополнительную функциональность.\n"
   ]
  },
  {
   "cell_type": "markdown",
   "id": "61508bdc-fb9f-4b1f-b364-c308629a351e",
   "metadata": {},
   "source": [
    "### Метод popitem \n",
    "Метод popitem() в OrderedDict, как и в dict, позволяет удалять и возвращать пары \"ключ-значение\" из словаря. В отличие от стандартного словаря, OrderedDict позволяет указать с какой стороны забрать значения.\n",
    "Синтаксис:\n",
    "\n",
    "`key, value = ordered_dict.popitem(last=True)`\n",
    "\n",
    "\n",
    "* last=True (по умолчанию) указывает, что будет удалён последний добавленный элемент.\n",
    "* last=False указывает, что будет удалён первый добавленный элемент."
   ]
  },
  {
   "cell_type": "code",
   "execution_count": null,
   "id": "175518d2-563d-4ec6-be98-e6240176bbeb",
   "metadata": {},
   "outputs": [],
   "source": [
    "# 1.Удаление элементов:\n",
    "from collections import OrderedDict\n",
    "\n",
    "\n",
    "od = OrderedDict()\n",
    "od[\"a\"] = 1\n",
    "od[\"b\"] = 2\n",
    "od[\"c\"] = 3\n",
    "od[\"d\"] = 4\n",
    "\n",
    "\n",
    "# Удаление последнего элемента\n",
    "print(od.popitem())\n",
    "print(od)\n",
    "\n",
    "\n",
    "# Удаление первого элемента\n",
    "print(od.popitem(last=False))\n",
    "print(od)\n"
   ]
  },
  {
   "cell_type": "code",
   "execution_count": null,
   "id": "9a952fa5-7488-4992-a465-a33cccd1197c",
   "metadata": {},
   "outputs": [],
   "source": [
    "#2. Реализация очереди:\n",
    "from collections import OrderedDict\n",
    "\n",
    "\n",
    "queue = OrderedDict()\n",
    "queue[\"first\"] = 1\n",
    "queue[\"second\"] = 2\n",
    "queue[\"third\"] = 3\n",
    "\n",
    "\n",
    "# Удаляем элементы с начала очереди\n",
    "while queue:\n",
    "    print(queue.popitem(last=False))\n"
   ]
  },
  {
   "cell_type": "markdown",
   "id": "f044f589-ffc7-4636-bdf8-b1df18adaaba",
   "metadata": {},
   "source": [
    "### Метод move_to_end\n",
    "Метод move_to_end() уникален для OrderedDict и не доступен в стандартных словарях Python. Его функциональность позволяет легко перемещать элементы в начало или конец словаря, сохраняя при этом порядок остальных элементов. Это делает OrderedDict полезным инструментом для задач, где важно гибкое управление порядком элементов, таких как реализация очередей с приоритетами или перераспределение задач.  \n",
    "Синтаксис:  \n",
    "`ordered_dict.move_to_end(key, last=True)`\n",
    "\n",
    "\n",
    "* key — ключ элемента, который нужно переместить.\n",
    "* last=True (по умолчанию) указывает, что элемент будет перемещён в конец.\n",
    "* last=False указывает, что элемент будет перемещён в начало.\n"
   ]
  },
  {
   "cell_type": "markdown",
   "id": "a407b8ed-4e80-4588-ad43-0e5780e1eea9",
   "metadata": {},
   "source": [
    "#### Пример применения для управления очередью:\n"
   ]
  },
  {
   "cell_type": "code",
   "execution_count": null,
   "id": "903e77f0-c196-4b5f-8102-08ba7543801f",
   "metadata": {},
   "outputs": [],
   "source": [
    "from collections import OrderedDict\n",
    "\n",
    "\n",
    "queue = OrderedDict()\n",
    "queue[\"task1\"] = \"low priority\"\n",
    "queue[\"task2\"] = \"medium priority\"\n",
    "queue[\"task3\"] = \"low priority\"\n",
    "queue[\"task4\"] = \"high priority\"\n",
    "queue[\"task5\"] = \"medium priority\"\n",
    "\n",
    "\n",
    "# Собираем ключи для перемещения\n",
    "keys_to_end = [key for key, value in queue.items() if \"low\" in value]\n",
    "keys_to_start = [key for key, value in queue.items() if \"high\" in value]\n",
    "\n",
    "\n",
    "# Перемещаем задачи с низким приоритетом в конец\n",
    "for key in keys_to_end:\n",
    "    queue.move_to_end(key)\n",
    "# Перемещаем задачи с высоким приоритетом в начало\n",
    "for key in keys_to_start:\n",
    "    queue.move_to_end(key, last=False)\n",
    "\n",
    "\n",
    "print(queue)\n"
   ]
  },
  {
   "cell_type": "code",
   "execution_count": null,
   "id": "93af2d17-2274-4029-9284-06e7e10b0b65",
   "metadata": {},
   "outputs": [],
   "source": [
    "#1. Какой результат будет выведен при выполнении следующего кода?\n",
    "from collections import OrderedDict\n",
    "\n",
    "\n",
    "fruits = OrderedDict()\n",
    "fruits[\"apple\"] = 3\n",
    "fruits[\"banana\"] = 5\n",
    "fruits[\"orange\"] = 2\n",
    "\n",
    "\n",
    "fruits.move_to_end(\"apple\")\n",
    "fruits.move_to_end(\"orange\", last=False)\n",
    "print(list(fruits.keys()))\n"
   ]
  },
  {
   "cell_type": "markdown",
   "id": "a13acc7a-bd4e-46fb-a360-ba4b480823a1",
   "metadata": {},
   "source": [
    "## Класс defaultdict  \n",
    "defaultdict — это класс из модуля collections, который расширяет возможности стандартного словаря Python. Его ключевая особенность — возможность задавать значение по умолчанию для отсутствующих ключей, что упрощает работу с данными и уменьшает вероятность возникновения ошибок KeyError.  \n",
    "Синтаксис:  \n",
    "```\n",
    "from collections import defaultdict\n",
    "\n",
    "\n",
    "defaultdict(default_type)\n",
    "\n",
    "```\n",
    "`default_type` — это функция или класс, который автоматически создаёт значение по умолчанию для отсутствующего ключа.\n"
   ]
  },
  {
   "cell_type": "markdown",
   "id": "afaa420a-dec3-49a4-a0c4-951bd961c3f1",
   "metadata": {},
   "source": [
    "### Особенности и ограничения\n",
    "1. Сохранение значения по умолчанию:\n",
    "   * После обращения к отсутствующему ключу он автоматически добавляется в словарь с значением по умолчанию.\n"
   ]
  },
  {
   "cell_type": "code",
   "execution_count": null,
   "id": "48363daa-c295-4b45-8ef7-2b300a21345c",
   "metadata": {},
   "outputs": [],
   "source": [
    "from collections import defaultdict\n",
    "\n",
    "\n",
    "dd = defaultdict(int)\n",
    "print(dd['missing'])  # Добавлено значение 0\n",
    "print(dd) \n"
   ]
  },
  {
   "cell_type": "markdown",
   "id": "c30d7099-930b-433e-9309-71b858f0c7e2",
   "metadata": {},
   "source": [
    "2. Совместимость:\n",
    "   * defaultdict полностью совместим с методами стандартного словаря Python.\n",
    "3. Отсутствие default_type:\n",
    "   * Если при создании не указан default_type, defaultdict ведёт себя как обычный словарь и вызывает KeyError при доступе к отсутствующему ключу.\n"
   ]
  },
  {
   "cell_type": "code",
   "execution_count": null,
   "id": "10337e9a-2246-4504-a466-dd2660a778f4",
   "metadata": {},
   "outputs": [],
   "source": [
    "#1. Создание словаря со значением типа int по умолчанию:\n",
    "from collections import defaultdict\n",
    "\n",
    "\n",
    "# Словарь с числовым значением по умолчанию\n",
    "dd = defaultdict(int)\n",
    "# Присваивает ключу базовое значение int\n",
    "print(dd['a'])\n",
    "# Обновляет имеющийся ключ\n",
    "dd['a'] += 1\n",
    "print(dd['a'])\n",
    "# Присваивает ключу базовое значение int и обновляет его\n",
    "dd['b'] += 10\n",
    "print(dd['b'])\n",
    "print(dd)\n"
   ]
  },
  {
   "cell_type": "markdown",
   "id": "5027f8f1-f469-460c-aec6-44a0a09574d5",
   "metadata": {},
   "source": [
    "* Здесь int используется как default_type, который возвращает 0 для отсутствующих ключей."
   ]
  },
  {
   "cell_type": "code",
   "execution_count": null,
   "id": "50bb2376-2a42-4996-8b85-28c55e77bc11",
   "metadata": {},
   "outputs": [],
   "source": [
    "#2. Создание словаря со списком по умолчанию:\n",
    "from collections import defaultdict\n",
    "\n",
    "\n",
    "# Словарь с пустым списком по умолчанию\n",
    "dd = defaultdict(list)\n",
    "# Присваивает ключу базовое значение list и обновляет его\n",
    "dd['a'].append(1)\n",
    "# Обновляет список по имеющемуся ключу\n",
    "dd['a'].append(2)\n",
    "# Присваивает ключу базовое значение list и обновляет его\n",
    "dd['b'].append(10)\n",
    "print(dd)\n"
   ]
  },
  {
   "cell_type": "markdown",
   "id": "36aaca1f-6dfd-45a3-99ae-f76dc5fba02d",
   "metadata": {},
   "source": [
    "* Это полезно, когда нужно обработать данные и сгруппировать их по определенному критерию."
   ]
  },
  {
   "cell_type": "code",
   "execution_count": null,
   "id": "c0f6b71b-f0e1-436f-9616-85db82b6c1f9",
   "metadata": {},
   "outputs": [],
   "source": [
    "#3. Использование кастомной функции:\n",
    "from collections import defaultdict\n",
    "\n",
    "\n",
    "# Пользовательская функция для значения по умолчанию\n",
    "def default_value():\n",
    "    return \"default\"\n",
    "\n",
    "\n",
    "dd = defaultdict(default_value)\n",
    "print(dd['missing_key'])\n",
    "print(dd)\n"
   ]
  },
  {
   "cell_type": "markdown",
   "id": "c43faf0a-8543-41bd-968c-d88c2c82379f",
   "metadata": {},
   "source": [
    "### Преимущества defaultdict:\n",
    "1. Упрощение кода:\n",
    "   * Нет необходимости проверять существование ключа перед изменением значения.\n"
   ]
  },
  {
   "cell_type": "code",
   "execution_count": null,
   "id": "b93b9135-ca20-414b-bca7-09bcadf1fd15",
   "metadata": {},
   "outputs": [],
   "source": [
    "# Обычный словарь\n",
    "my_dict = {}\n",
    "if 'a' not in my_dict:\n",
    "    my_dict['a'] = []\n",
    "my_dict['a'].append(1)\n",
    "\n",
    "\n",
    "# defaultdict\n",
    "from collections import defaultdict\n",
    "dd = defaultdict(list)\n",
    "dd['a'].append(1)\n"
   ]
  },
  {
   "cell_type": "markdown",
   "id": "f03a1344-2447-4233-989f-9241ed271ca6",
   "metadata": {},
   "source": [
    "2. Уменьшение количества ошибок:\n",
    "   * Исключает вероятность возникновения KeyError при доступе к отсутствующему ключу.\n",
    "3. Гибкость:\n",
    "   * Можно задать любое значение по умолчанию, используя функцию или класс.\n"
   ]
  },
  {
   "cell_type": "code",
   "execution_count": null,
   "id": "1d7ce56e-dd98-402a-88b5-d548e873f8bb",
   "metadata": {},
   "outputs": [],
   "source": [
    "#1. Какой результат будет выведен при выполнении следующего кода?\n",
    "from collections import defaultdict\n",
    "\n",
    "\n",
    "dd = defaultdict(list)\n",
    "dd['x'].append(1)\n",
    "dd['y'].extend([2, 3])\n",
    "print(dd['z'])\n"
   ]
  },
  {
   "cell_type": "code",
   "execution_count": null,
   "id": "4a075e99-342d-4d21-8fd3-db6ed085645e",
   "metadata": {},
   "outputs": [],
   "source": [
    "#2. Какой результат будет выведен при выполнении следующего кода?\n",
    "from collections import defaultdict\n",
    "\n",
    "\n",
    "words = [\"apple\", \"banana\", \"apple\", \"orange\", \"banana\"]\n",
    "word_count = defaultdict(int)\n",
    "\n",
    "\n",
    "for word in words:\n",
    "    word_count[word] += 1\n",
    "\n",
    "\n",
    "print(word_count[\"apple\"])\n"
   ]
  },
  {
   "cell_type": "code",
   "execution_count": null,
   "id": "7bf94f34-a588-4582-a0c7-ec2e67221358",
   "metadata": {},
   "outputs": [],
   "source": [
    "#3. Какой результат будет выведен при выполнении следующего кода?\n",
    "from collections import defaultdict\n",
    "\n",
    "\n",
    "data = [(\"class1\", \"Alice\"), (\"class2\", \"Bob\"), (\"class1\", \"Charlie\")]\n",
    "grouped = defaultdict(list)\n",
    "\n",
    "\n",
    "for group, name in data:\n",
    "    grouped[group].append(name)\n",
    "\n",
    "\n",
    "print(grouped[\"class1\"])\n"
   ]
  },
  {
   "cell_type": "markdown",
   "id": "af7de158-d658-4904-bb44-ccf4bff0469e",
   "metadata": {},
   "source": [
    "## Класс Counter\n",
    "Counter — это класс из модуля collections, предназначенный для подсчёта количества элементов в итерируемом объекте. Он автоматически создаёт словарь, где элементы — это ключи, а их количество — значения.\n",
    "Counter — полезный инструмент для подсчёта элементов в данных, который упрощает обработку задач, связанных с частотным анализом.  \n",
    "Синтаксис:\n",
    "```\n",
    "from collections import Counter\n",
    "\n",
    "\n",
    "Counter(iterable)\n",
    "Counter(mapping)\n",
    "Counter(**kwargs)\n",
    "\n",
    "```\n",
    "* iterable — итерируемый объект (строка, список и т.д.), элементы которого нужно подсчитать.\n",
    "* mapping — словарь, где ключи — элементы, а значения — их количество.\n",
    "* kwargs — произвольные пары ключ-значение.\n",
    "\n",
    "***Основные особенности:***  \n",
    "1. Автоматический подсчёт элементов:\n",
    "   * Класс Counter позволяет легко подсчитать количество одинаковых элементов в коллекции без явного написания циклов.\n",
    "2. Поддержка стандартных операций со словарями:\n",
    "   * Работает как словарь, предоставляя доступ к методам, значениям и ключам.\n",
    "3. Поддержка арифметических операций:\n",
    "   * Позволяет выполнять сложение, вычитание и другие операции между объектами Counter.\n"
   ]
  },
  {
   "cell_type": "markdown",
   "id": "af34225d-f5f6-4d76-9216-e75f529069df",
   "metadata": {},
   "source": [
    "##### Примеры использования:\n"
   ]
  },
  {
   "cell_type": "code",
   "execution_count": null,
   "id": "3337f964-0a61-437a-857d-d4425bda52d0",
   "metadata": {},
   "outputs": [],
   "source": [
    "#1. Подсчёт символов в строке:\n",
    "from collections import Counter\n",
    "\n",
    "\n",
    "text = \"hello world\"\n",
    "counter = Counter(text)\n",
    "print(counter)\n",
    "\n",
    "\n",
    "#2. Подсчёт слов в списке:\n",
    "from collections import Counter\n",
    "\n",
    "\n",
    "words = [\"apple\", \"banana\", \"apple\", \"cherry\", \"banana\", \"apple\"]\n",
    "counter = Counter(words)\n",
    "print(counter)\n",
    "\n",
    "\n",
    "#3. Создание Counter из словаря:\n",
    "from collections import Counter\n",
    "\n",
    "\n",
    "data = {\"apple\": 3, \"banana\": 2, \"cherry\": 1}\n",
    "counter = Counter(data)\n",
    "print(counter)\n"
   ]
  },
  {
   "cell_type": "markdown",
   "id": "88b91cab-82b7-43c7-aa79-09c8f7992b75",
   "metadata": {},
   "source": [
    "## Методы класса Counter\n",
    "1. `most_common([n])`:  \n",
    "   * Возвращает список из n наиболее часто встречающихся элементов, отсортированных по убыванию.\n",
    "   * Если n не указано, возвращаются все элементы.\n",
    "\n"
   ]
  },
  {
   "cell_type": "code",
   "execution_count": null,
   "id": "6b8f076c-fda2-4148-bb3d-2b9db0c94f0e",
   "metadata": {},
   "outputs": [],
   "source": [
    "counter = Counter(\"banana\")\n",
    "print(counter.most_common(2))"
   ]
  },
  {
   "cell_type": "markdown",
   "id": "d5280f20-b459-4794-896c-4a26e8829057",
   "metadata": {},
   "source": [
    "2. `elements():`  \n",
    "   * Возвращает итератор, который повторяет элементы столько раз, сколько они встречаются.  \n",
    "   * Если элемент имеет отрицательное или нулевое количество, он игнорируется."
   ]
  },
  {
   "cell_type": "code",
   "execution_count": null,
   "id": "d4a05a5a-815f-4776-836a-dd136162988a",
   "metadata": {},
   "outputs": [],
   "source": [
    "counter = Counter({\"a\": 3, \"b\": 1, \"c\": 0})\n",
    "iter_count = counter.elements()\n",
    "print(iter_count)\n",
    "print(list(iter_count))\n"
   ]
  },
  {
   "cell_type": "markdown",
   "id": "edfab0f4-ad48-420d-ba61-ecc08e43084a",
   "metadata": {},
   "source": [
    "3. `subtract([iterable-or-mapping])`:  \n",
    "   * Вычитает элементы, уменьшая их количество. Может принимать как итерируемый объект, так и словарь.\n",
    "   * Значения могут стать отрицательными.\n"
   ]
  },
  {
   "cell_type": "code",
   "execution_count": null,
   "id": "13d54d91-458e-4cf6-ae54-2122ed12578b",
   "metadata": {},
   "outputs": [],
   "source": [
    "counter = Counter(\"banana\")\n",
    "counter.subtract(\"an\")\n",
    "print(counter)\n"
   ]
  },
  {
   "cell_type": "markdown",
   "id": "39a7605a-66a0-47fc-a274-ffb7ce55428f",
   "metadata": {},
   "source": [
    "4. `update([iterable-or-mapping])`:  \n",
    "   * Увеличивает количество элементов из переданного объекта.\n"
   ]
  },
  {
   "cell_type": "code",
   "execution_count": null,
   "id": "6fa59446-148a-4538-a97d-aea7ecb2439e",
   "metadata": {},
   "outputs": [],
   "source": [
    "counter = Counter(\"banana\")\n",
    "counter.update(\"nan\")\n",
    "print(counter)\n"
   ]
  },
  {
   "cell_type": "markdown",
   "id": "d212f8b2-8a15-4f39-ab2f-69c1a2c6b149",
   "metadata": {},
   "source": [
    "### Операции между объектами Counter\n",
    "1. ***Сложение:*** Объединяет два Counter, складывая количества одинаковых элементов.  \n"
   ]
  },
  {
   "cell_type": "code",
   "execution_count": null,
   "id": "d4b1fd85-d581-4f68-b7fe-b3558f50ac6b",
   "metadata": {},
   "outputs": [],
   "source": [
    "c1 = Counter(\"banana\")\n",
    "c2 = Counter(\"apple\")\n",
    "print(c1 + c2) \n"
   ]
  },
  {
   "cell_type": "markdown",
   "id": "e9034ebb-f48e-4dcb-b372-94f5aefc58d3",
   "metadata": {},
   "source": [
    "2. ***Вычитание:*** Вычитает количества, игнорируя отрицательные результаты."
   ]
  },
  {
   "cell_type": "code",
   "execution_count": null,
   "id": "3470fcbe-91c1-4cb7-9255-0ac58a0385fe",
   "metadata": {},
   "outputs": [],
   "source": [
    "c1 = Counter(\"banana\")\n",
    "c2 = Counter(\"an\")\n",
    "print(c1 - c2)\n"
   ]
  },
  {
   "cell_type": "markdown",
   "id": "0d943020-79a9-4bf8-8037-c22603973b48",
   "metadata": {},
   "source": [
    "3. ***Пересечение:*** Оставляет минимальные количества одинаковых элементов."
   ]
  },
  {
   "cell_type": "code",
   "execution_count": null,
   "id": "45accfaf-bf18-4451-9b46-c6e956fdda7a",
   "metadata": {},
   "outputs": [],
   "source": [
    "c1 = Counter(\"banana\")\n",
    "c2 = Counter(\"an\")\n",
    "print(c1 & c2) \n"
   ]
  },
  {
   "cell_type": "markdown",
   "id": "c376603f-c7dc-483b-a3eb-373acdb9755b",
   "metadata": {},
   "source": [
    "4. ***Объединение:*** Оставляет максимальные количества одинаковых элементов."
   ]
  },
  {
   "cell_type": "code",
   "execution_count": null,
   "id": "0fdf2eb3-f7fc-4565-bca2-be3c07808c16",
   "metadata": {},
   "outputs": [],
   "source": [
    "c1 = Counter(\"banana\")\n",
    "c2 = Counter(\"an\")\n",
    "print(c1 | c2)  \n"
   ]
  },
  {
   "cell_type": "markdown",
   "id": "9041b326-bc60-41ab-859c-7094911b95b4",
   "metadata": {},
   "source": [
    "## Практические задания\n"
   ]
  },
  {
   "cell_type": "markdown",
   "id": "9ba2c55b-b36d-47b6-be35-dbd56b60bc8e",
   "metadata": {},
   "source": [
    "1. Частотный анализ слов  \n",
    "Напишите программу, которая подсчитывает количество вхождений каждого слова в тексте.  \n",
    "Программа должна игнорировать регистр слов и символы \".\" и \",\".  \n",
    "Данные:  \n",
    "`text = \"This is a test. This test is only a test.\"`  \n",
    "Пример вывода:  \n",
    "`{'this': 2, 'is': 2, 'a': 2, 'test': 3, 'only': 1}`\n"
   ]
  },
  {
   "cell_type": "code",
   "execution_count": null,
   "id": "b820cd8e-7e3d-40e2-aaeb-7738d32e0a1a",
   "metadata": {},
   "outputs": [],
   "source": [
    "from collections import Counter\n",
    "\n",
    "\n",
    "text = \"This is a test. This test is only a test.\"\n",
    "# Приводим текст к нижнему регистру и разделяем на слова\n",
    "words = text.lower().replace(\".\", \"\").replace(\",\", \"\").split()\n",
    "# Подсчитываем частоту слов\n",
    "word_count = Counter(words)\n",
    "\n",
    "\n",
    "print(dict(word_count))\n"
   ]
  },
  {
   "cell_type": "markdown",
   "id": "a0646541-6660-4faa-a5e7-0f6d38ff62d8",
   "metadata": {},
   "source": [
    "2. Список студентов по факультетам  \n",
    "Напишите программу, которая принимает список студентов и их факультетов (кортежи) и группирует студентов по факультетам в словарь.  \n",
    "Данные:  \n",
    "```\n",
    "students = [\n",
    "    (\"Иван\", \"Физика\"),\n",
    "    (\"Мария\", \"Математика\"),\n",
    "    (\"Пётр\", \"Физика\"),\n",
    "    (\"Анна\", \"Математика\"),\n",
    "    (\"Олег\", \"Информатика\"),\n",
    "    (\"Наталья\", \"Физика\"),\n",
    "]\n",
    "```  \n",
    "Пример вывода:  \n",
    "Факультеты и студенты:  \n",
    "Физика: `['Иван', 'Пётр', 'Наталья']`  \n",
    "Математика: `['Мария', 'Анна']`  \n",
    "Информатика: `['Олег']`\n"
   ]
  },
  {
   "cell_type": "code",
   "execution_count": null,
   "id": "5dbfc32a-649a-4e1d-8af0-b4ca8746f50a",
   "metadata": {},
   "outputs": [],
   "source": [
    "from collections import defaultdict\n",
    "\n",
    "\n",
    "def group_students_by_faculty(students):\n",
    "    faculty_dict = defaultdict(list)\n",
    "    for name, faculty in students:\n",
    "        faculty_dict[faculty].append(name)\n",
    "    return faculty_dict\n",
    "\n",
    "\n",
    "students = [\n",
    "    (\"Иван\", \"Физика\"),\n",
    "    (\"Мария\", \"Математика\"),\n",
    "    (\"Пётр\", \"Физика\"),\n",
    "    (\"Анна\", \"Математика\"),\n",
    "    (\"Олег\", \"Информатика\"),\n",
    "    (\"Наталья\", \"Физика\"),\n",
    "]\n",
    "\n",
    "\n",
    "result = group_students_by_faculty(students)\n",
    "print(\"Факультеты и студенты:\")\n",
    "for faculty, names in result.items():\n",
    "    print(f\"{faculty}: {names}\")\n",
    "\n",
    "\n"
   ]
  },
  {
   "cell_type": "code",
   "execution_count": null,
   "id": "dd89467e-1846-4223-b7ac-ed48cedb5241",
   "metadata": {},
   "outputs": [],
   "source": []
  }
 ],
 "metadata": {
  "kernelspec": {
   "display_name": "Python 3 (ipykernel)",
   "language": "python",
   "name": "python3"
  },
  "language_info": {
   "codemirror_mode": {
    "name": "ipython",
    "version": 3
   },
   "file_extension": ".py",
   "mimetype": "text/x-python",
   "name": "python",
   "nbconvert_exporter": "python",
   "pygments_lexer": "ipython3",
   "version": "3.12.4"
  }
 },
 "nbformat": 4,
 "nbformat_minor": 5
}
