{
 "cells": [
  {
   "cell_type": "markdown",
   "id": "3e591168-62a8-465c-b799-6c7f38d2e906",
   "metadata": {},
   "source": [
    "# Строки: форматирование"
   ]
  },
  {
   "cell_type": "markdown",
   "id": "35ce02c1-46f2-414c-9ddc-8dc64c9b4414",
   "metadata": {},
   "source": [
    "## Форматирование строк"
   ]
  },
  {
   "cell_type": "markdown",
   "id": "12afdac4-9281-4fa0-bcd8-6c5845af8cea",
   "metadata": {},
   "source": [
    "Форматирование строк — это способ вставки значений переменных или результатов выражений внутрь строки. В Python существует несколько способов форматирования строк: с использованием оператора %, метода format(), а также f-строк (интерполяции строк)."
   ]
  },
  {
   "cell_type": "markdown",
   "id": "05d5ceea-9155-4845-939b-9ef6b63d52f6",
   "metadata": {},
   "source": [
    "### C-style форматирование"
   ]
  },
  {
   "cell_type": "markdown",
   "id": "ae3dfdc6-c337-40c9-8bf9-9370f111ccfc",
   "metadata": {},
   "source": [
    "C-style форматирование строк в Python использует оператор % для вставки значений в строку. Этот способ форматирования напоминает стиль форматирования строк в языке программирования C и был одним из первых способов форматирования в Python."
   ]
  },
  {
   "cell_type": "markdown",
   "id": "00b160d9-cccb-4e0a-a7c8-5bba05b00f83",
   "metadata": {},
   "source": [
    "***Синтаксис:***  \n",
    "`\"форматирующая строка\" % (значения)`"
   ]
  },
  {
   "cell_type": "markdown",
   "id": "67c6f60e-074c-4cb5-9082-3545e96dcd6b",
   "metadata": {},
   "source": [
    "* форматирующая строка содержит спецификаторы, начинающиеся с символа %, которые указывают, как следует форматировать соответствующие значения.\n",
    "* значения — это переменные или выражения, которые будут подставлены в строку в том же порядке."
   ]
  },
  {
   "cell_type": "markdown",
   "id": "5fe091d3-c647-4449-9243-5362f39ac6c9",
   "metadata": {},
   "source": [
    "#### Основные спецификаторы:\n",
    "\n",
    "***%s*** Строка  \n",
    "***%d*** Целое число  \n",
    "***%f*** Число с плавающей точкой  \n",
    "***%.2f*** Число с плавающей точкой, округлённое до 2 знаков после запятой\n",
    "\n"
   ]
  },
  {
   "cell_type": "code",
   "execution_count": null,
   "id": "9b0495d2-2306-4c3f-ab06-bbe70ddc67dc",
   "metadata": {},
   "outputs": [],
   "source": [
    "# Форматирование строки и целого числа:\n",
    "name = \"Alice\"\n",
    "age = 30\n",
    "text = \"My name is %s and I am %d years old.\" % (name, age)\n",
    "print(text) \n"
   ]
  },
  {
   "cell_type": "code",
   "execution_count": null,
   "id": "decbe8fa-2107-4018-9f7c-33780e752977",
   "metadata": {},
   "outputs": [],
   "source": [
    "# Форматирование числа с плавающей точкой:\n",
    "pi = 3.14159\n",
    "text = \"The value of pi is approximately %.2f.\" % pi\n",
    "print(text) \n"
   ]
  },
  {
   "cell_type": "markdown",
   "id": "e1c922c3-305c-423d-b673-e8f75ba038e4",
   "metadata": {},
   "source": [
    "### Преобразование типов в C-style\n",
    "В C-style форматировании можно легко преобразовывать числа в строки с помощью спецификаторов формата. Например, использование %s автоматически преобразует любое число в строку. Но при этом невозможно преобразовать строку в число, это вызовет ошибку TypeError.\n"
   ]
  },
  {
   "cell_type": "code",
   "execution_count": null,
   "id": "e7941eb9-eac0-47a8-8ebc-4496642e6c86",
   "metadata": {},
   "outputs": [],
   "source": [
    "#Пример:\n",
    "num = 42\n",
    "text = \"The number is %s.\" % num\n",
    "print(text)\n",
    "\n",
    "\n",
    "text = \"42\"\n",
    "formatted = \"This will cause an error: %d\" % text\n",
    "print(formatted)\n"
   ]
  },
  {
   "cell_type": "code",
   "execution_count": null,
   "id": "60afced3-7a1c-4da4-8641-703937ed1d82",
   "metadata": {},
   "outputs": [],
   "source": [
    "# 1. Какой результат будет выведен при выполнении следующего кода?\n",
    "name = \"Alice\"\n",
    "age = 30\n",
    "text = \"My name is %d and I am %s years old.\" % (name, age)\n",
    "print(text)\n"
   ]
  },
  {
   "cell_type": "code",
   "execution_count": null,
   "id": "064cb565-4f4d-48a1-b699-334fbda3c8d0",
   "metadata": {},
   "outputs": [],
   "source": [
    "# 2. Какой результат будет выведен при выполнении следующего кода?\n",
    "pi = 3.14159\n",
    "text = \"The value of pi is approximately %.4f.\" % pi\n",
    "print(text)\n"
   ]
  },
  {
   "cell_type": "markdown",
   "id": "472cbef1-ea6c-4375-b259-e0fb722c7798",
   "metadata": {},
   "source": [
    "## Метод format\n",
    "Метод format() — это гибкий способ форматирования строк, который позволяет вставлять значения в строку с использованием фигурных скобок {} в качестве плейсхолдеров (места для вставки значений). Этот метод является более современным и предпочтительным по сравнению с C-style форматированием через %.\n"
   ]
  },
  {
   "cell_type": "markdown",
   "id": "c43d334e-2890-46a5-a546-a8397bde2539",
   "metadata": {},
   "source": [
    "#### Синтаксис:  \n",
    "`\"строка с {} внутри\".format(значение1, значение2, ...)`\n",
    "\n",
    "\n",
    "* Внутри строки используются фигурные скобки {}, которые будут заменены переданными значениями из метода format().  \n",
    "* Можно использовать позиционные аргументы, именованные аргументы, а также указание форматов для чисел и строк.\n"
   ]
  },
  {
   "cell_type": "markdown",
   "id": "649c2f96-9d60-4479-a70f-b077d80c0f92",
   "metadata": {},
   "source": [
    "### Основные способы использования:  \n",
    "1. Позиционные аргументы — значения подставляются в порядке их передачи."
   ]
  },
  {
   "cell_type": "code",
   "execution_count": null,
   "id": "62eec9ad-49ad-45b9-9956-a1abb110eef4",
   "metadata": {},
   "outputs": [],
   "source": [
    "name = \"Alice\"\n",
    "age = 30\n",
    "text = \"My name is {} and I am {} years old.\"\n",
    "print(text.format(name, age))"
   ]
  },
  {
   "cell_type": "markdown",
   "id": "d74b8870-0817-4705-adb4-bb223bc62489",
   "metadata": {},
   "source": [
    "2. Именованные аргументы — каждому плейсхолдеру можно присвоить имя, что делает форматирование более понятным. При этом можно несколько раз использовать то же имя."
   ]
  },
  {
   "cell_type": "code",
   "execution_count": null,
   "id": "f9d08701-c8a7-4ff5-92e0-ac81fa2abf83",
   "metadata": {},
   "outputs": [],
   "source": [
    "text = \"My name is {name} and I am {age} years old. Are you also {age} years old?\"\n",
    "print(text.format(name=\"Bob\", age=25))"
   ]
  },
  {
   "cell_type": "markdown",
   "id": "6b7ed365-4690-47b4-8d7f-2b8ccfbe01c1",
   "metadata": {},
   "source": [
    "3. Использование индексов — можно явно указать, какой аргумент вставить в каждое место. Индексы также можно использовать несколько раз."
   ]
  },
  {
   "cell_type": "code",
   "execution_count": null,
   "id": "a1657acc-a27b-4512-a03d-fe854d4b548c",
   "metadata": {},
   "outputs": [],
   "source": [
    "text = \"Her name is {0} and she is {1} years old. {0} loves Python.\"\n",
    "print(text.format(\"Anna\", 28)) "
   ]
  },
  {
   "cell_type": "markdown",
   "id": "b58125ff-70b2-489c-88f2-c5c07550db2f",
   "metadata": {},
   "source": [
    "4. Комбинирование позиционных и именованных аргументов — можно использовать как позиционные, так и именованные аргументы одновременно, что даёт большую гибкость в форматировании строк. При этом все позиционные аргументы указываются строго перед именованными:"
   ]
  },
  {
   "cell_type": "code",
   "execution_count": null,
   "id": "f89d0c78-6f32-4326-8dfa-a8fc0e05cf99",
   "metadata": {},
   "outputs": [],
   "source": [
    "text = \"The {0} is {color}. The {1} is too.\"\n",
    "print(text.format(\"sky\", \"sea\", color=\"blue\")) "
   ]
  },
  {
   "cell_type": "markdown",
   "id": "72f6a953-9236-4041-b623-8c9fdb678f0b",
   "metadata": {},
   "source": [
    "## f-строки"
   ]
  },
  {
   "cell_type": "markdown",
   "id": "185c45b2-874e-46e1-b766-32ea3fd6c453",
   "metadata": {},
   "source": [
    "f-строки — это удобный способ форматирования строк, который был введён в Python 3.6. Они позволяют вставлять переменные и выражения в строку напрямую в строку, используя фигурные скобки {}. f-строки делают код более лаконичным и удобным по сравнению с другими методами форматирования.  \n",
    "***Синтаксис:***  \n",
    "Чтобы использовать f-строки, перед строкой нужно добавить префикс f, а переменные или выражения помещаются напрямую в фигурные скобки {} внутри строки.  \n",
    "`f\"текст {переменная} текст {выражение}\"`\n"
   ]
  },
  {
   "cell_type": "code",
   "execution_count": null,
   "id": "b9786c47-153c-4947-bf40-775a8183c0ce",
   "metadata": {},
   "outputs": [],
   "source": [
    "#1. Вставка переменных:\n",
    "name = \"Alice\"\n",
    "age = 25\n",
    "text = f\"My name is {name} and I am {age} years old.\"\n",
    "print(text) \n"
   ]
  },
  {
   "cell_type": "code",
   "execution_count": null,
   "id": "1e1a5784-b80a-4aca-95d4-ac17a3b7aa5a",
   "metadata": {},
   "outputs": [],
   "source": [
    "# 2.Вставка выражений:\n",
    "x = 10\n",
    "y = 20\n",
    "text = f\"The sum of {x} and {y} is {x + y}.\"\n",
    "print(text)\n"
   ]
  },
  {
   "cell_type": "code",
   "execution_count": null,
   "id": "6fb4f896-2552-4c9d-81f6-681b4ec43bac",
   "metadata": {},
   "outputs": [],
   "source": [
    "# 3.Вставка вызова функций и методов:\n",
    "text = \"Python\"\n",
    "text_info = f\"The length of '{text}' is {len(text)} and its uppercase version is {text.upper()}.\"\n",
    "print(text_info)\n"
   ]
  },
  {
   "cell_type": "code",
   "execution_count": null,
   "id": "202549a7-16b0-49c0-b95f-1b4b9c6e0844",
   "metadata": {},
   "outputs": [],
   "source": [
    "# 4.Вставка в многострочную строку:\n",
    "name = \"Charlie\"\n",
    "age = 30\n",
    "text = f\"\"\"Info\n",
    "Name: {name}\n",
    "Age: {age}\n",
    "\"\"\"\n",
    "print(text)\n"
   ]
  },
  {
   "cell_type": "markdown",
   "id": "54ecc7bd-9d04-42ff-bd87-c44620e09e05",
   "metadata": {},
   "source": [
    "### Преимущества f-строк:  \n",
    "* Удобство: Позволяют вставлять переменные и выражения прямо в строку.  \n",
    "* Читаемость: Делают код более понятным и лаконичным.  \n",
    "* Гибкость: Поддерживают любые выражения внутри {}.  \n",
    "* Быстрота: Работают быстрее, чем другие способы форматирования строк, такие как % и format().\n"
   ]
  },
  {
   "cell_type": "code",
   "execution_count": null,
   "id": "c636789b-ede9-4f70-899a-75a9cec73993",
   "metadata": {},
   "outputs": [],
   "source": [
    "#1. Какой результат будет выведен при выполнении следующего кода?\n",
    "text = f\"The sum of {10} and {20} is {10 + 20}.\"\n",
    "print(text)\n"
   ]
  },
  {
   "cell_type": "code",
   "execution_count": null,
   "id": "f5f48c1c-4060-4861-b100-4f92128f2036",
   "metadata": {},
   "outputs": [],
   "source": [
    "#2. Какой результат будет выведен при выполнении следующего кода?\n",
    "text = \"The {0} is {color}.\".format(\"sky\", color=\"blue\")\n",
    "print(text)\n"
   ]
  },
  {
   "cell_type": "markdown",
   "id": "5e898d55-d792-427a-8deb-1f3f8a009433",
   "metadata": {},
   "source": [
    "## Форматирование чисел  \n",
    "Метод format() и f-строки предоставляют гибкие возможности для форматирования чисел. Эти два метода работают схожим образом, но f-строки более удобны и лаконичны.\n",
    "### Основные способы форматирования чисел:  \n",
    "1. Ограничение количества знаков после запятой: Используйте спецификатор :.nf, где n — это количество знаков после запятой, f — спецификатор для float.\n"
   ]
  },
  {
   "cell_type": "code",
   "execution_count": null,
   "id": "15001361-d127-4cca-ac72-6fc0612a6107",
   "metadata": {},
   "outputs": [],
   "source": [
    "pi = 3.14159\n",
    "# f-строки\n",
    "text_fstring = f\"Pi rounded to 2 decimal places is {pi:.2f}\"\n",
    "# Метод format()\n",
    "text_format1 = \"Pi rounded to 2 decimal places is {:.2f}\".format(pi)\n",
    "text_format2 = \"Pi rounded to 2 decimal places is {0:.2f}\".format(pi)\n",
    "text_format3 = \"Pi rounded to 2 decimal places is {num:.2f}\".format(num=pi)\n",
    "print(text_fstring)\n",
    "print(text_format1)\n",
    "print(text_format2)\n",
    "print(text_format3)\n"
   ]
  },
  {
   "cell_type": "markdown",
   "id": "4737480f-f191-4f2c-879c-b238046acf83",
   "metadata": {},
   "source": [
    "2. Форматирование с разделителями тысяч: Используйте спецификатор :, или :_, чтобы добавить разделители тысяч в больших числах.\n"
   ]
  },
  {
   "cell_type": "code",
   "execution_count": null,
   "id": "183bcad8-c5cd-44c3-b1af-579d3f955129",
   "metadata": {},
   "outputs": [],
   "source": [
    "large_number = 1234567890\n",
    "# f-строки\n",
    "text_fstring = f\"The number with thousand separators: {large_number:,}\"\n",
    "# Метод format()\n",
    "text_format = \"The number with thousand separators: {:,}\".format(large_number)\n",
    "print(text_fstring)\n",
    "print(text_format)\n"
   ]
  },
  {
   "cell_type": "markdown",
   "id": "20555671-3213-477b-9337-62d64560ef12",
   "metadata": {},
   "source": [
    "## Выравнивание и ширина поля  \n",
    "И в методе format(), и в f-строках можно задавать выравнивание текста и чисел, а также ширину поля для их отображения. Это полезно при работе с форматированным выводом, например, в таблицах или структурированных данных.  \n",
    "### Основные спецификаторы для выравнивания и ширины поля:  \n",
    "* `>` — выравнивание по правому краю.  \n",
    "* `<` — выравнивание по левому краю.  \n",
    "* `^` — выравнивание по центру.  \n",
    "* Число после символа выравнивания задаёт минимальную ширину поля, которая будет выделена для значения.\n"
   ]
  },
  {
   "cell_type": "markdown",
   "id": "d46e28d4-05eb-42ed-8d6e-714c97664c2d",
   "metadata": {},
   "source": [
    "***Выравнивание по правому краю:***  \n",
    "* Чтобы выровнять значение по правому краю, используйте символ `>`."
   ]
  },
  {
   "cell_type": "code",
   "execution_count": null,
   "id": "133ca9eb-89de-4508-b173-a07ecae998e8",
   "metadata": {},
   "outputs": [],
   "source": [
    "# f-строки\n",
    "text_fstring = f\"start_{'text':>10}_end\"\n",
    "# Метод format()\n",
    "text_format = \"start_{:>10}_end\"\n",
    "print(text_fstring)\n",
    "print(text_format.format(\"text\"))"
   ]
  },
  {
   "cell_type": "markdown",
   "id": "2464f888-7aed-46b4-9457-896d2f92558d",
   "metadata": {},
   "source": [
    "***Выравнивание по левому краю:***  \n",
    "* Для выравнивания по левому краю используйте символ `<`.\n"
   ]
  },
  {
   "cell_type": "code",
   "execution_count": null,
   "id": "bc741606-ca3a-4a71-98ac-97a236cd8cd5",
   "metadata": {},
   "outputs": [],
   "source": [
    "# f-строки\n",
    "text_fstring = f\"start_{'text':<10}_end\"\n",
    "# Метод format()\n",
    "text_format = \"start_{:<10}_end\"\n",
    "print(text_fstring)\n",
    "print(text_format.format(\"text\"))"
   ]
  },
  {
   "cell_type": "markdown",
   "id": "88c318ed-a209-465f-861c-ea9407e8a617",
   "metadata": {},
   "source": [
    "***Выравнивание по центру:***  \n",
    "* Для выравнивания по центру используйте символ `^`."
   ]
  },
  {
   "cell_type": "code",
   "execution_count": null,
   "id": "b70cb2c9-6e82-4056-9482-b93113cd36de",
   "metadata": {},
   "outputs": [],
   "source": [
    "# f-строки\n",
    "text_fstring = f\"start_{'text':^10}_end\"\n",
    "# Метод format()\n",
    "text_format = \"start_{:^10}_end\"\n",
    "print(text_fstring)\n",
    "print(text_format.format(\"text\"))\n"
   ]
  },
  {
   "cell_type": "markdown",
   "id": "7312157e-a3d5-4cce-b16e-f5bf4d099615",
   "metadata": {},
   "source": [
    "***Задание минимальной ширины поля для чисел:***  \n",
    "* Можно задать только минимальную ширину для чисел, добавив число после символа двоеточия.\n",
    "* Для чисел выравнивание по умолчанию будет по правому краю.\n",
    "* Для строк выравнивание по умолчанию будет по левому краю.\n"
   ]
  },
  {
   "cell_type": "code",
   "execution_count": null,
   "id": "e4270981-1e00-4f26-8ccf-5eabe141b2a3",
   "metadata": {},
   "outputs": [],
   "source": [
    "number = 40\n",
    "text = 'hi'\n",
    "# f-строки\n",
    "text_fstring = f\"start_{number:5}_end\"\n",
    "# Метод format()\n",
    "text_format = \"start_{:5}_end\"\n",
    "print(text_fstring)\n",
    "print(text_format.format(text))\n"
   ]
  },
  {
   "cell_type": "markdown",
   "id": "a604cda5-f102-4ba7-a314-d9c1406b766b",
   "metadata": {},
   "source": [
    "***Выравнивание чисел с заполнением другими символами:***  \n",
    "* Python позволяет выравнивать строки и числа не только с помощью пробелов, но и с заполнением другими символами, например, нулями или любыми другими символами, которые вы укажете.\n",
    "* Для этого в f-строках можно указать символ заполнения перед символом выравнивания (<, >, ^) или до значения."
   ]
  },
  {
   "cell_type": "code",
   "execution_count": null,
   "id": "89daf546-1669-4034-a931-917812f195cf",
   "metadata": {},
   "outputs": [],
   "source": [
    "# Заполнение нулями\n",
    "number = 40\n",
    "text = f\"{number:0>5}\"\n",
    "print(text)\n",
    "\n",
    "\n",
    "# Заполнение нижним подчеркиванием\n",
    "text = f\"{'Python':_^10}\"\n",
    "print(text)\n"
   ]
  },
  {
   "cell_type": "markdown",
   "id": "26845ad9-6d35-4c10-974c-e1bdea15347e",
   "metadata": {},
   "source": [
    "## Методы выравнивания строк\n",
    "В Python для выравнивания строк существуют три метода (center, ljust, rjust), которые помогают располагать строки по центру, слева или справа с использованием заданной ширины и, при необходимости, с заполнением оставшегося пространства символами.\n",
    "1. `str.ljust(width[, fillchar])` — выравнивание строки по левому краю.  \n",
    "2. `str.rjust(width[, fillchar])` — выравнивание строки по правому краю.  \n",
    "3. `str.center(width[, fillchar])` — выравнивание строки по центру.  \n",
    "***Синтаксис:***  \n",
    "`str.rjust(width[, fillchar])`\n",
    "\n",
    "\n",
    "* width — минимальная ширина строки.\n",
    "* fillchar (опционально) — символ для заполнения свободного пространства (по умолчанию — пробел).\n"
   ]
  },
  {
   "cell_type": "code",
   "execution_count": null,
   "id": "2468e1ec-5a57-4bfb-8eff-2b67ced6903b",
   "metadata": {},
   "outputs": [],
   "source": [
    "text = \"Python\"\n",
    "\n",
    "\n",
    "# ljust(): выравнивание по левому краю\n",
    "print(text.ljust(15))\n",
    "print(text.ljust(15, '-'))\n",
    "\n",
    "\n",
    "# rjust(): выравнивание по правому краю\n",
    "print(text.rjust(15))\n",
    "print(text.rjust(15, '-')) \n",
    "\n",
    "\n",
    "# center(): выравнивание по центру\n",
    "print(text.center(15))\n",
    "print(text.center(15, '-'))\n"
   ]
  },
  {
   "cell_type": "code",
   "execution_count": null,
   "id": "06751cab-624a-4e45-8cf0-48278b38d799",
   "metadata": {},
   "outputs": [],
   "source": [
    "# 1. Какой результат будет выведен при выполнении следующего кода?\n",
    "number = 1234.5678\n",
    "print(f\"Formatted number: {number:.2f}\")\n"
   ]
  },
  {
   "cell_type": "code",
   "execution_count": null,
   "id": "7a3f12c5-54e7-417e-a01a-b915251ef910",
   "metadata": {},
   "outputs": [],
   "source": [
    "#2. Какой результат будет выведен при выполнении следующего кода?\n",
    "large_number = 9876543210\n",
    "print(f\"The number is: {large_number:_}\")\n"
   ]
  },
  {
   "cell_type": "code",
   "execution_count": null,
   "id": "ab3e4858-c656-4709-a534-a4bbbd4c8287",
   "metadata": {},
   "outputs": [],
   "source": [
    "#3. Какой результат будет выведен при выполнении следующего кода?\n",
    "text = f\"{'Python':_^10}\"\n",
    "print(text)\n"
   ]
  },
  {
   "cell_type": "markdown",
   "id": "55ffdb95-c13e-4dc2-87b6-d2243e9ef171",
   "metadata": {},
   "source": [
    "## Практические задания\n"
   ]
  },
  {
   "cell_type": "markdown",
   "id": "b0c03f64-7026-451c-a1d7-ac40759dd3bb",
   "metadata": {},
   "source": [
    "Напишите программу, которая обрабатывает строку и выводит её, добавив к каждому слову его порядковый номер, выравнивая текст по левому краю с длиной в 15 символов. Слова выводите с большой буквы.  \n",
    "Пример вывода:  \n",
    "Введите строку: Hello world Python is great   \n",
    "1. Hello          \n",
    "2. World          \n",
    "3. Python         \n",
    "4. Is             \n",
    "5. Great      \n"
   ]
  },
  {
   "cell_type": "code",
   "execution_count": null,
   "id": "deb663f7-5174-4ed5-b688-3db0059c391c",
   "metadata": {},
   "outputs": [],
   "source": [
    "text = \"Hello world Python is great\"\n",
    "words = text.split()\n",
    "\n",
    "\n",
    "i = 1\n",
    "for word in words:\n",
    "    print(f\"{i}. {word.capitalize():<15}\")\n",
    "    i += 1\n"
   ]
  },
  {
   "cell_type": "markdown",
   "id": "b48495c5-7c31-4202-a12e-b46a9a0e4a47",
   "metadata": {},
   "source": [
    "Напишите программу, которая принимает дату в виде числа, месяца и года, а затем выводит её в формате \"dd/mm/yyyy\", где день и месяц всегда состоят из двух цифра.  \n",
    "Пример вывода:  \n",
    "Введите день: 3  \n",
    "Введите месяц: 7  \n",
    "Введите год: 2024  \n",
    "Дата: 03/07/2024\n"
   ]
  },
  {
   "cell_type": "code",
   "execution_count": null,
   "id": "248491ae-0472-423f-ba90-16d15881c7e0",
   "metadata": {},
   "outputs": [],
   "source": [
    "day = int(input(\"Введите день: \"))\n",
    "month = int(input(\"Введите месяц: \"))\n",
    "year = int(input(\"Введите год: \"))\n",
    "\n",
    "\n",
    "formatted_date = \"{:0>2}/{:0>2}/{}\".format(day, month, year)\n",
    "print(f\"Дата: {formatted_date}\")"
   ]
  },
  {
   "cell_type": "code",
   "execution_count": null,
   "id": "634f9068-9c12-44d1-85b1-e78af7dcd60d",
   "metadata": {},
   "outputs": [],
   "source": []
  }
 ],
 "metadata": {
  "kernelspec": {
   "display_name": "Python 3 (ipykernel)",
   "language": "python",
   "name": "python3"
  },
  "language_info": {
   "codemirror_mode": {
    "name": "ipython",
    "version": 3
   },
   "file_extension": ".py",
   "mimetype": "text/x-python",
   "name": "python",
   "nbconvert_exporter": "python",
   "pygments_lexer": "ipython3",
   "version": "3.12.4"
  }
 },
 "nbformat": 4,
 "nbformat_minor": 5
}
