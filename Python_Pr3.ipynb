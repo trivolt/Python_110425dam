{
 "cells": [
  {
   "cell_type": "markdown",
   "id": "32d92bd0-2ef7-4fcc-b701-1cb400eec374",
   "metadata": {},
   "source": [
    "# Практикум 3"
   ]
  },
  {
   "cell_type": "code",
   "execution_count": null,
   "id": "27eff48e-f30e-4c8d-abb4-ff88643087ef",
   "metadata": {},
   "outputs": [],
   "source": [
    "1 2 3 4 5 .... 10\n",
    "\n",
    "сумма = "
   ]
  },
  {
   "cell_type": "code",
   "execution_count": 2,
   "id": "b87637bb-f1ea-46e0-b92f-962234acf34b",
   "metadata": {},
   "outputs": [
    {
     "name": "stdin",
     "output_type": "stream",
     "text": [
      "введите число до которого вы хотите найти сумму значений ряда: 100\n"
     ]
    },
    {
     "name": "stdout",
     "output_type": "stream",
     "text": [
      "5050\n"
     ]
    }
   ],
   "source": [
    "n = int(input('введите число до которого вы хотите найти сумму значений ряда:'))\n",
    "start = 1\n",
    "sum = 0\n",
    "while start <= n:\n",
    "    sum += start # sum = sum + start\n",
    "    start += 1\n",
    "print(sum)"
   ]
  },
  {
   "cell_type": "markdown",
   "id": "b2a94dcc-abef-492a-8e59-45ddb59428bd",
   "metadata": {},
   "source": [
    "### Задача 2\n",
    "***Условие задачи*** найти сумму четных чисел ряда\n"
   ]
  },
  {
   "cell_type": "code",
   "execution_count": 3,
   "id": "c0f262eb-ab47-40bb-a1f3-fbe379f5c088",
   "metadata": {},
   "outputs": [
    {
     "name": "stdin",
     "output_type": "stream",
     "text": [
      "введите число до которого вы хотите найти сумму значений ряда: 100\n"
     ]
    },
    {
     "name": "stdout",
     "output_type": "stream",
     "text": [
      "2550\n"
     ]
    }
   ],
   "source": [
    "n = int(input('введите число до которого вы хотите найти сумму значений ряда:'))\n",
    "start = 1\n",
    "sum = 0\n",
    "while start <= n:\n",
    "    if start % 2 == 0:\n",
    "        sum += start # sum = sum + start\n",
    "    start += 1\n",
    "print(sum)"
   ]
  },
  {
   "cell_type": "code",
   "execution_count": 4,
   "id": "83cf8b33-82ad-43c3-b39c-acc89a7bb76d",
   "metadata": {},
   "outputs": [
    {
     "name": "stdin",
     "output_type": "stream",
     "text": [
      "введите число до которого вы хотите найти сумму значений ряда: 100\n"
     ]
    },
    {
     "name": "stdout",
     "output_type": "stream",
     "text": [
      "198\n"
     ]
    }
   ],
   "source": [
    "n = int(input('введите число до которого вы хотите найти сумму значений ряда:'))\n",
    "start = 1\n",
    "sum = 0\n",
    "while start <= n:\n",
    "    if start % 3 == 0 and start % 11 == 0:\n",
    "        sum += start # sum = sum + start\n",
    "    start += 1\n",
    "print(sum)"
   ]
  },
  {
   "cell_type": "code",
   "execution_count": null,
   "id": "a521c02f-bca7-44d3-9323-316c7d45261e",
   "metadata": {},
   "outputs": [],
   "source": [
    "a = 34"
   ]
  },
  {
   "cell_type": "markdown",
   "id": "220fa34b-1875-46df-8032-3f6889250f5c",
   "metadata": {},
   "source": [
    "1. Для заданного целого числа N подсчитать количество четных чисел, меньше или равных N.\n"
   ]
  },
  {
   "cell_type": "code",
   "execution_count": 5,
   "id": "236cacf4-b388-49a6-bd55-5496ad2d3116",
   "metadata": {},
   "outputs": [
    {
     "name": "stdin",
     "output_type": "stream",
     "text": [
      " 10\n"
     ]
    },
    {
     "name": "stdout",
     "output_type": "stream",
     "text": [
      "5\n"
     ]
    }
   ],
   "source": [
    "n = int(input()) #10\n",
    "start = 1\n",
    "cnt = 0\n",
    "while start <= n:\n",
    "    if start % 2 == 0:\n",
    "        cnt += 1\n",
    "    start += 1\n",
    "print(cnt)"
   ]
  },
  {
   "cell_type": "markdown",
   "id": "916d6c60-b0a9-48b8-9105-7e7c1f3aa81d",
   "metadata": {},
   "source": [
    "2. Вычислите n-е число ряда Фибоначчи с помощью цикла while. Что такое числа Фибоначчи?\n"
   ]
  },
  {
   "cell_type": "code",
   "execution_count": 11,
   "id": "e8f66739-7cef-4097-ba95-91c7e1199fbc",
   "metadata": {},
   "outputs": [
    {
     "name": "stdin",
     "output_type": "stream",
     "text": [
      " 8\n"
     ]
    },
    {
     "name": "stdout",
     "output_type": "stream",
     "text": [
      "21\n"
     ]
    }
   ],
   "source": [
    "n = int(input()) #8\n",
    "\n",
    "a = 0\n",
    "b = 1\n",
    "cnt = 0\n",
    "\n",
    "while cnt < n:\n",
    "    a,b = b, a+b\n",
    "    cnt += 1\n",
    "print(a)\n"
   ]
  },
  {
   "cell_type": "markdown",
   "id": "ea90ac13-64a3-475b-940e-43cb9558f7c2",
   "metadata": {},
   "source": [
    "3. По данному натуральному числу N найдите наибольшую целую степень двойки, не превосходящую N. Выведите показатель степени и саму степень.\n"
   ]
  },
  {
   "cell_type": "code",
   "execution_count": 13,
   "id": "f07a52c3-ae9e-4f88-939f-8d57011c9740",
   "metadata": {},
   "outputs": [
    {
     "name": "stdin",
     "output_type": "stream",
     "text": [
      " 24\n"
     ]
    },
    {
     "name": "stdout",
     "output_type": "stream",
     "text": [
      "4\n"
     ]
    }
   ],
   "source": [
    "n = int(input()) #12\n",
    "\n",
    "power = 0\n",
    "\n",
    "while 2**power <= n:\n",
    "    power += 1\n",
    "    \n",
    "print(power-1)"
   ]
  },
  {
   "cell_type": "markdown",
   "id": "608abd81-27a3-4b43-8f91-70e895d43eb4",
   "metadata": {},
   "source": [
    "4. Дано целое число, не меньшее 2. Выведите его наименьший натуральный делитель, отличный от 1.\n"
   ]
  },
  {
   "cell_type": "code",
   "execution_count": 18,
   "id": "74502351-779e-4034-827d-fd5d337f48e5",
   "metadata": {},
   "outputs": [
    {
     "name": "stdin",
     "output_type": "stream",
     "text": [
      " 1\n"
     ]
    },
    {
     "name": "stdout",
     "output_type": "stream",
     "text": [
      "Не удовл усл\n"
     ]
    }
   ],
   "source": [
    "n = int(input())\n",
    "div = 2\n",
    "\n",
    "while div <= n:\n",
    "    if n % div == 0:\n",
    "        print('Наименьший делитель: ',div)\n",
    "        break\n",
    "    else:\n",
    "        div += 1\n",
    "print('Не удовл усл')\n",
    "\n"
   ]
  },
  {
   "cell_type": "markdown",
   "id": "7ea76488-db62-439b-8d69-47e2d63a9fda",
   "metadata": {},
   "source": [
    "5. Определите сумму всех элементов последовательности, завершающейся числом 0. Числа, следующие за первым нулем, учитывать не нужно. Числа считываем с клавиатуры с помощью input()\n"
   ]
  },
  {
   "cell_type": "code",
   "execution_count": 19,
   "id": "6e5adebf-3bcb-4304-88b1-ffa79540822b",
   "metadata": {},
   "outputs": [
    {
     "name": "stdin",
     "output_type": "stream",
     "text": [
      " 1\n",
      " 2\n",
      " 3\n",
      " 4\n",
      " 5\n",
      " 0\n"
     ]
    },
    {
     "name": "stdout",
     "output_type": "stream",
     "text": [
      "15\n"
     ]
    }
   ],
   "source": [
    "sum = 0 # 1 2 3 4 0\n",
    "while True:\n",
    "    n = int(input())\n",
    "    if n == 0:\n",
    "        break\n",
    "    else:\n",
    "        sum += n\n",
    "print(sum)\n",
    "    "
   ]
  },
  {
   "cell_type": "code",
   "execution_count": null,
   "id": "c667fe53-9bd8-4bdc-86c9-f9367a6b19d4",
   "metadata": {},
   "outputs": [],
   "source": []
  },
  {
   "cell_type": "code",
   "execution_count": null,
   "id": "55207dd5-e6e7-4d04-9554-b31aa36c5c06",
   "metadata": {},
   "outputs": [],
   "source": []
  },
  {
   "cell_type": "code",
   "execution_count": null,
   "id": "fbebb854-8a76-4e4d-8ce1-f629d6daef00",
   "metadata": {},
   "outputs": [],
   "source": []
  },
  {
   "cell_type": "markdown",
   "id": "ea4f3857-2da2-47d5-b58b-43dfb4273749",
   "metadata": {},
   "source": [
    "6. Определите среднее значение всех элементов последовательности, завершающейся числом 0. Среднее значение - сумма всех элементов, поделенная на их количество. \n"
   ]
  },
  {
   "cell_type": "code",
   "execution_count": null,
   "id": "6c62f874-cf40-4150-9f28-66f92c24ae73",
   "metadata": {},
   "outputs": [],
   "source": []
  },
  {
   "cell_type": "markdown",
   "id": "41ff0433-3067-446c-8605-5c991bd1b280",
   "metadata": {},
   "source": [
    "7. Последовательность состоит из натуральных чисел и завершается числом 0. Определите значение наибольшего элемента последовательности.\n"
   ]
  },
  {
   "cell_type": "code",
   "execution_count": null,
   "id": "ecde0e4f-d794-4785-a65a-f207f67840ac",
   "metadata": {},
   "outputs": [],
   "source": []
  },
  {
   "cell_type": "markdown",
   "id": "217db155-5793-4fe9-b593-130f96537c56",
   "metadata": {},
   "source": [
    "8. Последовательность состоит из натуральных чисел и завершается числом 0. Определите индекс наибольшего элемента последовательности. Нумерация элементов начинается с нуля.\n"
   ]
  },
  {
   "cell_type": "code",
   "execution_count": null,
   "id": "5a39c8a3-d1a3-4922-a2de-fca8ec94ebe4",
   "metadata": {},
   "outputs": [],
   "source": []
  },
  {
   "cell_type": "markdown",
   "id": "a8d819f7-5064-4505-8d4b-3f35215b0140",
   "metadata": {},
   "source": [
    "9. Дан объем шара X куб. ед. Найдите радиус фигуры.\n"
   ]
  },
  {
   "attachments": {
    "04f6189f-602e-4a78-9724-15e850f00b63.png": {
     "image/png": "[encoded data removed]"
    }
   },
   "cell_type": "markdown",
   "id": "5c0c6f3e-7307-4033-ace6-10d5c6380c8f",
   "metadata": {},
   "source": [
    "![2024-12-03_08-58-21.png](attachment:04f6189f-602e-4a78-9724-15e850f00b63.png)"
   ]
  },
  {
   "cell_type": "markdown",
   "id": "a464098b-4a05-4b54-bc98-1a9c52371fcd",
   "metadata": {},
   "source": [
    "10. Вводится вещественное число и нам нужно его округлить до 2 и 3 разряда после запятой и вывести полученный результат через пробел в одной строчке. Воспользуемся функцией round — встроенная функция Python. Ее задача — округлять число с плавающей точкой до той цифры, которую задает пользователь. Функция round помогает «улучшать» числа с плавающей точкой.\r\n"
   ]
  },
  {
   "cell_type": "code",
   "execution_count": null,
   "id": "46bb4160-687f-45ae-aae0-f36898b2362a",
   "metadata": {},
   "outputs": [],
   "source": []
  },
  {
   "cell_type": "markdown",
   "id": "1cbf37f8-c66e-494e-b8fe-7c4155b29947",
   "metadata": {},
   "source": [
    "11. Так как в Python операции с вещественными числами могут давать неожиданные результаты (в частности, 0.1 + 0.2 не будет в точности равняться 0.3), стоит задача с этим как-то справляться. Требуется написать  программу eqv(a, b, c), которая принимает 3 числа. Числа a и b складываются. Затем эта сумма сравнивается с числом “с” с определенной степенью точности. Точность равняется 0.01 % от большего из чисел a и b. Функция вернет True, если выполняется равенство, иначе False.\n"
   ]
  },
  {
   "cell_type": "code",
   "execution_count": null,
   "id": "825854a6-8dfd-4cf6-9513-4c4a10cd6ae6",
   "metadata": {},
   "outputs": [],
   "source": []
  },
  {
   "cell_type": "markdown",
   "id": "a4626317-4709-4fa8-842c-94eb2dc886c7",
   "metadata": {},
   "source": [
    "12. Перевод из 10-й CC в 2-ю"
   ]
  },
  {
   "cell_type": "code",
   "execution_count": null,
   "id": "098285b7-6666-4dfa-8b22-030b628c8519",
   "metadata": {},
   "outputs": [],
   "source": []
  },
  {
   "cell_type": "markdown",
   "id": "729789e3-5512-492d-9383-5babac9507ff",
   "metadata": {},
   "source": [
    "13. Перевод из 2-й CC в 10-ю"
   ]
  },
  {
   "cell_type": "code",
   "execution_count": null,
   "id": "c4e3dba4-4257-4a74-9a53-269be17caf26",
   "metadata": {},
   "outputs": [],
   "source": []
  },
  {
   "cell_type": "code",
   "execution_count": null,
   "id": "a502cc6a-a684-4402-b3ec-18043c5902ba",
   "metadata": {},
   "outputs": [],
   "source": []
  }
 ],
 "metadata": {
  "kernelspec": {
   "display_name": "Python 3 (ipykernel)",
   "language": "python",
   "name": "python3"
  },
  "language_info": {
   "codemirror_mode": {
    "name": "ipython",
    "version": 3
   },
   "file_extension": ".py",
   "mimetype": "text/x-python",
   "name": "python",
   "nbconvert_exporter": "python",
   "pygments_lexer": "ipython3",
   "version": "3.12.4"
  }
 },
 "nbformat": 4,
 "nbformat_minor": 5
}
