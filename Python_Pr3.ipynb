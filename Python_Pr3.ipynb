{
 "cells": [
  {
   "cell_type": "markdown",
   "id": "32d92bd0-2ef7-4fcc-b701-1cb400eec374",
   "metadata": {},
   "source": [
    "# Практикум 3"
   ]
  },
  {
   "cell_type": "markdown",
   "id": "4bafed14-0fdd-4ba3-a286-91488a568634",
   "metadata": {},
   "source": [
    "1. ***Округление вверх и вниз***\n",
    "\n",
    "Напишите программу, которая:\n",
    "принимает число с плавающей запятой\n",
    "выводит результат округления вверх и вниз\n",
    "\n",
    "Пример вывода:\n",
    "\n",
    "Введите число: 4.3\n",
    "\n",
    "Округление вверх: 5\n",
    "\n",
    "Округление вниз: 4"
   ]
  },
  {
   "cell_type": "code",
   "execution_count": null,
   "id": "287ca9ea-a048-47d3-9614-e76d388691f7",
   "metadata": {},
   "outputs": [],
   "source": []
  },
  {
   "cell_type": "markdown",
   "id": "925c7396-08f1-4519-81bc-13a936cd35bb",
   "metadata": {},
   "source": [
    "2. Найти сумму числового ряда от 1 до введенного числа n"
   ]
  },
  {
   "cell_type": "code",
   "execution_count": 2,
   "id": "b87637bb-f1ea-46e0-b92f-962234acf34b",
   "metadata": {},
   "outputs": [
    {
     "name": "stdin",
     "output_type": "stream",
     "text": [
      "введите число до которого вы хотите найти сумму значений ряда: 100\n"
     ]
    },
    {
     "name": "stdout",
     "output_type": "stream",
     "text": [
      "5050\n"
     ]
    }
   ],
   "source": [
    "n = int(input('введите число до которого вы хотите найти сумму значений ряда:'))\n",
    "start = 1\n",
    "sum = 0\n",
    "while start <= n:\n",
    "    sum += start # sum = sum + start\n",
    "    start += 1\n",
    "print(sum)"
   ]
  },
  {
   "cell_type": "markdown",
   "id": "b2a94dcc-abef-492a-8e59-45ddb59428bd",
   "metadata": {},
   "source": [
    "Найти сумму четных чисел ряда\n"
   ]
  },
  {
   "cell_type": "code",
   "execution_count": 3,
   "id": "c0f262eb-ab47-40bb-a1f3-fbe379f5c088",
   "metadata": {},
   "outputs": [
    {
     "name": "stdin",
     "output_type": "stream",
     "text": [
      "введите число до которого вы хотите найти сумму значений ряда: 100\n"
     ]
    },
    {
     "name": "stdout",
     "output_type": "stream",
     "text": [
      "2550\n"
     ]
    }
   ],
   "source": [
    "n = int(input('введите число до которого вы хотите найти сумму значений ряда:'))\n",
    "start = 1\n",
    "sum = 0\n",
    "while start <= n:\n",
    "    if start % 2 == 0:\n",
    "        sum += start # sum = sum + start\n",
    "    start += 1\n",
    "print(sum)"
   ]
  },
  {
   "cell_type": "markdown",
   "id": "ebc32388-4fad-4f11-a750-32404e002cbf",
   "metadata": {},
   "source": [
    "Найти сумму чисел числового ряда, которые делятся на 3 и 11"
   ]
  },
  {
   "cell_type": "code",
   "execution_count": 4,
   "id": "83cf8b33-82ad-43c3-b39c-acc89a7bb76d",
   "metadata": {},
   "outputs": [
    {
     "name": "stdin",
     "output_type": "stream",
     "text": [
      "введите число до которого вы хотите найти сумму значений ряда: 100\n"
     ]
    },
    {
     "name": "stdout",
     "output_type": "stream",
     "text": [
      "198\n"
     ]
    }
   ],
   "source": [
    "n = int(input('введите число до которого вы хотите найти сумму значений ряда:'))\n",
    "start = 1\n",
    "sum = 0\n",
    "while start <= n:\n",
    "    if start % 3 == 0 and start % 11 == 0:\n",
    "        sum += start # sum = sum + start\n",
    "    start += 1\n",
    "print(sum)"
   ]
  },
  {
   "cell_type": "markdown",
   "id": "038c71b9-0fdd-4e4b-ae98-3ca9252d1fd5",
   "metadata": {},
   "source": [
    "3. ***Счётчик факториала***\n",
    " \n",
    "Напишите программу, которая рассчитывает факториал заданного числа \n",
    "(произведение всех целых чисел от 1 до самого числа) двумя способами.\n",
    "Выведите оба результата и сравните равны ли они.\n",
    "\n",
    "Пример вывода:\n",
    "\n",
    "Введите число: 5\n",
    "\n",
    "Факториал числа 5 первым способом: 120\n",
    "\n",
    "Факториал числа 5 вторым способом: 120\n",
    "\n",
    "Результаты равны? True"
   ]
  },
  {
   "cell_type": "code",
   "execution_count": null,
   "id": "5503d985-3592-46a6-a8dd-bfe246e84cbc",
   "metadata": {},
   "outputs": [],
   "source": []
  },
  {
   "cell_type": "code",
   "execution_count": null,
   "id": "83bb25f2-ec4f-49cd-946b-2d99bb76785d",
   "metadata": {},
   "outputs": [],
   "source": []
  },
  {
   "cell_type": "markdown",
   "id": "220fa34b-1875-46df-8032-3f6889250f5c",
   "metadata": {},
   "source": [
    "Для заданного целого числа N подсчитать количество четных чисел, меньше или равных N.\n"
   ]
  },
  {
   "cell_type": "code",
   "execution_count": 5,
   "id": "236cacf4-b388-49a6-bd55-5496ad2d3116",
   "metadata": {},
   "outputs": [
    {
     "name": "stdin",
     "output_type": "stream",
     "text": [
      " 10\n"
     ]
    },
    {
     "name": "stdout",
     "output_type": "stream",
     "text": [
      "5\n"
     ]
    }
   ],
   "source": [
    "n = int(input()) #10\n",
    "start = 1\n",
    "cnt = 0\n",
    "while start <= n:\n",
    "    if start % 2 == 0:\n",
    "        cnt += 1\n",
    "    start += 1\n",
    "print(cnt)"
   ]
  },
  {
   "cell_type": "markdown",
   "id": "ea90ac13-64a3-475b-940e-43cb9558f7c2",
   "metadata": {},
   "source": [
    "По данному натуральному числу N найдите наибольшую целую степень двойки, не превосходящую N. Выведите показатель степени и саму степень.\n"
   ]
  },
  {
   "cell_type": "code",
   "execution_count": 13,
   "id": "f07a52c3-ae9e-4f88-939f-8d57011c9740",
   "metadata": {},
   "outputs": [
    {
     "name": "stdin",
     "output_type": "stream",
     "text": [
      " 24\n"
     ]
    },
    {
     "name": "stdout",
     "output_type": "stream",
     "text": [
      "4\n"
     ]
    }
   ],
   "source": [
    "n = int(input()) #12\n",
    "\n",
    "power = 0\n",
    "\n",
    "while 2**power <= n:\n",
    "    power += 1\n",
    "    \n",
    "print(power-1)"
   ]
  },
  {
   "cell_type": "markdown",
   "id": "608abd81-27a3-4b43-8f91-70e895d43eb4",
   "metadata": {},
   "source": [
    "Дано целое число, не меньшее 2. Выведите его наименьший натуральный делитель, отличный от 1.\n"
   ]
  },
  {
   "cell_type": "code",
   "execution_count": 18,
   "id": "74502351-779e-4034-827d-fd5d337f48e5",
   "metadata": {},
   "outputs": [
    {
     "name": "stdin",
     "output_type": "stream",
     "text": [
      " 1\n"
     ]
    },
    {
     "name": "stdout",
     "output_type": "stream",
     "text": [
      "Не удовл усл\n"
     ]
    }
   ],
   "source": [
    "n = int(input())\n",
    "div = 2\n",
    "\n",
    "while div <= n:\n",
    "    if n % div == 0:\n",
    "        print('Наименьший делитель: ',div)\n",
    "        break\n",
    "    else:\n",
    "        div += 1\n",
    "print('Не удовл усл')\n",
    "\n"
   ]
  },
  {
   "cell_type": "markdown",
   "id": "7ea76488-db62-439b-8d69-47e2d63a9fda",
   "metadata": {},
   "source": [
    "Определите сумму всех элементов последовательности, завершающейся числом 0. Числа, следующие за первым нулем, учитывать не нужно. Числа считываем с клавиатуры с помощью input()\n"
   ]
  },
  {
   "cell_type": "code",
   "execution_count": 19,
   "id": "6e5adebf-3bcb-4304-88b1-ffa79540822b",
   "metadata": {},
   "outputs": [
    {
     "name": "stdin",
     "output_type": "stream",
     "text": [
      " 1\n",
      " 2\n",
      " 3\n",
      " 4\n",
      " 5\n",
      " 0\n"
     ]
    },
    {
     "name": "stdout",
     "output_type": "stream",
     "text": [
      "15\n"
     ]
    }
   ],
   "source": [
    "sum = 0 # 1 2 3 4 0\n",
    "while True:\n",
    "    n = int(input())\n",
    "    if n == 0:\n",
    "        break\n",
    "    else:\n",
    "        sum += n\n",
    "print(sum)\n",
    "    "
   ]
  },
  {
   "cell_type": "markdown",
   "id": "8af44a1f-2f86-4a34-8270-a85194bc02f1",
   "metadata": {},
   "source": [
    "4. ***Симулятор кассы***\n",
    "\n",
    "Напишите программу, которая принимает от пользователя цены товаров. Пользователь вводит цены по одному (ввод завершается при вводе нуля). \n",
    "\n",
    "Программа должна:\n",
    "\n",
    "* Рассчитать и вывести общую сумму покупки, округленную до целого числа.\n",
    "* Определить, какую сумму покупатель должен заплатить, если у него есть только купюры номиналом 100 евро.\n",
    "* Рассчитать и вывести сдачу, которую нужно дать покупателю."
   ]
  },
  {
   "cell_type": "code",
   "execution_count": null,
   "id": "c667fe53-9bd8-4bdc-86c9-f9367a6b19d4",
   "metadata": {},
   "outputs": [],
   "source": []
  },
  {
   "cell_type": "markdown",
   "id": "0f88ef78-8503-4fba-bb53-f76dc9c09c93",
   "metadata": {},
   "source": [
    "5. ***Учет доходов и расходов***\n",
    "\n",
    "Напишите программу, которая принимает на вход положительные и отрицательные значения и останавливается получив ноль. Программа должна рассчитать сумму доходов (положительные) и расходов (отрицательные), а также итоговый баланс.\n",
    "\n",
    "Пример вывода:\n",
    "\n",
    "Введите доход, расход или '0' для получения итога: 15000\n",
    "\n",
    "Введите доход, расход или '0' для получения итога: -5000\n",
    "\n",
    "Введите доход, расход или '0' для получения итога: -3000\n",
    "\n",
    "Введите доход, расход или '0' для получения итога: 0\n",
    "\n",
    "Доходы: 15000\n",
    "\n",
    "Расходы: 8000\n",
    "\n",
    "Итоговый баланс: 7000\n"
   ]
  },
  {
   "cell_type": "code",
   "execution_count": null,
   "id": "fbebb854-8a76-4e4d-8ce1-f629d6daef00",
   "metadata": {},
   "outputs": [],
   "source": []
  },
  {
   "cell_type": "markdown",
   "id": "ea4f3857-2da2-47d5-b58b-43dfb4273749",
   "metadata": {},
   "source": [
    "Определите среднее значение всех элементов последовательности, завершающейся числом 0. Среднее значение - сумма всех элементов, поделенная на их количество. \n"
   ]
  },
  {
   "cell_type": "code",
   "execution_count": null,
   "id": "6c62f874-cf40-4150-9f28-66f92c24ae73",
   "metadata": {},
   "outputs": [],
   "source": []
  },
  {
   "cell_type": "markdown",
   "id": "41ff0433-3067-446c-8605-5c991bd1b280",
   "metadata": {},
   "source": [
    "Последовательность состоит из натуральных чисел и завершается числом 0. Определите значение наибольшего элемента последовательности.\n"
   ]
  },
  {
   "cell_type": "code",
   "execution_count": null,
   "id": "ecde0e4f-d794-4785-a65a-f207f67840ac",
   "metadata": {},
   "outputs": [],
   "source": []
  },
  {
   "cell_type": "markdown",
   "id": "217db155-5793-4fe9-b593-130f96537c56",
   "metadata": {},
   "source": [
    "Последовательность состоит из натуральных чисел и завершается числом 0. Определите индекс наибольшего элемента последовательности. Нумерация элементов начинается с нуля.\n"
   ]
  },
  {
   "cell_type": "code",
   "execution_count": null,
   "id": "2319b78a-8521-4bd3-a5fd-a30386e22374",
   "metadata": {},
   "outputs": [],
   "source": []
  },
  {
   "cell_type": "markdown",
   "id": "916d6c60-b0a9-48b8-9105-7e7c1f3aa81d",
   "metadata": {},
   "source": [
    "6. Вычислите n-е число ряда Фибоначчи с помощью цикла while. Что такое числа Фибоначчи?\n"
   ]
  },
  {
   "cell_type": "code",
   "execution_count": 11,
   "id": "e8f66739-7cef-4097-ba95-91c7e1199fbc",
   "metadata": {},
   "outputs": [
    {
     "name": "stdin",
     "output_type": "stream",
     "text": [
      " 8\n"
     ]
    },
    {
     "name": "stdout",
     "output_type": "stream",
     "text": [
      "21\n"
     ]
    }
   ],
   "source": [
    "n = int(input()) #8\n",
    "\n",
    "a = 0\n",
    "b = 1\n",
    "cnt = 0\n",
    "\n",
    "while cnt < n:\n",
    "    a,b = b, a+b\n",
    "    cnt += 1\n",
    "print(a)\n"
   ]
  },
  {
   "cell_type": "code",
   "execution_count": null,
   "id": "76ea712e-d420-40b6-8eee-376000c26a1e",
   "metadata": {},
   "outputs": [],
   "source": []
  },
  {
   "cell_type": "markdown",
   "id": "8d2548b3-0945-4268-ac4d-192c237c9027",
   "metadata": {},
   "source": [
    "7. ***Число Армстронга***\n",
    "\n",
    "Напишите программу, которая запрашивает у пользователя целое число и проверяет, является ли оно числом Армстронга. Число Армстронга — это число, которое равно сумме своих цифр, которые были возведены в степень, равную количеству цифр в числе.\n",
    "Например 153 = 1^3 + 5^3 + 3^3 = 1 + 125 + 27\n",
    "\n",
    "Пример вывода:\n",
    "\n",
    "Введите число: 153\n",
    "\n",
    "Число 153 является числом Армстронга.\n",
    "    \n",
    "Введите число: 123\n",
    "\n",
    "Число 123 не является числом Армстронга.\n"
   ]
  },
  {
   "cell_type": "code",
   "execution_count": null,
   "id": "4cf0c92a-82e8-4310-811f-e5a397eef6aa",
   "metadata": {},
   "outputs": [],
   "source": []
  },
  {
   "cell_type": "markdown",
   "id": "d369ce27-e197-4075-a55b-27496fd32c25",
   "metadata": {},
   "source": [
    "8. ***Угадай за 5 попыток***\n",
    "    \n",
    "Напишите программу, которая генерирует случайное число от 1 до 10 и просит пользователя угадать его за 5 попыток. Если пользователь не угадывает за 5 попыток, программа выводит загаданное число.\n",
    "\n",
    "Пример вывода:\n",
    "\n",
    "Попробуйте угадать число от 1 до 10: 10\n",
    "\n",
    "Неверно! У вас осталось 4 попытки.\n",
    "    \n",
    "Попробуйте угадать число от 1 до 50: 3\n",
    "\n",
    "Неверно! У вас осталось 3 попытки.\n",
    "    \n",
    "Попробуйте угадать число от 1 до 50: 7\n",
    "\n",
    "Поздравляем! Вы угадали число.\n"
   ]
  },
  {
   "cell_type": "code",
   "execution_count": null,
   "id": "09593633-ad0e-4441-b469-7a500ee3d198",
   "metadata": {},
   "outputs": [],
   "source": []
  },
  {
   "cell_type": "markdown",
   "id": "98bdee24-ebb8-495d-80fb-f696a5440205",
   "metadata": {},
   "source": [
    "9. ***Определение простого числа***\n",
    "    \n",
    "Напишите программу, которая запрашивать число у пользователя и определяет, является ли заданное число простым. \n",
    "\n",
    "Число является простым, если оно:\n",
    "Больше 1.\n",
    "Имеет только два делителя: единицу и само себя.\n",
    "\n",
    "Пример вывода:\n",
    "Введите число: 29\n",
    "Число 29 является простым.\n",
    "Введите число: 15\n",
    "Число 15 не является простым.\n"
   ]
  },
  {
   "cell_type": "code",
   "execution_count": null,
   "id": "12b5b62c-d63a-4816-a47f-3dab5922c458",
   "metadata": {},
   "outputs": [],
   "source": []
  },
  {
   "cell_type": "markdown",
   "id": "7a13059d-16ff-4a9b-a5a6-0a98ef8c5217",
   "metadata": {},
   "source": [
    "10. ***Упорядоченность цифр***\n",
    "\n",
    "Напишите программу, которая получает натуральное число и определяет, являются ли его цифры упорядоченными по возрастанию.\n",
    "\n",
    "Пример вывода:\n",
    "Введите число: 1347\n",
    "Цифры упорядочены по возрастанию.\n",
    "Введите число: 1523\n",
    "Цифры не упорядочены по возрастанию.\n"
   ]
  },
  {
   "cell_type": "code",
   "execution_count": null,
   "id": "c2e31af9-fd20-4060-9387-7783f57ce836",
   "metadata": {},
   "outputs": [],
   "source": []
  },
  {
   "cell_type": "code",
   "execution_count": null,
   "id": "c4e3dba4-4257-4a74-9a53-269be17caf26",
   "metadata": {},
   "outputs": [],
   "source": []
  },
  {
   "cell_type": "code",
   "execution_count": null,
   "id": "a502cc6a-a684-4402-b3ec-18043c5902ba",
   "metadata": {},
   "outputs": [],
   "source": []
  }
 ],
 "metadata": {
  "kernelspec": {
   "display_name": "Python 3 (ipykernel)",
   "language": "python",
   "name": "python3"
  },
  "language_info": {
   "codemirror_mode": {
    "name": "ipython",
    "version": 3
   },
   "file_extension": ".py",
   "mimetype": "text/x-python",
   "name": "python",
   "nbconvert_exporter": "python",
   "pygments_lexer": "ipython3",
   "version": "3.12.4"
  }
 },
 "nbformat": 4,
 "nbformat_minor": 5
}
