{
 "cells": [
  {
   "cell_type": "markdown",
   "id": "5566bca6-bd9c-4a92-aa01-a2cb3258b350",
   "metadata": {},
   "source": [
    "# Summary 4"
   ]
  },
  {
   "cell_type": "markdown",
   "id": "efa141a2-00a5-401f-ac15-cf08c7674de9",
   "metadata": {},
   "source": []
  },
  {
   "cell_type": "code",
   "execution_count": null,
   "id": "25d649d0-54d6-4370-884a-e6a938fd1894",
   "metadata": {},
   "outputs": [],
   "source": []
  },
  {
   "cell_type": "code",
   "execution_count": null,
   "id": "2a034431-d35e-415b-8b3a-ee95eb22904c",
   "metadata": {},
   "outputs": [],
   "source": []
  },
  {
   "cell_type": "markdown",
   "id": "b7af7249-5414-4235-adb8-fa727cba9dfb",
   "metadata": {},
   "source": [
    "### Разбор ДЗ "
   ]
  },
  {
   "cell_type": "markdown",
   "id": "62dd23cb-3c83-4ad2-8157-c2722e915abc",
   "metadata": {},
   "source": [
    "1. Математическое округление\n",
    "Напишите программу, которая принимает число с плавающей точкой и округляет его до целого числа в соответствии с правилами школьной математики, а не банковского округления. Программа должна корректно работать как с положительными, так и с отрицательными числами.\n"
   ]
  },
  {
   "cell_type": "code",
   "execution_count": null,
   "id": "d3c32dc0-3d8d-4491-9662-675468b79be1",
   "metadata": {},
   "outputs": [],
   "source": [
    "num = float(input(\"Введите вещественное число: \"))\n",
    "\n",
    "if num > 0:\n",
    "    rounded_num = int(num + 0.5)\n",
    "else:\n",
    "    rounded_num = int(num - 0.5)\n",
    "\n",
    "print(\"Округленное значение:\", rounded_num)"
   ]
  },
  {
   "cell_type": "markdown",
   "id": "8fe745ed-aa01-4e46-8a38-be5374f32814",
   "metadata": {},
   "source": [
    "2. Гипотенуза треугольника\n",
    "Напишите программу, которая запрашивает у пользователя длины двух катетов прямоугольного треугольника и вычисляет длину гипотенузы. Гипотенуза равна квадратному корню из суммы квадратов катетов.\n"
   ]
  },
  {
   "cell_type": "code",
   "execution_count": null,
   "id": "7258aa9a-47f6-44fb-9ed8-699c8f96560e",
   "metadata": {},
   "outputs": [],
   "source": [
    "import math\n",
    "\n",
    "a = float(input(\"Введите длину первого катета: \"))\n",
    "b = float(input(\"Введите длину второго катета: \"))\n",
    "hypotenuse = math.sqrt(a**2 + b**2)\n",
    "print(\"Длина гипотенузы:\", hypotenuse)"
   ]
  },
  {
   "cell_type": "markdown",
   "id": "b3180863-1004-44f4-a32b-b4b3818bb39c",
   "metadata": {},
   "source": [
    "Сумма цифр числа\n",
    "Напишите программу, которая вычисляет сумму цифр введённого числа.\n"
   ]
  },
  {
   "cell_type": "code",
   "execution_count": null,
   "id": "58269796-4513-49ae-8f30-bd94a192fd70",
   "metadata": {},
   "outputs": [],
   "source": [
    "num = int(input(\"Введите число: \"))\n",
    "sum_digits = 0\n",
    "\n",
    "while num > 0:\n",
    "    sum_digits += num % 10\n",
    "    num //= 10\n",
    "\n",
    "print(\"Сумма цифр:\", sum_digits)\n"
   ]
  },
  {
   "cell_type": "markdown",
   "id": "41d5e5e0-4720-4509-81d0-56ef0b451dc7",
   "metadata": {},
   "source": [
    "Палиндром\n",
    "Напишите программу, которая запрашивает у пользователя целое число и определяет, является ли оно палиндромом. Число является палиндромом, если оно читается одинаково слева направо и справа налево.\n"
   ]
  },
  {
   "cell_type": "code",
   "execution_count": null,
   "id": "cb9362b2-ecc2-46d6-ac1f-98e4c2ca3d78",
   "metadata": {},
   "outputs": [],
   "source": [
    "number = int(input(\"Введите число: \"))\n",
    "original_number = number\n",
    "reversed_number = 0\n",
    "while number > 0:\n",
    "    digit = number % 10\n",
    "    reversed_number = reversed_number * 10 + digit\n",
    "    number //= 10\n",
    "if original_number == reversed_number:\n",
    "    print(\"Число\", original_number, \"является палиндромом.\")\n",
    "else:\n",
    "    print(\"Число\", original_number, \"не является палиндромом.\")"
   ]
  },
  {
   "cell_type": "markdown",
   "id": "ebaa3101-010d-45e7-93bf-ba81c2747e28",
   "metadata": {},
   "source": [
    "Проверь интуицию\n",
    "Напишите программу, которая генерирует случайное число от 1 до 100 включительно и дает пользователю 10 попыток, чтобы угадать это число. Программа должна подсказывать, больше или меньше загаданное число. После завершения игры программа оценивает, насколько хорошая интуиция у игрока.\n"
   ]
  },
  {
   "cell_type": "code",
   "execution_count": null,
   "id": "1c18e103-0707-4cb6-95fd-1b35652b3369",
   "metadata": {},
   "outputs": [],
   "source": [
    "import random\n",
    "\n",
    "secret_number = random.randint(1, 100)\n",
    "attempts = 10\n",
    "used_attempts = 0\n",
    "print(\"Угадайте число от 1 до 100. У вас\", attempts, \"попыток.\")\n",
    "while attempts > 0:\n",
    "    guess = int(input(\"Ваше предположение: \"))\n",
    "    used_attempts += 1\n",
    "    attempts -= 1\n",
    "    if guess < secret_number:\n",
    "        print(\"Загаданное число больше вашего.\")\n",
    "    elif guess > secret_number:\n",
    "        print(\"Загаданное число меньше вашего.\")\n",
    "    else:\n",
    "        print(\"Поздравляем! Вы угадали число:\", secret_number, \"за\", used_attempts, \"попыток. Отличный результат!\")\n",
    "        break\n",
    "else:\n",
    "    print(\"К сожалению, вы не угадали число. Загаданное число было:\", secret_number)\n",
    "# Оценка догадливости\n",
    "if used_attempts == 1:\n",
    "    print(\"Отличная интуиция! Вы угадали с первой попытки!\")\n",
    "elif used_attempts <= 3:\n",
    "    print(\"Вы настоящий мастер угадывания!\")\n",
    "elif used_attempts <= 7:\n",
    "    print(\"Вы справились, неплохой результат!\")\n",
    "else:\n",
    "    print(\"В следующий раз вам обязательно повезёт!\")"
   ]
  },
  {
   "cell_type": "code",
   "execution_count": null,
   "id": "a5e0e920-ee6b-42e7-ac45-930ae9c982ce",
   "metadata": {},
   "outputs": [],
   "source": []
  }
 ],
 "metadata": {
  "kernelspec": {
   "display_name": "Python 3 (ipykernel)",
   "language": "python",
   "name": "python3"
  },
  "language_info": {
   "codemirror_mode": {
    "name": "ipython",
    "version": 3
   },
   "file_extension": ".py",
   "mimetype": "text/x-python",
   "name": "python",
   "nbconvert_exporter": "python",
   "pygments_lexer": "ipython3",
   "version": "3.12.4"
  }
 },
 "nbformat": 4,
 "nbformat_minor": 5
}
