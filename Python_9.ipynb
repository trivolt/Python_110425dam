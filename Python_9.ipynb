{
 "cells": [
  {
   "cell_type": "markdown",
   "id": "d3f47223-13a7-447a-b063-fdb1eefbd7ef",
   "metadata": {},
   "source": [
    "# Цикл for"
   ]
  },
  {
   "cell_type": "markdown",
   "id": "81db0391-2b38-45b5-86d4-4c332f335d17",
   "metadata": {},
   "source": [
    "Цикл for — это конструкция, которая позволяет повторно выполнять блок кода (итерацию) для каждого элемента в последовательности. Он последовательно проходит по каждому элементу, и повторяет определённый набор действий для каждого из них. Цикл будет выполнять блок кода до тех пор, пока не переберёт все элементы в последовательности, указанной в условии.\r\n"
   ]
  },
  {
   "cell_type": "markdown",
   "id": "50f38c6d-2b01-4f48-bcea-707ab3b271b9",
   "metadata": {},
   "source": [
    "### Синтаксис"
   ]
  },
  {
   "cell_type": "markdown",
   "id": "6866dafa-7b60-4a02-9aef-3c25f204d8c4",
   "metadata": {},
   "source": [
    "**for** переменная **in** последовательность:  # условие цикла\n",
    "\n",
    "    # блок кода, выполняющийся для каждого элемента\n",
    "    \n",
    "* переменная — это переменная, которая на каждом шаге цикла присваивает значение текущего элемента из последовательности.\n",
    "* последовательность — это объект, который состоит из множества отдельных элементов и предоставляет их по одному, когда это необходимо. Такие объекты называются итерируемыми.\n",
    "* Блок кода (или тело цикла) — это инструкции, которые будут выполняться для каждого элемента последовательности."
   ]
  },
  {
   "cell_type": "markdown",
   "id": "dbea4936-5294-4567-a9ac-5a6b186a3c77",
   "metadata": {},
   "source": [
    "### Условие цикла\n",
    "Цикл for будет работать до тех пор, пока есть элементы в последовательности, которые можно обработать. Как только все элементы будут пройдены, цикл завершится."
   ]
  },
  {
   "cell_type": "code",
   "execution_count": null,
   "id": "6b697eb9-be27-4006-acaf-370c11c03e99",
   "metadata": {},
   "outputs": [],
   "source": [
    "text = \"Python\"\n",
    "for letter in text:\n",
    "    print(letter)"
   ]
  },
  {
   "cell_type": "markdown",
   "id": "cbd339e0-0d71-4299-89d3-5fea83675e4a",
   "metadata": {},
   "source": [
    "**Итерация** — это один шаг в процессе последовательного перебора элементов итерируемого объекта. На каждой итерации происходит обработка одного элемента из последовательности."
   ]
  },
  {
   "cell_type": "code",
   "execution_count": null,
   "id": "b72f0acf-77b5-4300-aff4-f30f6f3eb395",
   "metadata": {},
   "outputs": [],
   "source": [
    "#1. Какой результат будет выведен при выполнении следующего кода?\n",
    "text = \"Hello\"\n",
    "for letter in text:\n",
    "    print(letter, end=\"\")"
   ]
  },
  {
   "cell_type": "markdown",
   "id": "38c77ecf-4d33-4ac9-b4a7-ad2d076e3acd",
   "metadata": {},
   "source": [
    "### Функция range\n",
    "Функция range() используется для создания последовательности чисел, которые можно использовать в цикле. Она позволяет задавать диапазоны чисел и управлять шагом между ними.\n",
    "\n",
    "**Синтаксис range**\n",
    "\n",
    "`range(start, stop, step)`\n",
    "\n",
    "\n",
    "* start (необязательный) — начальное значение (включительно). Если не указано, по умолчанию это 0.\n",
    "* stop (обязательный) — конечное значение (не включается в последовательность).\n",
    "* step (необязательный) — шаг, с которым создаётся последовательность. По умолчанию равен 1.\n"
   ]
  },
  {
   "cell_type": "markdown",
   "id": "7fbb5d7c-584f-4e3c-983a-4f009ee2f51e",
   "metadata": {},
   "source": [
    "**range с одним аргументом (stop):**\n",
    "\n",
    "Если указать только конечное значение, последовательность начинается с 0 и идёт до указанного числа (не включительно).\n"
   ]
  },
  {
   "cell_type": "code",
   "execution_count": null,
   "id": "e554f1b0-0ea6-4d92-a158-22db9f0718f6",
   "metadata": {},
   "outputs": [],
   "source": [
    "for i in range(5):\n",
    "    print(i)"
   ]
  },
  {
   "cell_type": "markdown",
   "id": "ffed8349-79b1-40f4-addb-5763e41abd2c",
   "metadata": {},
   "source": [
    "Эквивалент с while"
   ]
  },
  {
   "cell_type": "code",
   "execution_count": null,
   "id": "c0ddc0f0-a22d-44cd-8ea7-4cf57c581f56",
   "metadata": {},
   "outputs": [],
   "source": [
    "i = 0\n",
    "while i<5:\n",
    "    print(i)\n",
    "    i+=1"
   ]
  },
  {
   "cell_type": "markdown",
   "id": "64584ea7-78a5-47af-8cbc-e5be8c309ce1",
   "metadata": {},
   "source": [
    "**range с двумя аргументами (start, stop):**\n",
    "\n",
    "Если указать два значения, последовательность начинается с первого (включительно) и идёт до второго числа (не включительно).\n"
   ]
  },
  {
   "cell_type": "code",
   "execution_count": null,
   "id": "070c6432-78f9-4f16-9822-27d1d5273523",
   "metadata": {},
   "outputs": [],
   "source": [
    "for i in range(2, 6):\n",
    "    print(i)"
   ]
  },
  {
   "cell_type": "markdown",
   "id": "957068c6-e69f-4cc9-9e6b-a3af42b6b7c1",
   "metadata": {},
   "source": [
    "**range с тремя аргументами (start, stop, step):**\n",
    "\n",
    "Когда используется три аргумента, range() создаёт последовательность, начиная с числа start (включительно), заканчивая числом stop (не включается), с шагом step, который указывает, через сколько элементов нужно брать следующее число."
   ]
  },
  {
   "cell_type": "code",
   "execution_count": null,
   "id": "c119147f-caba-4d3a-b2f5-e1e6c258e896",
   "metadata": {},
   "outputs": [],
   "source": [
    "for i in range(1, 10, 2):\n",
    "    print(i)"
   ]
  },
  {
   "cell_type": "markdown",
   "id": "fe14829d-ae1e-4483-8dfa-1ec38f5e34ae",
   "metadata": {},
   "source": [
    "**range с отрицательным шагом:**\n",
    "\n",
    "Функция range() также поддерживает отрицательные значения для шага step, что позволяет создавать последовательности чисел в обратном порядке. В этом случае start должно быть больше stop, чтобы значения уменьшались с каждым шагом."
   ]
  },
  {
   "cell_type": "code",
   "execution_count": null,
   "id": "e5d8af73-3132-47fe-8978-36ab7c03db79",
   "metadata": {},
   "outputs": [],
   "source": [
    "for i in range(10, 0, -2):\n",
    "    print(i)\n"
   ]
  },
  {
   "cell_type": "code",
   "execution_count": null,
   "id": "f188195d-7427-4711-b07c-672a1f92f591",
   "metadata": {},
   "outputs": [],
   "source": [
    "for i in range(-4, -8, -1):\n",
    "    print(i)"
   ]
  },
  {
   "cell_type": "code",
   "execution_count": null,
   "id": "153ced1f-be20-446e-864e-7baaeb4cc8f4",
   "metadata": {},
   "outputs": [],
   "source": [
    "# Какой результат будет выведен при выполнении следующего кода?\n",
    "for i in range(5):\n",
    "    print(i)\n"
   ]
  },
  {
   "cell_type": "code",
   "execution_count": null,
   "id": "6f749c50-2aa4-40a9-8f9e-91281e056963",
   "metadata": {},
   "outputs": [],
   "source": [
    "# Какой результат будет выведен при выполнении следующего кода?\n",
    "for i in range(1, 10, 2):\n",
    "    print(i)\n"
   ]
  },
  {
   "cell_type": "code",
   "execution_count": null,
   "id": "93bdb43e-5d8d-4ce9-8a24-0a09e3969bc1",
   "metadata": {},
   "outputs": [],
   "source": [
    "# Какой результат будет выведен при выполнении следующего кода?\n",
    "for i in range(10, 0, -2):\n",
    "    print(i)\n"
   ]
  },
  {
   "cell_type": "markdown",
   "id": "5b5aa827-956f-4d34-b368-9bf3c13331b5",
   "metadata": {},
   "source": [
    "## Операторы break, continue, else в цикле for\n",
    "В Python цикле for можно использовать специальные операторы — break, continue и else — для управления выполнением цикла. Операторы работают также, как и в цикле while."
   ]
  },
  {
   "cell_type": "markdown",
   "id": "dc678c78-ca26-41e5-9a7d-62e7803bc757",
   "metadata": {},
   "source": [
    "### Оператор break\n",
    "Оператор break позволяет прервать выполнение цикла досрочно, как только будет выполнено определённое условие. Цикл завершится, даже если элементы в последовательности ещё остались.\n"
   ]
  },
  {
   "cell_type": "code",
   "execution_count": null,
   "id": "91381764-b71b-4280-9c53-81b630376380",
   "metadata": {},
   "outputs": [],
   "source": [
    "for letter in \"Python\":\n",
    "    if letter == \"h\":\n",
    "        break  # Останавливаем цикл, если найден символ \"h\"\n",
    "    print(letter)\n"
   ]
  },
  {
   "cell_type": "markdown",
   "id": "6af547de-9aa9-41db-884b-2a529c428bad",
   "metadata": {},
   "source": [
    "### Оператор continue\n",
    "Оператор continue позволяет пропустить текущую итерацию цикла и перейти к следующей, не завершая сам цикл. Он используется, когда нужно игнорировать определённые элементы, но продолжить обработку остальных.\n"
   ]
  },
  {
   "cell_type": "code",
   "execution_count": null,
   "id": "7129e910-c9f9-4067-8b3f-2e72260c3631",
   "metadata": {},
   "outputs": [],
   "source": [
    "for letter in \"Python\":\n",
    "    if letter == \"h\":\n",
    "        continue  # Пропускаем букву \"h\" и продолжаем цикл\n",
    "    print(letter)\n"
   ]
  },
  {
   "cell_type": "markdown",
   "id": "b53d7da1-de7d-4ab2-8b4c-2e4c88d0ca3b",
   "metadata": {},
   "source": [
    "#### Оператор else\n",
    "Оператор else в цикле for выполняет блок кода, если цикл завершился нормально, без использования оператора break. Это полезно, когда нужно выполнить определённые действия, если цикл прошёл через все элементы без прерывания.\n"
   ]
  },
  {
   "cell_type": "code",
   "execution_count": null,
   "id": "8baf5f81-e961-4779-8c28-31eb8bc05f68",
   "metadata": {},
   "outputs": [],
   "source": [
    "for letter in \"Python\":\n",
    "    if letter == \"a\":\n",
    "        break  # Этот код никогда не выполнится, так как \"a\" нет в строке\n",
    "    print(letter)\n",
    "else:\n",
    "    print(\"Цикл завершён нормально.\")"
   ]
  },
  {
   "cell_type": "code",
   "execution_count": null,
   "id": "a114ab8f-5a88-4a4d-83ef-5c676d0d49bd",
   "metadata": {},
   "outputs": [],
   "source": [
    "for letter in \"Python\":\n",
    "    if letter == \"h\":\n",
    "        break  # Цикл прерывается на символе \"h\"\n",
    "    print(letter)\n",
    "else:\n",
    "    print(\"Цикл завершён нормально.\")  # Этот блок не выполнится"
   ]
  },
  {
   "cell_type": "code",
   "execution_count": null,
   "id": "dc859ae8-2652-4e0f-ac0f-6e8590b56b83",
   "metadata": {},
   "outputs": [],
   "source": [
    "# Какой результат будет выведен при выполнении следующего кода?\n",
    "for letter in \"Python\":\n",
    "    if letter == \"h\":\n",
    "        break\n",
    "    print(letter, end=' ')"
   ]
  },
  {
   "cell_type": "code",
   "execution_count": null,
   "id": "ecca5ead-6552-4336-8745-807d177c6779",
   "metadata": {},
   "outputs": [],
   "source": [
    "# Какой результат будет выведен при выполнении следующего кода?\n",
    "for letter in \"Python\":\n",
    "    if letter == \"h\":\n",
    "        continue\n",
    "    print(letter, end=' ')"
   ]
  },
  {
   "cell_type": "code",
   "execution_count": null,
   "id": "a9dc4ee2-08af-4797-8655-79917fd36fe6",
   "metadata": {},
   "outputs": [],
   "source": [
    "# Какой результат будет выведен при выполнении следующего кода?\n",
    "for letter in \"Python\":\n",
    "    if letter == \"a\":\n",
    "        break\n",
    "    print(letter, end=' ')\n",
    "else:\n",
    "    print(\"Цикл завершён нормально.\")\n"
   ]
  },
  {
   "cell_type": "code",
   "execution_count": null,
   "id": "8982aee3-4ce1-4cd2-b2f3-3441d2490b5e",
   "metadata": {},
   "outputs": [],
   "source": [
    "# Задание на закрепление"
   ]
  },
  {
   "cell_type": "code",
   "execution_count": null,
   "id": "57701c16-57cd-4104-a4f0-f37ca0d999ac",
   "metadata": {},
   "outputs": [],
   "source": [
    "phrase = '640Кб должно хватить для любых задач. Билл Гейтс (по легенде)'"
   ]
  },
  {
   "cell_type": "code",
   "execution_count": null,
   "id": "0bd70f71-cb7b-4699-8c6b-4ea86e9bdbf6",
   "metadata": {},
   "outputs": [],
   "source": [
    "for letter in phrase:\n",
    "    if letter == ' ':\n",
    "        break\n",
    "    print(letter, end='')"
   ]
  },
  {
   "cell_type": "code",
   "execution_count": null,
   "id": "53a9af9f-130e-4a47-91a5-f3d89adfa826",
   "metadata": {},
   "outputs": [],
   "source": [
    "for letter in phrase:\n",
    "    if letter == ' ':\n",
    "        continue\n",
    "    print(letter, end='')"
   ]
  },
  {
   "cell_type": "markdown",
   "id": "3975a5e4-bcb6-46b5-8ccc-490be40c2a7f",
   "metadata": {},
   "source": [
    "## Вложенные циклы\n",
    "Вложенные циклы — это конструкции, в которых один цикл находится внутри другого. Вложенный цикл выполняется полностью для каждого прохода внешнего цикла. Такие конструкции позволяют обрабатывать сложные структуры данных, например, многомерные массивы или создавать таблицы.\n"
   ]
  },
  {
   "cell_type": "markdown",
   "id": "506ca926-e0c9-461c-94b2-dccaa5fa4b30",
   "metadata": {},
   "source": [
    "***Синтаксис вложенных циклов:***\n",
    "\n",
    "**for** `внешняя_переменная` **in** `внешняя_последовательность`:\n",
    "\n",
    "    # код, выполняемый внутри внешнего цикла\n",
    "    \n",
    "    for внутренняя_переменная in внутренняя_последовательность:\n",
    "    \n",
    "        # код, выполняемый внутри обоих циклов\n",
    "\n",
    "* Внешний цикл выполняет итерации по своей последовательности.\r",
    "* \n",
    "Для каждой итерации внешнего цикла, внутренний цикл проходит через все свои элементы\n",
    "* \r\n",
    "Когда внутренний цикл заканчивает выполнение всех итераций, внешний цикл переходит к следующей итераци\n",
    "* .\r\n",
    "При необходимости, можно использовать переменную внешнего цикла внутри внутреннего.\r\n"
   ]
  },
  {
   "cell_type": "code",
   "execution_count": null,
   "id": "489a1df0-e501-4b48-b061-2ca89d84d3e0",
   "metadata": {},
   "outputs": [],
   "source": [
    "# перебор пар\n",
    "for i in \"AB\":\n",
    "    for j in \"12\":\n",
    "        print(i, j)"
   ]
  },
  {
   "cell_type": "code",
   "execution_count": null,
   "id": "330500fd-d5e5-4a38-b8ca-de426bc19184",
   "metadata": {},
   "outputs": [],
   "source": [
    "# Вывод времени\n",
    "for hour in range(24):\n",
    "    for minute in range(60):\n",
    "        if minute < 10:\n",
    "            print(\"Время (часов:минут): \", hour, ':0', minute, sep='')\n",
    "        else:\n",
    "            print(\"Время (часов:минут): \", hour, ':', minute, sep='')\n"
   ]
  },
  {
   "cell_type": "markdown",
   "id": "18ad9f51-eb6e-4fb8-8075-475851b62e5b",
   "metadata": {},
   "source": [
    "### Вложенные циклы с использованием while и for\n",
    "Вложенные циклы — это не только комбинация двух for циклов, но также можно использовать комбинации for и while циклов для решения различных задач.\n"
   ]
  },
  {
   "cell_type": "code",
   "execution_count": null,
   "id": "7a64ec7a-0656-4f1f-905d-1d822e125191",
   "metadata": {},
   "outputs": [],
   "source": [
    "# вывод времени за три часа, но только до конца дня\n",
    "hour = int(input(\"Введите текущий час: \"))  # Текущее время\n",
    "end_time = hour + 3\n",
    "\n",
    "\n",
    "while hour < 24 and hour < end_time:  # Внешний цикл с использованием while\n",
    "    for minute in range(60):  # Внутренний цикл с использованием for\n",
    "        if minute < 10:\n",
    "            print(\"Время (часов:минут): \", hour, ':0', minute, sep='')\n",
    "        else:\n",
    "            print(\"Время (часов:минут): \", hour, ':', minute, sep='')\n",
    "\n",
    "\n",
    "    hour += 1  # Увеличение значения часов на 1\n"
   ]
  },
  {
   "cell_type": "code",
   "execution_count": null,
   "id": "8a41cbcb-fed0-47ea-bf71-eb5f21425b4d",
   "metadata": {},
   "outputs": [],
   "source": [
    "# Какой результат будет выведен при выполнении следующего кода?\n",
    "for i in range(3):\n",
    "    for j in range(3):\n",
    "        print(i + j, end=\" \")"
   ]
  },
  {
   "cell_type": "code",
   "execution_count": null,
   "id": "14197739-3dab-4aed-a0b8-41260b5b065e",
   "metadata": {},
   "outputs": [],
   "source": []
  },
  {
   "cell_type": "code",
   "execution_count": null,
   "id": "159e3669-83d1-4017-b076-b69e5389a7d0",
   "metadata": {},
   "outputs": [],
   "source": []
  },
  {
   "cell_type": "markdown",
   "id": "e43a406f-6836-46fc-9a4e-a9b4148cccb6",
   "metadata": {},
   "source": [
    "### РЕШЕНИЕ ЗАДАЧ"
   ]
  },
  {
   "cell_type": "markdown",
   "id": "5516b76d-a536-4815-98f2-e20be0273144",
   "metadata": {},
   "source": [
    "Напишите программу, которая находит факториал числа, введённого пользователем и выводит его на экран. Не используйте модуль math для решения.\n",
    "\n",
    "Факториал числа — это произведение всех натуральных чисел от 1 до самого этого числа включительно.\n",
    "5! = 1 × 2 × 3 × 4 × 5 = 120\n",
    "\n",
    "\n",
    "Пример вывода:\n",
    "\n",
    "Введите число: 5\n",
    "\n",
    "Факториал числа 5 равен 120"
   ]
  },
  {
   "cell_type": "markdown",
   "id": "13dff5af-c7ab-4931-967c-d694a67a8aa4",
   "metadata": {},
   "source": [
    "num = int(input(\"Введите число: \"))\n",
    "factorial = 1\n",
    "\n",
    "\n",
    "for i in range(1, num + 1):\n",
    "    factorial *= i\n",
    "\n",
    "print(\"Факториал числа\", num, \"равен\", factorial)"
   ]
  },
  {
   "cell_type": "markdown",
   "id": "a9687a73-3f1d-4b9e-9a17-fbff706be5ca",
   "metadata": {},
   "source": [
    "Напишите программу, которая проверяет, является ли введённое пользователем число простым. \n",
    "Простое число — это число, которое делится только на себя и на 1.\n",
    "\n",
    "Пример вывода:\n",
    "\n",
    "Введите число: 11\n",
    "\n",
    "Является простым\n",
    "\n",
    "Пример вывода 2:\n",
    "\n",
    "Введите число: 12\n",
    "\n",
    "Не является простым"
   ]
  },
  {
   "cell_type": "code",
   "execution_count": null,
   "id": "eb7e3f9c-e6ae-4d39-98ac-09c9c6562125",
   "metadata": {},
   "outputs": [],
   "source": [
    "num = int(input(\"Введите число: \"))\n",
    "\n",
    "\n",
    "if num > 1:\n",
    "    for i in range(2, num):\n",
    "        if num % i == 0:\n",
    "            print(\"Не является простым\")\n",
    "            break\n",
    "    else:\n",
    "        print(\"Является простым\")\n",
    "else:\n",
    "    print(\"Не является простым\")\n"
   ]
  },
  {
   "cell_type": "code",
   "execution_count": null,
   "id": "c751e68e-9b0c-4542-b7ef-e8915283bcda",
   "metadata": {},
   "outputs": [],
   "source": [
    "num = int(input(\"Введите число: \"))\n",
    "\n",
    "\n",
    "if num > 1:\n",
    "    for i in range(2, int(num**0.5) + 1):\n",
    "        if num % i == 0:\n",
    "            print(\"Не является простым\")\n",
    "            break\n",
    "    else:\n",
    "        print(\"Является простым\")\n",
    "else:\n",
    "    print(\"Не является простым\")\n"
   ]
  },
  {
   "cell_type": "markdown",
   "id": "b9afc150-c98e-4eca-b14e-6d25f6a692f2",
   "metadata": {},
   "source": [
    "Напишите программу, которая рисует прямоугольник из символов *, где ширина и высота вводятся пользователем. Используйте вложенные циклы для решения задачи.\n",
    "\n",
    "Пример вывода:\n",
    "\n",
    "Введите ширину: 5\n",
    "\n",
    "Введите высоту: 3\n",
    "\n",
    "`*****`\n",
    "\n",
    "`*****`\n",
    "\n",
    "`*****`\n"
   ]
  },
  {
   "cell_type": "code",
   "execution_count": null,
   "id": "d064e866-1db3-4cc3-ae95-3f40271dbc0f",
   "metadata": {},
   "outputs": [],
   "source": [
    "width = int(input(\"Введите ширину: \"))\n",
    "height = int(input(\"Введите высоту: \"))\n",
    "\n",
    "\n",
    "for i in range(height):\n",
    "    for j in range(width):\n",
    "        print(\"*\", end=\"\")\n",
    "    print()  # Переход на новую строку"
   ]
  },
  {
   "cell_type": "markdown",
   "id": "02eca4c8-a654-4541-922f-0f3fd75d76b2",
   "metadata": {},
   "source": [
    "### Полезные материалы\r\n",
    "1. Синтаксис и возможности цикла for Python https://pythonru.com/osnovy/cikl-for-in\r\n",
    "2. Как работает цикл for в Python https://sky.pro/media/tsikl-for-v-python/ \r\n"
   ]
  },
  {
   "cell_type": "markdown",
   "id": "60a1c5bd-6ef3-452e-81a5-1c5d1b592bf1",
   "metadata": {},
   "source": [
    "### Вопросы для закрепления\n",
    "* Когда следует использовать цикл for, а когда while?\n"
   ]
  },
  {
   "cell_type": "markdown",
   "id": "84affce7-3f8f-4ed7-bb79-57e331d11564",
   "metadata": {},
   "source": [
    "### Разбор ДЗ"
   ]
  },
  {
   "attachments": {},
   "cell_type": "markdown",
   "id": "52679584-c03b-4566-bca5-72061bbe822d",
   "metadata": {},
   "source": [
    "Напишите программу, которая запрашивает у пользователя число N и выводит на экран таблицу умножения от 1 до N. Используйте вложенный цикл for для создания таблицы умножения. Выведите результат на экран с помощью команды print и f-строк или метода format().\r\n"
   ]
  },
  {
   "cell_type": "code",
   "execution_count": null,
   "id": "5bc24053-86c7-488e-87d1-ad8edbbcfea5",
   "metadata": {},
   "outputs": [],
   "source": [
    "# Идея: res = row*col (row = range(1,6) col = range(1,6))\n",
    "\n",
    "n = int(input())\n",
    "rows = range(1,n+1) # создаю последовательность чисел от 1 до n для строк\n",
    "cols = range(1,n+1) # создаю последовательность чисел от 1 до n для столбцов\n",
    "\n",
    "for row in rows:\n",
    "    for col in cols:\n",
    "        print(f'{row*col:10d}',end = '')\n",
    "\n",
    "    print()"
   ]
  },
  {
   "cell_type": "markdown",
   "id": "e1a351fa-ad1c-4d62-8ebd-9eccb8e1ba9f",
   "metadata": {},
   "source": []
  },
  {
   "cell_type": "code",
   "execution_count": null,
   "id": "c1cc44fb-0f0d-422d-a0e2-ae25afbf5e3a",
   "metadata": {},
   "outputs": [],
   "source": []
  }
 ],
 "metadata": {
  "kernelspec": {
   "display_name": "Python 3 (ipykernel)",
   "language": "python",
   "name": "python3"
  },
  "language_info": {
   "codemirror_mode": {
    "name": "ipython",
    "version": 3
   },
   "file_extension": ".py",
   "mimetype": "text/x-python",
   "name": "python",
   "nbconvert_exporter": "python",
   "pygments_lexer": "ipython3",
   "version": "3.12.4"
  }
 },
 "nbformat": 4,
 "nbformat_minor": 5
}
