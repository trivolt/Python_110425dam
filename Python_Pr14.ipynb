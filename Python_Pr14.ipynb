{
 "cells": [
  {
   "cell_type": "markdown",
   "id": "5b4375e7-f36a-47e9-a7e5-a0358ff70789",
   "metadata": {},
   "source": [
    "# Практические задания 14\n",
    "\n",
    "* Лекция 30 - Файлы JSON и модуль datetime\n",
    "* Лекция 31 - Файлы CSV и модуль statistics\n"
   ]
  },
  {
   "cell_type": "markdown",
   "id": "d5afd24e-2bb3-4c69-a5a5-469a6c8adfc4",
   "metadata": {},
   "source": [
    "0. ***Простая запись и чтение файлов csv и json***  \n",
    "Создайте три списка: Month – с числами от 1 до 12, Income и Outcome – оба с 12 случайными числами от 2000 до 10000. Запишите эти три списка как столбцы в csv файл. Затем прочитайте этот csv-файл как список словарей. Запишите этот список словарей в json-файл.\n"
   ]
  },
  {
   "cell_type": "code",
   "execution_count": 31,
   "id": "443b19fe-4b68-48cc-8a24-d0cf9619928c",
   "metadata": {},
   "outputs": [],
   "source": [
    "import random\n",
    "import csv\n",
    "import json\n",
    "\n",
    "Month = [random.randint(1,12) for i in range(12)]\n",
    "Income = [random.randint(2000,10000) for i in range(12)]\n",
    "Outcome = [random.randint(2000,10000) for i in range(12)]\n",
    "\n",
    "data = list(zip(Month, Income, Outcome))\n",
    "\n",
    "with open('pr14_0.csv', 'w', newline = '') as f:\n",
    "    w = csv.writer(f)\n",
    "    w.writerow([\"Month\", \"Income\", \"Outcome\"])\n",
    "    w.writerows(data)"
   ]
  },
  {
   "cell_type": "code",
   "execution_count": 33,
   "id": "ab4a103b-1846-421e-abce-f11db084931f",
   "metadata": {},
   "outputs": [
    {
     "data": {
      "text/plain": [
       "[{'Month': '4', 'Income': '4003', 'Outcome': '8627'},\n",
       " {'Month': '9', 'Income': '7944', 'Outcome': '4559'},\n",
       " {'Month': '3', 'Income': '9397', 'Outcome': '5548'},\n",
       " {'Month': '9', 'Income': '8317', 'Outcome': '6852'},\n",
       " {'Month': '12', 'Income': '6614', 'Outcome': '2045'},\n",
       " {'Month': '5', 'Income': '8322', 'Outcome': '7423'},\n",
       " {'Month': '2', 'Income': '2081', 'Outcome': '4925'},\n",
       " {'Month': '11', 'Income': '2904', 'Outcome': '6913'},\n",
       " {'Month': '3', 'Income': '7792', 'Outcome': '7086'},\n",
       " {'Month': '2', 'Income': '5109', 'Outcome': '3901'},\n",
       " {'Month': '5', 'Income': '8061', 'Outcome': '7120'},\n",
       " {'Month': '8', 'Income': '5703', 'Outcome': '3330'}]"
      ]
     },
     "execution_count": 33,
     "metadata": {},
     "output_type": "execute_result"
    }
   ],
   "source": [
    "data_list = []\n",
    "with open('pr14_0.csv') as f:\n",
    "    reader = csv.DictReader(f)\n",
    "    for row in reader:\n",
    "        data_list.append(row)\n",
    "\n",
    "data_list"
   ]
  },
  {
   "cell_type": "code",
   "execution_count": 34,
   "id": "904f18a9-8c20-4139-89d5-c14ee55e29e1",
   "metadata": {},
   "outputs": [],
   "source": [
    "with open('pr14_0.json','w') as f:\n",
    "    json.dump(data_list,f)"
   ]
  },
  {
   "cell_type": "markdown",
   "id": "81650e11-d44b-4150-92a5-d79e2d9e4f8d",
   "metadata": {},
   "source": [
    "1. ***Анализ оценок по кварталам***  \n",
    "Реализуйте программу, которая должна:  \n",
    "* Прочитать данные из JSON-файла.  \n",
    "* Для каждого ученика вычислить среднюю и медианную оценку за каждый учебный квартал:  \n",
    "   * 1 квартал: январь–март  \n",
    "   * 2 квартал: апрель–май (лето пропускается)  \n",
    "   * 3 квартал: сентябрь–декабрь  \n",
    "      * Записать результаты в CSV-файл с колонками: ученик, квартал, средняя оценка, медианная оценка  \n",
    "*Данные:*  \n",
    "Файл grades.json содержит список записей следующего формата:\n"
   ]
  },
  {
   "cell_type": "markdown",
   "id": "7f8bbb7a-3865-4118-8a76-e1934be66f64",
   "metadata": {},
   "source": [
    "```\n",
    "[{\"name\": \"Bob\", \"subject\": \"Science\", \"grade\": 86, \"date\": \"06-09-2025\"},\n",
    "  {\"name\": \"Diana\", \"subject\": \"Science\", \"grade\": 85, \"date\": \"31-01-2025\"},\n",
    "  {\"name\": \"Bob\", \"subject\": \"Literature\", \"grade\": 60, \"date\": \"19-07-2025\"},\n",
    "  {\"name\": \"Charlie\", \"subject\": \"Literature\", \"grade\": 78, \"date\": \"05-08-2025\"},\n",
    "  {\"name\": \"Ethan\", \"subject\": \"Literature\", \"grade\": 69, \"date\": \"08-04-2025\"},\n",
    "  {\"name\": \"Charlie\", \"subject\": \"Science\", \"grade\": 63, \"date\": \"24-10-2025\"},\n",
    "  {\"name\": \"Ethan\", \"subject\": \"Math\", \"grade\": 80, \"date\": \"30-01-2025\"},\n",
    "  {\"name\": \"Alice\", \"subject\": \"Physics\", \"grade\": 90, \"date\": \"15-09-2025\"},\n",
    "  {\"name\": \"Ethan\", \"subject\": \"Science\", \"grade\": 63, \"date\": \"18-09-2025\"},\n",
    "  ...\n",
    "]\n",
    "```"
   ]
  },
  {
   "cell_type": "markdown",
   "id": "2f740f92-5ccf-484a-b505-5f5b311394c2",
   "metadata": {},
   "source": [
    " Пример вывода (quarterly_report.csv):"
   ]
  },
  {
   "cell_type": "markdown",
   "id": "e20b7610-b3b9-4e5e-a308-c6126ab289b7",
   "metadata": {},
   "source": [
    "```\n",
    "Subject,Name,Quarter,Average grade,Median grade\n",
    "Physics,Bob,Q4,80.2,78\n",
    "Physics,Diana,Q1,88.5,88.5\n",
    "Physics,Ethan,Q2,69,69\n",
    "```"
   ]
  },
  {
   "cell_type": "markdown",
   "id": "6d2e1458-c1e6-417f-8740-381dea3e84d6",
   "metadata": {},
   "source": [
    "Идея!!!!\n",
    "```\n",
    "data = [\n",
    "    {(\"math\", \"Bob\", \"Q1\"): [21, 54, 45, 87, 56]},\n",
    "    {(\"physics\", \"Alice\", \"Q2\"): [33, 42, 11, 98]},\n",
    "    {(\"math\", \"Alice\", \"Q1\"): [76, 89, 91, 67]},\n",
    "    {(\"physics\", \"Bob\", \"Q2\"): [45, 32, 78, 54]}\n",
    "]\n",
    "```\n",
    "данные сможем сортировать `sorted_by_subject = sorted(data, key=lambda x: list(x.keys())[0][0])`"
   ]
  },
  {
   "cell_type": "code",
   "execution_count": 39,
   "id": "8c9a4b64-e83f-41cc-80fb-0d6e30b75d4b",
   "metadata": {},
   "outputs": [],
   "source": [
    "import csv\n",
    "import json\n",
    "from collections import defaultdict\n",
    "import statistics\n",
    "from datetime import datetime\n",
    "\n",
    "with open('grades.json') as f:\n",
    "    data = json.load(f)\n",
    "\n",
    "def get_qurt(date_str): #\"06-09-2025\" - входные данные\n",
    "    month = datetime.strptime(date_str, \"%d-%m-%Y\").month\n",
    "    if 1<=month<=3:\n",
    "        return 'Q1'\n",
    "    if 4<=month<=5:\n",
    "        return 'Q2'\n",
    "    if 9<=month<=12:\n",
    "        return 'Q3'    \n",
    "\n",
    "grades_by_group = defaultdict(list)\n",
    "\n",
    "for entry in data: #entry = {\"name\": \"Bob\", \"subject\": \"Science\", \"grade\": 86, \"date\": \"06-09-2025\"}\n",
    "    quartal = get_qurt(entry['date'])\n",
    "    if quartal:\n",
    "        key = (entry[\"subject\"],entry[\"name\"],quartal)\n",
    "        grades_by_group[key].append(entry[\"grade\"])\n",
    "\n",
    "\n",
    "results =  []\n",
    "for (subject, name, q), grades in grades_by_group.items():\n",
    "    avg_grades = mean(grades)\n",
    "    med_grades = median(grades)\n",
    "    results.append([subject, name, q, avg_grades, med_grades])\n",
    "\n",
    "with open('quarterly_report.csv','w') as f:\n",
    "    writer = csv.writer(f)\n",
    "    writer.writerow(['Subject,Name,Quarter,Average grade,Median grade'])\n",
    "    writer.writerows(results)\n"
   ]
  },
  {
   "cell_type": "markdown",
   "id": "4e687655-7ecd-4082-9577-ce6345842ca9",
   "metadata": {},
   "source": [
    "2. ***Анализ продаж***  \n",
    "Прочитайте файл sales.csv в список словарей с ключами fruit, store, date, revenue (то есть количество нужно будет умножить на цену). У всех значений нужно будет сделать корректный тип данных. После этого сформируйте два json-файла, один с информацией о фруктах, другой - с информацией о магазинах. Для каждого фрукта нужно будет вычислить суммарные продажи, среднюю продажу, медианную продажу, стандартное отклонение продаж, дату первой продажи, дату последней продажи. Во втором файле такая же информация, но по каждому магазину.\n",
    "\n",
    "*Данные:*  \n",
    "Файл `sales.csv` содержит список записей следующего формата:  \n",
    "```\n",
    "Fruit,Store,Date,Quantity,Price\n",
    "Lemon,Rainbow,2023-01-01,120,1.50\n",
    "Mango,Farmer,2023-01-01,120,4.80\n",
    "Grape,Farmer,2023-02-01,80,2.00\n",
    "```\n",
    "Пример вывода (store_summary.json):  \n",
    "```\n",
    "{\"Rainbow\": \n",
    "{\"total_revenue\": 922.5, \n",
    "\"average_revenue\": 153.75, \n",
    "\"median_revenue\": 180.0, \n",
    "\"stddev_revenue\": 49.84, \n",
    "\"first_sale_date\": \"2023-01-01\", \n",
    "\"last_sale_date\": \"2023-01-07\"}, \n",
    "\"Farmer\": \n",
    "{\"total_revenue\": 1580.0, \n",
    "\"average_revenue\": 225.71, \n",
    "\"median_revenue\": 180.0, \n",
    "\"stddev_revenue\": 155.0, \n",
    "\"first_sale_date\": \"2023-01-01\", \n",
    "\"last_sale_date\": \"2023-01-07\"},\n",
    "…\n",
    "}\n",
    "```"
   ]
  },
  {
   "cell_type": "markdown",
   "id": "bd0ee874-db23-47e3-b874-6e4ccc16c7aa",
   "metadata": {},
   "source": [
    "Идея!!! \n",
    "```\n",
    "fruit_data = {'Lemon': [{'fruit': 'Lemon', 'store': 'Rainbow', 'date': datetime.datetime(2023, 1, 1, 0, 0), 'revenue': 180.0}, {'fruit': 'Lemon', 'store': 'Rainbow', 'date': datetime.datetime(2023, 1, 3, 0, 0), 'revenue': 180.0}, {'fruit': 'Lemon', 'store': 'Rainbow', 'date': datetime.datetime(2023, 1, 5, 0, 0), 'revenue': 187.5}, {'fruit': 'Lemon', 'store': 'Rainbow', 'date': datetime.datetime(2023, 1, 7, 0, 0), 'revenue': 195.0}],...}\n",
    "\n",
    "store_data = {'Rainbow': [{'fruit': 'Lemon', 'store': 'Rainbow', 'date': datetime.datetime(2023, 1, 1, 0, 0), 'revenue': 180.0}, {'fruit': 'Apples', 'store': 'Rainbow', 'date': datetime.datetime(2023, 1, 2, 0, 0), 'revenue': 96.0}, {'fruit': 'Lemon', 'store': 'Rainbow', 'date': datetime.datetime(2023, 1, 3, 0, 0), 'revenue': 180.0}, {'fruit': 'Apples', 'store': 'Rainbow', 'date': datetime.datetime(2023, 1, 4, 0, 0), 'revenue': 84.0}, {'fruit': 'Lemon', 'store': 'Rainbow', 'date': datetime.datetime(2023, 1, 5, 0, 0), 'revenue': 187.5}, {'fruit': 'Lemon', 'store': 'Rainbow', 'date': datetime.datetime(2023, 1, 7, 0, 0), 'revenue': 195.0}], 'Farmer':\n",
    "```"
   ]
  },
  {
   "cell_type": "code",
   "execution_count": 2,
   "id": "2fc8c216-984f-4f47-aa06-a048b83956da",
   "metadata": {},
   "outputs": [
    {
     "name": "stdout",
     "output_type": "stream",
     "text": [
      "defaultdict(<class 'list'>, {'Lemon': [{'fruit': 'Lemon', 'store': 'Rainbow', 'date': datetime.datetime(2023, 1, 1, 0, 0), 'revenue': 180.0}, {'fruit': 'Lemon', 'store': 'Rainbow', 'date': datetime.datetime(2023, 1, 3, 0, 0), 'revenue': 180.0}, {'fruit': 'Lemon', 'store': 'Rainbow', 'date': datetime.datetime(2023, 1, 5, 0, 0), 'revenue': 187.5}, {'fruit': 'Lemon', 'store': 'Rainbow', 'date': datetime.datetime(2023, 1, 7, 0, 0), 'revenue': 195.0}], 'Mango': [{'fruit': 'Mango', 'store': 'Farmer', 'date': datetime.datetime(2023, 1, 1, 0, 0), 'revenue': 576.0}, {'fruit': 'Mango', 'store': 'Continent', 'date': datetime.datetime(2023, 1, 4, 0, 0), 'revenue': 570.0}, {'fruit': 'Mango', 'store': 'Continent', 'date': datetime.datetime(2023, 1, 5, 0, 0), 'revenue': 660.0}, {'fruit': 'Mango', 'store': 'Continent', 'date': datetime.datetime(2023, 1, 6, 0, 0), 'revenue': 570.0}], 'Grape': [{'fruit': 'Grape', 'store': 'Farmer', 'date': datetime.datetime(2023, 1, 2, 0, 0), 'revenue': 160.0}, {'fruit': 'Grape', 'store': 'Organics', 'date': datetime.datetime(2023, 1, 2, 0, 0), 'revenue': 228.0}, {'fruit': 'Grape', 'store': 'Farmer', 'date': datetime.datetime(2023, 1, 3, 0, 0), 'revenue': 180.0}, {'fruit': 'Grape', 'store': 'Farmer', 'date': datetime.datetime(2023, 1, 4, 0, 0), 'revenue': 152.0}, {'fruit': 'Grape', 'store': 'Organics', 'date': datetime.datetime(2023, 1, 4, 0, 0), 'revenue': 216.0}, {'fruit': 'Grape', 'store': 'Continent', 'date': datetime.datetime(2023, 1, 5, 0, 0), 'revenue': 160.0}, {'fruit': 'Grape', 'store': 'Farmer', 'date': datetime.datetime(2023, 1, 5, 0, 0), 'revenue': 180.0}, {'fruit': 'Grape', 'store': 'Farmer', 'date': datetime.datetime(2023, 1, 6, 0, 0), 'revenue': 152.0}, {'fruit': 'Grape', 'store': 'Organics', 'date': datetime.datetime(2023, 1, 6, 0, 0), 'revenue': 216.0}, {'fruit': 'Grape', 'store': 'Farmer', 'date': datetime.datetime(2023, 1, 7, 0, 0), 'revenue': 180.0}], 'Apples': [{'fruit': 'Apples', 'store': 'Rainbow', 'date': datetime.datetime(2023, 1, 2, 0, 0), 'revenue': 96.0}, {'fruit': 'Apples', 'store': 'Rainbow', 'date': datetime.datetime(2023, 1, 4, 0, 0), 'revenue': 84.0}]})\n",
      "defaultdict(<class 'list'>, {'Rainbow': [{'fruit': 'Lemon', 'store': 'Rainbow', 'date': datetime.datetime(2023, 1, 1, 0, 0), 'revenue': 180.0}, {'fruit': 'Apples', 'store': 'Rainbow', 'date': datetime.datetime(2023, 1, 2, 0, 0), 'revenue': 96.0}, {'fruit': 'Lemon', 'store': 'Rainbow', 'date': datetime.datetime(2023, 1, 3, 0, 0), 'revenue': 180.0}, {'fruit': 'Apples', 'store': 'Rainbow', 'date': datetime.datetime(2023, 1, 4, 0, 0), 'revenue': 84.0}, {'fruit': 'Lemon', 'store': 'Rainbow', 'date': datetime.datetime(2023, 1, 5, 0, 0), 'revenue': 187.5}, {'fruit': 'Lemon', 'store': 'Rainbow', 'date': datetime.datetime(2023, 1, 7, 0, 0), 'revenue': 195.0}], 'Farmer': [{'fruit': 'Mango', 'store': 'Farmer', 'date': datetime.datetime(2023, 1, 1, 0, 0), 'revenue': 576.0}, {'fruit': 'Grape', 'store': 'Farmer', 'date': datetime.datetime(2023, 1, 2, 0, 0), 'revenue': 160.0}, {'fruit': 'Grape', 'store': 'Farmer', 'date': datetime.datetime(2023, 1, 3, 0, 0), 'revenue': 180.0}, {'fruit': 'Grape', 'store': 'Farmer', 'date': datetime.datetime(2023, 1, 4, 0, 0), 'revenue': 152.0}, {'fruit': 'Grape', 'store': 'Farmer', 'date': datetime.datetime(2023, 1, 5, 0, 0), 'revenue': 180.0}, {'fruit': 'Grape', 'store': 'Farmer', 'date': datetime.datetime(2023, 1, 6, 0, 0), 'revenue': 152.0}, {'fruit': 'Grape', 'store': 'Farmer', 'date': datetime.datetime(2023, 1, 7, 0, 0), 'revenue': 180.0}], 'Organics': [{'fruit': 'Grape', 'store': 'Organics', 'date': datetime.datetime(2023, 1, 2, 0, 0), 'revenue': 228.0}, {'fruit': 'Grape', 'store': 'Organics', 'date': datetime.datetime(2023, 1, 4, 0, 0), 'revenue': 216.0}, {'fruit': 'Grape', 'store': 'Organics', 'date': datetime.datetime(2023, 1, 6, 0, 0), 'revenue': 216.0}], 'Continent': [{'fruit': 'Mango', 'store': 'Continent', 'date': datetime.datetime(2023, 1, 4, 0, 0), 'revenue': 570.0}, {'fruit': 'Grape', 'store': 'Continent', 'date': datetime.datetime(2023, 1, 5, 0, 0), 'revenue': 160.0}, {'fruit': 'Mango', 'store': 'Continent', 'date': datetime.datetime(2023, 1, 5, 0, 0), 'revenue': 660.0}, {'fruit': 'Mango', 'store': 'Continent', 'date': datetime.datetime(2023, 1, 6, 0, 0), 'revenue': 570.0}]})\n"
     ]
    }
   ],
   "source": [
    "import csv\n",
    "import json\n",
    "from collections import defaultdict\n",
    "import statistics\n",
    "from datetime import datetime\n",
    "\n",
    "# Fruit,Store,Date,Quantity,Price\n",
    "# Lemon,Rainbow,2023-01-01,120,1.50\n",
    "\n",
    "# Чтение CSV и подготовка записей\n",
    "records = []\n",
    "with open(\"sales.csv\") as csvfile:\n",
    "    reader = csv.DictReader(csvfile)\n",
    "    for row in reader:\n",
    "        fruit = row[\"Fruit\"]\n",
    "        store = row[\"Store\"]\n",
    "        date = datetime.strptime(row[\"Date\"], \"%Y-%d-%m\")\n",
    "        quantity = int(row[\"Quantity\"])\n",
    "        price = float(row[\"Price\"])\n",
    "        revenue = quantity * price\n",
    "        records.append({\n",
    "            \"fruit\": fruit,\n",
    "            \"store\": store,\n",
    "            \"date\": date,\n",
    "            \"revenue\": revenue\n",
    "        })\n",
    "\n",
    "\n",
    "# Функция для расчёта статистики\n",
    "# {'Rainbow': [{'fruit': 'Lemon', 'store': 'Rainbow', 'date': datetime.datetime(2023, 1, 1, 0, 0), 'revenue': 180.0}, {'fruit': 'Apples', 'store': 'Rainbow', 'date': datetime.datetime(2023, 1, 2, 0, 0), 'revenue': 96.0}, {'fruit': 'Lemon', 'store': 'Rainbow', 'date': datetime.datetime(2023, 1, 3, 0, 0), 'revenue': 180.0}, {'fruit': 'Apples', 'store': 'Rainbow', 'date': datetime.datetime(2023, 1, 4, 0, 0), 'revenue': 84.0}, {'fruit': 'Lemon', 'store': 'Rainbow', 'date': datetime.datetime(2023, 1, 5, 0, 0), 'revenue': 187.5}, {'fruit': 'Lemon', 'store': 'Rainbow', 'date': datetime.datetime(2023, 1, 7, 0, 0), 'revenue': 195.0}]\n",
    "def summarize(grouped_data):\n",
    "    summary = {}\n",
    "    for key, entries in grouped_data.items():\n",
    "        revenues = [entry[\"revenue\"] for entry in entries]\n",
    "        dates = [entry[\"date\"] for entry in entries]\n",
    "        summary[key] = {\n",
    "            \"total_revenue\": round(sum(revenues), 2),\n",
    "            \"average_revenue\": round(mean(revenues), 2),\n",
    "            \"median_revenue\": round(median(revenues), 2),\n",
    "            \"stddev_revenue\": round(stdev(revenues), 2),\n",
    "            \"first_sale_date\": min(dates).strftime(\"%Y-%m-%d\"),\n",
    "            \"last_sale_date\": max(dates).strftime(\"%Y-%m-%d\")\n",
    "        }\n",
    "    return summary\n",
    "\n",
    "# Группировка по фруктам и магазинам\n",
    "fruit_data = defaultdict(list)\n",
    "store_data = defaultdict(list)\n",
    "\n",
    "for record in records:\n",
    "    fruit_data[record[\"fruit\"]].append(record)\n",
    "    store_data[record[\"store\"]].append(record)\n",
    "\n",
    "\n",
    "# Создание сводок\n",
    "fruit_summary = summarize(fruit_data)\n",
    "store_summary = summarize(store_data)\n",
    "\n",
    "# Сохранение в JSON\n",
    "with open(\"fruit_summary.json\", \"w\") as f:\n",
    "    json.dump(fruit_summary, f)\n",
    "\n",
    "with open(\"store_summary.json\", \"w\") as f:\n",
    "    json.dump(store_summary, f)\n",
    "\n",
    "print(\"Файлы fruit_summary.json и store_summary.json успешно созданы.\")\n"
   ]
  },
  {
   "cell_type": "code",
   "execution_count": null,
   "id": "6f88b482-e88d-4c2f-ab27-43b0d95f030d",
   "metadata": {},
   "outputs": [],
   "source": []
  }
 ],
 "metadata": {
  "kernelspec": {
   "display_name": "Python 3 (ipykernel)",
   "language": "python",
   "name": "python3"
  },
  "language_info": {
   "codemirror_mode": {
    "name": "ipython",
    "version": 3
   },
   "file_extension": ".py",
   "mimetype": "text/x-python",
   "name": "python",
   "nbconvert_exporter": "python",
   "pygments_lexer": "ipython3",
   "version": "3.12.4"
  }
 },
 "nbformat": 4,
 "nbformat_minor": 5
}
