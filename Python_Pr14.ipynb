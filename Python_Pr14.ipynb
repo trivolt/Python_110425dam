{
 "cells": [
  {
   "cell_type": "markdown",
   "id": "5b4375e7-f36a-47e9-a7e5-a0358ff70789",
   "metadata": {},
   "source": [
    "# Практические задания 14\n",
    "\n",
    "* Лекция 30 - Файлы JSON и модуль datetime\n",
    "* Лекция 31 - Файлы CSV и модуль statistics\n"
   ]
  },
  {
   "cell_type": "markdown",
   "id": "d5afd24e-2bb3-4c69-a5a5-469a6c8adfc4",
   "metadata": {},
   "source": [
    "0. ***Простая запись и чтение файлов csv и json***  \n",
    "Создайте три списка: Month – с числами от 1 до 12, Income и Outcome – оба с 12 случайными числами от 2000 до 10000. Запишите эти три списка как столбцы в csv файл. Затем прочитайте этот csv-файл как список словарей. Запишите этот список словарей в json-файл.\n"
   ]
  },
  {
   "cell_type": "code",
   "execution_count": null,
   "id": "25edc10b-82a8-427b-a9ba-c56112b85f6d",
   "metadata": {},
   "outputs": [],
   "source": []
  },
  {
   "cell_type": "markdown",
   "id": "81650e11-d44b-4150-92a5-d79e2d9e4f8d",
   "metadata": {},
   "source": [
    "1. ***Анализ оценок по кварталам***  \n",
    "Реализуйте программу, которая должна:  \n",
    "* Прочитать данные из JSON-файла.  \n",
    "* Для каждого ученика вычислить среднюю и медианную оценку за каждый учебный квартал:  \n",
    "   * 1 квартал: январь–март  \n",
    "   * 2 квартал: апрель–май (лето пропускается)  \n",
    "   * 3 квартал: сентябрь–декабрь  \n",
    "      * Записать результаты в CSV-файл с колонками: ученик, квартал, средняя оценка, медианная оценка  \n",
    "*Данные:*  \n",
    "Файл grades.json содержит список записей следующего формата:\n"
   ]
  },
  {
   "cell_type": "markdown",
   "id": "7f8bbb7a-3865-4118-8a76-e1934be66f64",
   "metadata": {},
   "source": [
    "```\n",
    "[{\"name\": \"Bob\", \"subject\": \"Science\", \"grade\": 86, \"date\": \"06-09-2025\"},\n",
    "  {\"name\": \"Diana\", \"subject\": \"Science\", \"grade\": 85, \"date\": \"31-01-2025\"},\n",
    "  {\"name\": \"Bob\", \"subject\": \"Literature\", \"grade\": 60, \"date\": \"19-07-2025\"},\n",
    "  {\"name\": \"Charlie\", \"subject\": \"Literature\", \"grade\": 78, \"date\": \"05-08-2025\"},\n",
    "  {\"name\": \"Ethan\", \"subject\": \"Literature\", \"grade\": 69, \"date\": \"08-04-2025\"},\n",
    "  {\"name\": \"Charlie\", \"subject\": \"Science\", \"grade\": 63, \"date\": \"24-10-2025\"},\n",
    "  {\"name\": \"Ethan\", \"subject\": \"Math\", \"grade\": 80, \"date\": \"30-01-2025\"},\n",
    "  {\"name\": \"Alice\", \"subject\": \"Physics\", \"grade\": 90, \"date\": \"15-09-2025\"},\n",
    "  {\"name\": \"Ethan\", \"subject\": \"Science\", \"grade\": 63, \"date\": \"18-09-2025\"},\n",
    "  ...\n",
    "]\n",
    "```"
   ]
  },
  {
   "cell_type": "markdown",
   "id": "2f740f92-5ccf-484a-b505-5f5b311394c2",
   "metadata": {},
   "source": [
    " Пример вывода (quarterly_report.csv):"
   ]
  },
  {
   "cell_type": "markdown",
   "id": "e20b7610-b3b9-4e5e-a308-c6126ab289b7",
   "metadata": {},
   "source": [
    "```\n",
    "Name,Quarter,Average grade,Median grade\n",
    "Physics,Bob,Q4,80.2,78\n",
    "Physics,Diana,Q1,88.5,88.5\n",
    "Physics,Ethan,Q2,69,69\n",
    "```"
   ]
  },
  {
   "cell_type": "code",
   "execution_count": null,
   "id": "87c5fbdf-59a2-4fa4-ac2c-ea9c61acb7c6",
   "metadata": {},
   "outputs": [],
   "source": []
  },
  {
   "cell_type": "markdown",
   "id": "4e687655-7ecd-4082-9577-ce6345842ca9",
   "metadata": {},
   "source": [
    "3. ***Анализ продаж***  \n",
    "Прочитайте файл sales.csv в список словарей с ключами fruit, store, date, revenue (то есть количество нужно будет умножить на цену). У всех значений нужно будет сделать корректный тип данных. После этого сформируйте два json-файла, один с информацией о фруктах, другой - с информацией о магазинах. Для каждого фрукта нужно будет вычислить суммарные продажи, среднюю продажу, медианную продажу, стандартное отклонение продаж, дату первой продажи, дату последней продажи. Во втором файле такая же информация, но по каждому магазину.\n",
    "\n",
    "*Данные:*  \n",
    "Файл `sales.csv` содержит список записей следующего формата:  \n",
    "```\n",
    "Fruit,Store,Date,Quantity,Price\n",
    "Lemon,Rainbow,2023-01-01,120,1.50\n",
    "Mango,Farmer,2023-01-01,120,4.80\n",
    "Grape,Farmer,2023-02-01,80,2.00\n",
    "```\n",
    "Пример вывода (store_summary.json):  \n",
    "```\n",
    "{\"Rainbow\": \n",
    "{\"total_revenue\": 922.5, \n",
    "\"average_revenue\": 153.75, \n",
    "\"median_revenue\": 180.0, \n",
    "\"stddev_revenue\": 49.84, \n",
    "\"first_sale_date\": \"2023-01-01\", \n",
    "\"last_sale_date\": \"2023-01-07\"}, \n",
    "\"Farmer\": \n",
    "{\"total_revenue\": 1580.0, \n",
    "\"average_revenue\": 225.71, \n",
    "\"median_revenue\": 180.0, \n",
    "\"stddev_revenue\": 155.0, \n",
    "\"first_sale_date\": \"2023-01-01\", \n",
    "\"last_sale_date\": \"2023-01-07\"},\n",
    "…\n",
    "}\n",
    "```"
   ]
  },
  {
   "cell_type": "code",
   "execution_count": null,
   "id": "1c12d36d-bc10-4381-b05c-1882702f1ea8",
   "metadata": {},
   "outputs": [],
   "source": []
  },
  {
   "cell_type": "code",
   "execution_count": null,
   "id": "6f88b482-e88d-4c2f-ab27-43b0d95f030d",
   "metadata": {},
   "outputs": [],
   "source": []
  }
 ],
 "metadata": {
  "kernelspec": {
   "display_name": "Python 3 (ipykernel)",
   "language": "python",
   "name": "python3"
  },
  "language_info": {
   "codemirror_mode": {
    "name": "ipython",
    "version": 3
   },
   "file_extension": ".py",
   "mimetype": "text/x-python",
   "name": "python",
   "nbconvert_exporter": "python",
   "pygments_lexer": "ipython3",
   "version": "3.12.4"
  }
 },
 "nbformat": 4,
 "nbformat_minor": 5
}
