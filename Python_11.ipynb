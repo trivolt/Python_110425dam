{
 "cells": [
  {
   "cell_type": "markdown",
   "id": "550ff06c-d811-454c-a207-9eca5631041a",
   "metadata": {},
   "source": [
    "# Методы строк"
   ]
  },
  {
   "cell_type": "markdown",
   "id": "3a4695af-9ae4-43f3-b2e3-788b9c89cec0",
   "metadata": {},
   "source": [
    "### Методы строк\n",
    "Метод — это функция, которая принадлежит определённому объекту и может взаимодействовать с его данными."
   ]
  },
  {
   "cell_type": "markdown",
   "id": "be1fd84c-875b-4bb8-b590-274302cd8f86",
   "metadata": {},
   "source": [
    "### Основные характеристики метода:\n",
    "1. Метод связан с объектом:\n",
    "Методы вызываются через объекты и могут работать с данными, принадлежащими этим объектам.\n",
    "Например, строка в Python является объектом класса str, и у неё есть методы для работы с текстом.\n",
    "2. Вызов метода:\n",
    "Чтобы вызвать метод, необходимо использовать синтаксис: object_name.method_name(). Например, для строкового объекта это может быть так:\n"
   ]
  },
  {
   "cell_type": "code",
   "execution_count": null,
   "id": "a65ac5cf-025b-4bd0-8c27-917913cfba50",
   "metadata": {},
   "outputs": [],
   "source": [
    "text = \"Hello world\"\n",
    "print(text.upper())  # Переводит текст в верхний регистр "
   ]
  },
  {
   "cell_type": "markdown",
   "id": "734d7bdc-b2e7-44d4-b3dc-29b087a8e73e",
   "metadata": {},
   "source": [
    "3. Методы могут принимать аргументы:\n",
    "   \n",
    "Как и функции, методы могут принимать аргументы, которые помогают управлять их поведением.\n"
   ]
  },
  {
   "cell_type": "code",
   "execution_count": null,
   "id": "584c7e61-61e8-43c9-9d9c-0cfd3fe37328",
   "metadata": {},
   "outputs": [],
   "source": [
    "print(text.count(\"o\")) # Считает количество букв 'o' в тексте"
   ]
  },
  {
   "cell_type": "markdown",
   "id": "b7d7950d-21be-4372-9bfd-d29e3e2f2ed4",
   "metadata": {},
   "source": [
    "Для работы со строками доступен широкий набор встроенных методов. Эти методы позволяют выполнять различные операции: изменение регистра, поиск, замена подстрок, разбиение строки и многое другое."
   ]
  },
  {
   "cell_type": "markdown",
   "id": "1bdb2a70-8e48-4e73-a935-9f2ba9a63502",
   "metadata": {},
   "source": [
    "## Методы проверки предиката\n",
    "Методы проверки предиката (или булевые методы) — это методы, которые возвращают True или False в зависимости от выполнения определённого условия для строки. Эти методы используются для проверки, соответствует ли строка определённым критериям, таким как наличие только букв, только цифр, наличие пробелов и т.д.\n"
   ]
  },
  {
   "cell_type": "markdown",
   "id": "b7586c1d-ac94-4388-bd18-353c6d2e0126",
   "metadata": {},
   "source": [
    "`isalpha()`  Проверяет, состоит ли строка только из букв.\n",
    "\n",
    "`isdigit()` Проверяет, состоит ли строка только из цифр 0-9\n",
    "\n",
    "`isnumeric()` Проверяет, состоит ли строка только из числовых символов.\n",
    "\n",
    "`isalnum()` Проверяет, состоит ли строка только из букв и цифр.\n",
    "\n",
    "`isspace()` Проверяет, состоит ли строка только из пробелов.\n",
    "\n",
    "`islower()` Проверяет, все ли символы строки в нижнем регистре.\n",
    "\n",
    "`isupper()` Проверяет, все ли символы строки в верхнем регистре.\n",
    "\n",
    "`istitle()` Проверяет, начинается ли каждое слово в строке с заглавной буквы.\n",
    "\n",
    "`startswith()` Проверяет, начинается ли строка с указанной подстроки.\n",
    "\n",
    "`endswith()` Проверяет, заканчивается ли строка на указанную подстроку.\n",
    "\n",
    "`isascii()` Проверяет, состоит ли строка только из символов ASCII.\n",
    "\n",
    "`isprintable()` Проверяет, все ли символы строки являются печатаемыми.\n",
    "\n",
    "`isidentifier()` Проверяет, является ли строка допустимым идентификатором в Python.\n",
    "\n"
   ]
  },
  {
   "cell_type": "code",
   "execution_count": null,
   "id": "40e223f3-3f9b-4174-bdea-6b12bbcd420e",
   "metadata": {},
   "outputs": [],
   "source": [
    "# проверяет, состоит ли строка только из букв (без пробелов и других символов)\n",
    "print(\"Hello\".isalpha())"
   ]
  },
  {
   "cell_type": "code",
   "execution_count": null,
   "id": "860e72b5-0fac-446d-86b2-f785572e8769",
   "metadata": {},
   "outputs": [],
   "source": [
    "# проверяет, состоит ли строка только из цифр\n",
    "print(\"12345.1\".isnumeric())"
   ]
  },
  {
   "cell_type": "code",
   "execution_count": null,
   "id": "b2ba4898-2ec5-4713-b1f1-86976b3a0616",
   "metadata": {},
   "outputs": [],
   "source": [
    "# проверяет, состоит ли строка только из букв и цифр (без пробелов и специальных символов)\n",
    "print(\"Hello123\".isalnum())"
   ]
  },
  {
   "cell_type": "code",
   "execution_count": null,
   "id": "ccf68ea2-bbd2-4161-8747-a87bb76e3f23",
   "metadata": {},
   "outputs": [],
   "source": [
    "# проверяет, состоит ли строка только из пробельных символов (пробелы, табуляция и т.д.)\n",
    "print(\"   \".isspace())"
   ]
  },
  {
   "cell_type": "code",
   "execution_count": null,
   "id": "a93334fa-3607-4270-830a-78b6bcddccd7",
   "metadata": {},
   "outputs": [],
   "source": [
    "# проверяет, находятся ли все символы строки в нижнем регистре\n",
    "print(\"Hello\".islower())"
   ]
  },
  {
   "cell_type": "code",
   "execution_count": null,
   "id": "caa7a7f4-77bf-40bc-88f5-5b9d183b0420",
   "metadata": {},
   "outputs": [],
   "source": [
    "# проверяет, находятся ли все символы строки в верхнем регистре\n",
    "print(\"HELLO\".isupper())"
   ]
  },
  {
   "cell_type": "code",
   "execution_count": null,
   "id": "a4d98ff1-c918-4719-9771-1ee3c6b3437a",
   "metadata": {},
   "outputs": [],
   "source": [
    "# проверяет, начинается ли каждое слово в строке с заглавной буквы\n",
    "print(\"Hello world\".istitle())"
   ]
  },
  {
   "cell_type": "code",
   "execution_count": null,
   "id": "65465b0c-6673-4abf-8f08-a2a051e96598",
   "metadata": {},
   "outputs": [],
   "source": [
    "# проверяет, начинается ли строка с указанной подстроки\n",
    "print(\"Hello world\".startswith(\"Hello\"))"
   ]
  },
  {
   "cell_type": "code",
   "execution_count": null,
   "id": "46e7aa2d-d081-4dc6-b9e6-08fda11b8adc",
   "metadata": {},
   "outputs": [],
   "source": [
    "# проверяет, заканчивается ли строка указанной подстрокой\n",
    "print(\"Hello world!\".endswith(\"world\"))"
   ]
  },
  {
   "cell_type": "code",
   "execution_count": null,
   "id": "769010d0-1276-433e-a236-58e4e3b4e9f4",
   "metadata": {},
   "outputs": [],
   "source": [
    "# проверяет, состоит ли строка только из символов ASCII\n",
    "print(\"Привет\".isascii())"
   ]
  },
  {
   "cell_type": "code",
   "execution_count": null,
   "id": "ef4a3458-6116-416f-a988-405ba59611fc",
   "metadata": {},
   "outputs": [],
   "source": [
    "# проверяет, все ли символы в строке являются печатаемыми, например без символа перевода строки\n",
    "print(\"Hello\\nWorld\".isprintable())"
   ]
  },
  {
   "cell_type": "code",
   "execution_count": null,
   "id": "27beccf1-9d46-4287-ad27-598da79ef561",
   "metadata": {},
   "outputs": [],
   "source": [
    "# проверяет, является ли строка допустимым идентификатором (названием переменной)\n",
    "print(\"1variable\".isidentifier())"
   ]
  },
  {
   "cell_type": "markdown",
   "id": "319df9df-e04d-43b6-9e35-9c20c0c78e40",
   "metadata": {},
   "source": [
    "### Задания для закрепления"
   ]
  },
  {
   "cell_type": "code",
   "execution_count": null,
   "id": "150a34ca-80e7-4f5b-9951-cf2ffca4709d",
   "metadata": {},
   "outputs": [],
   "source": [
    "#1. Какой результат будет выведен при выполнении следующего кода?\n",
    "text = \"Python3\"\n",
    "print(text.isalpha())\n"
   ]
  },
  {
   "cell_type": "code",
   "execution_count": null,
   "id": "7e51cdae-2087-4907-9eb0-dc7f52c0791d",
   "metadata": {},
   "outputs": [],
   "source": [
    "#2. Какой результат будет выведен при выполнении следующего кода?\n",
    "text = \"Hello World\"\n",
    "print(text.istitle())\n"
   ]
  },
  {
   "cell_type": "markdown",
   "id": "c3077709-4e82-42e6-a790-4898488f39bc",
   "metadata": {},
   "source": [
    "## Поиск подстроки в строке\n",
    "Python предоставляет несколько способов для поиска подстроки в строке. Эти методы позволяют определить, содержится ли подстрока в строке, и найти её местоположение, если она присутствует, а также подсчитать количество вхождений подстроки.\n"
   ]
  },
  {
   "cell_type": "markdown",
   "id": "01922707-323e-403d-9823-38c5b9723e9d",
   "metadata": {},
   "source": [
    "`find()` Возвращает индекс первого вхождения подстроки. Если подстрока не найдена, возвращает -1.\n",
    "\n",
    "`rfind()` Возвращает индекс последнего вхождения подстроки. Если подстрока не найдена, возвращает -1.\n",
    "\n",
    "`index()` Возвращает индекс первого вхождения подстроки. Если подстрока не найдена, вызывает ValueError.\n",
    "\n",
    "`rindex()` Возвращает индекс последнего вхождения подстроки. Если подстрока не найдена, вызывает ValueError.\n",
    "\n",
    "`count()` Возвращает количество вхождений подстроки в строке."
   ]
  },
  {
   "cell_type": "markdown",
   "id": "2f5f618b-4a15-47e2-85ee-6b2365fcf700",
   "metadata": {},
   "source": [
    "### Методы find() и rfind()\n",
    "`find()`:\n",
    "\n",
    "Ищет первое вхождение подстроки и возвращает индекс её начала (первого элемента подстроки).\n",
    "Если подстрока не найдена, возвращает -1, что делает метод безопасным для использования без вызова исключений.\n",
    "\n",
    "`rfind()`:\n",
    "\n",
    "Ищет последнее вхождение подстроки и возвращает индекс её начала.\n",
    "Если подстрока не найдена, также возвращает -1.\n"
   ]
  },
  {
   "cell_type": "code",
   "execution_count": null,
   "id": "53e46ecf-204f-4825-b6b7-7ab21e80fade",
   "metadata": {},
   "outputs": [],
   "source": [
    "text = \"Python is awesome. Python is dynamic.\"\n",
    "\n",
    "\n",
    "# Поиск первого вхождения подстроки\n",
    "print(text.find(\"Python\"))\n",
    "\n",
    "\n",
    "# Поиск последнего вхождения подстроки\n",
    "print(text.rfind(\"Python\"))\n",
    "\n",
    "\n",
    "# Подстрока не найдена\n",
    "print(text.find(\"Java\"))"
   ]
  },
  {
   "cell_type": "markdown",
   "id": "908aad26-c263-4e62-9f7b-80f6d2d499c0",
   "metadata": {},
   "source": [
    "### Методы index() и rindex()\n",
    "`index()`:\n",
    "\n",
    "Работает аналогично find(), возвращает индекс первого вхождения подстроки.\n",
    "Если подстрока не найдена, вызывает исключение ValueError.\n",
    "    \n",
    "`rindex()`:\n",
    "\n",
    "Работает аналогично rfind(), возвращает индекс последнего вхождения подстроки.\n",
    "Если подстрока не найдена, также вызывает исключение ValueError.\n"
   ]
  },
  {
   "cell_type": "code",
   "execution_count": null,
   "id": "ab88f7c2-6bb5-4fb1-9b2a-a2c7038d0fca",
   "metadata": {},
   "outputs": [],
   "source": [
    "text = \"Python is awesome. Python is dynamic.\"\n",
    "\n",
    "\n",
    "# Поиск первого вхождения подстроки\n",
    "print(text.index(\"Python\"))\n",
    "\n",
    "\n",
    "# Поиск последнего вхождения подстроки\n",
    "print(text.rindex(\"Python\"))\n",
    "\n",
    "\n",
    "# Попытка найти отсутствующую подстроку вызывает ошибку\n",
    "print(text.index(\"Java\"))  # ValueError\n"
   ]
  },
  {
   "cell_type": "markdown",
   "id": "8fd77297-9c49-442e-a6fb-c79fad75feee",
   "metadata": {},
   "source": [
    "### Метод count()\n",
    "`count():`\n",
    "\n",
    "Возвращает количество вхождений подстроки в строке, т.к. подсчитывает сколько раз подстрока найдена в строке. Этот метод всегда безопасен и не вызывает исключений.\n"
   ]
  },
  {
   "cell_type": "code",
   "execution_count": null,
   "id": "9f9aa54d-1616-4f7c-9340-22ef8aa95818",
   "metadata": {},
   "outputs": [],
   "source": [
    "text = \"Python is awesome. Python is dynamic.\"\n",
    "\n",
    "\n",
    "# Подсчёт количества вхождений подстроки\n",
    "print(text.count(\"Python\"))\n",
    "\n",
    "\n",
    "# Если подстрока не найдена, возвращает 0\n",
    "print(text.count(\"Java\"))\n",
    "\n",
    "\n",
    "# Следующую подстроку ищет после конца предыдущей, т.е. без пересечений\n",
    "text = \"hahahahahaha\"\n",
    "print(text.count(\"ha\"))\n",
    "print(text.count(\"haha\"))\n"
   ]
  },
  {
   "cell_type": "markdown",
   "id": "c9b782ca-7357-4310-a48b-1d4ec386e524",
   "metadata": {},
   "source": [
    "### Задания для закрепления"
   ]
  },
  {
   "cell_type": "code",
   "execution_count": null,
   "id": "6e11eb23-2223-46e8-9f8f-47e446033d1a",
   "metadata": {},
   "outputs": [],
   "source": [
    "#1. Какой результат будет выведен при выполнении следующего кода?\n",
    "text = \"Python is awesome. Python is dynamic.\"\n",
    "print(text.find(\"is\"))\n"
   ]
  },
  {
   "cell_type": "code",
   "execution_count": null,
   "id": "f548fd69-1776-47e0-9f55-590a56fb7094",
   "metadata": {},
   "outputs": [],
   "source": [
    "#2. Какой результат будет выведен при выполнении следующего кода?\n",
    "text = \"33333\"\n",
    "print(text.count(\"33\"))\n"
   ]
  },
  {
   "cell_type": "markdown",
   "id": "2b199827-455c-41bd-bcb8-64b392b4c932",
   "metadata": {},
   "source": [
    "## Методы изменения регистра\n",
    "В Python существуют несколько методов для работы с регистром строк. Эти методы позволяют преобразовывать символы строки в верхний или нижний регистр, а также обеспечивать правильное форматирование с заглавными буквами в начале каждого слова или строки.\n",
    "\n",
    "При этом исходная строка остаётся неизменной, так как строки в Python являются неизменяемыми (immutable), и каждый метод возвращает новую строку с изменённым регистром.\n"
   ]
  },
  {
   "cell_type": "markdown",
   "id": "1103dd21-b0de-4e52-8390-8fbd8a138c63",
   "metadata": {},
   "source": [
    "`upper()` Преобразует все символы строки в верхний регистр.\n",
    "\n",
    "`lower()` Преобразует все символы строки в нижний регистр.\n",
    "\n",
    "`capitalize()` Преобразует первую букву строки в заглавную, остальные символы делает строчными.\n",
    "\n",
    "`title()` Преобразует первую букву каждого слова строки в заглавную.\n",
    "\n",
    "`swapcase()` Меняет регистр всех символов строки на противоположный.\n",
    "\n",
    "`casefold()` Преобразует строку в нижний регистр с учётом языковых особенностей для более точного сравнения.\n",
    "\n"
   ]
  },
  {
   "cell_type": "code",
   "execution_count": null,
   "id": "f5d89b70-cc19-490c-8906-5d5958c65d20",
   "metadata": {},
   "outputs": [],
   "source": [
    "text = \"Hello, worlD!\"\n",
    "\n",
    "\n",
    "# Преобразование строки в верхний регистр\n",
    "print(text.upper()) \n",
    "\n",
    "\n",
    "# Преобразование строки в нижний регистр\n",
    "print(text.lower()) \n",
    "\n",
    "\n",
    "# Первая буква строки становится заглавной, остальные строчными\n",
    "print(text.capitalize())\n",
    "\n",
    "\n",
    "# Первая буква каждого слова становится заглавной\n",
    "print(text.title())\n",
    "\n",
    "\n",
    "# Меняет регистр всех символов на противоположный\n",
    "print(text.swapcase())\n",
    "\n",
    "\n",
    "# Приводит строку к нижнему регистру с учётом особенностей языка\n",
    "print(\"Straße\".casefold())\n"
   ]
  },
  {
   "cell_type": "markdown",
   "id": "28984417-3320-4402-91c6-0a0a083654fe",
   "metadata": {},
   "source": [
    "### Метод replace\n",
    "Метод replace() используется для замены всех вхождений одной подстроки на другую в строке. Он возвращает новую строку, оставляя исходную неизменной, поскольку строки в Python неизменяемы.\n"
   ]
  },
  {
   "cell_type": "markdown",
   "id": "db039c47-0704-4731-a14e-7f756dae1ca9",
   "metadata": {},
   "source": [
    "#### Синтаксис:\n",
    "`string.replace(old, new, count=-1)`\n",
    "\n",
    "\n",
    " * old — подстрока, которую нужно заменить.\n",
    " * new — подстрока, на которую будет заменена старая подстрока.\n",
    " * count (необязательный) — количество замен. Если не указано, заменяются все вхождения.\n"
   ]
  },
  {
   "cell_type": "code",
   "execution_count": null,
   "id": "923a461f-fd3e-4128-8044-ddd502054411",
   "metadata": {},
   "outputs": [],
   "source": [
    "# Пример замены всех вхождений\n",
    "text = \"I love Python, Python is great\"\n",
    "new_text = text.replace(\"Python\", \"Java\")\n",
    "print(new_text) \n",
    "\n",
    "\n",
    "# Пример с ограничением замен\n",
    "text = \"apple apple apple\"\n",
    "new_text = text.replace(\"apple\", \"orange\", 1)\n",
    "print(new_text)\n"
   ]
  },
  {
   "cell_type": "markdown",
   "id": "a38c4e38-c994-46f4-bf72-63bcc6a92227",
   "metadata": {},
   "source": [
    "### Методы split и join\n",
    "Методы split() и join() используются для работы со строками, позволяя легко разделять строку на части и объединять список строк в одну строку с помощью разделителя.\n"
   ]
  },
  {
   "cell_type": "markdown",
   "id": "6ae7f5d5-5a14-498d-b727-7e87c72fb4fe",
   "metadata": {},
   "source": [
    "`split(sep, maxsplit=-1)`  Разделяет строку по указанному разделителю и возвращает список строк. Можно ограничить количество разбиений.\n",
    "    \n",
    "`join(iterable)` Объединяет элементы последовательности в строку, используя указанный разделитель.\n",
    "\n"
   ]
  },
  {
   "cell_type": "markdown",
   "id": "1844a3f1-6e43-4d01-b699-79b0aa4d3452",
   "metadata": {},
   "source": [
    "### Метод split()\n",
    "Метод split() разделяет строку на части по указанному разделителю и возвращает список этих частей.\n"
   ]
  },
  {
   "cell_type": "markdown",
   "id": "76b2c2d0-d71a-4d17-912d-a8b295b0259c",
   "metadata": {},
   "source": [
    "#### Синтаксис:\n",
    "`string.split(sep, maxsplit=-1)`\n",
    "\n",
    " * sep (необязательный) — символ или подстрока, по которой происходит разделение. Если не указано, разделение происходит по пробелам.\n",
    " * maxsplit (необязательный) — максимальное количество разбиений. Если не указано, строка разбивается на все возможные части.\n"
   ]
  },
  {
   "cell_type": "code",
   "execution_count": null,
   "id": "d3f3ffe9-d2e1-4dfe-84c1-997b27b47da9",
   "metadata": {},
   "outputs": [],
   "source": [
    "\n",
    "# Пример 1: Разделение строки по пробелам\n",
    "text = \"apple banana cherry\"\n",
    "fruits = text.split()\n",
    "print(fruits)\n",
    "\n",
    "\n",
    "# Пример 2: Разделение строки по запятой\n",
    "text = \"apple,banana,cherry\"\n",
    "fruits = text.split(\",\")\n",
    "print(fruits)\n",
    "\n",
    "\n",
    "# Пример 3: Разделение строки с ограничением количества разбиений\n",
    "text = \"apple---banana---cherry\"\n",
    "fruits = text.split(\"---\", 1)\n",
    "print(fruits)\n"
   ]
  },
  {
   "cell_type": "markdown",
   "id": "2412b822-3b3d-4c1d-a90d-85d77cd89674",
   "metadata": {},
   "source": [
    "### Разница между text.split() и text.split(\" \")\n",
    "Метод split() работает по-разному в зависимости от того, указан пробел как разделитель или нет.\n",
    "1. `string.split():`\n",
    " * Если не указать разделитель, метод автоматически разделяет строку по любым пробельным символам (это могут быть пробелы, табуляция, перенос строки и т.д.).\n",
    " * Кроме того, несколько подряд идущих пробелов будут восприниматься как один элемент (по которому разбивать).\n"
   ]
  },
  {
   "cell_type": "code",
   "execution_count": null,
   "id": "3b62c879-c8d2-437f-aa97-8ecaba40f942",
   "metadata": {},
   "outputs": [],
   "source": [
    "text = \"apple     banana\\t cherry\\n\"\n",
    "fruits = text.split()  # Разделяет по любым пробельным символам\n",
    "print(fruits)\n"
   ]
  },
  {
   "cell_type": "markdown",
   "id": "984fef4b-5125-4dd0-a7c6-eda859e8242a",
   "metadata": {},
   "source": [
    "2. `string.split(\" \"):`\n",
    " * В этом случае метод разделяет строку только по пробелам.\n",
    " * Если между словами несколько пробелов, они не будут восприниматься как один элемент, и это в результате создаст пустые строки.\n"
   ]
  },
  {
   "cell_type": "code",
   "execution_count": null,
   "id": "62e9f9fb-4e81-420f-87b4-f6a327a6acfe",
   "metadata": {},
   "outputs": [],
   "source": [
    "text = \"apple     banana\\t cherry\\n\"\n",
    "fruits = text.split(\" \")  # Разделяет только по пробелам\n",
    "print(fruits)\n"
   ]
  },
  {
   "cell_type": "markdown",
   "id": "c7e70e88-5c9a-48e4-b814-ee97d368131f",
   "metadata": {},
   "source": [
    "### Метод join()\n",
    "Метод `join()` объединяет элементы последовательности (списка, кортежа и т.д.) в одну строку, используя указанный разделитель.\n",
    "#### Синтаксис:\n",
    "`separator.join(iterable)`\n",
    "\n",
    "\n",
    " * separator — строка, которая будет использоваться в качестве разделителя между элементами.\n",
    " * iterable — последовательность (список, кортеж), элементы которой нужно объединить в строку.\n"
   ]
  },
  {
   "cell_type": "code",
   "execution_count": null,
   "id": "de7e6456-ad57-4a96-8ddf-a69ec5d3f813",
   "metadata": {},
   "outputs": [],
   "source": [
    "# Пример 1: Объединение списка строк с пробелом\n",
    "fruits = ['apple', 'banana', 'cherry']\n",
    "text = \" \".join(fruits)\n",
    "print(text)\n",
    "\n",
    "\n",
    "# Пример 2: Объединение списка строк с запятой и пробелом\n",
    "fruits = ['apple', 'banana', 'cherry']\n",
    "text = \", \".join(fruits)\n",
    "print(text)\n",
    "\n",
    "\n",
    "# Пример 2: Объединение списка строк по пустому символу\n",
    "litters = ['a', 'b', 'c', 'd', 'e']\n",
    "text = \"\".join(litters)\n",
    "print(text)\n"
   ]
  },
  {
   "cell_type": "markdown",
   "id": "e2e08ef7-a580-488f-af2f-00cab02a3f49",
   "metadata": {},
   "source": [
    "### Методы strip, lstrip, rstrip\n",
    "Методы `strip()`, `lstrip()` и `rstrip()` используются для удаления пробелов и других ненужных символов из строк. Эти методы позволяют удалить символы либо с обеих сторон строки, либо только с левой или правой стороны.\n"
   ]
  },
  {
   "cell_type": "markdown",
   "id": "a44d1b92-7674-4bdf-a2f0-86452121120e",
   "metadata": {},
   "source": [
    "`strip()` Удаляет пробелы или указанные символы с обеих сторон строки.\n",
    "\n",
    "`lstrip()` Удаляет пробелы или указанные символы только с левой стороны строки.\n",
    "    \n",
    "`rstrip()` Удаляет пробелы или указанные символы только с правой стороны строки.\n",
    "\n"
   ]
  },
  {
   "cell_type": "markdown",
   "id": "21f2b2ae-36c8-4f89-b5a0-8c9ae76f173f",
   "metadata": {},
   "source": [
    "### Метод strip()\n",
    "Метод strip() удаляет пробелы или указанные символы с обоих концов строки (слева и справа).\n",
    "#### Синтаксис:\n",
    "`string.strip([chars])`\n",
    "\n",
    "\n",
    " * chars (необязательный) — символы, которые нужно удалить. Если не указано, по умолчанию удаляются пробелы.\n"
   ]
  },
  {
   "cell_type": "code",
   "execution_count": null,
   "id": "6c6ef204-a51e-4b60-8450-a02f6ba1a580",
   "metadata": {},
   "outputs": [],
   "source": [
    "text = \"\\t  hello world\\n  \"\n",
    "print(text.strip())  # Удаляет все пробельные символы\n",
    "\n",
    "\n",
    "text_with_chars = \"***hello***\"\n",
    "print(text_with_chars.strip(\"*\"))  # Удаляет указанный символ\n",
    "\n",
    "\n",
    "text_with_chars = \"**--*hello---***\"\n",
    "print(text_with_chars.strip(\"*-\"))  # Удаляет все указанные символы\n"
   ]
  },
  {
   "cell_type": "markdown",
   "id": "373df2d0-a84b-4cba-b106-5f03dedfb7bd",
   "metadata": {},
   "source": [
    "### Методы lstrip() и rstrip()\n",
    "Методы `lstrip()` и `rstrip()` удаляют пробелы или указанные символы только с левой или правой стороны строки соответственно.\n"
   ]
  },
  {
   "cell_type": "code",
   "execution_count": null,
   "id": "53e9f0af-90fa-4042-93f2-d77a93aa2567",
   "metadata": {},
   "outputs": [],
   "source": [
    "text = \"  hello world  \"\n",
    "print(text.lstrip())  # Вывод: \"hello world  \"\n",
    "\n",
    "\n",
    "text_with_chars = \"***hello***\"\n",
    "print(text_with_chars.lstrip(\"*\"))  # Вывод: \"hello***\"\n",
    "\n",
    "\n",
    "\n",
    "\n",
    "text = \"  hello world  \"\n",
    "print(text.rstrip())  # Вывод: \"  hello world\"\n",
    "\n",
    "\n",
    "text_with_chars = \"***hello***\"\n",
    "print(text_with_chars.rstrip(\"*\"))  # Вывод: \"***hello\"\n"
   ]
  },
  {
   "cell_type": "markdown",
   "id": "e04d0933-ffda-4b2d-a2a1-b3ff6a2c6b36",
   "metadata": {},
   "source": [
    "### Задания для закрепления\n"
   ]
  },
  {
   "cell_type": "code",
   "execution_count": null,
   "id": "d30e3f37-92c6-44b2-88e3-397314fd45da",
   "metadata": {},
   "outputs": [],
   "source": [
    "# 1. Какой результат будет выведен при выполнении следующего кода?\n",
    "text = \"Hello, worlD!\"\n",
    "print(text.swapcase())\n"
   ]
  },
  {
   "cell_type": "code",
   "execution_count": null,
   "id": "90f4f285-0398-41f1-afc6-9d5c62dea7b6",
   "metadata": {},
   "outputs": [],
   "source": [
    "#2. Какой результат будет выведен при выполнении следующего кода?\n",
    "text = \"Python, Java, C++\"\n",
    "languages = text.split(\",\")\n",
    "print(languages)\n"
   ]
  },
  {
   "cell_type": "markdown",
   "id": "53018ed3-9f05-4baf-8780-a742971f5c7b",
   "metadata": {},
   "source": [
    "### Практические задания\n",
    "1. Напишите программу, которая обрабатывает список строк, состоящий из имён, и выводит только корректные имена. Корректные это те, которые начинаются с заглавной буквы и состоят только из букв.\n",
    "\n",
    "    Данные:\n",
    "    names = [\"Alice\", \"bob\", \"Charlie\", \"dave\", \"Eva\", \"Frank123\"]\n",
    "\n",
    "    Пример вывода:\n",
    "    Имена с заглавной буквы и без цифр: \n",
    "    \t Alice\n",
    "    \t Charlie\n",
    "    \t Eva\n"
   ]
  },
  {
   "cell_type": "code",
   "execution_count": null,
   "id": "2ba7b3cf-ff8a-4792-911e-cf15dde6e161",
   "metadata": {},
   "outputs": [],
   "source": []
  },
  {
   "cell_type": "markdown",
   "id": "ff787589-d38b-4119-92a8-1e55397a3223",
   "metadata": {},
   "source": [
    "2. Напишите программу, которая обрабытывает строку и заменяет все вхождения чисел в строке на их квадрат, оставляя другие части строки неизменными.\n",
    "   \n",
    "    Данные:\n",
    "   \n",
    "    text = \"I have 2 apples and 4 bananas\"\n",
    "\n",
    "\n",
    "    Пример вывода:\n",
    "   \n",
    "    I have 4 apples and 16 bananas\n"
   ]
  },
  {
   "cell_type": "code",
   "execution_count": null,
   "id": "76dbaf13-f7c1-4d0e-bd87-9f4979f0a6a2",
   "metadata": {},
   "outputs": [],
   "source": []
  },
  {
   "cell_type": "markdown",
   "id": "d52ce099-fb08-4d5d-bc1f-df8e9c034afe",
   "metadata": {},
   "source": [
    "### ДЗ"
   ]
  },
  {
   "cell_type": "markdown",
   "id": "8e0735d5-3502-463d-a238-fd74e10bc098",
   "metadata": {},
   "source": [
    "1. ***Звёздочки вместо чисел***  \n",
    "Напишите программу, которая заменяет все цифры в строке на звёздочки *.  \n",
    "    text = \"My number is 123-456-789\"\n",
    "2. ***Количество символов***\\\n",
    "Напишите программу, которая подсчитывает количество вхождений всех символов в строке. Нужно вывести только символы, которые встречаются более 1 раза (игнорируя регистр), с указанием их количества. Выводите повторяющиеся символы только один раз.  \n",
    "    text = \"Programming in python\"\n",
    "3. ***Увеличение чисел***  \n",
    "Напишите программу, которая заменяет все числа в строке на их эквивалент, умноженный на 10.  \n",
    "    text = \"I have 5 apples and 10 oranges, price is 0.5 each. Card number is ....3672.\"\n"
   ]
  },
  {
   "cell_type": "code",
   "execution_count": null,
   "id": "6ba49386-0961-4c06-9169-4a3f6524e007",
   "metadata": {},
   "outputs": [],
   "source": []
  }
 ],
 "metadata": {
  "kernelspec": {
   "display_name": "Python 3 (ipykernel)",
   "language": "python",
   "name": "python3"
  },
  "language_info": {
   "codemirror_mode": {
    "name": "ipython",
    "version": 3
   },
   "file_extension": ".py",
   "mimetype": "text/x-python",
   "name": "python",
   "nbconvert_exporter": "python",
   "pygments_lexer": "ipython3",
   "version": "3.12.4"
  }
 },
 "nbformat": 4,
 "nbformat_minor": 5
}
