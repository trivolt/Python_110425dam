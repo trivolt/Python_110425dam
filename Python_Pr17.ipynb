{
 "cells": [
  {
   "cell_type": "markdown",
   "id": "a816891a-35cb-42df-8637-f55717e04be3",
   "metadata": {},
   "source": [
    "# Практикум 17"
   ]
  },
  {
   "cell_type": "markdown",
   "id": "c0237c68-2d76-4068-aad8-5747bf2001d5",
   "metadata": {},
   "source": [
    "1. **Класс User**  \n",
    "Создайте класс User, представляющий пользователя некоторого сайта.  \n",
    "У каждого объекта должно быть имя, фамилия, email, страна и дата рождения.  \n",
    "Дата передаётся как строка (YYYY-MM-DD) и сохраняется в виде объекта datetime.date.   \n",
    "Определите строковое представление объекта через соответствующий магический метод.  \n",
    "Добавьте классовое поле count, представляющее собой счетчик всех созданных пользователей.  \n",
    "Добавьте классовый метод total, который возвращает текущее количество пользователей.  \n",
    "Добавьте статический метод permission(users, age). Метод принимает список пользователей и возраст age как целое число. Метод возвращает список пользователей, достигших возраста age на текущую дату.\n",
    "Протестируйте работу класса на нескольких примерах.  \n",
    "    \n",
    "*Пример для тестирования:*  \n",
    "```\n",
    "u1 = User(\"Alice\", \"Smith\", \"alice@example.com\", \"USA\", \"2008-06-15\")\n",
    "u2 = User(\"Bob\", \"Johnson\", \"bob@example.com\", \"Canada\", \"1990-11-23\")\n",
    "u3 = User(\"Carol\", \"Lee\", \"carol@example.com\", \"UK\", \"2005-01-01\")\n",
    "\n",
    "print(f\"Total users: {User.total()}\")  \n",
    "\n",
    "print(\"List of 18+ users:\")\n",
    "for u in User.permission([u1, u2, u3], 18):\n",
    "  print(u)\n",
    "```\n",
    "\n",
    "Пример вывода:   \n",
    "Total users: 3  \n",
    "List of 18+ users:  \n",
    "Bob Johnson (bob@example.com) from Canada, born on 1990-11-23  \n",
    "Carol Lee (carol@example.com) from UK, born on 2005-01-01  \n"
   ]
  },
  {
   "cell_type": "code",
   "execution_count": null,
   "id": "a1e763e4-96ea-424f-a9cf-d2331106426f",
   "metadata": {},
   "outputs": [],
   "source": []
  },
  {
   "cell_type": "markdown",
   "id": "a9830270-681a-476e-b97b-9250feef87dc",
   "metadata": {},
   "source": [
    "Напишите функцию get_response(url), которая отправляет GET-запрос по заданному URL-адресу и возвращает объект ответа. Затем выведите следующую информацию об ответе:\n",
    "\n",
    "* Код состояния (status code)\n",
    "* Текст ответа (response text)\n",
    "* Заголовки ответа (response headers)"
   ]
  },
  {
   "cell_type": "code",
   "execution_count": null,
   "id": "d495050d-9182-4f12-b880-199af1bf2925",
   "metadata": {},
   "outputs": [],
   "source": [
    "get_response(url)"
   ]
  },
  {
   "cell_type": "markdown",
   "id": "98d297a0-6927-4248-90a4-ecde1974e5f5",
   "metadata": {},
   "source": [
    "Страница: http://numbersapi.com/\n",
    "\n",
    "Сервис содержит много интересных фактов о числах, которыми можно похвастаться перед друзьями.\n",
    "\n",
    "Использование API: http://numbersapi.com//, где number — число, а type — тип факта (trivia — факт из жизни, math — математический факт, date и year — вопрос про дату (в формате MM/DD) и год). Например, получить факт о 25 октября можно по запросу http://numbersapi.com/10/25/date: October 25th is the day in 1760 that George III becomes King of Great Britain."
   ]
  },
  {
   "cell_type": "markdown",
   "id": "56ceb37b-a115-4fc8-956a-36f456c82600",
   "metadata": {},
   "source": [
    "Написать внешний интерфейс для работы с API Страница: http://numbersapi.com/"
   ]
  },
  {
   "cell_type": "code",
   "execution_count": null,
   "id": "e440c7c8-1969-458c-a0b4-ef9fa9cde91b",
   "metadata": {},
   "outputs": [],
   "source": []
  }
 ],
 "metadata": {
  "kernelspec": {
   "display_name": "Python 3 (ipykernel)",
   "language": "python",
   "name": "python3"
  },
  "language_info": {
   "codemirror_mode": {
    "name": "ipython",
    "version": 3
   },
   "file_extension": ".py",
   "mimetype": "text/x-python",
   "name": "python",
   "nbconvert_exporter": "python",
   "pygments_lexer": "ipython3",
   "version": "3.12.4"
  }
 },
 "nbformat": 4,
 "nbformat_minor": 5
}
