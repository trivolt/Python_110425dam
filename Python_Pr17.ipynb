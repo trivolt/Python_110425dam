{
 "cells": [
  {
   "cell_type": "markdown",
   "id": "a816891a-35cb-42df-8637-f55717e04be3",
   "metadata": {},
   "source": [
    "# Практикум 17"
   ]
  },
  {
   "cell_type": "markdown",
   "id": "c0237c68-2d76-4068-aad8-5747bf2001d5",
   "metadata": {},
   "source": [
    "1. **Класс User**  \n",
    "Создайте класс User, представляющий пользователя некоторого сайта.  \n",
    "У каждого объекта должно быть имя, фамилия, email, страна и дата рождения.  \n",
    "Дата передаётся как строка (YYYY-MM-DD) и сохраняется в виде объекта datetime.date.   \n",
    "Определите строковое представление объекта через соответствующий магический метод.  \n",
    "Добавьте классовое поле count, представляющее собой счетчик всех созданных пользователей.  \n",
    "Добавьте классовый метод total, который возвращает текущее количество пользователей.  \n",
    "Добавьте статический метод permission(users, age). Метод принимает список пользователей и возраст age как целое число. Метод возвращает список пользователей, достигших возраста age на текущую дату.\n",
    "Протестируйте работу класса на нескольких примерах.  \n",
    "    \n",
    "*Пример для тестирования:*  \n",
    "```\n",
    "u1 = User(\"Alice\", \"Smith\", \"alice@example.com\", \"USA\", \"2008-06-15\")\n",
    "u2 = User(\"Bob\", \"Johnson\", \"bob@example.com\", \"Canada\", \"1990-11-23\")\n",
    "u3 = User(\"Carol\", \"Lee\", \"carol@example.com\", \"UK\", \"2005-01-01\")\n",
    "\n",
    "print(f\"Total users: {User.total()}\")  \n",
    "\n",
    "print(\"List of 18+ users:\")\n",
    "for u in User.permission([u1, u2, u3], 18):\n",
    "  print(u)\n",
    "```\n",
    "\n",
    "Пример вывода:   \n",
    "Total users: 3  \n",
    "List of 18+ users:  \n",
    "Bob Johnson (bob@example.com) from Canada, born on 1990-11-23  \n",
    "Carol Lee (carol@example.com) from UK, born on 2005-01-01  \n"
   ]
  },
  {
   "cell_type": "code",
   "execution_count": 4,
   "id": "a1e763e4-96ea-424f-a9cf-d2331106426f",
   "metadata": {},
   "outputs": [],
   "source": [
    "from datetime import datetime, date\n",
    "\n",
    "class User:\n",
    "    count = 0\n",
    "    def __init__(self, first_name, last_name, email,country, birth_str):\n",
    "        self.first_name = first_name\n",
    "        self.last_name = last_name\n",
    "        self.email = email\n",
    "        self.country = country\n",
    "        self.birth_date = datetime.strptime(birth_str, \"%Y-%m-%d\").date()\n",
    "        User.count += 1\n",
    "\n",
    "    def __str__(self):\n",
    "        return f\"{self.first_name} {self.last_name} ({self.email}) from {self.country}, born on {self.birth_date}\"\n",
    "\n",
    "    @classmethod\n",
    "    def total(cls):\n",
    "        return cls.count\n",
    "\n",
    "    @staticmethod\n",
    "    def permission(users: list, age: int) -> list:\n",
    "        result = []\n",
    "        today = date.today()\n",
    "        for user in users:\n",
    "            years = today.year - user.birth_date.year\n",
    "            if years >= age:\n",
    "                result.append(user)\n",
    "        return result"
   ]
  },
  {
   "cell_type": "code",
   "execution_count": 5,
   "id": "da8d218d-548d-4564-9237-dffc5054c890",
   "metadata": {},
   "outputs": [
    {
     "name": "stdout",
     "output_type": "stream",
     "text": [
      "Total users: 3\n",
      "List of 18+ users:\n",
      "Bob Johnson (bob@example.com) from Canada, born on 1990-11-23\n",
      "Carol Lee (carol@example.com) from UK, born on 2005-01-01\n"
     ]
    }
   ],
   "source": [
    "u1 = User(\"Alice\", \"Smith\", \"alice@example.com\", \"USA\", \"2008-06-15\")\n",
    "u2 = User(\"Bob\", \"Johnson\", \"bob@example.com\", \"Canada\", \"1990-11-23\")\n",
    "u3 = User(\"Carol\", \"Lee\", \"carol@example.com\", \"UK\", \"2005-01-01\")\n",
    "\n",
    "print(f\"Total users: {User.total()}\")  \n",
    "\n",
    "print(\"List of 18+ users:\")\n",
    "for u in User.permission([u1, u2, u3], 18):\n",
    "    print(u)"
   ]
  },
  {
   "cell_type": "code",
   "execution_count": null,
   "id": "b76a57e6-23bd-4610-84e4-753b6044a8c0",
   "metadata": {},
   "outputs": [],
   "source": []
  },
  {
   "cell_type": "markdown",
   "id": "a9830270-681a-476e-b97b-9250feef87dc",
   "metadata": {},
   "source": [
    "Напишите функцию get_response(url), которая отправляет GET-запрос по заданному URL-адресу и возвращает объект ответа. Затем выведите следующую информацию об ответе:\n",
    "\n",
    "* Код состояния (status code)\n",
    "* Текст ответа (response text)\n",
    "* Заголовки ответа (response headers)"
   ]
  },
  {
   "cell_type": "code",
   "execution_count": 11,
   "id": "a9832051-d359-4711-8e48-576e4985212b",
   "metadata": {},
   "outputs": [],
   "source": []
  },
  {
   "cell_type": "code",
   "execution_count": 13,
   "id": "bb64eee2-80d0-4390-8342-84768d4d1d33",
   "metadata": {},
   "outputs": [
    {
     "data": {
      "text/plain": [
       "{'Date': 'Tue, 09 Sep 2025 09:21:29 GMT', 'Expires': '-1', 'Cache-Control': 'private, max-age=0', 'Content-Type': 'text/html; charset=ISO-8859-1', 'Content-Security-Policy-Report-Only': \"object-src 'none';base-uri 'self';script-src 'nonce-8OV-uB5PnuDVBLc4sO3Tzw' 'strict-dynamic' 'report-sample' 'unsafe-eval' 'unsafe-inline' https: http:;report-uri https://csp.withgoogle.com/csp/gws/other-hp\", 'Accept-CH': 'Sec-CH-Prefers-Color-Scheme', 'P3P': 'CP=\"This is not a P3P policy! See g.co/p3phelp for more info.\"', 'Content-Encoding': 'gzip', 'Server': 'gws', 'X-XSS-Protection': '0', 'X-Frame-Options': 'SAMEORIGIN', 'Set-Cookie': 'AEC=AVh_V2iM__TecfJ0Dn_1GD9l-9AVgFO0oBTDsx31Wr0JvA2LtG_-aRE0AaY; expires=Sun, 08-Mar-2026 09:21:29 GMT; path=/; domain=.google.com; Secure; HttpOnly; SameSite=lax, NID=525=aSro7f4FHqtQfmD1QpBwQoaPa79Yt4exVrP2iuRpN1RrjG8D7PJ9o0mlLXYfhCAqsDZhRTDLBQfAk9GopMSB7CbzeIn5D8fKDn_XkbkKF-V65xZhLvvyPhiNv-QkHrRL7HbngXy__CsD_P0Kck3hrg3DTrIFjhRUoPh39_21W66Jx5eokvzbtvLcpMz4uBqj76_fb0E3tNnBYD1XQg; expires=Wed, 11-Mar-2026 09:21:29 GMT; path=/; domain=.google.com; HttpOnly', 'Alt-Svc': 'h3=\":443\"; ma=2592000,h3-29=\":443\"; ma=2592000', 'Transfer-Encoding': 'chunked'}"
      ]
     },
     "execution_count": 13,
     "metadata": {},
     "output_type": "execute_result"
    }
   ],
   "source": []
  },
  {
   "cell_type": "code",
   "execution_count": 14,
   "id": "33a593f8-bc67-4836-8a14-48e64e08e757",
   "metadata": {},
   "outputs": [],
   "source": [
    "import requests\n",
    "\n",
    "def get_response(url):\n",
    "    response = requests.get('https://'+url)\n",
    "    print(response.status_code)\n",
    "    print(response.text)\n",
    "    print(response.headers)\n",
    "    "
   ]
  },
  {
   "cell_type": "code",
   "execution_count": 15,
   "id": "d495050d-9182-4f12-b880-199af1bf2925",
   "metadata": {},
   "outputs": [
    {
     "name": "stdin",
     "output_type": "stream",
     "text": [
      "Введите адрес сайта:  google.com\n"
     ]
    },
    {
     "name": "stdout",
     "output_type": "stream",
     "text": [
      "200\n",
      "<!doctype html><html itemscope=\"\" itemtype=\"http://schema.org/WebPage\" lang=\"ru\"><head><meta content=\"&#1055;&#1086;&#1080;&#1089;&#1082; &#1080;&#1085;&#1092;&#1086;&#1088;&#1084;&#1072;&#1094;&#1080;&#1080; &#1074; &#1080;&#1085;&#1090;&#1077;&#1088;&#1085;&#1077;&#1090;&#1077;: &#1074;&#1077;&#1073; &#1089;&#1090;&#1088;&#1072;&#1085;&#1080;&#1094;&#1099;, &#1082;&#1072;&#1088;&#1090;&#1080;&#1085;&#1082;&#1080;, &#1074;&#1080;&#1076;&#1077;&#1086; &#1080; &#1084;&#1085;&#1086;&#1075;&#1086;&#1077; &#1076;&#1088;&#1091;&#1075;&#1086;&#1077;.\" name=\"description\"><meta content=\"noodp, \" name=\"robots\"><meta content=\"text/html; charset=UTF-8\" http-equiv=\"Content-Type\"><meta content=\"/images/branding/googleg/1x/googleg_standard_color_128dp.png\" itemprop=\"image\"><title>Google</title><script nonce=\"fCEQgCbcmV64S5xJ5x7F7Q\">(function(){var _g={kEI:'wfK_aK3pKYT7i-gPnffguQI',kEXPI:'0,202854,2,52,14,14,4037109,14111,64702,360901,226411,12047,51586,5241681,458,26,136,5,31,62040668,138268,79285,6750,23878,9139,4600,328,6225,1117,63048,15048,49,15586,30376,28341,10896,37337,5972,352,18880,13584,5774,18860,8751,16524,6251,35,3420,13484,2440,9667,5683,3605,17771,3358,15922,9974,3,5344,551,1187,1856,1762,1220,1,1549,1767,5587,727,1033,14209,1970,2747,2,4,1,321,780,61,2,3240,1016,670,2260,874,9883,4035,10588,476,3739,210,1280,404,187,4,1378,32,104,3355,198,338,521,36,2807,554,224,1,1331,2,1347,5,682,128,3371,30,24,412,16,821,369,668,10,2560,605,3669,1205,2368,139,8,2733,14,25,1089,1115,3911,585,460,133,3027,18,777,4072,597,1152,18,2,2414,4,4,890,632,238,799,1114,602,259,98,1478,961,398,1348,1300,637,513,24,87,8,646,11,495,7,763,20,2,1419,242,535,2,1855,3,464,2294,7,542,2,595,20,232,136,151,96,49,123,1618,385,2757,472,210,25,206,590,223,1,2,4,1,958,3,107,253,287,230,167,890,872,471,80,294,1,491,9,255,355,1264,1009,2,221,225,1206,172,486,886,2,225,344,453,199,9,27,8,866,726,244,348,186,685,1012,35,83,2,399,203,153,971,252,287,2,185,351,386,10,429,365,736,38,236,258,552,169,217,792,3,274,1933,1795,54,4,206,26,140,848,215,870,3,3,207,151,431,327,501,23,356,71,11,775,108,210,1063,670,186,136,182,2,9,1,127,1034,3619,4,866,138,600,83,21150130,5,2992,4,2701,259,3,7884,607,2,706,856,3,1827,3,612,3,8635,164,930,102,610,160,1866,640,9059684,1078013',kBL:'fH7f',kOPI:89978449};(function(){var a;((a=window.google)==null?0:a.stvsc)?google.kEI=_g.kEI:window.google=_g;}).call(this);})();(function(){google.sn='webhp';google.kHL='ru';})();(function(){\n",
      "var g=this||self;function k(){return window.google&&window.google.kOPI||null};var l,m=[];function n(a){for(var b;a&&(!a.getAttribute||!(b=a.getAttribute(\"eid\")));)a=a.parentNode;return b||l}function p(a){for(var b=null;a&&(!a.getAttribute||!(b=a.getAttribute(\"leid\")));)a=a.parentNode;return b}function q(a){/^http:/i.test(a)&&window.location.protocol===\"https:\"&&(google.ml&&google.ml(Error(\"a\"),!1,{src:a,glmm:1}),a=\"\");return a}\n",
      "function r(a,b,d,c,h){var e=\"\";b.search(\"&ei=\")===-1&&(e=\"&ei=\"+n(c),b.search(\"&lei=\")===-1&&(c=p(c))&&(e+=\"&lei=\"+c));var f=b.search(\"&cshid=\")===-1&&a!==\"slh\";c=\"&zx=\"+Date.now().toString();g._cshid&&f&&(c+=\"&cshid=\"+g._cshid);(d=d())&&(c+=\"&opi=\"+d);return\"/\"+(h||\"gen_204\")+\"?atyp=i&ct=\"+String(a)+\"&cad=\"+(b+e+c)};l=google.kEI;google.getEI=n;google.getLEI=p;google.ml=function(){return null};google.log=function(a,b,d,c,h,e){e=e===void 0?k:e;d||(d=r(a,b,e,c,h));if(d=q(d)){a=new Image;var f=m.length;m[f]=a;a.onerror=a.onload=a.onabort=function(){delete m[f]};a.src=d}};google.logUrl=function(a,b){b=b===void 0?k:b;return r(\"\",a,b)};}).call(this);(function(){google.y={};google.sy={};function e(a,b,c){if(a)var d=a.id;else{do d=Math.random();while(c[d])}c[d]=[a,b]}var f;(f=google).x||(f.x=function(a,b){e(a,b,google.y)});var g;(g=google).sx||(g.sx=function(a,b){e(a,b,google.sy)});google.lm=[];var h;(h=google).plm||(h.plm=function(a){google.lm.push.apply(google.lm,a)});google.lq=[];var k;(k=google).load||(k.load=function(a,b,c){google.lq.push([[a],b,c])});var l;(l=google).loadAll||(l.loadAll=function(a,b){google.lq.push([a,b])});google.bx=!1;var m;(m=google).lx||(m.lx=function(){});var n=[],p;(p=google).fce||(p.fce=function(a,b,c,d){n.push([a,b,c,d])});google.qce=n;google.adl=[];}).call(this);google.f={};(function(){\n",
      "document.documentElement.addEventListener(\"submit\",function(b){var a;if(a=b.target){var c=a.getAttribute(\"data-submitfalse\");a=c===\"1\"||c===\"q\"&&!a.elements.q.value?!0:!1}else a=!1;a&&(b.preventDefault(),b.stopPropagation())},!0);document.documentElement.addEventListener(\"click\",function(b){var a;a:{for(a=b.target;a&&a!==document.documentElement;a=a.parentElement)if(a.tagName===\"A\"){a=a.getAttribute(\"data-nohref\")===\"1\";break a}a=!1}a&&b.preventDefault()},!0);}).call(this);</script><style>#gbar,#guser{font-size:13px;padding-top:1px !important;}#gbar{height:22px}#guser{padding-bottom:7px !important;text-align:right}.gbh,.gbd{border-top:1px solid #c9d7f1;font-size:1px}.gbh{height:0;position:absolute;top:24px;width:100%}@media all{.gb1{height:22px;margin-right:.5em;vertical-align:top}#gbar{float:left}}a.gb1,a.gb4{text-decoration:underline !important}a.gb1,a.gb4{color:#00c !important}.gbi .gb4{color:#dd8e27 !important}.gbf .gb4{color:#900 !important}\n",
      "</style><style>body,td,a,p,.h{font-family:sans-serif}body{margin:0;overflow-y:scroll}#gog{padding:3px 8px 0}td{line-height:.8em}.gac_m td{line-height:17px}form{margin-bottom:20px}.h{color:#1967d2}em{font-weight:bold;font-style:normal}.lst{height:25px;width:496px}.gsfi,.lst{font:18px sans-serif}.gsfs{font:17px sans-serif}.ds{display:inline-box;display:inline-block;margin:3px 0 4px;margin-left:4px}input{font-family:inherit}body{background:#fff;color:#1f1f1f}a{color:#681da8;text-decoration:none}a:hover,a:active{text-decoration:underline}.fl a{color:#1967d2}a:visited{color:#681da8}.sblc{padding-top:5px}.sblc a{display:block;margin:2px 0;margin-left:13px;font-size:11px}.lsbb{background:#ecedee;border:solid 1px;border-color:#dadce0 #70757a #70757a #dadce0;height:30px}.lsbb{display:block}#WqQANb a{display:inline-block;margin:0 12px}.lsb{background:url(/images/nav_logo229.png) 0 -261px repeat-x;color:#1f1f1f;border:none;cursor:pointer;height:30px;margin:0;outline:0;font:15px sans-serif;vertical-align:top}.lsb:active{background:#dadce0}.lst:focus{outline:none}.Ucigb{width:458px}</style><script nonce=\"fCEQgCbcmV64S5xJ5x7F7Q\">(function(){window.google.erd={jsr:1,bv:2286,de:true,dpf:'Qn2dh99kIvset240XZRqzz38uYteLoiDgcV9NbHRVdw'};\n",
      "var g=this||self;var k,l=(k=g.mei)!=null?k:1,m,p=(m=g.diel)!=null?m:0,q,r=(q=g.sdo)!=null?q:!0,t=0,u,w=google.erd,x=w.jsr;google.ml=function(a,b,d,n,e){e=e===void 0?2:e;b&&(u=a&&a.message);d===void 0&&(d={});d.cad=\"ple_\"+google.ple+\".aple_\"+google.aple;if(google.dl)return google.dl(a,e,d,!0),null;b=d;if(x<0){window.console&&console.error(a,b);if(x===-2)throw a;b=!1}else b=!a||!a.message||a.message===\"Error loading script\"||t>=l&&!n?!1:!0;if(!b)return null;t++;d=d||{};b=encodeURIComponent;var c=\"/gen_204?atyp=i&ei=\"+b(google.kEI);google.kEXPI&&(c+=\"&jexpid=\"+b(google.kEXPI));c+=\"&srcpg=\"+b(google.sn)+\"&jsr=\"+b(w.jsr)+\n",
      "\"&bver=\"+b(w.bv);w.dpf&&(c+=\"&dpf=\"+b(w.dpf));var f=a.lineNumber;f!==void 0&&(c+=\"&line=\"+f);var h=a.fileName;h&&(h.indexOf(\"-extension:/\")>0&&(e=3),c+=\"&script=\"+b(h),f&&h===window.location.href&&(f=document.documentElement.outerHTML.split(\"\\n\")[f],c+=\"&cad=\"+b(f?f.substring(0,300):\"No script found.\")));google.ple&&google.ple===1&&(e=2);c+=\"&jsel=\"+e;for(var v in d)c+=\"&\",c+=b(v),c+=\"=\",c+=b(d[v]);c=c+\"&emsg=\"+b(a.name+\": \"+a.message);c=c+\"&jsst=\"+b(a.stack||\"N/A\");c.length>=12288&&(c=c.substring(0,12288));a=c;n||google.log(0,\"\",a);return a};window.onerror=function(a,b,d,n,e){u!==a&&(a=e instanceof Error?e:Error(a),d===void 0||\"lineNumber\"in a||(a.lineNumber=d),b===void 0||\"fileName\"in a||(a.fileName=b),google.ml(a,!1,void 0,!1,a.name===\"SyntaxError\"||a.message.substring(0,11)===\"SyntaxError\"||a.message.indexOf(\"Script error\")!==-1?3:p));u=null;r&&t>=l&&(window.onerror=null)};})();</script></head><body bgcolor=\"#fff\"><script nonce=\"fCEQgCbcmV64S5xJ5x7F7Q\">(function(){var src='/images/nav_logo229.png';var iesg=false;document.body.onload = function(){window.n && window.n();if (document.images){new Image().src=src;}\n",
      "if (!iesg){document.f&&document.f.q.focus();document.gbqf&&document.gbqf.q.focus();}\n",
      "}\n",
      "})();</script><div id=\"mngb\"><div id=gbar><nobr><b class=gb1>&#1055;&#1086;&#1080;&#1089;&#1082;</b> <a class=gb1 href=\"https://www.google.com/imghp?hl=ru&tab=wi\">&#1050;&#1072;&#1088;&#1090;&#1080;&#1085;&#1082;&#1080;</a> <a class=gb1 href=\"https://maps.google.ru/maps?hl=ru&tab=wl\">&#1050;&#1072;&#1088;&#1090;&#1099;</a> <a class=gb1 href=\"https://play.google.com/?hl=ru&tab=w8\">Play</a> <a class=gb1 href=\"https://www.youtube.com/?tab=w1\">YouTube</a> <a class=gb1 href=\"https://news.google.com/?tab=wn\">&#1053;&#1086;&#1074;&#1086;&#1089;&#1090;&#1080;</a> <a class=gb1 href=\"https://mail.google.com/mail/?tab=wm\">&#1055;&#1086;&#1095;&#1090;&#1072;</a> <a class=gb1 href=\"https://drive.google.com/?tab=wo\">&#1044;&#1080;&#1089;&#1082;</a> <a class=gb1 style=\"text-decoration:none\" href=\"https://www.google.ru/intl/ru/about/products?tab=wh\"><u>&#1045;&#1097;&#1105;</u> &raquo;</a></nobr></div><div id=guser width=100%><nobr><span id=gbn class=gbi></span><span id=gbf class=gbf></span><span id=gbe></span><a href=\"http://www.google.ru/history/optout?hl=ru\" class=gb4>&#1048;&#1089;&#1090;&#1086;&#1088;&#1080;&#1103; &#1074;&#1077;&#1073;-&#1087;&#1086;&#1080;&#1089;&#1082;&#1072;</a> | <a  href=\"/preferences?hl=ru\" class=gb4>&#1053;&#1072;&#1089;&#1090;&#1088;&#1086;&#1081;&#1082;&#1080;</a> | <a target=_top id=gb_70 href=\"https://accounts.google.com/ServiceLogin?hl=ru&passive=true&continue=https://www.google.com/&ec=GAZAAQ\" class=gb4>&#1042;&#1086;&#1081;&#1090;&#1080;</a></nobr></div><div class=gbh style=left:0></div><div class=gbh style=right:0></div></div><center><br clear=\"all\" id=\"lgpd\"><div id=\"XjhHGf\"><img alt=\"Google\" height=\"92\" src=\"/images/branding/googlelogo/1x/googlelogo_white_background_color_272x92dp.png\" style=\"padding:28px 0 14px\" width=\"272\" id=\"hplogo\"><br><br></div><form action=\"/search\" name=\"f\"><table cellpadding=\"0\" cellspacing=\"0\"><tr valign=\"top\"><td width=\"25%\">&nbsp;</td><td align=\"center\" nowrap=\"\"><input name=\"ie\" value=\"ISO-8859-1\" type=\"hidden\"><input value=\"ru\" name=\"hl\" type=\"hidden\"><input name=\"source\" type=\"hidden\" value=\"hp\"><input name=\"biw\" type=\"hidden\"><input name=\"bih\" type=\"hidden\"><div class=\"ds\" style=\"height:32px;margin:4px 0\"><div style=\"position:relative;zoom:1\"><input class=\"lst Ucigb\" style=\"margin:0;padding:5px 8px 0 6px;vertical-align:top;color:#1f1f1f;padding-right:38px\" autocomplete=\"off\" value=\"\" title=\"&#1055;&#1086;&#1080;&#1089;&#1082; &#1074; Google\" maxlength=\"2048\" name=\"q\" size=\"57\"><img src=\"/textinputassistant/tia.png\" style=\"position:absolute;cursor:pointer;right:5px;top:4px;z-index:300\" data-script-url=\"/textinputassistant/13/ru_tia.js\" id=\"tsuid_wfK_aK3pKYT7i-gPnffguQI_1\" alt=\"\" height=\"23\" width=\"27\"><script nonce=\"fCEQgCbcmV64S5xJ5x7F7Q\">(function(){var id='tsuid_wfK_aK3pKYT7i-gPnffguQI_1';document.getElementById(id).onclick = function(){var s = document.createElement('script');s.src = this.getAttribute('data-script-url');document.body.appendChild(s);};})();</script></div></div><br style=\"line-height:0\"><span class=\"ds\"><span class=\"lsbb\"><input class=\"lsb\" value=\"&#1055;&#1086;&#1080;&#1089;&#1082; &#1074; Google\" name=\"btnG\" type=\"submit\"></span></span><span class=\"ds\"><span class=\"lsbb\"><input class=\"lsb\" id=\"tsuid_wfK_aK3pKYT7i-gPnffguQI_2\" value=\"&#1052;&#1085;&#1077; &#1087;&#1086;&#1074;&#1077;&#1079;&#1105;&#1090;!\" name=\"btnI\" type=\"submit\"><script nonce=\"fCEQgCbcmV64S5xJ5x7F7Q\">(function(){var id='tsuid_wfK_aK3pKYT7i-gPnffguQI_2';document.getElementById(id).onclick = function(){if (this.form.q.value){this.checked = 1;if (this.form.iflsig)this.form.iflsig.disabled = false;}\n",
      "else top.location='/doodles/';};})();</script><input value=\"AOw8s4IAAAAAaMAA0dY7S-INswR-iCV60g0i-UHXathO\" name=\"iflsig\" type=\"hidden\"></span></span></td><td class=\"fl sblc\" align=\"left\" nowrap=\"\" width=\"25%\"><a href=\"/advanced_search?hl=ru&amp;authuser=0\">&#1056;&#1072;&#1089;&#1096;&#1080;&#1088;&#1077;&#1085;&#1085;&#1099;&#1081; &#1087;&#1086;&#1080;&#1089;&#1082;</a></td></tr></table><input id=\"gbv\" name=\"gbv\" type=\"hidden\" value=\"1\"><script nonce=\"fCEQgCbcmV64S5xJ5x7F7Q\">(function(){var a,b=\"1\";if(document&&document.getElementById)if(typeof XMLHttpRequest!=\"undefined\")b=\"2\";else if(typeof ActiveXObject!=\"undefined\"){var c,d,e=[\"MSXML2.XMLHTTP.6.0\",\"MSXML2.XMLHTTP.3.0\",\"MSXML2.XMLHTTP\",\"Microsoft.XMLHTTP\"];for(c=0;d=e[c++];)try{new ActiveXObject(d),b=\"2\"}catch(h){}}a=b;if(a==\"2\"&&location.search.indexOf(\"&gbv=2\")==-1){var f=google.gbvu,g=document.getElementById(\"gbv\");g&&(g.value=a);f&&window.setTimeout(function(){location.href=f},0)};}).call(this);</script></form><div style=\"font-size:83%;min-height:3.5em\"><br></div><span id=\"footer\"><div style=\"font-size:10pt\"><div style=\"margin:19px auto;text-align:center\" id=\"WqQANb\"><a href=\"/intl/ru/ads/\">&#1056;&#1077;&#1082;&#1083;&#1072;&#1084;&#1072;</a><a href=\"http://www.google.ru/intl/ru/services/\">&#1056;&#1077;&#1096;&#1077;&#1085;&#1080;&#1103; &#1076;&#1083;&#1103; &#1073;&#1080;&#1079;&#1085;&#1077;&#1089;&#1072;</a><a href=\"/intl/ru/about.html\">&#1042;&#1089;&#1105; &#1086; Google</a><a href=\"https://www.google.com/setprefdomain?prefdom=RU&amp;prev=https://www.google.ru/&amp;sig=K_YamrkBBwNCTzKP8XEjjPbcqYZSk%3D\">Google.ru</a></div></div><p style=\"font-size:8pt;color:#636363\">&copy; 2025 - <a href=\"/intl/ru/policies/privacy/\">&#1050;&#1086;&#1085;&#1092;&#1080;&#1076;&#1077;&#1085;&#1094;&#1080;&#1072;&#1083;&#1100;&#1085;&#1086;&#1089;&#1090;&#1100;</a> - <a href=\"/intl/ru/policies/terms/\">&#1059;&#1089;&#1083;&#1086;&#1074;&#1080;&#1103;</a></p></span></center><script nonce=\"fCEQgCbcmV64S5xJ5x7F7Q\">(function(){window.google.cdo={height:757,width:1440};(function(){var a=window.innerWidth,b=window.innerHeight;if(!a||!b){var c=window.document,d=c.compatMode==\"CSS1Compat\"?c.documentElement:c.body;a=d.clientWidth;b=d.clientHeight}if(a&&b&&(a!=google.cdo.width||b!=google.cdo.height)){var e=google,f=e.log,g=\"/client_204?&atyp=i&biw=\"+a+\"&bih=\"+b+\"&ei=\"+google.kEI,h=\"\",k=window.google&&window.google.kOPI||null;k&&(h+=\"&opi=\"+k);f.call(e,\"\",\"\",g+h)};}).call(this);})();(function(){google.xjs={basecomb:'/xjs/_/js/k\\x3dxjs.hp.en.pOp8enT5HwQ.es5.O/ck\\x3dxjs.hp.zQWmvfmRvQ8.L.X.O/am\\x3dAAIAAAAAAAAgAAAAAAAAAAAAAAAAAAAAAAAAAgAAAAIAACCCQCAAAAAAAAAAAAAAAAACAAAYYJQAHAAAABAACBAAAAAAEAAAAwAAAAAgAQBAABAAAADxHQEACMQiAAB4AQ/d\\x3d1/ed\\x3d1/dg\\x3d0/ujg\\x3d1/rs\\x3dACT90oEvWixl1dzMbD735u4TecjnK4E3_Q',basecss:'/xjs/_/ss/k\\x3dxjs.hp.zQWmvfmRvQ8.L.X.O/am\\x3dAAIAAAAAAAAgAAAAAAAAAAAAAAAAAAAAAAAAAgAAAAIAACCCACAAAAAAAAAAAAAAAAACAAAYYBQAAAAAABAACBAAAAAAEAAAAwAAAAAgAQBAABAAAAAAAAAAAAQ/rs\\x3dACT90oEfoEnyEOSeIpA_-lAdCILAn0BiDg',basejs:'/xjs/_/js/k\\x3dxjs.hp.en.pOp8enT5HwQ.es5.O/am\\x3dAAAAAAAAAAAAAAAAAAAAAAAAAAAAAAAAAAAAAAAAAAAAAAACQAAAAAAAAAAAAAAAAAACAAAAAIAAHAAAAAAAAAAAAAAAAAAAAAAAAAAAAAAAAAAAAADxHQEACMAiAAB4AQ/dg\\x3d0/rs\\x3dACT90oFXzrhZdKJQIssebSGFYrnQ1q_q7A',excm:[]};})();(function(){var u='/xjs/_/js/k\\x3dxjs.hp.en.pOp8enT5HwQ.es5.O/am\\x3dAAAAAAAAAAAAAAAAAAAAAAAAAAAAAAAAAAAAAAAAAAAAAAACQAAAAAAAAAAAAAAAAAACAAAAAIAAHAAAAAAAAAAAAAAAAAAAAAAAAAAAAAAAAAAAAADxHQEACMAiAAB4AQ/d\\x3d1/ed\\x3d1/dg\\x3d3/rs\\x3dACT90oFXzrhZdKJQIssebSGFYrnQ1q_q7A/m\\x3dsb_he,d';var st=1;var amd=1000;var mmd=0;var pop=true;var povp=false;var fp='';\n",
      "var e=this||self;function f(){var a=google.ia&&google.ia.r.B2Jtyd;return a&&[1,5,6].indexOf(a.m)>=0&&a.cbfd&&a.cbvi?a:void 0};function g(a){var b=document.createElement(\"link\");b.as=\"script\";b.href=a;b.rel=\"preload\";document.body.appendChild(b)}function k(){var a=[u];google.dp||(a.forEach(g),google.dp=!0)};google.ps=google.ps||[];function l(){var a=u,b=function(){};google.lx=google.stvsc?b:function(){m(a);google.lx=b};google.bx||google.lx()}function n(a,b){b&&(a.src=b);fp&&google.caft&&google.caft(function(){a.fetchPriority=fp});var h=a.onload;a.onload=function(d){h&&h(d);google.ps=google.ps.filter(function(c){return a!==c})};google.ps.push(a);document.body.appendChild(a)}google.as=n;function m(a){google.tick&&google.tick(\"load\",\"xjsls\");var b=document.createElement(\"script\");b.onerror=function(){google.ple=1};b.onload=function(){google.ple=0};google.xjsus=void 0;n(b,a);google.aple=-1;google.dp=!0};function p(){for(var a=document.getElementsByTagName(\"img\"),b=0,h=a.length;b<h;b++){var d=a[b],c;if(c=d.hasAttribute(\"data-lzy_\")&&Number(d.getAttribute(\"data-atf\"))&1)c=d.getAttribute(\"jscontroller\"),c=!((c===\"UBXHI\"||c===\"R3fhkb\"||c===\"TSZEqd\")&&d.hasAttribute(\"data-src\"));if(c)return!0}return!1};var q,r,t,w,x,y,z,A,B;function C(){google.xjsu=u;e._F_jsUrl=u;x=function(){l()};q=!1;r=(st===1||st===3)&&!!google.caft&&!p();t=f();w=(st===2||st===3)&&!!t&&!p();y=pop;z=povp;A=y&&document.prerendering||z&&document.hidden;B=z?\"visibilitychange\":\"prerenderingchange\"}function D(){q||r||w||A||(x(),q=!0)}\n",
      "setTimeout(function(){google.tick&&google.tick(\"load\",\"xjspls\");C();if(r||w||A){if(r){var a=function(){r=!1;D()};google.caft(a);setTimeout(a,amd)}w&&(a=function(){w=!1;D()},t.cbvi.push(a),setTimeout(a,mmd));if(A){var b=function(){(z?document.hidden:document.prerendering)||(A=!1,D(),document.removeEventListener(B,b))};document.addEventListener(B,b,{passive:!0})}q||k()}else x()},0);})();window._ = window._ || {};window._DumpException = _._DumpException = function(e){throw e;};window._s = window._s || {};_s._DumpException = _._DumpException;window._qs = window._qs || {};_qs._DumpException = _._DumpException;(function(){var t=[512,0,512,0,0,0,0,128,512,25364608,2,131072,0,2048,155582882,537057024,134221824,64,65800,192,18874368,33652736,268435457,18300,2278408,385024];window._F_toggles = window._xjs_toggles = t;})();window._F_installCss = window._F_installCss || function(css){};(function(){google.jl={bfl:0,dw:false,eli:false,ine:false,ubm:false,uwp:true,vs:false};})();(function(){var pmc='{\\x22d\\x22:{},\\x22sb_he\\x22:{\\x22client\\x22:\\x22heirloom-hp\\x22,\\x22dh\\x22:true,\\x22ds\\x22:\\x22\\x22,\\x22host\\x22:\\x22google.com\\x22,\\x22jsonp\\x22:true,\\x22msgs\\x22:{\\x22cibl\\x22:\\x22\\\\u0423\\\\u0434\\\\u0430\\\\u043b\\\\u0438\\\\u0442\\\\u044c \\\\u043f\\\\u043e\\\\u0438\\\\u0441\\\\u043a\\\\u043e\\\\u0432\\\\u044b\\\\u0439 \\\\u0437\\\\u0430\\\\u043f\\\\u0440\\\\u043e\\\\u0441\\x22,\\x22dym\\x22:\\x22\\\\u0412\\\\u043e\\\\u0437\\\\u043c\\\\u043e\\\\u0436\\\\u043d\\\\u043e, \\\\u0432\\\\u044b \\\\u0438\\\\u043c\\\\u0435\\\\u043b\\\\u0438 \\\\u0432 \\\\u0432\\\\u0438\\\\u0434\\\\u0443:\\x22,\\x22lcky\\x22:\\x22\\\\u041c\\\\u043d\\\\u0435 \\\\u043f\\\\u043e\\\\u0432\\\\u0435\\\\u0437\\\\u0451\\\\u0442!\\x22,\\x22lml\\x22:\\x22\\\\u041f\\\\u043e\\\\u0434\\\\u0440\\\\u043e\\\\u0431\\\\u043d\\\\u0435\\\\u0435...\\x22,\\x22psrc\\x22:\\x22\\\\u042d\\\\u0442\\\\u043e\\\\u0442 \\\\u0437\\\\u0430\\\\u043f\\\\u0440\\\\u043e\\\\u0441 \\\\u0431\\\\u044b\\\\u043b \\\\u0443\\\\u0434\\\\u0430\\\\u043b\\\\u0435\\\\u043d \\\\u0438\\\\u0437 \\\\u0432\\\\u0430\\\\u0448\\\\u0435\\\\u0439 \\\\u003Ca href\\x3d\\\\\\x22/history\\\\\\x22\\\\u003E\\\\u0438\\\\u0441\\\\u0442\\\\u043e\\\\u0440\\\\u0438\\\\u0438 \\\\u0432\\\\u0435\\\\u0431-\\\\u043f\\\\u043e\\\\u0438\\\\u0441\\\\u043a\\\\u0430\\\\u003C/a\\\\u003E\\x22,\\x22psrl\\x22:\\x22\\\\u0423\\\\u0434\\\\u0430\\\\u043b\\\\u0438\\\\u0442\\\\u044c\\x22,\\x22sbit\\x22:\\x22\\\\u041f\\\\u043e\\\\u0438\\\\u0441\\\\u043a \\\\u043f\\\\u043e \\\\u043a\\\\u0430\\\\u0440\\\\u0442\\\\u0438\\\\u043d\\\\u043a\\\\u0435\\x22,\\x22srch\\x22:\\x22\\\\u041f\\\\u043e\\\\u0438\\\\u0441\\\\u043a \\\\u0432 Google\\x22},\\x22ovr\\x22:{},\\x22pq\\x22:\\x22\\x22,\\x22rfs\\x22:[],\\x22stok\\x22:\\x22ncrrq5YdnBnWRrse8_GM1glrAzk\\x22}}';google.pmc=JSON.parse(pmc);})();</script></body></html>\n",
      "{'Date': 'Tue, 09 Sep 2025 09:26:25 GMT', 'Expires': '-1', 'Cache-Control': 'private, max-age=0', 'Content-Type': 'text/html; charset=ISO-8859-1', 'Content-Security-Policy-Report-Only': \"object-src 'none';base-uri 'self';script-src 'nonce-fCEQgCbcmV64S5xJ5x7F7Q' 'strict-dynamic' 'report-sample' 'unsafe-eval' 'unsafe-inline' https: http:;report-uri https://csp.withgoogle.com/csp/gws/other-hp\", 'Accept-CH': 'Sec-CH-Prefers-Color-Scheme', 'P3P': 'CP=\"This is not a P3P policy! See g.co/p3phelp for more info.\"', 'Content-Encoding': 'gzip', 'Server': 'gws', 'X-XSS-Protection': '0', 'X-Frame-Options': 'SAMEORIGIN', 'Set-Cookie': 'AEC=AVh_V2hNAFPP8yZyDWz9Kq23j3bYeSd8pVSS4uoy5cDUQ1YPO_RnLOVpO9k; expires=Sun, 08-Mar-2026 09:26:25 GMT; path=/; domain=.google.com; Secure; HttpOnly; SameSite=lax, NID=525=J9FGwwBr7l__ToFZKReqithMQ0hxevyicnQkVlGqfFsa2wQtk_TVu8dmA4KGwQJpWHiX4MOZBkYsDsBhQLpcF3DwkAi4Po_uaYPkcBFcJht4f0nUB4FLIX7ISN6lCqwejq0zo9giV-NwKLk9H0OK2K8srfyHiyHcvivkjNdOJVHpKqJNqGCQ56qRd7j00uSEfeltuPi0XNBJoIjXVTc; expires=Wed, 11-Mar-2026 09:26:25 GMT; path=/; domain=.google.com; HttpOnly', 'Alt-Svc': 'h3=\":443\"; ma=2592000,h3-29=\":443\"; ma=2592000', 'Transfer-Encoding': 'chunked'}\n"
     ]
    }
   ],
   "source": [
    "url = input('Введите адрес сайта: ')\n",
    "get_response(url)"
   ]
  },
  {
   "cell_type": "markdown",
   "id": "98d297a0-6927-4248-90a4-ecde1974e5f5",
   "metadata": {},
   "source": [
    "Страница: http://numbersapi.com/\n",
    "\n",
    "Сервис содержит много интересных фактов о числах, которыми можно похвастаться перед друзьями.\n",
    "\n",
    "Использование API: http://numbersapi.com//, где number — число, а type — тип факта (trivia — факт из жизни, math — математический факт, date и year — вопрос про дату (в формате MM/DD) и год). Например, получить факт о 25 октября можно по запросу http://numbersapi.com/10/25/date: October 25th is the day in 1760 that George III becomes King of Great Britain."
   ]
  },
  {
   "cell_type": "markdown",
   "id": "56ceb37b-a115-4fc8-956a-36f456c82600",
   "metadata": {},
   "source": [
    "Написать внешний интерфейс для работы с API Страница: http://numbersapi.com/"
   ]
  },
  {
   "cell_type": "code",
   "execution_count": 19,
   "id": "e440c7c8-1969-458c-a0b4-ef9fa9cde91b",
   "metadata": {},
   "outputs": [],
   "source": [
    "import requests\n",
    "\n",
    "def get_number_math(number):\n",
    "    try:\n",
    "        url = f'http://numbersapi.com/{number}/math'\n",
    "        response = requests.get(url)\n",
    "        if response.status_code == 200:\n",
    "            print(f'Интересный факт о числе {number}: {response.text}')\n",
    "        else:\n",
    "            print(f'Не удалось получить факт о числе')\n",
    "    except response.ConnectionError as e:\n",
    "        print(f'Не удалось подключиться к API (Читай ошибку: {e})')\n",
    "\n"
   ]
  },
  {
   "cell_type": "code",
   "execution_count": 23,
   "id": "bd584942-c118-4068-b034-77f0a0aa2d13",
   "metadata": {},
   "outputs": [],
   "source": [
    "import requests\n",
    "\n",
    "def get_number_math(number):\n",
    "    url = f'http://numbersapi.com/{number}/math'\n",
    "    response = requests.get(url)\n",
    "    if response.status_code == 200:\n",
    "        print(f'Интересный факт о числе {number}: {response.text}')\n",
    "    else:\n",
    "        print(f'Не удалось получить факт о числе')"
   ]
  },
  {
   "cell_type": "code",
   "execution_count": 26,
   "id": "57f2738a-9996-4b4c-916c-fce6f54f29b4",
   "metadata": {},
   "outputs": [
    {
     "name": "stdin",
     "output_type": "stream",
     "text": [
      "Введите число fgh\n"
     ]
    },
    {
     "name": "stdout",
     "output_type": "stream",
     "text": [
      "Не удалось подключиться к API\n"
     ]
    }
   ],
   "source": [
    "try:\n",
    "    n = int(input('Введите число'))\n",
    "    get_number_math(n)\n",
    "except:\n",
    "    print(f'Не удалось подключиться к API')    "
   ]
  },
  {
   "cell_type": "code",
   "execution_count": 27,
   "id": "6f54b432-fd51-424e-bef0-61ca2052ae9b",
   "metadata": {},
   "outputs": [],
   "source": [
    "import requests\n",
    "\n",
    "def get_date(month, day):\n",
    "    url = f'http://numbersapi.com/{month}/{day}/date'\n",
    "    response = requests.get(url)\n",
    "    if response.status_code == 200:\n",
    "        print(f'Интересный факт о дате {month}/{day}: {response.text}')\n",
    "    else:\n",
    "        print(f'Не удалось получить факт о дате')"
   ]
  },
  {
   "cell_type": "code",
   "execution_count": 28,
   "id": "74ae565c-6d15-4a38-b482-36f39d94ded1",
   "metadata": {},
   "outputs": [
    {
     "name": "stdin",
     "output_type": "stream",
     "text": [
      "Введите месяц:  9\n",
      "Введите день:  9\n"
     ]
    },
    {
     "name": "stdout",
     "output_type": "stream",
     "text": [
      "Интересный факт о дате 9/9: September 9th is the day in 1379 that Treaty of Neuberg, splitting the Austrian Habsburg lands between the Habsburg Dukes Albert III and Leopold III.\n"
     ]
    }
   ],
   "source": [
    "try:\n",
    "    month = int(input('Введите месяц: '))\n",
    "    day = int(input('Введите день: '))\n",
    "    get_date(month, day)\n",
    "except:\n",
    "    print(f'Не удалось подключиться к API')  "
   ]
  },
  {
   "cell_type": "code",
   "execution_count": null,
   "id": "ec7533a6-3e26-43d3-a089-645ee633f566",
   "metadata": {},
   "outputs": [],
   "source": [
    "import requests\n",
    "\n",
    "def get_random_date():\n",
    "    url = f'http://numbersapi.com/random/year?json'\n",
    "    response = requests.get(url)\n",
    "    if response.status_code == 200:\n",
    "        print(f'Интересный факт о дате {month}/{day}: {response.text}')\n",
    "    else:\n",
    "        print(f'Не удалось получить факт о дате')\n",
    "\n"
   ]
  },
  {
   "cell_type": "code",
   "execution_count": null,
   "id": "a3c9e4fe-6498-45c1-ad80-72097c434311",
   "metadata": {},
   "outputs": [],
   "source": []
  },
  {
   "cell_type": "code",
   "execution_count": 29,
   "id": "31e7c52b-a6cd-4b4f-9afa-bef68b9685fa",
   "metadata": {},
   "outputs": [],
   "source": [
    "url = 'http://numbersapi.com/random/year?json'\n",
    "response = requests.get(url)"
   ]
  },
  {
   "cell_type": "code",
   "execution_count": 33,
   "id": "17758e27-bd6a-4011-9238-3cc00eb3bf5e",
   "metadata": {},
   "outputs": [],
   "source": [
    "text = response.text"
   ]
  },
  {
   "cell_type": "code",
   "execution_count": 35,
   "id": "c036eb19-a3fe-4808-ad47-2f48201007e4",
   "metadata": {},
   "outputs": [
    {
     "ename": "TypeError",
     "evalue": "string indices must be integers, not 'str'",
     "output_type": "error",
     "traceback": [
      "\u001b[1;31m---------------------------------------------------------------------------\u001b[0m",
      "\u001b[1;31mTypeError\u001b[0m                                 Traceback (most recent call last)",
      "Cell \u001b[1;32mIn[35], line 1\u001b[0m\n\u001b[1;32m----> 1\u001b[0m text[\u001b[38;5;124m\"\u001b[39m\u001b[38;5;124mdate\u001b[39m\u001b[38;5;124m\"\u001b[39m]\n",
      "\u001b[1;31mTypeError\u001b[0m: string indices must be integers, not 'str'"
     ]
    }
   ],
   "source": []
  },
  {
   "cell_type": "code",
   "execution_count": null,
   "id": "1ab46978-cb18-41ff-9abe-8f3c9eaa137a",
   "metadata": {},
   "outputs": [],
   "source": []
  },
  {
   "cell_type": "code",
   "execution_count": null,
   "id": "b56de661-8eb9-45d0-9b85-2711fd916cba",
   "metadata": {},
   "outputs": [],
   "source": []
  },
  {
   "cell_type": "code",
   "execution_count": null,
   "id": "407d7e06-ae87-4b9a-8dc7-8712c764778b",
   "metadata": {},
   "outputs": [],
   "source": []
  },
  {
   "cell_type": "code",
   "execution_count": null,
   "id": "5f2870c8-746f-49a6-89b9-d9dbc0c92d93",
   "metadata": {},
   "outputs": [],
   "source": []
  },
  {
   "cell_type": "code",
   "execution_count": 36,
   "id": "62c631a5-b320-4df6-9eb4-74bdb21de0db",
   "metadata": {},
   "outputs": [],
   "source": [
    "dct = response.json()"
   ]
  },
  {
   "cell_type": "code",
   "execution_count": 38,
   "id": "4a5fc8b3-5cdd-4154-9199-52a595afcf08",
   "metadata": {},
   "outputs": [
    {
     "data": {
      "text/plain": [
       "'May 16'"
      ]
     },
     "execution_count": 38,
     "metadata": {},
     "output_type": "execute_result"
    }
   ],
   "source": [
    "dct['date']"
   ]
  },
  {
   "cell_type": "code",
   "execution_count": null,
   "id": "3f69f0e9-f0e1-44e3-a9bf-92740b333f45",
   "metadata": {},
   "outputs": [],
   "source": []
  }
 ],
 "metadata": {
  "kernelspec": {
   "display_name": "Python 3 (ipykernel)",
   "language": "python",
   "name": "python3"
  },
  "language_info": {
   "codemirror_mode": {
    "name": "ipython",
    "version": 3
   },
   "file_extension": ".py",
   "mimetype": "text/x-python",
   "name": "python",
   "nbconvert_exporter": "python",
   "pygments_lexer": "ipython3",
   "version": "3.12.4"
  }
 },
 "nbformat": 4,
 "nbformat_minor": 5
}
