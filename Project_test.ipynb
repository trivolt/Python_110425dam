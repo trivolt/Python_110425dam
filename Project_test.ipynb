{
 "cells": [
  {
   "cell_type": "code",
   "execution_count": null,
   "id": "fb049c7b-d94b-4476-8bf2-555bdacc0524",
   "metadata": {},
   "outputs": [],
   "source": [
    "#config.py\n",
    "# Конфигурация подключений\n",
    "MYSQL_CONFIG = {\n",
    "    'host': '127.0.0.1',\n",
    "    'user': 'root',\n",
    "    'password': 'password',\n",
    "    'database': 'sakila'\n",
    "}\n",
    "\n",
    "MONGO_CONFIG = {\n",
    "    'uri': \"mongodb://ich_editor:verystrongpassword\"\n",
    "          \"@mongo.itcareerhub.de/?readPreference=primary\"\n",
    "          \"&ssl=false&authMechanism=DEFAULT&authSource=ich_edit\",\n",
    "    'database': 'ich_edit',\n",
    "    'collection': 'project_110425_Sidorov'\n",
    "}\n"
   ]
  },
  {
   "cell_type": "code",
   "execution_count": null,
   "id": "324c7175-1715-442c-8d05-fe7bef4319d0",
   "metadata": {},
   "outputs": [],
   "source": [
    "# search.py\n",
    "import pymysql\n",
    "from config import MYSQL_CONFIG\n",
    "\n",
    "def search_books_by_author(author_name):\n",
    "    # Подключение к серверу MySQL\n",
    "    with pymysql.connect(**MYSQL_CONFIG) as connection:\n",
    "        with connection.cursor() as cursor:\n",
    "            # SQL-запрос для поиска книг по имени автора\n",
    "            query = \"\"\"\n",
    "                SELECT id, title, author, price\n",
    "                FROM books\n",
    "                WHERE author LIKE %s\n",
    "            \"\"\"\n",
    "            cursor.execute(query, ('%' + author_name + '%',)) # LIKE '%leo%'\n",
    "\n",
    "            # Вывод результатов\n",
    "            count = 0\n",
    "            print(\"\\nПодходящие книги:\")\n",
    "            for row in cursor:\n",
    "                print(f\"ID: {row[0]}, Title: {row[1]}, Author: {row[2]}, Price: {row[3]}\")\n",
    "                count += 1\n",
    "            if count == 0:\n",
    "                print(\"не найдены.\")\n",
    "\n",
    "# Вставляем все остальные функции"
   ]
  },
  {
   "cell_type": "code",
   "execution_count": null,
   "id": "61aca935-bd27-449f-a50e-fec12da83254",
   "metadata": {},
   "outputs": [],
   "source": [
    "# log_writer.py\n",
    "from config import MONGO_CONFIG\n",
    "from pymongo import MongoClient\n",
    "\n",
    "\n",
    "def log_search_query(query_type, query_str):\n",
    "    # Настройка подключения к MongoDB\n",
    "    mongo_client = MongoClient(MONGO_CONFIG['uri'])\n",
    "    searches_collection = mongo_client[MONGO_CONFIG['database']][MONGO_CONFIG['collection']]\n",
    "    searches_collection.insert_one({\"query_type\": query_type, \"query_str\": query_str})\n",
    "    \n",
    "\n",
    "\n"
   ]
  },
  {
   "cell_type": "code",
   "execution_count": null,
   "id": "dc5b50f0-a3d4-491a-bb4d-745d2a09810f",
   "metadata": {},
   "outputs": [],
   "source": [
    "from log_writer import *\n",
    "\n",
    "\n",
    "key = input()\n",
    "log_search_query('search_by_author',key)\n"
   ]
  },
  {
   "cell_type": "code",
   "execution_count": null,
   "id": "08387342-7719-48d3-aed8-55cdd5064ffb",
   "metadata": {},
   "outputs": [],
   "source": []
  },
  {
   "cell_type": "code",
   "execution_count": null,
   "id": "4d603ba8-1993-48da-83d8-d541dbbbf7b0",
   "metadata": {},
   "outputs": [],
   "source": [
    "#log_reader.py\n",
    "from config import MONGO_CONFIG\n",
    "from collections import Counter\n",
    "\n",
    "def show_popular_queries():\n",
    "    mongo_client = MongoClient(MONGO_CONFIG['uri'])\n",
    "    searches_collection = mongo_client[MONGO_CONFIG['database']]['collection']    \n",
    "    queries = [doc[\"query_type\"] for doc in searches_collection.find() if doc.get(\"query_type\")]\n",
    "    counter = Counter(queries)\n",
    "    top = counter.most_common(5)\n",
    "\n",
    "    if not top: #если пустой\n",
    "        print(\"No search data found.\")\n",
    "        return\n",
    "\n",
    "    print(\"Most frequent search queries:\")\n",
    "    for i, (query, count) in enumerate(top):\n",
    "        print(f\"{i+1}. {query} — {count} times\")"
   ]
  },
  {
   "cell_type": "code",
   "execution_count": null,
   "id": "5a6841e1-a349-446f-973a-b4fce11bd971",
   "metadata": {},
   "outputs": [],
   "source": [
    "# main_menu.py\n",
    "from search import *\n",
    "from log_writer import *\n",
    "\n",
    "def main_menu():\n",
    "    while True:\n",
    "        print(\"\\nГлавное меню:\")\n",
    "        print(\"1. Поиск информации о книгах\")\n",
    "        print(\"2. Поиск информации о клиентах\")\n",
    "        print(\"3. Вывод топ-5 популярных запросов\")\n",
    "        print(\"0. Выход\")\n",
    "\n",
    "        choice = input(\"Выберите пункт меню (1, 2, 3 или 0): \")\n",
    "\n",
    "        if choice == '1':\n",
    "            while True:\n",
    "                print(\"\\nМеню информации о книгах:\")\n",
    "                print(\"1. Поиск книг по автору\")\n",
    "                print(\"2. Поиск книг по части названия\")\n",
    "                print(\"3. Общий доход, сгенерированный каждой книгой\")\n",
    "                print(\"0. Назад\")\n",
    "\n",
    "                sub_choice = input(\"Выберите пункт подменю (1, 2, 3 или 0): \")\n",
    "\n",
    "                if sub_choice == '1':\n",
    "                    author_name = input(\"Введите имя автора (или его часть): \")\n",
    "                    search_books_by_author(author_name)\n",
    "                    log_type = 'search_books_by_author' # log_type = search.search_books_by_author.__name__\n",
    "                    log_str = author_name\n",
    "                    log_search_query(log_type, log_str)\n",
    "                    \n",
    "                elif sub_choice == '2':\n",
    "                    title_part = input(\"Введите часть названия книги: \")\n",
    "                    search_books_by_title(title_part)\n",
    "                    log_type = 'search_books_by_title'\n",
    "                    log_str = title_part\n",
    "                    log_search_query(log_type, log_str)\n",
    "                elif sub_choice == '3':\n",
    "                    # нужна доработка\n",
    "                    calculate_total_income_by_book()\n",
    "                    # нужна доработка\n",
    "                elif sub_choice == '0':\n",
    "                    break\n",
    "                else:\n",
    "                    print(\"Некорректный выбор. Пожалуйста, выберите 1, 2, 3 или 0.\")\n",
    "\n",
    "        elif choice == '2':\n",
    "            while True:\n",
    "                print(\"\\nМеню информации о клиентах:\")\n",
    "                print(\"1. Поиск книг клиента\")\n",
    "                print(\"2. Суммарные затраты каждого клиента\")\n",
    "                print(\"0. Назад\")\n",
    "\n",
    "                sub_choice = input(\"Выберите пункт подменю (1, 2 или 0): \")\n",
    "\n",
    "                if sub_choice == '1':\n",
    "                    search_books_by_client()\n",
    "                elif sub_choice == '2':\n",
    "                    calculate_total_expenses_by_user()\n",
    "                elif sub_choice == '0':\n",
    "                    break\n",
    "                else:\n",
    "                    print(\"Некорректный выбор. Пожалуйста, выберите 1, 2 или 0.\")\n",
    "\n",
    "        elif choice == '3':\n",
    "            show_popular_queries()\n",
    "\n",
    "        elif choice == '0':\n",
    "            print(\"Выход из программы.\")\n",
    "            break\n",
    "        else:\n",
    "            print(\"Некорректный выбор. Пожалуйста, выберите 1, 2, 3 или 0.\")\n"
   ]
  },
  {
   "cell_type": "markdown",
   "id": "80556708-8025-4ad4-ab88-980fe5965e42",
   "metadata": {},
   "source": []
  },
  {
   "cell_type": "code",
   "execution_count": null,
   "id": "3567afd7-f05a-4181-b8da-e17b444d73c8",
   "metadata": {},
   "outputs": [],
   "source": [
    "# основная программа\n",
    "\n",
    "from main_menu import *\n",
    "\n",
    "main_menu()"
   ]
  },
  {
   "cell_type": "code",
   "execution_count": null,
   "id": "3984a859-11ff-4515-9af5-14c7925c141c",
   "metadata": {},
   "outputs": [],
   "source": []
  },
  {
   "cell_type": "code",
   "execution_count": null,
   "id": "6fad12c9-28e9-4e49-a1a6-ca1fff738549",
   "metadata": {},
   "outputs": [],
   "source": [
    "lst_a = [1,2,3,4,5,6,7,8,9,10,11,12,13,14,15,16]\n",
    "\n",
    "if user_inp in lst_a:\n",
    "    serch_by\n",
    "else:\n",
    "    print('коррек')"
   ]
  },
  {
   "cell_type": "code",
   "execution_count": null,
   "id": "208e1c18-fc98-458c-8868-20d5ab58b46e",
   "metadata": {},
   "outputs": [],
   "source": []
  },
  {
   "cell_type": "code",
   "execution_count": 1,
   "id": "5eec6731-5637-45ee-a663-ca6a2bdc69f2",
   "metadata": {},
   "outputs": [
    {
     "name": "stdout",
     "output_type": "stream",
     "text": [
      "---------------  ---------  --  --\n",
      "FastEthernet0/0  15.0.15.1  up  up\n",
      "FastEthernet0/1  10.0.12.1  up  up\n",
      "FastEthernet0/2  10.0.13.1  up  up\n",
      "Loopback0        10.1.1.1   up  up\n",
      "Loopback100      100.0.0.1  up  up\n",
      "---------------  ---------  --  --\n"
     ]
    }
   ],
   "source": [
    "from tabulate import tabulate\n",
    "\n",
    "sh_ip_int_br = [('FastEthernet0/0', '15.0.15.1', 'up', 'up'), ('FastEthernet0/1', '10.0.12.1', 'up', 'up'),('FastEthernet0/2', '10.0.13.1', 'up', 'up'),('Loopback0', '10.1.1.1', 'up', 'up'),('Loopback100', '100.0.0.1', 'up', 'up')]\n",
    "\n",
    "\n",
    "print(tabulate(sh_ip_int_br))"
   ]
  },
  {
   "cell_type": "code",
   "execution_count": 2,
   "id": "f276d267-8489-424b-b349-756995cbad3f",
   "metadata": {},
   "outputs": [
    {
     "name": "stdout",
     "output_type": "stream",
     "text": [
      "Interface        IP         Status    Protocol\n",
      "---------------  ---------  --------  ----------\n",
      "FastEthernet0/0  15.0.15.1  up        up\n",
      "FastEthernet0/1  10.0.12.1  up        up\n",
      "FastEthernet0/2  10.0.13.1  up        up\n",
      "Loopback0        10.1.1.1   up        up\n",
      "Loopback100      100.0.0.1  up        up\n"
     ]
    }
   ],
   "source": [
    "columns = ['Interface', 'IP', 'Status', 'Protocol']\n",
    "\n",
    "print(tabulate(sh_ip_int_br, headers=columns))"
   ]
  },
  {
   "cell_type": "code",
   "execution_count": 5,
   "id": "3d9e8a83-19a0-4016-91c0-fd8852cec5a0",
   "metadata": {},
   "outputs": [
    {
     "name": "stdout",
     "output_type": "stream",
     "text": [
      "+-----------------+-----------+----------+------------+\n",
      "| Interface       | IP        | Status   | Protocol   |\n",
      "+=================+===========+==========+============+\n",
      "| FastEthernet0/0 | 15.0.15.1 | up       | up         |\n",
      "+-----------------+-----------+----------+------------+\n",
      "| FastEthernet0/1 | 10.0.12.1 | up       | up         |\n",
      "+-----------------+-----------+----------+------------+\n",
      "| FastEthernet0/2 | 10.0.13.1 | up       | up         |\n",
      "+-----------------+-----------+----------+------------+\n",
      "| Loopback0       | 10.1.1.1  | up       | up         |\n",
      "+-----------------+-----------+----------+------------+\n",
      "| Loopback100     | 100.0.0.1 | up       | up         |\n",
      "+-----------------+-----------+----------+------------+\n"
     ]
    }
   ],
   "source": [
    "print(tabulate(sh_ip_int_br, headers=columns, tablefmt=\"grid\"))"
   ]
  },
  {
   "cell_type": "code",
   "execution_count": 10,
   "id": "4111651f-f75b-489d-9c9c-b6ba3e44e1f0",
   "metadata": {},
   "outputs": [
    {
     "data": {
      "text/html": [
       "<img src=\"https://m.media-amazon.com/images/M/MV5BMTc1MzU5MDgzMF5BMl5BanBnXkFtZTcwMDQ4ODY2OA@@._V1_SY1000_SX677_AL_.jpg\"/>"
      ],
      "text/plain": [
       "<IPython.core.display.Image object>"
      ]
     },
     "metadata": {},
     "output_type": "display_data"
    }
   ],
   "source": [
    "from IPython.display import Image, display\n",
    "\n",
    "# URL изображения\n",
    "image_url = \"https://m.media-amazon.com/images/M/MV5BMTc1MzU5MDgzMF5BMl5BanBnXkFtZTcwMDQ4ODY2OA@@._V1_SY1000_SX677_AL_.jpg\"\n",
    "\n",
    "# Отображение изображения\n",
    "display(Image(url=image_url))"
   ]
  },
  {
   "cell_type": "code",
   "execution_count": null,
   "id": "f0803cd3-fc2d-42d6-83b1-bd239f23c376",
   "metadata": {},
   "outputs": [],
   "source": []
  },
  {
   "cell_type": "code",
   "execution_count": null,
   "id": "2045846e-7f16-41b4-9cae-d947fe0c4562",
   "metadata": {},
   "outputs": [],
   "source": []
  }
 ],
 "metadata": {
  "kernelspec": {
   "display_name": "Python 3 (ipykernel)",
   "language": "python",
   "name": "python3"
  },
  "language_info": {
   "codemirror_mode": {
    "name": "ipython",
    "version": 3
   },
   "file_extension": ".py",
   "mimetype": "text/x-python",
   "name": "python",
   "nbconvert_exporter": "python",
   "pygments_lexer": "ipython3",
   "version": "3.12.4"
  }
 },
 "nbformat": 4,
 "nbformat_minor": 5
}
