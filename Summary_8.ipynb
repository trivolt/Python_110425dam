{
 "cells": [
  {
   "cell_type": "markdown",
   "id": "407b5ce8-8eca-4d92-a2f9-190cdeeb94bd",
   "metadata": {},
   "source": [
    "# Summary 8"
   ]
  },
  {
   "cell_type": "code",
   "execution_count": 10,
   "id": "b5cf8012-016d-47b0-a06d-14c377c3b58b",
   "metadata": {},
   "outputs": [
    {
     "name": "stdout",
     "output_type": "stream",
     "text": [
      "2309944790464\n",
      "2309919823872\n"
     ]
    }
   ],
   "source": [
    "a = [[1,2],2,3]\n",
    "b = a.copy()\n",
    "b.append(4)\n",
    "print(id(a))\n",
    "print(id(b))"
   ]
  },
  {
   "cell_type": "code",
   "execution_count": null,
   "id": "56953792-2223-44e4-a0f3-e019b081ada5",
   "metadata": {},
   "outputs": [],
   "source": []
  },
  {
   "cell_type": "code",
   "execution_count": null,
   "id": "0ed04070-3250-4280-b9dc-7e3488854c23",
   "metadata": {},
   "outputs": [],
   "source": []
  },
  {
   "cell_type": "code",
   "execution_count": null,
   "id": "3b8b5431-9385-48d3-88e6-0bd678bfed85",
   "metadata": {},
   "outputs": [],
   "source": []
  },
  {
   "cell_type": "code",
   "execution_count": null,
   "id": "5eae25a1-6119-49a2-a485-63ec5d4c054a",
   "metadata": {},
   "outputs": [],
   "source": []
  },
  {
   "cell_type": "code",
   "execution_count": 3,
   "id": "0a951708-bfd7-42c4-a89c-158915123eb1",
   "metadata": {},
   "outputs": [],
   "source": []
  },
  {
   "cell_type": "code",
   "execution_count": null,
   "id": "2c984bb0-de6a-4972-88ea-e9b1c2134bf9",
   "metadata": {},
   "outputs": [],
   "source": []
  },
  {
   "cell_type": "markdown",
   "id": "f93ed2af-5cf1-45ac-bd64-0f398002608e",
   "metadata": {},
   "source": [
    "## ДЗ 15"
   ]
  },
  {
   "cell_type": "markdown",
   "id": "2e4f9e59-f346-4ae3-80c8-7a359b802b13",
   "metadata": {},
   "source": [
    "1. ***Одно слово***  \n",
    "Напишите программу, которая обрабатывает список из строк и удаляет все строки, содержащие более одного слова, а также преобразует оставшиеся строки к нижнему регистру.  \n",
    "Данные:  \n",
    "`text_list = [\"Hello\", \"Python Programming\", \"World\", \"Advanced Topics\", \"Simple\"]`  \n",
    "Пример вывода:  \n",
    "Обработанный список: `['hello', 'world', 'simple']`  \n"
   ]
  },
  {
   "cell_type": "code",
   "execution_count": 11,
   "id": "766ebd1e-c5a9-4ef0-8f0f-78e873b69c99",
   "metadata": {},
   "outputs": [
    {
     "name": "stdout",
     "output_type": "stream",
     "text": [
      "Обработанный список: ['hello', 'world', 'simple']\n"
     ]
    }
   ],
   "source": [
    "text_list = [\"Hello\", \"Python Programming\", \"World\", \"Advanced Topics\", \"Simple\"]\n",
    "\n",
    "for i in range(len(text_list) - 1, -1, -1):\n",
    "    if \" \" in text_list[i]:  # Проверка на наличие более одного слова\n",
    "        del text_list[i]\n",
    "    else:\n",
    "        text_list[i] = text_list[i].lower()  # Преобразование к нижнему регистру\n",
    "\n",
    "print(\"Обработанный список:\", text_list)\n"
   ]
  },
  {
   "cell_type": "markdown",
   "id": "162f1c19-f13d-4965-a3fa-97dddbf895fe",
   "metadata": {},
   "source": [
    "2. ***Обновление цен товаров***  \n",
    "Дан список товаров с ценами. Программа должна применить скидку к каждому товару и добавить в список элемент с новой ценой. В конце вывести таблицу с новой ценой.  \n",
    "Данные:  \n",
    "`products = [[\"Laptop\", 1200], [\"Mouse\", 25], [\"Keyboard\", 75], [\"Monitor\", 200]]`  \n",
    "\n",
    "Пример вывода:  \n",
    "Введите скидку (в процентах): 17  \n",
    "\n",
    "`Товар          Старая цена    Новая цена`  \n",
    "`Laptop            1200.00$       996.00$`  \n",
    "`Mouse               25.00$        20.75$`  \n",
    "`Keyboard            75.00$        62.25$`  \n",
    "`Monitor            200.00$       166.00$`  \n"
   ]
  },
  {
   "cell_type": "code",
   "execution_count": 12,
   "id": "b5ff28c8-bff1-43b3-92f0-aca19af7ee00",
   "metadata": {},
   "outputs": [
    {
     "name": "stdin",
     "output_type": "stream",
     "text": [
      "Введите скидку (в процентах):  12\n"
     ]
    },
    {
     "name": "stdout",
     "output_type": "stream",
     "text": [
      "\n",
      "Товар          Старая цена    Новая цена\n",
      "Laptop            1200.00$      1056.00$\n",
      "Mouse               25.00$        22.00$\n",
      "Keyboard            75.00$        66.00$\n",
      "Monitor            200.00$       176.00$\n"
     ]
    }
   ],
   "source": [
    "products = [[\"Laptop\", 1200], [\"Mouse\", 25], [\"Keyboard\", 75], [\"Monitor\", 200]]\n",
    "discount = int(input(\"Введите скидку (в процентах): \"))\n",
    "\n",
    "for product in products:\n",
    "    new_price = product[1] * (1 - discount / 100)\n",
    "    product.append(round(new_price, 2))\n",
    "print(f\"\\n{'Товар':<12}{'Старая цена':>14}{'Новая цена':>14}\")\n",
    "\n",
    "for name, price, new_price in products:\n",
    "    print(f\"{name:<12}{price:>13.2f}${new_price:>13.2f}$\")\n"
   ]
  },
  {
   "cell_type": "markdown",
   "id": "5e49e8b9-a49c-46b7-b207-8dfe110cb13a",
   "metadata": {},
   "source": [
    "## ДЗ 16"
   ]
  },
  {
   "cell_type": "markdown",
   "id": "5868457e-1622-4f31-8fbc-87974e5dc3fa",
   "metadata": {},
   "source": [
    "1. ***Фильтрация по символу***  \n",
    "Из заданного списка строк создайте новый список, исключив все строки, содержащие символ, который введет пользователь.  \n",
    "Данные:  \n",
    "`words = [\"apple\", \"cherry\", \"kiwi\", \"banana\", \"orange\"]`  \n",
    "\n",
    "Пример вывода:  \n",
    "Исключить символ: r  \n",
    "`['apple', 'kiwi', 'banana']`\n"
   ]
  },
  {
   "cell_type": "code",
   "execution_count": 13,
   "id": "3b230859-64d0-4695-80b7-9092c7abcabe",
   "metadata": {},
   "outputs": [
    {
     "name": "stdin",
     "output_type": "stream",
     "text": [
      "Исключить символ:  a\n"
     ]
    },
    {
     "name": "stdout",
     "output_type": "stream",
     "text": [
      "['cherry', 'kiwi']\n"
     ]
    }
   ],
   "source": [
    "words = [\"apple\", \"cherry\", \"kiwi\", \"banana\", \"orange\"]\n",
    "char = input(\"Исключить символ: \")\n",
    "filtered_words = [word for word in words if char not in word]\n",
    "print(filtered_words)\n"
   ]
  },
  {
   "cell_type": "markdown",
   "id": "3ff1b2fa-3bc8-4bbd-8a41-aa7e4f89d21a",
   "metadata": {},
   "source": [
    "2. ***Правильные скобки***  \n",
    "Что нужно сделать:  \n",
    "Напишите программу, которая принимает строку, содержащую любые виды скобок — круглые (), квадратные [] и фигурные {}.  \n",
    "Необходимо проверить, правильно ли они расставлены. Скобки считаются правильно расставленными, если:  \n",
    "Каждая открывающая скобка имеет соответствующую закрывающую.  \n",
    "Скобки закрываются в правильном порядке.   \n",
    "Пример данных:   \n",
    "`string = \"({[}])\"`  \n",
    "\n",
    "Пример вывода:  \n",
    "Скобки: `({[}])`  \n",
    "Валидны: `False`  \n",
    "\n",
    "Скобки: `([({}()){}])`  \n",
    "Валидны: `True`\n"
   ]
  },
  {
   "cell_type": "code",
   "execution_count": 6,
   "id": "fe224aea-0268-4608-8144-4674e68098ab",
   "metadata": {},
   "outputs": [
    {
     "name": "stdout",
     "output_type": "stream",
     "text": [
      "Скобки: ({[}])\n",
      "Валидны: False\n"
     ]
    }
   ],
   "source": [
    "string = \"({[}])\"\n",
    "\n",
    "stack = []  # Используем список как стек\n",
    "brackets = \"(){}[]\"  # Сопоставление скобок\n",
    "is_valid = True\n",
    "\n",
    "for bracket in string:\n",
    "    if bracket in brackets[::2]:  # Если открывающая скобка\n",
    "        stack.append(bracket)\n",
    "    elif bracket in brackets[1::2]:  # Если закрывающая скобка\n",
    "        if stack != [] and stack[-1] == brackets[brackets.find(bracket) - 1]:\n",
    "            stack.pop()  # Удаляем последнюю открывающую скобку\n",
    "        else:\n",
    "            is_valid = False\n",
    "            break\n",
    "print(f\"Скобки: {string}\")\n",
    "print(f\"Валидны: {is_valid}\")\n"
   ]
  },
  {
   "cell_type": "code",
   "execution_count": null,
   "id": "e2c96052-9fc1-423f-95bd-bbb8303d457e",
   "metadata": {},
   "outputs": [],
   "source": [
    "#from collections import deque\n",
    "test=input(\"Введите любое сочетание круглых, квадратных и фигурных скобок:         \")\n",
    "text=deque(test)\n",
    "ind=0\n",
    "while ind<len(text):\n",
    "    if text[ind]==\"(\" and text[ind+1]==\")\" or text[ind]==\"[\" and text[ind+1]==\"]\" or text[ind]==\"{\" and text[ind+1]==\"}\":\n",
    "        del text[ind]\n",
    "        del text[ind]\n",
    "        ind=0\n",
    "    else:\n",
    "        ind+=1\n",
    "if text:\n",
    "    print(False)\n",
    "else:\n",
    "    print(True)"
   ]
  },
  {
   "cell_type": "code",
   "execution_count": null,
   "id": "3fe68fac-7375-46ee-95c9-10bc0b200417",
   "metadata": {},
   "outputs": [],
   "source": []
  },
  {
   "cell_type": "code",
   "execution_count": null,
   "id": "00f4ddb5-4bc3-4d1b-9377-6e8888f426a6",
   "metadata": {},
   "outputs": [],
   "source": []
  },
  {
   "cell_type": "code",
   "execution_count": null,
   "id": "73f5a66f-0699-46be-96c2-6e54008dfdf8",
   "metadata": {},
   "outputs": [],
   "source": []
  },
  {
   "cell_type": "code",
   "execution_count": null,
   "id": "9cb42faf-a9c8-42a3-a578-d23e47e30c92",
   "metadata": {},
   "outputs": [],
   "source": []
  },
  {
   "cell_type": "code",
   "execution_count": null,
   "id": "a5a53f6c-1bca-44a7-af85-a2a7242a2995",
   "metadata": {},
   "outputs": [],
   "source": []
  },
  {
   "cell_type": "code",
   "execution_count": null,
   "id": "acdc9609-d86f-4ae8-8bdb-95fda5e0cfe2",
   "metadata": {},
   "outputs": [],
   "source": []
  },
  {
   "cell_type": "code",
   "execution_count": null,
   "id": "699cad24-7ce8-4ff1-b89a-c2c8718dddc5",
   "metadata": {},
   "outputs": [],
   "source": []
  },
  {
   "cell_type": "code",
   "execution_count": null,
   "id": "0752c4fc-eccc-499e-aae5-85993dc1df5e",
   "metadata": {},
   "outputs": [],
   "source": []
  },
  {
   "cell_type": "code",
   "execution_count": 15,
   "id": "2d65cac8-3e92-4613-94bc-05ec3915a01e",
   "metadata": {},
   "outputs": [
    {
     "data": {
      "text/plain": [
       "')}]'"
      ]
     },
     "execution_count": 15,
     "metadata": {},
     "output_type": "execute_result"
    }
   ],
   "source": [
    "brackets = \"(){}[]\"\n",
    "brackets[1::2]"
   ]
  },
  {
   "cell_type": "code",
   "execution_count": 16,
   "id": "b7c19878-72f2-440b-8687-27d8c7bacbf8",
   "metadata": {},
   "outputs": [
    {
     "name": "stdout",
     "output_type": "stream",
     "text": [
      ")\n"
     ]
    }
   ],
   "source": [
    "brackets = \"(){}[]\"\n",
    "bracket = '{'\n",
    "print(brackets[brackets.find(bracket) - 1])"
   ]
  },
  {
   "cell_type": "code",
   "execution_count": null,
   "id": "8f816359-30fc-4910-9dd8-60b8f8a42582",
   "metadata": {},
   "outputs": [],
   "source": []
  }
 ],
 "metadata": {
  "kernelspec": {
   "display_name": "Python 3 (ipykernel)",
   "language": "python",
   "name": "python3"
  },
  "language_info": {
   "codemirror_mode": {
    "name": "ipython",
    "version": 3
   },
   "file_extension": ".py",
   "mimetype": "text/x-python",
   "name": "python",
   "nbconvert_exporter": "python",
   "pygments_lexer": "ipython3",
   "version": "3.12.4"
  }
 },
 "nbformat": 4,
 "nbformat_minor": 5
}
