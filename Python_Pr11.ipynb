{
 "cells": [
  {
   "cell_type": "markdown",
   "id": "171e3dbb-fbe4-4db9-aefa-91a5091b503e",
   "metadata": {},
   "source": [
    "# Практические задания 11\n",
    "* Лекция 22 - Lambda-функции. Функции высшего порядка\n",
    "* Лекция 23 - Документация. Аннотации типов\n"
   ]
  },
  {
   "cell_type": "markdown",
   "id": "9c1fb6d1-1e29-4ce3-a0d8-e41140a77e2a",
   "metadata": {},
   "source": [
    "#### 0. Аннотации для функций\n",
    "Для каждой из функций, выбранных для решения, добавьте аннотации типов принимаемых и возвращаемых значений функции.\n"
   ]
  },
  {
   "cell_type": "markdown",
   "id": "b4402d73-509a-4aa8-bdcf-c25b71cc53c3",
   "metadata": {},
   "source": [
    "#### 1.1. Фильтрация четных с функцией\n",
    "Напишите функцию-предикат, которая проверяет четный ли переданный элемент. Также напишите функцию, которая принимает функцию-предикат и список чисел. Она должна возвращать новый список, содержащий только элементы, для которых предикат возвращает True.  \n",
    "Данные:  \n",
    "`nums = [1, 2, 3, 4, 5, 6]`  \n",
    "Пример вывода:   \n",
    "`[2, 4, 6]`\n"
   ]
  },
  {
   "cell_type": "code",
   "execution_count": 15,
   "id": "2311e0e2-df67-40f4-a6ad-a4b5d22e3e9d",
   "metadata": {},
   "outputs": [
    {
     "name": "stdout",
     "output_type": "stream",
     "text": [
      "[2, 4, 6]\n"
     ]
    }
   ],
   "source": [
    "def is_even(x : int) -> bool:\n",
    "    \"\"\"\n",
    "    Функция предикат, проверяет элемент на четность\n",
    "    \"\"\"\n",
    "    return x % 2 == 0\n",
    "\n",
    "def even_lst(nums : list[int]) -> list[int]:\n",
    "    return [n for n in nums if is_even(n)]\n",
    "\n",
    "nums = [1, 2, 3, 4, 5, 6]\n",
    "print(even_lst(nums))"
   ]
  },
  {
   "cell_type": "code",
   "execution_count": null,
   "id": "a672b359-e296-447b-841c-5b55e5fa968d",
   "metadata": {},
   "outputs": [],
   "source": []
  },
  {
   "cell_type": "code",
   "execution_count": 17,
   "id": "f0846f6e-9452-4b16-8555-59fc380ad4c9",
   "metadata": {},
   "outputs": [
    {
     "data": {
      "text/plain": [
       "[2, 4, 6]"
      ]
     },
     "execution_count": 17,
     "metadata": {},
     "output_type": "execute_result"
    }
   ],
   "source": [
    "list(filter(lambda x: True if x%2 == 0 else False,nums))"
   ]
  },
  {
   "cell_type": "code",
   "execution_count": 18,
   "id": "1bb1ecb5-7dd8-4d9c-ad3f-a8754bbeb919",
   "metadata": {},
   "outputs": [
    {
     "data": {
      "text/plain": [
       "[2, 4, 6]"
      ]
     },
     "execution_count": 18,
     "metadata": {},
     "output_type": "execute_result"
    }
   ],
   "source": [
    "list(filter(lambda x: x%2 == 0, nums))"
   ]
  },
  {
   "cell_type": "code",
   "execution_count": 19,
   "id": "8e405255-bf72-4c2c-8990-da2df3721dba",
   "metadata": {},
   "outputs": [
    {
     "name": "stdout",
     "output_type": "stream",
     "text": [
      "[2, 4, 6]\n"
     ]
    }
   ],
   "source": []
  },
  {
   "cell_type": "code",
   "execution_count": null,
   "id": "b24a33b3-e484-4363-9678-10d306f8ce1f",
   "metadata": {},
   "outputs": [],
   "source": []
  },
  {
   "cell_type": "markdown",
   "id": "6f753fb0-397f-48a6-972e-68117778b442",
   "metadata": {},
   "source": [
    "#### 1.2. Фильтрация четных с filter  \n",
    "Выполните те же условия, что в задаче \"Фильтрация списка с функцией\", но решите с помощью filter и lambda.  \n",
    "Данные:   \n",
    "`nums = [1, 2, 3, 4, 5, 6]`  \n",
    "Пример вывода:   \n",
    "`[2, 4, 6]`\n"
   ]
  },
  {
   "cell_type": "code",
   "execution_count": null,
   "id": "74fd1150-f159-4253-b35c-10d51e31187c",
   "metadata": {},
   "outputs": [],
   "source": [
    "def is_even(x : int) -> bool:\n",
    "    \"\"\"\n",
    "    Функция предикат, проверяет элемент на четность\n",
    "    \"\"\"\n",
    "    return x % 2 == 0\n",
    "\n",
    "def even_lst(nums : list[int]) -> list[int]:\n",
    "    return list(filter(is_even, nums))\n",
    "\n",
    "nums = [1, 2, 3, 4, 5, 6]\n",
    "print(even_lst(nums))\n"
   ]
  },
  {
   "cell_type": "code",
   "execution_count": null,
   "id": "6f2d1ff7-d058-4249-be3b-882ee8324b2c",
   "metadata": {},
   "outputs": [],
   "source": [
    "def even_lst(nums : list[int]) -> list[int]:\n",
    "    return list(filter(lambda x: x%2 == 0, nums))\n",
    "\n",
    "nums = [1, 2, 3, 4, 5, 6]\n",
    "print(even_lst(nums))"
   ]
  },
  {
   "cell_type": "markdown",
   "id": "e79f3c06-fd0f-462b-a2fa-5ce763fb3aca",
   "metadata": {},
   "source": [
    "#### 2.1. Фильтрация списка строк  \n",
    "Отфильтруйте в новый список только слова, длина которых больше трех символов. Реализуйте в виде функции.  \n",
    "Данные:   \n",
    "`words = [\"hi\", \"Hello\", \"a\", \"python\", \"Ok\"]`  \n",
    "Пример вывода:   \n",
    "`['Hello', 'python']`\n"
   ]
  },
  {
   "cell_type": "code",
   "execution_count": 21,
   "id": "4be7e248-a1ee-4729-9e0a-1d593e558dfb",
   "metadata": {},
   "outputs": [
    {
     "name": "stdout",
     "output_type": "stream",
     "text": [
      "['Hello', 'python']\n"
     ]
    }
   ],
   "source": [
    "def is_word_len_3(word :str) -> bool:\n",
    "    \"\"\"\n",
    "    Описание\n",
    "    \"\"\"\n",
    "    return len(word) > 3\n",
    "\n",
    "def filter_words(words :list[str]) -> list[str]:\n",
    "    \"\"\"\n",
    "    Описание\n",
    "    \"\"\"\n",
    "    return list(filter(is_word_len_3,words))\n",
    "\n",
    "\n",
    "\n",
    "words = [\"hi\", \"Hello\", \"a\", \"python\", \"Ok\"]\n",
    "print(filter_words(words))"
   ]
  },
  {
   "cell_type": "code",
   "execution_count": 22,
   "id": "d1799c01-2569-416b-a9f7-00c2d88e9e09",
   "metadata": {},
   "outputs": [
    {
     "name": "stdout",
     "output_type": "stream",
     "text": [
      "['Hello', 'python']\n"
     ]
    }
   ],
   "source": [
    "def filter_words(words :list[str]) -> list[str]:\n",
    "    \"\"\"\n",
    "    Описание\n",
    "    \"\"\"\n",
    "    return list(filter(lambda word: len(word) > 3,words))\n",
    "\n",
    "\n",
    "\n",
    "words = [\"hi\", \"Hello\", \"a\", \"python\", \"Ok\"]\n",
    "print(filter_words(words))"
   ]
  },
  {
   "cell_type": "markdown",
   "id": "1c5c7006-3793-42b3-8afb-4cccbf17d0b1",
   "metadata": {},
   "source": [
    "#### 2.2. Фильтрация списка строк по длине  \n",
    "Доработайте функцию так, чтобы можно было передавать значение минимальной длины слов, которые нужно оставить.   \n",
    "`words = [\"hi\", \"Hello\", \"a\", \"python\", \"Ok\"]`  \n",
    "`min_len = 2`  \n",
    "Пример вывода:  \n",
    "`['hi', 'Hello', 'python', 'Ok']`\n"
   ]
  },
  {
   "cell_type": "code",
   "execution_count": 24,
   "id": "179da2d4-05cb-488e-9c6e-6a5c80c9722a",
   "metadata": {},
   "outputs": [
    {
     "name": "stdin",
     "output_type": "stream",
     "text": [
      " 4\n"
     ]
    },
    {
     "name": "stdout",
     "output_type": "stream",
     "text": [
      "['Hello', 'python']\n"
     ]
    }
   ],
   "source": [
    "def filter_words(words :list[str], min_len: int) -> list[str]:\n",
    "    \"\"\"\n",
    "    Описание\n",
    "    words - список слов для проверки\n",
    "    min_len - минимальная длина для отбора слов\n",
    "    \"\"\"\n",
    "    return list(filter(lambda word: len(word) > min_len, words))\n",
    "\n",
    "\n",
    "\n",
    "words = [\"hi\", \"Hello\", \"a\", \"python\", \"Ok\"]\n",
    "n = int(input())\n",
    "print(filter_words(words, n))"
   ]
  },
  {
   "cell_type": "markdown",
   "id": "1433f653-8352-4283-9fca-728e569451db",
   "metadata": {},
   "source": [
    "#### 2.3. Фильтрация списка строк по критерию  \n",
    "Доработайте функцию так, чтобы можно было в виде лямбда-функции передавать критерии отбора слов, которые нужно оставить.  \n",
    "Например:  \n",
    "слова, начинаются с заглавной буквы  \n",
    "слова из одного символа  \n",
    "слова начинаются и заканчиваются одной буквой, независимо от регистра  \n",
    "\n",
    "\n",
    "`words = [\"hi\", \"Hello\", \"a\", \"python\", \"Ok\", \"Radar\"]`  \n",
    "Пример вывода:  \n",
    "```\n",
    "['Hello', 'Ok', 'Radar']\n",
    "['a']\n",
    "['a', 'Radar']\n",
    "```"
   ]
  },
  {
   "cell_type": "code",
   "execution_count": 26,
   "id": "522a27fb-dae9-43d2-84de-6f21e4d1fa68",
   "metadata": {},
   "outputs": [
    {
     "data": {
      "text/plain": [
       "False"
      ]
     },
     "execution_count": 26,
     "metadata": {},
     "output_type": "execute_result"
    }
   ],
   "source": [
    "'na'.istitle()"
   ]
  },
  {
   "cell_type": "code",
   "execution_count": 29,
   "id": "68fa7af3-dbd8-482d-bf88-66b916656015",
   "metadata": {},
   "outputs": [
    {
     "name": "stdout",
     "output_type": "stream",
     "text": [
      "['Hello', 'Ok', 'Radar']\n",
      "['a']\n",
      "['a', 'Radar']\n"
     ]
    }
   ],
   "source": [
    "def filter_by_condition(foo_predicat: callable, words: list[str]) -> list[str]:\n",
    "    \"\"\"\n",
    "    Описание\n",
    "    \"\"\"\n",
    "    return list(filter(foo_predicat, words))\n",
    "\n",
    "\n",
    "words = [\"hi\", \"Hello\", \"a\", \"python\", \"Ok\", \"Radar\"]\n",
    "\n",
    "print(filter_by_condition(lambda word: word.istitle(), words))\n",
    "print(filter_by_condition(lambda word: len(word)==1, words))\n",
    "print(filter_by_condition(lambda word: word[0].lower() == word[-1].lower(), words))"
   ]
  },
  {
   "cell_type": "markdown",
   "id": "4222c927-641c-4f4b-b3c7-0a4aca27ecc4",
   "metadata": {},
   "source": [
    "#### 3. Агрегирование списка  \n",
    "Вычислите произведение всех элементов списка с помощью функции высшего порядка.  \n",
    "Данные:   \n",
    "`numbers = [1, 2, 3, 4, 5]`  \n",
    "Пример вывода:   \n",
    "120\n"
   ]
  },
  {
   "cell_type": "code",
   "execution_count": 30,
   "id": "7f9f466c-db21-45ca-ba5a-73b06aebcbd8",
   "metadata": {},
   "outputs": [
    {
     "data": {
      "text/plain": [
       "120"
      ]
     },
     "execution_count": 30,
     "metadata": {},
     "output_type": "execute_result"
    }
   ],
   "source": [
    "from functools import reduce\n",
    "\n",
    "def product_nums(numbers:list[int])-> int:\n",
    "    \"\"\"\n",
    "    Описание\n",
    "    \"\"\"\n",
    "    return reduce(lambda x,y: x*y, numbers)\n",
    "\n",
    "numbers = [1, 2, 3, 4, 5]\n",
    "product_nums(numbers)"
   ]
  },
  {
   "cell_type": "markdown",
   "id": "aeaed8ad-3c21-41e8-b0e0-b282388f5fdb",
   "metadata": {},
   "source": [
    "#### 4. Сортировка списка по длине  \n",
    "Отсортируйте список слов по длине, используя параметр key.  \n",
    "Данные:  \n",
    "```\n",
    "words = [\"apple\", \"banana\", \"kiwi\", \"grape\"]\n",
    "print(sort_by_length(words))\n",
    "```\n",
    "Пример вывода:   \n",
    "`['kiwi', 'grape', 'apple', 'banana']`\n"
   ]
  },
  {
   "cell_type": "code",
   "execution_count": 32,
   "id": "918b2949-7fd9-4d07-ab21-901e5b10b416",
   "metadata": {},
   "outputs": [
    {
     "name": "stdout",
     "output_type": "stream",
     "text": [
      "['kiwi', 'apple', 'grape', 'banana']\n"
     ]
    }
   ],
   "source": [
    "def sort_by_length(words: list[str]) -> list[str]:\n",
    "    \"\"\"\n",
    "    Описание функции\n",
    "    \"\"\"\n",
    "    return sorted(words,key=len)\n",
    "\n",
    "\n",
    "words = [\"apple\", \"banana\", \"kiwi\", \"grape\"]\n",
    "print(sort_by_length(words))"
   ]
  },
  {
   "cell_type": "markdown",
   "id": "d8505960-f54f-4f5f-b6e5-26d20b02e4b5",
   "metadata": {},
   "source": [
    "#### 5. Очередь с ограничением времени  \n",
    "Реализуйте функцию, которая принимает очередь задач с указанием времени их выполнения и лимит.  \n",
    "Если суммарное время превышает заданный лимит, программа должна удалить из очереди задачи с минимальным временем выполнения, пока лимит не будет соблюдён.\n",
    "Данные:   \n",
    "```\n",
    "tasks = {\"task1\": 5, \"task2\": 3, \"task3\": 7, \"task4\": 2}\n",
    "time_limit = 10\n",
    "```\n",
    "Пример вывода:   \n",
    "Задачи с лимитом по времени:  \n",
    "`{'task3': 7, 'task2': 3}`\n"
   ]
  },
  {
   "cell_type": "code",
   "execution_count": 35,
   "id": "7b0c1934-a304-48f9-b604-653faeeeeafd",
   "metadata": {},
   "outputs": [
    {
     "name": "stdout",
     "output_type": "stream",
     "text": [
      "[('task3', 7), ('task1', 5), ('task2', 3), ('task4', 2)]\n"
     ]
    }
   ],
   "source": [
    "queue= {\"task1\": 5, \"task2\": 3, \"task3\": 7, \"task4\": 2}\n",
    "sorted_tasks = sorted(queue.items(), key=lambda x: -x[1]) \n",
    "print(sorted_tasks)"
   ]
  },
  {
   "cell_type": "code",
   "execution_count": 37,
   "id": "6bb0d6dd-f968-4299-9b19-710211009690",
   "metadata": {},
   "outputs": [
    {
     "data": {
      "text/plain": [
       "[('task1', 5), ('task2', 3), ('task4', 2)]"
      ]
     },
     "execution_count": 37,
     "metadata": {},
     "output_type": "execute_result"
    }
   ],
   "source": [
    "sorted_tasks.pop(0)\n",
    "sorted_tasks"
   ]
  },
  {
   "cell_type": "code",
   "execution_count": 39,
   "id": "8e6ad28a-7f9d-47f3-8f6e-31309970a0bf",
   "metadata": {},
   "outputs": [
    {
     "name": "stdout",
     "output_type": "stream",
     "text": [
      "{'task3': 7, 'task2': 3}\n"
     ]
    }
   ],
   "source": [
    "def filter_task_by_time(queue :dict[str, int], limit: int) -> dict[str, int]:\n",
    "    # сортируем данные\n",
    "    sorted_tasks = sorted(queue.items(), key=lambda x: -x[1])  #[('task3', 7), ('task1', 5), ('task2', 3), ('task4', 2)]\n",
    "    total_time = 0\n",
    "    limited_tasks = {}\n",
    "    # давляем задачи с максимальным временем, пока выполняется лимит\n",
    "    while total_time < limit and sorted_tasks:\n",
    "        task, time = sorted_tasks.pop(0)\n",
    "        if total_time + time > limit:\n",
    "            continue\n",
    "        total_time += time\n",
    "        limited_tasks[task] = time\n",
    "    return limited_tasks\n",
    "\n",
    "    \n",
    "\n",
    "tasks = {\"task1\": 5, \"task2\": 3, \"task3\": 7, \"task4\": 2}\n",
    "time_limit = 10\n",
    "print(filter_task_by_time(tasks, time_limit))\n"
   ]
  },
  {
   "cell_type": "markdown",
   "id": "56331297-5c07-4539-866a-34dc86261761",
   "metadata": {},
   "source": [
    "#### 6. Анализ оценок студентов  \n",
    "Дан список студентов с их оценками по разным предметам.  \n",
    "Напишите программу, которая:  \n",
    "Вычисляет среднюю оценку (целое число) для каждого студента.  \n",
    "Возвращает словарь студентов с их средней оценкой, отсортированный по убыванию оценок.  \n",
    "Данные:   \n",
    "```\n",
    "students = [\n",
    "    {\"name\": \"Alice\", \"grades\": [90, 85, 88]},\n",
    "    {\"name\": \"Bob\", \"grades\": [78, 81, 75]},\n",
    "    {\"name\": \"Charlie\", \"grades\": [95, 92, 90]},\n",
    "    {\"name\": \"Diana\", \"grades\": [88, 84, 82]}\n",
    "]\n",
    "```  \n",
    "Пример вывода:   \n",
    "`{'Charlie': 92, 'Alice': 87, 'Diana': 84, 'Bob': 78}`\n"
   ]
  },
  {
   "cell_type": "code",
   "execution_count": 48,
   "id": "c2c2a05a-14b0-4f62-98a6-ff7d56add6df",
   "metadata": {},
   "outputs": [
    {
     "name": "stdout",
     "output_type": "stream",
     "text": [
      "{'Alice': 87, 'Bob': 78, 'Charlie': 92, 'Diana': 84}\n"
     ]
    }
   ],
   "source": [
    "students = [\n",
    "    {\"name\": \"Alice\", \"grades\": [90, 85, 88]},\n",
    "    {\"name\": \"Bob\", \"grades\": [78, 81, 75]},\n",
    "    {\"name\": \"Charlie\", \"grades\": [95, 92, 90]},\n",
    "    {\"name\": \"Diana\", \"grades\": [88, 84, 82]}\n",
    "]\n",
    "result = list(map(lambda x: (x['name'] ,sum(x[\"grades\"])//len(x[\"grades\"])), students))\n",
    "print(dict(result))\n"
   ]
  },
  {
   "cell_type": "code",
   "execution_count": 50,
   "id": "f642d666-a57c-4b78-a585-2f74220b45ce",
   "metadata": {},
   "outputs": [
    {
     "data": {
      "text/plain": [
       "{'Alice': 87, 'Bob': 78, 'Charlie': 92, 'Diana': 84}"
      ]
     },
     "execution_count": 50,
     "metadata": {},
     "output_type": "execute_result"
    }
   ],
   "source": [
    "def calculate_avg(students):\n",
    "    return sorted(list(map(lambda x: (x['name'] ,sum(x[\"grades\"])//len(x[\"grades\"])), students)),key = lambda x: x[0])\n",
    "\n",
    "students = [\n",
    "    {\"name\": \"Alice\", \"grades\": [90, 85, 88]},\n",
    "    {\"name\": \"Bob\", \"grades\": [78, 81, 75]},\n",
    "    {\"name\": \"Charlie\", \"grades\": [95, 92, 90]},\n",
    "    {\"name\": \"Diana\", \"grades\": [88, 84, 82]}\n",
    "]\n",
    "dict(calculate_avg(students))"
   ]
  },
  {
   "cell_type": "markdown",
   "id": "3798a817-200e-45d3-b4ec-92068a1d8323",
   "metadata": {},
   "source": [
    "#### 7*. Поиск максимального элемента  \n",
    "Отсортируйте слова в списке исходя из суммы порядковых номеров всех символов в слове.  \n",
    "К примеру `\"kiwi\" = ord(\"k\") + ord(\"i\") + ord(\"w\") + ord(\"i\") = 107 + 105 + 119 + 105 = 436.`  \n",
    "Попробуйте решить в одну строку с помощью lambda и функций высшего порядка.  \n",
    "Данные:  \n",
    "`words = [\"banana\", \"kiwi\", \"grapefruit\", \"apple\"]`   \n",
    "Пример вывода:   \n",
    "`['kiwi', 'apple', 'banana', 'grapefruit']`\n"
   ]
  },
  {
   "cell_type": "code",
   "execution_count": null,
   "id": "79790e17-5b53-42f4-aaa7-ed55adff33c9",
   "metadata": {},
   "outputs": [],
   "source": []
  },
  {
   "cell_type": "code",
   "execution_count": null,
   "id": "d20050f9-0cd3-47ba-b609-17bc22d4443f",
   "metadata": {},
   "outputs": [],
   "source": []
  },
  {
   "cell_type": "code",
   "execution_count": null,
   "id": "5ef222db-722f-4390-978d-f7468d4a5ee0",
   "metadata": {},
   "outputs": [],
   "source": []
  },
  {
   "cell_type": "code",
   "execution_count": null,
   "id": "397a48e8-fd67-4a78-b2cd-0c11e124d845",
   "metadata": {},
   "outputs": [],
   "source": []
  },
  {
   "cell_type": "code",
   "execution_count": null,
   "id": "a8993681-620e-4579-b8b2-6be0700d1381",
   "metadata": {},
   "outputs": [],
   "source": []
  },
  {
   "cell_type": "code",
   "execution_count": null,
   "id": "b80844d4-4a8d-492f-a798-d8dc3ec719c2",
   "metadata": {},
   "outputs": [],
   "source": []
  },
  {
   "cell_type": "code",
   "execution_count": 7,
   "id": "128d70a5-4a5b-4e9e-a8ba-7ad4ae97f00a",
   "metadata": {},
   "outputs": [
    {
     "name": "stdout",
     "output_type": "stream",
     "text": [
      "['kiwi', 'apple', 'banana', 'grapefruit']\n"
     ]
    }
   ],
   "source": [
    "from functools import reduce\n",
    "\n",
    "def sort_by_orders(words):\n",
    "    return sorted(words, key=lambda word: reduce(lambda start, char: start + ord(char), word, 0))\n",
    "\n",
    "words = [\"banana\", \"kiwi\", \"grapefruit\", \"apple\"]\n",
    "print(sort_by_orders(words))"
   ]
  },
  {
   "cell_type": "markdown",
   "id": "1aed7def-64c6-47d6-8d92-20c421734f7b",
   "metadata": {},
   "source": [
    "#### 8*. Цепочка шифрования строки  \n",
    "Реализуйте функции:  \n",
    "Преобразуйте все буквы в предложении в верхний регистр.  \n",
    "Зашифруйте строку, сдвинув символы на 5 элементов вправо.  \n",
    "Переверните строку.  \n",
    "Реализуйте функцию шифрования, которая последовательно применит каждую из списка переданных функций к переданной строке.  \n",
    "Данные:   \n",
    "```\n",
    "sentence = \"Functional programming is powerful\"\n",
    "functions = [to_uppercase, shift_encrypt, reverse_string]\n",
    "```\n",
    "Пример вывода:  \n",
    "`QZKWJ\\TU%XN%LSNRRFWLTWU%QFSTNYHSZK`\n"
   ]
  },
  {
   "cell_type": "code",
   "execution_count": null,
   "id": "8a38e1a5-fe77-457e-9102-a0b7deb5cfce",
   "metadata": {},
   "outputs": [],
   "source": [
    "from functools import reduce\n",
    "\n",
    "# Функция для преобразования в верхний регистр\n",
    "def to_uppercase(text):\n",
    "    return text.upper()\n",
    "\n",
    "# Функция для шифрования\n",
    "def shift_encrypt(text):\n",
    "    return ''.join(map(lambda char: chr(ord(char) + 5), text))\n",
    "\n",
    "# Функция для переворачивания строки\n",
    "def reverse_string(text):\n",
    "    return text[::-1]\n",
    "\n",
    "# Функция для применения всех шифров\n",
    "def encrypt_text(text, operations):\n",
    "    return reduce(lambda acc, func: func(acc), operations, text)\n",
    "\n",
    "# Цепочка обработки с использованием reduce\n",
    "sentence = \"Functional programming is powerful\"\n",
    "functions = [to_uppercase, shift_encrypt, reverse_string]\n",
    "\n",
    "result = encrypt_text(sentence, functions)\n",
    "print(result)"
   ]
  },
  {
   "cell_type": "code",
   "execution_count": null,
   "id": "d3870079-3dd6-4291-862d-cba883f3925f",
   "metadata": {},
   "outputs": [],
   "source": []
  }
 ],
 "metadata": {
  "kernelspec": {
   "display_name": "Python 3 (ipykernel)",
   "language": "python",
   "name": "python3"
  },
  "language_info": {
   "codemirror_mode": {
    "name": "ipython",
    "version": 3
   },
   "file_extension": ".py",
   "mimetype": "text/x-python",
   "name": "python",
   "nbconvert_exporter": "python",
   "pygments_lexer": "ipython3",
   "version": "3.12.4"
  }
 },
 "nbformat": 4,
 "nbformat_minor": 5
}
