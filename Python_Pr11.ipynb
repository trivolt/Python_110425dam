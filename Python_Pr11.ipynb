{
 "cells": [
  {
   "cell_type": "markdown",
   "id": "171e3dbb-fbe4-4db9-aefa-91a5091b503e",
   "metadata": {},
   "source": [
    "# Практические задания 11\n",
    "* Лекция 22 - Lambda-функции. Функции высшего порядка\n",
    "* Лекция 23 - Документация. Аннотации типов\n"
   ]
  },
  {
   "cell_type": "markdown",
   "id": "9c1fb6d1-1e29-4ce3-a0d8-e41140a77e2a",
   "metadata": {},
   "source": [
    "#### 0. Аннотации для функций\n",
    "Для каждой из функций, выбранных для решения, добавьте аннотации типов принимаемых и возвращаемых значений функции.\n"
   ]
  },
  {
   "cell_type": "markdown",
   "id": "b4402d73-509a-4aa8-bdcf-c25b71cc53c3",
   "metadata": {},
   "source": [
    "#### 1.1. Фильтрация четных с функцией\n",
    "Напишите функцию-предикат, которая проверяет четный ли переданный элемент. Также напишите функцию, которая принимает функцию-предикат и список чисел. Она должна возвращать новый список, содержащий только элементы, для которых предикат возвращает True.  \n",
    "Данные:  \n",
    "`nums = [1, 2, 3, 4, 5, 6]`  \n",
    "Пример вывода:   \n",
    "`[2, 4, 6]`\n"
   ]
  },
  {
   "cell_type": "code",
   "execution_count": null,
   "id": "21091dbf-8aab-41c8-bc56-dacc337d1d1c",
   "metadata": {},
   "outputs": [],
   "source": []
  },
  {
   "cell_type": "markdown",
   "id": "6f753fb0-397f-48a6-972e-68117778b442",
   "metadata": {},
   "source": [
    "#### 1.2. Фильтрация четных с filter  \n",
    "Выполните те же условия, что в задаче \"Фильтрация списка с функцией\", но решите с помощью filter и lambda.  \n",
    "Данные:   \n",
    "`nums = [1, 2, 3, 4, 5, 6]`  \n",
    "Пример вывода:   \n",
    "`[2, 4, 6]`\n"
   ]
  },
  {
   "cell_type": "code",
   "execution_count": null,
   "id": "74fd1150-f159-4253-b35c-10d51e31187c",
   "metadata": {},
   "outputs": [],
   "source": []
  },
  {
   "cell_type": "markdown",
   "id": "e79f3c06-fd0f-462b-a2fa-5ce763fb3aca",
   "metadata": {},
   "source": [
    "#### 2.1. Фильтрация списка строк  \n",
    "Отфильтруйте в новый список только слова, длина которых больше трех символов. Реализуйте в виде функции.  \n",
    "Данные:   \n",
    "`words = [\"hi\", \"Hello\", \"a\", \"python\", \"Ok\"]`  \n",
    "Пример вывода:   \n",
    "`['Hello', 'python']`\n"
   ]
  },
  {
   "cell_type": "code",
   "execution_count": null,
   "id": "4be7e248-a1ee-4729-9e0a-1d593e558dfb",
   "metadata": {},
   "outputs": [],
   "source": []
  },
  {
   "cell_type": "markdown",
   "id": "1c5c7006-3793-42b3-8afb-4cccbf17d0b1",
   "metadata": {},
   "source": [
    "#### 2.2. Фильтрация списка строк по длине  \n",
    "Доработайте функцию так, чтобы можно было передавать значение минимальной длины слов, которые нужно оставить.   \n",
    "`words = [\"hi\", \"Hello\", \"a\", \"python\", \"Ok\"]`  \n",
    "`min_len = 2`  \n",
    "Пример вывода:  \n",
    "`['hi', 'Hello', 'python', 'Ok']`\n"
   ]
  },
  {
   "cell_type": "code",
   "execution_count": null,
   "id": "179da2d4-05cb-488e-9c6e-6a5c80c9722a",
   "metadata": {},
   "outputs": [],
   "source": []
  },
  {
   "cell_type": "markdown",
   "id": "1433f653-8352-4283-9fca-728e569451db",
   "metadata": {},
   "source": [
    "#### 2.3. Фильтрация списка строк по критерию  \n",
    "Доработайте функцию так, чтобы можно было в виде лямбда-функции передавать критерии отбора слов, которые нужно оставить.  \n",
    "Например:  \n",
    "слова, начинаются с заглавной буквы  \n",
    "слова из одного символа  \n",
    "слова начинаются и заканчиваются одной буквой, независимо от регистра  \n",
    "\n",
    "\n",
    "`words = [\"hi\", \"Hello\", \"a\", \"python\", \"Ok\", \"Radar\"]`  \n",
    "Пример вывода:  \n",
    "```\n",
    "['Hello', 'Ok', 'Radar']\n",
    "['a']\n",
    "['a', 'Radar']\n",
    "```"
   ]
  },
  {
   "cell_type": "code",
   "execution_count": null,
   "id": "68fa7af3-dbd8-482d-bf88-66b916656015",
   "metadata": {},
   "outputs": [],
   "source": []
  },
  {
   "cell_type": "markdown",
   "id": "4222c927-641c-4f4b-b3c7-0a4aca27ecc4",
   "metadata": {},
   "source": [
    "#### 3. Агрегирование списка  \n",
    "Вычислите произведение всех элементов списка с помощью функции высшего порядка.  \n",
    "Данные:   \n",
    "`numbers = [1, 2, 3, 4, 5]`  \n",
    "Пример вывода:   \n",
    "120\n"
   ]
  },
  {
   "cell_type": "code",
   "execution_count": null,
   "id": "7f9f466c-db21-45ca-ba5a-73b06aebcbd8",
   "metadata": {},
   "outputs": [],
   "source": []
  },
  {
   "cell_type": "markdown",
   "id": "aeaed8ad-3c21-41e8-b0e0-b282388f5fdb",
   "metadata": {},
   "source": [
    "#### 4. Сортировка списка по длине  \n",
    "Отсортируйте список слов по длине, используя параметр key.  \n",
    "Данные:  \n",
    "```\n",
    "words = [\"apple\", \"banana\", \"kiwi\", \"grape\"]\n",
    "print(sort_by_length(words))\n",
    "```\n",
    "Пример вывода:   \n",
    "`['kiwi', 'grape', 'apple', 'banana']`\n"
   ]
  },
  {
   "cell_type": "code",
   "execution_count": null,
   "id": "918b2949-7fd9-4d07-ab21-901e5b10b416",
   "metadata": {},
   "outputs": [],
   "source": []
  },
  {
   "cell_type": "markdown",
   "id": "d8505960-f54f-4f5f-b6e5-26d20b02e4b5",
   "metadata": {},
   "source": [
    "#### 5. Очередь с ограничением времени  \n",
    "Реализуйте функцию, которая принимает очередь задач с указанием времени их выполнения и лимит.  \n",
    "Если суммарное время превышает заданный лимит, программа должна удалить из очереди задачи с минимальным временем выполнения, пока лимит не будет соблюдён.\n",
    "Данные:   \n",
    "```\n",
    "tasks = {\"task1\": 5, \"task2\": 3, \"task3\": 7, \"task4\": 2}\n",
    "time_limit = 10\n",
    "```\n",
    "Пример вывода:   \n",
    "Задачи с лимитом по времени:  \n",
    "`{'task3': 7, 'task2': 3}`\n"
   ]
  },
  {
   "cell_type": "code",
   "execution_count": null,
   "id": "8e6ad28a-7f9d-47f3-8f6e-31309970a0bf",
   "metadata": {},
   "outputs": [],
   "source": []
  },
  {
   "cell_type": "markdown",
   "id": "56331297-5c07-4539-866a-34dc86261761",
   "metadata": {},
   "source": [
    "#### 6. Анализ оценок студентов  \n",
    "Дан список студентов с их оценками по разным предметам.  \n",
    "Напишите программу, которая:  \n",
    "Вычисляет среднюю оценку (целое число) для каждого студента.  \n",
    "Возвращает словарь студентов с их средней оценкой, отсортированный по убыванию оценок.  \n",
    "Данные:   \n",
    "```\n",
    "students = [\n",
    "    {\"name\": \"Alice\", \"grades\": [90, 85, 88]},\n",
    "    {\"name\": \"Bob\", \"grades\": [78, 81, 75]},\n",
    "    {\"name\": \"Charlie\", \"grades\": [95, 92, 90]},\n",
    "    {\"name\": \"Diana\", \"grades\": [88, 84, 82]}\n",
    "]\n",
    "```  \n",
    "Пример вывода:   \n",
    "`{'Charlie': 92, 'Alice': 87, 'Diana': 84, 'Bob': 78}`\n"
   ]
  },
  {
   "cell_type": "code",
   "execution_count": null,
   "id": "c2c2a05a-14b0-4f62-98a6-ff7d56add6df",
   "metadata": {},
   "outputs": [],
   "source": []
  },
  {
   "cell_type": "markdown",
   "id": "3798a817-200e-45d3-b4ec-92068a1d8323",
   "metadata": {},
   "source": [
    "#### 7*. Поиск максимального элемента  \n",
    "Отсортируйте слова в списке исходя из суммы порядковых номеров всех символов в слове.  \n",
    "К примеру `\"kiwi\" = ord(\"k\") + ord(\"i\") + ord(\"w\") + ord(\"i\") = 107 + 105 + 119 + 105 = 436.`  \n",
    "Попробуйте решить в одну строку с помощью lambda и функций высшего порядка.  \n",
    "Данные:  \n",
    "`words = [\"banana\", \"kiwi\", \"grapefruit\", \"apple\"]`   \n",
    "Пример вывода:   \n",
    "`['kiwi', 'apple', 'banana', 'grapefruit']`\n"
   ]
  },
  {
   "cell_type": "code",
   "execution_count": null,
   "id": "128d70a5-4a5b-4e9e-a8ba-7ad4ae97f00a",
   "metadata": {},
   "outputs": [],
   "source": []
  },
  {
   "cell_type": "markdown",
   "id": "1aed7def-64c6-47d6-8d92-20c421734f7b",
   "metadata": {},
   "source": [
    "#### 8*. Цепочка шифрования строки  \n",
    "Реализуйте функции:  \n",
    "Преобразуйте все буквы в предложении в верхний регистр.  \n",
    "Зашифруйте строку, сдвинув символы на 5 элементов вправо.  \n",
    "Переверните строку.  \n",
    "Реализуйте функцию шифрования, которая последовательно применит каждую из списка переданных функций к переданной строке.  \n",
    "Данные:   \n",
    "```\n",
    "sentence = \"Functional programming is powerful\"\n",
    "functions = [to_uppercase, shift_encrypt, reverse_string]\n",
    "```\n",
    "Пример вывода:  \n",
    "`QZKWJ\\TU%XN%LSNRRFWLTWU%QFSTNYHSZK`\n"
   ]
  },
  {
   "cell_type": "code",
   "execution_count": null,
   "id": "8a38e1a5-fe77-457e-9102-a0b7deb5cfce",
   "metadata": {},
   "outputs": [],
   "source": []
  }
 ],
 "metadata": {
  "kernelspec": {
   "display_name": "Python 3 (ipykernel)",
   "language": "python",
   "name": "python3"
  },
  "language_info": {
   "codemirror_mode": {
    "name": "ipython",
    "version": 3
   },
   "file_extension": ".py",
   "mimetype": "text/x-python",
   "name": "python",
   "nbconvert_exporter": "python",
   "pygments_lexer": "ipython3",
   "version": "3.12.4"
  }
 },
 "nbformat": 4,
 "nbformat_minor": 5
}
