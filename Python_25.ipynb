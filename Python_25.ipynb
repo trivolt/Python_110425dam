{
 "cells": [
  {
   "cell_type": "markdown",
   "id": "e286b3dd-09ce-4012-813c-16bc676597a3",
   "metadata": {},
   "source": [
    "# Исключения: обработка ошибок"
   ]
  },
  {
   "cell_type": "markdown",
   "id": "3310012a-3ace-445e-9152-6122fa6e55f5",
   "metadata": {},
   "source": [
    "## Исключения\n",
    "Исключения (exceptions) – это события, возникающие во время выполнения программы, которые сигнализируют об ошибочной ситуации, но могут быть обработаны, чтобы программа продолжила выполнение.\n",
    "### Примеры исключений  \n",
    "* ZeroDivisionError – деление на ноль  \n",
    "`print(10 / 0)`\n",
    "* ValueError – ошибка значения  \n",
    "`int(\"abc\")`\n",
    "* KeyError – обращение к несуществующему ключу словаря  )"
   ]
  },
  {
   "cell_type": "code",
   "execution_count": 34,
   "id": "00da216a-5834-463e-b2d0-e9279f7f5bb0",
   "metadata": {},
   "outputs": [
    {
     "ename": "KeyError",
     "evalue": "'b'",
     "output_type": "error",
     "traceback": [
      "\u001b[1;31m---------------------------------------------------------------------------\u001b[0m",
      "\u001b[1;31mKeyError\u001b[0m                                  Traceback (most recent call last)",
      "Cell \u001b[1;32mIn[34], line 2\u001b[0m\n\u001b[0;32m      1\u001b[0m info \u001b[38;5;241m=\u001b[39m {\u001b[38;5;124m\"\u001b[39m\u001b[38;5;124ma\u001b[39m\u001b[38;5;124m\"\u001b[39m: \u001b[38;5;241m1\u001b[39m}\n\u001b[1;32m----> 2\u001b[0m \u001b[38;5;28mprint\u001b[39m(info[\u001b[38;5;124m\"\u001b[39m\u001b[38;5;124mb\u001b[39m\u001b[38;5;124m\"\u001b[39m])\n",
      "\u001b[1;31mKeyError\u001b[0m: 'b'"
     ]
    }
   ],
   "source": [
    "info = {\"a\": 1}\n",
    "print(info[\"b\"])"
   ]
  },
  {
   "cell_type": "markdown",
   "id": "3cdeda04-22a2-4e96-aa93-78220cce33e6",
   "metadata": {},
   "source": [
    "### Зачем нужна обработка исключений?\n",
    "* Улучшение стабильности программы: Позволяет программе продолжать работу после возникновения ошибки.\n",
    "* Улучшение пользовательского опыта: Предоставляет понятные сообщения об ошибках вместо стандартных.\n",
    "* Отладка: Помогает обнаруживать и исправлять ошибки в коде на ранних этапах разработки.\n"
   ]
  },
  {
   "cell_type": "markdown",
   "id": "d13a1e7d-ba91-43b2-a171-b3bc285182d4",
   "metadata": {},
   "source": [
    "### Как Python реагирует на ошибки?\n",
    "1. Когда в программе возникает ошибка:\n",
    "   * Python создаёт объект исключения, который содержит:\n",
    "   * Тип исключения (например, ValueError, TypeError)\n",
    "   * Сообщение об ошибке, описывающее проблему\n",
    "   * Трассировку (traceback), указывающую, где ошибка произошла\n",
    "2. Если исключение не обработано, программа завершает выполнение, выводя трейсбэк (информацию об ошибке).\n"
   ]
  },
  {
   "cell_type": "code",
   "execution_count": 35,
   "id": "9f4b2cfd-1101-4a63-b8f2-c7ee1a292259",
   "metadata": {},
   "outputs": [
    {
     "ename": "ZeroDivisionError",
     "evalue": "division by zero",
     "output_type": "error",
     "traceback": [
      "\u001b[1;31m---------------------------------------------------------------------------\u001b[0m",
      "\u001b[1;31mZeroDivisionError\u001b[0m                         Traceback (most recent call last)",
      "Cell \u001b[1;32mIn[35], line 1\u001b[0m\n\u001b[1;32m----> 1\u001b[0m \u001b[38;5;28mprint\u001b[39m(\u001b[38;5;241m10\u001b[39m \u001b[38;5;241m/\u001b[39m \u001b[38;5;241m0\u001b[39m)\n",
      "\u001b[1;31mZeroDivisionError\u001b[0m: division by zero"
     ]
    }
   ],
   "source": [
    "print(10 / 0)  # Ошибка: ZeroDivisionError"
   ]
  },
  {
   "cell_type": "markdown",
   "id": "901ed0c6-cc3a-484c-8055-1ab7ad065681",
   "metadata": {},
   "source": [
    "### Иерархия исключений\n",
    "В Python все исключения происходят от базового класса BaseException, однако для обработки ошибок используется иерархия, начинающаяся с Exception. Исключения ниже являются наиболее часто используемыми и наследуются от этого класса.\n",
    "Для изучения всех встроенных исключений и их иерархии в Python можно обратиться к официальной документации:\n",
    "* [Официальная документация Python: Исключения](https://docs.python.org/3/library/exceptions.html#exception-hierarchy)\n",
    " \n",
    "***Основные ветви иерархии:***  \n",
    "1. BaseException: Базовый класс для всех исключений.\n",
    "2. Exception: Базовый класс для исключений, которые можно обработать. Основные подклассы:\n",
    "   * ArithmeticError: базовый класс для арифметических ошибок.\n",
    "      * ZeroDivisionError\n",
    "      * OverflowError\n",
    "   * LookupError: базовый класс для ошибок поиска.\n",
    "      * IndexError\n",
    "      * KeyError\n",
    "   * OSError: базовый класс для ошибок ввода/вывода.\n",
    "      * FileNotFoundError\n",
    "      * PermissionError\n",
    "   * ImportError и его подкласс ModuleNotFoundError.\n",
    "   * RuntimeError, включая RecursionError.\n",
    "   * TypeError, ValueError, AttributeError и другие.\n",
    "     \n",
    "Ветви SystemExit, KeyboardInterrupt и GeneratorExit наследуются от BaseException, но не обрабатываются как обычные исключения.\n"
   ]
  },
  {
   "cell_type": "markdown",
   "id": "386cc133-a9ca-45bf-9b49-01aa96dfc179",
   "metadata": {},
   "source": [
    "## Обработка исключений\n",
    "Обработка исключений позволяет перехватывать ошибки, возникающие во время выполнения программы, чтобы предотвратить её аварийное завершение. Для этого используется конструкция try-except.\n",
    "### Конструкция try-except\n",
    "***try-except*** – это базовый механизм обработки исключений, который позволяет перехватывать ошибки во время выполнения программы и предотвращать её аварийное завершение.  \n",
    "***Синтаксис:***   \n",
    "```\n",
    "try:\n",
    "    # Код, который может вызвать исключение\n",
    "except ExceptionType:\n",
    "    # Код, который выполнится в случае исключения\n",
    "```\n",
    "`ExceptionType` – это тип исключения, который вы хотите обработать (например, ZeroDivisionError, ValueError и т.д.).\n"
   ]
  },
  {
   "cell_type": "code",
   "execution_count": 36,
   "id": "e7f82645-47fd-43a7-b8b5-98f0aa0fe037",
   "metadata": {},
   "outputs": [
    {
     "name": "stdout",
     "output_type": "stream",
     "text": [
      "Ошибка: деление на ноль!\n"
     ]
    }
   ],
   "source": [
    "try:\n",
    "    result = 10 / 0  # Возникает ZeroDivisionError\n",
    "    # Следующий код не достижим при ошибке\n",
    "    print(\"Деление выполнено успешно!\")  \n",
    "    print(result)\n",
    "except ZeroDivisionError:\n",
    "    print(\"Ошибка: деление на ноль!\")\n"
   ]
  },
  {
   "cell_type": "code",
   "execution_count": 37,
   "id": "c46f9644-5a0f-4d7f-beca-9160216bc855",
   "metadata": {},
   "outputs": [
    {
     "ename": "ZeroDivisionError",
     "evalue": "division by zero",
     "output_type": "error",
     "traceback": [
      "\u001b[1;31m---------------------------------------------------------------------------\u001b[0m",
      "\u001b[1;31mZeroDivisionError\u001b[0m                         Traceback (most recent call last)",
      "Cell \u001b[1;32mIn[37], line 1\u001b[0m\n\u001b[1;32m----> 1\u001b[0m result \u001b[38;5;241m=\u001b[39m \u001b[38;5;241m10\u001b[39m \u001b[38;5;241m/\u001b[39m \u001b[38;5;241m0\u001b[39m  \u001b[38;5;66;03m# Возникает ZeroDivisionError\u001b[39;00m\n\u001b[0;32m      2\u001b[0m \u001b[38;5;66;03m# Следующий код не достижим при ошибке\u001b[39;00m\n\u001b[0;32m      3\u001b[0m \u001b[38;5;28mprint\u001b[39m(\u001b[38;5;124m\"\u001b[39m\u001b[38;5;124mДеление выполнено успешно!\u001b[39m\u001b[38;5;124m\"\u001b[39m)  \n",
      "\u001b[1;31mZeroDivisionError\u001b[0m: division by zero"
     ]
    }
   ],
   "source": [
    "result = 10 / 0  # Возникает ZeroDivisionError\n",
    "# Следующий код не достижим при ошибке\n",
    "print(\"Деление выполнено успешно!\")  \n",
    "print(result)"
   ]
  },
  {
   "cell_type": "markdown",
   "id": "f3538de7-652e-4da3-b0a5-46c32388eb41",
   "metadata": {},
   "source": [
    "### Как Python выбирает обработчик исключений?\n",
    "1. Python проверяет обработчики except сверху вниз.\n",
    "   * Когда возникает исключение, Python идёт по списку обработчиков и выбирает первый подходящий.\n",
    "2. Первый совпавший блок except выполняется, а остальные игнорируются.\n"
   ]
  },
  {
   "cell_type": "code",
   "execution_count": 44,
   "id": "41bae322-2259-48a5-aada-a32c05d2ed31",
   "metadata": {},
   "outputs": [
    {
     "name": "stdin",
     "output_type": "stream",
     "text": [
      "Введите ненулевое число:  hbgf\n"
     ]
    },
    {
     "ename": "ValueError",
     "evalue": "invalid literal for int() with base 10: 'hbgf'",
     "output_type": "error",
     "traceback": [
      "\u001b[1;31m---------------------------------------------------------------------------\u001b[0m",
      "\u001b[1;31mValueError\u001b[0m                                Traceback (most recent call last)",
      "Cell \u001b[1;32mIn[44], line 2\u001b[0m\n\u001b[0;32m      1\u001b[0m user_input \u001b[38;5;241m=\u001b[39m \u001b[38;5;28minput\u001b[39m(\u001b[38;5;124m\"\u001b[39m\u001b[38;5;124mВведите ненулевое число: \u001b[39m\u001b[38;5;124m\"\u001b[39m)\n\u001b[1;32m----> 2\u001b[0m result \u001b[38;5;241m=\u001b[39m \u001b[38;5;241m10\u001b[39m \u001b[38;5;241m/\u001b[39m \u001b[38;5;28mint\u001b[39m(user_input)\n\u001b[0;32m      3\u001b[0m \u001b[38;5;28mprint\u001b[39m(\u001b[38;5;124mf\u001b[39m\u001b[38;5;124m\"\u001b[39m\u001b[38;5;124mРезультат: \u001b[39m\u001b[38;5;132;01m{\u001b[39;00mresult\u001b[38;5;132;01m}\u001b[39;00m\u001b[38;5;124m\"\u001b[39m)\n",
      "\u001b[1;31mValueError\u001b[0m: invalid literal for int() with base 10: 'hbgf'"
     ]
    }
   ],
   "source": [
    "user_input = input(\"Введите ненулевое число: \")\n",
    "result = 10 / int(user_input)\n",
    "print(f\"Результат: {result}\")"
   ]
  },
  {
   "cell_type": "code",
   "execution_count": 40,
   "id": "10d5af4a-377a-4a6b-8634-6b2c15c0494b",
   "metadata": {},
   "outputs": [
    {
     "name": "stdin",
     "output_type": "stream",
     "text": [
      "Введите ненулевое число:  12\n"
     ]
    },
    {
     "name": "stdout",
     "output_type": "stream",
     "text": [
      "Результат: 0.8333333333333334\n"
     ]
    }
   ],
   "source": [
    "try:\n",
    "    user_input = input(\"Введите ненулевое число: \")\n",
    "    result = 10 / int(user_input) # Может возникнуть ZeroDivisionError, # Может возникнуть ValueError\n",
    "    print(f\"Результат: {result}\")\n",
    "except ValueError:\n",
    "    print(\"Некорректное значение!\")  # Пропускается, если ошибка не ValueError\n",
    "except ZeroDivisionError:\n",
    "    print(\"Ошибка деления на ноль!\") # Этот блок выполнится, если ошибка ZeroDivisionError\n"
   ]
  },
  {
   "cell_type": "markdown",
   "id": "3f04f43c-ef9d-42db-b37b-ebde583a8976",
   "metadata": {},
   "source": [
    "3. Если нет подходящего обработчика, программа завершает работу с ошибкой.\n"
   ]
  },
  {
   "cell_type": "code",
   "execution_count": 45,
   "id": "a6ee50bc-600f-4b28-9e45-9598a5d7fc61",
   "metadata": {},
   "outputs": [
    {
     "ename": "ZeroDivisionError",
     "evalue": "division by zero",
     "output_type": "error",
     "traceback": [
      "\u001b[1;31m---------------------------------------------------------------------------\u001b[0m",
      "\u001b[1;31mZeroDivisionError\u001b[0m                         Traceback (most recent call last)",
      "Cell \u001b[1;32mIn[45], line 2\u001b[0m\n\u001b[0;32m      1\u001b[0m \u001b[38;5;28;01mtry\u001b[39;00m:\n\u001b[1;32m----> 2\u001b[0m     result \u001b[38;5;241m=\u001b[39m \u001b[38;5;241m10\u001b[39m \u001b[38;5;241m/\u001b[39m \u001b[38;5;241m0\u001b[39m  \u001b[38;5;66;03m# Возникает ZeroDivisionError\u001b[39;00m\n\u001b[0;32m      3\u001b[0m \u001b[38;5;28;01mexcept\u001b[39;00m \u001b[38;5;167;01mIndexError\u001b[39;00m:\n\u001b[0;32m      4\u001b[0m     \u001b[38;5;28mprint\u001b[39m(\u001b[38;5;124m\"\u001b[39m\u001b[38;5;124mИндекс вне диапазона!\u001b[39m\u001b[38;5;124m\"\u001b[39m)  \u001b[38;5;66;03m# Пропускается\u001b[39;00m\n",
      "\u001b[1;31mZeroDivisionError\u001b[0m: division by zero"
     ]
    }
   ],
   "source": [
    "try:\n",
    "    result = 10 / 0  # Возникает ZeroDivisionError\n",
    "except IndexError:\n",
    "    print(\"Индекс вне диапазона!\")  # Пропускается\n",
    "except KeyError:\n",
    "    print(\"Ключ не существует!\")  # Пропускается"
   ]
  },
  {
   "cell_type": "markdown",
   "id": "b408b200-0800-48c1-a175-94574348dc95",
   "metadata": {},
   "source": [
    "4. Общий обработчик Exception перехватывает все исключения, если они не были обработаны ранее."
   ]
  },
  {
   "cell_type": "code",
   "execution_count": 46,
   "id": "724056c5-64f3-4607-91f5-501c2b7dd068",
   "metadata": {},
   "outputs": [
    {
     "name": "stdout",
     "output_type": "stream",
     "text": [
      "Ошибка обработки!\n"
     ]
    }
   ],
   "source": [
    "try:\n",
    "    result = 10 / 0  # Возникает ZeroDivisionError\n",
    "except IndexError:\n",
    "    print(\"Индекс вне диапазона!\")  # Пропускается\n",
    "except KeyError:\n",
    "    print(\"Ключ не существует!\")  # Пропускается\n",
    "except Exception:\n",
    "    print(\"Ошибка обработки!\")  # Выполнится, так как `Exception` перехватывает `ZeroDivisionError`\n"
   ]
  },
  {
   "cell_type": "markdown",
   "id": "2ca5617a-6e92-486b-bf52-c3d8957d78b4",
   "metadata": {},
   "source": [
    "5. Exception нужно ставить в конце.\n",
    "* Если except Exception будет раньше, он перехватит все исключения, не дав сработать более специфичным обработчикам.\n"
   ]
  },
  {
   "cell_type": "code",
   "execution_count": null,
   "id": "5c2aa93a-46db-401e-b521-84800f41838e",
   "metadata": {},
   "outputs": [],
   "source": [
    "try:\n",
    "    result = 10 / 0\n",
    "except Exception:  # Перехватывает всё, обработчики ниже не сработают\n",
    "    print(\"Ошибка обработки!\")  \n",
    "except ZeroDivisionError:\n",
    "    print(\"Ошибка деления на ноль!\")  # Этот код недостижим\n"
   ]
  },
  {
   "cell_type": "markdown",
   "id": "2f12e031-bbc1-468d-9865-b0bb9a5f7a9f",
   "metadata": {},
   "source": [
    "## Обработка нескольких исключений в одном блоке\n",
    "Python позволяет обрабатывать несколько типов исключений в одном блоке except, используя кортеж из типов исключений.  \n",
    "***Синтаксис:***  \n",
    "```\n",
    "try:\n",
    "    # Код, который может вызвать исключение\n",
    "except (ExceptionType1, ExceptionType2):\n",
    "    # Код, который выполнится в случае любого из указанных исключений\n",
    "```"
   ]
  },
  {
   "cell_type": "code",
   "execution_count": 3,
   "id": "88f28a8b-78ba-48ed-84e2-abc7b36a7eca",
   "metadata": {},
   "outputs": [
    {
     "name": "stdin",
     "output_type": "stream",
     "text": [
      "Введите ненулевое число:  er\n"
     ]
    },
    {
     "name": "stdout",
     "output_type": "stream",
     "text": [
      "Ошибка! invalid literal for int() with base 10: 'er' Введите корректное ненулевое число.\n"
     ]
    },
    {
     "name": "stdin",
     "output_type": "stream",
     "text": [
      "Введите ненулевое число:  0\n"
     ]
    },
    {
     "name": "stdout",
     "output_type": "stream",
     "text": [
      "Ошибка! division by zero Введите корректное ненулевое число.\n"
     ]
    },
    {
     "name": "stdin",
     "output_type": "stream",
     "text": [
      "Введите ненулевое число:  4\n"
     ]
    },
    {
     "name": "stdout",
     "output_type": "stream",
     "text": [
      "Результат: 2.5\n"
     ]
    }
   ],
   "source": [
    "while True:\n",
    "    try:\n",
    "        user_input = input(\"Введите ненулевое число: \")\n",
    "        result = 10 / int(user_input)\n",
    "        print(f\"Результат: {result}\")\n",
    "        break  # Выход из цикла, если ошибок не было\n",
    "    except (ZeroDivisionError, ValueError) as e:\n",
    "        # Просим пользователя повторить ввод\n",
    "        print(f\"Ошибка! {e} Введите корректное ненулевое число.\")\n"
   ]
  },
  {
   "cell_type": "markdown",
   "id": "173c67f9-5906-4868-b413-2309894df8fe",
   "metadata": {},
   "source": [
    "### Сообщение об ошибке\n",
    "Для уточнения причины исключения можно присвоить объект исключения переменной.\n"
   ]
  },
  {
   "cell_type": "code",
   "execution_count": null,
   "id": "417e355d-3b79-4b1a-8a72-930c968ee50a",
   "metadata": {},
   "outputs": [],
   "source": [
    "try:\n",
    "    # Попытка преобразования строки в число\n",
    "    number = int(\"abc\")\n",
    "except (ZeroDivisionError, ValueError) as e:\n",
    "    # Выводим текст исключения\n",
    "    print(f\"Произошла ошибка: {e}\")"
   ]
  },
  {
   "cell_type": "code",
   "execution_count": null,
   "id": "742a1653-172f-40dd-85e2-d1589c2524e8",
   "metadata": {},
   "outputs": [],
   "source": []
  },
  {
   "cell_type": "code",
   "execution_count": null,
   "id": "bdfcd630-2cb6-4d3f-afdf-ff5f2b043755",
   "metadata": {},
   "outputs": [],
   "source": [
    "#Какой результат будет выведен при выполнении следующего кода?\n",
    "try:\n",
    "    x = 1 / 0\n",
    "except Exception:\n",
    "    print(\"Общее исключение\")\n",
    "except ZeroDivisionError:\n",
    "    print(\"Ошибка деления на ноль\")\n"
   ]
  },
  {
   "cell_type": "markdown",
   "id": "f49ff9e8-3ff8-4cbd-bae9-97b145863263",
   "metadata": {},
   "source": [
    "## Конструкция try-except-else\n",
    "else в конструкции try-except используется для выполнения кода, который должен быть выполнен только если исключение не возникло в блоке try.  \n",
    "***Синтаксис:***  \n",
    "\n",
    "```\n",
    "try:\n",
    "    # Код, который может вызвать исключение\n",
    "except ExceptionType:\n",
    "    # Код, который выполнится при возникновении исключения\n",
    "else:\n",
    "    # Код, который выполнится, если исключение НЕ возникло\n",
    "```"
   ]
  },
  {
   "cell_type": "code",
   "execution_count": 49,
   "id": "98a41efe-f7a8-477c-9111-b616045f62fb",
   "metadata": {},
   "outputs": [
    {
     "name": "stdin",
     "output_type": "stream",
     "text": [
      "Введите число:  isjnb\n"
     ]
    },
    {
     "name": "stdout",
     "output_type": "stream",
     "text": [
      "Ошибка! Введите корректное число.\n"
     ]
    }
   ],
   "source": [
    "try:\n",
    "    # Преобразование строки в число\n",
    "    number = int(input(\"Введите число: \"))\n",
    "except ValueError:\n",
    "    # Обработка некорректного ввода\n",
    "    print(\"Ошибка! Введите корректное число.\")\n",
    "else:\n",
    "    # Выполняется только если исключения не было\n",
    "    print(f\"Вы ввели число: {number}\")"
   ]
  },
  {
   "cell_type": "markdown",
   "id": "efd29a1c-33c4-4c6e-a565-14abc6017f16",
   "metadata": {},
   "source": [
    "### Зачем использовать else?  \n",
    "* Код в блоке else явно отделён от кода, который может вызвать исключение.\n",
    "* Это улучшает читаемость программы.\n",
    "* Позволяет избежать выполнения дополнительных операций в случае ошибки.\n",
    "  \n",
    "Включайте в блок try только необходимый код, который может вызвать исключение:\n",
    "* Это улучшает читаемость.\n",
    "* Упрощает отладку.\n",
    "* Позволяет точнее обрабатывать исключения.\n"
   ]
  },
  {
   "cell_type": "markdown",
   "id": "a79cb2ab-9d8f-42e4-8d5d-1ea1b344aba4",
   "metadata": {},
   "source": [
    "Пример: Использование else для разделения логики\n"
   ]
  },
  {
   "cell_type": "code",
   "execution_count": 51,
   "id": "c15a960e-f835-44cd-b7a4-d8d322656e1c",
   "metadata": {},
   "outputs": [
    {
     "name": "stdin",
     "output_type": "stream",
     "text": [
      "Введите число:  sfgb\n"
     ]
    },
    {
     "name": "stdout",
     "output_type": "stream",
     "text": [
      "Ошибка! Введите корректное число.\n"
     ]
    }
   ],
   "source": [
    "try:\n",
    "    # Проверка числа на чётность\n",
    "    number = int(input(\"Введите число: \"))\n",
    "except ValueError:\n",
    "    # Обработка некорректного ввода\n",
    "    print(\"Ошибка! Введите корректное число.\")\n",
    "else:\n",
    "    # Выполняется только если число успешно введено\n",
    "    if number % 2 == 0:\n",
    "        print(f\"{number} – чётное число.\")\n",
    "    else:\n",
    "        print(f\"{number} – нечётное число.\")\n"
   ]
  },
  {
   "cell_type": "markdown",
   "id": "282fb535-c924-46de-80b6-a5af561c8bdf",
   "metadata": {},
   "source": [
    "### Конструкция try-except-finally\n",
    "***finally*** – это блок, который выполняется всегда, независимо от того, возникло ли исключение в блоке try.   \n",
    "Он используется для завершения операций, которые должны быть выполнены в любом случае (например, закрытие соединений, файлов, освобождение памяти).\n",
    "***Синтаксис:***   \n",
    "```\n",
    "try:\n",
    "    # Код, который может вызвать исключение\n",
    "except ExceptionType:\n",
    "    # Код, который выполнится при возникновении исключения\n",
    "finally:\n",
    "    # Код, который выполнится всегда, независимо от исключений\n",
    "```"
   ]
  },
  {
   "cell_type": "code",
   "execution_count": 54,
   "id": "1351799a-e681-4d4a-b672-6b761f9e63a4",
   "metadata": {},
   "outputs": [
    {
     "name": "stdin",
     "output_type": "stream",
     "text": [
      "Введите число:  0\n"
     ]
    },
    {
     "name": "stdout",
     "output_type": "stream",
     "text": [
      "Ошибка! Деление на ноль.\n",
      "Завершение программы.\n"
     ]
    }
   ],
   "source": [
    "try:\n",
    "    # Преобразуем строку в число\n",
    "    number = int(input(\"Введите число: \"))\n",
    "    result = 10 / number\n",
    "except ValueError:\n",
    "    # Обработка некорректного ввода\n",
    "    print(\"Ошибка! Введите корректное число.\")\n",
    "except ZeroDivisionError:\n",
    "    # Обработка деления на ноль\n",
    "    print(\"Ошибка! Деление на ноль.\")\n",
    "finally:\n",
    "    # Этот код выполнится в любом случае\n",
    "    print(\"Завершение программы.\")"
   ]
  },
  {
   "cell_type": "markdown",
   "id": "d761a7a7-d7ac-4077-96f0-d372d2b327d3",
   "metadata": {},
   "source": [
    "## Конструкция try-except-else-finally\n",
    "Эта конструкция объединяет все блоки обработки исключений и завершения:\n",
    "* try: Выполняется код, который может вызвать исключение.\n",
    "* except: Выполняется, если в блоке try возникает исключение.\n",
    "* else: Выполняется, если в блоке try не возникло исключений.\n",
    "* finally: Выполняется в любом случае, независимо от того, было исключение или нет.\n"
   ]
  },
  {
   "cell_type": "code",
   "execution_count": null,
   "id": "8f0aa0de-3c9d-48fa-a4c2-0a683ad13cfb",
   "metadata": {},
   "outputs": [],
   "source": [
    "try:\n",
    "    # Попытка преобразовать строку в число и выполнить деление\n",
    "    number = int(input(\"Введите число: \"))\n",
    "    result = 10 / number\n",
    "except ValueError:\n",
    "    # Обработка некорректного ввода\n",
    "    print(\"Ошибка: введено некорректное значение.\")\n",
    "except ZeroDivisionError:\n",
    "    # Обработка деления на ноль\n",
    "    print(\"Ошибка: деление на ноль.\")\n",
    "else:\n",
    "    # Выполняется только если исключений не было\n",
    "    print(f\"Результат деления: {result}\")\n",
    "finally:\n",
    "    # Завершающие действия\n",
    "    print(\"Программа завершена.\")\n"
   ]
  },
  {
   "cell_type": "markdown",
   "id": "1fd684a5-1cf3-464d-afee-e19763d1a962",
   "metadata": {},
   "source": [
    "## Ключевое слово raise\n",
    "***raise*** используется для явного вызова исключений в Python. Это даёт возможность разработчику вручную вызвать исключение в любой части программы, чтобы указать на возникшую проблему.  \n",
    "***Синтаксис:***  \n",
    "`raise ExceptionType(\"Сообщение об ошибке\")`\n",
    "* ExceptionType – тип исключения, который вы хотите вызвать (например, ValueError, TypeError или пользовательское исключение).\n",
    "* \"Сообщение об ошибке\" – пояснение причины исключения (опционально).\n"
   ]
  },
  {
   "cell_type": "code",
   "execution_count": 55,
   "id": "21bff2b1-b6d9-4f78-893c-3b443d2207cd",
   "metadata": {},
   "outputs": [
    {
     "ename": "ValueError",
     "evalue": "Число не может быть отрицательным",
     "output_type": "error",
     "traceback": [
      "\u001b[1;31m---------------------------------------------------------------------------\u001b[0m",
      "\u001b[1;31mValueError\u001b[0m                                Traceback (most recent call last)",
      "Cell \u001b[1;32mIn[55], line 3\u001b[0m\n\u001b[0;32m      1\u001b[0m number \u001b[38;5;241m=\u001b[39m \u001b[38;5;241m-\u001b[39m\u001b[38;5;241m1\u001b[39m\n\u001b[0;32m      2\u001b[0m \u001b[38;5;28;01mif\u001b[39;00m number \u001b[38;5;241m<\u001b[39m \u001b[38;5;241m0\u001b[39m:\n\u001b[1;32m----> 3\u001b[0m     \u001b[38;5;28;01mraise\u001b[39;00m \u001b[38;5;167;01mValueError\u001b[39;00m(\u001b[38;5;124m\"\u001b[39m\u001b[38;5;124mЧисло не может быть отрицательным\u001b[39m\u001b[38;5;124m\"\u001b[39m)\n",
      "\u001b[1;31mValueError\u001b[0m: Число не может быть отрицательным"
     ]
    }
   ],
   "source": [
    "number = -1\n",
    "if number < 0:\n",
    "    raise ValueError(\"Число не может быть отрицательным\")\n"
   ]
  },
  {
   "cell_type": "code",
   "execution_count": 56,
   "id": "b0a355c4-7faf-4417-8a23-2e26ab7f5b93",
   "metadata": {},
   "outputs": [
    {
     "ename": "ValueError",
     "evalue": "",
     "output_type": "error",
     "traceback": [
      "\u001b[1;31m---------------------------------------------------------------------------\u001b[0m",
      "\u001b[1;31mValueError\u001b[0m                                Traceback (most recent call last)",
      "Cell \u001b[1;32mIn[56], line 3\u001b[0m\n\u001b[0;32m      1\u001b[0m number \u001b[38;5;241m=\u001b[39m \u001b[38;5;241m-\u001b[39m\u001b[38;5;241m1\u001b[39m\n\u001b[0;32m      2\u001b[0m \u001b[38;5;28;01mif\u001b[39;00m number \u001b[38;5;241m<\u001b[39m \u001b[38;5;241m0\u001b[39m:\n\u001b[1;32m----> 3\u001b[0m     \u001b[38;5;28;01mraise\u001b[39;00m \u001b[38;5;167;01mValueError\u001b[39;00m()\n",
      "\u001b[1;31mValueError\u001b[0m: "
     ]
    }
   ],
   "source": [
    "number = -1\n",
    "if number < 0:\n",
    "    raise ValueError()"
   ]
  },
  {
   "cell_type": "markdown",
   "id": "9795a3e9-e8b1-4fd6-bb63-0bbfdc6fd07e",
   "metadata": {},
   "source": [
    "### Что делать дальше после raise?\n",
    "Когда исключение вызывается с помощью raise, программа останавливает выполнение, если это исключение не перехвачено.\n",
    "После использования raise:\n",
    "1. Либо перехватите исключение с помощью try-except и обработайте его.\n",
    "2. Либо позвольте программе завершиться, чтобы пользователь увидел информацию об ошибке.\n"
   ]
  },
  {
   "cell_type": "code",
   "execution_count": 58,
   "id": "3c78a2c0-a2e7-4075-947d-583a70ec4ca5",
   "metadata": {},
   "outputs": [
    {
     "name": "stdin",
     "output_type": "stream",
     "text": [
      "Введите положительное число:  -2\n"
     ]
    },
    {
     "name": "stdout",
     "output_type": "stream",
     "text": [
      "Ошибка: Число не может быть отрицательным. Попробуйте снова.\n"
     ]
    },
    {
     "name": "stdin",
     "output_type": "stream",
     "text": [
      "Введите положительное число:  4\n"
     ]
    },
    {
     "name": "stdout",
     "output_type": "stream",
     "text": [
      "Вы ввели корректное число: 4\n"
     ]
    }
   ],
   "source": [
    "while True:\n",
    "    try:\n",
    "        # Ввод числа пользователем\n",
    "        number = int(input(\"Введите положительное число: \"))\n",
    "        if number < 0:\n",
    "            raise ValueError(\"Число не может быть отрицательным\")\n",
    "        print(f\"Вы ввели корректное число: {number}\")\n",
    "        break  # Завершаем цикл, если число корректное\n",
    "    except ValueError as e:\n",
    "        # Обработка некорректного ввода\n",
    "        print(f\"Ошибка: {e}. Попробуйте снова.\")\n"
   ]
  },
  {
   "cell_type": "code",
   "execution_count": 59,
   "id": "c1153919-fcd1-4e67-a9ab-38fe38ea7c58",
   "metadata": {},
   "outputs": [
    {
     "name": "stdin",
     "output_type": "stream",
     "text": [
      "Введите положительное число:  dsf\n"
     ]
    },
    {
     "name": "stdout",
     "output_type": "stream",
     "text": [
      "Ошибка. Попробуйте снова.\n"
     ]
    },
    {
     "name": "stdin",
     "output_type": "stream",
     "text": [
      "Введите положительное число:  4\n"
     ]
    },
    {
     "name": "stdout",
     "output_type": "stream",
     "text": [
      "Вы ввели корректное число: 4\n"
     ]
    }
   ],
   "source": [
    "while True:\n",
    "    try:\n",
    "        # Ввод числа пользователем\n",
    "        number = int(input(\"Введите положительное число: \"))\n",
    "        if number < 0:\n",
    "            raise ValueError(\"Число не может быть отрицательным\")\n",
    "        print(f\"Вы ввели корректное число: {number}\")\n",
    "        break  # Завершаем цикл, если число корректное\n",
    "    except ValueError:\n",
    "        # Обработка некорректного ввода\n",
    "        print(f\"Ошибка. Попробуйте снова.\")"
   ]
  },
  {
   "cell_type": "code",
   "execution_count": 1,
   "id": "7f94c2c6-cccc-454f-bcf9-c206c739d44d",
   "metadata": {},
   "outputs": [
    {
     "name": "stdin",
     "output_type": "stream",
     "text": [
      "Введите положительное число:  -2\n"
     ]
    },
    {
     "name": "stdout",
     "output_type": "stream",
     "text": [
      "Ошибка: Число не может быть отрицательным. Попробуйте снова.\n"
     ]
    },
    {
     "name": "stdin",
     "output_type": "stream",
     "text": [
      "Введите положительное число:  3\n"
     ]
    },
    {
     "name": "stdout",
     "output_type": "stream",
     "text": [
      "Вы ввели корректное число: 3\n"
     ]
    }
   ],
   "source": [
    "while True:\n",
    "    try:\n",
    "        # Ввод числа пользователем\n",
    "        number = int(input(\"Введите положительное число: \"))\n",
    "        if number < 0:\n",
    "            raise ValueError(\"Число не может быть отрицательным\")\n",
    "        print(f\"Вы ввели корректное число: {number}\")\n",
    "        break  # Завершаем цикл, если число корректное\n",
    "    except ValueError as q:\n",
    "        # Обработка некорректного ввода\n",
    "        print(f\"Ошибка: {q}. Попробуйте снова.\")"
   ]
  },
  {
   "cell_type": "code",
   "execution_count": 2,
   "id": "86b10469-509e-48c8-8fd0-cff3018f56d0",
   "metadata": {},
   "outputs": [
    {
     "ename": "NameError",
     "evalue": "name 'q' is not defined",
     "output_type": "error",
     "traceback": [
      "\u001b[1;31m---------------------------------------------------------------------------\u001b[0m",
      "\u001b[1;31mNameError\u001b[0m                                 Traceback (most recent call last)",
      "Cell \u001b[1;32mIn[2], line 1\u001b[0m\n\u001b[1;32m----> 1\u001b[0m q\n",
      "\u001b[1;31mNameError\u001b[0m: name 'q' is not defined"
     ]
    }
   ],
   "source": [
    "q"
   ]
  },
  {
   "cell_type": "code",
   "execution_count": null,
   "id": "4821f862-6e04-4f26-b92b-0b6e270b8e93",
   "metadata": {},
   "outputs": [],
   "source": [
    "#Какой результат будет выведен при выполнении следующего кода?\n",
    "try:\n",
    "    print(\"До исключения\", end=\" | \")\n",
    "    raise ValueError(\"Ошибка!\")\n",
    "    print(\"После исключения\", end=\" | \")\n",
    "except ValueError as e:\n",
    "    print(f\"Перехвачено исключение: {e}\")\n"
   ]
  },
  {
   "cell_type": "markdown",
   "id": "96f352ab-48d3-4076-b8e1-d9487d1bbd4b",
   "metadata": {},
   "source": [
    "# Логирование\n",
    "Логирование — это процесс записи информации о работе программы, включая ошибки, предупреждения и отладочные сообщения. В Python для этого используется встроенный модуль logging, который позволяет выводить сообщения разного уровня важности в консоль или файлы.\n"
   ]
  },
  {
   "cell_type": "markdown",
   "id": "a558d946-00ad-4441-af52-4ba4d7eea3d7",
   "metadata": {},
   "source": [
    "### Основы логирования\n",
    "Модуль поддерживает 5 уровней логирования (от менее серьёзных к более критичным):\n"
   ]
  },
  {
   "attachments": {
    "03fa7b9d-ceb2-40be-9000-0b02253e1f15.png": {
     "image/png": "[encoded data removed]"
    }
   },
   "cell_type": "markdown",
   "id": "34fdf1a8-ed54-43da-97ee-6468d0f74963",
   "metadata": {},
   "source": [
    "![image.png](attachment:03fa7b9d-ceb2-40be-9000-0b02253e1f15.png)"
   ]
  },
  {
   "cell_type": "code",
   "execution_count": 4,
   "id": "74e3d03c-8cc8-466b-bff4-e183075386f1",
   "metadata": {},
   "outputs": [
    {
     "name": "stderr",
     "output_type": "stream",
     "text": [
      "WARNING:root:Предупреждение!\n",
      "ERROR:root:Ошибка!\n",
      "CRITICAL:root:Критическая ошибка!\n"
     ]
    }
   ],
   "source": [
    "import logging\n",
    "\n",
    "\n",
    "# Вывод различных сообщений\n",
    "logging.debug(\"Отладочное сообщение\")\n",
    "logging.info(\"Информационное сообщение\")\n",
    "logging.warning(\"Предупреждение!\")\n",
    "logging.error(\"Ошибка!\")\n",
    "logging.critical(\"Критическая ошибка!\")\n"
   ]
  },
  {
   "cell_type": "markdown",
   "id": "e54b619e-965a-4783-87fd-24b65dd8bb59",
   "metadata": {},
   "source": [
    "Почему DEBUG и INFO не отобразились?\n",
    "* По умолчанию logging показывает только сообщения WARNING и выше.\n",
    "* Чтобы увидеть DEBUG и INFO, нужно задать level=logging.DEBUG в basicConfig.\n",
    "\n",
    "Однако в Jupyter Notebook (и Google Colab) после первоначальной настройки конфигурации лога повторные вызовы basicConfig() не произведут никакого эффекта. Можно изменять конфигурацию другими функциями, но мы для простоты будем просто удалять предыдущие конфигурации.\n"
   ]
  },
  {
   "cell_type": "code",
   "execution_count": 5,
   "id": "b45bc7fd-31d2-41c8-bfda-dde7375f1383",
   "metadata": {},
   "outputs": [
    {
     "name": "stderr",
     "output_type": "stream",
     "text": [
      "DEBUG:root:Отладочное сообщение\n",
      "INFO:root:Информационное сообщение\n",
      "WARNING:root:Предупреждение!\n",
      "ERROR:root:Ошибка!\n",
      "CRITICAL:root:Критическая ошибка!\n"
     ]
    }
   ],
   "source": [
    "logging.root.removeHandler(logging.root.handlers[0]) # Удаление обработчика логов\n",
    "# Настройка логирования (по умолчанию уровень WARNING и выше)\n",
    "logging.basicConfig(level=logging.DEBUG)\n",
    "\n",
    "\n",
    "# Вывод различных сообщений\n",
    "logging.debug(\"Отладочное сообщение\")\n",
    "logging.info(\"Информационное сообщение\")\n",
    "logging.warning(\"Предупреждение!\")\n",
    "logging.error(\"Ошибка!\")\n",
    "logging.critical(\"Критическая ошибка!\")"
   ]
  },
  {
   "cell_type": "markdown",
   "id": "b2991d96-4017-42f5-8953-975489cdd5ca",
   "metadata": {},
   "source": [
    "### Запись логов в файл\n",
    "Можно настроить запись логов не только в консоль, но и в файл. \n"
   ]
  },
  {
   "cell_type": "code",
   "execution_count": 6,
   "id": "26af7b54-9d7b-499c-a84a-574fac283e58",
   "metadata": {},
   "outputs": [],
   "source": [
    "logging.root.removeHandler(logging.root.handlers[0]) # Удаление обработчика логов\n",
    "\n",
    "\n",
    "# Настройка логирования с записью в файл\n",
    "logging.basicConfig(filename=\"app.log\", level=logging.INFO)\n",
    "\n",
    "\n",
    "logging.info(\"Программа запущена\")\n",
    "logging.warning(\"Низкий уровень памяти\")\n",
    "logging.error(\"Ошибка подключения к базе данных\")\n"
   ]
  },
  {
   "cell_type": "markdown",
   "id": "41aff5ad-2cf4-4312-96e7-83dd1284464c",
   "metadata": {},
   "source": [
    "### Использование логов в обработке исключений\n",
    "Логирование часто используется для записи ошибок.\n"
   ]
  },
  {
   "cell_type": "code",
   "execution_count": null,
   "id": "f29127f0-4295-4599-bc6c-ec6a0622d0f6",
   "metadata": {},
   "outputs": [],
   "source": [
    "logging.root.removeHandler(logging.root.handlers[0]) # Удаление обработчика логов\n",
    "\n",
    "\n",
    "logging.basicConfig(filename=\"app.log\", level=logging.ERROR)\n",
    "\n",
    "\n",
    "try:\n",
    "    result = 10 / 0\n",
    "except ZeroDivisionError as e:\n",
    "    logging.error(f\"Ошибка: {e}\")\n"
   ]
  },
  {
   "cell_type": "markdown",
   "id": "a883f372-e920-4989-8424-7587d7a6fa56",
   "metadata": {},
   "source": [
    "## Настройка формата логов\n",
    "Модуль logging позволяет задавать собственный формат сообщений для логирования. Это делает логи более читаемыми и информативными.\n",
    "Формат задаётся с помощью аргумента format=\"...\" в logging.basicConfig().\n",
    "Вот несколько ключевых плейсхолдеров, которые можно использовать:\n"
   ]
  },
  {
   "attachments": {
    "94b7c419-23c5-4592-91d0-dec69e7869f9.png": {
     "image/png": "[encoded data removed]"
    }
   },
   "cell_type": "markdown",
   "id": "23dcae14-eed1-4303-8df2-4a98000684a5",
   "metadata": {},
   "source": [
    "![image.png](attachment:94b7c419-23c5-4592-91d0-dec69e7869f9.png)"
   ]
  },
  {
   "cell_type": "code",
   "execution_count": null,
   "id": "763da287-ed6e-4489-ba38-ee190a1b67d3",
   "metadata": {},
   "outputs": [],
   "source": [
    "logging.root.removeHandler(logging.root.handlers[0]) # Удаление обработчика логов\n",
    "\n",
    "\n",
    "# Настройка формата логов\n",
    "logging.basicConfig(\n",
    "    filename=\"app.log\",\n",
    "    format=\"%(asctime)s - %(filename)s - %(lineno)d - %(levelname)s - %(message)s\",\n",
    "    level=logging.DEBUG\n",
    ")\n",
    "\n",
    "\n",
    "logging.debug(\"Это отладочное сообщение\")\n",
    "logging.info(\"Информационное сообщение\")\n",
    "logging.warning(\"Предупреждение\")\n",
    "logging.error(\"Ошибка\")\n",
    "logging.critical(\"Критическая ошибка\")"
   ]
  },
  {
   "cell_type": "markdown",
   "id": "d3eec058-1df4-40ce-a219-f45c7fb5b15b",
   "metadata": {},
   "source": [
    "### Лучшие практики обработки исключений\n",
    "1. Обрабатывайте только ожидаемые исключения.\n",
    "   * Указывайте конкретные типы исключений, чтобы не перехватывать ненужные ошибки.\n",
    "2. Минимизируйте код в блоке try.\n",
    "   * Включайте только тот код, который может вызвать исключение.\n",
    "3. Используйте finally для освобождения ресурсов.\n",
    "   * Например, для закрытия файлов или соединений.\n",
    "4. Логируйте ошибки.\n",
    "   * Вместо простого вывода используйте модуль logging для записи ошибок.\n"
   ]
  },
  {
   "cell_type": "markdown",
   "id": "15144c19-712b-45f0-9e64-8a3faf33d1ba",
   "metadata": {},
   "source": [
    "# Практические задания\n",
    "1. ***Обработка ввода пользователя***  \n",
    "Напишите программу, которая запрашивает у пользователя число и обрабатывает возможные ошибки ввода, пока не получат корректное число.  \n",
    "Пример вывода:  \n",
    "Введите число: qwe  \n",
    "Ошибка: Введите корректное число.  \n",
    "Введите число: 12.5  \n",
    "Вы ввели число: 12.5  \n"
   ]
  },
  {
   "cell_type": "code",
   "execution_count": null,
   "id": "e7a1c32b-ec9a-4a8f-8fa4-ba593acf0c4f",
   "metadata": {},
   "outputs": [],
   "source": [
    "def get_valid_number():\n",
    "    while True:\n",
    "        try:\n",
    "            return float(input(\"Введите число: \"))\n",
    "        except ValueError:\n",
    "            print(\"Ошибка: Введите корректное число.\")\n",
    "\n",
    "\n",
    "num = get_valid_number()\n",
    "print(f\"Вы ввели число: {num}\")"
   ]
  },
  {
   "cell_type": "markdown",
   "id": "c26073c1-14cc-4ac5-9f2b-9c7ca4a39b28",
   "metadata": {},
   "source": [
    "2. ***Проверка возраста***   \n",
    "Напишите функцию, которая проверяет, что возраст пользователя не меньше 18 лет с использованием ошибок.  \n",
    "Пример вывода:  \n",
    "Введите возраст: 17  \n",
    "Ошибка: Возраст должен быть 18 лет и старше.\n"
   ]
  },
  {
   "cell_type": "code",
   "execution_count": null,
   "id": "c7c6aad2-bfb2-4703-94f3-2001cad5c6b0",
   "metadata": {},
   "outputs": [],
   "source": [
    "def check_age():\n",
    "    age = int(input(\"Введите возраст: \"))\n",
    "    if age < 18:\n",
    "        raise ValueError(\"Ошибка: Возраст должен быть 18 лет и старше.\")\n",
    "    print(\"Возраст принят.\")\n",
    "\n",
    "\n",
    "try:\n",
    "    check_age()\n",
    "except ValueError as e:\n",
    "    print(e)\n"
   ]
  },
  {
   "cell_type": "markdown",
   "id": "3c022f4e-f432-4b5c-801d-adc5f9b45508",
   "metadata": {},
   "source": [
    "### Что почитать?\n",
    "1. https://skillbox.ru/media/code/isklyucheniya-v-python-chto-eto-takoe-i-kak-s-nimi-rabotat/"
   ]
  },
  {
   "cell_type": "code",
   "execution_count": null,
   "id": "9192bb16-f216-4929-a64b-c63c325d7451",
   "metadata": {},
   "outputs": [],
   "source": []
  }
 ],
 "metadata": {
  "kernelspec": {
   "display_name": "Python 3 (ipykernel)",
   "language": "python",
   "name": "python3"
  },
  "language_info": {
   "codemirror_mode": {
    "name": "ipython",
    "version": 3
   },
   "file_extension": ".py",
   "mimetype": "text/x-python",
   "name": "python",
   "nbconvert_exporter": "python",
   "pygments_lexer": "ipython3",
   "version": "3.12.4"
  }
 },
 "nbformat": 4,
 "nbformat_minor": 5
}
