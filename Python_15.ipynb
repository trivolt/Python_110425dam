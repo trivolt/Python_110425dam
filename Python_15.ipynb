{
 "cells": [
  {
   "cell_type": "markdown",
   "id": "973b5ea7-b73b-440d-b845-c09438e26143",
   "metadata": {},
   "source": [
    "# Списки. Работа с памятью"
   ]
  },
  {
   "cell_type": "markdown",
   "id": "35e62aec-eda8-404e-b107-44b988fde08f",
   "metadata": {},
   "source": [
    "## Изменяемые типы данных\n",
    "Изменяемые типы данных — это такие структуры данных, которые позволяют изменять своё содержимое после создания объекта, не создавая при этом новый объект.\n"
   ]
  },
  {
   "cell_type": "markdown",
   "id": "7b391def-e2c3-457e-bdf0-145e02e5022d",
   "metadata": {},
   "source": [
    "### Особенности изменяемых типов данных  \n",
    "1. ***Изменение в месте нахождения:*** Значения внутри изменяемого объекта могут изменяться, не создавая нового объекта. Это делает работу с большими объёмами данных более эффективной, так как можно модифицировать данные непосредственно в памяти.  \n",
    "2. ***Ссылочная природа:*** При передаче изменяемых объектов в функции или другие переменные передаётся не копия объекта, а ссылка на него. Это означает, что любые изменения, сделанные в одной части программы, будут видны везде, где используется ссылка на этот объект.  \n",
    "3. ***Эффективность:*** Изменяемые типы данных позволяют экономить память и ресурсы, так как при изменении данных не создаётся новый объект, а модифицируется существующий.  \n",
    "4. ***Методы изменения:*** Изменяемые типы данных предоставляют методы для добавления, удаления, замены или сортировки элементов, что делает их удобными для работы с динамически изменяющимися данными.\n"
   ]
  },
  {
   "cell_type": "markdown",
   "id": "09880f55-c7b9-4910-bb16-3e2b6a38d3c3",
   "metadata": {},
   "source": [
    "## Куча  \n",
    "***Куча (Heap)*** — это область динамической памяти, в которой хранятся все объекты в Python.  \n",
    "Куча используется для управления памятью и позволяет программам создавать, хранить, изменять и удалять объекты. Память для объектов выделяется в куче автоматически, а управление её выделением и освобождением выполняется встроенной системой управления памятью.\n"
   ]
  },
  {
   "cell_type": "markdown",
   "id": "8c4d333d-1d8e-4686-a24a-7d3160682485",
   "metadata": {},
   "source": [
    "#### Основные аспекты работы с кучей:\n",
    "1. ***Выделение памяти:***\n",
    "  * Когда создаётся объект в Python (например, список или строка), память для него выделяется из кучи. Программа не управляет этой памятью напрямую — это делает Python, автоматически управляя выделением и освобождением памяти.\n",
    "2. ***Доступ к объектам по ссылке:***\n",
    "  * Все объекты в Python, как изменяемые, так и неизменяемые, хранятся в куче. Переменные в Python являются ссылками на эти объекты. Когда вы присваиваете значение переменной, на самом деле создаётся ссылка на объект в куче.\n",
    "3. ***Изменяемые и неизменяемые объекты в куче:***\n",
    " * Неизменяемые объекты (например, строки, числа, кортежи) хранятся в памяти неизменными. Если вам нужно изменить объект, создаётся новый объект в другой области кучи, и переменная начинает ссылаться на этот новый объект.\n",
    "  * Изменяемые объекты (например, списки, словари) могут изменяться на месте. То есть, при изменении этих объектов их содержимое в куче будет обновлено без создания нового объекта.\n",
    "4. ***Управление памятью и сборщик мусора:***\n",
    "  * Python автоматически управляет памятью, выделенной для объектов в куче, с помощью сборщика мусора. Когда на объект больше не ссылается ни одна переменная, он считается \"мусором\" и может быть удалён сборщиком мусора для освобождения памяти.\n",
    "  * Сборщик мусора основан на подсчёте ссылок и алгоритме циклического сборщика. Подсчёт ссылок следит за тем, сколько переменных ссылается на объект. Если счётчик ссылок объекта становится равен нулю, объект становится кандидатом на удаление.\n",
    "5. ***Избегание утечек памяти:***\n",
    "  * Благодаря сборщику мусора Python обычно не страдает от утечек памяти, но они могут возникать в сложных циклических структурах. Например, если два объекта ссылаются друг на друга, их ссылки могут не сбрасываться автоматически. В таких случаях сборщик мусора Python выполнит циклический сбор для обнаружения и очистки таких объектов.\n"
   ]
  },
  {
   "cell_type": "markdown",
   "id": "16bb16e7-aca7-4b30-a8a3-17051d4c8ccd",
   "metadata": {},
   "source": [
    "## Функция id\n",
    "Функция id() возвращает уникальный идентификатор объекта, который представляет собой его местоположение в памяти во время работы программы. Этот идентификатор является уникальным для каждого объекта в Python в пределах его существования.  \n",
    "***Синтаксис:***  \n",
    "`id(object)`\n",
    "\n",
    "`object` — объект, для которого нужно узнать его идентификатор.  \n",
    "\n",
    "***Особенности:***  \n",
    "* Идентификатор, возвращаемый функцией id(), не может измениться для объекта, пока он существует.  \n",
    "* Если два объекта имеют одинаковый идентификатор, это означает, что они ссылаются на один и тот же объект в памяти.  \n",
    "* После того как объект перестаёт существовать, его идентификатор может быть присвоен другому объекту.  \n"
   ]
  },
  {
   "cell_type": "code",
   "execution_count": 36,
   "id": "3de0d71c-36ab-47ba-827e-8c0842eeeee1",
   "metadata": {},
   "outputs": [
    {
     "data": {
      "text/plain": [
       "140705197734456"
      ]
     },
     "execution_count": 36,
     "metadata": {},
     "output_type": "execute_result"
    }
   ],
   "source": [
    "a = 5\n",
    "id(a)"
   ]
  },
  {
   "cell_type": "code",
   "execution_count": 37,
   "id": "b6a03112-2d7a-438c-b3a4-1bcd380bd223",
   "metadata": {},
   "outputs": [
    {
     "name": "stdout",
     "output_type": "stream",
     "text": [
      "2478864366784\n",
      "2478864366784\n",
      "2478840408320\n"
     ]
    }
   ],
   "source": [
    "a = [1, 2, 3]\n",
    "b = a\n",
    "print(id(a))  # Вывод: Идентификатор объекта a\n",
    "print(id(b))  # Вывод: Тот же идентификатор, так как b ссылается на a\n",
    "\n",
    "c = [1, 2, 3]\n",
    "print(id(c))  # Вывод: Другой идентификатор, так как это другой объект\n"
   ]
  },
  {
   "cell_type": "markdown",
   "id": "a9f8cab2-861c-42f6-8911-ab5fff34482b",
   "metadata": {},
   "source": [
    "Функция id() полезна для проверки, ссылаются ли две переменные на один и тот же объект в памяти. Особенно это важно для изменяемых объектов, чтобы убедиться, что изменения в одном объекте не повлияют на другой.\n"
   ]
  },
  {
   "cell_type": "markdown",
   "id": "3f2f77a4-90d6-40a5-9c27-690170949ec6",
   "metadata": {},
   "source": [
    "# Как работает присваивание\n",
    "Когда вы присваиваете одну переменную другой, обе переменные начинают ссылаться на один и тот же объект в памяти. Изменения, внесённые через одну переменную, будут отражены и в другой, так как обе они ссылаются на один и тот же объект.  \n",
    "В Python объекты делятся на две категории: ***изменяемые*** и ***неизменяемые***. Эта разница проявляется в том, как Python управляет памятью и объектами при присваивании переменных и передаче объектов в функции.\n"
   ]
  },
  {
   "cell_type": "markdown",
   "id": "db8c8652-e31e-4593-89ae-8e24c5ef805d",
   "metadata": {},
   "source": [
    "### Присваивание неизменяемых объектов\n",
    "Когда неизменяемый объект передаётся в другую переменную или передаётся в функцию, Python копирует по ссылке. Это значит, что создаётся новая ссылка на тот же объект в памяти. Однако, поскольку объект неизменяем, изменить его напрямую нельзя — любое \"изменение\" приведёт к созданию нового объекта в памяти.\n"
   ]
  },
  {
   "cell_type": "code",
   "execution_count": 38,
   "id": "90c595b7-2f15-48a2-b2a0-8300be43c51a",
   "metadata": {},
   "outputs": [
    {
     "name": "stdout",
     "output_type": "stream",
     "text": [
      "hello\n",
      "hello\n",
      "hello world\n"
     ]
    }
   ],
   "source": [
    "text1 = \"hello\"\n",
    "text2 = text1  # text2 ссылается на тот же объект, что и text1\n",
    "text1 + \" Python\"  # Создаётся новый объект, который никуда не присвоен\n",
    "print(text1)\n",
    "text2 += \" world\"  # Создаётся новый объект \"hello world\"\n",
    "print(text1)\n",
    "print(text2)\n"
   ]
  },
  {
   "cell_type": "markdown",
   "id": "03a7c570-dfa8-4076-a368-012f00ad9f26",
   "metadata": {},
   "source": [
    "### Присваивание изменяемых объектов\n",
    "Когда изменяемый объект присваивается другой переменной, копирование также происходит по ссылке. Это означает, что обе переменные будут указывать на один и тот же объект в памяти. Если одна переменная изменяет объект, это изменение отразится на обеих переменных, поскольку они указывают на один и тот же объект.\n"
   ]
  },
  {
   "cell_type": "code",
   "execution_count": 39,
   "id": "422d6f60-680c-4cf9-809d-0d4f34a44f75",
   "metadata": {},
   "outputs": [
    {
     "name": "stdout",
     "output_type": "stream",
     "text": [
      "[1, 2, 3, 4]\n",
      "[1, 2, 3, 4]\n"
     ]
    }
   ],
   "source": [
    "list_a = [1, 2, 3]\n",
    "list_b = list_a  # list_b ссылается на тот же объект, что и list_a\n",
    "# Добавление нового элемента\n",
    "list_b.append(4)  # Изменение объекта по ссылке\n",
    "print(list_a)\n",
    "print(list_b)"
   ]
  },
  {
   "cell_type": "code",
   "execution_count": 40,
   "id": "9e2acf35-043d-42fb-aa94-d65c136e3a0b",
   "metadata": {},
   "outputs": [
    {
     "name": "stdout",
     "output_type": "stream",
     "text": [
      "['new', 2, 3, 4]\n",
      "['new', 2, 3, 4]\n"
     ]
    }
   ],
   "source": [
    "# Изменение элемента по индексу\n",
    "list_b[0] = 'new'\n",
    "print(list_a)\n",
    "print(list_b)\n"
   ]
  },
  {
   "cell_type": "markdown",
   "id": "18e06556-c530-4ef3-9383-6c9a82d7106c",
   "metadata": {},
   "source": [
    "## Вложенные коллекции\n",
    "Вложенные коллекции — это коллекции, которые содержат другие коллекции в качестве элементов. Это позволяет строить более сложные структуры данных, такие как многомерные массивы, таблицы и другое. Внутрь списков и кортежей можно вкладывать любые другие объекты, в том числе коллекции.\n"
   ]
  },
  {
   "cell_type": "code",
   "execution_count": null,
   "id": "66eb0130-425d-43d5-aa53-2c0334ad467b",
   "metadata": {},
   "outputs": [],
   "source": [
    "list_elements = [[1, 2, 3], [4, 5, 1], [6, 0, 0], [7, 7, 7], [8, 9, 0]]"
   ]
  },
  {
   "cell_type": "code",
   "execution_count": 41,
   "id": "88fcd4cc-6c5a-42de-89d0-474af13b1a5a",
   "metadata": {},
   "outputs": [
    {
     "name": "stdout",
     "output_type": "stream",
     "text": [
      "[[1, 2, 3], [4, 5], 6, [7], [8, 9]]\n"
     ]
    }
   ],
   "source": [
    "# Список и числами и списками\n",
    "list_elements = [[1, 2, 3], [4, 5], 6, [7], [8, 9]]\n",
    "print(list_elements) "
   ]
  },
  {
   "cell_type": "code",
   "execution_count": 42,
   "id": "3ca245be-214f-43ae-a887-c54c0988bf44",
   "metadata": {},
   "outputs": [
    {
     "data": {
      "text/plain": [
       "list"
      ]
     },
     "execution_count": 42,
     "metadata": {},
     "output_type": "execute_result"
    }
   ],
   "source": [
    "type(list_elements)"
   ]
  },
  {
   "cell_type": "code",
   "execution_count": 43,
   "id": "ad07ba9c-c627-4722-87d8-029438dba31c",
   "metadata": {},
   "outputs": [
    {
     "name": "stdout",
     "output_type": "stream",
     "text": [
      "([1, 2], [3, 4], [5, 6])\n"
     ]
    }
   ],
   "source": [
    "# Кортеж со списками\n",
    "lists_tuple = ([1, 2], [3, 4], [5, 6])\n",
    "print(lists_tuple) "
   ]
  },
  {
   "cell_type": "code",
   "execution_count": 44,
   "id": "5bb7a01c-8ab5-4cd9-ae37-a7912e96bbc7",
   "metadata": {},
   "outputs": [
    {
     "name": "stdout",
     "output_type": "stream",
     "text": [
      "[[1, 2], [3, 4]]\n"
     ]
    }
   ],
   "source": [
    "# Список со списками\n",
    "lists = [[1, 2], [3, 4]]\n",
    "print(lists) \n"
   ]
  },
  {
   "cell_type": "markdown",
   "id": "e44aca2f-4170-4541-b008-a20eed64c17e",
   "metadata": {},
   "source": [
    "Для доступа к элементу во вложенном списке нужно использовать несколько уровней индексации: первый индекс выбирает внешний список, а последующие индексы — вложенные элементы."
   ]
  },
  {
   "cell_type": "code",
   "execution_count": 45,
   "id": "e11d1262-1be9-4439-a762-9f69de0c05c0",
   "metadata": {},
   "outputs": [],
   "source": [
    "list_elements = [[1, 2, 3], [4, 5], 6, [7, [8, [9], 10]]]\n"
   ]
  },
  {
   "cell_type": "markdown",
   "id": "0ce1c7db-78dd-496a-a8ec-e2c776d7a9a9",
   "metadata": {},
   "source": [
    "Коллекция состоит из списков и отдельных элементов: чисел и списков с числами. Чтобы получить доступ к элементам этой коллекции, используется индексация.\n"
   ]
  },
  {
   "cell_type": "markdown",
   "id": "630a458c-4ec6-4009-acd9-1583f8aafc48",
   "metadata": {},
   "source": [
    "### 1. Доступ к элементам первого уровня  \n",
    "Доступ к элементам первого уровня осуществляется через один уровень индекса.\n"
   ]
  },
  {
   "cell_type": "code",
   "execution_count": 46,
   "id": "c57c50d6-7a38-43e5-b430-ed4238a5b3ec",
   "metadata": {},
   "outputs": [
    {
     "name": "stdout",
     "output_type": "stream",
     "text": [
      "[1, 2, 3]\n"
     ]
    }
   ],
   "source": [
    "print(list_elements[0]) "
   ]
  },
  {
   "cell_type": "code",
   "execution_count": 47,
   "id": "b3d7e566-c23d-4160-999c-2d9ca418add4",
   "metadata": {},
   "outputs": [
    {
     "name": "stdout",
     "output_type": "stream",
     "text": [
      "[4, 5]\n"
     ]
    }
   ],
   "source": [
    "print(list_elements[1])"
   ]
  },
  {
   "cell_type": "code",
   "execution_count": 48,
   "id": "7bc4fc5b-6d62-4e9a-a25f-07a3f9d3057a",
   "metadata": {},
   "outputs": [
    {
     "name": "stdout",
     "output_type": "stream",
     "text": [
      "6\n"
     ]
    }
   ],
   "source": [
    "print(list_elements[2])  # Вывод: 6 (отдельный элемент)"
   ]
  },
  {
   "cell_type": "code",
   "execution_count": 49,
   "id": "93482507-f1ed-4354-ae95-afe553f6f40a",
   "metadata": {},
   "outputs": [
    {
     "name": "stdout",
     "output_type": "stream",
     "text": [
      "[7, [8, [9], 10]]\n"
     ]
    }
   ],
   "source": [
    "print(list_elements[3])  # Вывод: [7, [8, [9], 10]] (вложенный список с дополнительной вложенностью)"
   ]
  },
  {
   "cell_type": "markdown",
   "id": "b50dd070-deb8-464d-afad-04b3e974386b",
   "metadata": {},
   "source": [
    "### 2. Доступ к элементам внутри вложенных списков   \n",
    "Чтобы получить доступ к элементам вложенных списков, нужно добавить новый уровень индексации на каждый уровень вложенности. Первый индекс выбирает нужный список, второй — элемент внутри этого списка и так далее.\n"
   ]
  },
  {
   "cell_type": "code",
   "execution_count": 50,
   "id": "065f2b5a-679e-4ef7-81e6-e32c1d80f8b5",
   "metadata": {},
   "outputs": [
    {
     "name": "stdout",
     "output_type": "stream",
     "text": [
      "2\n"
     ]
    }
   ],
   "source": [
    "# Доступ ко второму элементу первого вложенного списка\n",
    "print(list_elements[0][1])"
   ]
  },
  {
   "cell_type": "markdown",
   "id": "26d898dc-56d6-41e9-8511-aed31b653523",
   "metadata": {},
   "source": [
    "Пример с сохранением во временные переменные:  \n",
    "Для того чтобы сохранить промежуточный результат на каждом уровне вложенности, можно разделить доступ к элементам на шаги, сохраняя каждый вложенный список в отдельную переменную.\n"
   ]
  },
  {
   "cell_type": "code",
   "execution_count": 51,
   "id": "08a907bb-1648-4386-bbe9-c7aaef6012e3",
   "metadata": {},
   "outputs": [
    {
     "name": "stdout",
     "output_type": "stream",
     "text": [
      "2\n"
     ]
    }
   ],
   "source": [
    "# Сохраняем первый вложенный список во временную переменную\n",
    "first_nested_list = list_elements[0]\n",
    "\n",
    "# Доступ ко второму элементу через временную переменную\n",
    "second_element = first_nested_list[1]\n",
    "\n",
    "# В результате будет получен тот же результат, что и при обращении по нескольним индексам\n",
    "print(second_element) \n"
   ]
  },
  {
   "cell_type": "code",
   "execution_count": 53,
   "id": "69f16ae3-9514-4a09-8008-ccba53d9fcd7",
   "metadata": {},
   "outputs": [],
   "source": [
    "list_elements = [[1, 2, 3], [4, 5], 6, [7, [8, [], 10]]]"
   ]
  },
  {
   "cell_type": "code",
   "execution_count": 55,
   "id": "704d1479-3c3f-4dc1-8af4-ace07f266963",
   "metadata": {},
   "outputs": [
    {
     "name": "stdout",
     "output_type": "stream",
     "text": [
      "10\n",
      "[]\n"
     ]
    }
   ],
   "source": [
    "# Получение числа 10\n",
    "print(list_elements[3][1][2])  # Доступ к элементу третьего уровня вложенности\n",
    "# Получение числа 9\n",
    "print(list_elements[3][1][1])  # Доступ к элементу четвертого уровня вложенности\n"
   ]
  },
  {
   "cell_type": "code",
   "execution_count": 57,
   "id": "dd0049be-53dc-4d4b-ac3d-7fdfdfcfc45c",
   "metadata": {},
   "outputs": [
    {
     "ename": "TypeError",
     "evalue": "'int' object is not subscriptable",
     "output_type": "error",
     "traceback": [
      "\u001b[1;31m---------------------------------------------------------------------------\u001b[0m",
      "\u001b[1;31mTypeError\u001b[0m                                 Traceback (most recent call last)",
      "Cell \u001b[1;32mIn[57], line 1\u001b[0m\n\u001b[1;32m----> 1\u001b[0m list_elements[\u001b[38;5;241m2\u001b[39m][\u001b[38;5;241m0\u001b[39m]\n",
      "\u001b[1;31mTypeError\u001b[0m: 'int' object is not subscriptable"
     ]
    }
   ],
   "source": [
    "list_elements[2][0]"
   ]
  },
  {
   "cell_type": "markdown",
   "id": "dfc8c3cb-3fe8-483a-8545-4273acf74b62",
   "metadata": {},
   "source": [
    "## Изменение элементов вложенных списков  \n",
    "Изменяемые объекты, такие как списки, позволяют изменять свои элементы на любом уровне вложенности. Для этого нужно обратиться к нужному элементу через индексы, чтобы получить ссылку на него.\n"
   ]
  },
  {
   "cell_type": "code",
   "execution_count": 58,
   "id": "c23e43c4-dac8-4762-9948-a99ca5d9a217",
   "metadata": {},
   "outputs": [
    {
     "name": "stdout",
     "output_type": "stream",
     "text": [
      "[[1, 'two'], [3, 4], [5, 6]]\n",
      "[[1, 'two'], [3, 4], 'new']\n"
     ]
    }
   ],
   "source": [
    "#Пример изменения элементов во вложенном списке:\n",
    "#Возьмём следующую коллекцию:\n",
    "list_elements = [[1, 2], [3, 4], [5, 6]]\n",
    "\n",
    "# Заменим число 2\n",
    "list_elements[0][1] = \"two\"\n",
    "print(list_elements) \n",
    "\n",
    "# Заменим список [5, 6]\n",
    "list_elements[2] = \"new\"\n",
    "print(list_elements) \n"
   ]
  },
  {
   "cell_type": "code",
   "execution_count": 59,
   "id": "34b2ed39-0162-451f-b8d2-82abd60d34e9",
   "metadata": {},
   "outputs": [
    {
     "name": "stdout",
     "output_type": "stream",
     "text": [
      "[[1, 'TWO'], [3, 4], 'new']\n"
     ]
    }
   ],
   "source": [
    "#Пример с изменением строки:\n",
    "# Так так элемент является строкой, к нему можно применять строковые методы\n",
    "list_elements[0][1] = list_elements[0][1].upper()  # Преобразуем строку в верхний регистр\n",
    "print(list_elements)\n"
   ]
  },
  {
   "cell_type": "code",
   "execution_count": 60,
   "id": "7ff974bf-f86e-4233-9484-d10871b527c2",
   "metadata": {},
   "outputs": [
    {
     "name": "stdout",
     "output_type": "stream",
     "text": [
      "[[1, 'TWO', 'new value'], [3, 4], 'new']\n"
     ]
    }
   ],
   "source": [
    "# Если элемент внутри вложенного списка является изменяемым объектом (например, другой список), можно изменить его содержимое.\n",
    "# Пример (изменение списка внутри списка):\n",
    "# Изменим первый элемент вложенного списка, добавив новое значение\n",
    "list_elements[0].append('new value')  # Добавляем новый элемент в первый вложенный список\n",
    "print(list_elements)\n"
   ]
  },
  {
   "cell_type": "markdown",
   "id": "625a57ce-d19f-448c-bd26-2bd44bc4fd85",
   "metadata": {},
   "source": [
    "# Итерация по вложенным коллекциям\n",
    "Когда вы работаете с вложенными коллекциями, такими как списки, вам часто нужно перебирать все элементы, в том числе те, которые находятся внутри вложенных структур. Для этого можно воспользоваться вложенными циклами for.\n"
   ]
  },
  {
   "cell_type": "code",
   "execution_count": 61,
   "id": "7379ab4d-6919-42ba-a602-5f33e7072c91",
   "metadata": {},
   "outputs": [],
   "source": [
    "list_elements = [[1, 2], [3, 4], [5, 6]]\n"
   ]
  },
  {
   "cell_type": "markdown",
   "id": "039690df-1731-4a98-85dc-219e41898a86",
   "metadata": {},
   "source": [
    "### 1. Итерация по элементам первого уровня вложенности\n",
    "Это обычная итерация по верхнему уровню коллекции.\n"
   ]
  },
  {
   "cell_type": "code",
   "execution_count": 62,
   "id": "607f5c81-0544-48ac-a50e-0ecf64aced9f",
   "metadata": {},
   "outputs": [
    {
     "name": "stdout",
     "output_type": "stream",
     "text": [
      "[1, 2]\n",
      "[3, 4]\n",
      "[5, 6]\n"
     ]
    }
   ],
   "source": [
    "for sublist in list_elements:\n",
    "    print(sublist)\n"
   ]
  },
  {
   "cell_type": "code",
   "execution_count": 63,
   "id": "62de98da-5ddb-49a0-9c02-d6709e7270dc",
   "metadata": {},
   "outputs": [
    {
     "name": "stdout",
     "output_type": "stream",
     "text": [
      "1 2\n",
      "3 4\n",
      "5 6\n"
     ]
    }
   ],
   "source": [
    "for f, s in list_elements:\n",
    "    print(f, s)"
   ]
  },
  {
   "cell_type": "markdown",
   "id": "c723edcd-ebca-4b93-a577-1b85d129a66a",
   "metadata": {},
   "source": [
    "### 2. Итерация по элементам нескольких уровней вложенности  \n",
    "Чтобы получить доступ ко всем элементам, включая элементы во вложенных списках, можно использовать вложенные циклы for.\n"
   ]
  },
  {
   "cell_type": "code",
   "execution_count": 72,
   "id": "c5f9cd55-252d-40a7-aaa8-20f1f98b65ac",
   "metadata": {},
   "outputs": [],
   "source": [
    "list_elements = [[1, 2], [3, 4],  [5, [9], 6]]"
   ]
  },
  {
   "cell_type": "code",
   "execution_count": 73,
   "id": "8d21a7b1-d0d9-48d5-9d26-f97281b85b4f",
   "metadata": {},
   "outputs": [
    {
     "name": "stdout",
     "output_type": "stream",
     "text": [
      "1 2 3 4 5 [9] 6 "
     ]
    }
   ],
   "source": [
    "# Внешний цикл перебирает каждый вложенный список\n",
    "for sublist in list_elements:\n",
    "    # Внутренний цикл проходит по каждому элементу внутри этих списков\n",
    "    for item in sublist:\n",
    "        print(item, end=\" \")"
   ]
  },
  {
   "cell_type": "markdown",
   "id": "9870ff00-14fa-432c-847e-c02cd0138c7d",
   "metadata": {},
   "source": [
    "### 3. Итерация с изменением элементов\n",
    "Во время итерации по коллекциям можно изменять их элементы.\n"
   ]
  },
  {
   "cell_type": "code",
   "execution_count": 74,
   "id": "2011ed3b-37f5-41b9-bc10-386296a71674",
   "metadata": {},
   "outputs": [
    {
     "name": "stdout",
     "output_type": "stream",
     "text": [
      "[[2, 3], [4, 5], [6, 7]]\n"
     ]
    }
   ],
   "source": [
    "# Увеличение каждого элемента в коллекциях на 1\n",
    "list_elements = [[1, 2], [3, 4], [5, 6]]\n",
    "\n",
    "for i, sublist in enumerate(list_elements):\n",
    "    for j, item in enumerate(sublist):\n",
    "        list_elements[i][j] = item + 1\n",
    "\n",
    "print(list_elements)\n"
   ]
  },
  {
   "cell_type": "markdown",
   "id": "61c5617d-41ed-4d21-829a-2289c50eb79f",
   "metadata": {},
   "source": [
    "## Оператор del  \n",
    "Оператор del используется для удаления элементов коллекции по индексу, срезу, а также для удаления целых переменных. Он является мощным инструментом для управления памятью, так как может полностью удалять объекты, освобождая ресурсы.   \n",
    "\n",
    "***Особенности:***  \n",
    "* Может удалять отдельные элементы по индексу, срезы из списка или даже целые объекты.  \n",
    "* Не возвращает значение удалённого элемента.  \n",
    "* Используется для освобождения памяти путём удаления переменных и объектов.\n",
    "* При попытке обращения к удалённой переменной или объекту после удаления возникает ошибка NameError.\n",
    "* Если на объект ссылается другая переменная - он не будет удален из памяти.  \n",
    "***Синтаксис:***  \n",
    "`del list[index]`  \n",
    "`del list[start:end]`  \n",
    "`del variable`  \n",
    "\n",
    "`list[index]` — удаление одного элемента по индексу  \n",
    "`list[start:end]` — удаление среза элементов  \n",
    "`variable` — удаление переменной  \n"
   ]
  },
  {
   "cell_type": "code",
   "execution_count": 75,
   "id": "4d3b34b8-1a42-474b-818c-c4515ffa9270",
   "metadata": {},
   "outputs": [
    {
     "name": "stdout",
     "output_type": "stream",
     "text": [
      "[10, 20, 40]\n"
     ]
    }
   ],
   "source": [
    "# Удаление элемента по индексу\n",
    "numbers = [10, 20, 30, 40]\n",
    "del numbers[2]\n",
    "print(numbers)"
   ]
  },
  {
   "cell_type": "code",
   "execution_count": 76,
   "id": "191d7872-54d7-476d-9b8e-d8ddea46127e",
   "metadata": {},
   "outputs": [
    {
     "name": "stdout",
     "output_type": "stream",
     "text": [
      "['banana', 'cherry']\n"
     ]
    }
   ],
   "source": [
    "# Удаление нулевого элемента\n",
    "fruits = [\"apple\", \"banana\", \"cherry\"]\n",
    "del fruits[0]\n",
    "print(fruits)"
   ]
  },
  {
   "cell_type": "code",
   "execution_count": 77,
   "id": "a562ea2a-0cb2-41d3-b44b-dbec1f045f71",
   "metadata": {},
   "outputs": [
    {
     "name": "stdout",
     "output_type": "stream",
     "text": [
      "[10, 40, 50]\n"
     ]
    }
   ],
   "source": [
    "# Удаление среза (нескольких элементов)\n",
    "numbers = [10, 20, 30, 40, 50]\n",
    "del numbers[1:3]\n",
    "print(numbers)"
   ]
  },
  {
   "cell_type": "code",
   "execution_count": 78,
   "id": "6246a4e1-ef12-4d00-a202-6b01373d7630",
   "metadata": {},
   "outputs": [
    {
     "name": "stdout",
     "output_type": "stream",
     "text": [
      "[]\n"
     ]
    }
   ],
   "source": [
    "# Удаление всех элементов (аналог метода clear)\n",
    "numbers = [10, 20, 30, 40]\n",
    "del numbers[:]\n",
    "print(numbers)"
   ]
  },
  {
   "cell_type": "code",
   "execution_count": 80,
   "id": "f410f22d-6a24-4e9c-bcbb-a53ca0ce32d7",
   "metadata": {},
   "outputs": [
    {
     "ename": "NameError",
     "evalue": "name 'old_numbers' is not defined",
     "output_type": "error",
     "traceback": [
      "\u001b[1;31m---------------------------------------------------------------------------\u001b[0m",
      "\u001b[1;31mNameError\u001b[0m                                 Traceback (most recent call last)",
      "Cell \u001b[1;32mIn[80], line 5\u001b[0m\n\u001b[0;32m      3\u001b[0m new_numbers \u001b[38;5;241m=\u001b[39m old_numbers\n\u001b[0;32m      4\u001b[0m \u001b[38;5;28;01mdel\u001b[39;00m old_numbers\n\u001b[1;32m----> 5\u001b[0m \u001b[38;5;28mprint\u001b[39m(old_numbers)\n",
      "\u001b[1;31mNameError\u001b[0m: name 'old_numbers' is not defined"
     ]
    }
   ],
   "source": [
    "\n",
    "# Удаление переменной\n",
    "old_numbers = [1, 2, 3]\n",
    "new_numbers = old_numbers\n",
    "del old_numbers\n",
    "print(old_numbers)  # Вызовет ошибку из за отсутствия переменной\n",
    "# print(new_numbers)  # Список не был удален"
   ]
  },
  {
   "cell_type": "code",
   "execution_count": null,
   "id": "57219571-8118-4321-a8f2-a9fab2dfafde",
   "metadata": {},
   "outputs": [],
   "source": [
    "#1. Какой результат будет выведен при выполнении следующего кода?\n",
    "nested_list = [10, [20, 30], [40, [50, 60]]]\n",
    "nested_list[1][1] = \"new\"\n",
    "print(nested_list)\n"
   ]
  },
  {
   "cell_type": "code",
   "execution_count": null,
   "id": "781cf076-7741-474d-872a-663f2f209766",
   "metadata": {},
   "outputs": [],
   "source": [
    "#2. Какой результат будет выведен при выполнении следующего кода?\n",
    "a = [1, 2, 3]\n",
    "b = a\n",
    "del a\n",
    "print(b)\n"
   ]
  },
  {
   "cell_type": "markdown",
   "id": "8f055ab6-8fd1-4b19-9e96-b98097d73627",
   "metadata": {},
   "source": [
    "## Копирование списка  \n",
    "При копировании списков важно понимать, что присваивание списка другой переменной не создаёт новую копию. Вместо этого создаётся ссылка на тот же объект. Это значит, что изменение одного списка приведёт к изменению другого, поскольку они оба ссылаются на один и тот же объект в памяти.\n"
   ]
  },
  {
   "cell_type": "code",
   "execution_count": 81,
   "id": "caf62446-765e-4565-811d-d1b3e0b626c9",
   "metadata": {},
   "outputs": [
    {
     "name": "stdout",
     "output_type": "stream",
     "text": [
      "[99, 2, 3]\n"
     ]
    }
   ],
   "source": [
    "original_list = [1, 2, 3]\n",
    "copied_list = original_list  # Это не создаёт новую копию\n",
    "copied_list[0] = 99\n",
    "print(original_list)\n"
   ]
  },
  {
   "cell_type": "markdown",
   "id": "453c8cdb-7bdf-4869-803e-a998294f9ac0",
   "metadata": {},
   "source": [
    "Копирование списков можно осуществлять разными способами.  \n",
    "Существуют два подхода к копированию: поверхностное и глубокое:  \n",
    "* ***Поверхностное копирование*** подходит для списков без вложенных структур или если вложенные элементы не будут изменяться.  \n",
    "* ***Глубокое копирование*** рекомендуется для списков со вложенными объектами, когда нужно создать независимую копию на всех уровнях."
   ]
  },
  {
   "cell_type": "markdown",
   "id": "a4be1a3c-dbc1-441b-90bd-ddf6f8b295de",
   "metadata": {},
   "source": [
    "### Поверхностное копирование\n",
    "Поверхностное копирование создаёт новый список, копируя элементы из исходного списка, то есть ссылки на них. Если в списке есть вложенные списки или другие изменяемые объекты, то изменение этих вложенных объектов в копии также отразится на исходном списке.   \n",
    "Способы выполнения поверхностного копирования:  \n",
    "* Метод `copy()`  \n",
    "* `Срез [:]`  \n",
    "* Функция `list()` \n"
   ]
  },
  {
   "cell_type": "markdown",
   "id": "052f10e9-f512-4c01-8d7f-c0b65a6351fc",
   "metadata": {},
   "source": [
    "1. Метод copy()"
   ]
  },
  {
   "cell_type": "code",
   "execution_count": 82,
   "id": "07c0ba87-b1b9-490b-9db5-595a87fa3fdc",
   "metadata": {},
   "outputs": [
    {
     "name": "stdout",
     "output_type": "stream",
     "text": [
      "[1, 2, 3]\n",
      "[99, 2, 3]\n"
     ]
    }
   ],
   "source": [
    "# Копирование списка без вложенных объектов\n",
    "original_list = [1, 2, 3]\n",
    "copied_list = original_list.copy()  # Создаём копию списка с помощью метода copy()\n",
    "copied_list[0] = 99\n",
    "print(original_list) \n",
    "print(copied_list) "
   ]
  },
  {
   "cell_type": "markdown",
   "id": "1559cf8a-1634-402d-8cd1-21f03355ed0f",
   "metadata": {},
   "source": [
    "2. Срез [:]"
   ]
  },
  {
   "cell_type": "code",
   "execution_count": 83,
   "id": "e817e3ff-e78e-40cc-b98b-8f59888dbaaa",
   "metadata": {},
   "outputs": [
    {
     "name": "stdout",
     "output_type": "stream",
     "text": [
      "[1, 2, 3]\n",
      "[99, 2, 3]\n"
     ]
    }
   ],
   "source": [
    "original_list = [1, 2, 3]\n",
    "copied_list = original_list[:]  # Создаём копию с помощью среза\n",
    "copied_list[0] = 99\n",
    "print(original_list) \n",
    "print(copied_list) \n"
   ]
  },
  {
   "cell_type": "markdown",
   "id": "0b9be249-6621-4a48-8622-7a91d25690f2",
   "metadata": {},
   "source": [
    "3. Функция list()"
   ]
  },
  {
   "cell_type": "code",
   "execution_count": 84,
   "id": "54f4ba6a-a4a3-41da-a775-77e53ee09b76",
   "metadata": {},
   "outputs": [
    {
     "name": "stdout",
     "output_type": "stream",
     "text": [
      "[1, 2, 3]\n",
      "[99, 2, 3]\n"
     ]
    }
   ],
   "source": [
    "original_list = [1, 2, 3]\n",
    "copied_list = list(original_list)  # Создаём копию с помощью функции list()\n",
    "copied_list[0] = 99\n",
    "print(original_list) \n",
    "print(copied_list) \n"
   ]
  },
  {
   "cell_type": "markdown",
   "id": "7c3a0297-d480-4766-83c8-e8164f32e608",
   "metadata": {},
   "source": [
    "4. Копирование списка с вложенными объектами:"
   ]
  },
  {
   "cell_type": "code",
   "execution_count": 86,
   "id": "f07d76f9-0239-448e-a14b-f94e8c934b29",
   "metadata": {},
   "outputs": [
    {
     "name": "stdout",
     "output_type": "stream",
     "text": [
      "[[99, 2], [3, 4]]\n",
      "[[99, 2], [3, 4]]\n"
     ]
    }
   ],
   "source": [
    "original_list = [[1, 2], [3, 4]]\n",
    "shallow_copy = original_list.copy()\n",
    "shallow_copy[0][0] = 99\n",
    "print(original_list) \n",
    "print(shallow_copy)\n"
   ]
  },
  {
   "cell_type": "markdown",
   "id": "6bffbcb4-dffb-4922-b211-f78acc3ab127",
   "metadata": {},
   "source": [
    "### Глубокое копирование\n",
    "Глубокое копирование создаёт новый список и полностью копирует все вложенные структуры, создавая независимые копии каждого вложенного объекта. Для этого используется функция copy.deepcopy() из модуля copy.\n"
   ]
  },
  {
   "cell_type": "code",
   "execution_count": 87,
   "id": "b72c4fa3-e50b-4ca6-934f-58b00f5890db",
   "metadata": {},
   "outputs": [
    {
     "name": "stdout",
     "output_type": "stream",
     "text": [
      "[[1, 2], [3, 4]]\n",
      "[[99, 2], [3, 4]]\n"
     ]
    }
   ],
   "source": [
    "import copy\n",
    "\n",
    "original_list = [[1, 2], [3, 4]]\n",
    "deep_copy = copy.deepcopy(original_list)\n",
    "deep_copy[0][0] = 99\n",
    "print(original_list)\n",
    "print(deep_copy)\n"
   ]
  },
  {
   "cell_type": "markdown",
   "id": "1e3b1eea-6eda-4510-a5a2-bb34982d61a5",
   "metadata": {},
   "source": [
    "***Поверхностное копирование быстрее, так как оно копирует только верхний уровень, но глубокое копирование создаёт полную копию всех вложенных структур, обеспечивая полную независимость копии от оригинала.***\n"
   ]
  },
  {
   "cell_type": "code",
   "execution_count": null,
   "id": "2036982a-3715-4f4a-853a-064118837b30",
   "metadata": {},
   "outputs": [],
   "source": [
    "#1. Какой результат будет выведен при выполнении следующего кода?\n",
    "original_list = [[1, 2], [3, 4]]\n",
    "shallow_copy = original_list.copy()\n",
    "shallow_copy[1][0] = 0\n",
    "print(original_list)\n"
   ]
  },
  {
   "cell_type": "markdown",
   "id": "c761d408-7317-4867-b02c-6d18db4578ac",
   "metadata": {},
   "source": [
    "Для простых объектов copy() и deepcopy() работают одинаково. Разница только для вложенных структур"
   ]
  },
  {
   "cell_type": "code",
   "execution_count": 89,
   "id": "a5c15bfb-23a0-4b80-97d1-0be6b7d50e2a",
   "metadata": {},
   "outputs": [
    {
     "name": "stdout",
     "output_type": "stream",
     "text": [
      "['a', 'b', 'c']\n",
      "['l', 'b', 'c']\n"
     ]
    }
   ],
   "source": [
    "a = ['a','b','c'], ['a','b','c']\n",
    "b = a.copy()\n",
    "b[0] = 'l'\n",
    "print(a)\n",
    "print(b)"
   ]
  },
  {
   "cell_type": "code",
   "execution_count": 92,
   "id": "e669c2e7-2ef1-4493-8240-91005b3ff83a",
   "metadata": {},
   "outputs": [],
   "source": [
    "a = ['a','b','c'], ['a','b','c']"
   ]
  },
  {
   "cell_type": "code",
   "execution_count": 93,
   "id": "c7ad283f-89cb-46ac-a91f-f8a454dc6378",
   "metadata": {},
   "outputs": [
    {
     "data": {
      "text/plain": [
       "tuple"
      ]
     },
     "execution_count": 93,
     "metadata": {},
     "output_type": "execute_result"
    }
   ],
   "source": [
    "type(a)"
   ]
  },
  {
   "cell_type": "code",
   "execution_count": 94,
   "id": "7df84e9b-39ed-4797-816f-4efa9a2c8dfa",
   "metadata": {},
   "outputs": [
    {
     "name": "stdout",
     "output_type": "stream",
     "text": [
      "(['a', 'b', 'c'], ['a', 'b', 'c'])\n"
     ]
    }
   ],
   "source": [
    "print(a)"
   ]
  },
  {
   "cell_type": "markdown",
   "id": "bd17e86b-2c69-458e-8ea0-60dee9e52ff6",
   "metadata": {},
   "source": [
    "# Практические задания  \n",
    "1. Напишите программу, которая удаляет элементы из списка, если они находятся на нечетных индексах и в то же время больше 10.  \n",
    "**Данные:**  \n",
    "`numbers = [15, 25, 35, 10, 50, 15, 60, 70]`  \n",
    "\n",
    "**Пример вывода:**  \n",
    "Список после удаления: `[15, 35, 10, 50, 60]`  \n",
    "\n",
    "\n"
   ]
  },
  {
   "cell_type": "code",
   "execution_count": 99,
   "id": "0a0cb798-b04d-40cc-8c13-2dbceae91642",
   "metadata": {},
   "outputs": [
    {
     "name": "stdout",
     "output_type": "stream",
     "text": [
      "[5, 6]\n"
     ]
    }
   ],
   "source": [
    "numbers = [15, 25, 35, 1, 5, 15, 6, 70]\n",
    "res = []\n",
    "\n",
    "for i, value in enumerate(numbers):\n",
    "    if i%2 == 0 and value <= 10:\n",
    "        res += [value] # res.append(value)\n",
    "        \n",
    "print(res)"
   ]
  },
  {
   "cell_type": "code",
   "execution_count": null,
   "id": "093e85cf-d747-4cd1-81d7-0056e8fc414c",
   "metadata": {},
   "outputs": [],
   "source": []
  },
  {
   "cell_type": "code",
   "execution_count": 100,
   "id": "656a3f14-2bda-46e7-9d8c-0cb52887c38c",
   "metadata": {},
   "outputs": [
    {
     "data": {
      "text/plain": [
       "[7, 6, 5, 4, 3, 2, 1]"
      ]
     },
     "execution_count": 100,
     "metadata": {},
     "output_type": "execute_result"
    }
   ],
   "source": [
    "list(range(len(numbers) - 1, 0, -1))"
   ]
  },
  {
   "cell_type": "code",
   "execution_count": 101,
   "id": "0f2f6bf4-be04-405f-90ed-4742584dd676",
   "metadata": {},
   "outputs": [
    {
     "name": "stdout",
     "output_type": "stream",
     "text": [
      "Список после удаления: [15, 35, 10, 50, 60]\n"
     ]
    }
   ],
   "source": [
    "numbers = [15, 25, 35, 10, 50, 15, 60, 70]\n",
    "\n",
    "# Удаление элементов на нечетных индексах, если они больше 10\n",
    "for i in range(len(numbers) - 1, 0, -1):  # Проходим с конца, чтобы избежать смещения индексов\n",
    "    if i % 2 != 0 and numbers[i] > 10:\n",
    "        del numbers[i]\n",
    "\n",
    "print(\"Список после удаления:\", numbers)"
   ]
  },
  {
   "cell_type": "markdown",
   "id": "d3c181b6-30b9-4581-8fb2-4a138b748561",
   "metadata": {},
   "source": [
    "2. Напишите программу, которая создает копию вложенного списка. Затем в копии необходимо удалить элементы, которые меньше среднего значения всех элементов вложенного списка. Убедитесь, что исходный список остался неизменным.  \n",
    "**Данные:**  \n",
    "`nested_list = [[10, 15, 20], [5, 25, 30], [35, 40, 80]]`  \n",
    "\n",
    "**Пример вывода:**  \n",
    "Исходный список: `[[10, 15, 20], [5, 25, 30], [35, 40, 80]]`  \n",
    "Глубокая копия после изменений: `[[15, 20], [25, 30], [80]]`\n"
   ]
  },
  {
   "cell_type": "code",
   "execution_count": 103,
   "id": "79a30efa-9660-4524-8b63-3eb8003908ae",
   "metadata": {},
   "outputs": [
    {
     "data": {
      "text/plain": [
       "45"
      ]
     },
     "execution_count": 103,
     "metadata": {},
     "output_type": "execute_result"
    }
   ],
   "source": [
    "sum([10, 15, 20])"
   ]
  },
  {
   "cell_type": "code",
   "execution_count": null,
   "id": "7a2e2622-c12a-4f57-aeb5-5d35bf10722d",
   "metadata": {},
   "outputs": [],
   "source": []
  },
  {
   "cell_type": "code",
   "execution_count": 105,
   "id": "aeffee32-7309-44c0-8a38-64aefae594ea",
   "metadata": {},
   "outputs": [
    {
     "data": {
      "text/plain": [
       "[2, 1, 0]"
      ]
     },
     "execution_count": 105,
     "metadata": {},
     "output_type": "execute_result"
    }
   ],
   "source": [
    "sublist = [5, 25, 30]\n",
    "list(range(len(sublist) - 1, -1, -1))"
   ]
  },
  {
   "cell_type": "code",
   "execution_count": null,
   "id": "62e81e19-fcf4-4a2a-a07f-cb2ff19e8fa4",
   "metadata": {},
   "outputs": [],
   "source": [
    "range(2,-1,-1)"
   ]
  },
  {
   "cell_type": "code",
   "execution_count": 104,
   "id": "7b01c6da-bc65-472b-9b8b-58c9b0df6627",
   "metadata": {},
   "outputs": [
    {
     "name": "stdout",
     "output_type": "stream",
     "text": [
      "Исходный список: [[10, 15, 20], [5, 25, 30], [35, 40, 80]]\n",
      "Глубокая копия после изменений: [[15, 20], [25, 30], [80]]\n"
     ]
    }
   ],
   "source": [
    "import copy\n",
    "\n",
    "nested_list = [[10, 15, 20], [5, 25, 30], [35, 40, 80]]\n",
    "deep_copy = copy.deepcopy(nested_list)\n",
    "\n",
    "for sublist in deep_copy:\n",
    "    avg = sum(sublist) / len(sublist)\n",
    "    for i in range(len(sublist) - 1, -1, -1):  # Проход с конца, чтобы избежать смещения\n",
    "        if sublist[i] < avg:\n",
    "            del sublist[i]\n",
    "\n",
    "print(\"Исходный список:\", nested_list)\n",
    "print(\"Глубокая копия после изменений:\", deep_copy)\n"
   ]
  },
  {
   "cell_type": "code",
   "execution_count": null,
   "id": "7b9aca7c-d632-45f4-8bf6-5981f704be3e",
   "metadata": {},
   "outputs": [],
   "source": []
  }
 ],
 "metadata": {
  "kernelspec": {
   "display_name": "Python 3 (ipykernel)",
   "language": "python",
   "name": "python3"
  },
  "language_info": {
   "codemirror_mode": {
    "name": "ipython",
    "version": 3
   },
   "file_extension": ".py",
   "mimetype": "text/x-python",
   "name": "python",
   "nbconvert_exporter": "python",
   "pygments_lexer": "ipython3",
   "version": "3.12.4"
  }
 },
 "nbformat": 4,
 "nbformat_minor": 5
}
