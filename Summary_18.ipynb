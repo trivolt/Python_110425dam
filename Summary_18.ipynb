{
 "cells": [
  {
   "cell_type": "markdown",
   "id": "c4a8b22f-f86c-47b3-96db-471006f3dc92",
   "metadata": {},
   "source": [
    "# Summary 18"
   ]
  },
  {
   "cell_type": "code",
   "execution_count": null,
   "id": "21f9a2ac-dbf3-45de-8c23-7d39776d8161",
   "metadata": {},
   "outputs": [],
   "source": []
  },
  {
   "cell_type": "code",
   "execution_count": null,
   "id": "4dce6845-b605-441c-a3f3-cc729dccaa30",
   "metadata": {},
   "outputs": [],
   "source": []
  },
  {
   "cell_type": "code",
   "execution_count": null,
   "id": "b999159c-abb4-4754-a572-2b7c6383b6a1",
   "metadata": {},
   "outputs": [],
   "source": []
  },
  {
   "cell_type": "code",
   "execution_count": null,
   "id": "0566541c-7573-4720-9750-c8527bd65ee8",
   "metadata": {},
   "outputs": [],
   "source": []
  },
  {
   "cell_type": "code",
   "execution_count": null,
   "id": "968bd8a9-9604-427c-8fb5-02abc68546f8",
   "metadata": {},
   "outputs": [],
   "source": []
  },
  {
   "cell_type": "markdown",
   "id": "8b577e4f-ca16-4dd2-8cd9-5cef87ac11db",
   "metadata": {},
   "source": [
    "# Домашнее задание 35\n",
    "1. **Предсказание пола по имени**  \n",
    "Изучите документацию API предсказания пола по имени: genderize.io/documentation. Напишите программу, которая запрашивает имя пользователя и выводит его пол и вероятность этого предсказания.\n",
    "\n",
    "*Пример ввода:*   \n",
    "Введите имя: Sasha  \n",
    "Пример вывода:   \n",
    "Предполагаемый пол: female  \n",
    "Вероятность: 59.0%\n"
   ]
  },
  {
   "cell_type": "code",
   "execution_count": 5,
   "id": "4f5984a6-8f08-4435-ab03-e6bf0781c722",
   "metadata": {},
   "outputs": [
    {
     "name": "stdin",
     "output_type": "stream",
     "text": [
      "Введите имя:  Sasha\n"
     ]
    },
    {
     "name": "stdout",
     "output_type": "stream",
     "text": [
      "Предполагаемый пол: female\n",
      "Вероятность: 59.0%\n"
     ]
    }
   ],
   "source": [
    "import requests\n",
    "\n",
    "name = input(\"Введите имя: \")\n",
    "\n",
    "url = \"https://api.genderize.io\"\n",
    "params = {\"name\": name}\n",
    "\n",
    "response = requests.get(url, params=params)\n",
    "\n",
    "data = response.json()\n",
    "\n",
    "\n",
    "if response.status_code == 200:\n",
    "    data = response.json()\n",
    "    gender = data[\"gender\"]\n",
    "    probability = data[\"probability\"]\n",
    "\n",
    "    if gender:\n",
    "        print(f\"Предполагаемый пол: {gender}\")\n",
    "        print(f\"Вероятность: {float(probability) * 100:.1f}%\")\n",
    "    else:\n",
    "        print(\"Пол не удалось определить.\")\n",
    "else:\n",
    "    print(\"Ошибка при обращении к API:\", response.status_code)\n"
   ]
  },
  {
   "cell_type": "markdown",
   "id": "7a67bb6b-65ee-4c0e-ad16-77d1f831311a",
   "metadata": {},
   "source": [
    "2. **Получение биржевых данных через API**   \n",
    "Напишите программу, которая запрашивает у пользователя тикер (symbol) акций, обращается к функции с помесячными данными о результатах торгов (TIME_SERIES_MONTHLY) в API ресурса www.alphavantage.co, запрашивает результат в формате csv, записывает его в файл. Доступность ресурса предварительно нужно проверить. После этого файл требуется прочитать, извлечь данные из столбца volume и вычислить среднее значение этого столбца.\n",
    "\n",
    " *Пример ввода:*   \n",
    "Введите тикер: BMWYY\n",
    "\n",
    "*Пример вывода:*   \n",
    "CSV-файл успешно сохранён  \n",
    "Средний объём: 7638446.53\n"
   ]
  },
  {
   "cell_type": "code",
   "execution_count": 10,
   "id": "c34c2246-ac63-47da-9460-b0cd62876a7a",
   "metadata": {},
   "outputs": [
    {
     "name": "stdin",
     "output_type": "stream",
     "text": [
      "Введите тикер:  BMWYY\n"
     ]
    },
    {
     "name": "stdout",
     "output_type": "stream",
     "text": [
      "CSV-файл успешно сохранён\n",
      "Средний объём: 7638446.53\n"
     ]
    }
   ],
   "source": [
    "import requests, csv\n",
    "import statistics as st\n",
    "\n",
    "symbol = input(\"Введите тикер: \")\n",
    "\n",
    "params = {\n",
    "    'function' : 'TIME_SERIES_MONTHLY',\n",
    "    'symbol' : symbol,\n",
    "    'apikey' : 'F3Y69VXR8G9EYNI8',\n",
    "    'datatype' : 'csv'\n",
    "    }\n",
    "\n",
    "url = 'https://www.alphavantage.co/query'\n",
    "response = requests.get(url, params)\n",
    "\n",
    "if response.status_code == 200:\n",
    "    resp_text = response.text\n",
    "else:\n",
    "    print(\"Ошибка запроса:\", response.status_code)\n",
    "    exit()\n",
    "\n",
    "\n",
    "with open(\"output_\"+symbol+\".csv\", \"w\") as f:\n",
    "    f.write(resp_text)  \n",
    "print(\"CSV-файл успешно сохранён\")\n",
    "\n",
    "volumes = []\n",
    "with open(\"output_\"+symbol+\".csv\", \"r\") as f:\n",
    "    reader = csv.DictReader(f)\n",
    "    for row in reader:\n",
    "        value = row.get(\"volume\")\n",
    "        volumes.append(float(value))\n",
    "print(f\"Средний объём: {st.mean(volumes):.2f}\")\n"
   ]
  },
  {
   "cell_type": "code",
   "execution_count": null,
   "id": "448bebe6-23ce-4a72-810b-5a166b182d4a",
   "metadata": {},
   "outputs": [],
   "source": []
  },
  {
   "cell_type": "markdown",
   "id": "a3fe260b-62d8-4e5b-b177-c4eae96608b0",
   "metadata": {},
   "source": [
    "# Домашнее задание 36\n",
    "1. **Поиск стран**  \n",
    "Напишите программу, которая:  \n",
    "Парсит таблицу с сайта https://www.iban.com/country-codes и сохраняет ее в подходящей структуре данных;  \n",
    "Запрашивает у пользователя код страны (пользователь может ввести двухбуквенный или трехбуквенный код) и выводит название страны, соответствующей этому коду.\n",
    "\n",
    "*Пример ввода:*  \n",
    "Введите код страны (2 или 3 буквы):  FRA  \n",
    "*Пример вывода:*  \n",
    "Код FRA соответствует стране: France"
   ]
  },
  {
   "cell_type": "code",
   "execution_count": null,
   "id": "57f8919c-d88a-42ae-a74f-e62eaab21c1c",
   "metadata": {},
   "outputs": [],
   "source": [
    "import requests, statistics\n",
    "from bs4 import BeautifulSoup\n",
    "\n",
    "url = \"https://contextures.com/xlsampledata01.html\"\n",
    "response = requests.get(url)\n",
    "\n",
    "if response.status_code == 200:\n",
    "    soup = BeautifulSoup(response.text, \"html.parser\")\n",
    "    \n",
    "    # На странице много таблиц. Нас интересует третья\n",
    "    tables = soup.find_all(\"table\")\n",
    "    table = tables[2]\n",
    "\n",
    "    rows = table.find_all(\"tr\")\n",
    "    \n",
    "    # Получаем заголовки\n",
    "    headers = [td.get_text(strip=True) for td in rows[0].find_all(\"td\")]\n",
    "    \n",
    "    # Получаем строки таблицы и записываем их значения в разные списки\n",
    "    columns = {key: [] for key in headers}\n",
    "    for row in rows[1:]:\n",
    "        cells = row.find_all(\"td\")\n",
    "        for header, cell in zip(headers, cells):\n",
    "            if header in [\"Units\", \"UnitCost\", \"Total\"]:\n",
    "                columns[header].append(float(cell.text.strip()))\n",
    "            else:\n",
    "                columns[header].append(cell.text.strip())\n",
    "\n",
    "    # Вывод результатов\n",
    "    print(f\"Средняя цена товара: {statistics.mean(columns[\"UnitCost\"])}\")\n",
    "    print(f\"Суммарная выручка: {sum(columns[\"Total\"])}\")\n",
    "\n",
    "else:\n",
    "    print(\"Не удалось загрузить страницу:\", response.status_code)\n",
    "\n"
   ]
  },
  {
   "cell_type": "code",
   "execution_count": null,
   "id": "a2c26160-a241-4a9a-8f00-422f03a80941",
   "metadata": {},
   "outputs": [],
   "source": []
  }
 ],
 "metadata": {
  "kernelspec": {
   "display_name": "Python 3 (ipykernel)",
   "language": "python",
   "name": "python3"
  },
  "language_info": {
   "codemirror_mode": {
    "name": "ipython",
    "version": 3
   },
   "file_extension": ".py",
   "mimetype": "text/x-python",
   "name": "python",
   "nbconvert_exporter": "python",
   "pygments_lexer": "ipython3",
   "version": "3.12.4"
  }
 },
 "nbformat": 4,
 "nbformat_minor": 5
}
