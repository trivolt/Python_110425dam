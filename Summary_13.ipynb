{
 "cells": [
  {
   "cell_type": "markdown",
   "id": "f422b156-045a-4780-8f0d-acb34f45a1a1",
   "metadata": {},
   "source": [
    "# Summary 13"
   ]
  },
  {
   "cell_type": "code",
   "execution_count": null,
   "id": "eadea813-6360-4592-8ea1-246c1bb184eb",
   "metadata": {},
   "outputs": [],
   "source": []
  },
  {
   "cell_type": "markdown",
   "id": "88553628-0523-4438-8312-bc4eb02e04b5",
   "metadata": {},
   "source": [
    "## Домашнее задание 25\n",
    "1. ***Деление без ошибок***  \n",
    "Напишите функцию, которая выполняет деление двух чисел, введенных пользователем, и обрабатывает возможные ошибки.  \n",
    "Пример вывода:  \n",
    "Введите делимое: 345  \n",
    "Введите делитель: 5a  \n",
    "Ошибка: Введено некорректное число.\n"
   ]
  },
  {
   "cell_type": "code",
   "execution_count": 1,
   "id": "e18456ac-2c52-4e50-b940-4f0de056aa0e",
   "metadata": {},
   "outputs": [
    {
     "name": "stdin",
     "output_type": "stream",
     "text": [
      "Введите делимое:  12\n",
      "Введите делитель:  0\n"
     ]
    },
    {
     "name": "stdout",
     "output_type": "stream",
     "text": [
      "Ошибка: Деление на ноль невозможно.\n"
     ]
    }
   ],
   "source": [
    "def safe_divide():\n",
    "    try:\n",
    "        num1 = float(input(\"Введите делимое: \"))\n",
    "        num2 = float(input(\"Введите делитель: \"))\n",
    "        return num1 / num2\n",
    "    except ZeroDivisionError:\n",
    "        print(\"Ошибка: Деление на ноль невозможно.\")\n",
    "    except ValueError:\n",
    "        print(\"Ошибка: Введено некорректное число.\")\n",
    "\n",
    "result = safe_divide()\n",
    "if result is not None:\n",
    "    print(f\"Результат: {result}\")\n"
   ]
  },
  {
   "cell_type": "markdown",
   "id": "0e162e1b-9f5c-4f66-8ffa-7b99d67c8aff",
   "metadata": {},
   "source": [
    "2. ***Логирование ошибок***  \n",
    "Перенаправьте в предыдущей задаче вывод ошибок в файл errors.log в соответствии с форматом ниже.  \n",
    "Пример вывода:  \n",
    "2025-02-23 22:38:53,686 - ERROR - test.py - 16 - Ошибка: Введено некорректное число.\n"
   ]
  },
  {
   "cell_type": "code",
   "execution_count": null,
   "id": "de415d39-9a0f-432b-a03a-09887e8a0c1c",
   "metadata": {},
   "outputs": [],
   "source": [
    "import logging\n",
    "\n",
    "logging.basicConfig(filename=\"errors.log\",\n",
    "                    level=logging.ERROR,\n",
    "                    format=\"%(asctime)s - %(levelname)s - %(filename)s - %(lineno)d - %(message)s\")\n",
    "\n",
    "\n",
    "def safe_divide():\n",
    "    try:\n",
    "        num1 = float(input(\"Введите делимое: \"))\n",
    "        num2 = float(input(\"Введите делитель: \"))\n",
    "        return num1 / num2\n",
    "    except ZeroDivisionError:\n",
    "        logging.error(\"Ошибка: Деление на ноль невозможно.\")\n",
    "    except ValueError:\n",
    "        logging.error(\"Ошибка: Введено некорректное число.\")\n",
    "\n",
    "result = safe_divide()\n",
    "if result is not None:\n",
    "    print(f\"Результат: {result}\")\n"
   ]
  },
  {
   "cell_type": "markdown",
   "id": "19efd7af-0345-44e3-bff7-d884cddb7c62",
   "metadata": {},
   "source": [
    "## Домашнее задание 26\n",
    "***Список файлов и папок***  \n",
    "Напишите программу, которая принимает путь к директории через аргумент командной строки и выводит:  \n",
    "Отдельно список папок  \n",
    "Отдельно список файлов  \n",
    "Пример запуска  \n",
    "`python script.py /home/user/documents`  \n",
    "Пример вывода  \n",
    "Содержимое директории '/home/user/documents':  \n",
    "\n",
    "Папки:  \n",
    "- folder1  \n",
    "- folder2  \n",
    "\n",
    "Файлы:  \n",
    "- file1.txt  \n",
    "- file2.txt  \n",
    "- notes.docx  \n"
   ]
  },
  {
   "cell_type": "code",
   "execution_count": null,
   "id": "d6e88221-e526-4770-bbc4-1c62c0d5b3c6",
   "metadata": {},
   "outputs": [],
   "source": [
    "import os\n",
    "import sys\n",
    "\n",
    "# Проверяем, передан ли аргумент\n",
    "if len(sys.argv) != 2:\n",
    "    print(\"Использование: python script.py <путь_к_директории>\")\n",
    "    sys.exit(1)\n",
    "\n",
    "dir_path = sys.argv[1]\n",
    "\n",
    "# Проверяем существование директории\n",
    "if not os.path.exists(dir_path) or not os.path.isdir(dir_path):\n",
    "    print(f\"Ошибка: Директория '{dir_path}' не найдена.\")\n",
    "    sys.exit(1)\n",
    "\n",
    "# Разделяем файлы и папки\n",
    "folders = []\n",
    "files = []\n",
    "\n",
    "for item in os.listdir(dir_path):\n",
    "    full_path = os.path.join(dir_path, item)\n",
    "    if os.path.isdir(full_path):\n",
    "        folders.append(item)\n",
    "    elif os.path.isfile(full_path):\n",
    "        files.append(item)\n",
    "\n",
    "print(f\"\\nСодержимое директории '{dir_path}':\")\n",
    "\n",
    "if folders:\n",
    "    print(\"\\n Папки:\")\n",
    "    for folder in sorted(folders):\n",
    "        print(\"-\", folder)\n",
    "if files:\n",
    "    print(\"\\n Файлы:\")\n",
    "    for file in sorted(files):\n",
    "        print(\"-\", file)\n"
   ]
  }
 ],
 "metadata": {
  "kernelspec": {
   "display_name": "Python 3 (ipykernel)",
   "language": "python",
   "name": "python3"
  },
  "language_info": {
   "codemirror_mode": {
    "name": "ipython",
    "version": 3
   },
   "file_extension": ".py",
   "mimetype": "text/x-python",
   "name": "python",
   "nbconvert_exporter": "python",
   "pygments_lexer": "ipython3",
   "version": "3.12.4"
  }
 },
 "nbformat": 4,
 "nbformat_minor": 5
}
