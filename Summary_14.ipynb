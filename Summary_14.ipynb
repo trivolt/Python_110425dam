{
 "cells": [
  {
   "cell_type": "markdown",
   "id": "154ffd7b-064b-4a47-aa4c-fc5189aef862",
   "metadata": {},
   "source": [
    "# Summary 14"
   ]
  },
  {
   "cell_type": "code",
   "execution_count": null,
   "id": "a3436085-1ea5-4cba-9681-ee912249a09a",
   "metadata": {},
   "outputs": [],
   "source": [
    "Как подсчитать разницу во времени с помощью datatime и вывести результат в неделях? А в часах?"
   ]
  },
  {
   "cell_type": "code",
   "execution_count": null,
   "id": "94589226-c2e3-4858-b2b8-925ac60d0f50",
   "metadata": {},
   "outputs": [],
   "source": []
  },
  {
   "cell_type": "code",
   "execution_count": null,
   "id": "2ae2fb14-9ca6-4c07-85bf-0895936594c9",
   "metadata": {},
   "outputs": [],
   "source": []
  },
  {
   "cell_type": "markdown",
   "id": "3f48e425-94f2-4bf1-8ad5-ff89ff2d1212",
   "metadata": {},
   "source": [
    "## Домашнее задание 27\n",
    "***Фильтрация по ключевому слову***  \n",
    "Напишите программу, которая ищет в файле все строки, содержащие указанное пользователем слово, и сохраняет их в новый файл.  \n",
    "Имя нового файла формируется как `<keyword>_<original_filename>`.  \n",
    "Если файл не существует, программа должна вывести ошибку.  \n",
    "Если совпадения не найдены, новый файл не создаётся.  \n",
    "Используйте файл `system_log.txt.`  \n",
    "\n",
    "*Пример ввода:*  \n",
    "Введите имя файла для поиска: `system_log.txt`  \n",
    "Введите ключевое слово: `error`  \n",
    "\n",
    "*Пример вывода:*   \n",
    "Строки, содержащие 'error', сохранены в `error_system_log.txt`.\n"
   ]
  },
  {
   "cell_type": "code",
   "execution_count": 7,
   "id": "ac822bd8-f766-4f0d-8555-3a6874f60e9b",
   "metadata": {},
   "outputs": [
    {
     "name": "stdin",
     "output_type": "stream",
     "text": [
      "Введите имя файла для поиска:  system_log.txt\n",
      "Введите ключевое слово:  error\n"
     ]
    },
    {
     "name": "stdout",
     "output_type": "stream",
     "text": [
      "Строки, содержащие 'error', сохранены в 'error_system_log.txt'.\n"
     ]
    }
   ],
   "source": [
    "input_filename = input(\"Введите имя файла для поиска: \")\n",
    "keyword = input(\"Введите ключевое слово: \").lower()\n",
    "\n",
    "try:\n",
    "    with open(input_filename, \"r\", encoding=\"utf-8\") as infile:\n",
    "        matched_lines = [line for line in infile if keyword in line.lower()]\n",
    "\n",
    "        if matched_lines:\n",
    "            # Формирование имени выходного файла\n",
    "            output_filename = f\"{keyword}_{input_filename}\"\n",
    "\n",
    "            with open(output_filename, \"w\", encoding=\"utf-8\") as outfile:\n",
    "                outfile.writelines(matched_lines)\n",
    "\n",
    "            print(f\"Строки, содержащие '{keyword}', сохранены в '{output_filename}'.\")\n",
    "        else:\n",
    "            print(f\"Совпадений с '{keyword}' не найдено. Файл не создан.\")\n",
    "\n",
    "except FileNotFoundError:\n",
    "    print(f\"Ошибка: Файл '{input_filename}' не найден.\")\n"
   ]
  },
  {
   "cell_type": "markdown",
   "id": "d9658900-66b7-4af4-81bd-f5bb4593f72b",
   "metadata": {},
   "source": [
    "***Поиск и удаление дубликатов***  \n",
    "Напишите программу, которая удаляет дублирующиеся строки из файла и сохраняет результат в новый файл.  \n",
    "Имя нового файла формируется как `unique_<original_filename>.`  \n",
    "Если файл не существует, программа должна вывести ошибку.  \n",
    "Исходный порядок строк должен сохраниться.  \n",
    "Если в файле нет дубликатов, создаётся точная копия файла.  \n",
    "Используйте файл movies_to_watch.txt.  \n",
    "\n",
    "*Пример ввода:*   \n",
    "Введите имя файла: `movies_to_watch.txt`  \n",
    "\n",
    "*Пример вывода:*  \n",
    "Дубликаты удалены. Уникальные строки сохранены в `unique_movies_to_watch.txt.`\n"
   ]
  },
  {
   "cell_type": "code",
   "execution_count": 3,
   "id": "a123a66b-d1a3-4b89-af9a-f573eeaea5d2",
   "metadata": {},
   "outputs": [
    {
     "name": "stdin",
     "output_type": "stream",
     "text": [
      "Введите имя файла:  movies_to_watch.txt\n"
     ]
    },
    {
     "name": "stdout",
     "output_type": "stream",
     "text": [
      "Дубликаты удалены. Уникальные строки сохранены в 'unique_movies_to_watch.txt'.\n"
     ]
    }
   ],
   "source": [
    "input_filename = input(\"Введите имя файла: \")\n",
    "\n",
    "try:\n",
    "    with open(input_filename, \"r\", encoding=\"utf-8\") as infile:\n",
    "        lines = infile.readlines()\n",
    "\n",
    "    unique_lines = []\n",
    "    for line in lines:\n",
    "        if line not in unique_lines:\n",
    "            unique_lines.append(line)\n",
    "\n",
    "    output_filename = f\"unique_{input_filename}\"\n",
    "\n",
    "    with open(output_filename, \"w\", encoding=\"utf-8\") as outfile:\n",
    "        outfile.writelines(unique_lines)\n",
    "\n",
    "    print(f\"Дубликаты удалены. Уникальные строки сохранены в '{output_filename}'.\")\n",
    "\n",
    "except FileNotFoundError:\n",
    "    print(f\"Ошибка: Файл '{input_filename}' не найден.\")\n"
   ]
  },
  {
   "cell_type": "code",
   "execution_count": null,
   "id": "fdb55a92-a7b1-48b7-b17c-44624adc0997",
   "metadata": {},
   "outputs": [],
   "source": []
  },
  {
   "cell_type": "markdown",
   "id": "213641bb-7a54-48d9-9d4e-ebf8afc3c95a",
   "metadata": {},
   "source": [
    "## Домашнее задание 28\n",
    "***Анализ курсов студентов***  \n",
    "Реализовать программу, которая должна:  \n",
    "Прочитать файл student_courses.json, содержащий:  \n",
    "1. имя,  \n",
    "2. дату рождения (birth_date) в формате дд.мм.гггг,  \n",
    "3. дату поступления (enrollment_date) в том же формате,  \n",
    "4. список курсов.  \n",
    "\n",
    "*Вычислить:*  \n",
    "* Общее количество студентов.  \n",
    "* Средний возраст на момент поступления.  \n",
    "* Сохранить отчёт в JSON-файл student_courses_report.json.\n",
    "  \n",
    "`Данные:`  \n",
    "```\n",
    "[\n",
    "  {\"name\": \"Diana Williams\", \"birth_date\": \"12.06.1983\", \"enrollment_date\": \"29.04.2023\", \"courses\": [\"Physics\", \"Chemistry\"]}, \n",
    "  {\"name\": \"Tina Miller\", \"birth_date\": \"06.07.2004\", \"enrollment_date\": \"18.04.2020\", \"courses\": [\"Biology\", \"Business\"]}, \n",
    "  {\"name\": \"Kevin Miller\", \"birth_date\": \"20.12.2004\", \"enrollment_date\": \"16.12.2020\", \"courses\": [\"Linguistics\", \"Math\", \"History\"]}, \n",
    "  {\"name\": \"Fiona Brown\", \"birth_date\": \"05.07.1999\", \"enrollment_date\": \"02.09.2022\", \"courses\": [\"Art\", \"Philosophy\"]}, \n",
    "  {\"name\": \"Charlie Davis\", \"birth_date\": \"17.07.1998\", \"enrollment_date\": \"17.05.2023\", \"courses\": [\"Chemistry\", \"Physics\", \"Business\"]}, \n",
    "  {\"name\": \"Diana Jones\", \"birth_date\": \"24.12.1980\", \"enrollment_date\": \"26.11.2021\", \"courses\": [\"Economics\", \"Linguistics\"]}, \n",
    "  {\"name\": \"Alice Johnson\", \"birth_date\": \"22.09.1981\", \"enrollment_date\": \"23.12.2020\", \"courses\": [\"Chemistry\", \"Economics\", \"Math\"]}, \n",
    "  {\"name\": \"Ian Lopez\", \"birth_date\": \"23.11.2001\", \"enrollment_date\": \"07.05.2020\", \"courses\": [\"Philosophy\", \"Art\", \"Physics\"]}, \n",
    "  {\"name\": \"Kevin Davis\", \"birth_date\": \"30.01.1997\", \"enrollment_date\": \"20.03.2021\", \"courses\": [\"Math\", \"Economics\"]}, \n",
    "  ...\n",
    "]\n",
    "```\n",
    "\n",
    "Пример вывода `(student_courses_report.json)`:  \n",
    "```\n",
    "{\n",
    "    \"total_students\": 100,\n",
    "    \"average_enrollment_age\": 27.9\n",
    "}\n",
    "```"
   ]
  },
  {
   "cell_type": "code",
   "execution_count": 5,
   "id": "88e15bd2-e909-45fb-af8e-01dcd498e67a",
   "metadata": {},
   "outputs": [],
   "source": [
    "import json\n",
    "from datetime import datetime\n",
    "from collections import defaultdict\n",
    "\n",
    "def calculate_age(birth_date_str, ref_date_str):\n",
    "    birth_date = datetime.strptime(birth_date_str, \"%d.%m.%Y\")\n",
    "    ref_date = datetime.strptime(ref_date_str, \"%d.%m.%Y\")\n",
    "    age = ref_date.year - birth_date.year\n",
    "    return age\n",
    "\n",
    "# Чтение данных\n",
    "with open(\"student_courses.json\", \"r\") as file:\n",
    "    students = json.load(file)\n",
    "\n",
    "total = len(students)\n",
    "ages_on_enroll = []\n",
    "\n",
    "for student in students:\n",
    "    birth = student[\"birth_date\"]\n",
    "    enroll = student[\"enrollment_date\"]\n",
    "    ages_on_enroll.append(calculate_age(birth, enroll))\n",
    "\n",
    "report = {\n",
    "    \"total_students\": total,\n",
    "    \"average_enrollment_age\": round(sum(ages_on_enroll) / total, 1),\n",
    "}\n",
    "\n",
    "with open(\"student_courses_report.json\", \"w\") as file:\n",
    "    json.dump(report, file)\n"
   ]
  },
  {
   "cell_type": "code",
   "execution_count": null,
   "id": "55221805-66b3-4f01-a56d-ada954a3c146",
   "metadata": {},
   "outputs": [],
   "source": [
    "# с добавлением курса"
   ]
  },
  {
   "cell_type": "code",
   "execution_count": 6,
   "id": "cb6e499a-bb45-440f-9312-92a3dd8ff504",
   "metadata": {},
   "outputs": [],
   "source": [
    "import json\n",
    "from datetime import datetime\n",
    "from collections import defaultdict\n",
    "\n",
    "def calculate_age(birth_date_str, ref_date_str):\n",
    "    birth_date = datetime.strptime(birth_date_str, \"%d.%m.%Y\")\n",
    "    ref_date = datetime.strptime(ref_date_str, \"%d.%m.%Y\")\n",
    "    age = ref_date.year - birth_date.year\n",
    "    return age\n",
    "\n",
    "# Чтение данных\n",
    "with open(\"student_courses.json\", \"r\") as file:\n",
    "    students = json.load(file)\n",
    "\n",
    "total = len(students)\n",
    "ages_on_enroll = []\n",
    "course_counts = defaultdict(int)  # Словарь для подсчёта студентов по курсам\n",
    "\n",
    "for student in students:\n",
    "    birth = student[\"birth_date\"]\n",
    "    enroll = student[\"enrollment_date\"]\n",
    "    ages_on_enroll.append(calculate_age(birth, enroll))\n",
    "    \n",
    "    # Подсчёт студентов по курсам\n",
    "    for course in student[\"courses\"]:\n",
    "        course_counts[course] += 1\n",
    "\n",
    "report = {\n",
    "    \"total_students\": total,\n",
    "    \"average_enrollment_age\": round(sum(ages_on_enroll) / total, 1),\n",
    "    \"students_per_course\": dict(course_counts)  # Добавляем данные по курсам\n",
    "}\n",
    "\n",
    "with open(\"student_courses_report.json\", \"w\") as file:\n",
    "    json.dump(report, file, ensure_ascii=False, indent=4)"
   ]
  },
  {
   "cell_type": "code",
   "execution_count": null,
   "id": "0c269a5d-f5cf-4a16-a424-8130fc67c3f9",
   "metadata": {},
   "outputs": [],
   "source": []
  }
 ],
 "metadata": {
  "kernelspec": {
   "display_name": "Python 3 (ipykernel)",
   "language": "python",
   "name": "python3"
  },
  "language_info": {
   "codemirror_mode": {
    "name": "ipython",
    "version": 3
   },
   "file_extension": ".py",
   "mimetype": "text/x-python",
   "name": "python",
   "nbconvert_exporter": "python",
   "pygments_lexer": "ipython3",
   "version": "3.12.4"
  }
 },
 "nbformat": 4,
 "nbformat_minor": 5
}
