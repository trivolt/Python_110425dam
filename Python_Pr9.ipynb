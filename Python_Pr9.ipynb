{
 "cells": [
  {
   "cell_type": "markdown",
   "id": "49a9bfa1-4b75-42af-8782-9bc95a754f7a",
   "metadata": {},
   "source": [
    "# Практические задания 9\n",
    "* Лекция 18 - Словари, frozenset\n",
    "* Лекция 19 - Словари продолжение\n"
   ]
  },
  {
   "cell_type": "markdown",
   "id": "3312b56e-a401-4131-92f2-79daae354e3f",
   "metadata": {},
   "source": [
    "1. ***Числа кратные 3 или 5***  \n",
    "Напишите программу, которая создает множество из чисел, фильтруя элементы, не кратные 3 или 5.  \n",
    "Данные:  \n",
    "`numbers = [16, 18, 1, 6, 3, 2, 6, 2, 14, 3, 20, 15, 19, 4, 18, 15, 15, 4, 20, 18]`  \n",
    "\n",
    "\n",
    "Пример вывода:   \n",
    "`{3, 6, 15, 18, 20}`  \n"
   ]
  },
  {
   "cell_type": "code",
   "execution_count": 3,
   "id": "031d004b-3c43-4d7e-8bed-03d1808aad42",
   "metadata": {},
   "outputs": [
    {
     "name": "stdout",
     "output_type": "stream",
     "text": [
      "{3, 6, 15, 18, 20}\n"
     ]
    }
   ],
   "source": [
    "numbers = [16, 18, 1, 6, 3, 2, 6, 2, 14, 3, 20, 15, 19, 4, 18, 15, 15, 4, 20, 18]\n",
    "result = {num for num in numbers if num % 3 == 0 or num % 5 == 0}\n",
    "print(result)"
   ]
  },
  {
   "cell_type": "markdown",
   "id": "d634dbda-a075-45ac-8474-c87cb0705c26",
   "metadata": {},
   "source": [
    "2. ***Проверка уникальности ключей***  \n",
    "Напишите программу, которая проверяет, содержатся ли в двух заданных словарях одинаковые ключи. Вывести одинаковые ключи или \"-\", если таковых нет.  \n",
    "Данные:  \n",
    "`dict1 = {\"a\": 1, \"b\": 2, \"c\": 3}`  \n",
    "`dict2 = {\"b\": 5, \"d\": 7, \"a\": 8}`  \n",
    "\n",
    "Пример вывода:  \n",
    "Общие ключи: `['a', 'b']` \n"
   ]
  },
  {
   "cell_type": "code",
   "execution_count": 6,
   "id": "77ea08e2-cd24-4671-a836-8fba2ad42207",
   "metadata": {},
   "outputs": [
    {
     "name": "stdout",
     "output_type": "stream",
     "text": [
      "['b', 'a']\n"
     ]
    }
   ],
   "source": [
    "dict1 = {\"a\": 1, \"b\": 2, \"c\": 3}\n",
    "dict2 = {\"b\": 5, \"d\": 7, \"a\": 8}\n",
    "\n",
    "set1 = set(dict1)\n",
    "set2 = set(dict2)\n",
    "print(list(set1 & set2))\n"
   ]
  },
  {
   "cell_type": "code",
   "execution_count": 10,
   "id": "81528f9f-72ee-47c8-9412-5bd6e8094500",
   "metadata": {},
   "outputs": [
    {
     "data": {
      "text/plain": [
       "['a', 'b']"
      ]
     },
     "execution_count": 10,
     "metadata": {},
     "output_type": "execute_result"
    }
   ],
   "source": [
    "[key for key in dict1 if key in dict2]"
   ]
  },
  {
   "cell_type": "markdown",
   "id": "b635a8a5-a847-431e-baf8-6e91c8e95379",
   "metadata": {},
   "source": [
    "3. ***Строки с длиной***  \n",
    "Напишите программу, которая преобразует список строк в словарь, где ключи — сами строки, а значения — квадраты их длины.  \n",
    "Данные:   \n",
    "`words = [\"apple\", \"banana\", \"cherry\", \"date\"]`  \n",
    "\n",
    "Пример вывода:  \n",
    "`{'apple': 25, 'banana': 36, 'cherry': 36, 'date': 16}`\n"
   ]
  },
  {
   "cell_type": "code",
   "execution_count": 11,
   "id": "74393139-e6ed-4352-b1de-8ec6ba550ca2",
   "metadata": {},
   "outputs": [
    {
     "name": "stdout",
     "output_type": "stream",
     "text": [
      "{'apple': 25, 'banana': 36, 'cherry': 36, 'date': 16}\n"
     ]
    }
   ],
   "source": [
    "words = [\"apple\", \"banana\", \"cherry\", \"date\"]\n",
    "length_dict = {word: len(word)**2 for word in words}\n",
    "print(length_dict)"
   ]
  },
  {
   "cell_type": "markdown",
   "id": "d9cf04c9-75c8-4c47-8dba-4fd665471fe0",
   "metadata": {},
   "source": [
    "4. ***Проверка подмножества***  \n",
    "Напишите программу, которая проверяет, является ли один из словарей подмножеством другого (т.е. все пары \"ключ-значение\" одного словаря содержатся в другом словаре).  \n",
    "Данные:    \n",
    "`dict1 = {\"a\": 1, \"b\": 2}`  \n",
    "`dict2 = {\"a\": 1, \"b\": 2, \"c\": 3}`  \n",
    "\n",
    "Пример вывода:  \n",
    "Первый словарь является подмножеством второго.\n"
   ]
  },
  {
   "cell_type": "code",
   "execution_count": 12,
   "id": "3aa3a617-1473-432d-8163-01ca0ac4d9a6",
   "metadata": {},
   "outputs": [],
   "source": [
    "dict1 = {\"a\": 1, \"b\": 2}\n",
    "dict2 = {\"a\": 1, \"b\": 2, \"c\": 3}\n"
   ]
  },
  {
   "cell_type": "code",
   "execution_count": 14,
   "id": "e386cf2c-ecc4-4c05-9274-55c99fff271b",
   "metadata": {},
   "outputs": [
    {
     "name": "stdout",
     "output_type": "stream",
     "text": [
      "Первый словарь является подмножеством второго\n"
     ]
    }
   ],
   "source": [
    "if dict1.items() <= dict2.items():\n",
    "    print('Первый словарь является подмножеством второго')\n",
    "elif dict2.items() <= dict1.items():\n",
    "    print('Второй словарь является подмножеством первый')\n",
    "else:\n",
    "    print('Ни один из словарей не является подмножеством другого')"
   ]
  },
  {
   "cell_type": "markdown",
   "id": "e6f39841-fde2-4caa-883c-b3b4c087813e",
   "metadata": {},
   "source": [
    "5. ***Удаление пустых значений***   \n",
    "Напишите программу, которая удаляет из словаря все пары \"ключ-значение\", где значение пустое (например, None, пустая строка или пустой список).  \n",
    "Данные:  \n",
    "`data = {\"a\": None, \"b\": 2, \"c\": \"\", \"d\": [], \"e\": [1, 2]}`  \n",
    "\n",
    "Пример вывода:  \n",
    "`{'b': 2, 'e': [1, 2]}`\n"
   ]
  },
  {
   "cell_type": "code",
   "execution_count": 31,
   "id": "c6a42080-d958-43a6-847c-bb231c659a0e",
   "metadata": {},
   "outputs": [
    {
     "data": {
      "text/plain": [
       "{'e': [1, 2]}"
      ]
     },
     "execution_count": 31,
     "metadata": {},
     "output_type": "execute_result"
    }
   ],
   "source": [
    "data = {\"a\": None, \"b\": 0, \"c\": \"\", \"d\": [], \"e\": [1, 2]}\n",
    "\n",
    "{key: value  for key, value in data.items() if value}"
   ]
  },
  {
   "cell_type": "code",
   "execution_count": 28,
   "id": "2eeefe09-9a5a-4073-8146-ef9ba10f37a4",
   "metadata": {},
   "outputs": [
    {
     "name": "stdout",
     "output_type": "stream",
     "text": [
      "-\n"
     ]
    }
   ],
   "source": [
    "if None: #0, None - для числовых как False\n",
    "    print('+')\n",
    "else:\n",
    "    print('-')"
   ]
  },
  {
   "cell_type": "code",
   "execution_count": 30,
   "id": "c1dc4e52-bde8-4c9d-9bd9-fe0892b51e7b",
   "metadata": {},
   "outputs": [
    {
     "data": {
      "text/plain": [
       "True"
      ]
     },
     "execution_count": 30,
     "metadata": {},
     "output_type": "execute_result"
    }
   ],
   "source": [
    "bool()"
   ]
  },
  {
   "cell_type": "markdown",
   "id": "a05e2207-2afb-4b50-8af3-b444bc449516",
   "metadata": {},
   "source": [
    "6. ***Потерянные страницы книги***  \n",
    "Вам дан словарь, где ключи — номера страниц книги, а значения — содержимое страниц. Некоторые страницы отсутствуют (значения None). Напишите программу, которая на пропущенных страницах заменит значение на \"Страница потеряна\".  \n",
    "Данные:  \n",
    "`book = {1: \"Начало истории\", 2: None, 3: \"Глава 1\", 4: None, 5: \"Глава 2\"}`  \n",
    "\n",
    "Пример вывода:  \n",
    "Изменённый словарь: `{1: 'Начало истории', 2: 'Страница потеряна', 3: 'Глава 1', 4: 'Страница потеряна', 5: 'Глава 2'}`  \n"
   ]
  },
  {
   "cell_type": "code",
   "execution_count": 34,
   "id": "1d5d9789-306b-4bac-aa38-25e7d5329af2",
   "metadata": {},
   "outputs": [
    {
     "name": "stdout",
     "output_type": "stream",
     "text": [
      "{2: 'Страница потеряна', 4: 'Страница потеряна', 1: 'Начало истории', 3: 'Глава 1', 5: 'Глава 2'}\n"
     ]
    }
   ],
   "source": [
    "book = {1: \"Начало истории\", 2: None, 3: \"Глава 1\", 4: None, 5: \"Глава 2\"}\n",
    "\n",
    "d1 = {key: 'Страница потеряна' for key, value in book.items() if not value}\n",
    "d2 = {key: value for key, value in book.items() if value}\n",
    "d1.update(d2)\n",
    "print(d1)"
   ]
  },
  {
   "cell_type": "code",
   "execution_count": 37,
   "id": "84fb6e93-b696-4974-a2d5-4fe3873e4b3f",
   "metadata": {},
   "outputs": [
    {
     "name": "stdout",
     "output_type": "stream",
     "text": [
      "{1: 'Начало истории', 2: 'Страница потеряна', 3: 'Глава 1', 4: 'Страница потеряна', 5: 'Глава 2'}\n"
     ]
    }
   ],
   "source": [
    "book = {1: \"Начало истории\", 2: None, 3: \"Глава 1\", 4: None, 5: \"Глава 2\"}\n",
    "for page, text in book.items():\n",
    "    if not text:\n",
    "        book[page]='Страница потеряна'\n",
    "\n",
    "print(book)"
   ]
  },
  {
   "cell_type": "code",
   "execution_count": null,
   "id": "95c93995-b264-4f13-8180-c5e4aa332a0a",
   "metadata": {},
   "outputs": [],
   "source": []
  },
  {
   "cell_type": "markdown",
   "id": "6cb24fae-ce4a-40d4-8dcc-a376601f5e49",
   "metadata": {},
   "source": [
    "7. ***База оценок студентов***  \n",
    "У вас есть словарь с именами студентов и списками их оценок. Напишите программу, которая вычисляет средний балл для каждого студента. Далее нужно сохранить средний балл в значениях для каждого студента, как показано на примере.\n",
    "Данные:  \n",
    "```\n",
    "grades = {\n",
    "    \"anna\": [5, 4, 3, 5],\n",
    "    \"bennet\": [3, 2, 4],\n",
    "    \"john\": [5, 5, 5]\n",
    "}\n",
    "```  \n",
    "\n",
    "Пример вывода:  \n",
    "`{'anna': {'оценки': [5, 4, 3, 5], 'средний балл': 4.25}, 'bennet': {'оценки': [3, 2, 4], 'средний балл': 3.0}, 'john': {'оценки': [5, 5, 5], 'средний балл': 5.0}}`\n"
   ]
  },
  {
   "cell_type": "code",
   "execution_count": 39,
   "id": "d5db246a-52cb-46d3-af48-7318d0f3a899",
   "metadata": {},
   "outputs": [
    {
     "name": "stdout",
     "output_type": "stream",
     "text": [
      "{'anna': {'оценки': [5, 4, 3, 5], 'средний балл': 4.25}, 'bennet': {'оценки': [3, 2, 4], 'средний балл': 3.0}, 'john': {'оценки': [5, 5, 5], 'средний балл': 5.0}}\n"
     ]
    }
   ],
   "source": [
    "grades = {\n",
    "    \"anna\": [5, 4, 3, 5],\n",
    "    \"bennet\": [3, 2, 4],\n",
    "    \"john\": [5, 5, 5]\n",
    "}\n",
    "\n",
    "for name, list_grades in grades.items():\n",
    "    #print(name, list_grades)\n",
    "    grades[name] = {\n",
    "        'оценки': list_grades,\n",
    "        'средний балл': sum(list_grades)/len(list_grades)\n",
    "    }\n",
    "\n",
    "print(grades)"
   ]
  },
  {
   "cell_type": "code",
   "execution_count": null,
   "id": "0ee54380-8dea-45e6-831d-209ead376fd3",
   "metadata": {},
   "outputs": [],
   "source": []
  },
  {
   "cell_type": "code",
   "execution_count": null,
   "id": "b5ab8425-80fe-40a5-b8cf-6f31ca3fbe5c",
   "metadata": {},
   "outputs": [],
   "source": []
  },
  {
   "cell_type": "markdown",
   "id": "a6e8a543-8fc9-4502-bcbb-5466db77e744",
   "metadata": {},
   "source": [
    "8. ***Одинаковые предметы***  \n",
    "Задача:  \n",
    "Есть список студентов и наборы предметов, которые они изучают.  \n",
    "Необходимо сгруппировать студентов по идентичным наборам предметов, используя frozenset как ключ, и вывести группы.  \n",
    "Данные:  \n",
    "```\n",
    "students = {\n",
    "    \"Alice\": [\"Math\", \"Physics\"],\n",
    "    \"Bob\": [\"Math\", \"Physics\"],\n",
    "    \"Charlie\": [\"Chemistry\", \"Biology\"],\n",
    "    \"David\": [\"Math\", \"Physics\"],\n",
    "    \"Eve\": [\"Chemistry\", \"Biology\"]\n",
    "}\n",
    "```  \n",
    "Пример вывода:  \n",
    "Группа с предметами: `Physics, Math: ['Alice', 'Bob', 'David']`  \n",
    "Группа с предметами: `Biology, Chemistry: ['Charlie', 'Eve']`\n"
   ]
  },
  {
   "cell_type": "code",
   "execution_count": 42,
   "id": "487e1334-80a7-4401-a3e5-14c17b12e251",
   "metadata": {},
   "outputs": [
    {
     "name": "stdout",
     "output_type": "stream",
     "text": [
      "Группа с предметами: Math, Physics: ['Alice', 'Bob', 'David']\n",
      "Группа с предметами: Biology, Chemistry: ['Charlie', 'Eve']\n"
     ]
    }
   ],
   "source": [
    "students = {\n",
    "    \"Alice\": [\"Math\", \"Physics\"],\n",
    "    \"Bob\": [\"Math\", \"Physics\"],\n",
    "    \"Charlie\": [\"Chemistry\", \"Biology\"],\n",
    "    \"David\": [\"Math\", \"Physics\"],\n",
    "    \"Eve\": [\"Chemistry\", \"Biology\"]\n",
    "}\n",
    "\n",
    "groups = {}\n",
    "\n",
    "for student, subjects in students.items():\n",
    "    subj_frozen = frozenset(subjects)\n",
    "    groups.setdefault(subj_frozen, []).append(student)\n",
    "\n",
    "for subj, group in groups.items():\n",
    "    print(f'Группа с предметами: {', '.join(subj)}: {group}')\n",
    "\n"
   ]
  },
  {
   "cell_type": "code",
   "execution_count": 43,
   "id": "4160d34b-3458-4c6b-bba5-12fe6f125eba",
   "metadata": {},
   "outputs": [
    {
     "name": "stdout",
     "output_type": "stream",
     "text": [
      "{frozenset({'Math', 'Physics'}): ['Alice', 'Bob', 'David'], frozenset({'Biology', 'Chemistry'}): ['Charlie', 'Eve']}\n"
     ]
    }
   ],
   "source": [
    "print(groups)"
   ]
  },
  {
   "cell_type": "markdown",
   "id": "e06ec4a7-91b9-4a25-9cb3-fda6c9cea3e0",
   "metadata": {},
   "source": [
    "9. ***Перевод и расширение словаря***  \n",
    "Напишите программу, которая позволяет пользователю вводить английские слова и получать их перевод на русский из словаря. Если слово отсутствует в словаре, программа должна выводить сообщение \"Перевод отсутствует\".  \n",
    "В конце программа должна предложить пользователю добавить новые слова в словарь.  \n",
    "Данные:  \n",
    "```\n",
    "english_words = {\n",
    "    \"Butterfly\": \"Бабочка\",\n",
    "    \"Training\": \"Обучение\",\n",
    "    \"Restaurant\": \"Ресторан\",\n",
    "    \"Programming\": \"Программирование\",\n",
    "}\n",
    "```\n",
    "Пример вывода:  \n",
    "Введите слово на английском (или 'exit' для выхода): Butterfly  \n",
    "Перевод: Бабочка  \n",
    "\n",
    "Введите слово на английском (или 'exit' для выхода): Travel  \n",
    "Перевод отсутствует.  \n",
    "Хотите добавить перевод? (да/нет): да  \n",
    "Введите перевод для слова \"Travel\": Путешествие  \n",
    "Слово \"Travel\" добавлено в словарь.  \n",
    "\n",
    "Введите слово на английском (или 'exit' для выхода): exit  \n",
    "Программа завершена.\n"
   ]
  },
  {
   "cell_type": "code",
   "execution_count": 44,
   "id": "19ab2934-8979-4af5-bdf0-8069ae122dcc",
   "metadata": {},
   "outputs": [
    {
     "name": "stdout",
     "output_type": "stream",
     "text": [
      "Fgag\n"
     ]
    }
   ],
   "source": [
    "name = 'FGaG'\n",
    "print(name.capitalize())"
   ]
  },
  {
   "cell_type": "code",
   "execution_count": 1,
   "id": "8a550012-e531-463d-9b97-859ec31a93fb",
   "metadata": {},
   "outputs": [
    {
     "name": "stdin",
     "output_type": "stream",
     "text": [
      "Введите слово на английском (или \"exit\" для выхода): Exit\n"
     ]
    },
    {
     "name": "stdout",
     "output_type": "stream",
     "text": [
      "Программа завершена.\n"
     ]
    }
   ],
   "source": [
    "english_words = {\n",
    "    \"Butterfly\": \"Бабочка\",\n",
    "    \"Training\": \"Обучение\",\n",
    "    \"Restaurant\": \"Ресторан\",\n",
    "    \"Programming\": \"Программирование\",\n",
    "}\n",
    "\n",
    "while True:\n",
    "    eng_word = input('Введите слово на английском (или \"exit\" для выхода):').strip().capitalize()\n",
    "    \n",
    "    if eng_word == 'Exit':\n",
    "        print('Программа завершена.')\n",
    "        break\n",
    "\n",
    "    translation = english_words.get(eng_word)\n",
    "    if translation:\n",
    "        print(f'Перевод: {translation}')\n",
    "    else:\n",
    "        print('Перевод отсутствует.')\n",
    "        add_translation = input('Хотите добавить перевод? (да/нет): ').strip().lower()\n",
    "        if add_translation == 'да':\n",
    "            new_translation = input(f'Введите перевод для слова \"{eng_word}\": ').strip().capitalize()\n",
    "            english_words[eng_word] = new_translation\n",
    "            print(f'Слово \"{eng_word}\" добавлено в словарь.')\n",
    "\n",
    "\n",
    "\n",
    "\n",
    "    "
   ]
  },
  {
   "cell_type": "code",
   "execution_count": null,
   "id": "fbc4ea66-ea1d-4520-b2bb-364950d1f77e",
   "metadata": {},
   "outputs": [],
   "source": []
  },
  {
   "cell_type": "code",
   "execution_count": null,
   "id": "2dc1933c-200a-4e86-b0cd-b7893aa57cb9",
   "metadata": {},
   "outputs": [],
   "source": []
  },
  {
   "cell_type": "code",
   "execution_count": null,
   "id": "500bc184-0329-46df-8a47-11ceacb1ff01",
   "metadata": {},
   "outputs": [],
   "source": []
  }
 ],
 "metadata": {
  "kernelspec": {
   "display_name": "Python 3 (ipykernel)",
   "language": "python",
   "name": "python3"
  },
  "language_info": {
   "codemirror_mode": {
    "name": "ipython",
    "version": 3
   },
   "file_extension": ".py",
   "mimetype": "text/x-python",
   "name": "python",
   "nbconvert_exporter": "python",
   "pygments_lexer": "ipython3",
   "version": "3.12.4"
  }
 },
 "nbformat": 4,
 "nbformat_minor": 5
}
