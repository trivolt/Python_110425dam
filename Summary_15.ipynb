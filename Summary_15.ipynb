{
 "cells": [
  {
   "cell_type": "markdown",
   "id": "fc8deb02-c02d-4c1f-b9dc-e5fb2c664657",
   "metadata": {},
   "source": [
    "# Summary 15"
   ]
  },
  {
   "cell_type": "code",
   "execution_count": null,
   "id": "8923c048-193d-4503-8fdc-8dd78ae5d966",
   "metadata": {},
   "outputs": [],
   "source": []
  },
  {
   "cell_type": "markdown",
   "id": "095db46c-6444-4abd-a904-7e0277be73c7",
   "metadata": {},
   "source": [
    "## Домашнее задание 29\n",
    "\n",
    "На лекции при выполнении практического задания 2 был получен файл grades.csv. Напишите программу, которая:\n",
    "1. Читает этот файл.\n",
    "2. Создает на его основе три новых файла: grades-Science.csv, grades-Math.csv, grades-Physics.csv. В каждом из этих файлов только два столбца - имя и количество баллов по тому предмету, который указан в названии файла.\n",
    "3. Создает четвертый файл grades-info.csv. В этом файле три строки (по названиям предметов) и столбцы со статистическими характеристиками оценок: среднее арифметическое, минимум, максимум, медиана, стандартное отклонение.\n"
   ]
  },
  {
   "cell_type": "code",
   "execution_count": 1,
   "id": "dff5fe85-446f-462f-9d79-72d886a1def1",
   "metadata": {},
   "outputs": [],
   "source": [
    "import csv\n",
    "import statistics\n",
    "\n",
    "# Чтение данных из файла grades.csv в обычный словарь\n",
    "data = []\n",
    "with open('grades.csv', newline='') as f:\n",
    "    reader = csv.DictReader(f)\n",
    "    for row in reader:\n",
    "        data.append(row)\n",
    "\n",
    "# Разделение данных по предметам\n",
    "subjects = ['Science', 'Math', 'Physics']\n",
    "grades_data = {subject: [] for subject in subjects}\n",
    "\n",
    "for row in data:\n",
    "    if row['subject'] in subjects:\n",
    "        grades_data[row['subject']].append({\n",
    "            'name': row['name'],\n",
    "            'grade': int(row['grade'])\n",
    "        })\n",
    "\n",
    "\n",
    "# Создание файлов для каждого предмета\n",
    "for subject in subjects:\n",
    "    with open(f'grades-{subject}.csv', 'w', newline='') as f:\n",
    "        writer = csv.DictWriter(f, fieldnames=['name', 'grade'])\n",
    "        writer.writeheader()\n",
    "        writer.writerows(grades_data[subject])\n",
    "\n",
    "# Вычисление статистических характеристик\n",
    "stats_data = []\n",
    "\n",
    "for subject in subjects:\n",
    "    grades = [row['grade'] for row in grades_data[subject]]\n",
    "    stats = {\n",
    "        'subject': subject,\n",
    "        'mean': statistics.mean(grades),\n",
    "        'min': min(grades),\n",
    "        'max': max(grades),\n",
    "        'median': statistics.median(grades),\n",
    "        'stdev': statistics.stdev(grades)\n",
    "    }\n",
    "    stats_data.append(stats)\n",
    "\n",
    "# Создание файла grades-info.csv\n",
    "with open('grades-info.csv', 'w', newline='') as f:\n",
    "    writer = csv.DictWriter(f, fieldnames=['subject', 'mean', 'min', 'max', 'median', 'stdev'])\n",
    "    writer.writeheader()\n",
    "    writer.writerows(stats_data)\n"
   ]
  },
  {
   "cell_type": "markdown",
   "id": "0cdcd7da-f251-42fd-a7d1-c9df4de92648",
   "metadata": {},
   "source": [
    "## Домашнее задание 30\n",
    "\n",
    "\n",
    "1. ***Комбинации одежды***\n",
    "Напишите функцию, которая принимает списки типов одежды, цветов и размеров, а затем генерирует все возможные комбинации в формате \"Clothe - Color - Size\".  \n",
    "Данные:  \n",
    "```\n",
    "clothes = [\"T-shirt\", \"Jeans\", \"Jacket\"]  \n",
    "colors = [\"Red\", \"Blue\", \"Black\"]  \n",
    "sizes = [\"S\", \"M\", \"L\"]  \n",
    "```\n",
    "Пример вывода:  \n",
    "```\n",
    "T-shirt - Red - S  \n",
    "T-shirt - Red - M  \n",
    "T-shirt - Red - L  \n",
    "T-shirt - Blue - S  \n",
    "...  \n",
    "Jacket - Black - L  \n",
    "```"
   ]
  },
  {
   "cell_type": "code",
   "execution_count": 2,
   "id": "10c4bde1-1842-49df-9e88-3375d441b4fd",
   "metadata": {},
   "outputs": [
    {
     "name": "stdout",
     "output_type": "stream",
     "text": [
      "T-shirt - Red - S\n",
      "T-shirt - Red - M\n",
      "T-shirt - Red - L\n",
      "T-shirt - Blue - S\n",
      "T-shirt - Blue - M\n",
      "T-shirt - Blue - L\n",
      "T-shirt - Black - S\n",
      "T-shirt - Black - M\n",
      "T-shirt - Black - L\n",
      "Jeans - Red - S\n",
      "Jeans - Red - M\n",
      "Jeans - Red - L\n",
      "Jeans - Blue - S\n",
      "Jeans - Blue - M\n",
      "Jeans - Blue - L\n",
      "Jeans - Black - S\n",
      "Jeans - Black - M\n",
      "Jeans - Black - L\n",
      "Jacket - Red - S\n",
      "Jacket - Red - M\n",
      "Jacket - Red - L\n",
      "Jacket - Blue - S\n",
      "Jacket - Blue - M\n",
      "Jacket - Blue - L\n",
      "Jacket - Black - S\n",
      "Jacket - Black - M\n",
      "Jacket - Black - L\n"
     ]
    }
   ],
   "source": [
    "import itertools\n",
    "\n",
    "def generate_outfits(clothes, colors, sizes):\n",
    "    return (\" - \".join(comb) for comb in itertools.product(clothes, colors, sizes))\n",
    "\n",
    "# Данные\n",
    "clothes = [\"T-shirt\", \"Jeans\", \"Jacket\"]\n",
    "colors = [\"Red\", \"Blue\", \"Black\"]\n",
    "sizes = [\"S\", \"M\", \"L\"]\n",
    "\n",
    "outfit_iterator = generate_outfits(clothes, colors, sizes)\n",
    "\n",
    "# Выводим комбинации\n",
    "for outfit in outfit_iterator:\n",
    "    print(outfit)\n"
   ]
  },
  {
   "cell_type": "markdown",
   "id": "fa69e1e1-844d-4cda-91b5-cdb905260d96",
   "metadata": {},
   "source": [
    "2. ***Генератор уникальных элементов***\n",
    "Создайте генератор, который принимает список элементов и выдаёт только уникальные значения, сохраняя порядок их появления в исходном списке.  \n",
    "Данные:     \n",
    "`data = [3, 1, 2, 3, 4, 1, 5, 2, 6, 7, 5, 8]`  \n",
    "Пример вывода:   \n",
    "```\n",
    "3  \n",
    "1\n",
    "2\n",
    "4\n",
    "5\n",
    "6\n",
    "7\n",
    "8\n",
    "```"
   ]
  },
  {
   "cell_type": "code",
   "execution_count": 4,
   "id": "1240e9c7-3890-4b02-bf26-12665117498b",
   "metadata": {},
   "outputs": [
    {
     "name": "stdout",
     "output_type": "stream",
     "text": [
      "3\n",
      "1\n",
      "2\n",
      "4\n",
      "5\n",
      "6\n",
      "7\n",
      "8\n"
     ]
    }
   ],
   "source": [
    "def unique_elements(sequence):\n",
    "    seen = set()\n",
    "    for item in sequence:\n",
    "        if item not in seen:\n",
    "            seen.add(item)\n",
    "            yield item\n",
    "\n",
    "# Исходные данные\n",
    "data = [3, 1, 2, 3, 4, 1, 5, 2, 6, 7, 5, 8]\n",
    "\n",
    "gen = unique_elements(data)\n",
    "\n",
    "for num in gen:\n",
    "    print(num)\n"
   ]
  },
  {
   "cell_type": "code",
   "execution_count": null,
   "id": "c51830a1-18a0-4a2f-be1a-238c9bba673f",
   "metadata": {},
   "outputs": [],
   "source": []
  }
 ],
 "metadata": {
  "kernelspec": {
   "display_name": "Python 3 (ipykernel)",
   "language": "python",
   "name": "python3"
  },
  "language_info": {
   "codemirror_mode": {
    "name": "ipython",
    "version": 3
   },
   "file_extension": ".py",
   "mimetype": "text/x-python",
   "name": "python",
   "nbconvert_exporter": "python",
   "pygments_lexer": "ipython3",
   "version": "3.12.4"
  }
 },
 "nbformat": 4,
 "nbformat_minor": 5
}
