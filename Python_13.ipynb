{
 "cells": [
  {
   "cell_type": "markdown",
   "id": "91ad8ec8-1647-479a-9a75-9c34b2259d98",
   "metadata": {},
   "source": [
    "# Кортежи"
   ]
  },
  {
   "cell_type": "markdown",
   "id": "930aa75c-8f2f-4b69-9e8e-85d6f9482c9b",
   "metadata": {},
   "source": [
    "***Кортеж*** — это упорядоченная неизменяемая (immutable) коллекция элементов. Это значит, что после создания кортежа его содержимое нельзя изменить (добавлять, удалять или заменять элементы). Кортежи используются там, где требуется защитить данные от изменений и гарантировать их постоянство.  \n",
    "\n",
    "Основные характеристики кортежа:  \n",
    "* Неизменяемость: После создания кортежа его элементы нельзя изменить.  \n",
    "* Упорядоченность: Элементы в кортеже сохраняют порядок, в котором они были добавлены.  \n",
    "* Поддержка дубликатов: Список может содержать повторяющиеся элементы.  \n",
    "* Поддержка различных типов данных: Кортеж может содержать элементы разных типов.  \n",
    "* Индексация: К кортежам можно обращаться по индексу, как и к спискам.  \n"
   ]
  },
  {
   "cell_type": "markdown",
   "id": "651604c4-e80d-42b2-ab46-8fb08c178d3d",
   "metadata": {},
   "source": [
    "### Создание кортежей  \n",
    "1. Создание кортежа с несколькими элементами  \n",
    "Кортеж создаётся с использованием круглых скобок (), а элементы внутри разделяются запятыми.\n"
   ]
  },
  {
   "cell_type": "code",
   "execution_count": null,
   "id": "dd90bee2-1b79-4ee8-8b24-7e768fb33eb4",
   "metadata": {},
   "outputs": [],
   "source": [
    "my_tuple = (1, 2, 3, \"apple\", True)\n",
    "print(my_tuple)\n"
   ]
  },
  {
   "cell_type": "markdown",
   "id": "c9a688b8-a250-4677-8a8f-12256ee8d30d",
   "metadata": {},
   "source": [
    "2. Создание пустого кортежа  \n",
    "Пустой кортеж создаётся с помощью круглых скобок.\n"
   ]
  },
  {
   "cell_type": "code",
   "execution_count": null,
   "id": "61293254-6cd2-4b4a-bb3a-3677498b65a3",
   "metadata": {},
   "outputs": [],
   "source": [
    "empty_tuple = ()\n",
    "print(empty_tuple)  # Вывод: ()"
   ]
  },
  {
   "cell_type": "markdown",
   "id": "c88e53b2-b7e9-492d-bc59-26da43df30c4",
   "metadata": {},
   "source": [
    "3. Создание кортежа с одним элементом  \n",
    "Для создания кортежа с одним элементом нужно добавить запятую после элемента, иначе Python воспримет это как математическое выражение, а не как кортеж.\n"
   ]
  },
  {
   "cell_type": "code",
   "execution_count": null,
   "id": "1902f7a6-7ea2-4898-8d83-139192cc0319",
   "metadata": {},
   "outputs": [],
   "source": [
    "single_element_tuple = (5,)\n",
    "print(single_element_tuple)\n"
   ]
  },
  {
   "cell_type": "code",
   "execution_count": null,
   "id": "a5405516-d182-404d-9407-da4eb6aaf909",
   "metadata": {},
   "outputs": [],
   "source": [
    "single_element_tuple = (5)\n",
    "print(single_element_tuple)\n",
    "print(type(single_element_tuple))\n"
   ]
  },
  {
   "cell_type": "markdown",
   "id": "e24f8181-557e-4283-adc6-8748f3dbcf92",
   "metadata": {},
   "source": [
    "### Доступ к элементам кортежа  \n",
    "К элементам кортежа можно обращаться с помощью индексов, так же как и к элементам списка.    \n",
    "Индексация начинается с 0.\n"
   ]
  },
  {
   "cell_type": "code",
   "execution_count": null,
   "id": "a663af11-bd3d-4997-8122-f25b9b2616ea",
   "metadata": {},
   "outputs": [],
   "source": [
    "my_tuple = (10, 20, 30, 40)\n",
    "print(my_tuple[1])\n",
    "print(my_tuple[-1])"
   ]
  },
  {
   "cell_type": "markdown",
   "id": "b854058b-5497-49ab-a036-ee8901d01d72",
   "metadata": {},
   "source": [
    "### Изменяемость кортежей  \n",
    "Кортежи в Python неизменяемы, поэтому после их создания элементы нельзя добавлять, изменять или удалять.\n"
   ]
  },
  {
   "cell_type": "code",
   "execution_count": null,
   "id": "e67d71b1-a5a5-4c4b-b39b-7198c135ae88",
   "metadata": {},
   "outputs": [],
   "source": [
    "my_tuple = (10, 20, 30, 40)\n",
    "\n",
    "# Попытка изменить элемент вызовет ошибку\n",
    "# my_tuple[1] = 40  # TypeError: 'tuple' object does not support item assignment\n"
   ]
  },
  {
   "cell_type": "markdown",
   "id": "74309344-14c6-49e6-9430-992ec75a4510",
   "metadata": {},
   "source": [
    "### Операции с кортежами\n",
    "С кортежами можно проводить те же операции, что и со списками.\n"
   ]
  },
  {
   "cell_type": "code",
   "execution_count": null,
   "id": "1ca1a38a-04b8-476b-9c68-68f026e1c9c9",
   "metadata": {},
   "outputs": [],
   "source": [
    "tuple1 = (1, 2)\n",
    "tuple2 = (3, 4, 5)\n",
    "print(tuple1 + tuple2)  # Конкатенация кортежей\n",
    "\n",
    "print(tuple1 * 3)  # Повторение кортежей\n",
    "\n",
    "\n",
    "print(3 in tuple2)  # Проверка на наличие элемента\n",
    "\n",
    "print(len(tuple2))  # Длина кортежа\n",
    "\n",
    "# Сравнение кортежей происходит аналогично спискам, то есть поэлементно\n",
    "print(tuple1 == tuple2)  # Сравнение кортежей"
   ]
  },
  {
   "cell_type": "markdown",
   "id": "d833d5d6-1df0-4ee9-a6fe-0562593f327d",
   "metadata": {},
   "source": [
    "### Преобразование кортежей  \n",
    "Можно преобразовать строку или другую коллекцию в кортеж с помощью функции tuple().\n"
   ]
  },
  {
   "cell_type": "code",
   "execution_count": null,
   "id": "f208c48f-67e7-4909-b04d-d0a398f945f0",
   "metadata": {},
   "outputs": [],
   "source": [
    "my_list = [1, 2, 3]\n",
    "my_tuple = tuple(my_list)\n",
    "print(my_tuple)\n",
    "print(type(my_tuple))\n"
   ]
  },
  {
   "cell_type": "markdown",
   "id": "33f917da-7600-42ac-879d-418c106bdaf0",
   "metadata": {},
   "source": [
    "А также можно преобразовывать кортеж в другую коллекцию, например в список."
   ]
  },
  {
   "cell_type": "code",
   "execution_count": null,
   "id": "6ef51ebb-adeb-4ffa-83d0-f001803f6e88",
   "metadata": {},
   "outputs": [],
   "source": [
    "my_tuple = (1, 2, 3)\n",
    "my_list = list(my_tuple)\n",
    "print(my_list)\n",
    "print(type(my_list))\n"
   ]
  },
  {
   "cell_type": "code",
   "execution_count": null,
   "id": "181aada9-915d-4978-86d5-84cdad83dd49",
   "metadata": {},
   "outputs": [],
   "source": [
    "#1. Какой результат будет выведен при выполнении следующего кода?\n",
    "my_tuple = (1, 2, 3, 4, 5)\n",
    "print(my_tuple[2])"
   ]
  },
  {
   "cell_type": "markdown",
   "id": "31d98343-205a-4423-a2d5-cc74b865163f",
   "metadata": {},
   "source": [
    "## Цикл for с кортежами  \n",
    "Цикл for работает с кортежами так же, как и со списками. \n"
   ]
  },
  {
   "cell_type": "code",
   "execution_count": null,
   "id": "6f44f2d7-4476-43a4-a572-edc2eac75629",
   "metadata": {},
   "outputs": [],
   "source": [
    "my_tuple = (10, 20, 30, 40)\n",
    "\n",
    "for item in my_tuple:\n",
    "    print(item)\n"
   ]
  },
  {
   "cell_type": "markdown",
   "id": "8d454704-9128-40ac-973b-8f948989be16",
   "metadata": {},
   "source": [
    "## Упаковка и распаковка коллекций\n",
    "Упаковка и распаковка — это операции, которые применяются для того, чтобы собрать несколько значений в одну коллекцию (упаковка) или разобрать коллекцию на отдельные переменные (распаковка).\n"
   ]
  },
  {
   "cell_type": "markdown",
   "id": "d2bbb48f-acf4-497a-b574-0c2fbdcfbc69",
   "metadata": {},
   "source": [
    "### Упаковка (Packing)\n",
    "Упаковка — это процесс, при котором несколько значений собираются в одну коллекцию. Когда мы присваиваем несколько значений одной переменной, Python автоматически упаковывает их в кортеж.\n"
   ]
  },
  {
   "cell_type": "code",
   "execution_count": null,
   "id": "20d1cbcb-953d-487a-946c-4e157a4fe148",
   "metadata": {},
   "outputs": [],
   "source": [
    "# Упаковка нескольких значений в кортеж\n",
    "packed_tuple = 1, 2, 3\n",
    "print(packed_tuple)\n",
    "print(type(packed_tuple))\n"
   ]
  },
  {
   "cell_type": "markdown",
   "id": "1192c7ea-0b22-4d86-91fc-07011b9bafcc",
   "metadata": {},
   "source": [
    "### Распаковка (Unpacking)\n",
    "Распаковка — это процесс, при котором значения из коллекции присваиваются отдельным переменным. Если коллекция (список или кортеж) содержит столько же элементов, сколько переменных, Python позволяет легко распаковать её.\n"
   ]
  },
  {
   "cell_type": "code",
   "execution_count": null,
   "id": "684688c2-7fa8-40ba-be79-683d0ed4950c",
   "metadata": {},
   "outputs": [],
   "source": [
    "# Кортеж с тремя элементами\n",
    "packed_tuple = (1, 2, 3)\n",
    "\n",
    "# Распаковка значений кортежа в переменные\n",
    "a, b, c = packed_tuple\n",
    "print(a, b, c)"
   ]
  },
  {
   "cell_type": "markdown",
   "id": "d357b48c-4235-4110-a5cf-94e207ad9ff8",
   "metadata": {},
   "source": [
    "### Упаковка с помощью оператора *\n",
    "Иногда можно упаковать остаток элементов после распаковки в одну переменную с помощью оператора *. Это удобно, когда количество переменных для распаковки меньше, чем количество элементов в коллекции.\n"
   ]
  },
  {
   "cell_type": "code",
   "execution_count": null,
   "id": "99e3f319-753b-4390-adf7-8a6452bdd9ab",
   "metadata": {},
   "outputs": [],
   "source": [
    "numbers = [1, 2, 3, 4, 5]\n",
    "\n",
    "# Распаковка первого элемента в a, последнего в b, остальные элементы в other\n",
    "a, *other, b = numbers\n",
    "\n",
    "print(a)\n",
    "print(b)\n",
    "print(other) \n"
   ]
  },
  {
   "cell_type": "markdown",
   "id": "cf84f093-aacf-4c4d-a6b1-52dc1e213a68",
   "metadata": {},
   "source": [
    "### Распаковка в цикле\n",
    "Распаковка особенно полезна при работе с циклами, когда нужно перебирать элементы коллекций с несколькими значениями.\n"
   ]
  },
  {
   "cell_type": "code",
   "execution_count": null,
   "id": "9acf4bdf-ea08-457e-aec2-124d98f75580",
   "metadata": {},
   "outputs": [],
   "source": [
    "pairs = [(1, 'apple'), (2, 'banana'), (3, 'cherry')]\n",
    "\n",
    "for number, fruit in pairs:  # Распаковка элементов кортежа в переменные\n",
    "    print(f\"Число: {number}, Фрукт: {fruit}\")"
   ]
  },
  {
   "cell_type": "markdown",
   "id": "c42f0203-af67-40f7-afa9-ad36f4138b83",
   "metadata": {},
   "source": [
    "### Ошибки при распаковке\n",
    "Количество переменных должно соответствовать количеству элементов в коллекции, за исключением случаев, когда используется оператор *. В противном случае возникнет ошибка.\n"
   ]
  },
  {
   "cell_type": "code",
   "execution_count": null,
   "id": "5d5d4369-aba1-4dde-a0c4-d871b0ce72fc",
   "metadata": {},
   "outputs": [],
   "source": [
    "data = (1, 2, 3)\n",
    "\n",
    "# Попытка распаковать больше переменных, чем элементов\n",
    "a, b, c, d = data  # Ошибка, т.к. слишком мало элементов\n",
    "a, b = data  # Ошибка, т.к. слишком много элементов"
   ]
  },
  {
   "cell_type": "markdown",
   "id": "e94d59dd-e085-4d94-a729-6d7af088ba1a",
   "metadata": {},
   "source": [
    "## Функция enumerate\n",
    "Функция enumerate() — это встроенная функция Python, которая добавляет счётчик к итерируемому объекту, таким как список, кортеж или строка, и возвращает результат в виде объекта enumerate. Это удобно, когда необходимо получить как индекс, так и значение элемента во время итерации по коллекции.  \n",
    "\n",
    "Синтаксис:  \n",
    "`enumerate(iterable, start=0)` \n",
    "\n",
    "* iterable — это коллекция, которую нужно перебирать (например, список или кортеж).\n",
    "* start (необязательно) — значение, с которого начинается счётчик. По умолчанию — 0.\n"
   ]
  },
  {
   "cell_type": "markdown",
   "id": "06ed375f-94cf-4678-9990-ed0f6a166907",
   "metadata": {},
   "source": [
    "### Отображения содержимого enumerate  \n",
    "Чтобы увидеть содержимое объекта enumerate, необходимо преобразовать его в список, кортеж или другую структуру данных, которая может быть напечатана, т.к. содержимое объекта enumerate не отображается напрямую при выводе.\n"
   ]
  },
  {
   "cell_type": "code",
   "execution_count": null,
   "id": "bca6bb96-b8e2-4d05-9af2-4494f2742750",
   "metadata": {},
   "outputs": [],
   "source": [
    "fruits = [\"apple\", \"banana\", \"cherry\"]\n",
    "enumerated_fruits = enumerate(fruits)\n",
    "\n",
    "# Чтобы увидеть содержимое, преобразуем объект enumerate в список\n",
    "print(list(enumerated_fruits))\n"
   ]
  },
  {
   "cell_type": "markdown",
   "id": "ef0113ec-6a77-40fe-be0b-0665bb9b8013",
   "metadata": {},
   "source": [
    "### Использование enumerate()  \n",
    "Функция enumerate() часто используется, когда требуется одновременно итерировать по элементам последовательности (например, список, строка или кортеж) и отслеживать их индексы.\n"
   ]
  },
  {
   "cell_type": "code",
   "execution_count": null,
   "id": "2a28cbb4-2c4b-4193-ac1c-4fb694cc687a",
   "metadata": {},
   "outputs": [],
   "source": [
    "#Пример 1: Вывод индекса и элемента\n",
    "fruits = [\"apple\", \"banana\", \"cherry\"]\n",
    "\n",
    "for index, fruit in enumerate(fruits):\n",
    "    print(f\"{index}: {fruit}\")"
   ]
  },
  {
   "cell_type": "code",
   "execution_count": null,
   "id": "1a86f73f-0cd0-4317-b120-fa983aa4a91f",
   "metadata": {},
   "outputs": [],
   "source": [
    "#Пример 2: Редактирование списка по индексу\n",
    "numbers = [10, 20, 30, 40]\n",
    "\n",
    "for index, value in enumerate(numbers):\n",
    "   numbers[index] = value * 10\n",
    "\n",
    "print(numbers)\n"
   ]
  },
  {
   "cell_type": "markdown",
   "id": "2d139453-17cd-4b1d-bdd5-f0f67e014069",
   "metadata": {},
   "source": [
    "### Изменение стартового значения enumerate()\n",
    "Вы можете изменить значение, с которого начинается счётчик, с помощью параметра start."
   ]
  },
  {
   "cell_type": "code",
   "execution_count": null,
   "id": "89cf319c-1a7f-41e9-8201-95c0ca07bb9c",
   "metadata": {},
   "outputs": [],
   "source": [
    "languages = (\"Python\", \"Java\", \"C++\")\n",
    "\n",
    "for index, language in enumerate(languages, start=1):\n",
    "    print(f\"{index}: {language}\")"
   ]
  },
  {
   "cell_type": "markdown",
   "id": "33ec1de9-46f7-47f8-8687-7b96d704ee7d",
   "metadata": {},
   "source": [
    "### Использование enumerate() со строкой:\n",
    "Функция enumerate() может быть использована для перебора символов строки с индексами.\n"
   ]
  },
  {
   "cell_type": "code",
   "execution_count": null,
   "id": "0640d65c-0aea-4a71-ae5a-50332bef4458",
   "metadata": {},
   "outputs": [],
   "source": [
    "text = \"Python\"\n",
    "\n",
    "for index, letter in enumerate(text):\n",
    "    print(f\"{index}: {letter}\")"
   ]
  },
  {
   "cell_type": "code",
   "execution_count": null,
   "id": "9e97b580-24bb-47ed-9c65-688fc3c55580",
   "metadata": {},
   "outputs": [],
   "source": [
    "#1. Что произойдет при попытке распаковать кортеж с тремя элементами в две переменные?\n",
    "my_tuple = (1, 2, 3)\n",
    "a, b = my_tuple\n"
   ]
  },
  {
   "cell_type": "code",
   "execution_count": null,
   "id": "333d2453-e9c9-4657-a787-aa77aecf92a8",
   "metadata": {},
   "outputs": [],
   "source": [
    "#2. Какой результат будет выведен при выполнении следующего кода?\n",
    "fruits = [\"apple\", \"banana\", \"cherry\"]\n",
    "\n",
    "for index, fruit in enumerate(fruits):\n",
    "    print(f\"{index}: {fruit}\", end=' ')\n"
   ]
  },
  {
   "cell_type": "markdown",
   "id": "89fd08ac-85ce-4cf1-a966-7c1a371d957b",
   "metadata": {},
   "source": [
    "## Методы кортежа  \n",
    "Кортежи — это неизменяемые коллекции, поэтому они поддерживают ограниченное количество методов. Кортежи предоставляют два метода: count() и index(), которые позволяют работать с данными внутри кортежа.\n"
   ]
  },
  {
   "cell_type": "markdown",
   "id": "66a76026-efac-4580-a35b-437b1a9461a3",
   "metadata": {},
   "source": [
    "### Метод count()  \n",
    "Метод count() используется для подсчёта, сколько раз определённый элемент встречается в кортеже.  \n",
    "\n",
    "***Синтаксис:***  \n",
    "`tuple.count(value)`  \n",
    "\n",
    "* value — элемент, количество вхождений которого нужно подсчитать.\n"
   ]
  },
  {
   "cell_type": "code",
   "execution_count": null,
   "id": "e6974439-f738-4ed6-884c-ac193cb317c8",
   "metadata": {},
   "outputs": [],
   "source": [
    "my_tuple = (1, 2, 3, 2, 4, 2)\n",
    "count_of_twos = my_tuple.count(2)\n",
    "print(count_of_twos) \n"
   ]
  },
  {
   "cell_type": "markdown",
   "id": "eafcd205-6e33-45a9-b836-fc0b0488b557",
   "metadata": {},
   "source": [
    "### Метод index()  \n",
    "Метод index() возвращает индекс первого вхождения указанного элемента в кортеже. Если элемент не найден, будет вызвана ошибка ValueError.  \n",
    "\n",
    "***Синтаксис:***  \n",
    "`tuple.index(value, start=0, end=None)`  \n",
    "\n",
    "* value — элемент, индекс которого нужно найти.\n",
    "* start (необязательно) — начальная позиция для поиска.\n",
    "* end (необязательно) — конечная позиция для поиска.\n"
   ]
  },
  {
   "cell_type": "code",
   "execution_count": null,
   "id": "62364a52-4a33-43ff-bb79-13f023df9e8a",
   "metadata": {},
   "outputs": [],
   "source": [
    "my_tuple = (10, 20, 30, 20, 40)\n",
    "index_of_first_twenty = my_tuple.index(20)\n",
    "print(index_of_first_twenty)\n"
   ]
  },
  {
   "cell_type": "code",
   "execution_count": null,
   "id": "9f646f91-ef8a-4afb-b1f3-0128e242b13e",
   "metadata": {},
   "outputs": [],
   "source": [
    "my_tuple = (10, 20, 30, 20, 40)\n",
    "index_of_twenty_in_range = my_tuple.index(20, 2)  # Начинаем поиск с индекса 2\n",
    "print(index_of_twenty_in_range) \n"
   ]
  },
  {
   "cell_type": "markdown",
   "id": "5ce4bea3-77a5-4bb7-9845-4f7061dd0f2f",
   "metadata": {},
   "source": [
    "# Практические задания  \n",
    "Напишите программу, которая обрабатывает кортеж чисел и возвращает новый кортеж, в котором будут только уникальные элементы. Не используйте неизученные коллекции.  \n",
    "**Данные:**  \n",
    "numbers = (1, 2, 3, 2, 1, 4, 5, 3, 6)  \n",
    "\n",
    "**Пример вывода:**  \n",
    "Уникальные элементы: (1, 2, 3, 4, 5, 6)  \n"
   ]
  },
  {
   "cell_type": "code",
   "execution_count": null,
   "id": "736e0801-f2c5-421b-8525-ed9b64d918aa",
   "metadata": {},
   "outputs": [],
   "source": [
    "numbers = (1, 2, 3, 2, 1, 4, 5, 3, 6)\n",
    "unique_numbers = tuple()\n",
    "for num in numbers:\n",
    "    if num not in unique_numbers:\n",
    "        unique_numbers += (num,)\n",
    "print(\"Уникальные элементы:\", unique_numbers)"
   ]
  },
  {
   "cell_type": "markdown",
   "id": "b9d30352-05b5-4163-b4ff-a1d720c31306",
   "metadata": {},
   "source": [
    "Напишите программу, которая принимает кортеж чисел и возвращает кортеж, состоящий из элементов, которые больше среднего значения всех элементов исходного кортежа.  \n",
    "**Данные:**  \n",
    "numbers = (10, 15, 20, 25, 30)  \n",
    "\n",
    "**Пример вывода:**  \n",
    "Элементы больше среднего: (25, 30)  \n"
   ]
  },
  {
   "cell_type": "code",
   "execution_count": null,
   "id": "4647bd08-e242-4db1-90a5-a5d2066711b8",
   "metadata": {},
   "outputs": [],
   "source": [
    "numbers = (10, 15, 20, 25, 30)\n",
    "average = sum(numbers) / len(numbers)\n",
    "greater_than_avg = tuple()\n",
    "\n",
    "for num in numbers:\n",
    "    if num > average:\n",
    "        greater_than_avg += (num,)\n",
    "\n",
    "print(\"Элементы больше среднего:\", greater_than_avg)\n"
   ]
  },
  {
   "cell_type": "code",
   "execution_count": null,
   "id": "e3d80c58-6660-44ad-87ca-90bfd7809668",
   "metadata": {},
   "outputs": [],
   "source": []
  }
 ],
 "metadata": {
  "kernelspec": {
   "display_name": "Python 3 (ipykernel)",
   "language": "python",
   "name": "python3"
  },
  "language_info": {
   "codemirror_mode": {
    "name": "ipython",
    "version": 3
   },
   "file_extension": ".py",
   "mimetype": "text/x-python",
   "name": "python",
   "nbconvert_exporter": "python",
   "pygments_lexer": "ipython3",
   "version": "3.12.4"
  }
 },
 "nbformat": 4,
 "nbformat_minor": 5
}
