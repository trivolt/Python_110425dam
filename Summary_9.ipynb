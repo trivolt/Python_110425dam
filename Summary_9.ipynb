{
 "cells": [
  {
   "cell_type": "markdown",
   "id": "d8882d2c-df83-44b2-ba4f-247bc7644a0a",
   "metadata": {},
   "source": [
    "# Summary 9"
   ]
  },
  {
   "cell_type": "code",
   "execution_count": null,
   "id": "29644b49-d959-4da3-a8af-925c8a5d6462",
   "metadata": {},
   "outputs": [],
   "source": []
  },
  {
   "cell_type": "code",
   "execution_count": null,
   "id": "f86dad27-9ff3-42a3-9bca-72ba03f2b671",
   "metadata": {},
   "outputs": [],
   "source": []
  },
  {
   "cell_type": "code",
   "execution_count": null,
   "id": "0d7a5c73-0c2f-4aec-a744-b968616a0b94",
   "metadata": {},
   "outputs": [],
   "source": []
  },
  {
   "cell_type": "markdown",
   "id": "e5071f18-3cde-431b-a136-1fcd05700538",
   "metadata": {},
   "source": [
    "# Домашнее задание"
   ]
  },
  {
   "cell_type": "markdown",
   "id": "eb21dc8f-e0b0-4c90-ae2f-ecf0284732f0",
   "metadata": {},
   "source": [
    "### ДЗ 17"
   ]
  },
  {
   "cell_type": "markdown",
   "id": "4933d844-da3a-4467-970c-9d9abb4cb15f",
   "metadata": {},
   "source": [
    "1. ***Проверка на подмножество***  \n",
    "Напишите программу, которая проверяет, содержит ли первое множество все элементы второго множества. Реализуйте решение несколькими способами. Решите одним из способов не используя возможности множеств.\n",
    "Данные:  \n",
    "`set1 = {1, 2, 3, 4}`  \n",
    "`set2 = {2, 3}`  \n",
    "\n",
    "Пример вывода:  \n",
    "`True`\n"
   ]
  },
  {
   "cell_type": "code",
   "execution_count": 9,
   "id": "a0f6bdd6-90f4-4d38-953b-f66f3a3161a6",
   "metadata": {},
   "outputs": [
    {
     "name": "stdout",
     "output_type": "stream",
     "text": [
      "True\n"
     ]
    }
   ],
   "source": [
    "#Способ 1: Использование оператора включения.\n",
    "set1 = {1, 2, 3, 4}\n",
    "set2 = {2, 3}\n",
    "\n",
    "# Проверяем включение с помощью оператора >=\n",
    "print(set1 >= set2)\n"
   ]
  },
  {
   "cell_type": "code",
   "execution_count": 10,
   "id": "1608d6b7-d19f-4caa-834f-3ed967de5773",
   "metadata": {},
   "outputs": [
    {
     "name": "stdout",
     "output_type": "stream",
     "text": [
      "True\n"
     ]
    }
   ],
   "source": [
    "#Способ 2: Использование метода issuperset.\n",
    "set1 = {1, 2, 3, 4}\n",
    "set2 = {2, 3}\n",
    "\n",
    "# Проверяем включение с помощью метода issuperset\n",
    "print(set1.issuperset(set2))\n"
   ]
  },
  {
   "cell_type": "code",
   "execution_count": 11,
   "id": "a76359d8-1def-43e6-bff2-e5d345b99514",
   "metadata": {},
   "outputs": [
    {
     "name": "stdout",
     "output_type": "stream",
     "text": [
      "True\n"
     ]
    }
   ],
   "source": [
    "#Способ 3: Использование цикла for.\n",
    "set1 = {1, 2, 3, 4}\n",
    "set2 = {2, 3}\n",
    "\n",
    "# Проверяем, содержатся ли все элементы set2 в set1\n",
    "is_subset = True\n",
    "for elem in set2:\n",
    "    if elem not in set1:\n",
    "        is_subset = False\n",
    "        break\n",
    "\n",
    "print(is_subset)\n"
   ]
  },
  {
   "cell_type": "markdown",
   "id": "62a2b21b-2079-4e7c-b691-5334734e9e5e",
   "metadata": {},
   "source": [
    "2. ***Зеркальное подмножество***  \n",
    "Напишите программу, которая проверяет, являются ли элементы одного из множеств подмножеством другого. В случае положительного ответа возвращает разницу между двумя множествами. Проверить необходимо в обе стороны.  \n",
    "Данные:   \n",
    "`set1 = {2, 3, 4, 5, 6}`  \n",
    "`set2 = {4, 5}`  \n",
    "\n",
    "Пример вывода:  \n",
    "Подмножество: `True`  \n",
    "Разница: `{2, 3, 6}`\n"
   ]
  },
  {
   "cell_type": "code",
   "execution_count": 12,
   "id": "85fcd5ff-9189-4086-b719-4bd6691d2258",
   "metadata": {},
   "outputs": [
    {
     "name": "stdout",
     "output_type": "stream",
     "text": [
      "Подмножество найдено: True\n",
      "Разница: {2, 4, 7}\n"
     ]
    }
   ],
   "source": [
    "# set1 = {2, 3, 4, 5, 6}\n",
    "# set2 = {4, 5}\n",
    "#\n",
    "set1 = {3, 5}\n",
    "set2 = {2, 3, 4, 5, 7}\n",
    "\n",
    "set1_super = set2.issubset(set1)\n",
    "set2_super = set1.issubset(set2)\n",
    "\n",
    "is_subset = set1_super or set2_super\n",
    "\n",
    "print(\"Подмножество найдено:\", is_subset)\n",
    "if is_subset:\n",
    "    if set1_super:\n",
    "        difference = set1 - set2\n",
    "    else:\n",
    "        difference = set2 - set1\n",
    "    print(\"Разница:\", difference)\n"
   ]
  },
  {
   "cell_type": "markdown",
   "id": "c2f3b886-ff9b-40a0-bb76-cb1f1dd4cb40",
   "metadata": {},
   "source": [
    "### ДЗ 18"
   ]
  },
  {
   "cell_type": "markdown",
   "id": "ade157a9-fcf7-4cba-84e8-76bb3179dfa1",
   "metadata": {},
   "source": [
    "1. ***Не уникальные числа***  \n",
    "Напишите программу, которая находит все числа, встречающиеся более одного раза в списке, и выводит их в порядке убывания.  \n",
    "Данные:  \n",
    "`numbers = [4, 7, 3, 7, 8, 3, 4, 2, 7, 3, 8, 4]`\n",
    "\n",
    "Пример вывода:  \n",
    "Числа, встречающиеся более одного раза: `[7, 4, 3, 8]`\n"
   ]
  },
  {
   "cell_type": "code",
   "execution_count": 13,
   "id": "e4f1cc92-7400-442d-acec-c26a77f14855",
   "metadata": {},
   "outputs": [
    {
     "name": "stdout",
     "output_type": "stream",
     "text": [
      "Числа, встречающиеся более одного раза: [8, 7, 4, 3]\n"
     ]
    }
   ],
   "source": [
    "# Данные\n",
    "numbers = [4, 7, 3, 7, 8, 3, 4, 2, 7, 3, 8, 4]\n",
    "\n",
    "# Преобразуем список в множество и находим числа, встречающиеся более одного раза\n",
    "repeated_numbers = {n for n in numbers if numbers.count(n) > 1}\n",
    "\n",
    "# Сортируем в порядке убывания\n",
    "sorted_repeated_numbers = sorted(repeated_numbers, reverse=True)\n",
    "\n",
    "print(\"Числа, встречающиеся более одного раза:\", sorted_repeated_numbers)\n"
   ]
  },
  {
   "cell_type": "markdown",
   "id": "ca023982-59ae-420a-ba9d-2358f0c7ca9a",
   "metadata": {},
   "source": [
    "2. ***Проверка подмножества***  \n",
    "Напишите программу, которая проверяет, является ли один словарь подмножеством другого (т.е. все его пары \"ключ-значение\" содержатся в другом словаре).  \n",
    "*Данные:*  \n",
    "`dict1 = {\"a\": 1, \"b\": 2}`  \n",
    "`dict2 = {\"a\": 1, \"b\": 2, \"c\": 3}`  \n",
    "\n",
    "*Пример вывода:*  \n",
    "Первый словарь является подмножеством второго.  \n"
   ]
  },
  {
   "cell_type": "code",
   "execution_count": 19,
   "id": "b19ded2b-76b6-4a7c-acd8-1d61c38ddb7b",
   "metadata": {},
   "outputs": [
    {
     "name": "stdout",
     "output_type": "stream",
     "text": [
      "Первый словарь является подмножеством второго.\n"
     ]
    }
   ],
   "source": [
    "dict1 = {\"a\": 1, \"b\": 2}\n",
    "dict2 = {\"a\": 1, \"b\": 2, \"c\": 3}\n",
    "\n",
    "is_subset = True\n",
    "\n",
    "for key in dict1:\n",
    "    if key not in dict2 or dict1[key] != dict2[key]:\n",
    "        is_subset = False\n",
    "        break\n",
    "\n",
    "if is_subset:\n",
    "    print(\"Первый словарь является подмножеством второго.\")\n",
    "else:\n",
    "    print(\"Первый словарь не является подмножеством второго.\")\n"
   ]
  },
  {
   "cell_type": "code",
   "execution_count": 17,
   "id": "31df78f3-1998-4746-a670-8202709654a0",
   "metadata": {},
   "outputs": [
    {
     "name": "stdout",
     "output_type": "stream",
     "text": [
      "не пустой\n"
     ]
    }
   ],
   "source": [
    "a = {1:3}\n",
    "if a:\n",
    "    print('не пустой')\n",
    "else:\n",
    "    print('пустой')"
   ]
  },
  {
   "cell_type": "code",
   "execution_count": null,
   "id": "70362e8c-5b88-46f5-8586-affd09f6597b",
   "metadata": {},
   "outputs": [],
   "source": []
  }
 ],
 "metadata": {
  "kernelspec": {
   "display_name": "Python 3 (ipykernel)",
   "language": "python",
   "name": "python3"
  },
  "language_info": {
   "codemirror_mode": {
    "name": "ipython",
    "version": 3
   },
   "file_extension": ".py",
   "mimetype": "text/x-python",
   "name": "python",
   "nbconvert_exporter": "python",
   "pygments_lexer": "ipython3",
   "version": "3.12.4"
  }
 },
 "nbformat": 4,
 "nbformat_minor": 5
}
