{
 "cells": [
  {
   "cell_type": "markdown",
   "id": "6d99adda-ca38-42c1-97d8-15d207f4449c",
   "metadata": {},
   "source": [
    "# Практические задания 12\n",
    "* Лекция 24 - Рекурсия    \n",
    "* Лекция 25 - Исключения: обработка ошибок"
   ]
  },
  {
   "cell_type": "markdown",
   "id": "7d49c664-b9dc-4d4a-81d7-119fe877941d",
   "metadata": {},
   "source": [
    "1. ***Четные цифры числа***  \n",
    "Напишите функцию, которая рекурсивно вычисляет количество четных цифр числа. Сделайте второй вариант этой функции – через хвостовую рекурсию.\n"
   ]
  },
  {
   "cell_type": "code",
   "execution_count": 9,
   "id": "a8bd4f08-1662-48ca-aa73-72438850c60e",
   "metadata": {},
   "outputs": [],
   "source": [
    "def count_dig(n):\n",
    "    if n<10:\n",
    "        return 1 if n%2==0 else 0\n",
    "    return (1 if (n%10)%2==0 else 0) + count_dig(n//10)"
   ]
  },
  {
   "cell_type": "code",
   "execution_count": 8,
   "id": "dd8de333-cf0c-43ca-b09f-4955ae34ffd5",
   "metadata": {},
   "outputs": [
    {
     "data": {
      "text/plain": [
       "1"
      ]
     },
     "execution_count": 8,
     "metadata": {},
     "output_type": "execute_result"
    }
   ],
   "source": [
    "n=4\n",
    "1 if n%2==0 else 0"
   ]
  },
  {
   "cell_type": "code",
   "execution_count": 12,
   "id": "98872926-318d-4bd2-9614-1e439f666726",
   "metadata": {},
   "outputs": [
    {
     "data": {
      "text/plain": [
       "6"
      ]
     },
     "execution_count": 12,
     "metadata": {},
     "output_type": "execute_result"
    }
   ],
   "source": [
    "count_dig(12322222)"
   ]
  },
  {
   "cell_type": "code",
   "execution_count": 1,
   "id": "57dae95e-6603-43a0-8f4f-e3de356202e1",
   "metadata": {},
   "outputs": [],
   "source": [
    "def count_dig_tailrec(n, acc=0):\n",
    "    if n<10:\n",
    "        return acc + 1 if n%2==0 else acc\n",
    "    return count_dig_tailrec(n//10, acc + (1 if (n%10)%2==0 else 0))"
   ]
  },
  {
   "cell_type": "code",
   "execution_count": 3,
   "id": "cede389e-0b9d-4956-ad4b-5750e62bcc22",
   "metadata": {},
   "outputs": [
    {
     "data": {
      "text/plain": [
       "3"
      ]
     },
     "execution_count": 3,
     "metadata": {},
     "output_type": "execute_result"
    }
   ],
   "source": [
    "count_dig_tailrec(12322)"
   ]
  },
  {
   "cell_type": "markdown",
   "id": "501ae6e9-3a41-4b64-8564-5c687a40b1ee",
   "metadata": {},
   "source": [
    "2. ***Контроль ввода***  \n",
    "Пользователь вводит строку с информацией о студенте: фамилия, имя, год рождения, курс – через пробел. Напишите функцию, которая проверяет корректность ввода: первые два элемента должны быть строками (из букв, без лишних символов), вторые два элемента – целые числа в подходящем диапазоне. В случае нарушения формата функция должна выбрасывать ошибку. В случае корректного ввода функция возвращает словарь с информацией о студенте. При вызове функции обработайте исключение.\n",
    "\n",
    "*Пример ввода 1:*   \n",
    "Введите информацию о студенте (фамилия имя год_рождения курс):  Smith John 2000 3  \n",
    "\n",
    "*Пример вывода:*   \n",
    "Введенная информация корректна: `{'last_name': 'Smith', 'first_name': 'John', 'birth_year': 2000, 'course': 3}`  \n",
    "\n",
    "*Пример ввода 2:*   \n",
    "Введите информацию о студенте (фамилия имя год_рождения курс):  Smith Jo.hn 2000 3  \n",
    "\n",
    "*Пример вывода:*   \n",
    "Ошибка ввода: Имя должно содержать только буквы. \n"
   ]
  },
  {
   "cell_type": "code",
   "execution_count": 27,
   "id": "c8988782-0f33-447b-848f-e82330447292",
   "metadata": {},
   "outputs": [],
   "source": [
    "def transform_to_dict(s):\n",
    "    split_info = s.split()\n",
    "    if len(split_info)!=4:\n",
    "        raise ValueError('Неверное кол-во аргументов')\n",
    "    l_name, f_name, birth, course = split_info\n",
    "    if not l_name.isalpha():\n",
    "        raise ValueError('Фамилия должна содержать только буквы.')\n",
    "    if not f_name.isalpha():\n",
    "        raise ValueError('Имя должно содержать только буквы.')     \n",
    "    try:\n",
    "        birth = int(birth)\n",
    "        if not 1950<=int(birth)<=2010:\n",
    "            raise ValueError\n",
    "    except ValueError:\n",
    "        print('ошибка в записи года')\n",
    "    try:\n",
    "        course = int(course)\n",
    "        if not 1<=int(course)<=7:\n",
    "            raise ValueError       \n",
    "    except ValueError:\n",
    "        print('ошибка в записи курса')\n",
    "    d = {}\n",
    "    d['last_name']=l_name\n",
    "    d['first_name']=f_name\n",
    "    d['birth_year']=birth\n",
    "    d['course']=course\n",
    "    return d\n"
   ]
  },
  {
   "cell_type": "code",
   "execution_count": null,
   "id": "10482579-4435-4f1f-8cea-b82e78f82dee",
   "metadata": {},
   "outputs": [],
   "source": []
  },
  {
   "cell_type": "code",
   "execution_count": 29,
   "id": "dc2a945e-3749-4b1a-af53-286002ec904e",
   "metadata": {},
   "outputs": [
    {
     "name": "stdin",
     "output_type": "stream",
     "text": [
      " Smith1 John 2000 3\n"
     ]
    },
    {
     "name": "stdout",
     "output_type": "stream",
     "text": [
      "Ошибка ввода: Фамилия должна содержать только буквы.\n"
     ]
    }
   ],
   "source": [
    "try:\n",
    "    s = input() #Smith John 2000 3\n",
    "    print(transform_to_dict(s))# dict {'last_name': 'Smith', 'first_name': 'John', 'birth_year': 2000, 'course': 3}\n",
    "except ValueError as e:\n",
    "    print(f'Ошибка ввода: {e}')"
   ]
  },
  {
   "cell_type": "code",
   "execution_count": 17,
   "id": "234bec10-4ad5-41af-b4c7-61410eaf3cde",
   "metadata": {},
   "outputs": [
    {
     "ename": "ValueError",
     "evalue": "invalid literal for int() with base 10: '123a'",
     "output_type": "error",
     "traceback": [
      "\u001b[1;31m---------------------------------------------------------------------------\u001b[0m",
      "\u001b[1;31mValueError\u001b[0m                                Traceback (most recent call last)",
      "Cell \u001b[1;32mIn[17], line 1\u001b[0m\n\u001b[1;32m----> 1\u001b[0m \u001b[38;5;28mint\u001b[39m(\u001b[38;5;124m'\u001b[39m\u001b[38;5;124m123a\u001b[39m\u001b[38;5;124m'\u001b[39m)\n",
      "\u001b[1;31mValueError\u001b[0m: invalid literal for int() with base 10: '123a'"
     ]
    }
   ],
   "source": [
    "int('123a')"
   ]
  },
  {
   "cell_type": "markdown",
   "id": "0377220d-cea9-4560-8ac6-00d6e30679cd",
   "metadata": {},
   "source": [
    "3. ***Сумма чисел списка***  \n",
    "Напишите рекурсивную функцию, которая вычисляет сумму всех чисел в списке.  \n",
    "Функция должна проверять:  \n",
    "Аргумент должен быть списком.  \n",
    "Все элементы списка должны быть числами.  \n",
    "Если данные не валидны необходимо выбрасывать исключение. При вызове функции обработайте возможное исключение.\n",
    "\n",
    "*Данные:*   \n",
    "`numbers = [1, 2, 3, 4, 5]`  \n",
    "Пример вывода:   \n",
    "15\n"
   ]
  },
  {
   "cell_type": "code",
   "execution_count": null,
   "id": "dd4f98bc-e297-4c5e-a29f-259184c4f022",
   "metadata": {},
   "outputs": [],
   "source": []
  },
  {
   "cell_type": "markdown",
   "id": "9d223a1c-37a1-42d6-b010-52394fa81ab7",
   "metadata": {},
   "source": [
    "4. ***Реверс строки***  \n",
    "Напишите рекурсивную функцию, которая переворачивает строку. Если передан не строковый тип, выбросить исключение. При вызове функции обработайте возможное исключение.\n",
    "\n",
    "*Данные:*   \n",
    "`text = \"recursion\"`\n",
    "*Пример вывода:*   \n",
    "noisrucer\n"
   ]
  },
  {
   "cell_type": "code",
   "execution_count": null,
   "id": "af7229f5-e38b-45e6-b779-2bc7e57aa3f1",
   "metadata": {},
   "outputs": [],
   "source": []
  },
  {
   "cell_type": "markdown",
   "id": "46afcd73-7709-4a3c-bba0-6347eb6b1224",
   "metadata": {},
   "source": [
    "5. ***Глубина вложенности списка***  \n",
    "Напишите рекурсивную функцию, которая определяет максимальную глубину вложенности списка. Функция должна проверять:  \n",
    "Аргумент должен быть списком.  \n",
    "Вложенные структуры у которых проверяется глубина, – тоже списки. Глубина остальных вложенных структур и объектов считается 1.  \n",
    "\n",
    "\n",
    "*Данные:*   \n",
    "`nested_list = [1, [2, [3, [4, [5]]]], 6, [[7, 8], 9]]`  \n",
    "\n",
    "*Пример вывода:*   \n",
    "Максимальная глубина: 5\n"
   ]
  },
  {
   "cell_type": "code",
   "execution_count": 3,
   "id": "36a574c5-ac7a-46fa-8a9f-ec70e8b5b421",
   "metadata": {},
   "outputs": [
    {
     "name": "stdout",
     "output_type": "stream",
     "text": [
      "Максимальная глубина: 5\n"
     ]
    }
   ],
   "source": [
    "def max_depth(data):\n",
    "    if not isinstance(data, list):\n",
    "        raise TypeError(\"Ожидается вложенный список.\")\n",
    "    depth = [max_depth(item) for item in data if isinstance(item, list)]\n",
    "    return 1 + max(depth, default=0)\n",
    "\n",
    "try:\n",
    "    nested_list = [1, [2, [3, [4, [5]]]], 6, [[7, 8], 9]]\n",
    "    print(\"Максимальная глубина:\", max_depth(nested_list))\n",
    "except TypeError as e:\n",
    "    print(\"Ошибка:\", e)"
   ]
  },
  {
   "cell_type": "code",
   "execution_count": null,
   "id": "33a7bb18-99f4-4e2a-a012-41b7799b8dc5",
   "metadata": {},
   "outputs": [],
   "source": []
  },
  {
   "cell_type": "markdown",
   "id": "0a9d7052-9090-4da5-9490-26b87ad60ab6",
   "metadata": {},
   "source": [
    "6. ***Сумма продаж***  \n",
    "Есть дерево подразделений внутри компании (каждое подразделение может содержать «дочерние» отделы). Напишите рекурсивную функцию, которая подсчитывает суммарные продажи для всех отделов. Функция должна проверять:  \n",
    "Аргумент должен быть словарем.  \n",
    "Дочерние отделы (если есть) должны быть списком словарей.  \n",
    "Если данные не валидны необходимо выбрасывать исключение. При вызове функции обработайте возможное исключение.\n",
    "\n",
    "*Данные:*  \n",
    "```\n",
    "company_structure = {\n",
    "    \"dept_name\": \"Head Office\",\n",
    "    \"sales\": 100,\n",
    "    \"sub_departments\": [\n",
    "        {\n",
    "            \"dept_name\": \"Sales Department\",\n",
    "            \"sales\": 200,\n",
    "            \"sub_departments\": [\n",
    "                {\n",
    "                    \"dept_name\": \"B2B Sales\",\n",
    "                    \"sales\": 120,\n",
    "                }\n",
    "            ]\n",
    "        },\n",
    "        {\n",
    "            \"dept_name\": \"IT Department\",\n",
    "            \"sales\": 150,\n",
    "            \"sub_departments\": [\n",
    "                {\n",
    "                    \"dept_name\": \"DevOps\",\n",
    "                    \"sales\": 300,\n",
    "                    \"sub_departments\": [\n",
    "                        {\n",
    "                            \"dept_name\": \"Cloud Infrastructure\",\n",
    "                            \"sales\": 180,\n",
    "                        }\n",
    "                    ]\n",
    "                },\n",
    "                {\n",
    "                    \"dept_name\": \"QA Department\",\n",
    "                    \"sales\": 90,\n",
    "                }\n",
    "            ]\n",
    "        }\n",
    "    ]\n",
    "}\n",
    "```  \n",
    "*Пример вывода:*   \n",
    "Общая сумма продаж: 1140\n"
   ]
  },
  {
   "cell_type": "code",
   "execution_count": 5,
   "id": "fdd9d56f-87bb-461e-9fd2-c8e955d5ee6c",
   "metadata": {},
   "outputs": [],
   "source": [
    "company_structure = {\n",
    "    \"dept_name\": \"Head Office\",\n",
    "    \"sales\": 100,\n",
    "    \"sub_departments\": [\n",
    "        {\n",
    "            \"dept_name\": \"Sales Department\",\n",
    "            \"sales\": 200,\n",
    "            \"sub_departments\": [\n",
    "                {\n",
    "                    \"dept_name\": \"B2B Sales\",\n",
    "                    \"sales\": 120,\n",
    "                }\n",
    "            ]\n",
    "        },\n",
    "        {\n",
    "            \"dept_name\": \"IT Department\",\n",
    "            \"sales\": 150,\n",
    "            \"sub_departments\": [\n",
    "                {\n",
    "                    \"dept_name\": \"DevOps\",\n",
    "                    \"sales\": 300,\n",
    "                    \"sub_departments\": [\n",
    "                        {\n",
    "                            \"dept_name\": \"Cloud Infrastructure\",\n",
    "                            \"sales\": 180,\n",
    "                        }\n",
    "                    ]\n",
    "                },\n",
    "                {\n",
    "                    \"dept_name\": \"QA Department\",\n",
    "                    \"sales\": 90,\n",
    "                }\n",
    "            ]\n",
    "        }\n",
    "    ]\n",
    "}"
   ]
  },
  {
   "cell_type": "code",
   "execution_count": 6,
   "id": "fb3fa12b-92a4-4e07-a869-a6c28297e6c7",
   "metadata": {},
   "outputs": [
    {
     "name": "stdout",
     "output_type": "stream",
     "text": [
      "Общая сумма продаж: 1140\n"
     ]
    }
   ],
   "source": [
    "def summarize_sales(department, sales_name):\n",
    "    if not isinstance(department, dict):\n",
    "        raise TypeError(\"Ожидается словарь с информацией о департаменте.\")\n",
    "    total = department[sales_name]\n",
    "    for sub_dept in department.get(\"sub_departments\", []):\n",
    "        total += summarize_sales(sub_dept, sales_name)\n",
    "    return total\n",
    "\n",
    "try:\n",
    "    print(f\"Общая сумма продаж: {summarize_sales(company_structure, \"sales\")}\")\n",
    "except TypeError as e:\n",
    "    print(\"Ошибка:\", e)"
   ]
  },
  {
   "cell_type": "code",
   "execution_count": 8,
   "id": "5e7900ea-b0ac-419f-9791-5640518271cb",
   "metadata": {},
   "outputs": [
    {
     "data": {
      "text/plain": [
       "[{'dept_name': 'Sales Department',\n",
       "  'sales': 200,\n",
       "  'sub_departments': [{'dept_name': 'B2B Sales', 'sales': 120}]},\n",
       " {'dept_name': 'IT Department',\n",
       "  'sales': 150,\n",
       "  'sub_departments': [{'dept_name': 'DevOps',\n",
       "    'sales': 300,\n",
       "    'sub_departments': [{'dept_name': 'Cloud Infrastructure', 'sales': 180}]},\n",
       "   {'dept_name': 'QA Department', 'sales': 90}]}]"
      ]
     },
     "execution_count": 8,
     "metadata": {},
     "output_type": "execute_result"
    }
   ],
   "source": [
    "company_structure.get(\"sub_departments\", [])"
   ]
  },
  {
   "cell_type": "code",
   "execution_count": null,
   "id": "d1b0f1d1-09e8-44b3-9890-50b4204bccae",
   "metadata": {},
   "outputs": [],
   "source": []
  }
 ],
 "metadata": {
  "kernelspec": {
   "display_name": "Python 3 (ipykernel)",
   "language": "python",
   "name": "python3"
  },
  "language_info": {
   "codemirror_mode": {
    "name": "ipython",
    "version": 3
   },
   "file_extension": ".py",
   "mimetype": "text/x-python",
   "name": "python",
   "nbconvert_exporter": "python",
   "pygments_lexer": "ipython3",
   "version": "3.12.4"
  }
 },
 "nbformat": 4,
 "nbformat_minor": 5
}
