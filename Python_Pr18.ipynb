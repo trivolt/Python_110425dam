{
 "cells": [
  {
   "cell_type": "markdown",
   "id": "eb08794f-6d6e-465b-b21e-383b7e7058a0",
   "metadata": {},
   "source": [
    "# Практические задания 18\n",
    "* Лекция 36 - Парсинг веб-страниц\n",
    "* Лекция 37 - MySQL и Python\n"
   ]
  },
  {
   "cell_type": "markdown",
   "id": "6caccc75-8bf5-4706-8ae7-b2284427dbc4",
   "metadata": {},
   "source": [
    "1. **Парсинг данных**\n",
    "> Извлеките данные с первых 10 страниц ресурса https://www.fdic.gov/bank-failures/failed-bank-list. Сохраните их в список строк таблицы. Выведите несколько произвольных строк.\n",
    "\n",
    "*Пример вывода:*  \n",
    "```\n",
    "['The Woodbury Banking Company', 'Woodbury', 'Georgia', '11297', 'United Bank', 'August 19, 2016', '10521']\n",
    "['First CornerStone Bank', 'King of Prussia', 'Pennsylvania', '35312', 'First-Citizens Bank & Trust Company', 'May 6, 2016', '10520']\n",
    "['Trust Company Bank', 'Memphis', 'Tennessee', '9956', 'The Bank of Fayette County', 'April 29, 2016', '10519']\n",
    "['North Milwaukee State Bank', 'Milwaukee', 'Wisconsin', '20364', 'First-Citizens Bank & Trust Company', 'March 11, 2016', '10518']\n",
    "['Hometown National Bank', 'Longview', 'Washington', '35156', 'Twin City Bank', 'October 2, 2015', '10517']\n",
    "```"
   ]
  },
  {
   "cell_type": "code",
   "execution_count": 10,
   "id": "e2bc7c21-97f7-4587-90eb-860ebfc17134",
   "metadata": {},
   "outputs": [
    {
     "name": "stdout",
     "output_type": "stream",
     "text": [
      "['Allied Bank', 'Mulberry', 'Arkansas', '91', \"Today's Bank\", 'September 23, 2016', '10522']\n",
      "['The Woodbury Banking Company', 'Woodbury', 'Georgia', '11297', 'United Bank', 'August 19, 2016', '10521']\n",
      "['First CornerStone Bank', 'King of Prussia', 'Pennsylvania', '35312', 'First-Citizens Bank & Trust Company', 'May 6, 2016', '10520']\n",
      "['Trust Company Bank', 'Memphis', 'Tennessee', '9956', 'The Bank of Fayette County', 'April 29, 2016', '10519']\n",
      "['North Milwaukee State Bank', 'Milwaukee', 'Wisconsin', '20364', 'First-Citizens Bank & Trust Company', 'March 11, 2016', '10518']\n"
     ]
    }
   ],
   "source": [
    "import requests\n",
    "from bs4 import BeautifulSoup\n",
    "\n",
    "url = 'https://www.fdic.gov/bank-failures/failed-bank-list'\n",
    "data = []\n",
    "for i in range(1,11):\n",
    "    params = {'page': i}\n",
    "    response = requests.get(url, params = params) # 'https://www.fdic.gov/bank-failures/failed-bank-list'+f'?pg={i}'      -> https://www.fdic.gov/bank-failures/failed-bank-list?pg=3\n",
    "\n",
    "    if response.status_code == 200:\n",
    "        soup = BeautifulSoup(response.text, 'html.parser')\n",
    "        table = soup.find('table')\n",
    "        rows = table.find_all('tr')\n",
    "        for row in rows:\n",
    "            cols = row.find_all('td')\n",
    "            row_data = [col.text.strip() for col in cols]\n",
    "            data.append(row_data)\n",
    "    else:\n",
    "        print('Ошибка запроса к странице')\n",
    "\n",
    "for row in data[1:6]:\n",
    "    print(row)"
   ]
  },
  {
   "cell_type": "markdown",
   "id": "167be672-2361-4881-81ab-17951ab52c0d",
   "metadata": {},
   "source": [
    "2. **Создание таблицы БД**\n",
    "     \n",
    "Напишите программу, которая:\n",
    "* создаёт базу данных `banks_<your_group>_<your_full_name>`\n",
    "* выбирает эту базу через USE \n",
    "* создает таблицу banks со структурой, идентичной таблице с сайта предыдущей задачи (но дополнительно нужно добавить первичный ключ - id)\n",
    "После этого:\n",
    "* вставьте одну произвольную строку в таблицу\n",
    "* выполните commit() после вставки\n",
    "* выведите все строки таблицы\n",
    "* удалите из таблицы все строки\n",
    "* убедитесь, что таблица пуста.\n",
    "\n",
    "*Пример вывода:*  \n",
    "Строки в таблице после вставки:  \n",
    "`(3, 'Example Bank', 'Example City', 'Example State', '00000', 'Example Institution', datetime.date(2023, 10, 1), 10000)`  \n",
    "Строки в таблице после удаления:\n"
   ]
  },
  {
   "cell_type": "code",
   "execution_count": 1,
   "id": "81b72014-3965-4b29-97bf-04476dd9a6bd",
   "metadata": {},
   "outputs": [],
   "source": [
    "import config_connect_to_db"
   ]
  },
  {
   "cell_type": "code",
   "execution_count": 3,
   "id": "6e9cb2c3-f5da-4b65-a058-7d96a3a4b55f",
   "metadata": {},
   "outputs": [],
   "source": [
    "config = config_connect_to_db.cnfg"
   ]
  },
  {
   "cell_type": "code",
   "execution_count": 7,
   "id": "33764927-9d06-4798-9417-e645b133205b",
   "metadata": {},
   "outputs": [
    {
     "name": "stdout",
     "output_type": "stream",
     "text": [
      "(3, 'Example Bank', 'Example City', 'Example State', '00000', 'Example Institution', datetime.date(2023, 10, 1), 10000)\n",
      "(4, 'Example Bank', 'Example City', 'Example State', '00000', 'Example Institution', datetime.date(2023, 10, 1), 10000)\n",
      "(5, 'Example Bank', 'Example City', 'Example State', '00000', 'Example Institution', datetime.date(2023, 10, 1), 10000)\n",
      "(6, 'Example Bank', 'Example City', 'Example State', '00000', 'Example Institution', datetime.date(2023, 10, 1), 10000)\n",
      "(7, 'Example Bank', 'Example City', 'Example State', '00000', 'Example Institution', datetime.date(2023, 10, 1), 10000)\n"
     ]
    }
   ],
   "source": [
    "import pymysql\n",
    "\n",
    "connection = pymysql.connect(**config)\n",
    "cursor = connection.cursor()\n",
    "\n",
    "db_name = 'banks_110425'\n",
    "cursor.execute(f'CREATE DATABASE IF NOT EXISTS {db_name}')\n",
    "cursor.execute(f'USE {db_name}')\n",
    "\n",
    "create_table_query = '''\n",
    "CREATE TABLE IF NOT EXISTS bank (\n",
    "id INT AUTO_INCREMENT PRIMARY KEY,\n",
    "bank_name VARCHAR(255),\n",
    "city VARCHAR(255),\n",
    "state VARCHAR(255),\n",
    "cert VARCHAR(10),\n",
    "acquiring_institution VARCHAR(255),\n",
    "closing_data DATE,\n",
    "fund INT\n",
    ")\n",
    "'''\n",
    "\n",
    "cursor.execute(create_table_query)\n",
    "\n",
    "insert_query = '''\n",
    "INSERT INTO bank (bank_name, city, state, cert, acquiring_institution, closing_data, fund)\n",
    "VALUES (%s, %s, %s, %s, %s, %s, %s)\n",
    "'''\n",
    "\n",
    "cursor.execute(insert_query, ('Example Bank', 'Example City', 'Example State', '00000', 'Example Institution', '2023-10-01', 10000))\n",
    "connection.commit()\n",
    "\n",
    "cursor.execute('SELECT * FROM bank')\n",
    "for row in cursor:\n",
    "    print(row)\n",
    "\n"
   ]
  },
  {
   "cell_type": "code",
   "execution_count": 8,
   "id": "44667c21-7f50-47f3-812c-47ef9ff46098",
   "metadata": {},
   "outputs": [
    {
     "name": "stdout",
     "output_type": "stream",
     "text": [
      "таблица после удаления:\n"
     ]
    }
   ],
   "source": [
    "cursor.execute('DELETE FROM bank')\n",
    "connection.commit()\n",
    "\n",
    "print('таблица после удаления:')\n",
    "cursor.execute('SELECT * FROM bank')\n",
    "for row in cursor:\n",
    "    print(row)"
   ]
  },
  {
   "cell_type": "code",
   "execution_count": 9,
   "id": "8dba9fe3-82bb-4f7d-b0c7-c3742e3b60c3",
   "metadata": {},
   "outputs": [],
   "source": [
    "cursor.close()\n",
    "connection.close()"
   ]
  },
  {
   "cell_type": "markdown",
   "id": "13230492-25ba-4f09-80c7-a3cf1fce56ad",
   "metadata": {},
   "source": [
    "3. **Заполнение базы данных**  \n",
    "> Продолжите решение предыдущих задач. Вставьте в созданную базу данных строки, полученные парсингом сайта в первой задаче. Перед вставкой убедитесь, что данные имеют верные типы (числа, даты и т.п.)   \n",
    "*Пример вывода:*   \n",
    "Строки в таблице после вставки:\n",
    "```\n",
    "(2, 'The First State Bank', 'Barboursville', 'West Virginia', '14361', 'MVB Bank, Inc.', datetime.date(2020, 4, 3), 10536)\n",
    "(3, 'Ericson State Bank', 'Ericson', 'Nebraska', '18265', 'Farmers and Merchants Bank', datetime.date(2020, 2, 14), 10535)\n",
    "(4, 'City National Bank of New Jersey', 'Newark', 'New Jersey', '21111', 'Industrial Bank', datetime.date(2019, 11, 1), 10534)\n",
    "(5, 'Resolute Bank', 'Maumee', 'Ohio', '58317', 'Buckeye State Bank', datetime.date(2019, 10, 25), 10533)\n",
    "```"
   ]
  },
  {
   "cell_type": "code",
   "execution_count": 12,
   "id": "7412bed8-14db-4d8a-924a-27f0158cfb0b",
   "metadata": {},
   "outputs": [
    {
     "data": {
      "text/plain": [
       "[['Allied Bank',\n",
       "  'Mulberry',\n",
       "  'Arkansas',\n",
       "  '91',\n",
       "  \"Today's Bank\",\n",
       "  'September 23, 2016',\n",
       "  '10522']]"
      ]
     },
     "execution_count": 12,
     "metadata": {},
     "output_type": "execute_result"
    }
   ],
   "source": [
    "data[1:2]"
   ]
  },
  {
   "cell_type": "code",
   "execution_count": null,
   "id": "6dbb279e-a561-4030-93af-cc3ed38735da",
   "metadata": {},
   "outputs": [],
   "source": [
    "from datetime import datetime\n",
    "\n",
    "for bd in data[1:]:\n",
    "    bd[5] = "
   ]
  },
  {
   "cell_type": "markdown",
   "id": "4757f1d7-3607-448c-8ab9-7e081029b24b",
   "metadata": {},
   "source": [
    "4. **Запрос к базе данных**  \n",
    "> Напишите запрос к созданной базе данных, который позволяет вывести количество банков в каждом Штате и их суммарные фонды.\n",
    "\n",
    "*Пример вывода:*   \n",
    "Количество банков и суммарные фонды по штатам:  \n",
    "```\n",
    "Штат: West Virginia, Количество банков: 1, Суммарные фонды: 10536\n",
    "Штат: Nebraska, Количество банков: 1, Суммарные фонды: 10535\n",
    "Штат: New Jersey, Количество банков: 2, Суммарные фонды: 21057\n",
    "Штат: Ohio, Количество банков: 2, Суммарные фонды: 21032\n",
    "Штат: Kentucky, Количество банков: 2, Суммарные фонды: 21006\n",
    "Штат: Texas, Количество банков: 3, Суммарные фонды: 31510\n",
    "Штат: Illinois, Количество банков: 16, Суммарные фонды: 167855\n",
    "...\n",
    "```"
   ]
  },
  {
   "cell_type": "code",
   "execution_count": null,
   "id": "a3a874d1-d3b5-49dc-8f29-d634e83d06a8",
   "metadata": {},
   "outputs": [],
   "source": []
  }
 ],
 "metadata": {
  "kernelspec": {
   "display_name": "Python 3 (ipykernel)",
   "language": "python",
   "name": "python3"
  },
  "language_info": {
   "codemirror_mode": {
    "name": "ipython",
    "version": 3
   },
   "file_extension": ".py",
   "mimetype": "text/x-python",
   "name": "python",
   "nbconvert_exporter": "python",
   "pygments_lexer": "ipython3",
   "version": "3.12.4"
  }
 },
 "nbformat": 4,
 "nbformat_minor": 5
}
