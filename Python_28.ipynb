{
 "cells": [
  {
   "cell_type": "markdown",
   "id": "f7dec559-3b11-404d-9e69-6ca7649aed73",
   "metadata": {},
   "source": [
    "# Файлы JSON и модуль datetime\n"
   ]
  },
  {
   "cell_type": "markdown",
   "id": "6d195903-fad8-42eb-88b1-1f550b483dda",
   "metadata": {},
   "source": [
    "## JSON\n",
    "JSON (JavaScript Object Notation) – это текстовый формат для хранения и передачи данных.\n",
    "Он представляет данные в удобном для чтения виде и используется для обмена информацией между системами.\n"
   ]
  },
  {
   "cell_type": "code",
   "execution_count": null,
   "id": "48c0f2bf-9b09-416b-bf26-062d71253242",
   "metadata": {},
   "outputs": [],
   "source": [
    "{\n",
    "    \"name\": \"Alice\",\n",
    "    \"age\": 25,\n",
    "    \"is_student\": false,\n",
    "    \"courses\": [\"Math\", \"Physics\"]\n",
    "}\n"
   ]
  },
  {
   "cell_type": "markdown",
   "id": "7737af55-b083-4097-a323-3dca538da42b",
   "metadata": {},
   "source": [
    "#### Особенности JSON:\n",
    "* Структура представляет собой объекты (ключ-значение, как dict в Python) и массивы (как list).\n",
    "* Поддерживает числа, строки, булевы значения, массивы и объекты.\n",
    "* Все строки в JSON записываются только в двойных кавычках, в отличие от Python, где можно использовать одинарные или двойные.\n",
    "* Данные хранятся в текстовом виде, что делает JSON универсальным.\n"
   ]
  },
  {
   "cell_type": "markdown",
   "id": "847db397-572d-423c-bc90-3f4b776ffceb",
   "metadata": {},
   "source": [
    "#### Где используется JSON?\n",
    "JSON применяется везде, где требуется передача или хранение структурированных данных.\n",
    "* API (обмен данными между системами): передавать данные между клиентом и сервером.\n",
    "* Базы данных: например для хранения документов в MongoDB.\n",
    "* Конфигурационные файлы: для хранения настроек приложений.\n",
    "* Фронтенд и бэкенд: для передачи данных между браузером и сервером.\n"
   ]
  },
  {
   "cell_type": "markdown",
   "id": "955bdaa6-c22b-4944-8e6e-f567fc5bebd1",
   "metadata": {},
   "source": [
    "#### Модуль json\n",
    "Python содержит встроенный модуль json, который позволяет сериализовать и десериализовать данные в формате JSON.\n"
   ]
  },
  {
   "cell_type": "markdown",
   "id": "ee4b0d3b-5ab7-4a7c-9436-4697d89331c2",
   "metadata": {},
   "source": [
    "## Сериализация\n",
    "**Сериализация** – это процесс преобразования данных в формат JSON, чтобы их можно было хранить или передавать.  \n",
    "Python предоставляет две функции для сериализации JSON:\n",
    "* `json.dumps(obj)` – преобразует Python-объект в JSON-строку.\n",
    "* `json.dump(obj, file)` – записывает JSON-данные в файл."
   ]
  },
  {
   "cell_type": "markdown",
   "id": "35f85a17-ac6f-4271-a5e7-a714b6bf8d85",
   "metadata": {},
   "source": [
    "Пример преобразования в JSON-строку:"
   ]
  },
  {
   "cell_type": "code",
   "execution_count": 29,
   "id": "56701d1f-89c5-4105-9e9e-287809754d50",
   "metadata": {},
   "outputs": [
    {
     "name": "stdout",
     "output_type": "stream",
     "text": [
      "<class 'str'>\n",
      "{\"name\": \"Alice\", \"age\": 25, \"is_student\": false}\n"
     ]
    }
   ],
   "source": [
    "import json\n",
    "\n",
    "data = {'name': 'Alice', 'age': 25, 'is_student': False}\n",
    "\n",
    "json_string = json.dumps(data)  # Преобразование в JSON-строку\n",
    "print(type(json_string))\n",
    "print(json_string)\n"
   ]
  },
  {
   "cell_type": "markdown",
   "id": "4b80feef-4ccd-44e5-8313-1e1204e80d98",
   "metadata": {},
   "source": [
    "Пример записи в JSON-файл:\n"
   ]
  },
  {
   "cell_type": "code",
   "execution_count": null,
   "id": "c8909b9e-612a-4ee4-83d7-185c97433c46",
   "metadata": {},
   "outputs": [],
   "source": [
    "with open(\"data.json\", \"w\") as file:\n",
    "    json.dump(data, file)  # Запись JSON в файл\n"
   ]
  },
  {
   "cell_type": "markdown",
   "id": "9aed48dc-1819-4068-bf85-5c72e6330f33",
   "metadata": {},
   "source": [
    "#### Когда использовать?\n",
    "* `json.dumps()` – если нужно преобразовать объект Python в JSON-строку для передачи по сети или хранения в базе данных.\n",
    "* `json.dump()` – если нужно записать объект Python в JSON-файл, например для сохранения конфигураций.\n"
   ]
  },
  {
   "cell_type": "markdown",
   "id": "768eb27b-6566-4f9d-9640-108e5b09a2c5",
   "metadata": {},
   "source": [
    "#### Параметр ensure_ascii\n",
    "Параметр ensure_ascii определяет, **как JSON будет хранить юникод-символы.**  \n",
    "При ensure_ascii=True (по умолчанию) **все не-ASCII символы кодируются в \\u-формат**,  \n",
    "а при ensure_ascii=False **сохраняются в читаемом виде.**\n"
   ]
  },
  {
   "cell_type": "code",
   "execution_count": null,
   "id": "a6965a25-a12a-47ae-b1eb-e638c803b837",
   "metadata": {},
   "outputs": [],
   "source": [
    "data = {\"город\": \"Берлин\", \"страна\": \"Германия\"}\n",
    "\n",
    "json_string = json.dumps(data)  # По умолчанию (ensure_ascii=True)\n",
    "print(json_string)\n",
    "\n",
    "json_string = json.dumps(data, ensure_ascii=False)  # Отключаем ASCII-кодировку\n",
    "print(json_string)\n"
   ]
  },
  {
   "cell_type": "markdown",
   "id": "5bd7b6ae-e737-4afe-9295-0b18d894d0e5",
   "metadata": {},
   "source": [
    "## Десериализация\n",
    "Десериализация – это процесс обратного преобразования JSON в объект Python, чтобы с ним можно было работать в программе.  \n",
    "Python предоставляет две функции для десериализации JSON:  \n",
    "* `json.loads(json_string)` – преобразует JSON-строку в Python-объект.\n",
    "* `json.load(file)` – загружает JSON-данные из файла в Python-объект.\n"
   ]
  },
  {
   "cell_type": "markdown",
   "id": "4a424da9-b25d-40dd-a7bd-bb853662db36",
   "metadata": {},
   "source": [
    "Пример преобразования JSON-строки в объект Python:\n"
   ]
  },
  {
   "cell_type": "code",
   "execution_count": 30,
   "id": "d6d6eae7-701e-475e-aea1-d34ea5cb9c90",
   "metadata": {},
   "outputs": [
    {
     "name": "stdout",
     "output_type": "stream",
     "text": [
      "<class 'dict'>\n",
      "{'name': 'Alice', 'age': 25, 'is_student': False}\n",
      "<class 'list'>\n",
      "[{'name': 'Alice', 'age': 25, 'is_student': False}, {'name': 'Bob', 'age': 20, 'is_student': True}]\n"
     ]
    }
   ],
   "source": [
    "json_object = '{\"name\": \"Alice\", \"age\": 25, \"is_student\": false}'\n",
    "json_objects = '[{\"name\": \"Alice\", \"age\": 25, \"is_student\": false}, {\"name\": \"Bob\", \"age\": 20, \"is_student\": true}]'\n",
    "\n",
    "data_dict = json.loads(json_object)  # Преобразование JSON-строки в Python-объект\n",
    "print(type(data_dict))\n",
    "print(data_dict)\n",
    "\n",
    "data_list = json.loads(json_objects)  # Преобразование JSON-строки в Python-объект\n",
    "print(type(data_list))\n",
    "print(data_list)\n"
   ]
  },
  {
   "cell_type": "markdown",
   "id": "51792e14-348a-46b6-b2a3-8090703f2b76",
   "metadata": {},
   "source": [
    "Пример загрузки данных из JSON-файла в Python-объект.\n"
   ]
  },
  {
   "cell_type": "code",
   "execution_count": 31,
   "id": "7c90a485-4a7d-40cd-a89f-a3e1486255b6",
   "metadata": {},
   "outputs": [
    {
     "name": "stdout",
     "output_type": "stream",
     "text": [
      "<class 'dict'>\n",
      "{'dict_example': {'key': 'value'}, 'list_example': ['apple', 'banana'], 'tuple_example': ['apple', 'banana'], 'string_example': 'Hello', 'int_example': 42, 'float_example': 3.14, 'bool_example_true': True, 'bool_example_false': False, 'none_example': None}\n"
     ]
    }
   ],
   "source": [
    "\n",
    "with open(\"data.json\", \"r\") as file:\n",
    "    data = json.load(file)  # Загрузка JSON из файла\n",
    "\n",
    "print(type(data))\n",
    "print(data)\n"
   ]
  },
  {
   "cell_type": "markdown",
   "id": "ce7947b3-8a66-48e1-ad3a-722d36841dae",
   "metadata": {},
   "source": [
    "##### Когда использовать?\n",
    "* `json.loads()` – если JSON приходит в виде строки, например, из API.\n",
    "* `json.load()` – если JSON хранится в файле и его нужно загрузить в Python.\n"
   ]
  },
  {
   "cell_type": "markdown",
   "id": "cbbfd98d-ff3c-4c59-9578-a8edf755fa78",
   "metadata": {},
   "source": [
    "## Сравнение типов Python и JSON\n",
    "При сериализации и десериализации типы данных Python преобразуются в соответствующие JSON-форматы и обратно.\n"
   ]
  },
  {
   "attachments": {
    "b95f9ca6-e285-4792-8b5d-721a4d9de88f.png": {
     "image/png": "[encoded data removed]"
    }
   },
   "cell_type": "markdown",
   "id": "e2a101b7-59ef-4456-8cc5-9744d85ee1ed",
   "metadata": {},
   "source": [
    "![image.png](attachment:b95f9ca6-e285-4792-8b5d-721a4d9de88f.png)"
   ]
  },
  {
   "cell_type": "markdown",
   "id": "ba91b40a-bdea-4dc1-8bc4-b1aa8b2c7c3b",
   "metadata": {},
   "source": [
    "#### Особенности:\n",
    "* Кортежи (tuple) преобразуются в массив (array), так как в JSON нет отдельного типа для кортежей.\n",
    "   * set и frozenset не поддерживаются в JSON, так как в нём нет аналога для множеств.\n",
    "* Булевы значения (True, False) в JSON записываются с маленькой буквы (true, false).\n",
    "* Отсутствие значения (None) в JSON записывается как null.\n"
   ]
  },
  {
   "cell_type": "markdown",
   "id": "01630ffa-0f0c-4b40-860b-02660e5ce498",
   "metadata": {},
   "source": [
    "Пример: Запись в файл объекта, содержащего все типы данных"
   ]
  },
  {
   "cell_type": "code",
   "execution_count": 32,
   "id": "d3b9e87f-cc68-4d4b-9019-8c35159e3133",
   "metadata": {},
   "outputs": [],
   "source": [
    "data = {\n",
    "    \"dict_example\": {\"key\": \"value\"},\n",
    "    \"list_example\": [\"apple\", \"banana\"],\n",
    "    \"tuple_example\": (\"apple\", \"banana\"),\n",
    "    \"string_example\": \"Hello\",\n",
    "    \"int_example\": 42,\n",
    "    \"float_example\": 3.14,\n",
    "    \"bool_example_true\": True,\n",
    "    \"bool_example_false\": False,\n",
    "    \"none_example\": None\n",
    "}\n",
    "\n",
    "# Запись в файл data.json\n",
    "with open(\"data.json\", \"w\", encoding=\"utf-8\") as file:\n",
    "    json.dump(data, file)\n"
   ]
  },
  {
   "cell_type": "markdown",
   "id": "00fa3cd7-44c0-4fb6-aa7a-f75f135f0c41",
   "metadata": {},
   "source": [
    "Пример: Чтение обратно в Python\n"
   ]
  },
  {
   "cell_type": "code",
   "execution_count": 33,
   "id": "339552e5-e628-46cf-8c76-123240c55757",
   "metadata": {},
   "outputs": [
    {
     "name": "stdout",
     "output_type": "stream",
     "text": [
      "<class 'dict'>\n",
      "{'dict_example': {'key': 'value'}, 'list_example': ['apple', 'banana'], 'tuple_example': ['apple', 'banana'], 'string_example': 'Hello', 'int_example': 42, 'float_example': 3.14, 'bool_example_true': True, 'bool_example_false': False, 'none_example': None}\n"
     ]
    }
   ],
   "source": [
    "# Чтение данных обратно в Python\n",
    "with open(\"data.json\", \"r\", encoding=\"utf-8\") as file:\n",
    "    loaded_data = json.load(file)\n",
    "\n",
    "# Вывод загруженных данных\n",
    "print(type(loaded_data))\n",
    "print(loaded_data)\n"
   ]
  },
  {
   "cell_type": "code",
   "execution_count": null,
   "id": "daa98013-5714-43cf-9bbe-02f567917813",
   "metadata": {},
   "outputs": [],
   "source": []
  },
  {
   "cell_type": "code",
   "execution_count": 34,
   "id": "010f0c57-b1dd-47c6-ba1a-b21deb85561b",
   "metadata": {},
   "outputs": [
    {
     "name": "stdout",
     "output_type": "stream",
     "text": [
      "{\"\\u0433\\u043e\\u0440\\u043e\\u0434\": \"\\u0411\\u0435\\u0440\\u043b\\u0438\\u043d\", \"\\u0441\\u0442\\u0440\\u0430\\u043d\\u0430\": \"\\u0413\\u0435\\u0440\\u043c\\u0430\\u043d\\u0438\\u044f\"}\n",
      "{\"город\": \"Берлин\", \"страна\": \"Германия\"}\n"
     ]
    }
   ],
   "source": [
    "import json\n",
    "\n",
    "data = {\"город\": \"Берлин\", \"страна\": \"Германия\"}\n",
    "\n",
    "json_string = json.dumps(data)  # По умолчанию (ensure_ascii=True)\n",
    "print(json_string)\n",
    "\n",
    "json_string = json.dumps(data, ensure_ascii=False)  # Отключаем ASCII-кодировку\n",
    "print(json_string)\n"
   ]
  },
  {
   "cell_type": "code",
   "execution_count": 37,
   "id": "e4a727fd-d484-4efe-ba8b-94e1ca7a9ed7",
   "metadata": {},
   "outputs": [
    {
     "name": "stdout",
     "output_type": "stream",
     "text": [
      "{\n",
      "  \"name\": \"Alice\",\n",
      "  \"age\": 25,\n",
      "  \"is_student\": false,\n",
      "  \"city\": \"London\"\n",
      "}\n",
      "{\n",
      "    \"age\": 25,\n",
      "    \"city\": \"London\",\n",
      "    \"is_student\": false,\n",
      "    \"name\": \"Alice\"\n",
      "}\n"
     ]
    }
   ],
   "source": [
    "import json\n",
    "\n",
    "data = {\"name\": \"Alice\", \"age\": 25, \"is_student\": False, \"city\": \"London\"}\n",
    "\n",
    "json_string = json.dumps(data, indent=2)  # Без сортировки ключей\n",
    "print(json_string)\n",
    "\n",
    "json_string = json.dumps(data, indent=4, sort_keys=True)  # Сортировка ключей\n",
    "print(json_string)\n"
   ]
  },
  {
   "cell_type": "markdown",
   "id": "9dcc48d7-8545-4124-a223-0139a86127d8",
   "metadata": {},
   "source": [
    "## JSONDecodeError\n",
    "**JSONDecodeError** возникает, если строка JSON имеет неверный формат и не может быть разобрана с помощью `json.loads()` или `json.load()`.\n",
    "Ошибка указывает, что JSON-данные повреждены, содержат синтаксические ошибки или не соответствуют ожиданиям.\n"
   ]
  },
  {
   "cell_type": "code",
   "execution_count": 38,
   "id": "53f0e7c8-013d-4f64-b9bb-482e838007d2",
   "metadata": {},
   "outputs": [
    {
     "ename": "JSONDecodeError",
     "evalue": "Expecting property name enclosed in double quotes: line 1 column 50 (char 49)",
     "output_type": "error",
     "traceback": [
      "\u001b[1;31m---------------------------------------------------------------------------\u001b[0m",
      "\u001b[1;31mJSONDecodeError\u001b[0m                           Traceback (most recent call last)",
      "Cell \u001b[1;32mIn[38], line 2\u001b[0m\n\u001b[0;32m      1\u001b[0m invalid_json \u001b[38;5;241m=\u001b[39m \u001b[38;5;124m'\u001b[39m\u001b[38;5;124m{\u001b[39m\u001b[38;5;124m\"\u001b[39m\u001b[38;5;124mname\u001b[39m\u001b[38;5;124m\"\u001b[39m\u001b[38;5;124m: \u001b[39m\u001b[38;5;124m\"\u001b[39m\u001b[38;5;124mAlice\u001b[39m\u001b[38;5;124m\"\u001b[39m\u001b[38;5;124m, \u001b[39m\u001b[38;5;124m\"\u001b[39m\u001b[38;5;124mage\u001b[39m\u001b[38;5;124m\"\u001b[39m\u001b[38;5;124m: 25, \u001b[39m\u001b[38;5;124m\"\u001b[39m\u001b[38;5;124mis_student\u001b[39m\u001b[38;5;124m\"\u001b[39m\u001b[38;5;124m: false,\u001b[39m\u001b[38;5;124m'\u001b[39m  \u001b[38;5;66;03m# Ошибка: нет закрывающей скобки\u001b[39;00m\n\u001b[1;32m----> 2\u001b[0m data \u001b[38;5;241m=\u001b[39m json\u001b[38;5;241m.\u001b[39mloads(invalid_json)\n",
      "File \u001b[1;32m~\\anaconda3\\Lib\\json\\__init__.py:346\u001b[0m, in \u001b[0;36mloads\u001b[1;34m(s, cls, object_hook, parse_float, parse_int, parse_constant, object_pairs_hook, **kw)\u001b[0m\n\u001b[0;32m    341\u001b[0m     s \u001b[38;5;241m=\u001b[39m s\u001b[38;5;241m.\u001b[39mdecode(detect_encoding(s), \u001b[38;5;124m'\u001b[39m\u001b[38;5;124msurrogatepass\u001b[39m\u001b[38;5;124m'\u001b[39m)\n\u001b[0;32m    343\u001b[0m \u001b[38;5;28;01mif\u001b[39;00m (\u001b[38;5;28mcls\u001b[39m \u001b[38;5;129;01mis\u001b[39;00m \u001b[38;5;28;01mNone\u001b[39;00m \u001b[38;5;129;01mand\u001b[39;00m object_hook \u001b[38;5;129;01mis\u001b[39;00m \u001b[38;5;28;01mNone\u001b[39;00m \u001b[38;5;129;01mand\u001b[39;00m\n\u001b[0;32m    344\u001b[0m         parse_int \u001b[38;5;129;01mis\u001b[39;00m \u001b[38;5;28;01mNone\u001b[39;00m \u001b[38;5;129;01mand\u001b[39;00m parse_float \u001b[38;5;129;01mis\u001b[39;00m \u001b[38;5;28;01mNone\u001b[39;00m \u001b[38;5;129;01mand\u001b[39;00m\n\u001b[0;32m    345\u001b[0m         parse_constant \u001b[38;5;129;01mis\u001b[39;00m \u001b[38;5;28;01mNone\u001b[39;00m \u001b[38;5;129;01mand\u001b[39;00m object_pairs_hook \u001b[38;5;129;01mis\u001b[39;00m \u001b[38;5;28;01mNone\u001b[39;00m \u001b[38;5;129;01mand\u001b[39;00m \u001b[38;5;129;01mnot\u001b[39;00m kw):\n\u001b[1;32m--> 346\u001b[0m     \u001b[38;5;28;01mreturn\u001b[39;00m _default_decoder\u001b[38;5;241m.\u001b[39mdecode(s)\n\u001b[0;32m    347\u001b[0m \u001b[38;5;28;01mif\u001b[39;00m \u001b[38;5;28mcls\u001b[39m \u001b[38;5;129;01mis\u001b[39;00m \u001b[38;5;28;01mNone\u001b[39;00m:\n\u001b[0;32m    348\u001b[0m     \u001b[38;5;28mcls\u001b[39m \u001b[38;5;241m=\u001b[39m JSONDecoder\n",
      "File \u001b[1;32m~\\anaconda3\\Lib\\json\\decoder.py:337\u001b[0m, in \u001b[0;36mJSONDecoder.decode\u001b[1;34m(self, s, _w)\u001b[0m\n\u001b[0;32m    332\u001b[0m \u001b[38;5;28;01mdef\u001b[39;00m \u001b[38;5;21mdecode\u001b[39m(\u001b[38;5;28mself\u001b[39m, s, _w\u001b[38;5;241m=\u001b[39mWHITESPACE\u001b[38;5;241m.\u001b[39mmatch):\n\u001b[0;32m    333\u001b[0m \u001b[38;5;250m    \u001b[39m\u001b[38;5;124;03m\"\"\"Return the Python representation of ``s`` (a ``str`` instance\u001b[39;00m\n\u001b[0;32m    334\u001b[0m \u001b[38;5;124;03m    containing a JSON document).\u001b[39;00m\n\u001b[0;32m    335\u001b[0m \n\u001b[0;32m    336\u001b[0m \u001b[38;5;124;03m    \"\"\"\u001b[39;00m\n\u001b[1;32m--> 337\u001b[0m     obj, end \u001b[38;5;241m=\u001b[39m \u001b[38;5;28mself\u001b[39m\u001b[38;5;241m.\u001b[39mraw_decode(s, idx\u001b[38;5;241m=\u001b[39m_w(s, \u001b[38;5;241m0\u001b[39m)\u001b[38;5;241m.\u001b[39mend())\n\u001b[0;32m    338\u001b[0m     end \u001b[38;5;241m=\u001b[39m _w(s, end)\u001b[38;5;241m.\u001b[39mend()\n\u001b[0;32m    339\u001b[0m     \u001b[38;5;28;01mif\u001b[39;00m end \u001b[38;5;241m!=\u001b[39m \u001b[38;5;28mlen\u001b[39m(s):\n",
      "File \u001b[1;32m~\\anaconda3\\Lib\\json\\decoder.py:353\u001b[0m, in \u001b[0;36mJSONDecoder.raw_decode\u001b[1;34m(self, s, idx)\u001b[0m\n\u001b[0;32m    344\u001b[0m \u001b[38;5;250m\u001b[39m\u001b[38;5;124;03m\"\"\"Decode a JSON document from ``s`` (a ``str`` beginning with\u001b[39;00m\n\u001b[0;32m    345\u001b[0m \u001b[38;5;124;03ma JSON document) and return a 2-tuple of the Python\u001b[39;00m\n\u001b[0;32m    346\u001b[0m \u001b[38;5;124;03mrepresentation and the index in ``s`` where the document ended.\u001b[39;00m\n\u001b[1;32m   (...)\u001b[0m\n\u001b[0;32m    350\u001b[0m \n\u001b[0;32m    351\u001b[0m \u001b[38;5;124;03m\"\"\"\u001b[39;00m\n\u001b[0;32m    352\u001b[0m \u001b[38;5;28;01mtry\u001b[39;00m:\n\u001b[1;32m--> 353\u001b[0m     obj, end \u001b[38;5;241m=\u001b[39m \u001b[38;5;28mself\u001b[39m\u001b[38;5;241m.\u001b[39mscan_once(s, idx)\n\u001b[0;32m    354\u001b[0m \u001b[38;5;28;01mexcept\u001b[39;00m \u001b[38;5;167;01mStopIteration\u001b[39;00m \u001b[38;5;28;01mas\u001b[39;00m err:\n\u001b[0;32m    355\u001b[0m     \u001b[38;5;28;01mraise\u001b[39;00m JSONDecodeError(\u001b[38;5;124m\"\u001b[39m\u001b[38;5;124mExpecting value\u001b[39m\u001b[38;5;124m\"\u001b[39m, s, err\u001b[38;5;241m.\u001b[39mvalue) \u001b[38;5;28;01mfrom\u001b[39;00m \u001b[38;5;28;01mNone\u001b[39;00m\n",
      "\u001b[1;31mJSONDecodeError\u001b[0m: Expecting property name enclosed in double quotes: line 1 column 50 (char 49)"
     ]
    }
   ],
   "source": [
    "invalid_json = '{\"name\": \"Alice\", \"age\": 25, \"is_student\": false,'  # Ошибка: нет закрывающей скобки\n",
    "data = json.loads(invalid_json)  # Загрузка некорректного JSON\n"
   ]
  },
  {
   "cell_type": "markdown",
   "id": "443c5de2-d244-44ea-96eb-0d6235ddc59b",
   "metadata": {},
   "source": [
    "##### Используйте try-except** при загрузке JSON, чтобы избежать ошибки.\n"
   ]
  },
  {
   "cell_type": "code",
   "execution_count": 39,
   "id": "fbf30627-a70b-4a5d-b9a2-ab62f6f186a8",
   "metadata": {},
   "outputs": [
    {
     "name": "stdout",
     "output_type": "stream",
     "text": [
      "Ошибка декодирования JSON: Expecting property name enclosed in double quotes: line 1 column 50 (char 49)\n"
     ]
    }
   ],
   "source": [
    "invalid_json = '{\"name\": \"Alice\", \"age\": 25, \"is_student\": false,'  # Ошибка: нет закрывающей скобки\n",
    "try:\n",
    "    data = json.loads(invalid_json)  # Попытка загрузки некорректного JSON\n",
    "except json.JSONDecodeError as e:\n",
    "    print(f\"Ошибка декодирования JSON: {e}\")\n"
   ]
  },
  {
   "cell_type": "markdown",
   "id": "64630a14-dc53-4d86-92cd-dbc0d22fefe1",
   "metadata": {},
   "source": [
    "#### Причины JSONDecodeError\n",
    "* Пропущенные кавычки или запятые\n",
    "`{\"name\": \"Alice\", \"age\": 25, \"is_student\": false,}`  # Лишняя запятая\n",
    "* Использование одинарных кавычек вместо двойных\n",
    "`{'name': 'Alice'}`  # Неверный формат\n",
    "* Неполные или повреждённые данные\n",
    "`{\"name\": \"Alice\", \"age\": 25`  # Нет закрывающей скобки\n"
   ]
  },
  {
   "cell_type": "code",
   "execution_count": null,
   "id": "ab33fb73-639b-41ad-bc1d-fee6b49839b4",
   "metadata": {},
   "outputs": [],
   "source": [
    "#Что произойдёт при выполнении следующего кода?\n",
    "import json\n",
    "data = {\n",
    "    \"city\": \"Paris\",\n",
    "    \"temperature\": 22,\n",
    "    \"is_rainy\": False\n",
    "}\n",
    "\n",
    "json_string = json.dumps(data)\n",
    "loaded_data = json.loads(json_string)\n",
    "\n",
    "print(type(json_string))\n",
    "print(type(loaded_data))\n"
   ]
  },
  {
   "cell_type": "code",
   "execution_count": null,
   "id": "333bed00-f8ff-4a48-a324-6f375f4698c3",
   "metadata": {},
   "outputs": [],
   "source": [
    "#Найди ошибку и исправь код:\n",
    "import json\n",
    "\n",
    "data = {\"name\": \"Alice\", \"age\": 25}\n",
    "with open(\"user.json\", \"w\", encoding=\"utf-8\") as f:\n",
    "    json.dumps(data, f)\n"
   ]
  },
  {
   "cell_type": "code",
   "execution_count": null,
   "id": "54c0193f-edfb-4809-bb82-05cf597d6261",
   "metadata": {},
   "outputs": [],
   "source": [
    "#Что произойдёт при десериализации этой строки?\n",
    "import json\n",
    "json.loads(\"{'x': 1, 'y': 2}\")\n"
   ]
  },
  {
   "cell_type": "code",
   "execution_count": null,
   "id": "e8e2251d-6719-493d-923b-fc45b5c3355a",
   "metadata": {},
   "outputs": [],
   "source": [
    "#Почему этот код вызывает ошибку?\n",
    "import json\n",
    "\n",
    "data = {\"values\": {1, 2, 3}}\n",
    "json.dumps(data)\n"
   ]
  },
  {
   "cell_type": "markdown",
   "id": "84cd54cc-df2f-4add-8e25-e0222c09b904",
   "metadata": {},
   "source": [
    "# Модуль datetime\n",
    "Модуль datetime предоставляет инструменты для работы с датами, временем и их форматированием.\n",
    "Он позволяет получать текущее время, вычислять разницу между датами, конвертировать форматы и работать с часовыми поясами.\n"
   ]
  },
  {
   "cell_type": "markdown",
   "id": "3c3b74ac-56a5-4d68-b4e6-cf0ad53d15e9",
   "metadata": {},
   "source": [
    "## Получение текущей даты и времени\n",
    "Для получения текущей даты и времени используется метод `datetime.now()` из модуля `datetime`.\n"
   ]
  },
  {
   "cell_type": "code",
   "execution_count": 40,
   "id": "8d1e4653-df9a-4620-85b9-e056029cf7ec",
   "metadata": {},
   "outputs": [
    {
     "name": "stdout",
     "output_type": "stream",
     "text": [
      "<class 'datetime.datetime'>\n",
      "2025-08-07 11:05:47.216971\n"
     ]
    }
   ],
   "source": [
    "from datetime import datetime\n",
    "\n",
    "now = datetime.now()  # Получаем текущую дату и время\n",
    "print(type(now))  # Объект datetime\n",
    "print(now)\n"
   ]
  },
  {
   "cell_type": "markdown",
   "id": "0c5b9f6c-694d-49ea-bd3d-ffdeba82877e",
   "metadata": {},
   "source": [
    "#### Особенности:\n",
    "* Возвращает объект datetime с текущей датой и временем.\n",
    "* Позволяет извлекать отдельные компоненты даты, такие как год, месяц, день, часы, минуты и секунды.\n"
   ]
  },
  {
   "cell_type": "markdown",
   "id": "e2652576-48fb-47cd-9865-a4a8240c7861",
   "metadata": {},
   "source": [
    "#### Зачем это нужно?\n",
    "* Фиксация времени событий (например, в логах или базах данных).\n",
    "* Отметка времени при выполнении операций (например, запись времени создания файла).\n",
    "* Создание временных меток (например, для идентификаторов или кеширования данных).\n"
   ]
  },
  {
   "cell_type": "markdown",
   "id": "f2d9e90a-f91b-4275-b686-1974d137c791",
   "metadata": {},
   "source": [
    "### Извлечение отдельных компонентов даты\n",
    "После получения текущего времени можно получить конкретные значения:\n"
   ]
  },
  {
   "cell_type": "code",
   "execution_count": null,
   "id": "6067e17b-926e-43d8-914f-c48bc01f6535",
   "metadata": {},
   "outputs": [],
   "source": []
  },
  {
   "cell_type": "code",
   "execution_count": 41,
   "id": "33e22adf-2ffd-4828-8218-8be2780140d8",
   "metadata": {},
   "outputs": [
    {
     "name": "stdout",
     "output_type": "stream",
     "text": [
      "Год: 2025\n",
      "Месяц: 8\n",
      "День: 7\n",
      "Часы: 11\n",
      "Минуты: 8\n",
      "Секунды: 4\n"
     ]
    }
   ],
   "source": [
    "now = datetime.now()\n",
    "\n",
    "print(\"Год:\", now.year)\n",
    "print(\"Месяц:\", now.month)\n",
    "print(\"День:\", now.day)\n",
    "print(\"Часы:\", now.hour)\n",
    "print(\"Минуты:\", now.minute)\n",
    "print(\"Секунды:\", now.second)"
   ]
  },
  {
   "cell_type": "code",
   "execution_count": 44,
   "id": "6eecfc92-929d-4918-9863-64ff0a56085e",
   "metadata": {},
   "outputs": [
    {
     "data": {
      "text/plain": [
       "2025"
      ]
     },
     "execution_count": 44,
     "metadata": {},
     "output_type": "execute_result"
    }
   ],
   "source": [
    "Y = datetime.now().year\n",
    "Y"
   ]
  },
  {
   "cell_type": "code",
   "execution_count": 42,
   "id": "8f4c23ce-67c7-4b55-b714-57b4e90a7382",
   "metadata": {},
   "outputs": [
    {
     "data": {
      "text/plain": [
       "datetime.datetime(2025, 8, 7, 11, 8, 4, 582285)"
      ]
     },
     "execution_count": 42,
     "metadata": {},
     "output_type": "execute_result"
    }
   ],
   "source": [
    "now"
   ]
  },
  {
   "cell_type": "markdown",
   "id": "643f4027-6671-4079-931d-2d5dd8ba61ab",
   "metadata": {},
   "source": [
    "### Форматирование строковой даты\n",
    "Метод `strftime()` используется для преобразования даты в строку в нужном формате.\n",
    "Это позволяет представить дату в удобном виде, например, `\"28.02.2025 14:30\"` вместо стандартного `2025-02-28 14:30:00.000000`.\n"
   ]
  },
  {
   "cell_type": "code",
   "execution_count": 45,
   "id": "420e88da-8fe6-4358-8cea-b6d6dd347ea1",
   "metadata": {},
   "outputs": [
    {
     "name": "stdout",
     "output_type": "stream",
     "text": [
      "2025-08-07 11:08:04.582285\n",
      "<class 'str'>\n",
      "07.08.2025 11:08:04\n"
     ]
    }
   ],
   "source": [
    "# Преобразование в строку\n",
    "print(str(now))\n",
    "# Преобразование в строку указанного формата\n",
    "formatted_date = now.strftime(\"%d.%m.%Y %H:%M:%S\")\n",
    "print(type(formatted_date))\n",
    "print(formatted_date)\n"
   ]
  },
  {
   "cell_type": "markdown",
   "id": "058b4d12-f10c-4348-b6d9-825630369f14",
   "metadata": {},
   "source": [
    "### Популярные коды форматов strftime\n"
   ]
  },
  {
   "cell_type": "markdown",
   "id": "b78bfff6-682e-4faf-9f75-c1e939987058",
   "metadata": {},
   "source": [
    "* %d\n",
    "День (01-31)\n",
    "28\n",
    "  \n",
    "* %m\n",
    "Месяц (01-12)\n",
    "02  \n",
    "\n",
    "* %Y\n",
    "Год (4 цифры)\n",
    "2025\n",
    "  \n",
    "* %y\n",
    "Год (2 цифры)\n",
    "25\n",
    "\n",
    "* %H\n",
    "Часы (00-23)\n",
    "14\n",
    "\n",
    "* %M\n",
    "Минуты (00-59)\n",
    "30\n",
    "  \n",
    "* %S\n",
    "Секунды (00-59)\n",
    "15\n",
    "\n",
    "* %A\n",
    "Полное название дня\n",
    "Friday\n",
    "\n",
    "* %B\n",
    "Полное название месяца\n",
    "February"
   ]
  },
  {
   "cell_type": "code",
   "execution_count": 46,
   "id": "69468b09-ee76-44ac-b8d9-a5525a487b1a",
   "metadata": {},
   "outputs": [
    {
     "name": "stdout",
     "output_type": "stream",
     "text": [
      "2025-08-07\n",
      "07/08/2025\n",
      "11 часов 08 минут\n",
      "Thursday, August 07, 2025\n"
     ]
    }
   ],
   "source": [
    "\n",
    "print(now.strftime(\"%Y-%m-%d\"))       \t\t# 2025-02-28 (ISO формат)\n",
    "print(now.strftime(\"%d/%m/%Y\"))       \t\t# 28/02/2025 (европейский формат)\n",
    "print(now.strftime(\"%H часов %M минут\"))       \t# 20 часов 30 минут (свободный формат) \n",
    "print(now.strftime(\"%A, %B %d, %Y\"))  \t\t# Friday, February 28, 2025\n",
    "\n"
   ]
  },
  {
   "cell_type": "markdown",
   "id": "254209dd-6822-4d90-8dfc-e6a189f24a0c",
   "metadata": {},
   "source": [
    "### Преобразования строки в объект даты\n",
    "Метод strptime() используется для преобразования строки в объект datetime.\n",
    "Это необходимо, когда дата хранится в виде текста (например, в файле) и её нужно использовать для вычислений или фильтрации.\n",
    "При разборе строки необходимо использовать те же форматные коды (%d, %m, %Y и т. д.), которые соответствуют порядку и структуре даты в строке.\n"
   ]
  },
  {
   "cell_type": "code",
   "execution_count": 47,
   "id": "255b0daa-d017-4f27-a97b-fb3776939bd7",
   "metadata": {},
   "outputs": [
    {
     "name": "stdout",
     "output_type": "stream",
     "text": [
      "<class 'datetime.datetime'>\n",
      "2025-02-28 14:30:15\n"
     ]
    }
   ],
   "source": [
    "date_string = \"28|02|2025 14-30-15\"  # Дата в виде строки\n",
    "date_obj = datetime.strptime(date_string, \"%d|%m|%Y %H-%M-%S\")  # Указываем форматы и те же разделители\n",
    "\n",
    "print(type(date_obj))\n",
    "print(date_obj)\n"
   ]
  },
  {
   "cell_type": "code",
   "execution_count": 49,
   "id": "969840a5-ad7d-4627-b347-3e5c2c6b33b2",
   "metadata": {},
   "outputs": [
    {
     "data": {
      "text/plain": [
       "28"
      ]
     },
     "execution_count": 49,
     "metadata": {},
     "output_type": "execute_result"
    }
   ],
   "source": [
    "date_obj.day"
   ]
  },
  {
   "cell_type": "markdown",
   "id": "69b1d0a0-62b4-41cd-9724-7b814104d9fb",
   "metadata": {},
   "source": [
    "### Сравнение дат\n",
    "Python позволяет сравнивать даты так же, как числа, используя операторы сравнения (>, <, ==, !=, >=, <=).  \n",
    "Объекты datetime можно сравнивать напрямую, так как они содержат и дату, и время.\n"
   ]
  },
  {
   "cell_type": "code",
   "execution_count": 50,
   "id": "749dba97-2428-44d8-934d-4e69e7a21d3f",
   "metadata": {},
   "outputs": [
    {
     "name": "stdout",
     "output_type": "stream",
     "text": [
      "До дедлайна ещё есть время.\n"
     ]
    }
   ],
   "source": [
    "#Пример: Разбор даты из строки и сравнение с текущей датой**\n",
    "now = datetime.now()\n",
    "deadline = datetime.strptime(\"01.12.2025\", \"%d.%m.%Y\")\n",
    "\n",
    "if now > deadline:\n",
    "    print(\"Срок истёк!\")\n",
    "else:\n",
    "    print(\"До дедлайна ещё есть время.\")\n"
   ]
  },
  {
   "cell_type": "markdown",
   "id": "b4b6b7af-ac93-479f-9d5a-ba585af16092",
   "metadata": {},
   "source": [
    "### Разница между датами\n",
    "Python позволяет вычислять разницу между датами с помощью вычитания объектов datetime, которое возвращает объект timedelta.\n",
    "Объект timedelta представляет разницу во времени в днях, часах, минутах, секундах и т. д.\n",
    "Его можно не только получать при вычитании дат, но и использовать для сдвига дат, например, прибавлять или вычитать определённое количество дней или часов.\n"
   ]
  },
  {
   "cell_type": "code",
   "execution_count": 51,
   "id": "60bb3dd8-c242-4d1c-9e7e-88fdb1c19c76",
   "metadata": {},
   "outputs": [
    {
     "name": "stdout",
     "output_type": "stream",
     "text": [
      "<class 'datetime.timedelta'>\n",
      "5 days, 0:00:00\n",
      "5\n"
     ]
    }
   ],
   "source": [
    "#Пример: Разница между датами\n",
    "date1 = datetime(2025, 2, 28)\n",
    "date2 = datetime(2025, 3, 5)\n",
    "\n",
    "difference = date2 - date1  # Разница между датами\n",
    "print(type(difference))\n",
    "print(difference)\n",
    "print(difference.days)\n"
   ]
  },
  {
   "cell_type": "code",
   "execution_count": 54,
   "id": "88aa5299-ee3b-48ec-aafc-2f868cd023b1",
   "metadata": {},
   "outputs": [
    {
     "name": "stdout",
     "output_type": "stream",
     "text": [
      "367 days, 19:30:00\n",
      "31779000.0\n"
     ]
    }
   ],
   "source": [
    "#Пример: Разница с учётом времени\n",
    "dt1 = datetime(2024, 2, 28, 14, 30)\n",
    "dt2 = datetime(2025, 3, 2, 10, 0)\n",
    "\n",
    "difference = dt2 - dt1\n",
    "print(difference)\n",
    "print(difference.total_seconds())\n"
   ]
  },
  {
   "cell_type": "code",
   "execution_count": 55,
   "id": "311d3ceb-4c87-4613-83b0-6599f72c5a66",
   "metadata": {},
   "outputs": [
    {
     "data": {
      "text/plain": [
       "367"
      ]
     },
     "execution_count": 55,
     "metadata": {},
     "output_type": "execute_result"
    }
   ],
   "source": []
  },
  {
   "cell_type": "code",
   "execution_count": 56,
   "id": "93e49aeb-ca43-48a5-a878-b00447781ba6",
   "metadata": {},
   "outputs": [
    {
     "name": "stdout",
     "output_type": "stream",
     "text": [
      "Дедлайн: 14.03.2025\n",
      "Ещё есть время для выполнения задачи.\n"
     ]
    }
   ],
   "source": [
    "#Пример: Добавление и вычитание времени\n",
    "#Объект timedelta можно использовать для изменения дат, добавляя или вычитая временные интервалы.\n",
    "from datetime import timedelta\n",
    "\n",
    "# Дата начала задачи\n",
    "start_date = datetime(2025, 2, 28)\n",
    "\n",
    "# Дедлайн через 2 недели\n",
    "deadline = start_date + timedelta(weeks=2)\n",
    "print(\"Дедлайн:\", deadline.strftime(\"%d.%m.%Y\"))\n",
    "\n",
    "# Проверка, прошёл ли дедлайн\n",
    "today = datetime(2025, 3, 15)  # Текущая дата\n",
    "\n",
    "if deadline > today:\n",
    "    print(\"Дедлайн пропущен!\")\n",
    "else:\n",
    "    print(\"Ещё есть время для выполнения задачи.\")\n"
   ]
  },
  {
   "cell_type": "markdown",
   "id": "1ede1227-1a70-40b8-bed7-52608b528703",
   "metadata": {},
   "source": [
    "# Практические задания\n",
    "***Поиск низких оценок за период***  \n",
    "Реализовать программу, которая должна: \n",
    "Прочитать данные из файла grades.json.  \n",
    "Реализовать функцию filter_low_scores(), которая:  \n",
    "Принимает минимальный проходной балл (threshold) и диапазон дат (start_date, end_date) в формате дд-мм-гггг.  \n",
    "Возвращает все оценки ниже порога, полученные в заданный период.  \n",
    "Сохраняет отфильтрованные записи в файл filtered_low_scores.json.    \n",
    "**Данные:**  \n",
    "Файл grades.json должен содержать записи в следующем формате:  \n",
    "```\n",
    "[\n",
    " {\"name\": \"Bob\", \"subject\": \"Science\", \"grade\": 86, \"date\": \"06-09-2025\"},\n",
    "  {\"name\": \"Diana\", \"subject\": \"Science\", \"grade\": 85, \"date\": \"31-01-2025\"},\n",
    "  {\"name\": \"Bob\", \"subject\": \"Literature\", \"grade\": 60, \"date\": \"19-07-2025\"},\n",
    "  {\"name\": \"Charlie\", \"subject\": \"Literature\", \"grade\": 78, \"date\": \"05-08-2025\"},\n",
    "  {\"name\": \"Ethan\", \"subject\": \"Literature\", \"grade\": 69, \"date\": \"08-04-2025\"},\n",
    "  {\"name\": \"Charlie\", \"subject\": \"Science\", \"grade\": 63, \"date\": \"24-10-2025\"},\n",
    "  {\"name\": \"Ethan\", \"subject\": \"Math\", \"grade\": 80, \"date\": \"30-01-2025\"},\n",
    "  {\"name\": \"Alice\", \"subject\": \"Physics\", \"grade\": 90, \"date\": \"15-09-2025\"},\n",
    "  {\"name\": \"Ethan\", \"subject\": \"Science\", \"grade\": 63, \"date\": \"18-09-2025\"},\n",
    "  ...\n",
    "]\n",
    "```\n",
    "**Пример вызова:**  \n",
    "`filter_low_scores(70, \"01-01-2025\", \"31-03-2025\")`  \n",
    "Пример вывода `(filtered_low_scores.json)`:\n",
    "```\n",
    "[\n",
    "    {\"name\": \"Ethan\", \"subject\": \"History\", \"grade\": 66, \"date\": \"10-03-2025\"}, \n",
    "    {\"name\": \"Bob\", \"subject\": \"Literature\", \"grade\": 68, \"date\": \"22-01-2025\"}, \n",
    "    {\"name\": \"Ethan\", \"subject\": \"History\", \"grade\": 62, \"date\": \"25-02-2025\"}\n",
    "]\n",
    "```"
   ]
  },
  {
   "cell_type": "code",
   "execution_count": 57,
   "id": "2ccb34ff-ab43-49c5-8b11-e5973fe847e2",
   "metadata": {},
   "outputs": [
    {
     "name": "stdout",
     "output_type": "stream",
     "text": [
      "Найдено записей: 3. Сохранено в 'filtered_low_scores.json'.\n",
      "[{'name': 'Ethan', 'subject': 'History', 'grade': 66, 'date': '10-03-2025'}, {'name': 'Bob', 'subject': 'Literature', 'grade': 68, 'date': '22-01-2025'}, {'name': 'Ethan', 'subject': 'History', 'grade': 62, 'date': '25-02-2025'}]\n"
     ]
    }
   ],
   "source": [
    "import json\n",
    "from datetime import datetime\n",
    "\n",
    "def filter_low_scores(threshold, start_date_str, end_date_str):\n",
    "    start_date = datetime.strptime(start_date_str, \"%d-%m-%Y\")\n",
    "    end_date = datetime.strptime(end_date_str, \"%d-%m-%Y\")\n",
    "\n",
    "    with open(\"grades.json\", \"r\", encoding=\"utf-8\") as file:\n",
    "        records = json.load(file)\n",
    "\n",
    "    filtered = []\n",
    "    for record in records:\n",
    "        record_date = datetime.strptime(record[\"date\"], \"%d-%m-%Y\")\n",
    "        if record[\"grade\"] < threshold and start_date <= record_date <= end_date:\n",
    "            filtered.append(record)\n",
    "\n",
    "    with open(\"filtered_low_scores.json\", \"w\", encoding=\"utf-8\") as file:\n",
    "        json.dump(filtered, file, indent=4, ensure_ascii=False)\n",
    "\n",
    "    print(f\"Найдено записей: {len(filtered)}. Сохранено в 'filtered_low_scores.json'.\")\n",
    "\n",
    "    \n",
    "filter_low_scores(70, \"01-01-2025\", \"31-03-2025\")\n"
   ]
  },
  {
   "cell_type": "code",
   "execution_count": null,
   "id": "895f10ff-476e-4c58-b5ec-e5392a09f63a",
   "metadata": {},
   "outputs": [],
   "source": []
  }
 ],
 "metadata": {
  "kernelspec": {
   "display_name": "Python 3 (ipykernel)",
   "language": "python",
   "name": "python3"
  },
  "language_info": {
   "codemirror_mode": {
    "name": "ipython",
    "version": 3
   },
   "file_extension": ".py",
   "mimetype": "text/x-python",
   "name": "python",
   "nbconvert_exporter": "python",
   "pygments_lexer": "ipython3",
   "version": "3.12.4"
  }
 },
 "nbformat": 4,
 "nbformat_minor": 5
}
