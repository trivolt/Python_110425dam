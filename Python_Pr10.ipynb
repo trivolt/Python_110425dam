{
 "cells": [
  {
   "cell_type": "markdown",
   "id": "edb16e2f-4164-435f-bf7f-1d708832a12f",
   "metadata": {},
   "source": [
    "# Практические задания 10\n",
    "* Лекция 20 - Функции. Области видимости\n",
    "* Лекция 21 - Модуль collections\n"
   ]
  },
  {
   "cell_type": "markdown",
   "id": "d85c6e6d-dcf7-4d18-a000-529582900bde",
   "metadata": {},
   "source": [
    "1. ***Рисуем пингвинов***   \n",
    "Напишите программу, которая по данному числу n от 1 до 9 выводит на экран n пингвинов. Изображение одного пингвина имеет размер 5×9 символов, между двумя соседними пингвинами также имеется пустой (из пробелов) столбец. Разрешается вывести пустой столбец после последнего пингвина. Для упрощения рисования скопируйте пингвина из примера в среду разработки.  \n",
    "*Входные данные:*  \n",
    "Вводится натуральное число.  \n",
    "*Выходные данные:*  \n",
    "Выведите ответ на задачу.  \n",
    "*Примечание:*  \n",
    "Учтите, что вывод данных на экран производится построчно, а не попингвинно.  \n",
    "\n",
    "```\n",
    "   _~_    \n",
    "  (o o)   \n",
    " /  V  \\  \n",
    "/(  _  )\\ \n",
    "  ^^ ^^   \n",
    "```"
   ]
  },
  {
   "cell_type": "code",
   "execution_count": 16,
   "id": "8630a28f-3073-4a69-b417-d546f0777b2a",
   "metadata": {},
   "outputs": [
    {
     "name": "stdout",
     "output_type": "stream",
     "text": [
      "\n",
      "   _~_    \n",
      "  (o o)   \n",
      " /  V  \\  \n",
      "/(  _  )\\\n",
      "  ^^ ^^   \n",
      "\n"
     ]
    }
   ],
   "source": [
    "text ='''\n",
    "   _~_    \n",
    "  (o o)   \n",
    " /  V  \\\\  \n",
    "/(  _  )\\\\\n",
    "  ^^ ^^   \n",
    "'''\n",
    "print(text)"
   ]
  },
  {
   "cell_type": "code",
   "execution_count": 18,
   "id": "75e4300f-ae10-4451-9e48-234cb802f367",
   "metadata": {},
   "outputs": [
    {
     "name": "stdout",
     "output_type": "stream",
     "text": [
      "\n",
      "       _~_    \n",
      "      (o o)   \n",
      "     /  V  \\  \n",
      "    /(  _  )\\ \n",
      "      ^^ ^^   \n",
      "    \n",
      "\n",
      "       _~_    \n",
      "      (o o)   \n",
      "     /  V  \\  \n",
      "    /(  _  )\\ \n",
      "      ^^ ^^   \n",
      "    \n",
      "\n",
      "       _~_    \n",
      "      (o o)   \n",
      "     /  V  \\  \n",
      "    /(  _  )\\ \n",
      "      ^^ ^^   \n",
      "    \n"
     ]
    }
   ],
   "source": [
    "def draw_ping(n):\n",
    "    text ='''\n",
    "       _~_    \n",
    "      (o o)   \n",
    "     /  V  \\\\  \n",
    "    /(  _  )\\\\ \n",
    "      ^^ ^^   \n",
    "    '''\n",
    "    for i in range(n):\n",
    "        print(text)\n",
    "\n",
    "\n",
    "draw_ping(3)\n",
    "\n"
   ]
  },
  {
   "cell_type": "code",
   "execution_count": 10,
   "id": "e415b019-70e9-4a46-82df-3156293fab52",
   "metadata": {},
   "outputs": [],
   "source": [
    "def draw_ping(n):\n",
    "    print('   _~_    '*n)\n",
    "    print('  (o o)   '*n)\n",
    "    print(' /  V  \\\\  '*n)\n",
    "    print('/(  _  )\\\\ '*n)\n",
    "    print('  ^^ ^^   '*n)"
   ]
  },
  {
   "cell_type": "code",
   "execution_count": 14,
   "id": "5b26adb0-60dc-405d-b22e-d0aeace0ab50",
   "metadata": {},
   "outputs": [
    {
     "name": "stdout",
     "output_type": "stream",
     "text": [
      "   _~_       _~_       _~_       _~_       _~_       _~_       _~_       _~_       _~_       _~_    \n",
      "  (o o)     (o o)     (o o)     (o o)     (o o)     (o o)     (o o)     (o o)     (o o)     (o o)   \n",
      " /  V  \\   /  V  \\   /  V  \\   /  V  \\   /  V  \\   /  V  \\   /  V  \\   /  V  \\   /  V  \\   /  V  \\  \n",
      "/(  _  )\\ /(  _  )\\ /(  _  )\\ /(  _  )\\ /(  _  )\\ /(  _  )\\ /(  _  )\\ /(  _  )\\ /(  _  )\\ /(  _  )\\ \n",
      "  ^^ ^^     ^^ ^^     ^^ ^^     ^^ ^^     ^^ ^^     ^^ ^^     ^^ ^^     ^^ ^^     ^^ ^^     ^^ ^^   \n"
     ]
    }
   ],
   "source": [
    "draw_ping(10)"
   ]
  },
  {
   "cell_type": "code",
   "execution_count": null,
   "id": "7d1ecd22-556c-4f45-b31e-483dcd6d050b",
   "metadata": {},
   "outputs": [],
   "source": []
  },
  {
   "cell_type": "markdown",
   "id": "14d20b75-6838-46af-89ab-417a6dd38822",
   "metadata": {},
   "source": [
    "2. ***Частотный анализ букв***  \n",
    "Напишите программу, которая подсчитывает количество вхождений каждой буквы в тексте.  \n",
    "Программа должна игнорировать регистр слов, пробелы и символы \".\" и \",\".  \n",
    "* Можно решить более сложную задачу и игнорировать все небуквенные символы.  \n",
    "*Данные:*  \n",
    "`text = \"This is a test. This test is only a test.\"`  \n",
    "*Пример вывода:*  \n",
    "`{'t': 8, 's': 7, 'i': 4, 'e': 3, 'h': 2, 'a': 2, 'o': 1, 'n': 1, 'l': 1, 'y': 1}`\n"
   ]
  },
  {
   "cell_type": "code",
   "execution_count": 21,
   "id": "ea903119-5c0b-488c-88b6-1ca7c605f166",
   "metadata": {},
   "outputs": [],
   "source": [
    "from collections import Counter\n",
    "\n",
    "def counter_alph(text):\n",
    "    clear_text = text.lower().replace('.','').replace(',','').replace(' ','')\n",
    "    return dict(Counter(clear_text))"
   ]
  },
  {
   "cell_type": "code",
   "execution_count": 22,
   "id": "f999a481-1bcf-4b9b-a75b-fd993b02fa5a",
   "metadata": {},
   "outputs": [
    {
     "name": "stdout",
     "output_type": "stream",
     "text": [
      "{'t': 8, 'h': 2, 'i': 4, 's': 7, 'a': 2, 'e': 3, 'o': 1, 'n': 1, 'l': 1, 'y': 1}\n"
     ]
    }
   ],
   "source": [
    "text = \"This is a test. This test is only a test.\"\n",
    "print(counter_alph(text))"
   ]
  },
  {
   "cell_type": "code",
   "execution_count": 24,
   "id": "55651425-9b34-4ad7-bab3-6b9d588ad3f7",
   "metadata": {},
   "outputs": [
    {
     "name": "stdin",
     "output_type": "stream",
     "text": [
      " indfijndf 456 bghtrkm!\n"
     ]
    },
    {
     "name": "stdout",
     "output_type": "stream",
     "text": [
      "indfijndfbghtrkm\n"
     ]
    }
   ],
   "source": [
    "def clear_text(text):\n",
    "    clear_text= ''\n",
    "    for char in text:\n",
    "        if char.isalpha():\n",
    "            clear_text+=char\n",
    "    return clear_text  \n",
    "\n",
    "\n",
    "print(clear_text(input()))"
   ]
  },
  {
   "cell_type": "code",
   "execution_count": null,
   "id": "45feaca4-031f-4037-a719-54491d30d681",
   "metadata": {},
   "outputs": [],
   "source": []
  },
  {
   "cell_type": "markdown",
   "id": "16e451b0-3374-47b2-bae7-d0111c119dc7",
   "metadata": {},
   "source": [
    "3. ***Популярные слова***  \n",
    "Реализуйте функцию, которая принимает любое количество строк с текстом.  \n",
    "Функция должна возвращать подсчет самых популярных слов в количестве, переданном в функцию. Программа должна игнорировать регистр слов. Выведите 5 самых популярных слов и их количество.  \n",
    "*Данные:*  \n",
    "`text1 = \"This is a sample text with some repeated words.\"`  \n",
    "`text2 = \"Another sample text with different words.\"`  \n",
    "`text3 = \"Text processing is fun when words repeat.\"`  \n",
    "*Пример вывода:*  \n",
    "5 самых популярных слов:  \n",
    "```\n",
    "\twords: 3\n",
    "\ttext: 3\n",
    "\twith: 2\n",
    "\tsample: 2\n",
    "\tis: 2\n",
    "```"
   ]
  },
  {
   "cell_type": "code",
   "execution_count": 27,
   "id": "e6c67253-2157-4ac3-b6b7-e960334f1108",
   "metadata": {},
   "outputs": [],
   "source": [
    "from collections import Counter\n",
    "\n",
    "def counter_word(n, *args):\n",
    "    text_all = ' '.join(args)\n",
    "    lst = text_all.lower().replace(',','').replace('.','').split()\n",
    "    return Counter(lst)\n",
    "\n",
    "\n",
    "    "
   ]
  },
  {
   "cell_type": "code",
   "execution_count": 31,
   "id": "7e4fd30f-2d34-47ce-a8f2-16f3504368a2",
   "metadata": {},
   "outputs": [
    {
     "name": "stdin",
     "output_type": "stream",
     "text": [
      " 5\n"
     ]
    },
    {
     "name": "stdout",
     "output_type": "stream",
     "text": [
      "5 самых популярных слов:\n",
      "text: 3\n",
      "words: 3\n",
      "is: 2\n",
      "sample: 2\n",
      "with: 2\n"
     ]
    }
   ],
   "source": [
    "text1 = \"This is a sample text with some repeated words.\"\n",
    "text2 = \"Another sample text with different words.\"\n",
    "text3 = \"Text processing is fun when words repeat.\"\n",
    "\n",
    "n = int(input())\n",
    "res = counter_word(n, text1, text2, text3)\n",
    "print(f'{n} самых популярных слов:')\n",
    "#print(res.most_common(n))\n",
    "for word, count in res.most_common(n):\n",
    "    print(f'{word}: {count}')"
   ]
  },
  {
   "cell_type": "markdown",
   "id": "e31fe417-4d69-4aeb-ac98-ab0e34d84585",
   "metadata": {},
   "source": [
    "4. ***Группировка задач по категории***  \n",
    "Реализуйте функцию, которая принимает словарь задач с категориями и группирует задачи по их категориям.  \n",
    "*Данные:*  \n",
    "```\n",
    "tasks = {\n",
    "    \"task1\": \"работа\",\n",
    "    \"task2\": \"учёба\",\n",
    "    \"task3\": \"развлечения\",\n",
    "    \"task4\": \"работа\",\n",
    "    \"task5\": \"учёба\"\n",
    "}\n",
    "```\n",
    "*Пример вывода:*   \n",
    "Группировка по категориям:  \n",
    "```\n",
    "{\n",
    "    'работа': ['task1', 'task4'],\n",
    "    'учёба': ['task2', 'task5'],\n",
    "    'развлечения': ['task3']\n",
    "}\n",
    "```"
   ]
  },
  {
   "cell_type": "code",
   "execution_count": 39,
   "id": "63190446-8d9b-4c52-8c2b-681fb5236353",
   "metadata": {},
   "outputs": [
    {
     "name": "stdout",
     "output_type": "stream",
     "text": [
      "{'работа': ['task1', 'task4'], 'учёба': ['task2', 'task5'], 'развлечения': ['task3']}\n"
     ]
    }
   ],
   "source": [
    "from collections import defaultdict\n",
    "\n",
    "def group_work(tasks):\n",
    "    dct_group = defaultdict(list)\n",
    "    for task, type in tasks.items():\n",
    "        dct_group[type].append(task)\n",
    "    return dct_group\n",
    "\n",
    "tasks = {\n",
    "    \"task1\": \"работа\",\n",
    "    \"task2\": \"учёба\",\n",
    "    \"task3\": \"развлечения\",\n",
    "    \"task4\": \"работа\",\n",
    "    \"task5\": \"учёба\"\n",
    "}\n",
    "\n",
    "print(dict(group_work(tasks)))"
   ]
  },
  {
   "cell_type": "code",
   "execution_count": null,
   "id": "9fef48c2-8334-42c9-bd98-c2b32464c69a",
   "metadata": {},
   "outputs": [],
   "source": [
    "group_work()"
   ]
  },
  {
   "cell_type": "markdown",
   "id": "242b83f4-c928-413e-b6a4-bd83a4303d02",
   "metadata": {},
   "source": [
    "5. ***Поиск задач***  \n",
    "Реализуйте функцию, которая принимает словарь задач с категориями и нужную категорию. Функция должна возвращать список задач для указанной категории.\n",
    "*Данные:*  \n",
    "```\n",
    "tasks = {\n",
    "    \"task1\": \"работа\",\n",
    "    \"task2\": \"учёба\",\n",
    "    \"task3\": \"развлечения\",\n",
    "    \"task4\": \"работа\",\n",
    "    \"task5\": \"учёба\"\n",
    "}\n",
    "category = \"учёба\"\n",
    "```\n",
    "*Пример вывода:*  \n",
    "Задачи для категории 'учёба':\n",
    "['task2', 'task5']\n"
   ]
  },
  {
   "cell_type": "code",
   "execution_count": 42,
   "id": "d7e2501c-7cbc-4f5b-8df7-0a2151cfa673",
   "metadata": {},
   "outputs": [
    {
     "name": "stdin",
     "output_type": "stream",
     "text": [
      "Введите категорию:  учёба\n"
     ]
    },
    {
     "name": "stdout",
     "output_type": "stream",
     "text": [
      "Задачи для категории учёба: ['task2', 'task5']\n"
     ]
    }
   ],
   "source": [
    "tasks = {\n",
    "    \"task1\": \"работа\",\n",
    "    \"task2\": \"учёба\",\n",
    "    \"task3\": \"развлечения\",\n",
    "    \"task4\": \"работа\",\n",
    "    \"task5\": \"учёба\"\n",
    "}\n",
    "category = input('Введите категорию: ')\n",
    "dct_group = group_work(tasks)\n",
    "print(f'Задачи для категории {category}: {dct_group[category]}')\n"
   ]
  },
  {
   "cell_type": "markdown",
   "id": "34bdaa0e-21b6-49de-8e72-4a53aa81244c",
   "metadata": {},
   "source": [
    "6. ***Группировка слов по длине***  \n",
    "Реализуйте функцию, которая группирует слова по их длине и возвращает словарь с ними.   \n",
    "*Данные:*  \n",
    "`words = [\"apple\", \"banana\", \"kiwi\", \"grape\", \"orange\", \"peach\"]`  \n",
    "\n",
    "*Пример вывода:*\n",
    "Слова по длине:\n",
    "```\n",
    "5: ['apple', 'grape', 'peach']\n",
    "6: ['banana', 'orange']\n",
    "4: ['kiwi']\n",
    "```"
   ]
  },
  {
   "cell_type": "code",
   "execution_count": 45,
   "id": "e25f8877-155b-411a-b865-d7de847c306b",
   "metadata": {},
   "outputs": [
    {
     "name": "stdout",
     "output_type": "stream",
     "text": [
      "5: ['apple', 'grape', 'peach']\n",
      "6: ['banana', 'orange']\n",
      "4: ['kiwi']\n"
     ]
    }
   ],
   "source": [
    "from collections import defaultdict\n",
    "\n",
    "def group_len_fruit(words):\n",
    "    res = defaultdict(list)\n",
    "    for word in words:\n",
    "        res[len(word)].append(word)\n",
    "    return dict(res)\n",
    "\n",
    "    \n",
    "words = [\"apple\", \"banana\", \"kiwi\", \"grape\", \"orange\", \"peach\"]\n",
    "for l, lst_fruit in group_len_fruit(words).items():\n",
    "    print(f'{l}: {lst_fruit}')\n",
    "    \n",
    "\n"
   ]
  },
  {
   "cell_type": "markdown",
   "id": "e85ecf2a-aba4-4a61-a900-082888ee25e5",
   "metadata": {},
   "source": [
    "7. ***Создание глобального счётчика***  \n",
    "Создайте функцию increment_counter, которая сообщает, что была вызвана, и использует глобальную переменную counter для подсчёта числа своих вызовов.\n",
    "`Пример вызова:`\n",
    "```\n",
    "increment_counter()\n",
    "increment_counter()\n",
    "print(counter)\n",
    "```\n",
    "*Пример вывода:*  \n",
    "Вызовов функции: 2\n"
   ]
  },
  {
   "cell_type": "code",
   "execution_count": 1,
   "id": "b819ae29-710a-46ef-b94d-7b70e2a23ce7",
   "metadata": {},
   "outputs": [
    {
     "name": "stdout",
     "output_type": "stream",
     "text": [
      "Функция была вызвана\n",
      "Функция была вызвана\n",
      "Вызовов функции: 2\n"
     ]
    }
   ],
   "source": [
    "counter = 0\n",
    "\n",
    "def increment_counter():\n",
    "    global counter\n",
    "    counter += 1\n",
    "    print(\"Функция была вызвана\")\n",
    "\n",
    "increment_counter()\n",
    "increment_counter()\n",
    "print(\"Вызовов функции:\", counter)\n"
   ]
  },
  {
   "cell_type": "code",
   "execution_count": 2,
   "id": "caf5e5ee-bcbf-44fd-b80a-b06646d16e29",
   "metadata": {},
   "outputs": [
    {
     "name": "stdout",
     "output_type": "stream",
     "text": [
      "Функция была вызвана\n",
      "Вызовов функции: 3\n"
     ]
    }
   ],
   "source": [
    "increment_counter()\n",
    "print(\"Вызовов функции:\", counter)"
   ]
  },
  {
   "cell_type": "code",
   "execution_count": null,
   "id": "510abdc8-80cc-4445-bd87-67f63c83b1ad",
   "metadata": {},
   "outputs": [],
   "source": []
  },
  {
   "cell_type": "code",
   "execution_count": 5,
   "id": "e9843632-5a55-445c-8bfd-4024742ac1a3",
   "metadata": {},
   "outputs": [
    {
     "name": "stdout",
     "output_type": "stream",
     "text": [
      "B\n",
      "A\n"
     ]
    }
   ],
   "source": [
    "def say_name():\n",
    "    name = 'B'\n",
    "    print(name)\n",
    "\n",
    "say_name()\n",
    "name = 'A'\n",
    "\n"
   ]
  },
  {
   "cell_type": "code",
   "execution_count": 6,
   "id": "d6798402-cc0c-4c38-ab21-7e8993f88288",
   "metadata": {},
   "outputs": [
    {
     "name": "stdout",
     "output_type": "stream",
     "text": [
      "A\n"
     ]
    }
   ],
   "source": [
    "def say_name():\n",
    "    print(name)\n",
    "\n",
    "name = 'A'\n",
    "say_name()"
   ]
  },
  {
   "cell_type": "markdown",
   "id": "42095426-fed2-488c-a1ea-f8b964e1dab7",
   "metadata": {},
   "source": [
    "8. ***Замер времени работы программы.***  \n",
    "Напишите программу, которая выводит все делители заданного пользователя числа и сообщает, за какое время была решена эта задача. Используйте модуль time.\n",
    "Пример ввода и вывода:  \n",
    "Введите число: 54832  \n",
    "Делители числа: `[1, 2, 4, 8, 16, 23, 46, 92, 149, 184, 298, 368, 596, 1192, 2384, 3427, 6854, 13708, 27416, 54832]`  \n",
    "Время выполнения: `0.005539` секунд\n"
   ]
  },
  {
   "cell_type": "code",
   "execution_count": 7,
   "id": "11b4ec92-4e3d-4a16-a8c7-91c345e48d76",
   "metadata": {},
   "outputs": [],
   "source": [
    "def count_div(n):\n",
    "    return [i for i in range(1,n+1) if n%i==0]"
   ]
  },
  {
   "cell_type": "code",
   "execution_count": 12,
   "id": "148e2c3c-d79b-4f00-81f2-b491c7b0c99e",
   "metadata": {},
   "outputs": [
    {
     "name": "stdin",
     "output_type": "stream",
     "text": [
      " 54832\n"
     ]
    },
    {
     "name": "stdout",
     "output_type": "stream",
     "text": [
      "[1, 2, 4, 8, 16, 23, 46, 92, 149, 184, 298, 368, 596, 1192, 2384, 3427, 6854, 13708, 27416, 54832]\n",
      "Время выполнения: 0.005016803741455078 секунд\n"
     ]
    }
   ],
   "source": [
    "import time\n",
    "\n",
    "n = int(input())\n",
    "start = time.time()\n",
    "print(count_div(n))\n",
    "end = time.time()\n",
    "print(f'Время выполнения: {end - start} секунд')"
   ]
  },
  {
   "cell_type": "code",
   "execution_count": null,
   "id": "718e87dc-2fb6-44c0-a55f-2f9a0cdfe3df",
   "metadata": {},
   "outputs": [],
   "source": []
  }
 ],
 "metadata": {
  "kernelspec": {
   "display_name": "Python 3 (ipykernel)",
   "language": "python",
   "name": "python3"
  },
  "language_info": {
   "codemirror_mode": {
    "name": "ipython",
    "version": 3
   },
   "file_extension": ".py",
   "mimetype": "text/x-python",
   "name": "python",
   "nbconvert_exporter": "python",
   "pygments_lexer": "ipython3",
   "version": "3.12.4"
  }
 },
 "nbformat": 4,
 "nbformat_minor": 5
}
