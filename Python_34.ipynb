{
 "cells": [
  {
   "cell_type": "markdown",
   "id": "8ebef3e1-8309-45a7-9115-4a2096777368",
   "metadata": {},
   "source": [
    "# Декораторы. Классовые и статические методы\n"
   ]
  },
  {
   "cell_type": "markdown",
   "id": "e2fa85d7-d191-4827-980b-f291d34b031b",
   "metadata": {},
   "source": [
    "## Декораторы\n",
    "**Декораторы** — это способ изменить поведение функции, не изменяя её код. Декоратор принимает функцию, добавляет к ней новую логику и возвращает изменённую версию.   \n",
    "\n",
    "В Python функции являются объектами, поэтому их можно передавать и возвращать из других функций. Декораторы используют это свойство.  \n",
    "\n",
    "### Как работает декоратор?  \n",
    "1. Создаётся функция-декоратор, принимающая другую функцию.\n",
    "2. Внутри декоратора объявляется вложенная функция, которая выполняет дополнительный код перед и/или после вызова исходной функции.\n",
    "3. Декоратор возвращает эту вложенную функцию.\n"
   ]
  },
  {
   "cell_type": "code",
   "execution_count": null,
   "id": "b36fd89d-7979-4961-9b8c-04dc82b66d44",
   "metadata": {},
   "outputs": [],
   "source": [
    "def simple_decorator(func):    # Функция-декоратор, принимает другую функцию\n",
    "    def wrapper():  # Вложенная функция-обертка, добавляющая дополнительное поведение\n",
    "        print(\"Перед вызовом функции\")\n",
    "        func()  # Вызываем переданную функцию\n",
    "        print(\"После вызова функции\")\n",
    "    return wrapper  # Возвращаем изменённую функцию\n",
    "\n",
    "def say_hello():\n",
    "    print(\"Привет!\")\n",
    "\n",
    "decorated = simple_decorator(say_hello)  # Вызываем декоратор, теперь decorated = wrapper\n",
    "print(decorated)\n",
    "decorated()  # Теперь вызов say_hello() происходит через wrapper\n"
   ]
  },
  {
   "cell_type": "markdown",
   "id": "83512c2b-14b5-4fad-a226-fec29baef371",
   "metadata": {},
   "source": [
    "После применения декоратора результат (wrapper) можно сохранить в переменной с тем же именем, что и декорируемая функция.\n",
    "Тогда вместо вызова оригинальной функции будет вызываться функция wrapper, добавляющая дополнительный функционал.\n"
   ]
  },
  {
   "cell_type": "code",
   "execution_count": null,
   "id": "548d9b38-5877-43b5-ae71-e0df457f0709",
   "metadata": {},
   "outputs": [],
   "source": [
    "def simple_decorator(func):    # Функция-декоратор, принимает другую функцию\n",
    "    def wrapper():  # Вложенная функция-обертка, добавляющая дополнительное поведение\n",
    "        print(\"Перед вызовом функции\")\n",
    "        func()  # Вызываем переданную функцию\n",
    "        print(\"После вызова функции\")\n",
    "    return wrapper  # Возвращаем изменённую функцию\n",
    "\n",
    "def say_hello():\n",
    "    print(\"Привет!\")\n",
    "\n",
    "say_hello = simple_decorator(say_hello)  # Вызываем декоратор, теперь decorated = wrapper\n",
    "print(say_hello)\n",
    "say_hello()  # Теперь вызов say_hello() происходит через wrapper\n"
   ]
  },
  {
   "cell_type": "markdown",
   "id": "6dffd940-5737-42f4-bace-43303f929cd3",
   "metadata": {},
   "source": [
    "## Синтаксис @decorator\n",
    "Вместо явного вызова `decorated = simple_decorator(say_hello)` можно использовать @ с именем декоратора перед определением функции: \n"
   ]
  },
  {
   "cell_type": "code",
   "execution_count": null,
   "id": "cb6ad79d-afe8-4dea-bb90-ea276b4f9d9e",
   "metadata": {},
   "outputs": [],
   "source": [
    "def simple_decorator(func):    # Функция-декоратор, принимает другую функцию\n",
    "    def wrapper():  # Вложенная функция, добавляющая дополнительное поведение\n",
    "        print(\"Перед вызовом функции\")\n",
    "        func()  # Вызываем переданную функцию\n",
    "        print(\"После вызова функции\")\n",
    "    return wrapper  # Возвращаем изменённую функцию\n",
    "\n",
    "@simple_decorator  # Эквивалентно say_hello = simple_decorator(say_hello)\n",
    "def say_hello():\n",
    "    print(\"Привет!\")\n",
    "\n",
    "say_hello()\n"
   ]
  },
  {
   "cell_type": "markdown",
   "id": "7d26b80d-7100-4555-aee7-a0b36c53fae4",
   "metadata": {},
   "source": [
    "##### Пример использования декоратора\n",
    "Декораторы полезны, когда нужно добавлять дополнительное поведение к функциям. Один из распространённых примеров — декоратор для измерения времени выполнения. \n"
   ]
  },
  {
   "cell_type": "code",
   "execution_count": null,
   "id": "151d7fcc-1d9b-4960-859d-782383e5a748",
   "metadata": {},
   "outputs": [],
   "source": [
    "import time\n",
    "\n",
    "def timing_decorator(func):\n",
    "    def wrapper():\n",
    "        start_time = time.time()  # Засекаем время перед выполнением функции\n",
    "        func()  # Вызываем декорируемую функцию\n",
    "        end_time = time.time()  # Засекаем время после выполнения\n",
    "        print(f\"Функция {func.__name__} выполнялась {end_time - start_time:.5f} секунд\")\n",
    "    return wrapper\n",
    "\n",
    "@timing_decorator  # Применение декоратора\n",
    "def slow_function():\n",
    "    time.sleep(2)  # Имитация долгой операции\n",
    "    print(\"Функция выполнена\")\n",
    "\n",
    "slow_function()\n"
   ]
  },
  {
   "cell_type": "markdown",
   "id": "44041526-e952-4023-a595-7d61a499677f",
   "metadata": {},
   "source": [
    "### Где применяются декораторы\n",
    "Основные области применения декораторов:\n",
    "1. **Логирование вызовов функций**\n",
    "\n",
    "* Запись информации о вызове функции, её аргументах и результатах.\n",
    "* Используется в отладке и мониторинге работы программы.\n",
    " \n",
    "2. **Измерение времени выполнения**\n",
    "* Декоратор может засекать время работы функции и выводить его.**  \n",
    "* Полезно при оптимизации кода.\n",
    "  \n",
    "3. **Ограничение частоты вызовов (Throttling)**  \n",
    "* Контроль количества вызовов функции в единицу времени.  \n",
    "* Применяется, например, в защите от спама или сетевых запросах.\n",
    "   \n",
    "4. **Проверка и валидация входных данных**  \n",
    "* Декораторы могут проверять, корректны ли переданные аргументы.  \n",
    "* Полезно в API, валидации форм и обработке ошибок.\n",
    " \n",
    "5. **Автоматическое повторение выполнения (Retry)**  \n",
    "* Если функция неудачно выполняется (например, сбой сети), можно автоматически повторять попытки.  \n",
    "* Используется в сетевых запросах и файловых операциях.\n",
    "  \n",
    "6. **Ограничение доступа**  \n",
    "* Декораторы могут проверять, имеет ли пользователь нужные права для вызова функции.  \n",
    "* Применяется в системах аутентификации и авторизации.\n",
    "   \n",
    "7. **Кеширование результатов**  \n",
    "* Декораторы позволяют сохранять результат функции и не пересчитывать его при повторных вызовах.  \n",
    "* Полезно в сложных вычислениях и оптимизации запросов к базе данных.\n",
    "  \n",
    "8. **Автоматическое изменение данных**  \n",
    "* Можно автоматически приводить результаты функции к нужному формату, например, делать текст заглавными буквами или добавлять символы.**  \n",
    "* Используется в обработке текста, форматировании вывода.  \n"
   ]
  },
  {
   "cell_type": "markdown",
   "id": "b92c2cdb-c409-4d9a-a497-651d574d1028",
   "metadata": {},
   "source": [
    "## Поля класса\n",
    "Вернемся к ООП. До этого мы работали с полями объектов — данными, которые принадлежат каждому конкретному экземпляру.\n",
    "Но в Python можно также создавать поля класса.  \n",
    "**Поле класса** (атрибут класса) — это переменная, которая принадлежит самому классу, а не отдельному объекту.  \n",
    "Все экземпляры класса могут получить к ней доступ, и при этом значение хранится в одном месте — внутри класса.  \n",
    "\n",
    "**Синтаксис:**   \n",
    "```\n",
    "class ClassName:\n",
    "    class_attribute = value  # поле класса\n",
    "```\n",
    "* class_attribute — поле класса, общее для всех объектов\n",
    "* value — значение этого поля\n"
   ]
  },
  {
   "cell_type": "code",
   "execution_count": null,
   "id": "7ea0e5f3-db4a-4bb6-959b-28a8c0f1f841",
   "metadata": {},
   "outputs": [],
   "source": [
    "class Book:\n",
    "    library_name = \"Central Library\"  # поле класса\n",
    "\n",
    "    def __init__(self, title, author):\n",
    "        self.title = title    # поле объекта\n",
    "        self.author = author  # поле объекта\n"
   ]
  },
  {
   "cell_type": "markdown",
   "id": "5a15892d-d950-4e30-bfc9-5737dee877b1",
   "metadata": {},
   "source": [
    "##### Когда использовать:\n",
    "* Для хранения настроек, категорий, счётчиков, общих значений\n",
    "* Когда значение одинаково для всех объектов\n"
   ]
  },
  {
   "cell_type": "markdown",
   "id": "dfa37ad8-0ab9-4717-9712-eef4cb139245",
   "metadata": {},
   "source": [
    "### Доступ к полям\n",
    "Поля класса можно читать и изменять как внутри класса, так и снаружи — через класс или объект.\n",
    "Но при этом поведение может отличаться — особенно при изменении значений.   \n",
    "\n",
    "**1. Чтение поля класса**  \n",
    "Поле класса можно прочитать как:\n",
    "* напрямую через класс: ClassName.attribute\n",
    "* через объект: object_name.attribute\n",
    "* внутри методов класса — через self.attribute или ClassName.attribute\n"
   ]
  },
  {
   "cell_type": "code",
   "execution_count": null,
   "id": "01248e75-5f00-4109-8992-08ef2f1afd42",
   "metadata": {},
   "outputs": [],
   "source": [
    "class Book:\n",
    "    library_name = \"Central Library\"  # поле класса\n",
    "\n",
    "    def __init__(self, title, author):\n",
    "        self.title = title\n",
    "        self.author = author\n",
    "\n",
    "    def show_library(self):\n",
    "        print(self.library_name)  # доступ через self\n",
    "        print(Book.library_name)  # доступ через имя класса\n",
    "\n",
    "print(Book.library_name)  # доступ через класс\n",
    "book = Book(\"1984\", \"George Orwell\")\n",
    "print(book.library_name)  # доступ через объект\n",
    "book.show_library()       # доступ изнутри\n"
   ]
  },
  {
   "cell_type": "markdown",
   "id": "3339c91f-a6d2-4032-a29e-f97d27ed641c",
   "metadata": {},
   "source": [
    "**2. Изменение значения через класс**  \n",
    "Если нужно изменить значение для всех объектов, это делается через класс.\n"
   ]
  },
  {
   "cell_type": "code",
   "execution_count": null,
   "id": "48e58195-4d7c-424a-a9d1-edcfcda72730",
   "metadata": {},
   "outputs": [],
   "source": [
    "class Book:\n",
    "    library_name = \"Central Library\"  # поле класса\n",
    "\n",
    "    def __init__(self, title, author):\n",
    "        self.title = title\n",
    "        self.author = author\n",
    "\n",
    "book = Book(\"1984\", \"George Orwell\")\n",
    "book2 = Book(\"Brave New World\", \"Aldous Huxley\")\n",
    "Book.library_name = \"City Library\"\n",
    "print(Book.library_name)\n",
    "print(book.library_name)      # у объекта тоже изменилось\n",
    "print(book2.library_name)     # у объекта тоже изменилось\n"
   ]
  },
  {
   "cell_type": "markdown",
   "id": "4d4b209b-4051-46cb-86a8-d32dae08b093",
   "metadata": {},
   "source": [
    "**3. Создание поля через объект**  \n",
    "Если попытаться изменить значение поля через объект, на самом деле будет создано новое поле в конкретном объекте, не затронув поле класса.\n"
   ]
  },
  {
   "cell_type": "code",
   "execution_count": null,
   "id": "59845a95-519e-49e6-8075-8621aebf37c2",
   "metadata": {},
   "outputs": [],
   "source": [
    "class Book:\n",
    "    library_name = \"Central Library\"  # поле класса\n",
    "\n",
    "    def __init__(self, title, author):\n",
    "        self.title = title\n",
    "        self.author = author\n",
    "\n",
    "book = Book(\"1984\", \"George Orwell\")\n",
    "book2 = Book(\"Brave New World\", \"Aldous Huxley\")\n",
    "\n",
    "book.library_name = \"Private Shelf\"  # создаёт новое поле в book\n",
    "print(book.library_name)  # Private Shelf — новое значение в объекте\n",
    "print(Book.library_name)  # поле класса не изменилось\n",
    "\n"
   ]
  },
  {
   "cell_type": "markdown",
   "id": "f84d9bc3-3fa7-45e7-a41c-ccf9bffd958c",
   "metadata": {},
   "source": [
    "### Классовые методы\n",
    "**Классовый метод** — это метод, который работает не с конкретным объектом, а с самим классом.\n",
    "Он получает доступ не к self, а к cls — ссылке на класс, из которого был вызван.\n",
    "Чтобы объявить такой метод, используется декоратор @classmethod. Этот декоратор превращает первый аргумент метода в ссылку на класс, а не на объект. Это позволяет методу работать с классом, а не конкретным объектом.\n",
    "#### Зачем нужны классовые методы?\n",
    "* Чтобы работать с полями класса (например, счётчиками или общими настройками)\n",
    "* Чтобы добавлять поведение, относящееся к самому классу, а не к отдельному экземпляру  \n",
    "**Синтаксис:**\n",
    "``` \n",
    "class ClassName:\n",
    "    @classmethod\n",
    "    def method_name(cls, ...):\n",
    "        ...\n",
    "```\n",
    "* @classmethod — декоратор, помечающий метод как классовый\n",
    "* cls — ссылка на сам класс (аналог self, но для класса)\n"
   ]
  },
  {
   "cell_type": "markdown",
   "id": "b28dfbd3-9e36-42d3-ba8e-ab641b32914f",
   "metadata": {},
   "source": [
    "##### Пример: счётчик созданных объектов "
   ]
  },
  {
   "cell_type": "code",
   "execution_count": null,
   "id": "81340b7e-8481-4159-a554-5f5d11916d81",
   "metadata": {},
   "outputs": [],
   "source": [
    "\n",
    "class Book:\n",
    "    total_books = 0  # поле класса\n",
    "\n",
    "    def __init__(self, title, author):\n",
    "        self.title = title\n",
    "        self.author = author\n",
    "        Book.total_books += 1\n",
    "\n",
    "    @classmethod\n",
    "    def show_total(cls):\n",
    "        print(f\"Total books: {cls.total_books}\")\n",
    "        # print(cls.title)  # Нельзя обратиться к полю объекта\n",
    "\n",
    "Book.show_total()     # Вызов через класс\n",
    "book1 = Book(\"1984\", \"George Orwell\")\n",
    "book2 = Book(\"Brave New World\", \"Aldous Huxley\")\n",
    "\n",
    "Book.show_total()     # Вызов через класс\n",
    "book1.show_total()    # Вызов через объект\n"
   ]
  },
  {
   "cell_type": "markdown",
   "id": "15c7246d-2f3c-4db1-84f3-01bccaf9ab47",
   "metadata": {},
   "source": [
    "##### Пример: поведение, связанное с классом\n",
    "Классовые методы также полезны, когда нужно выполнить действие, относящееся ко всему классу,например, вывести настройки по умолчанию или сбросить глобальные параметры. \n"
   ]
  },
  {
   "cell_type": "code",
   "execution_count": null,
   "id": "876a6c41-4886-4871-bf82-646eebf3094e",
   "metadata": {},
   "outputs": [],
   "source": [
    "class Book:\n",
    "    default_format = \"PDF\"\n",
    "    default_language = \"en\"\n",
    "\n",
    "    @classmethod\n",
    "    def show_defaults(cls):\n",
    "       print(f\"Format: {cls.default_format}, Language: {cls.default_language}\")\n",
    "\n",
    "    @classmethod\n",
    "    def reset_defaults(cls):\n",
    "        cls.default_format = \"PDF\"\n",
    "        cls.default_language = \"en\"\n",
    "\n",
    "Book.default_format = \"EPUB\"  # Изменение формата\n",
    "Book.show_defaults()          # Просмотр текущих настроек\n",
    "Book.reset_defaults()         # Сброс до базовых настроек\n",
    "Book.show_defaults()          # Просмотр текущих настроек\n"
   ]
  },
  {
   "cell_type": "markdown",
   "id": "78f7b9ac-f38e-4e2b-9288-e126a3ce8e57",
   "metadata": {},
   "source": [
    "### Статические методы\n",
    "Статический метод — это метод, который не зависит ни от объекта, ни от самого класса. Он работает как обычная функция, но помещён внутрь класса для логической связанности с ним.    \n",
    "Чтобы объявить такой метод, используется декоратор @staticmethod.   \n",
    "#### Когда использовать статические методы?  \n",
    "Когда функция логически относится к классу, но не использует ни self, ни cls\n",
    "Чтобы сгруппировать связанную логику внутри класса, а не выносить её в отдельные функции вне класса\n",
    "\n",
    "**Синтаксис:**   \n",
    "```\n",
    "class ClassName:\n",
    "    @staticmethod\n",
    "    def method_name(...):\n",
    "        ...\n",
    "```\n",
    "* `@staticmethod` — декоратор, превращающий метод в статический  \n",
    "* Такой метод не получает ни self, ни cls\n"
   ]
  },
  {
   "cell_type": "code",
   "execution_count": null,
   "id": "e8836199-2ce9-45a0-9530-326f260bc986",
   "metadata": {},
   "outputs": [],
   "source": [
    "#Пример: вспомогательная функция внутри класса \n",
    "class Book:\n",
    "    def __init__(self, title):\n",
    "        self.title = title\n",
    "\n",
    "    @staticmethod\n",
    "    def is_title_valid(title):\n",
    "        return isinstance(title, str) and len(title) > 0\n",
    "\n",
    "print(Book.is_title_valid(\"1984\"))       # True\n",
    "print(Book.is_title_valid(\"\"))           # False\n",
    "print(Book.is_title_valid(123))          # False\n"
   ]
  },
  {
   "cell_type": "markdown",
   "id": "b881f356-2c55-45d6-8104-cef3d8ed7d3e",
   "metadata": {},
   "source": [
    "* Такой метод можно вызывать и через класс (Book.is_title_valid()), и через объект — результат будет одинаков."
   ]
  },
  {
   "cell_type": "code",
   "execution_count": null,
   "id": "928a4be3-a20c-4f89-8923-3fdbb5fb3306",
   "metadata": {},
   "outputs": [],
   "source": [
    "#Пример: логически связанные, но независимые операции \n",
    "class MathHelper:\n",
    "    @staticmethod\n",
    "    def square(x):\n",
    "        return x * x\n",
    "\n",
    "    @staticmethod\n",
    "    def cube(x):\n",
    "        return x * x * x\n",
    "\n",
    "print(MathHelper.square(5))\n",
    "print(MathHelper.cube(3))\n"
   ]
  },
  {
   "cell_type": "markdown",
   "id": "b36e4111-1694-4645-b84d-1b79133d6ada",
   "metadata": {},
   "source": [
    "#### Сравнение типов методов"
   ]
  },
  {
   "attachments": {
    "ff4012af-2601-48ac-bfdd-42a9af9bd2ab.png": {
     "image/png": "[encoded data removed]"
    }
   },
   "cell_type": "markdown",
   "id": "4d9f78b7-39de-47db-8153-27b0a8e94f3d",
   "metadata": {},
   "source": [
    "![image.png](attachment:ff4012af-2601-48ac-bfdd-42a9af9bd2ab.png)"
   ]
  },
  {
   "cell_type": "markdown",
   "id": "2976b055-16b5-4eda-941d-42ae3ad7309b",
   "metadata": {},
   "source": [
    "# Практические задания\n",
    "1. **Расстояние между городами**  \n",
    "Создайте класс City, представляющий город с координатами.  \n",
    "У каждого города есть поля name, latitude, longitude.  \n",
    "Добавьте строковое представление объекта.  \n",
    "Добавьте метод distance(city1, city2), который возвращает кортеж (latitude, longitude) между двумя городами.  \n",
    "Проверьте расстояние между двумя городами.\n",
    "\n",
    "**Пример вывода** \n",
    "City: Berlin (52.52, 13.4)  \n",
    "City: Paris (48.85, 2.35)  \n",
    "Distance: 14.72\n"
   ]
  },
  {
   "cell_type": "code",
   "execution_count": null,
   "id": "7162b8f3-1901-4caf-9cd6-fe184a08e3b8",
   "metadata": {},
   "outputs": [],
   "source": [
    "class City:\n",
    "    def __init__(self, name, latitude, longitude):\n",
    "        self.name = name\n",
    "        self.latitude = latitude\n",
    "        self.longitude = longitude\n",
    "\n",
    "    def __str__(self):\n",
    "        return f\"City: {self.name} ({self.latitude}, {self.longitude})\"\n",
    "\n",
    "    @staticmethod\n",
    "    def distance(city1, city2):\n",
    "        lat_diff = round(city1.latitude - city2.latitude, 2)\n",
    "        lon_diff = round(city1.longitude - city2.longitude, 2)\n",
    "        return lat_diff, lon_diff\n",
    "\n",
    "berlin = City(\"Berlin\", 52.52, 13.40)\n",
    "paris = City(\"Paris\", 48.85, 2.35)\n",
    "\n",
    "print(berlin)\n",
    "print(paris)\n",
    "print(\"Distance:\", City.distance(berlin, paris))\n"
   ]
  },
  {
   "cell_type": "code",
   "execution_count": null,
   "id": "60810bc5-04b3-4755-92ae-380d22141e96",
   "metadata": {},
   "outputs": [],
   "source": []
  }
 ],
 "metadata": {
  "kernelspec": {
   "display_name": "Python 3 (ipykernel)",
   "language": "python",
   "name": "python3"
  },
  "language_info": {
   "codemirror_mode": {
    "name": "ipython",
    "version": 3
   },
   "file_extension": ".py",
   "mimetype": "text/x-python",
   "name": "python",
   "nbconvert_exporter": "python",
   "pygments_lexer": "ipython3",
   "version": "3.12.4"
  }
 },
 "nbformat": 4,
 "nbformat_minor": 5
}
