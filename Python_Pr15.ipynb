{
 "cells": [
  {
   "cell_type": "markdown",
   "id": "ba300d4c-ccf8-416f-a21f-8d35e2e253d6",
   "metadata": {},
   "source": [
    "# Практические задания 15\n",
    "* Лекция 30 - Итераторы, генераторы и генераторные выражения  \n",
    "* Лекция 31 - Регулярные выражения\n"
   ]
  },
  {
   "cell_type": "markdown",
   "id": "57d8ccf7-3aaa-4a40-b390-740ae1a4f467",
   "metadata": {},
   "source": [
    "1. ***Генератор, аналогичный range()***\n",
    "   \n",
    "Создайте генератор, который повторяет функциональность range(),  \n",
    "принимая start, stop, step и возвращая последовательность чисел.\n",
    " \n",
    "**Данные:**\n",
    "``` \n",
    "start = 2\n",
    "stop = 10\n",
    "step = 2\n",
    "```\n",
    "**Пример вывода:**   \n",
    "2  \n",
    "4  \n",
    "6  \n",
    "8  \n"
   ]
  },
  {
   "cell_type": "code",
   "execution_count": 5,
   "id": "18bb20ff-004f-426c-9a53-d9d467910cea",
   "metadata": {},
   "outputs": [
    {
     "name": "stdout",
     "output_type": "stream",
     "text": [
      "2\n",
      "5\n",
      "8\n",
      "11\n",
      "14\n",
      "17\n"
     ]
    }
   ],
   "source": [
    "def my_range(start, stop, step=1):\n",
    "    while start < stop:\n",
    "        yield start\n",
    "        start += step\n",
    "\n",
    "gen = my_range(2,20,3)\n",
    "\n",
    "for num in gen:\n",
    "    print(num)"
   ]
  },
  {
   "cell_type": "code",
   "execution_count": 16,
   "id": "f6ca034f-fc40-4d92-a46c-bb9f764e94e2",
   "metadata": {},
   "outputs": [],
   "source": [
    "gen = my_range(2,20,3)\n"
   ]
  },
  {
   "cell_type": "code",
   "execution_count": 21,
   "id": "08435711-e258-4462-868b-d6486efa265c",
   "metadata": {},
   "outputs": [
    {
     "data": {
      "text/plain": [
       "14"
      ]
     },
     "execution_count": 21,
     "metadata": {},
     "output_type": "execute_result"
    }
   ],
   "source": [
    "next(gen)"
   ]
  },
  {
   "cell_type": "code",
   "execution_count": 10,
   "id": "b00ce469-0337-4bd9-975d-b33be5ebb1d3",
   "metadata": {},
   "outputs": [
    {
     "data": {
      "text/plain": [
       "5"
      ]
     },
     "execution_count": 10,
     "metadata": {},
     "output_type": "execute_result"
    }
   ],
   "source": [
    "next(gen)"
   ]
  },
  {
   "cell_type": "code",
   "execution_count": 11,
   "id": "d68e210b-388b-4e24-ae92-8532f10e6413",
   "metadata": {},
   "outputs": [
    {
     "data": {
      "text/plain": [
       "8"
      ]
     },
     "execution_count": 11,
     "metadata": {},
     "output_type": "execute_result"
    }
   ],
   "source": [
    "next(gen)"
   ]
  },
  {
   "cell_type": "code",
   "execution_count": 12,
   "id": "09544626-fc79-4430-bc85-e375f6547f92",
   "metadata": {},
   "outputs": [
    {
     "name": "stdout",
     "output_type": "stream",
     "text": [
      "11\n",
      "14\n",
      "17\n"
     ]
    },
    {
     "ename": "StopIteration",
     "evalue": "",
     "output_type": "error",
     "traceback": [
      "\u001b[1;31m---------------------------------------------------------------------------\u001b[0m",
      "\u001b[1;31mStopIteration\u001b[0m                             Traceback (most recent call last)",
      "Cell \u001b[1;32mIn[12], line 4\u001b[0m\n\u001b[0;32m      2\u001b[0m \u001b[38;5;28mprint\u001b[39m(\u001b[38;5;28mnext\u001b[39m(gen))\n\u001b[0;32m      3\u001b[0m \u001b[38;5;28mprint\u001b[39m(\u001b[38;5;28mnext\u001b[39m(gen))\n\u001b[1;32m----> 4\u001b[0m \u001b[38;5;28mprint\u001b[39m(\u001b[38;5;28mnext\u001b[39m(gen))\n",
      "\u001b[1;31mStopIteration\u001b[0m: "
     ]
    }
   ],
   "source": [
    "print(next(gen))\n",
    "print(next(gen))\n",
    "print(next(gen))\n",
    "print(next(gen))\n"
   ]
  },
  {
   "cell_type": "code",
   "execution_count": 15,
   "id": "64ab1bf6-b367-477f-9e32-e3dca417a4e6",
   "metadata": {},
   "outputs": [
    {
     "name": "stdout",
     "output_type": "stream",
     "text": [
      "4\n",
      "3\n"
     ]
    }
   ],
   "source": [
    "a = 4\n",
    "b = 3\n",
    "print(a)\n",
    "print(b)"
   ]
  },
  {
   "cell_type": "markdown",
   "id": "d545d5ac-6e65-4e54-b807-7447c56abcc5",
   "metadata": {},
   "source": [
    "2. ***Генератор случайных дат***\n",
    "   \n",
    "Создайте генератор, который генерирует случайные даты в пределах одного года.  \n",
    "Генератор должен принимать год в качестве аргумента и выдавать следующую случайную дату при каждом вызове,\n",
    "учитывая количество дней в месяце, а также високосные годы.\n",
    "\n",
    "**Пример вывода:**  \n",
    "```\n",
    "2025-02-14\n",
    "2025-06-28\n",
    "2025-09-09\n",
    "...\n",
    "```"
   ]
  },
  {
   "cell_type": "code",
   "execution_count": 23,
   "id": "d173be74-a9d7-40f8-b23f-7f4da1d5c41a",
   "metadata": {},
   "outputs": [
    {
     "name": "stdout",
     "output_type": "stream",
     "text": [
      "2025-09-22\n",
      "2025-08-04\n",
      "2025-11-26\n",
      "2025-03-23\n",
      "2025-09-07\n"
     ]
    }
   ],
   "source": [
    "import random\n",
    "\n",
    "# def is_leap(year):\n",
    "#     if year % 4 == 0:\n",
    "#         return True\n",
    "#     return False\n",
    "\n",
    "def is_leap(year):\n",
    "    return  year % 4 == 0\n",
    "\n",
    "def random_dates(year):\n",
    "    days_in_month = {\n",
    "        1: 31,\n",
    "        2: 29 if is_leap(year) else 28,\n",
    "        3: 31,\n",
    "        4: 30,\n",
    "        5: 31,\n",
    "        6: 30,\n",
    "        7: 31,\n",
    "        8: 31,\n",
    "        9: 30,\n",
    "        10: 31,\n",
    "        11: 30,\n",
    "        12: 31\n",
    "    }\n",
    "    while True:\n",
    "        month = random.randint(1,12)\n",
    "        day = random.randint(1, days_in_month[month])\n",
    "        yield f\"{year}-{month:02d}-{day:02d}\"\n",
    "\n",
    "\n",
    "gen =  random_dates(2025)\n",
    "\n",
    "for _ in range(5):\n",
    "    print(next(gen))"
   ]
  },
  {
   "cell_type": "code",
   "execution_count": null,
   "id": "5365a52e-5b37-49d5-b71f-bc0dd9c8daaf",
   "metadata": {},
   "outputs": [],
   "source": []
  },
  {
   "cell_type": "markdown",
   "id": "7168a9f4-93a0-45b2-b0b6-ba2cf0e65a92",
   "metadata": {},
   "source": [
    "3. ***Генератор случайных имён***\n",
    "   \n",
    "Создайте генератор, который выдаёт случайные имена и фамилии.  \n",
    "Выведите 5 имён.  \n",
    "Для получения случайного значения из списка можно использовать choice() из модуля random.\n",
    "  \n",
    "**Данные:**  \n",
    "```\n",
    "first_names = [\"Alice\", \"Bob\", \"Charlie\", \"David\", \"Emma\"]\n",
    "last_names = [\"Smith\", \"Johnson\", \"Brown\", \"Williams\", \"Jones\"]\n",
    "```\n",
    "**Пример вывода:**   \n",
    "Alice Johnson  \n",
    "David Brown  \n",
    "...  \n"
   ]
  },
  {
   "cell_type": "code",
   "execution_count": 25,
   "id": "2a9017e2-6fdc-48db-8623-a81906214fc6",
   "metadata": {},
   "outputs": [
    {
     "name": "stdout",
     "output_type": "stream",
     "text": [
      "Charlie Williams\n",
      "Emma Jones\n",
      "David Brown\n",
      "Alice Johnson\n",
      "David Johnson\n",
      "Bob Jones\n",
      "Charlie Johnson\n",
      "Bob Brown\n",
      "Charlie Brown\n",
      "David Jones\n",
      "David Smith\n",
      "David Johnson\n",
      "David Williams\n",
      "Emma Jones\n",
      "Bob Brown\n"
     ]
    }
   ],
   "source": [
    "import random\n",
    "\n",
    "def random_name():\n",
    "    first_names = [\"Alice\", \"Bob\", \"Charlie\", \"David\", \"Emma\"]\n",
    "    last_names = [\"Smith\", \"Johnson\", \"Brown\", \"Williams\", \"Jones\"]\n",
    "    while True:\n",
    "        yield f'{random.choice(first_names)} {random.choice(last_names)}'\n",
    "\n",
    "gen = random_name()\n",
    "for _ in range(15):\n",
    "    print(next(gen))"
   ]
  },
  {
   "cell_type": "code",
   "execution_count": 26,
   "id": "afc16955-eac0-43ac-836d-8892d99474ce",
   "metadata": {},
   "outputs": [
    {
     "name": "stdout",
     "output_type": "stream",
     "text": [
      "Charlie Smith\n"
     ]
    }
   ],
   "source": [
    "print(next(gen))"
   ]
  },
  {
   "cell_type": "markdown",
   "id": "f4ac8a2a-8d17-4243-9e1b-0e462fc88406",
   "metadata": {},
   "source": [
    "4. ***Извлечение номеров банковских карт***\n",
    "   \n",
    "Реализуйте программу, которая должна найти все номера карт, записанные как 16 цифр, разделённые пробелами, дефисами или без разделителей.\n",
    "\n",
    "**Данные:**  \n",
    "```\n",
    "text = \"\"\"\n",
    "Valid examples:\n",
    "1234 5678 9012 3456\n",
    "4321-8765-2109-6543\n",
    "1234567812345678\n",
    "1234-5678 9012-3456\n",
    "\n",
    "Invalid examples:\n",
    "123456781234567\n",
    "1234/5678/9012/3456\n",
    "1234 5678 9012\n",
    "1234-5678-ABCD-3456\n",
    "1234--5678--9012--3456\n",
    "1234 56789 012 3456\n",
    "\"\"\"\n",
    "```\n",
    "**Пример вывода:**  \n",
    "    \n",
    "Валидные номера:  \n",
    "1234 5678 9012 3456  \n",
    "4321-8765-2109-6543  \n",
    "1234567812345678  \n",
    "1234-5678 9012-3456\n",
    "\n"
   ]
  },
  {
   "cell_type": "code",
   "execution_count": 27,
   "id": "70382101-0279-4823-b5b9-96ca79269785",
   "metadata": {},
   "outputs": [
    {
     "name": "stdout",
     "output_type": "stream",
     "text": [
      "Валидные номера:\n",
      "1234 5678 9012 3456\n",
      "4321-8765-2109-6543\n",
      "1234567812345678\n",
      "1234-5678 9012-3456\n"
     ]
    }
   ],
   "source": [
    "import re\n",
    "\n",
    "text = \"\"\"\n",
    "Valid examples:\n",
    "1234 5678 9012 3456\n",
    "4321-8765-2109-6543\n",
    "1234567812345678\n",
    "1234-5678 9012-3456\n",
    "\n",
    "Invalid examples:\n",
    "123456781234567\n",
    "1234/5678/9012/3456\n",
    "1234 5678 9012\n",
    "1234-5678-ABCD-3456\n",
    "1234--5678--9012--3456\n",
    "1234 56789 012 3456\n",
    "\"\"\"\n",
    "\n",
    "pattern = r'\\b\\d{4}[- ]?\\d{4}[- ]?\\d{4}[- ]?\\d{4}\\b'\n",
    "cards = re.findall(pattern, text)\n",
    "\n",
    "print('Валидные номера:')\n",
    "for card in cards:\n",
    "    print(card)"
   ]
  },
  {
   "cell_type": "code",
   "execution_count": 28,
   "id": "848f1505-a73f-470d-9a2a-bebc13a67754",
   "metadata": {},
   "outputs": [
    {
     "name": "stdout",
     "output_type": "stream",
     "text": [
      "Валидные номера:\n",
      "1234 5678 9012 3456\n",
      "4321-8765-2109-6543\n",
      "1234567812345678\n",
      "1234-5678 9012-3456\n"
     ]
    }
   ],
   "source": [
    "pattern = r'\\b(?:\\d{4}[- ]?){3}\\d{4}\\b'\n",
    "cards = re.findall(pattern, text)\n",
    "\n",
    "print('Валидные номера:')\n",
    "for card in cards:\n",
    "    print(card)"
   ]
  },
  {
   "cell_type": "markdown",
   "id": "7ee29d6d-88ef-449a-8066-fefabe01693e",
   "metadata": {},
   "source": [
    "5. ***Извлечение email-адресов***  \n",
    "\n",
    "Реализуйте программу, которая:  \n",
    "* Находит в тексте все email-адреса, соответствующие следующим критериям:\n",
    "   * Перед @ допускаются буквы, цифры, точки (.) и подчёркивания (_), но не начинается и не заканчивается точкой.\n",
    "   * После @ следует:\n",
    "      * Домен второго уровня: буквы, цифры, дефисы, точки.\n",
    "      * Затем домен верхнего уровня (например, .com, .org, .net, .pl), от 2 до 3 букв.\n",
    "   * Email не может содержать пробелы.\n",
    "       \n",
    "**Данные:**  \n",
    "```\n",
    "text = \"\"\"\n",
    "Valid:\n",
    "- support@mail.com\n",
    "- info@company.org\n",
    "- personal_email123@edu.university.net\n",
    "- user.name@sub.domain.com\n",
    "- contact_us123@my-site.org\n",
    "- hello.world@some.place.travel\n",
    "- admin@server.local\n",
    "- support@company-name.de\n",
    "- user@data.edu.pl\n",
    "\n",
    "Invalid:\n",
    "- user@domain,com\n",
    "- name@domaincom\n",
    "- name@domain.c\n",
    "- user@domain.toolongtldddddd\n",
    "- no@space .com\n",
    "- bad@@mail.com\n",
    "- missing@dotcom\n",
    "\"\"\"\n",
    "```\n",
    "**Пример вывода:**   \n",
    "support@mail.com  \n",
    "info@company.org  \n",
    "personal_email123@edu.university.net  \n",
    "user.name@sub.domain.com  \n",
    "contact_us123@my-site.org  \n",
    "support@company-name.de  \n",
    "user@data.edu.pl  \n"
   ]
  },
  {
   "cell_type": "code",
   "execution_count": null,
   "id": "5e5e6d57-b69f-4e86-8ca5-46f061ec7415",
   "metadata": {},
   "outputs": [],
   "source": [
    "'ihabdf asdfg asdg.adfg;sth'"
   ]
  },
  {
   "cell_type": "code",
   "execution_count": 30,
   "id": "cf63742b-0e1c-45f9-a35d-39582c4b330f",
   "metadata": {},
   "outputs": [
    {
     "name": "stdout",
     "output_type": "stream",
     "text": [
      "support@mail.com\n",
      "info@company.org\n",
      "personal_email123@edu.university.net\n",
      "user.name@sub.domain.com\n",
      "contact_us123@my-site.org\n",
      "support@company-name.de\n",
      "user@data.edu.pl\n"
     ]
    }
   ],
   "source": [
    "import re\n",
    "\n",
    "text = \"\"\"\n",
    "Valid:\n",
    "- .support@mail.com\n",
    "- info@company.org\n",
    "- personal_email123@edu.university.net\n",
    "- user.name@sub.domain.com\n",
    "- contact_us123@my-site.org\n",
    "- hello.world@some.place.travel\n",
    "- admin@server.local\n",
    "- support@company-name.de\n",
    "- user@data.edu.pl\n",
    "\n",
    "Invalid:\n",
    "- user@domain,com\n",
    "- name@domaincom\n",
    "- name@domain.c\n",
    "- user@domain.toolongtldddddd\n",
    "- no@space .com\n",
    "- bad@@mail.com\n",
    "- missing@dotcom\n",
    "\"\"\"\n",
    "\n",
    "pattern = r'\\b[a-zA-Z0-9._]+@[a-zA-Z0-9.-]+\\.[a-zA-Z]{2,3}\\b'\n",
    "emails = re.findall(pattern, text)\n",
    "\n",
    "emails = [email  for email in emails if email[0]!='.']\n",
    "for email in emails:\n",
    "    print(email)\n"
   ]
  },
  {
   "cell_type": "markdown",
   "id": "1ae92f01-b1cc-44db-9c1e-e3cc6fa73241",
   "metadata": {},
   "source": [
    "6. ***Поиск немецких мобильных номеров***  \n",
    "\n",
    "Реализуйте программу, которая:\n",
    "* Находит в тексте все немецкие мобильные номера, записанные в одном из следующих форматов:\n",
    "  * начинаются с +49 или 0049,\n",
    "  * далее префикс мобильного оператора, начинающийся на 15, 16 или 17,\n",
    "  * далее — от 7 до 9 цифр (в номере могут быть пробелы, дефисы или табуляции между блоками).\n",
    "* Очищает найденные номера от пробелов, дефисов, табов.\n",
    "* Преобразует номер в единый формат, начинающийся с +49.\n",
    "* Проверяет, что в результате (после очистки):\n",
    "  * префикс после +49 должен начинаться с 15, 16 или 17.\n",
    "  * и содержит 10–12 цифр после кода страны (то есть общий формат: +49XXXXXXXXXX — от 13 до 15 символов).\n",
    "* Возвращает список валидных номеров.\n",
    "                                             \n",
    "**Данные (файл german_numbers.txt):**  \n",
    "+49 157 12345678  \n",
    "0049-160-9876543  \n",
    "+49176 2345 6789  \n",
    "+49 89 123456                       # <- не мобильный (городской)  \n",
    "0049-151-456-7890  \n",
    "+49 178 111-22-33  \n",
    "+49-152-12 34 567  \n",
    "0044 7700 900123                   # <- Великобритания  \n",
    "+49160-1234-5  \n",
    "...\n",
    "**Пример вывода:**   \n",
    "Валидные номера:  \n",
    "+4917623456789  \n",
    "+491514567890  \n",
    "+491781112233  \n",
    "+491521234567  \n",
    "+49154234567890  \n",
    "...  \n"
   ]
  },
  {
   "cell_type": "code",
   "execution_count": 1,
   "id": "a83a9f52-f6fe-4048-af4f-b9342a87740f",
   "metadata": {},
   "outputs": [
    {
     "name": "stdout",
     "output_type": "stream",
     "text": [
      "Валидные номера:\n",
      "+4917623456789\n",
      "+491514567890\n",
      "+491781112233\n"
     ]
    }
   ],
   "source": [
    "import re\n",
    "\n",
    "def extract_mobile_numbers(text):\n",
    "    pattern = r\"(?:\\+49|0049)[\\s\\-]*1[5-7](?:[\\s\\-]*\\d){7,}\"\n",
    "    raw_matches = re.findall(pattern, text)\n",
    "\n",
    "    cleaned_numbers = []\n",
    "    for raw in raw_matches:\n",
    "        digits = re.sub(r\"\\D\", \"\", raw)\n",
    "        if digits.startswith(\"0049\"):\n",
    "            digits = digits[4:]\n",
    "        elif digits.startswith(\"49\"):\n",
    "            digits = digits[2:]\n",
    "        if 10 <= len(digits) <= 12:\n",
    "            cleaned_numbers.append(f\"+49{digits}\")\n",
    "\n",
    "    return cleaned_numbers\n",
    "\n",
    "# Чтение файла\n",
    "with open(\"german_numbers.txt\", \"r\", encoding=\"utf-8\") as file:\n",
    "    text = file.read()\n",
    "    valid_numbers = extract_mobile_numbers(text)\n",
    "\n",
    "    print(\"Валидные номера:\")\n",
    "    for number in valid_numbers:\n",
    "        print(number)"
   ]
  },
  {
   "cell_type": "code",
   "execution_count": null,
   "id": "a2e8faa7-77f3-45d7-9248-1cdf3a7cd875",
   "metadata": {},
   "outputs": [],
   "source": []
  }
 ],
 "metadata": {
  "kernelspec": {
   "display_name": "Python 3 (ipykernel)",
   "language": "python",
   "name": "python3"
  },
  "language_info": {
   "codemirror_mode": {
    "name": "ipython",
    "version": 3
   },
   "file_extension": ".py",
   "mimetype": "text/x-python",
   "name": "python",
   "nbconvert_exporter": "python",
   "pygments_lexer": "ipython3",
   "version": "3.12.4"
  }
 },
 "nbformat": 4,
 "nbformat_minor": 5
}
