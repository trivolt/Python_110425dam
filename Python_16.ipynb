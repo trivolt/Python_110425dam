{
 "cells": [
  {
   "cell_type": "markdown",
   "id": "20164817-1380-4c46-aa24-0023316b5a05",
   "metadata": {},
   "source": [
    "# List comprehension. Стек и очередь"
   ]
  },
  {
   "cell_type": "markdown",
   "id": "fa4b1b56-c6b0-4892-a331-8a4080fda9d9",
   "metadata": {},
   "source": [
    "## List comprehension\n",
    "List comprehension (Генератор списка или списковое включение) в Python — это удобный способ создать новый список, применяя выражение к каждому элементу существующего итерируемого объекта (например, списка, кортежа, строки) и/или фильтруя элементы по условию.   \n",
    "Генераторы списков делают код короче и более читаемым, а также могут быть переданными в функции, так как записаны в одну строку.   \n",
    "***Синтаксис***  \n",
    "`new_list = [expression for item in iterable]`  \n",
    "\n",
    "\n",
    "* expression — выражение (функция, операция или просто элемент), которое будет применено к каждому элементу. Результат будет добавлен в новый список.  \n",
    "* item — переменная для каждого элемента в итерируемом объекте.  \n",
    "* iterable — итерируемый объект, по которому выполняется перебор.\n"
   ]
  },
  {
   "cell_type": "code",
   "execution_count": null,
   "id": "7f34f9ef-7e3c-4cea-8a38-d90c739b21a0",
   "metadata": {},
   "outputs": [],
   "source": [
    "numbers = [1, 4, 6, 7, 9]\n",
    "# Возведение каждого элемента numbers в квадрат\n",
    "squares = [n ** 2 for n in numbers]\n",
    "print(squares)\n",
    "print(numbers)  # Изначальный список останется без изменений"
   ]
  },
  {
   "cell_type": "markdown",
   "id": "8f802dec-9031-45ad-a81c-75616dcf8005",
   "metadata": {},
   "source": [
    "## List comprehension и цикл for\n",
    "Списковые включения и цикл for позволяют создавать и заполнять списки, но делают это по-разному. Списковое включение обеспечивает более компактный и читаемый синтаксис, а цикл for предоставляет больше возможностей для сложной логики.  \n",
    "Сравнение синтаксиса\n"
   ]
  },
  {
   "cell_type": "code",
   "execution_count": null,
   "id": "cad1e62e-aafd-420c-af97-7f3bbe86f754",
   "metadata": {},
   "outputs": [],
   "source": [
    "# List comprehension\n",
    "print([x ** 2 for x in range(5)])\n"
   ]
  },
  {
   "cell_type": "code",
   "execution_count": null,
   "id": "f7269c3e-42c7-441b-a9dc-d90202f302a1",
   "metadata": {},
   "outputs": [],
   "source": [
    "# Эквивалент с циклом for\n",
    "squares = []\n",
    "for x in range(5):\n",
    "    squares.append(x ** 2)\n",
    "print(squares)"
   ]
  },
  {
   "cell_type": "code",
   "execution_count": null,
   "id": "bdd04b6b-523d-4d6e-9f0a-acf09013604b",
   "metadata": {},
   "outputs": [],
   "source": [
    "# List comprehension\n",
    "words = [\"hello\", \"world\", \"python\"]\n",
    "uppercase_words = [word.upper() for word in words]\n",
    "\n",
    "\n",
    "print(uppercase_words)\n"
   ]
  },
  {
   "cell_type": "code",
   "execution_count": null,
   "id": "e863d513-203b-4636-b159-a1f80dd4063e",
   "metadata": {},
   "outputs": [],
   "source": [
    "# Эквивалент с циклом for\n",
    "words = [\"hello\", \"world\", \"python\"]\n",
    "uppercase_words = []\n",
    "for word in words:\n",
    "    uppercase_words.append(word.upper())\n",
    "    \n",
    "print(uppercase_words)\n"
   ]
  },
  {
   "cell_type": "markdown",
   "id": "3b08541b-7a93-45bc-9e19-8e451d51b842",
   "metadata": {},
   "source": [
    "## List comprehension с условием if\n",
    "List comprehension с условием if позволяет добавлять элементы в новый список только при выполнении определённого условия.  \n",
    "***Синтаксис***  \n",
    "`new_list = [expression for item in iterable if condition]`  \n",
    "\n",
    "\n",
    "* expression — выражение (функция, операция или просто элемент), которое будет применено к каждому элементу. Результат будет добавлен в новый список.  \n",
    "* item — переменная для каждого элемента в итерируемом объекте.  \n",
    "* iterable — итерируемый объект, по которому выполняется перебор.  \n",
    "* condition — условие, по которому элементы отбираются.\n"
   ]
  },
  {
   "cell_type": "code",
   "execution_count": null,
   "id": "348d5a4d-518c-4421-a913-4cbb571d9909",
   "metadata": {},
   "outputs": [],
   "source": [
    "# List comprehension\n",
    "even_numbers = [x for x in range(10) if x % 2 == 0]\n",
    "print(even_numbers)\n"
   ]
  },
  {
   "cell_type": "code",
   "execution_count": null,
   "id": "6be82715-8d4c-428f-b70a-315ce8cf94a8",
   "metadata": {},
   "outputs": [],
   "source": [
    "# Эквивалент с циклом for\n",
    "even_numbers = []\n",
    "for x in range(10):\n",
    "    if x % 2 == 0:\n",
    "        even_numbers.append(x)\n",
    "\n",
    "\n",
    "print(even_numbers) \n"
   ]
  },
  {
   "cell_type": "code",
   "execution_count": null,
   "id": "05cd34c9-c2ac-433f-b4d0-8510dfac4406",
   "metadata": {},
   "outputs": [],
   "source": [
    "# List comprehension\n",
    "words = [\"apple\", \"banana\", \"cherry\", \"date\"]\n",
    "words_with_a = [word for word in words if 'a' in word]\n",
    "print(words_with_a)\n"
   ]
  },
  {
   "cell_type": "code",
   "execution_count": null,
   "id": "828d6632-c064-475f-9fb7-62ab5c5bb203",
   "metadata": {},
   "outputs": [],
   "source": [
    "# Эквивалент с циклом for\n",
    "words = [\"apple\", \"banana\", \"cherry\", \"date\"]\n",
    "words_with_a = []\n",
    "for word in words:\n",
    "    if 'a' in word:\n",
    "        words_with_a.append(word)\n",
    "\n",
    "\n",
    "print(words_with_a)\n"
   ]
  },
  {
   "cell_type": "markdown",
   "id": "1b98311d-1a5a-4da9-b1b8-474d3f94420b",
   "metadata": {},
   "source": [
    "## List comprehension с условием if-else\n",
    "List comprehension с условием if...else позволяет создавать новый список, где для каждого элемента применяется условие, и добавляется разное значение в зависимости от выполнения этого условия.  \n",
    "***Синтаксис***  \n",
    "`new_list = [expression_if_true if condition else expression_if_false for item in iterable]`  \n",
    "\n",
    "\n",
    "* expression — выражение (функция, операция или просто элемент), которое будет применено к каждому элементу. Результат будет добавлен в новый список.\n",
    "* item — переменная для каждого элемента в итерируемом объекте.\n",
    "* iterable — итерируемый объект, по которому выполняется перебор.\n",
    "* condition — условие для проверки.\n",
    "* expression_if_true — выражение, добавляемое в список, если условие истинно.\n",
    "* expression_if_false — выражение, добавляемое в список, если условие ложно.\n"
   ]
  },
  {
   "cell_type": "code",
   "execution_count": null,
   "id": "57514bee-dccb-48db-b7fd-e272bb62d26b",
   "metadata": {},
   "outputs": [],
   "source": [
    "#Пример 1: Замена нечётных чисел на -1\n",
    "# List comprehension\n",
    "numbers = [2, 7, 5, 4, 1, 1, 7, 8]\n",
    "modified_list = [x if x % 2 == 0 else -1 for x in numbers]\n",
    "\n",
    "\n",
    "print(modified_list)\n"
   ]
  },
  {
   "cell_type": "code",
   "execution_count": null,
   "id": "3ea47e80-f7b3-4e3e-aae8-55f93dad006c",
   "metadata": {},
   "outputs": [],
   "source": [
    "# Эквивалент с циклом for\n",
    "numbers = [2, 7, 5, 4, 1, 1, 7, 8]\n",
    "modified_list = []\n",
    "for x in numbers:\n",
    "    if x % 2 == 0:\n",
    "        modified_list.append(x)\n",
    "    else:\n",
    "        modified_list.append(-1)\n",
    "\n",
    "\n",
    "print(modified_list)\n"
   ]
  },
  {
   "cell_type": "code",
   "execution_count": null,
   "id": "a01e26d8-b261-4806-858f-59f892a1262c",
   "metadata": {},
   "outputs": [],
   "source": [
    "#Пример 2: Преобразование коротких слов в верхний регистр\n",
    "\n",
    "# List comprehension\n",
    "words = [\"cat\", \"elephant\", \"dog\", \"bird\"]\n",
    "modified_words = [word if len(word) > 3 else word.capitalize() for word in words]\n",
    "\n",
    "\n",
    "print(modified_words) \n"
   ]
  },
  {
   "cell_type": "code",
   "execution_count": null,
   "id": "2631c855-ad34-4948-9d21-5668dc62934e",
   "metadata": {},
   "outputs": [],
   "source": [
    "# Эквивалент с циклом for\n",
    "words = [\"cat\", \"elephant\", \"dog\", \"bird\"]\n",
    "modified_words = []\n",
    "for word in words:\n",
    "    if len(word) > 3:\n",
    "        modified_words.append(word)\n",
    "    else:\n",
    "        modified_words.append(word.capitalize())\n",
    "\n",
    "\n",
    "print(modified_words)\n"
   ]
  },
  {
   "cell_type": "markdown",
   "id": "3200d299-1fcf-4ed0-afab-41ec924b8c1c",
   "metadata": {},
   "source": [
    "## List comprehension с вложенным условием if-else  \n",
    "List comprehension поддерживает вложенные условия, позволяя добавлять несколько уровней проверки в одном выражении.  \n",
    "***Пример:*** **Замена слов на основе условий**  \n",
    "***Задача:*** Если длина слова больше 5 символов, оставить его без изменений. Если длина слова от 3 до 5 символов, заменить слово на 'medium'. Если длина слова меньше 3 символов, заменить его на 'short'.\n"
   ]
  },
  {
   "cell_type": "code",
   "execution_count": null,
   "id": "d095dcee-f052-4c58-ad73-4229edbfe6ba",
   "metadata": {},
   "outputs": [],
   "source": [
    "# List comprehension\n",
    "words = [\"hi\", \"apple\", \"banana\", \"cat\", \"blueberry\", \"on\"]\n",
    "modified_words = [word if len(word) > 5 else ('medium' if len(word) >= 3 else 'short') for word in words]\n",
    "\n",
    "\n",
    "print(modified_words)\n"
   ]
  },
  {
   "cell_type": "code",
   "execution_count": null,
   "id": "01110980-c324-4a62-a702-7fb53141e730",
   "metadata": {},
   "outputs": [],
   "source": [
    "# Эквивалент с циклом for\n",
    "words = [\"hi\", \"apple\", \"banana\", \"cat\", \"blueberry\", \"on\"]\n",
    "modified_words = []\n",
    "for word in words:\n",
    "    if len(word) > 5:\n",
    "        modified_words.append(word)\n",
    "    else:\n",
    "        if len(word) >= 3:\n",
    "            modified_words.append('medium')\n",
    "        else:\n",
    "            modified_words.append('short')\n",
    "\n",
    "\n",
    "print(modified_words) \n"
   ]
  },
  {
   "cell_type": "markdown",
   "id": "97d1e93c-da81-4bcf-bd45-46c44dd515d7",
   "metadata": {},
   "source": [
    "**Чаще всего list comprehension используются с простыми условиями, чтобы сохранить читаемость и простоту понимания кода. Для более сложной логики или вложенных условий обычно используются циклы for, так как они позволяют лучше структурировать код и делать его более понятным.**\n"
   ]
  },
  {
   "cell_type": "markdown",
   "id": "d440bffc-3028-4643-99b2-d5aad83aa619",
   "metadata": {},
   "source": [
    "## List comprehension с вложенным циклом  \n",
    "Списковое включение поддерживает вложенные циклы, что позволяет создавать списки на основе более сложных структур данных, например, вложенных списков. Это упрощает процесс объединения данных или выполнения операций на нескольких уровнях вложенности.  \n",
    "***Синтаксис***  \n",
    "`new_list = [expression for item1 in iterable1 for item2 in iterable2]`  \n",
    "\n",
    "\n",
    "* expression — выражение (функция, операция или просто элемент), которое будет применено к каждому элементу. Результат будет добавлен в новый список.\n",
    "* item1, item2 — переменные для каждого элемента из итерируемых объектов.\n",
    "* iterable1, iterable2 — итерируемые объекты, по которым выполняется перебор.\n"
   ]
  },
  {
   "cell_type": "code",
   "execution_count": null,
   "id": "569c70c8-1d4c-41ba-92b2-c33e3801f566",
   "metadata": {},
   "outputs": [],
   "source": [
    "#Пример 1: Создание списка пар чисел\n",
    "# List comprehension\n",
    "pairs = [(x, y) for x in range(3) for y in range(2)]\n",
    "print(pairs) \n",
    "\n",
    "\n",
    "# Эквивалент с циклом for\n",
    "pairs = []\n",
    "for x in range(3):\n",
    "    for y in range(2):\n",
    "        pairs.append((x, y))\n",
    "\n",
    "\n",
    "print(pairs)\n"
   ]
  },
  {
   "cell_type": "code",
   "execution_count": null,
   "id": "11516b3f-f1d2-44d7-a7b3-5cb6b904aea7",
   "metadata": {},
   "outputs": [],
   "source": [
    "#Пример 2: Распаковка вложенных списков\n",
    "# List comprehension\n",
    "matrix = [[1, 2, 3], [4, 5, 6], [7, 8, 9]]\n",
    "flattened = [num for row in matrix for num in row]\n",
    "\n",
    "\n",
    "print(flattened) \n"
   ]
  },
  {
   "cell_type": "code",
   "execution_count": null,
   "id": "242b6300-561e-4736-826d-1acf8c77709f",
   "metadata": {},
   "outputs": [],
   "source": [
    "# Эквивалент с циклом for\n",
    "flattened = []\n",
    "for row in matrix:\n",
    "    for num in row:\n",
    "        flattened.append(num)\n",
    "\n",
    "\n",
    "print(flattened)\n"
   ]
  },
  {
   "cell_type": "markdown",
   "id": "cde19390-1e66-4a97-bb1d-fbce3f6db591",
   "metadata": {},
   "source": [
    "## Преимущества и недостатки List comprehension  \n",
    "#### Преимущества list comprehension:  \n",
    "* Краткость и читаемость: Код выглядит более лаконичным и понятным для простых операций.  \n",
    "* Однострочное создание списка: Удобно для компактного представления и передачи результата в функции.  \n",
    "#### Недостатки list comprehension:  \n",
    "* Ограниченная читаемость для сложных условий: Если в выражении много логики или условий, его труднее читать.  \n",
    "* Не так гибко, как цикл for: Для более сложных операций и многошаговых вычислений цикл for более уместен.  \n",
    "#### Преимущества цикла for:  \n",
    "* Гибкость: Подходит для выполнения сложных операций и добавления дополнительных условий и логики.  \n",
    "* Более лёгкая отладка: Код, написанный с использованием цикла for, легче понять и модифицировать при необходимости.  \n",
    "#### Недостатки цикла for:  \n",
    "* Многословность: Требуется больше строк кода для выполнения простой операции по сравнению с list comprehension.  \n"
   ]
  },
  {
   "cell_type": "code",
   "execution_count": null,
   "id": "bce64dd5-ccef-4d3d-abdb-1155f61cdd1e",
   "metadata": {},
   "outputs": [],
   "source": [
    "#1. Какой результат будет выведен при выполнении следующего кода?\n",
    "ages = [12, 17, 24, 18, 30]\n",
    "adults = [age for age in ages if age >= 18]\n",
    "print(adults)\n"
   ]
  },
  {
   "cell_type": "code",
   "execution_count": null,
   "id": "1d1cc8d2-67c6-49ce-99b4-96e6b16f3618",
   "metadata": {},
   "outputs": [],
   "source": [
    "# 2. Какой результат будет выведен при выполнении следующего кода?\n",
    "names = [\"John\", \"Anna\", \"Zoe\", \"Mark\"]\n",
    "formatted_names = [name.lower() if len(name) > 3 else name.upper() for name in names]\n",
    "print(formatted_names)\n"
   ]
  },
  {
   "cell_type": "code",
   "execution_count": null,
   "id": "5c6d355f-f4c1-4fdb-b957-df57bc7e078a",
   "metadata": {},
   "outputs": [],
   "source": [
    "# 3. Какой результат будет выведен при выполнении следующего кода?\n",
    "matrix = [[7, 8], [9, 10], [11, 12]]\n",
    "flattened = [value * 2 for row in matrix for value in row]\n",
    "print(flattened)\n"
   ]
  },
  {
   "cell_type": "markdown",
   "id": "2c43cc91-ce9c-498f-8136-8fc7a3a1bc33",
   "metadata": {},
   "source": [
    "## Функция zip  \n",
    "Функция zip() позволяет объединять несколько итерируемых объектов (например, списки, кортежи) в один, создавая кортежи из элементов на соответствующих позициях. Это удобный инструмент для работы с несколькими последовательностями одновременно.    \n",
    "zip() останавливается на самом коротком итерируемом объекте, если длина объектов отличается.  \n",
    "***Синтаксис***  \n",
    "`zip(итерируемые_объекты)`  \n",
    "\n",
    "\n",
    "* итерируемые объекты – списки, кортежи, строки и т.д., которые будут объединены.\n",
    "  \n",
    "Функция возвращает итерируемый объект zip, который можно преобразовать в коллекцию (например список) или перебрать в цикле.\n"
   ]
  },
  {
   "cell_type": "code",
   "execution_count": null,
   "id": "5210981f-e6fc-434c-906a-a668673c14b7",
   "metadata": {},
   "outputs": [],
   "source": [
    "# Объединение нескольких итерируемых объектов одинаковой длины\n",
    "names = [\"Alice\", \"Bob\", \"Charlie\"]\n",
    "ages = [25, 30, 35]\n",
    "cities = ['Hamburg', 'Berlin', 'Munich']\n",
    "combined = zip(names, ages, cities)\n",
    "print(combined)\n",
    "print(list(combined))\n"
   ]
  },
  {
   "cell_type": "code",
   "execution_count": null,
   "id": "906eae32-23b2-4cd9-bc34-edb4cfce6290",
   "metadata": {},
   "outputs": [],
   "source": [
    "# Объединение нескольких итерируемых объектов разной длины\n",
    "list1 = [1, 2, 3]\n",
    "list2 = ['a', 'b']\n",
    "result = zip(list1, list2)\n",
    "# Функция zip() остановилась на втором элементе, так как один из списков короче.\n",
    "print(list(result))\n"
   ]
  },
  {
   "cell_type": "code",
   "execution_count": null,
   "id": "d4f318a9-59f7-47e9-bac7-2cb44d10173f",
   "metadata": {},
   "outputs": [],
   "source": [
    "# Использование в цикле for\n",
    "names = [\"Alice\", \"Bob\", \"Charlie\"]\n",
    "ages = [25, 30, 35]\n",
    "for name, age in zip(names, ages):\n",
    "    print(f\"{name} is {age} years old.\")\n"
   ]
  },
  {
   "cell_type": "markdown",
   "id": "fa1b785a-be6b-41d6-a6ca-3a997a231d2d",
   "metadata": {},
   "source": [
    "## Стек и очередь  \n",
    "**Стек и очередь** — это структуры данных, используемые для хранения элементов с определёнными правилами доступа и управления. Эти структуры часто используются в программировании для упрощения обработки данных в специфических ситуациях.\n"
   ]
  },
  {
   "cell_type": "markdown",
   "id": "2c939bf4-ab96-41a1-ad49-d29fa92b22fa",
   "metadata": {},
   "source": [
    "### Стек\n",
    "Стек (Stack) работает по принципу LIFO (Last In, First Out), что означает «последним пришёл — первым ушёл». Элементы добавляются и удаляются с одного конца, называемого вершиной стека.  \n",
    "***Примеры использования стека:***   \n",
    "* История браузера (возврат на предыдущие страницы).  \n",
    "* Операции отмены (Ctrl+Z) в текстовых редакторах.  \n",
    "***Основные операции:***   \n",
    "* Добавление элемента в вершину стека.  \n",
    "* Удаление элемента из вершины стека.  \n",
    "    \n",
    "В Python для реализации стека можно использовать список (list).  \n",
    "***Пример реализации стека в Python:***  \n"
   ]
  },
  {
   "cell_type": "code",
   "execution_count": null,
   "id": "30c87cb1-3f72-45a8-a57f-9d189f5b6664",
   "metadata": {},
   "outputs": [],
   "source": [
    "stack = []\n",
    "\n",
    "\n",
    "# Добавление элементов в стек\n",
    "stack.append(1)\n",
    "stack.append(2)\n",
    "stack.append(3)\n",
    "stack.append(4)\n",
    "\n",
    "\n",
    "# Удаление последнего элемента из стека\n",
    "print(stack.pop())\n",
    "# Текущий стек\n",
    "print(stack)\n",
    "# Удаление еще одного последнего элемента из стека\n",
    "print(stack.pop()) \n",
    "# Текущий стек\n",
    "print(stack)\n"
   ]
  },
  {
   "cell_type": "markdown",
   "id": "55e60f4b-9cf4-4e09-ac9c-d0a5ffb72267",
   "metadata": {},
   "source": [
    "### Очередь  \n",
    "Очередь (Queue) работает по принципу FIFO (First In, First Out), что означает «первым пришёл — первым ушёл». Элементы добавляются в один конец очереди (в хвост) и удаляются с другого конца (с головы).  \n",
    "\n",
    "***Примеры использования очереди:***  \n",
    "* Очередь задач в принтере.   \n",
    "* Обработка запросов в серверных системах.  \n",
    "***Основные операции:***  \n",
    "* Добавление элемента в конец очереди.  \n",
    "* Удаление элемента с начала очереди.  \n",
    "Для очереди рекомендуется использовать deque из модуля collections для повышения производительности.\n",
    "\n",
    "***Пример реализации очереди в Python:***   \n"
   ]
  },
  {
   "cell_type": "code",
   "execution_count": null,
   "id": "d3b6282f-db78-4078-aaab-b4f61f75e83c",
   "metadata": {},
   "outputs": [],
   "source": [
    "from collections import deque\n",
    "\n",
    "\n",
    "queue = deque()\n",
    "\n",
    "\n",
    "# Добавление элементов в очередь\n",
    "queue.append(1)\n",
    "queue.append(2)\n",
    "queue.append(3)\n",
    "queue.append(4)\n",
    "\n",
    "\n",
    "# Удаление первых элементов из очереди\n",
    "print(queue.popleft())\n",
    "print(queue.popleft())\n",
    "\n",
    "\n",
    "# Текущая очередь\n",
    "print(queue)\n"
   ]
  },
  {
   "cell_type": "markdown",
   "id": "a17c3348-89d2-42bd-a1ef-ac1424f48064",
   "metadata": {},
   "source": [
    "### Устойчивость сортировки  \n",
    "***Устойчивость сортировки*** — это свойство алгоритма сортировки сохранять относительный порядок элементов с одинаковыми значениями в исходной последовательности. Если два элемента имеют одинаковый ключ, то в устойчивой сортировке их порядок относительно друг друга остаётся таким же, как в исходных данных.\n"
   ]
  },
  {
   "cell_type": "markdown",
   "id": "25fa3b24-4505-430f-8d5a-109b84d4a903",
   "metadata": {},
   "source": [
    "***Пример устойчивости сортировки***  \n",
    "Предположим, у нас есть список строк, и мы хотим отсортировать его по длине строк:  \n",
    "`words = [\"orange\", \"mango\", \"apple\", \"banana\", \"kiwi\", \"cherry\"]`  \n",
    "\n",
    "\n",
    "Если мы используем устойчивый алгоритм сортировки, слова с одинаковой длиной сохранят свой исходный порядок:\n"
   ]
  },
  {
   "cell_type": "code",
   "execution_count": null,
   "id": "60834ef3-54e4-42ee-8ec4-19eff202b550",
   "metadata": {},
   "outputs": [],
   "source": [
    "words = [\"orange\", \"mango\", \"apple\", \"banana\", \"kiwi\", \"cherry\"]\n",
    "\n",
    "# Сортировка списка по длине строк\n",
    "sorted_words = sorted(words, key=len)\n",
    "for word in sorted_words:\n",
    "    print(f\"{len(word)}: {word}\")"
   ]
  },
  {
   "cell_type": "markdown",
   "id": "d5a4ef14-8713-4644-8d73-55b0083f3ab3",
   "metadata": {},
   "source": [
    "***Практическое применение устойчивости***  \n",
    "Устойчивость сортировки важна в ситуациях, когда нужно сохранять исходный порядок элементов с одинаковыми значениями для последующей обработки данных.   \n",
    "\n",
    "В Python функции sorted() и метод .sort() обеспечивают устойчивую сортировку.\n"
   ]
  },
  {
   "cell_type": "code",
   "execution_count": null,
   "id": "283d1c28-92bc-43c7-a0a0-6cc884eb7500",
   "metadata": {},
   "outputs": [],
   "source": [
    "#1. Какой результат будет выведен при выполнении следующего кода?\n",
    "list1 = [10, 20, 30]\n",
    "list2 = [1, 2]\n",
    "zipped = zip(list1, list2)\n",
    "print(list(zipped))\n"
   ]
  },
  {
   "cell_type": "code",
   "execution_count": null,
   "id": "8748c93f-20db-4cee-b96e-755696f21dc5",
   "metadata": {},
   "outputs": [],
   "source": [
    "#2. Какой результат будет выведен при выполнении следующего кода?\n",
    "from collections import deque\n",
    "\n",
    "\n",
    "queue = deque()\n",
    "queue.append(1)\n",
    "queue.append(2)\n",
    "queue.popleft()\n",
    "queue.append(3)\n",
    "print(queue)\n"
   ]
  },
  {
   "cell_type": "code",
   "execution_count": null,
   "id": "c32c32b2-3293-41c1-8763-dcca8563c398",
   "metadata": {},
   "outputs": [],
   "source": [
    "#3. Какой результат будет выведен при выполнении следующего кода?\n",
    "words = [\"dog\", \"bat\", \"cat\", \"apple\"]\n",
    "sorted_words = sorted(words, key=len)\n",
    "print(sorted_words)\n"
   ]
  },
  {
   "cell_type": "markdown",
   "id": "b45b82c2-b25e-43c2-a075-be524d8b14ac",
   "metadata": {},
   "source": [
    "## Практические задания  \n",
    "1. Напишите программу, которая принимает список строк и печатает новый список, в котором содержатся только строки длиной больше 3 символов в перевёрнутом виде.  \n",
    "***Данные:***  \n",
    "`words = [\"cat\", \"elephant\", \"dog\", \"bird\", \"lion\", \"ant\"]`\n",
    "\n",
    "\n",
    "***Пример вывода:***  \n",
    "Перевёрнутые слова длиной больше 3 символов: `['tnahpele', 'drib', 'noil']`\n"
   ]
  },
  {
   "cell_type": "code",
   "execution_count": null,
   "id": "bffa2505-61b9-4575-86bf-0fcb27dce25f",
   "metadata": {},
   "outputs": [],
   "source": [
    "words = [\"cat\", \"elephant\", \"dog\", \"bird\", \"lion\", \"ant\"]\n",
    "filtered_reversed_words = [word[::-1] for word in words if len(word) > 3]\n",
    "print(\"Перевёрнутые слова длиной больше 3 символов:\", filtered_reversed_words)\n"
   ]
  },
  {
   "cell_type": "markdown",
   "id": "08d2feb7-c5aa-49c8-848e-d98d9e5c5d5f",
   "metadata": {},
   "source": [
    "2. Напишите программу, которая принимает двумерный список (матрицу) и создает новый список, содержащий суммы элементов каждой строки.  \n",
    "***Данные:***  \n",
    "`matrix = [[1, 2, 3], [4, 5, 6], [7, 8, 9]]`  \n",
    "\n",
    "\n",
    "***Пример вывода:***  \n",
    "Суммы строк: `[6, 15, 24]`  \n"
   ]
  },
  {
   "cell_type": "code",
   "execution_count": null,
   "id": "d12e10dc-44fb-4fee-b844-20ba964bda03",
   "metadata": {},
   "outputs": [],
   "source": [
    "matrix = [[1, 2, 3], [4, 5, 6], [7, 8, 9]]\n",
    "row_sums = [sum(row) for row in matrix]\n",
    "print(\"Суммы строк:\", row_sums)"
   ]
  },
  {
   "cell_type": "code",
   "execution_count": null,
   "id": "ec2ce17b-bdce-44f4-84a8-63fa6ea7bbd4",
   "metadata": {},
   "outputs": [],
   "source": []
  }
 ],
 "metadata": {
  "kernelspec": {
   "display_name": "Python 3 (ipykernel)",
   "language": "python",
   "name": "python3"
  },
  "language_info": {
   "codemirror_mode": {
    "name": "ipython",
    "version": 3
   },
   "file_extension": ".py",
   "mimetype": "text/x-python",
   "name": "python",
   "nbconvert_exporter": "python",
   "pygments_lexer": "ipython3",
   "version": "3.12.4"
  }
 },
 "nbformat": 4,
 "nbformat_minor": 5
}
