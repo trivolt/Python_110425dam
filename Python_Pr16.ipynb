{
 "cells": [
  {
   "cell_type": "markdown",
   "id": "05ef3652-b585-4bfb-89b6-9a76346d822e",
   "metadata": {},
   "source": [
    "# Практические задания 16"
   ]
  },
  {
   "cell_type": "markdown",
   "id": "bda5c5a3-5cf1-4850-a4a8-1d619241b166",
   "metadata": {},
   "source": [
    "* Лекция 32 - Основы ООП\n",
    "* Лекция 33 - ООП. Наследование и полиморфизм\n"
   ]
  },
  {
   "cell_type": "markdown",
   "id": "eee92bac-f699-484e-a435-3c853e7c5a61",
   "metadata": {},
   "source": [
    "#### 1. Класс Student\n",
    "Создайте класс Student, представляющий студента.\n",
    "* У каждого объекта должно быть имя и дата рождения.\n",
    "* Дата передаётся как строка (YYYY-MM-DD) и сохраняется в виде объекта datetime.date.\n",
    "* Добавьте проверку возраста — студенту должно быть не менее 16 лет, иначе выбрасывается ValueError.\n"
   ]
  },
  {
   "cell_type": "code",
   "execution_count": null,
   "id": "b2583131-a07f-498b-8880-766eff8023d3",
   "metadata": {},
   "outputs": [],
   "source": []
  },
  {
   "cell_type": "markdown",
   "id": "de476475-4343-47b7-b893-81d7c8a3d9eb",
   "metadata": {},
   "source": [
    "#### 2. Строковое представление\n",
    "Добавьте строковое представление объекта.  \n",
    "**Пример вывода:**  \n",
    "Student: Alice, birth_date: 2007-05-10\n"
   ]
  },
  {
   "cell_type": "code",
   "execution_count": null,
   "id": "ab8b2317-7ac7-43bf-b35b-fbd4b528adb6",
   "metadata": {},
   "outputs": [],
   "source": []
  },
  {
   "cell_type": "markdown",
   "id": "dd953e8f-dfcc-45ce-99be-018310105121",
   "metadata": {},
   "source": [
    "#### 3. Возраст на конкретную дату\n",
    "Добавьте возможность получить возраст студента на переданную дату.\n"
   ]
  },
  {
   "cell_type": "code",
   "execution_count": null,
   "id": "3eb28f24-f3ae-406f-a3e7-55d5f1785bc8",
   "metadata": {},
   "outputs": [],
   "source": []
  },
  {
   "cell_type": "markdown",
   "id": "0fcad8f4-169d-451a-a9bb-545f620d7572",
   "metadata": {},
   "source": [
    "#### 4. Карточка студента\n",
    "Добавьте метод, который выводит информацию о студенте на текущий момент.  \n",
    "Возраст вычисляется автоматически на основе даты рождения.  \n",
    "**Пример вывода:**  \n",
    "Student:  \n",
    "\tName: Alice  \n",
    "\tAge: 17  \n"
   ]
  },
  {
   "cell_type": "code",
   "execution_count": null,
   "id": "8d4f60ed-f023-4936-b124-0e6e00d9bcd7",
   "metadata": {},
   "outputs": [],
   "source": []
  },
  {
   "cell_type": "markdown",
   "id": "48778a21-e697-4b9a-afdc-6c96ed584113",
   "metadata": {},
   "source": [
    "#### 5. Фильтрация студентов по возрасту\n",
    "Реализуйте способ отобрать из списка студентов только тех, кто старше определённого возраста.\n"
   ]
  },
  {
   "cell_type": "code",
   "execution_count": null,
   "id": "4d369c4d-ed9c-475f-a4fe-871b67faaf4a",
   "metadata": {},
   "outputs": [],
   "source": []
  },
  {
   "cell_type": "markdown",
   "id": "fe2e0489-5217-4ed0-b019-762511d0f70f",
   "metadata": {},
   "source": [
    "#### 6. Проверка работы класса  \n",
    "* Создайте нескольких студентов.\n",
    "* Выведите информацию о каждом.\n",
    "* Попробуйте передать некорректную дату и отловите исключение.\n",
    "* Получите список студентов старше указанного возраста.  \n",
    "**Пример вывода:**\n",
    "```\n",
    "Student:\n",
    "\tName: Alice\n",
    "\tAge: 17\n",
    "Student:\n",
    "\tName: Bob\n",
    "\tAge: 21\n",
    "```\n",
    "Students older than 18:  \n",
    "Student: Bob, birth_date: 2003-07-22  \n"
   ]
  },
  {
   "cell_type": "code",
   "execution_count": null,
   "id": "652a4862-523d-4cfe-b4c5-30aba0c21504",
   "metadata": {},
   "outputs": [],
   "source": []
  },
  {
   "cell_type": "markdown",
   "id": "803721f4-e8bb-4dee-8be8-f69b69c1f147",
   "metadata": {},
   "source": [
    "#### 7. Дочерний класс BachelorStudent  \n",
    "На основе класса Student создайте класс BachelorStudent, добавьте в него новые поля:  \n",
    "* year_of_study: текущий год обучения (например, 1-й курс, 2-й курс и т.д.).  \n",
    "* major: основная специализация или направление обучения.  \n"
   ]
  },
  {
   "cell_type": "code",
   "execution_count": null,
   "id": "0a7d0f0b-8651-44a1-abde-0ba2fffff15d",
   "metadata": {},
   "outputs": [],
   "source": []
  },
  {
   "cell_type": "markdown",
   "id": "66f06fd7-4625-4be3-abfc-eade69d49e96",
   "metadata": {},
   "source": [
    "#### 8. Дочерний класс MasterStudent\n",
    "На основе класса Student создайте класс MasterStudent, добавьте в него новые поля:\n",
    "* research_topic: тема исследования или диссертации.\n",
    "* advisor: научный руководитель.\n"
   ]
  },
  {
   "cell_type": "code",
   "execution_count": null,
   "id": "406ba4b9-6455-4fa3-9747-b8135282362a",
   "metadata": {},
   "outputs": [],
   "source": []
  },
  {
   "cell_type": "markdown",
   "id": "be9c5067-a89c-4c82-9b02-43e6e6372686",
   "metadata": {},
   "source": [
    "#### 9. Переопределение метода student_card()\n",
    "Переопределите метод student_card, чтобы включить дополнительную информацию дочерних классов.\n"
   ]
  },
  {
   "cell_type": "code",
   "execution_count": null,
   "id": "763cc260-a9c9-450e-b619-19cf75fbd401",
   "metadata": {},
   "outputs": [],
   "source": []
  },
  {
   "cell_type": "markdown",
   "id": "f7808f40-40b6-4a77-9c11-8f5c511bde89",
   "metadata": {},
   "source": [
    "#### 10. Проверка работы классов\n",
    "* Создайте нескольких студентов разных классов.  \n",
    "* Выведите информацию о каждом с указанием типа студента.\n"
   ]
  },
  {
   "cell_type": "code",
   "execution_count": null,
   "id": "3c9011fe-fff3-4cd4-a77d-a9f7d3b283b3",
   "metadata": {},
   "outputs": [],
   "source": []
  }
 ],
 "metadata": {
  "kernelspec": {
   "display_name": "Python 3 (ipykernel)",
   "language": "python",
   "name": "python3"
  },
  "language_info": {
   "codemirror_mode": {
    "name": "ipython",
    "version": 3
   },
   "file_extension": ".py",
   "mimetype": "text/x-python",
   "name": "python",
   "nbconvert_exporter": "python",
   "pygments_lexer": "ipython3",
   "version": "3.12.4"
  }
 },
 "nbformat": 4,
 "nbformat_minor": 5
}
