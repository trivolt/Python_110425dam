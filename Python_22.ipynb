{
 "cells": [
  {
   "cell_type": "markdown",
   "id": "e71a8d52-c27b-4f07-9379-297b56a782c5",
   "metadata": {},
   "source": [
    "# Lambda-функции. Функции высшего порядка"
   ]
  },
  {
   "cell_type": "markdown",
   "id": "fabbc29b-0e57-4433-82fe-db587b043c44",
   "metadata": {},
   "source": [
    "## Передача функций в качестве аргументов\n",
    "Функции в Python являются объектами, которые можно присваивать переменным, хранить в коллекциях и передавать в другие функции.  \n",
    "\n",
    "При передаче функции в качестве аргумента передаётся ***сама ссылка на функцию, а не её результат***.  \n",
    "\n",
    "Это означает, что функция не выполняется сразу, а только передаётся в другую функцию, где её можно вызвать.  \n",
    "Как это работает?  \n",
    "Когда функция передаётся в качестве аргумента:   \n",
    "* Не нужно указывать () при передаче, иначе передастся результат её выполнения.  \n",
    "* Функция может быть вызвана внутри другой функции по переданной ссылке с помощью ().\n",
    "  \n",
    "***Пример 1: Передача функции без вызова***\n"
   ]
  },
  {
   "cell_type": "code",
   "execution_count": null,
   "id": "2b41bb77-29d1-434b-8d93-56006d80dd90",
   "metadata": {},
   "outputs": [],
   "source": []
  },
  {
   "cell_type": "code",
   "execution_count": 36,
   "id": "f23c6223-ff53-4025-a638-46bd57d32595",
   "metadata": {},
   "outputs": [
    {
     "name": "stdout",
     "output_type": "stream",
     "text": [
      "25\n",
      "125\n"
     ]
    }
   ],
   "source": [
    "def square(x):\n",
    "    return x * x\n",
    "\n",
    "def cube(x):\n",
    "    return x * x * x\n",
    "\n",
    "def apply_function(func, value):\n",
    "    return func(value)  # Вызываем переданную функцию внутри другой функции\n",
    "\n",
    "result_square = apply_function(square, 5)  # Передаём функцию square без вызова (без скобок)\n",
    "result_cube = apply_function(cube, 5)  # Передаём функцию cube без вызова (без скобок)\n",
    "print(result_square)\n",
    "print(result_cube)\n"
   ]
  },
  {
   "cell_type": "code",
   "execution_count": null,
   "id": "8694fd5c-9d9c-40d5-b5ce-35d73f4a4bd7",
   "metadata": {},
   "outputs": [],
   "source": []
  },
  {
   "cell_type": "code",
   "execution_count": 37,
   "id": "e6f30533-9476-47d3-8750-8393b716754f",
   "metadata": {},
   "outputs": [
    {
     "name": "stdout",
     "output_type": "stream",
     "text": [
      "hello\n"
     ]
    }
   ],
   "source": [
    "a = print\n",
    "a('hello')"
   ]
  },
  {
   "cell_type": "code",
   "execution_count": 38,
   "id": "376e298b-e1e8-49a6-9f3c-620f58d2800a",
   "metadata": {},
   "outputs": [
    {
     "name": "stdout",
     "output_type": "stream",
     "text": [
      "sdfbg\n"
     ]
    }
   ],
   "source": [
    "print('sdfbg')"
   ]
  },
  {
   "cell_type": "code",
   "execution_count": 39,
   "id": "6a25e1bb-f08a-4db0-8490-b3805f187336",
   "metadata": {},
   "outputs": [
    {
     "data": {
      "text/plain": [
       "<function print(*args, sep=' ', end='\\n', file=None, flush=False)>"
      ]
     },
     "execution_count": 39,
     "metadata": {},
     "output_type": "execute_result"
    }
   ],
   "source": [
    "a"
   ]
  },
  {
   "cell_type": "markdown",
   "id": "9eddeaad-d7b1-4459-88fe-e0f93d6af024",
   "metadata": {},
   "source": [
    "***Пример 2: Передача встроенной функции***\n"
   ]
  },
  {
   "cell_type": "code",
   "execution_count": 40,
   "id": "214bac65-83e2-48bb-818c-dc8ed0220dc0",
   "metadata": {},
   "outputs": [
    {
     "name": "stdout",
     "output_type": "stream",
     "text": [
      "10\n",
      "3\n"
     ]
    }
   ],
   "source": [
    "# Можно передавать не только пользовательские функции, но и встроенные\n",
    "result_abs = apply_function(abs, -10)\n",
    "print(result_abs)\n",
    "result_len = apply_function(len, \"-10\")\n",
    "print(result_len)\n"
   ]
  },
  {
   "cell_type": "markdown",
   "id": "7fbda3e4-49b9-42bd-b839-2c811638f2c0",
   "metadata": {},
   "source": [
    "***Пример 3: Ошибка при передаче вызванной функции***"
   ]
  },
  {
   "cell_type": "code",
   "execution_count": 41,
   "id": "0e8a8688-5cd2-432b-a0c6-e82c7476ea90",
   "metadata": {},
   "outputs": [
    {
     "ename": "TypeError",
     "evalue": "'int' object is not callable",
     "output_type": "error",
     "traceback": [
      "\u001b[1;31m---------------------------------------------------------------------------\u001b[0m",
      "\u001b[1;31mTypeError\u001b[0m                                 Traceback (most recent call last)",
      "Cell \u001b[1;32mIn[41], line 2\u001b[0m\n\u001b[0;32m      1\u001b[0m \u001b[38;5;66;03m# Передается результат вызова функции, а не ссылка на функцию\u001b[39;00m\n\u001b[1;32m----> 2\u001b[0m result \u001b[38;5;241m=\u001b[39m apply_function(square(\u001b[38;5;241m5\u001b[39m), \u001b[38;5;241m5\u001b[39m)\n",
      "Cell \u001b[1;32mIn[36], line 8\u001b[0m, in \u001b[0;36mapply_function\u001b[1;34m(func, value)\u001b[0m\n\u001b[0;32m      7\u001b[0m \u001b[38;5;28;01mdef\u001b[39;00m \u001b[38;5;21mapply_function\u001b[39m(func, value):\n\u001b[1;32m----> 8\u001b[0m     \u001b[38;5;28;01mreturn\u001b[39;00m func(value)\n",
      "\u001b[1;31mTypeError\u001b[0m: 'int' object is not callable"
     ]
    }
   ],
   "source": [
    "# Передается результат вызова функции, а не ссылка на функцию\n",
    "result = apply_function(square(5), 5)  # Ошибка!"
   ]
  },
  {
   "cell_type": "markdown",
   "id": "e5b469f1-6e06-46db-bdb9-2c5620d69880",
   "metadata": {},
   "source": [
    "***Пример 4: Хранение функций в коллекциях***"
   ]
  },
  {
   "cell_type": "code",
   "execution_count": null,
   "id": "32f191cf-a8d3-4615-9076-33c7aa0e0ac1",
   "metadata": {},
   "outputs": [],
   "source": [
    "def add(x, y):\n",
    "    return x + y\n",
    "\n",
    "def multiply(x, y):\n",
    "    return x * y"
   ]
  },
  {
   "cell_type": "code",
   "execution_count": 2,
   "id": "fad0f8bf-da50-49b5-8df9-de231f7abcc3",
   "metadata": {},
   "outputs": [
    {
     "name": "stdin",
     "output_type": "stream",
     "text": [
      "Выберите операцию (+, *):  +\n"
     ]
    },
    {
     "name": "stdout",
     "output_type": "stream",
     "text": [
      "15\n"
     ]
    }
   ],
   "source": [
    "# Функции можно хранить в списках, словарях и передавать их динамически\n",
    "operations = {\n",
    "    \"+\": add,\n",
    "    \"*\": multiply\n",
    "}\n",
    "\n",
    "choice = input(\"Выберите операцию (+, *): \")\n",
    "# Из словаря получена функция и скобки с аргументами запускают её\n",
    "print(operations[choice](10, 5)) #operations['+'] -> add(3,4)"
   ]
  },
  {
   "cell_type": "code",
   "execution_count": 3,
   "id": "cf0736e4-3123-4d5b-b82a-067d41f56e78",
   "metadata": {},
   "outputs": [
    {
     "data": {
      "text/plain": [
       "5"
      ]
     },
     "execution_count": 3,
     "metadata": {},
     "output_type": "execute_result"
    }
   ],
   "source": [
    "add(2,3)"
   ]
  },
  {
   "cell_type": "markdown",
   "id": "20df997a-dbf2-4431-be80-d0700bbe3796",
   "metadata": {},
   "source": [
    "## Lambda-функции  \n",
    "Lambda-функция (или анонимная функция) — это небольшая, одноразовая функция, которая не требует явного объявления с def. Она используется для краткой записи простых операций и могут быть переданы как аргумент в другие функции.  \n",
    "\n",
    "*Синтаксис:*   \n",
    "`lambda arguments: expression`  \n",
    "\n",
    "* lambda — ключевое слово для создания анонимной функции.  \n",
    "* arguments — параметры, которые принимает функция.  \n",
    "* expression — выражение, результат которого возвращается (без return).  "
   ]
  },
  {
   "cell_type": "markdown",
   "id": "8e824f28-9bcd-44f9-915e-d1ec309aba1c",
   "metadata": {},
   "source": [
    "#### Примеры:\n",
    "Lambda-функцию можно присвоить переменной, что на практике не используется.  \n",
    "\n",
    "***1. Lambda с одним аргументом***\n"
   ]
  },
  {
   "cell_type": "code",
   "execution_count": 6,
   "id": "e4951a69-3837-40e4-b2c1-f068610a18a2",
   "metadata": {},
   "outputs": [
    {
     "name": "stdout",
     "output_type": "stream",
     "text": [
      "16\n",
      "25\n"
     ]
    }
   ],
   "source": [
    "# Функция принимает число x и возвращает его квадрат\n",
    "square1 = lambda x: x ** 2\n",
    "print(square1(4))\n",
    "print(square1(5))"
   ]
  },
  {
   "cell_type": "code",
   "execution_count": 7,
   "id": "408b1191-5510-4803-bb6a-494609e4e955",
   "metadata": {},
   "outputs": [
    {
     "name": "stdout",
     "output_type": "stream",
     "text": [
      "16\n",
      "25\n"
     ]
    }
   ],
   "source": [
    "# Аналог с def\n",
    "def square(x):\n",
    "    return x ** 2\n",
    "    \n",
    "print(square(4))\n",
    "print(square(5))"
   ]
  },
  {
   "cell_type": "code",
   "execution_count": 8,
   "id": "a87ae5d4-4cf0-4d76-9d2b-abcabd25e4de",
   "metadata": {},
   "outputs": [
    {
     "data": {
      "text/plain": [
       "100"
      ]
     },
     "execution_count": 8,
     "metadata": {},
     "output_type": "execute_result"
    }
   ],
   "source": [
    "square1(10)"
   ]
  },
  {
   "cell_type": "code",
   "execution_count": 9,
   "id": "91d8d645-dd51-47fa-892a-f78e5aa69feb",
   "metadata": {},
   "outputs": [
    {
     "data": {
      "text/plain": [
       "400"
      ]
     },
     "execution_count": 9,
     "metadata": {},
     "output_type": "execute_result"
    }
   ],
   "source": [
    "square(20)"
   ]
  },
  {
   "cell_type": "code",
   "execution_count": null,
   "id": "e2eb44a0-3af5-4510-86eb-0f50355ae791",
   "metadata": {},
   "outputs": [],
   "source": [
    "#Обычная функция"
   ]
  },
  {
   "cell_type": "code",
   "execution_count": 7,
   "id": "3e34dd7e-46fc-42c8-b978-66f4ced292ae",
   "metadata": {},
   "outputs": [],
   "source": [
    "def converter(euro):\n",
    "    return f'Курс евро {euro} в долларах {0.8*euro}'"
   ]
  },
  {
   "cell_type": "code",
   "execution_count": 8,
   "id": "291b7561-8618-4281-a275-675042f03030",
   "metadata": {},
   "outputs": [
    {
     "data": {
      "text/plain": [
       "'Курс евро 123 в долларах 98.4'"
      ]
     },
     "execution_count": 8,
     "metadata": {},
     "output_type": "execute_result"
    }
   ],
   "source": [
    "converter(123)"
   ]
  },
  {
   "cell_type": "code",
   "execution_count": 9,
   "id": "0fd46b2b-6e5d-4e17-a633-25838cbdd4fb",
   "metadata": {},
   "outputs": [],
   "source": [
    "# Лямбда фугкция\n",
    "converter = lambda euro: f'Курс евро {euro} в долларах {0.8*euro}'"
   ]
  },
  {
   "cell_type": "code",
   "execution_count": 10,
   "id": "c59ec833-8dde-4d97-8a95-ba094634a5fb",
   "metadata": {},
   "outputs": [
    {
     "data": {
      "text/plain": [
       "'Курс евро 123 в долларах 98.4'"
      ]
     },
     "execution_count": 10,
     "metadata": {},
     "output_type": "execute_result"
    }
   ],
   "source": [
    "converter(123)"
   ]
  },
  {
   "cell_type": "code",
   "execution_count": null,
   "id": "57253b7e-f8da-43fe-9974-a650d9ca8233",
   "metadata": {},
   "outputs": [],
   "source": []
  },
  {
   "cell_type": "markdown",
   "id": "7b7e6f7e-7705-400c-b918-4f5bae95677c",
   "metadata": {},
   "source": [
    "***2. Lambda с несколькими аргументами***"
   ]
  },
  {
   "cell_type": "code",
   "execution_count": 10,
   "id": "2b01e068-0e44-428d-be82-0c017f0d4cbe",
   "metadata": {},
   "outputs": [
    {
     "name": "stdout",
     "output_type": "stream",
     "text": [
      "8\n",
      "17\n"
     ]
    }
   ],
   "source": [
    "# Функция принимает два аргумента и возвращает их сумму\n",
    "add = lambda x, y: x + y\n",
    "print(add(3, 5))\n",
    "print(add(8, 9))"
   ]
  },
  {
   "cell_type": "code",
   "execution_count": 11,
   "id": "87fbd8ed-8858-466e-b959-6e18f1c7fbca",
   "metadata": {},
   "outputs": [
    {
     "name": "stdout",
     "output_type": "stream",
     "text": [
      "8\n",
      "17\n"
     ]
    }
   ],
   "source": [
    "# Аналог с def\n",
    "def add(x, y):\n",
    "    return x + y\n",
    "    \n",
    "print(add(3, 5))\n",
    "print(add(8, 9))"
   ]
  },
  {
   "cell_type": "markdown",
   "id": "00b2a40c-7b75-47a9-8423-cd4900293324",
   "metadata": {},
   "source": [
    "***3. Lambda как аргументы других функций:*** lambda-функции можно передавать как аргументы в другие функции, не создавая отдельные именованные функции.\n"
   ]
  },
  {
   "cell_type": "code",
   "execution_count": 12,
   "id": "9d7c0cca-a834-4d53-a1ee-6c767b3ef181",
   "metadata": {},
   "outputs": [
    {
     "name": "stdout",
     "output_type": "stream",
     "text": [
      "[15, 18, 13]\n"
     ]
    }
   ],
   "source": [
    "def apply_func(func, numbers):\n",
    "    return [func(num) for num in numbers]\n",
    "\n",
    "result = apply_func(lambda x: x + 10, [5, 8, 3])\n",
    "print(result)\n"
   ]
  },
  {
   "cell_type": "code",
   "execution_count": 14,
   "id": "4d926887-c560-4253-87af-1de14532e751",
   "metadata": {},
   "outputs": [
    {
     "name": "stdout",
     "output_type": "stream",
     "text": [
      "[1, 1, 2]\n"
     ]
    }
   ],
   "source": [
    "def apply_func(func, numbers):\n",
    "    return [func(str(num)) for num in numbers]\n",
    "\n",
    "result = apply_func(len, [5, 8, 13])\n",
    "print(result)"
   ]
  },
  {
   "cell_type": "markdown",
   "id": "dd59d5b6-9987-4253-a995-3e668584f423",
   "metadata": {},
   "source": [
    "### Особенности lambda-функций\n",
    "* Lambda-функция всегда возвращает результат выражения.\n",
    "* Lambda может содержать только одно выражение.\n",
    "* Нет многострочных блоков кода (if, for и т. д.).\n"
   ]
  },
  {
   "cell_type": "markdown",
   "id": "81531c45-0bb7-4366-863b-20e0154d64a4",
   "metadata": {},
   "source": [
    "### Задания для закрепления\n",
    "***Исправьте ошибку в коде.***"
   ]
  },
  {
   "cell_type": "code",
   "execution_count": 15,
   "id": "ce10c9e8-5810-4615-a1a1-b03da270cac0",
   "metadata": {},
   "outputs": [
    {
     "ename": "TypeError",
     "evalue": "'dict' object is not callable",
     "output_type": "error",
     "traceback": [
      "\u001b[1;31m---------------------------------------------------------------------------\u001b[0m",
      "\u001b[1;31mTypeError\u001b[0m                                 Traceback (most recent call last)",
      "Cell \u001b[1;32mIn[15], line 6\u001b[0m\n\u001b[0;32m      1\u001b[0m operations \u001b[38;5;241m=\u001b[39m {\n\u001b[0;32m      2\u001b[0m     \u001b[38;5;124m\"\u001b[39m\u001b[38;5;124msum\u001b[39m\u001b[38;5;124m\"\u001b[39m: \u001b[38;5;28;01mlambda\u001b[39;00m x, y: x \u001b[38;5;241m+\u001b[39m y,\n\u001b[0;32m      3\u001b[0m     \u001b[38;5;124m\"\u001b[39m\u001b[38;5;124mmul\u001b[39m\u001b[38;5;124m\"\u001b[39m: \u001b[38;5;28;01mlambda\u001b[39;00m x, y: x \u001b[38;5;241m*\u001b[39m y\n\u001b[0;32m      4\u001b[0m }\n\u001b[1;32m----> 6\u001b[0m \u001b[38;5;28mprint\u001b[39m(operations(\u001b[38;5;124m\"\u001b[39m\u001b[38;5;124msum\u001b[39m\u001b[38;5;124m\"\u001b[39m)(\u001b[38;5;241m2\u001b[39m, \u001b[38;5;241m3\u001b[39m))\n\u001b[0;32m      7\u001b[0m \u001b[38;5;28mprint\u001b[39m(operations(\u001b[38;5;124m\"\u001b[39m\u001b[38;5;124mmul\u001b[39m\u001b[38;5;124m\"\u001b[39m)(\u001b[38;5;241m2\u001b[39m, \u001b[38;5;241m3\u001b[39m))\n",
      "\u001b[1;31mTypeError\u001b[0m: 'dict' object is not callable"
     ]
    }
   ],
   "source": [
    "operations = {\n",
    "    \"sum\": lambda x, y: x + y,\n",
    "    \"mul\": lambda x, y: x * y\n",
    "}\n",
    "\n",
    "print(operations(\"sum\")(2, 3))\n",
    "print(operations(\"mul\")(2, 3))\n"
   ]
  },
  {
   "cell_type": "code",
   "execution_count": 16,
   "id": "75b89629-95e1-4c4d-bca1-791974fd8d67",
   "metadata": {},
   "outputs": [
    {
     "name": "stdout",
     "output_type": "stream",
     "text": [
      "5\n",
      "6\n"
     ]
    }
   ],
   "source": [
    "operations = {\n",
    "    \"sum\": lambda x, y: x + y,\n",
    "    \"mul\": lambda x, y: x * y\n",
    "}\n",
    "\n",
    "print(operations[\"sum\"](2, 3))\n",
    "print(operations[\"mul\"](2, 3))"
   ]
  },
  {
   "cell_type": "code",
   "execution_count": 18,
   "id": "d4963570-ce94-42ba-8f0b-4884d1febe64",
   "metadata": {},
   "outputs": [
    {
     "name": "stdout",
     "output_type": "stream",
     "text": [
      "9\n",
      "6\n",
      "0.6666666666666666\n",
      "3.605551275463989\n"
     ]
    }
   ],
   "source": [
    "operations = {\n",
    "    \"sum\": lambda x, y, z: x + y + z,\n",
    "    \"mul\": lambda x, y: x * y,\n",
    "    'div': lambda x, y: x / y,\n",
    "    'gipot': lambda x, y: (x**2 + y**2)**0.5\n",
    "}\n",
    "\n",
    "print(operations[\"sum\"](2, 3, 4))\n",
    "print(operations[\"mul\"](2, 3))\n",
    "print(operations['div'](2, 3))\n",
    "print(operations['gipot'](2, 3))\n",
    "      "
   ]
  },
  {
   "cell_type": "markdown",
   "id": "5a3fe16e-80dd-49af-bd28-6ec77447bdc8",
   "metadata": {},
   "source": [
    "***Объясните что происходит при выполнении следующего кода. Произойдет ли ошибка?***\n"
   ]
  },
  {
   "cell_type": "code",
   "execution_count": 19,
   "id": "6ce20bf2-ec3f-4bf9-b698-c17e9ebb7b52",
   "metadata": {},
   "outputs": [
    {
     "data": {
      "text/plain": [
       "5"
      ]
     },
     "execution_count": 19,
     "metadata": {},
     "output_type": "execute_result"
    }
   ],
   "source": [
    "add(2,3)"
   ]
  },
  {
   "cell_type": "code",
   "execution_count": 20,
   "id": "eb21a91f-fece-460f-a479-52596254ea5b",
   "metadata": {},
   "outputs": [
    {
     "name": "stdout",
     "output_type": "stream",
     "text": [
      "7\n"
     ]
    }
   ],
   "source": [
    "def add(x, y):\n",
    "    return x + y\n",
    "\n",
    "print((lambda f, a, b: f(a, b))(add, 3, 4))"
   ]
  },
  {
   "cell_type": "code",
   "execution_count": 21,
   "id": "366ed042-9976-4bab-801c-9bddff7cde5d",
   "metadata": {},
   "outputs": [
    {
     "name": "stdout",
     "output_type": "stream",
     "text": [
      "7\n"
     ]
    }
   ],
   "source": [
    "def add(x, y):\n",
    "    return x + y\n",
    "\n",
    "foo = lambda f, a, b: f(a, b)\n",
    "print(foo(add, 3, 4))"
   ]
  },
  {
   "cell_type": "code",
   "execution_count": 6,
   "id": "081bdd71-fdf5-4c36-9803-6ceb4f9303be",
   "metadata": {},
   "outputs": [
    {
     "name": "stdout",
     "output_type": "stream",
     "text": [
      "7\n"
     ]
    }
   ],
   "source": [
    "def add(x, y):\n",
    "    return x + y\n",
    "\n",
    "def foo(f,a,b):\n",
    "    return f(a, b)\n",
    "\n",
    "\n",
    "print(foo(add, 3, 4))"
   ]
  },
  {
   "cell_type": "code",
   "execution_count": null,
   "id": "dfa2fdd5-e380-4c74-bc14-456488af438b",
   "metadata": {},
   "outputs": [],
   "source": []
  },
  {
   "cell_type": "code",
   "execution_count": null,
   "id": "236f349f-d23b-4f85-8f20-0a1a511d64a9",
   "metadata": {},
   "outputs": [],
   "source": []
  },
  {
   "cell_type": "code",
   "execution_count": null,
   "id": "a52f5858-31e3-4ec5-b5b5-d7823428a1c6",
   "metadata": {},
   "outputs": [],
   "source": []
  },
  {
   "cell_type": "code",
   "execution_count": 4,
   "id": "31683a3d-84bf-4644-bb47-7671ee0fa458",
   "metadata": {},
   "outputs": [],
   "source": [
    "def add(x, y):\n",
    "    return x + y"
   ]
  },
  {
   "cell_type": "code",
   "execution_count": 5,
   "id": "f6bb53ac-5c17-4a9d-8086-7f7d6536c63d",
   "metadata": {},
   "outputs": [],
   "source": [
    "foo = lambda f, a, b: f(a, b)"
   ]
  },
  {
   "cell_type": "code",
   "execution_count": 7,
   "id": "9cc1ce61-fed1-4a87-8f90-87b87d8acd43",
   "metadata": {},
   "outputs": [
    {
     "name": "stdout",
     "output_type": "stream",
     "text": [
      "7\n"
     ]
    }
   ],
   "source": [
    "print(foo(add, 3, 4))"
   ]
  },
  {
   "cell_type": "code",
   "execution_count": 14,
   "id": "b1f3fdf3-91f0-4d99-927a-60fd2e82afb8",
   "metadata": {},
   "outputs": [
    {
     "name": "stdout",
     "output_type": "stream",
     "text": [
      "81.0\n"
     ]
    }
   ],
   "source": [
    "print(foo(math.pow, 3, 4))"
   ]
  },
  {
   "cell_type": "code",
   "execution_count": 11,
   "id": "3ae36dd6-351b-40cd-946e-eb3388808023",
   "metadata": {},
   "outputs": [
    {
     "data": {
      "text/plain": [
       "12"
      ]
     },
     "execution_count": 11,
     "metadata": {},
     "output_type": "execute_result"
    }
   ],
   "source": [
    "sum([3,4,5])"
   ]
  },
  {
   "cell_type": "code",
   "execution_count": 17,
   "id": "c8bb5b66-594b-49a1-97df-f26fa0e95f71",
   "metadata": {},
   "outputs": [],
   "source": [
    "def foo(f,a,b):\n",
    "    return f(a, b)\n"
   ]
  },
  {
   "cell_type": "code",
   "execution_count": 18,
   "id": "00f0c05b-190d-47c5-a528-235a45a3be48",
   "metadata": {},
   "outputs": [
    {
     "data": {
      "text/plain": [
       "3.24"
      ]
     },
     "execution_count": 18,
     "metadata": {},
     "output_type": "execute_result"
    }
   ],
   "source": [
    "foo(round, 3.2364, 2)"
   ]
  },
  {
   "cell_type": "code",
   "execution_count": null,
   "id": "037cb873-c2b3-43cd-82cd-0be9c52d0487",
   "metadata": {},
   "outputs": [],
   "source": []
  },
  {
   "cell_type": "code",
   "execution_count": 20,
   "id": "681f01bc-e8a8-4aed-9c1e-b3f04ffdaa8f",
   "metadata": {},
   "outputs": [
    {
     "name": "stdout",
     "output_type": "stream",
     "text": [
      "7\n"
     ]
    }
   ],
   "source": [
    "print((lambda f, a, b: f(a, b))(add, 3, 4))"
   ]
  },
  {
   "cell_type": "code",
   "execution_count": 12,
   "id": "9995e589-e216-4111-8e2f-cbe2f5585ee7",
   "metadata": {},
   "outputs": [],
   "source": [
    "import math\n"
   ]
  },
  {
   "cell_type": "code",
   "execution_count": 13,
   "id": "6b8be4f1-8fa0-4067-a9d1-3fa5ea093a4c",
   "metadata": {},
   "outputs": [
    {
     "data": {
      "text/plain": [
       "8.0"
      ]
     },
     "execution_count": 13,
     "metadata": {},
     "output_type": "execute_result"
    }
   ],
   "source": [
    "math.pow(2,3)"
   ]
  },
  {
   "cell_type": "markdown",
   "id": "16d4ef62-474f-4b04-b5f4-8ad931e92fe3",
   "metadata": {},
   "source": [
    "***Можно ли передавать встроенные функции Python в качестве аргументов другим функциям?***\n"
   ]
  },
  {
   "cell_type": "markdown",
   "id": "42adf0dd-e3fe-4e7c-ae58-7eab358855a8",
   "metadata": {},
   "source": [
    "# Парадигмы программирования  \n",
    "***Парадигма программирования*** — это стиль написания и организации кода, который определяет способы решения задач в программировании. Различные парадигмы предлагают разные подходы к структурированию кода, обработке данных и управлению потоком выполнения программы.\n",
    "### Основные парадигмы программирования  \n",
    "1. Императивное программирование  \n",
    "* Описывает последовательность команд, которые изменяют состояние программы.\n",
    "* Код состоит из инструкций, выполняемых шаг за шагом.  \n",
    "* Пример языков: Python, C, Java.  \n",
    "2. Процедурное программирование (подтип императивного)  \n",
    "* Код организован в функции (процедуры), каждая из которых выполняет определённую задачу.\n",
    "* Используется разделение программы на логические блоки для повторного использования.\n",
    "* Пример: Python, Pascal, C.  \n",
    "3. Объектно-ориентированное программирование (ООП)  \n",
    "* Основной концепцией является объект, который объединяет данные и методы для их обработки.\n",
    "* Код организуется в классы и объекты, позволяя моделировать реальные сущности.\n",
    "* Пример: Python, Java, C++.\n",
    "4. Функциональное программирование\n",
    "* Основано на функциях высшего порядка, чистых функциях и отсутствии изменения состояния.\n",
    "* Предпочитает использование неизменяемых данных и рекурсии вместо циклов.\n",
    "* Пример: Haskell, Lisp, Python.\n",
    "5. Декларативное программирование\n",
    "* Описывает что должно быть сделано, а не как.\n",
    "* Включает функциональное программирование, а также языки разметки (SQL, HTML).\n",
    "* Пример: SQL, Prolog, Haskell.  \n",
    "\n",
    "Современные языки программирования, такие как Python, поддерживают несколько парадигм, позволяя использовать гибридные подходы. Например, в Python можно писать как в процедурном стиле, так и использовать ООП и функциональные концепции. Выбор парадигмы зависит от задачи, удобства и требований проекта.\n"
   ]
  },
  {
   "cell_type": "markdown",
   "id": "38b383f1-f1c7-4766-b8a9-2f796b663d50",
   "metadata": {},
   "source": [
    "# Функциональное программирование  \n",
    "***Функциональное программирование (Functional Programming)*** — это парадигма программирования, в которой основной единицей организации кода являются функции. Программы строятся из чистых функций, которые принимают аргументы и возвращают результат, не изменяя состояние программы.\n",
    "### Основные принципы функционального программирования\n",
    "1. ***Чистые функции***\n",
    "* Функция всегда возвращает один и тот же результат при одинаковых входных данных.\n",
    "* Не изменяет внешние переменные (отсутствуют побочные эффекты).\n",
    "2. ***Неизменяемость данных***\n",
    "* Данные не изменяются, вместо этого создаются новые объекты.\n",
    "* Изменяемость приводит к непредсказуемому поведению.\n",
    "3. ***Функции как объекты***\n",
    "* Функции можно передавать в другие функции, возвращать из функций, хранить в переменных.\n",
    "* Это позволяет использовать функции высшего порядка.\n",
    "4. ***Функции высшего порядка***\n",
    "* Функции, которые принимают другие функции в качестве аргументов или возвращают их.\n",
    "5. ***Рекурсия вместо циклов***\n",
    "* Функциональные языки программирования часто используют рекурсию вместо циклов.\n"
   ]
  },
  {
   "cell_type": "markdown",
   "id": "15b91187-1ae6-4908-8e9a-628d23e4e36c",
   "metadata": {},
   "source": [
    "## Функции высшего порядка\n",
    "***Функции высшего порядка*** — это функции, которые могут принимать другие функции в качестве аргументов и/или возвращать функции в качестве результата.\n",
    "### Признаки функций высшего порядка:\n",
    "1. ***Принимают функции в качестве аргументов***:\n",
    "   * Функция передаётся как параметр и используется внутри.\n",
    "2. ***Возвращают функции как результат***:\n",
    "   * Функция создаётся и возвращается другой функцией.\n",
    "### Часто используемые функции высшего порядка:  \n",
    "   * Встроенные функции высшего порядка: map(), filter(), reduce().\n",
    "   * Использование sorted() с ключом сортировки.\n"
   ]
  },
  {
   "cell_type": "markdown",
   "id": "921f3071-d344-447d-94e8-17f2f20f9dc1",
   "metadata": {},
   "source": [
    "# Функции map, filter, reduce\n",
    "Это функции высшего порядка, которые принимают другую функцию в качестве аргумента и применяют её к элементам переданного итерируемого объекта.\n",
    "### Функция map  \n",
    "`map()` — функция, которая применяет переданную функцию к каждому элементу одного или нескольких итерируемых объектов и возвращает итератор (итерируемый объект) с результатами.  \n",
    "***Особенности:***  \n",
    "Используется для преобразования данных.  \n",
    "Результат нужно преобразовать в список или другой итерируемый объект, чтобы увидеть значения.  \n",
    "***Синтаксис:***  \n",
    "`map(function, iterable)`\n",
    "\n",
    "* function — функция, применяемая к каждому элементу итерируемого объекта.\n",
    "* iterable — итерируемый объект (список, кортеж, строка и т.д.).\n"
   ]
  },
  {
   "cell_type": "code",
   "execution_count": 23,
   "id": "3f140dc9-1793-489b-93b2-658aeb909ace",
   "metadata": {},
   "outputs": [
    {
     "ename": "TypeError",
     "evalue": "int() argument must be a string, a bytes-like object or a real number, not 'list'",
     "output_type": "error",
     "traceback": [
      "\u001b[1;31m---------------------------------------------------------------------------\u001b[0m",
      "\u001b[1;31mTypeError\u001b[0m                                 Traceback (most recent call last)",
      "Cell \u001b[1;32mIn[23], line 2\u001b[0m\n\u001b[0;32m      1\u001b[0m num \u001b[38;5;241m=\u001b[39m \u001b[38;5;124m'\u001b[39m\u001b[38;5;124m1 2 3 4 5\u001b[39m\u001b[38;5;124m'\u001b[39m\u001b[38;5;241m.\u001b[39msplit()\n\u001b[1;32m----> 2\u001b[0m \u001b[38;5;28mprint\u001b[39m(\u001b[38;5;28mint\u001b[39m(num))\n",
      "\u001b[1;31mTypeError\u001b[0m: int() argument must be a string, a bytes-like object or a real number, not 'list'"
     ]
    }
   ],
   "source": [
    "num = '1 2 3 4 5'.split()\n",
    "print(int(num))"
   ]
  },
  {
   "cell_type": "code",
   "execution_count": 1,
   "id": "d45dae87-c8b8-499c-a7c8-4fe836de45ad",
   "metadata": {},
   "outputs": [
    {
     "name": "stdin",
     "output_type": "stream",
     "text": [
      " 1 2 3 4 5\n"
     ]
    },
    {
     "name": "stdout",
     "output_type": "stream",
     "text": [
      "[1, 2, 3, 4, 5]\n"
     ]
    }
   ],
   "source": [
    "# функциональный стиль\n",
    "numbers = input() #'1 2 3 4 5'\n",
    "print(list(map(int,numbers.split())))"
   ]
  },
  {
   "cell_type": "code",
   "execution_count": null,
   "id": "d18eb51d-77c4-4675-8fbc-e78c979a64c0",
   "metadata": {},
   "outputs": [],
   "source": [
    "# императивный стиль\n",
    "numbers = input() #'1 2 3 4 5'\n",
    "lst_numbers = numbers.split()\n",
    "result = []\n",
    "for item in lst_numbers:\n",
    "    result.append(int(item))\n",
    "print(result)"
   ]
  },
  {
   "cell_type": "code",
   "execution_count": null,
   "id": "b5832926-8ecb-4d32-b26f-be90439f3de7",
   "metadata": {},
   "outputs": [],
   "source": []
  },
  {
   "cell_type": "code",
   "execution_count": 2,
   "id": "91bafea0-8ecc-4b99-9582-b93457adf2c4",
   "metadata": {},
   "outputs": [
    {
     "name": "stdout",
     "output_type": "stream",
     "text": [
      "<map object at 0x0000023C8A6894B0>\n",
      "[1, 4, 9, 16]\n",
      "[1, 2, 3, 4]\n"
     ]
    }
   ],
   "source": [
    "#Пример с одним объектом:\n",
    "numbers = [1, 2, 3, 4]\n",
    "# Каждый элемент списка возводится в квадрат \n",
    "# Результат сохраняется в новой коллекции\n",
    "squared = map(lambda x: x ** 2, numbers)\n",
    "print(squared)\n",
    "print(list(squared))\n",
    "# Исходная коллекция осталась без изменений\n",
    "print(numbers)\n"
   ]
  },
  {
   "cell_type": "code",
   "execution_count": 3,
   "id": "4a545f3e-4b21-4877-834d-729c3192b074",
   "metadata": {},
   "outputs": [
    {
     "name": "stdout",
     "output_type": "stream",
     "text": [
      "<map object at 0x0000023C8A68AAA0>\n",
      "[5, 7, 9]\n"
     ]
    }
   ],
   "source": [
    "#Пример с несколькими объектами:\n",
    "a = [1, 2, 3]\n",
    "b = [4, 5, 6]\n",
    "\n",
    "# Каждая пара элементов (по индексу) списков суммируется\n",
    "result = map(lambda x, y: x + y, a, b)\n",
    "print(result)\n",
    "print(list(result))\n"
   ]
  },
  {
   "cell_type": "code",
   "execution_count": 4,
   "id": "93a9dd0c-acfc-4d07-aafa-e48aee618778",
   "metadata": {},
   "outputs": [
    {
     "name": "stdout",
     "output_type": "stream",
     "text": [
      "<map object at 0x0000023C8A68AE00>\n",
      "[6, 15, 24]\n"
     ]
    }
   ],
   "source": [
    "#Пример со встроенными функциями:\n",
    "group_numbers = [(1, 2, 3), (4, 5, 6), (7, 8, 9)]\n",
    "\n",
    "# К каждому кортежу применяется функция sum\n",
    "result = map(sum, group_numbers)\n",
    "print(result)\n",
    "print(list(result))\n"
   ]
  },
  {
   "cell_type": "markdown",
   "id": "b9f108ec-18e0-4ce8-b0bb-d17662505dae",
   "metadata": {},
   "source": [
    "# Функция filter\n",
    "`filter()` — функция, используемая для фильтрации элементов итерируемого объекта, возвращая только те, для которых переданная функция-предикат возвращает True.   \n",
    "***Особенности:***   \n",
    "* Используется для отбора нужных элементов, соответствующих условию.  \n",
    "* Если вместо функции передать None, будут выбраны только элементы, которые оцениваются как True.  \n",
    "* Результат нужно преобразовать в список или другой итерируемый объект, чтобы увидеть значения.  \n",
    "***Синтаксис:***   \n",
    "`filter(function, iterable)`  \n",
    "\n",
    "* function — функция-предикат, определяющая условие для фильтрации.\n",
    "* iterable — итерируемый объект.\n"
   ]
  },
  {
   "cell_type": "code",
   "execution_count": 21,
   "id": "d1d1824e-5dcc-4a0e-90b4-f00e838e4eda",
   "metadata": {},
   "outputs": [
    {
     "name": "stdout",
     "output_type": "stream",
     "text": [
      "<filter object at 0x000001DC94AB26E0>\n",
      "[2, 4, 10]\n"
     ]
    }
   ],
   "source": [
    "#Пример с функцией предикатом:\n",
    "numbers = [1, 2, 4, 5, 7, 9, 10, 11]\n",
    "# Из списка выбираются только чётные числа\n",
    "even_numbers = filter(lambda x: x % 2 == 0, numbers)\n",
    "print(even_numbers)\n",
    "print(list(even_numbers))\n"
   ]
  },
  {
   "cell_type": "code",
   "execution_count": null,
   "id": "d098ca9e-ccdf-4cf3-92a0-73e0f64ce28f",
   "metadata": {},
   "outputs": [],
   "source": [
    "#Пример с None:\n",
    "data = [0, 1, False, True, '', 'Python', [], [1, 2, 3]]\n",
    "# Из списка выбираются только те элементы, которые оцениваются как True\n",
    "true_list = filter(None, data)\n",
    "print(true_list)\n",
    "print(list(true_list))\n"
   ]
  },
  {
   "cell_type": "markdown",
   "id": "1938ccf1-b269-49d2-a758-2d62487973dd",
   "metadata": {},
   "source": [
    "# Функция reduce   \n",
    "`reduce()` — функцию, последовательно применяющая переданную функцию к элементам итерируемого объекта с накоплением результата, сводя его к одному значению. Эта не встроенная функция Python и находится в модуле functools.   \n",
    "***Особенности:***\n",
    "* Используется для агрегации данных (например, суммы или произведения).\n",
    "* Работает с парой элементов, начиная с первых двух, и продолжает с результатом и каждым следующим значением.\n",
    "  \n",
    "***Синтаксис:***  \n",
    "`from functools import reduce`   \n",
    "`reduce(function, iterable, initializer)`\n",
    "\n",
    "* function — функция, принимающая два аргумента и возвращающая один результат.\n",
    "* iterable — итерируемый объект.\n",
    "* initializer (необязательно) — начальное значение для накопления результата.\n"
   ]
  },
  {
   "cell_type": "code",
   "execution_count": 22,
   "id": "bf39b819-7197-467d-85f4-c01f6bc518e0",
   "metadata": {},
   "outputs": [
    {
     "name": "stdout",
     "output_type": "stream",
     "text": [
      "24\n"
     ]
    }
   ],
   "source": [
    "from functools import reduce\n",
    "\n",
    "numbers = [1, 2, 3, 4]\n",
    "# Умножение всех элементов списка последовательно\n",
    "result = reduce(lambda x, y: x * y, numbers)\n",
    "print(result)\n"
   ]
  },
  {
   "cell_type": "code",
   "execution_count": 23,
   "id": "2e32f1c6-a0af-46a2-b3ad-305447ab347d",
   "metadata": {},
   "outputs": [
    {
     "name": "stdout",
     "output_type": "stream",
     "text": [
      "10\n"
     ]
    }
   ],
   "source": [
    "from functools import reduce\n",
    "\n",
    "numbers = [1, 2, 3, 4]\n",
    "# Умножение всех элементов списка последовательно\n",
    "result = reduce(lambda x, y: x + y, numbers)\n",
    "print(result)\n"
   ]
  },
  {
   "cell_type": "code",
   "execution_count": 24,
   "id": "5ce4e0a7-8b68-47e5-aca2-2db3267a2c87",
   "metadata": {},
   "outputs": [
    {
     "name": "stdout",
     "output_type": "stream",
     "text": [
      "240\n"
     ]
    }
   ],
   "source": [
    "#Пример с initializer:\n",
    "from functools import reduce\n",
    "\n",
    "numbers = [1, 2, 3, 4]\n",
    "# Умножение всех элементов списка последовательно, начиная с заданного значения\n",
    "result = reduce(lambda x, y: x * y, numbers, 10)\n",
    "print(result)\n"
   ]
  },
  {
   "cell_type": "markdown",
   "id": "94ee23d7-80a6-4b2b-a4f8-39860996ab35",
   "metadata": {},
   "source": [
    "### Сравнение функций"
   ]
  },
  {
   "attachments": {
    "a634ed45-30dc-4ae4-82f6-bdd313e620a4.png": {
     "image/png": "[encoded data removed]"
    }
   },
   "cell_type": "markdown",
   "id": "cd2accff-ad28-4eee-8ecc-df3c611c7e1a",
   "metadata": {},
   "source": [
    "![image.png](attachment:a634ed45-30dc-4ae4-82f6-bdd313e620a4.png)"
   ]
  },
  {
   "cell_type": "markdown",
   "id": "036698f7-5f83-4fd4-b798-da058c0d4765",
   "metadata": {},
   "source": [
    "## Задания для закрепления\n",
    "#### Какой результат будет выведен при выполнении следующего кода?\n"
   ]
  },
  {
   "cell_type": "code",
   "execution_count": 25,
   "id": "b730cc4b-1657-4dbb-a534-48138cffd604",
   "metadata": {},
   "outputs": [
    {
     "name": "stdout",
     "output_type": "stream",
     "text": [
      "[5, 6, 6]\n"
     ]
    }
   ],
   "source": [
    "words = [\"apple\", \"banana\", \"cherry\"]\n",
    "lengths = map(len, words)\n",
    "print(list(lengths))\n"
   ]
  },
  {
   "cell_type": "markdown",
   "id": "337bda87-cf3d-4dbb-b1e2-9e140ff4be51",
   "metadata": {},
   "source": [
    "#### Какой результат будет выведен при выполнении следующего кода?\n"
   ]
  },
  {
   "cell_type": "code",
   "execution_count": 26,
   "id": "04229cae-bcf5-4971-a910-461e88a8193e",
   "metadata": {},
   "outputs": [
    {
     "name": "stdout",
     "output_type": "stream",
     "text": [
      "[5, 3, 1, 5]\n"
     ]
    }
   ],
   "source": [
    "numbers = [5, 3, 4, 1, 5, 2]\n",
    "filtered = filter(lambda x: x % 2 == 1, numbers)\n",
    "print(list(filtered))\n"
   ]
  },
  {
   "cell_type": "markdown",
   "id": "11dd3b6b-436e-4c20-bcad-a8f8938cd3bb",
   "metadata": {},
   "source": [
    "#### Какой результат будет выведен при выполнении следующего кода?\n"
   ]
  },
  {
   "cell_type": "code",
   "execution_count": 28,
   "id": "c99bdc1c-13df-41e8-84ab-68f3d019ca62",
   "metadata": {},
   "outputs": [
    {
     "name": "stdout",
     "output_type": "stream",
     "text": [
      "10\n"
     ]
    }
   ],
   "source": [
    "from functools import reduce\n",
    "\n",
    "numbers = [1, 2, 3, 4]\n",
    "result = reduce(lambda x, y: x + y, numbers)\n",
    "print(result)\n"
   ]
  },
  {
   "cell_type": "markdown",
   "id": "4844b7bc-590f-40ef-90e6-74c24b3762c5",
   "metadata": {},
   "source": [
    "## Функции any и all\n",
    "`any` и `all` — это встроенные функции, предназначенные для работы с итерируемыми объектами. Они позволяют быстро проверить наличие истинных или ложных элементов в коллекции, не используя сложные циклы.\n",
    "Ложные и истинные значения:  \n",
    "* Ложные значения: 0, None, False, пустые коллекции ([], {}, (), set()).\n",
    "* Истинные значения: Всё, что не считается ложным.\n"
   ]
  },
  {
   "cell_type": "markdown",
   "id": "0473dbbc-3754-48ab-aed2-ab048786c087",
   "metadata": {},
   "source": [
    "### Функция any\n",
    "Функция any проверяет, содержит ли итерируемый объект хотя бы один истинный элемент.  \n",
    "***Синтаксис:***  \n",
    "`any(iterable)`\n",
    "\n",
    "* iterable — итерируемый объект (список, кортеж, строка, множество, словарь и т.д.), элементы которого нужно проверить.  \n",
    "***Особенности:***  \n",
    "* Возвращает True, если хотя бы один элемент в итерируемом объекте является истинным.\n",
    "* Если все элементы ложные, возвращает False.\n",
    "* Если объект пустой, возвращает False.\n",
    "* Выполняет проверку поэлементно и останавливается, как только находит истинное значение (ленивое вычисление).\n"
   ]
  },
  {
   "cell_type": "code",
   "execution_count": 31,
   "id": "4558263a-7322-40ee-bf86-a81b7ba805ce",
   "metadata": {},
   "outputs": [
    {
     "name": "stdout",
     "output_type": "stream",
     "text": [
      "True\n",
      "False\n",
      "False\n"
     ]
    }
   ],
   "source": [
    "data = [0, None, False, 1]\n",
    "print(any(data))  # 1 — истинное значение\n",
    "\n",
    "data = [0, None, False]\n",
    "print(any(data))  # Все элементы ложные\n",
    "\n",
    "data = []\n",
    "print(any(data))  # Пустой объект\n"
   ]
  },
  {
   "cell_type": "markdown",
   "id": "0013d078-dd90-4b98-b4b8-c3cd121d623d",
   "metadata": {},
   "source": [
    "### Функция all\n",
    "Функция all проверяет, являются ли все элементы итерируемого объекта истинными.  \n",
    "***Синтаксис:***  \n",
    "`all(iterable)`  \n",
    "\n",
    "* iterable — итерируемый объект, элементы которого нужно проверить.\n",
    "   \n",
    "***Особенности:***   \n",
    "* Возвращает True, если все элементы в итерируемом объекте истинные.\n",
    "* Если хотя бы один элемент ложный, возвращается False.\n",
    "* Возвращает True для пустого объекта, так как нет элементов, которые можно было бы считать ложными.\n",
    "* Выполняет проверку поэлементно и останавливается, как только находит ложное значение.\n"
   ]
  },
  {
   "cell_type": "code",
   "execution_count": 32,
   "id": "532459be-c8a8-4d50-9f18-12f0da02c957",
   "metadata": {},
   "outputs": [
    {
     "name": "stdout",
     "output_type": "stream",
     "text": [
      "True\n",
      "False\n",
      "True\n"
     ]
    }
   ],
   "source": [
    "data = [1, 2, 3]\n",
    "print(all(data))  # Все элементы истинные\n",
    "\n",
    "data = [1, 0, 3]\n",
    "print(all(data))  # 0 — ложное значение\n",
    "\n",
    "data = []\n",
    "print(all(data))  # Пустой объект\n"
   ]
  },
  {
   "cell_type": "markdown",
   "id": "2774ee83-c1e7-400a-8f74-51b56865c1c3",
   "metadata": {},
   "source": [
    "### Сравнение any и all\n"
   ]
  },
  {
   "attachments": {
    "4b642d76-ec58-45d8-aee2-d0c81c97f9ba.png": {
     "image/png": "[encoded data removed]"
    }
   },
   "cell_type": "markdown",
   "id": "f1e4aa71-0526-45c4-89b9-68e2b20b272c",
   "metadata": {},
   "source": [
    "![image.png](attachment:4b642d76-ec58-45d8-aee2-d0c81c97f9ba.png)ния истинные.\r\n"
   ]
  },
  {
   "cell_type": "code",
   "execution_count": 33,
   "id": "78f201ee-a969-4f68-9eed-49274975bc47",
   "metadata": {},
   "outputs": [
    {
     "name": "stdout",
     "output_type": "stream",
     "text": [
      "True\n",
      "True\n"
     ]
    }
   ],
   "source": [
    "# Проверка, что хотя бы один объект соответствует условию\n",
    "conditions = [x > 10 for x in [5, 20, 8]]\n",
    "print(any(conditions))\n",
    "\n",
    "# Проверка, что все объекты соответствуют условию\n",
    "conditions = [x > 0 for x in [5, 20, 8]]\n",
    "print(all(conditions))\n"
   ]
  },
  {
   "cell_type": "code",
   "execution_count": 34,
   "id": "81a55aee-407a-48e2-b764-db6b885fc73b",
   "metadata": {},
   "outputs": [
    {
     "name": "stdout",
     "output_type": "stream",
     "text": [
      "False\n"
     ]
    }
   ],
   "source": [
    "#1. Что произойдёт, если передать в функцию any пустой список?\n",
    "data = []\n",
    "print(any(data))\n"
   ]
  },
  {
   "cell_type": "code",
   "execution_count": null,
   "id": "8e421e5a-3a9d-4958-b06b-b9fc1739b4df",
   "metadata": {},
   "outputs": [],
   "source": [
    "bool([])"
   ]
  },
  {
   "cell_type": "code",
   "execution_count": 35,
   "id": "b2b0a7b0-1330-4aa8-a913-c4be7c656946",
   "metadata": {},
   "outputs": [
    {
     "name": "stdout",
     "output_type": "stream",
     "text": [
      "True\n"
     ]
    }
   ],
   "source": [
    "#2. Какой результат будет выведен при выполнении следующего кода?\n",
    "data = [1, 2, 3, \"None\"]\n",
    "print(all(data))\n"
   ]
  },
  {
   "cell_type": "markdown",
   "id": "d93f4ae8-e743-4d5c-9507-3ec4fcadf01d",
   "metadata": {},
   "source": [
    "## Функция как ключ в sorted, min, max\n",
    "В Python функции sorted(), min() и max() принимают необязательный параметр key, который определяет, по какому критерию выполнять сортировку или поиск минимального/максимального значения.  \n",
    "***В параметр key можно передавать не только встроенные функции (например, len, abs), но и пользовательские функции, созданные с помощью def или lambda.***  \n",
    "### Параметр key в sorted()  \n",
    "Функция `sorted(iterable, key=function)` сортирует элементы по значению, которое возвращает переданная функция.  \n",
    "***Синтаксис:***  \n",
    "`sorted(iterable, key=function, reverse=False)`\n"
   ]
  },
  {
   "cell_type": "code",
   "execution_count": 36,
   "id": "829e760e-a91d-4955-b5b2-df96f4de73ea",
   "metadata": {},
   "outputs": [
    {
     "name": "stdout",
     "output_type": "stream",
     "text": [
      "['kiwi', 'mango', 'grape', 'apple', 'banana', 'pineapple', 'blueberry', 'strawberry']\n"
     ]
    }
   ],
   "source": [
    "#Пример: Встроенная функция\n",
    "words = ['mango', 'grape', 'apple', 'strawberry', 'banana', 'pineapple', 'kiwi', 'blueberry']\n",
    "# Сортировка по длине слов\n",
    "result = sorted(words, key=len)\n",
    "print(result)\n"
   ]
  },
  {
   "cell_type": "code",
   "execution_count": 41,
   "id": "3d7cf062-f238-4b12-bde7-9a04329705d7",
   "metadata": {},
   "outputs": [
    {
     "name": "stdout",
     "output_type": "stream",
     "text": [
      "['banana', 'grape', 'apple', 'pineapple', 'kiwi', 'mango', 'blueberry', 'strawberry']\n"
     ]
    }
   ],
   "source": [
    "#Пример: Пользовательская функция\n",
    "def last_char_len(s):\n",
    "    return s[-1], len(s)\n",
    "\n",
    "words = ['mango', 'grape', 'apple', 'strawberry', 'banana', 'pineapple', 'kiwi', 'blueberry']\n",
    "# Сортировка по последнему символу и длине (последовательно)\n",
    "result = sorted(words, key=last_char_len)\n",
    "print(result)\n"
   ]
  },
  {
   "cell_type": "code",
   "execution_count": 42,
   "id": "ccf43550-100a-496b-b6a2-f3f199c6c066",
   "metadata": {},
   "outputs": [
    {
     "name": "stdout",
     "output_type": "stream",
     "text": [
      "['apple', 'Banana', 'blueberry', 'grape', 'kiwi', 'mango', 'pineapple', 'Strawberry']\n"
     ]
    }
   ],
   "source": [
    "#Пример: Анонимная функция lambda\n",
    "words = ['mango', 'grape', 'apple', 'Strawberry', 'Banana', 'pineapple', 'kiwi', 'blueberry']\n",
    "# Сортировка по первому символу (игнорируя регистр) и по последнему символу\n",
    "result = sorted(words, key=lambda x: (x[0].lower(), x[-1]))\n",
    "print(result)\n"
   ]
  },
  {
   "cell_type": "code",
   "execution_count": 46,
   "id": "63e6fba8-df9c-4829-a1a6-c66fbc824ee0",
   "metadata": {},
   "outputs": [
    {
     "name": "stdout",
     "output_type": "stream",
     "text": [
      "[('Bob', 20), ('Charlie', 23), ('Alice', 25)]\n"
     ]
    }
   ],
   "source": [
    "#Пример: Сортировка списка кортежей\n",
    "students = [(\"Alice\", 25), (\"Bob\", 20), (\"Charlie\", 23)]\n",
    "# Сортировка списка кортежей по второму элементу\n",
    "sorted_students = sorted(students, key=lambda x: x[1])\n",
    "print(sorted_students)\n"
   ]
  },
  {
   "cell_type": "code",
   "execution_count": 47,
   "id": "165774ed-5ce8-48ce-8697-1e7105c44503",
   "metadata": {},
   "outputs": [
    {
     "name": "stdout",
     "output_type": "stream",
     "text": [
      "[('Bob', 20), ('Charlie', 23), ('Alice', 25)]\n"
     ]
    }
   ],
   "source": [
    "def foo(x):\n",
    "    return x[1]\n",
    "\n",
    "#Пример: Сортировка списка кортежей\n",
    "students = [(\"Alice\", 25), (\"Bob\", 20), (\"Charlie\", 23)]\n",
    "# Сортировка списка кортежей по второму элементу\n",
    "sorted_students = sorted(students, key=foo)\n",
    "print(sorted_students)\n"
   ]
  },
  {
   "cell_type": "code",
   "execution_count": null,
   "id": "3545b2e7-5330-49d3-b051-7befb76ea1a5",
   "metadata": {},
   "outputs": [],
   "source": []
  },
  {
   "cell_type": "markdown",
   "id": "8807558a-837a-40e3-b4a0-5558254b0d86",
   "metadata": {},
   "source": [
    "## Параметр key в min max()\n",
    "Функции min() и max() с параметром key позволяют находить минимальный или максимальный элемент на основе вычисленного значения.  \n",
    "***Синтаксис:***  \n",
    "`min(iterable, key=function)`   \n",
    "`max(iterable, key=function)`\n"
   ]
  },
  {
   "cell_type": "code",
   "execution_count": 48,
   "id": "481a24e0-4a94-4cce-a679-e833c785d806",
   "metadata": {},
   "outputs": [
    {
     "name": "stdout",
     "output_type": "stream",
     "text": [
      "grapefruit\n"
     ]
    }
   ],
   "source": [
    "#Пример: Поиск самого длинного слова\n",
    "words = [\"apple\", \"banana\", \"kiwi\", \"grapefruit\"]\n",
    "longest_word = max(words, key=len)\n",
    "print(longest_word)\n"
   ]
  },
  {
   "cell_type": "code",
   "execution_count": 49,
   "id": "c4637c41-efce-4063-9f54-38c4222f719b",
   "metadata": {},
   "outputs": [
    {
     "name": "stdout",
     "output_type": "stream",
     "text": [
      "('Chicago', 2716000)\n"
     ]
    }
   ],
   "source": [
    "#Пример: Поиск города с минимальным населением\n",
    "cities = [('New York', 8419600), ('Los Angeles', 3980400), ('Chicago', 2716000)]\n",
    "smallest_city = min(cities, key=lambda x: x[1])\n",
    "print(smallest_city)\n"
   ]
  },
  {
   "cell_type": "markdown",
   "id": "5c72f9a0-ed4e-4c46-a6bd-51749203d96d",
   "metadata": {},
   "source": [
    "# Практические задания  \n",
    "1. Ввод списка чисел одной строкой  \n",
    "Напишите программу, которая принимает от пользователя строку целых чисел, разделенных пробелом, и суммирует эти числа.  \n",
    "\n",
    "Пример ввода:  \n",
    "Введите список целых чисел через пробел: 45 7 1 9 -4  \n",
    "Пример вывода:  \n",
    "Сумма чисел: 58\n"
   ]
  },
  {
   "cell_type": "code",
   "execution_count": 51,
   "id": "939e12da-0afd-47b4-85e9-e8e9c52a8515",
   "metadata": {},
   "outputs": [
    {
     "name": "stdin",
     "output_type": "stream",
     "text": [
      "Введите список целых чисел через пробел:  1 2 3\n"
     ]
    },
    {
     "name": "stdout",
     "output_type": "stream",
     "text": [
      "Сумма чисел: 6\n"
     ]
    }
   ],
   "source": [
    "strings_list = input(\"Введите список целых чисел через пробел: \").split()\n",
    "numbers_map = map(int, strings_list)\n",
    "print(f\"Сумма чисел: {sum(numbers_map)}\")"
   ]
  },
  {
   "cell_type": "code",
   "execution_count": 50,
   "id": "adf84e70-33e3-4e4f-9834-169a1059d2f8",
   "metadata": {},
   "outputs": [
    {
     "name": "stdin",
     "output_type": "stream",
     "text": [
      "Введите список целых чисел через пробел:  1 2 3\n"
     ]
    },
    {
     "name": "stdout",
     "output_type": "stream",
     "text": [
      "Сумма чисел: 6\n"
     ]
    }
   ],
   "source": [
    "print(f\"Сумма чисел: {sum(map(int,input(\"Введите список целых чисел через пробел: \").split()))}\")"
   ]
  },
  {
   "cell_type": "markdown",
   "id": "99e1c324-b389-4bcb-be83-8cc0b3db2edc",
   "metadata": {},
   "source": [
    "2. Данные о сотрудниках  \n",
    "У вас есть список сотрудников с их возрастами и зарплатами.  \n",
    "Напишите программу, которая:  \n",
    "Фильтрует сотрудников старше 30 лет.  \n",
    "Увеличивает зарплату отфильтрованных сотрудников на 20%.  \n",
    "Возвращает обновлённый список сотрудников.  \n",
    "Данные:  \n",
    "```\n",
    "employees = [\n",
    "    {\"name\": \"Alice\", \"age\": 25, \"salary\": 50000},\n",
    "    {\"name\": \"Bob\", \"age\": 35, \"salary\": 60000},\n",
    "    {\"name\": \"Charlie\", \"age\": 40, \"salary\": 70000},\n",
    "    {\"name\": \"Diana\", \"age\": 28, \"salary\": 55000},\n",
    "    {\"name\": \"Eve\", \"age\": 45, \"salary\": 80000}\n",
    "]\n",
    "```\n",
    "\n",
    "\n",
    "\n",
    "Пример вывода:  \n",
    "`[{'name': 'Bob', 'age': 35, 'salary': 72000.0}, {'name': 'Charlie', 'age': 40, 'salary': 84000.0}, {'name': 'Eve', 'age': 45, 'salary': 96000.0}]`\n",
    "\n",
    "\n"
   ]
  },
  {
   "cell_type": "code",
   "execution_count": 52,
   "id": "f79a410c-d28c-43a7-9618-edbf39366220",
   "metadata": {},
   "outputs": [
    {
     "name": "stdout",
     "output_type": "stream",
     "text": [
      "[{'name': 'Bob', 'age': 35, 'salary': 72000.0}, {'name': 'Charlie', 'age': 40, 'salary': 84000.0}, {'name': 'Eve', 'age': 45, 'salary': 96000.0}]\n"
     ]
    }
   ],
   "source": [
    "def raise_salary(emp):\n",
    "    emp[\"salary\"] = emp[\"salary\"] * 1.2\n",
    "    return emp\n",
    "\n",
    "\n",
    "def process_employees(employees):\n",
    "    # Шаг 1: Фильтрация сотрудников старше 30 лет\n",
    "    filtered = filter(lambda emp: emp[\"age\"] > 30, employees)\n",
    "    # Шаг 2: Увеличение зарплаты на 20%\n",
    "    updated = map(raise_salary, filtered)\n",
    "    return list(updated)\n",
    "\n",
    "\n",
    "\n",
    "\n",
    "employees = [\n",
    "    {\"name\": \"Alice\", \"age\": 25, \"salary\": 50000},\n",
    "    {\"name\": \"Bob\", \"age\": 35, \"salary\": 60000},\n",
    "    {\"name\": \"Charlie\", \"age\": 40, \"salary\": 70000},\n",
    "    {\"name\": \"Diana\", \"age\": 28, \"salary\": 55000},\n",
    "    {\"name\": \"Eve\", \"age\": 45, \"salary\": 80000}\n",
    "]\n",
    "\n",
    "\n",
    "result = process_employees(employees)\n",
    "print(result)\n"
   ]
  },
  {
   "cell_type": "code",
   "execution_count": null,
   "id": "672c0c0e-e5a3-4348-aca9-e0a8103e7b6e",
   "metadata": {},
   "outputs": [],
   "source": []
  }
 ],
 "metadata": {
  "kernelspec": {
   "display_name": "Python 3 (ipykernel)",
   "language": "python",
   "name": "python3"
  },
  "language_info": {
   "codemirror_mode": {
    "name": "ipython",
    "version": 3
   },
   "file_extension": ".py",
   "mimetype": "text/x-python",
   "name": "python",
   "nbconvert_exporter": "python",
   "pygments_lexer": "ipython3",
   "version": "3.12.4"
  }
 },
 "nbformat": 4,
 "nbformat_minor": 5
}
