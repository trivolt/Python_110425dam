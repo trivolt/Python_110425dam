{
 "cells": [
  {
   "cell_type": "code",
   "execution_count": null,
   "id": "a5010f56-68c7-40a9-a8ce-1136185fbaaa",
   "metadata": {},
   "outputs": [],
   "source": []
  },
  {
   "cell_type": "code",
   "execution_count": null,
   "id": "9a90996b-b7da-41b3-95e5-dee190e5efe6",
   "metadata": {},
   "outputs": [],
   "source": []
  },
  {
   "cell_type": "code",
   "execution_count": null,
   "id": "661b90a1-2880-4fe4-aec1-00226c91d842",
   "metadata": {},
   "outputs": [],
   "source": []
  },
  {
   "cell_type": "code",
   "execution_count": null,
   "id": "35249192-0eee-4935-a8f3-1e89e6d272b5",
   "metadata": {},
   "outputs": [],
   "source": []
  },
  {
   "cell_type": "markdown",
   "id": "5c9e8e2d-053f-44ca-b8c0-8dd28be3a207",
   "metadata": {},
   "source": [
    "# Домашнее задание 19"
   ]
  },
  {
   "cell_type": "markdown",
   "id": "27f72af2-a2a8-4d5e-bedd-7ed854dc1825",
   "metadata": {},
   "source": [
    "1. ***Реверс словаря***  \n",
    "Напишите программу, которая меняет местами ключи и значения в словаре. Если значения повторяются, добавьте их ключи в список.  \n",
    "Данные:  \n",
    "`data = {\"a\": 1, \"b\": 2, \"c\": 1, \"d\": 3}`  \n",
    "\n",
    "Пример вывода:  \n",
    "Перевернутый словарь: `{1: ['a', 'c'], 2: ['b'], 3: ['d']}`\n"
   ]
  },
  {
   "cell_type": "code",
   "execution_count": 4,
   "id": "c6797402-8eed-45f1-8022-c0324a8411fe",
   "metadata": {},
   "outputs": [
    {
     "name": "stdout",
     "output_type": "stream",
     "text": [
      "Перевернутый словарь: {1: ['a', 'c'], 2: ['b'], 3: ['d']}\n"
     ]
    }
   ],
   "source": [
    "data = {\"a\": 1, \"b\": 2, \"c\": 1, \"d\": 3}\n",
    "\n",
    "reversed_dict = {}\n",
    "\n",
    "for key, value in data.items():\n",
    "    if value not in reversed_dict:\n",
    "        reversed_dict[value] = [key]\n",
    "    else:\n",
    "        reversed_dict[value].append(key)\n",
    "\n",
    "print(\"Перевернутый словарь:\", reversed_dict)"
   ]
  },
  {
   "cell_type": "markdown",
   "id": "a92f82cd-1a2d-4bd4-a88a-b073ad3b5c90",
   "metadata": {},
   "source": [
    "2. ***Распределение студентов по группам***   \n",
    "У вас есть словарь, где ключи — имена студентов, а значения — их баллы за экзамен.  \n",
    "Необходимо распределить студентов по группам:  \n",
    "\"Отличники\": баллы >= 85  \n",
    "\"Хорошисты\": баллы от 70 до 84  \n",
    "\"Троечники\": баллы от 50 до 69  \n",
    "\"Не сдали\": баллы < 50  \n",
    "Создайте словарь с ключами-группами и количеством студентов в группе в качестве значений.  \n",
    "Данные:  \n",
    "`students = {\"Аня\": 92, \"Боря\": 76, \"Ваня\": 65, \"Галя\": 48, \"Дима\": 88, \"Ева\": 54}`  \n",
    "`groups = [\"Отличники\", \"Хорошисты\", \"Троечники\", \"Не сдали\"]`  \n",
    "\n",
    "Пример вывода:  \n",
    "Распределение по группам:  \n",
    "`{'Отличники': 2, 'Хорошисты': 1, 'Троечники': 2, 'Не сдали': 1}`  \n"
   ]
  },
  {
   "cell_type": "code",
   "execution_count": 5,
   "id": "f3ba895c-2f60-41e7-bf71-31f3e359d512",
   "metadata": {},
   "outputs": [
    {
     "name": "stdout",
     "output_type": "stream",
     "text": [
      "Распределение по группам:\n",
      "{'Отличники': 2, 'Хорошисты': 1, 'Троечники': 2, 'Не сдали': 1}\n"
     ]
    }
   ],
   "source": [
    "students = {\"Аня\": 92, \"Боря\": 76, \"Ваня\": 65, \"Галя\": 48, \"Дима\": 88, \"Ева\": 54}\n",
    "groups = [\"Отличники\", \"Хорошисты\", \"Троечники\", \"Не сдали\"]\n",
    "student_groups = dict.fromkeys(groups, 0)\n",
    "\n",
    "\n",
    "for name, score in students.items():\n",
    "    if score >= 85:\n",
    "        group_name = \"Отличники\"\n",
    "    elif 70 <= score < 85:\n",
    "        group_name = \"Хорошисты\"\n",
    "    elif 50 <= score < 70:\n",
    "        group_name = \"Троечники\"\n",
    "    else:\n",
    "        group_name = \"Не сдали\"\n",
    "    student_groups[group_name] += 1\n",
    "\n",
    "\n",
    "print(\"Распределение по группам:\")\n",
    "print(student_groups)"
   ]
  },
  {
   "cell_type": "code",
   "execution_count": null,
   "id": "f524bcd1-5838-477b-88bb-b9752e3d9743",
   "metadata": {},
   "outputs": [],
   "source": []
  },
  {
   "cell_type": "markdown",
   "id": "2714e91e-df7b-4572-8663-8add04fefedc",
   "metadata": {},
   "source": [
    "# Домашнее задание 20"
   ]
  },
  {
   "cell_type": "markdown",
   "id": "e4fd98b8-39f6-4095-bf7f-49db292fa615",
   "metadata": {},
   "source": [
    "1. ***Простое число***  \n",
    "Напишите функцию, которая проверяет, является ли число n простым (делится только на 1 и само себя) и возвращает булевый результат.  \n",
    "Данные:  \n",
    "n = 17\n",
    "\n",
    "Пример вывода:  \n",
    "Число 17 является простым  \n"
   ]
  },
  {
   "cell_type": "code",
   "execution_count": 6,
   "id": "b46723cd-be7f-469f-8be1-069d3de0be60",
   "metadata": {},
   "outputs": [
    {
     "name": "stdin",
     "output_type": "stream",
     "text": [
      " 4\n"
     ]
    },
    {
     "name": "stdout",
     "output_type": "stream",
     "text": [
      "False\n"
     ]
    }
   ],
   "source": [
    "def simple_num(num):\n",
    "    for i in range(2,num):\n",
    "        if num % i == 0:\n",
    "            return False\n",
    "    return True\n",
    "\n",
    "\n",
    "num = int(input())\n",
    "print(simple_num(num))"
   ]
  },
  {
   "cell_type": "markdown",
   "id": "a0e8c637-442a-494a-88c4-8b26bcc6d6c8",
   "metadata": {},
   "source": [
    "2. ***Фильтрация чисел по чётности***  \n",
    "Напишите функцию, которая принимает filter_type (\"even\" или \"odd\") и произвольное количество чисел, возвращая только те, которые соответствуют фильтру.\n",
    "Пример вызова:  \n",
    "`print(filter_numbers(\"even\", 1, 2, 3, 4, 5, 6))`  \n",
    "`print(filter_numbers(\"odd\", 10, 15, 20, 25))`  \n",
    "`print(filter_numbers(\"prime\", 2, 3, 5, 7))`  \n",
    "\n",
    "Пример вывода:  \n",
    "`[2, 4, 6]`  \n",
    "`[15, 25]`  \n",
    "Некорректный фильтр\n"
   ]
  },
  {
   "cell_type": "code",
   "execution_count": 7,
   "id": "5c66f8b7-a04d-474a-8ec4-140dce45fbfa",
   "metadata": {},
   "outputs": [],
   "source": [
    "def filter_numbers(flag, *args):\n",
    "    if flag == 'prime':\n",
    "        return [elem  for elem in args if simple_num(elem)]\n",
    "    if flag == 'even':\n",
    "        return [elem  for elem in args if elem % 2 == 0 ]\n",
    "    if flag == 'odd':\n",
    "        return [elem  for elem in args if elem % 2 != 0 ]"
   ]
  },
  {
   "cell_type": "code",
   "execution_count": 8,
   "id": "7b977a04-3a22-427f-9bea-7eecfd96400f",
   "metadata": {},
   "outputs": [
    {
     "name": "stdout",
     "output_type": "stream",
     "text": [
      "[2, 4, 6]\n"
     ]
    }
   ],
   "source": [
    "print(filter_numbers(\"even\", 1, 2, 3, 4, 5, 6))"
   ]
  },
  {
   "cell_type": "code",
   "execution_count": 10,
   "id": "c74f85ac-6099-413c-b7e4-014ab4006a78",
   "metadata": {},
   "outputs": [
    {
     "name": "stdout",
     "output_type": "stream",
     "text": [
      "[2, 3, 5, 7]\n"
     ]
    }
   ],
   "source": [
    "print(filter_numbers(\"prime\", 2, 3, 5, 7))"
   ]
  },
  {
   "cell_type": "code",
   "execution_count": 11,
   "id": "aeafb2e6-b293-4286-b3d7-60d1818cee58",
   "metadata": {},
   "outputs": [
    {
     "name": "stdout",
     "output_type": "stream",
     "text": [
      "[15, 25]\n"
     ]
    }
   ],
   "source": [
    "print(filter_numbers(\"odd\", 10, 15, 20, 25))"
   ]
  },
  {
   "cell_type": "code",
   "execution_count": null,
   "id": "f3372a23-4993-4960-a77b-81651ca78384",
   "metadata": {},
   "outputs": [],
   "source": []
  },
  {
   "cell_type": "markdown",
   "id": "aefeee35-e23a-49ef-8cc2-263b31c376b9",
   "metadata": {},
   "source": [
    "3. ***Объединение словарей***   \n",
    "Напишите функцию, которая принимает любое количество словарей и объединяет их в один. Если ключи повторяются, используется значение из последнего словаря.  \n",
    "Данные:   \n",
    "`dict1 = {\"a\": 1, \"b\": 2}`  \n",
    "`dict2 = {\"b\": 3, \"c\": 4}`  \n",
    "`dict3 = {\"d\": 5}`  \n",
    "\n",
    "Пример вызова:  \n",
    "`print(merge_dicts(dict1, dict2, dict3))`\n"
   ]
  },
  {
   "cell_type": "code",
   "execution_count": 1,
   "id": "2f78fbd7-c89d-4934-a735-c5f226d36026",
   "metadata": {},
   "outputs": [
    {
     "name": "stdout",
     "output_type": "stream",
     "text": [
      "{'a': 1, 'b': 3, 'c': 4, 'd': 5}\n"
     ]
    }
   ],
   "source": [
    "def merge_dicts(*dicts):\n",
    "    merged = {}\n",
    "    for d in dicts:\n",
    "        merged.update(d)\n",
    "    return merged\n",
    "\n",
    "dict1 = {\"a\": 1, \"b\": 2}\n",
    "dict2 = {\"b\": 3, \"c\": 4}\n",
    "dict3 = {\"d\": 5}\n",
    "\n",
    "print(merge_dicts(dict1, dict2, dict3))"
   ]
  },
  {
   "cell_type": "code",
   "execution_count": null,
   "id": "d02f2b6c-3134-4d06-a179-314a227aa6e5",
   "metadata": {},
   "outputs": [],
   "source": []
  }
 ],
 "metadata": {
  "kernelspec": {
   "display_name": "Python 3 (ipykernel)",
   "language": "python",
   "name": "python3"
  },
  "language_info": {
   "codemirror_mode": {
    "name": "ipython",
    "version": 3
   },
   "file_extension": ".py",
   "mimetype": "text/x-python",
   "name": "python",
   "nbconvert_exporter": "python",
   "pygments_lexer": "ipython3",
   "version": "3.12.4"
  }
 },
 "nbformat": 4,
 "nbformat_minor": 5
}
